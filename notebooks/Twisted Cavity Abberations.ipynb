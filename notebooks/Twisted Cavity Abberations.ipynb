{
 "cells": [
  {
   "cell_type": "code",
   "execution_count": 1,
   "metadata": {},
   "outputs": [
    {
     "ename": "ModuleNotFoundError",
     "evalue": "No module named 'line_profiler'",
     "output_type": "error",
     "traceback": [
      "\u001b[1;31m---------------------------------------------------------------------------\u001b[0m",
      "\u001b[1;31mModuleNotFoundError\u001b[0m                       Traceback (most recent call last)",
      "\u001b[1;32m<ipython-input-1-df8a33df4eaf>\u001b[0m in \u001b[0;36m<module>\u001b[1;34m\u001b[0m\n\u001b[1;32m----> 1\u001b[1;33m \u001b[0mget_ipython\u001b[0m\u001b[1;33m(\u001b[0m\u001b[1;33m)\u001b[0m\u001b[1;33m.\u001b[0m\u001b[0mrun_line_magic\u001b[0m\u001b[1;33m(\u001b[0m\u001b[1;34m'load_ext'\u001b[0m\u001b[1;33m,\u001b[0m \u001b[1;34m'line_profiler'\u001b[0m\u001b[1;33m)\u001b[0m\u001b[1;33m\u001b[0m\u001b[1;33m\u001b[0m\u001b[0m\n\u001b[0m",
      "\u001b[1;32mC:\\ProgramData\\Anaconda3\\lib\\site-packages\\IPython\\core\\interactiveshell.py\u001b[0m in \u001b[0;36mrun_line_magic\u001b[1;34m(self, magic_name, line, _stack_depth)\u001b[0m\n\u001b[0;32m   2315\u001b[0m                 \u001b[0mkwargs\u001b[0m\u001b[1;33m[\u001b[0m\u001b[1;34m'local_ns'\u001b[0m\u001b[1;33m]\u001b[0m \u001b[1;33m=\u001b[0m \u001b[0msys\u001b[0m\u001b[1;33m.\u001b[0m\u001b[0m_getframe\u001b[0m\u001b[1;33m(\u001b[0m\u001b[0mstack_depth\u001b[0m\u001b[1;33m)\u001b[0m\u001b[1;33m.\u001b[0m\u001b[0mf_locals\u001b[0m\u001b[1;33m\u001b[0m\u001b[1;33m\u001b[0m\u001b[0m\n\u001b[0;32m   2316\u001b[0m             \u001b[1;32mwith\u001b[0m \u001b[0mself\u001b[0m\u001b[1;33m.\u001b[0m\u001b[0mbuiltin_trap\u001b[0m\u001b[1;33m:\u001b[0m\u001b[1;33m\u001b[0m\u001b[1;33m\u001b[0m\u001b[0m\n\u001b[1;32m-> 2317\u001b[1;33m                 \u001b[0mresult\u001b[0m \u001b[1;33m=\u001b[0m \u001b[0mfn\u001b[0m\u001b[1;33m(\u001b[0m\u001b[1;33m*\u001b[0m\u001b[0margs\u001b[0m\u001b[1;33m,\u001b[0m \u001b[1;33m**\u001b[0m\u001b[0mkwargs\u001b[0m\u001b[1;33m)\u001b[0m\u001b[1;33m\u001b[0m\u001b[1;33m\u001b[0m\u001b[0m\n\u001b[0m\u001b[0;32m   2318\u001b[0m             \u001b[1;32mreturn\u001b[0m \u001b[0mresult\u001b[0m\u001b[1;33m\u001b[0m\u001b[1;33m\u001b[0m\u001b[0m\n\u001b[0;32m   2319\u001b[0m \u001b[1;33m\u001b[0m\u001b[0m\n",
      "\u001b[1;32m<decorator-gen-65>\u001b[0m in \u001b[0;36mload_ext\u001b[1;34m(self, module_str)\u001b[0m\n",
      "\u001b[1;32mC:\\ProgramData\\Anaconda3\\lib\\site-packages\\IPython\\core\\magic.py\u001b[0m in \u001b[0;36m<lambda>\u001b[1;34m(f, *a, **k)\u001b[0m\n\u001b[0;32m    185\u001b[0m     \u001b[1;31m# but it's overkill for just that one bit of state.\u001b[0m\u001b[1;33m\u001b[0m\u001b[1;33m\u001b[0m\u001b[1;33m\u001b[0m\u001b[0m\n\u001b[0;32m    186\u001b[0m     \u001b[1;32mdef\u001b[0m \u001b[0mmagic_deco\u001b[0m\u001b[1;33m(\u001b[0m\u001b[0marg\u001b[0m\u001b[1;33m)\u001b[0m\u001b[1;33m:\u001b[0m\u001b[1;33m\u001b[0m\u001b[1;33m\u001b[0m\u001b[0m\n\u001b[1;32m--> 187\u001b[1;33m         \u001b[0mcall\u001b[0m \u001b[1;33m=\u001b[0m \u001b[1;32mlambda\u001b[0m \u001b[0mf\u001b[0m\u001b[1;33m,\u001b[0m \u001b[1;33m*\u001b[0m\u001b[0ma\u001b[0m\u001b[1;33m,\u001b[0m \u001b[1;33m**\u001b[0m\u001b[0mk\u001b[0m\u001b[1;33m:\u001b[0m \u001b[0mf\u001b[0m\u001b[1;33m(\u001b[0m\u001b[1;33m*\u001b[0m\u001b[0ma\u001b[0m\u001b[1;33m,\u001b[0m \u001b[1;33m**\u001b[0m\u001b[0mk\u001b[0m\u001b[1;33m)\u001b[0m\u001b[1;33m\u001b[0m\u001b[1;33m\u001b[0m\u001b[0m\n\u001b[0m\u001b[0;32m    188\u001b[0m \u001b[1;33m\u001b[0m\u001b[0m\n\u001b[0;32m    189\u001b[0m         \u001b[1;32mif\u001b[0m \u001b[0mcallable\u001b[0m\u001b[1;33m(\u001b[0m\u001b[0marg\u001b[0m\u001b[1;33m)\u001b[0m\u001b[1;33m:\u001b[0m\u001b[1;33m\u001b[0m\u001b[1;33m\u001b[0m\u001b[0m\n",
      "\u001b[1;32mC:\\ProgramData\\Anaconda3\\lib\\site-packages\\IPython\\core\\magics\\extension.py\u001b[0m in \u001b[0;36mload_ext\u001b[1;34m(self, module_str)\u001b[0m\n\u001b[0;32m     31\u001b[0m         \u001b[1;32mif\u001b[0m \u001b[1;32mnot\u001b[0m \u001b[0mmodule_str\u001b[0m\u001b[1;33m:\u001b[0m\u001b[1;33m\u001b[0m\u001b[1;33m\u001b[0m\u001b[0m\n\u001b[0;32m     32\u001b[0m             \u001b[1;32mraise\u001b[0m \u001b[0mUsageError\u001b[0m\u001b[1;33m(\u001b[0m\u001b[1;34m'Missing module name.'\u001b[0m\u001b[1;33m)\u001b[0m\u001b[1;33m\u001b[0m\u001b[1;33m\u001b[0m\u001b[0m\n\u001b[1;32m---> 33\u001b[1;33m         \u001b[0mres\u001b[0m \u001b[1;33m=\u001b[0m \u001b[0mself\u001b[0m\u001b[1;33m.\u001b[0m\u001b[0mshell\u001b[0m\u001b[1;33m.\u001b[0m\u001b[0mextension_manager\u001b[0m\u001b[1;33m.\u001b[0m\u001b[0mload_extension\u001b[0m\u001b[1;33m(\u001b[0m\u001b[0mmodule_str\u001b[0m\u001b[1;33m)\u001b[0m\u001b[1;33m\u001b[0m\u001b[1;33m\u001b[0m\u001b[0m\n\u001b[0m\u001b[0;32m     34\u001b[0m \u001b[1;33m\u001b[0m\u001b[0m\n\u001b[0;32m     35\u001b[0m         \u001b[1;32mif\u001b[0m \u001b[0mres\u001b[0m \u001b[1;33m==\u001b[0m \u001b[1;34m'already loaded'\u001b[0m\u001b[1;33m:\u001b[0m\u001b[1;33m\u001b[0m\u001b[1;33m\u001b[0m\u001b[0m\n",
      "\u001b[1;32mC:\\ProgramData\\Anaconda3\\lib\\site-packages\\IPython\\core\\extensions.py\u001b[0m in \u001b[0;36mload_extension\u001b[1;34m(self, module_str)\u001b[0m\n\u001b[0;32m     78\u001b[0m             \u001b[1;32mif\u001b[0m \u001b[0mmodule_str\u001b[0m \u001b[1;32mnot\u001b[0m \u001b[1;32min\u001b[0m \u001b[0msys\u001b[0m\u001b[1;33m.\u001b[0m\u001b[0mmodules\u001b[0m\u001b[1;33m:\u001b[0m\u001b[1;33m\u001b[0m\u001b[1;33m\u001b[0m\u001b[0m\n\u001b[0;32m     79\u001b[0m                 \u001b[1;32mwith\u001b[0m \u001b[0mprepended_to_syspath\u001b[0m\u001b[1;33m(\u001b[0m\u001b[0mself\u001b[0m\u001b[1;33m.\u001b[0m\u001b[0mipython_extension_dir\u001b[0m\u001b[1;33m)\u001b[0m\u001b[1;33m:\u001b[0m\u001b[1;33m\u001b[0m\u001b[1;33m\u001b[0m\u001b[0m\n\u001b[1;32m---> 80\u001b[1;33m                     \u001b[0mmod\u001b[0m \u001b[1;33m=\u001b[0m \u001b[0mimport_module\u001b[0m\u001b[1;33m(\u001b[0m\u001b[0mmodule_str\u001b[0m\u001b[1;33m)\u001b[0m\u001b[1;33m\u001b[0m\u001b[1;33m\u001b[0m\u001b[0m\n\u001b[0m\u001b[0;32m     81\u001b[0m                     \u001b[1;32mif\u001b[0m \u001b[0mmod\u001b[0m\u001b[1;33m.\u001b[0m\u001b[0m__file__\u001b[0m\u001b[1;33m.\u001b[0m\u001b[0mstartswith\u001b[0m\u001b[1;33m(\u001b[0m\u001b[0mself\u001b[0m\u001b[1;33m.\u001b[0m\u001b[0mipython_extension_dir\u001b[0m\u001b[1;33m)\u001b[0m\u001b[1;33m:\u001b[0m\u001b[1;33m\u001b[0m\u001b[1;33m\u001b[0m\u001b[0m\n\u001b[0;32m     82\u001b[0m                         print((\"Loading extensions from {dir} is deprecated. \"\n",
      "\u001b[1;32mC:\\ProgramData\\Anaconda3\\lib\\importlib\\__init__.py\u001b[0m in \u001b[0;36mimport_module\u001b[1;34m(name, package)\u001b[0m\n\u001b[0;32m    125\u001b[0m                 \u001b[1;32mbreak\u001b[0m\u001b[1;33m\u001b[0m\u001b[1;33m\u001b[0m\u001b[0m\n\u001b[0;32m    126\u001b[0m             \u001b[0mlevel\u001b[0m \u001b[1;33m+=\u001b[0m \u001b[1;36m1\u001b[0m\u001b[1;33m\u001b[0m\u001b[1;33m\u001b[0m\u001b[0m\n\u001b[1;32m--> 127\u001b[1;33m     \u001b[1;32mreturn\u001b[0m \u001b[0m_bootstrap\u001b[0m\u001b[1;33m.\u001b[0m\u001b[0m_gcd_import\u001b[0m\u001b[1;33m(\u001b[0m\u001b[0mname\u001b[0m\u001b[1;33m[\u001b[0m\u001b[0mlevel\u001b[0m\u001b[1;33m:\u001b[0m\u001b[1;33m]\u001b[0m\u001b[1;33m,\u001b[0m \u001b[0mpackage\u001b[0m\u001b[1;33m,\u001b[0m \u001b[0mlevel\u001b[0m\u001b[1;33m)\u001b[0m\u001b[1;33m\u001b[0m\u001b[1;33m\u001b[0m\u001b[0m\n\u001b[0m\u001b[0;32m    128\u001b[0m \u001b[1;33m\u001b[0m\u001b[0m\n\u001b[0;32m    129\u001b[0m \u001b[1;33m\u001b[0m\u001b[0m\n",
      "\u001b[1;32mC:\\ProgramData\\Anaconda3\\lib\\importlib\\_bootstrap.py\u001b[0m in \u001b[0;36m_gcd_import\u001b[1;34m(name, package, level)\u001b[0m\n",
      "\u001b[1;32mC:\\ProgramData\\Anaconda3\\lib\\importlib\\_bootstrap.py\u001b[0m in \u001b[0;36m_find_and_load\u001b[1;34m(name, import_)\u001b[0m\n",
      "\u001b[1;32mC:\\ProgramData\\Anaconda3\\lib\\importlib\\_bootstrap.py\u001b[0m in \u001b[0;36m_find_and_load_unlocked\u001b[1;34m(name, import_)\u001b[0m\n",
      "\u001b[1;31mModuleNotFoundError\u001b[0m: No module named 'line_profiler'"
     ]
    }
   ],
   "source": [
    "%load_ext line_profiler"
   ]
  },
  {
   "cell_type": "code",
   "execution_count": 1,
   "metadata": {},
   "outputs": [],
   "source": [
    "%matplotlib widget\n",
    "import numpy as np\n",
    "import k3d\n",
    "import matplotlib.pyplot as plt\n",
    "from functools import reduce\n",
    "from k3d.platonic import PlatonicSolid\n",
    "from itertools import product\n",
    "import qutip as qt\n",
    "from scipy.linalg import expm"
   ]
  },
  {
   "cell_type": "code",
   "execution_count": 2,
   "metadata": {},
   "outputs": [],
   "source": [
    "from k3d.platonic import PlatonicSolid\n",
    "from itertools import product\n",
    "\n",
    "class Box(PlatonicSolid):\n",
    "    def __init__(self, origin=[0, 0, 0], size=[1,1,1]):\n",
    "        origin = np.array(origin, dtype=np.float32)\n",
    "        size = np.array(size, dtype=np.float32)\n",
    "        \n",
    "        if origin.shape == (3,):\n",
    "            cube_vertices = np.array(list(product([size[0], -size[0]], [size[1], -size[1]], [size[2], -size[2]])), np.float32)\n",
    "            cube_vertices = np.float32(cube_vertices + origin)\n",
    "\n",
    "            self.vertices = cube_vertices\n",
    "            self.indices = [0, 1, 2, 1, 2, 3, 0, 1, 4, 1, 4, 5, 1, 3, 5, 3, 5, 7, 0, 2, 4, 2, 4, 6, 2, 3, 7, 2, 6, 7, 4,\n",
    "                            5, 6, 5, 6, 7]\n",
    "\n",
    "        else:\n",
    "            raise TypeError('Origin attribute should have 3 coordinates.')"
   ]
  },
  {
   "cell_type": "code",
   "execution_count": null,
   "metadata": {},
   "outputs": [],
   "source": []
  },
  {
   "cell_type": "code",
   "execution_count": 3,
   "metadata": {},
   "outputs": [],
   "source": [
    "def getrot(a,b):\n",
    "    v = np.cross(a, b)\n",
    "    s = np.linalg.norm(v)\n",
    "    c = np.dot(a,b)\n",
    "    vx = np.array([[0,-v[2], v[1]],[v[2], 0, v[0]], [-v[1], v[0], 0]])\n",
    "    return np.identity(3) + vx + vx@vx*(1/(1+c))#(1-c)/s**2\n",
    "\n",
    "def pad3to4(mat):\n",
    "    m = np.identity(4)\n",
    "    m[0:3,0:3] = mat\n",
    "    return m\n",
    "\n",
    "def norm(arr, axis=-1):\n",
    "    norm = np.sqrt(np.sum(arr**2, axis=-1))\n",
    "    norm = np.expand_dims(norm, axis)\n",
    "    return np.divide(arr, norm, where=(norm!=0))"
   ]
  },
  {
   "cell_type": "code",
   "execution_count": 4,
   "metadata": {},
   "outputs": [],
   "source": [
    "import itertools\n",
    "\n",
    "class InstanceCounterMeta(type):\n",
    "    #Metaclass to make instance counter not share count with descendants\n",
    "    def __init__(cls, name, bases, attrs):\n",
    "        super().__init__(name, bases, attrs)\n",
    "        cls._ids = itertools.count(1)\n",
    "\n",
    "class Optic(object, metaclass=InstanceCounterMeta):\n",
    "    def __init__(self, m=None):\n",
    "        self.id = next(self.__class__._ids)\n",
    "        self.m = np.identity(4, dtype=np.float64)\n",
    "    \n",
    "    def __matmul__(self, other):\n",
    "        return Optic(np.dot(self.m,other.m))\n",
    "\n",
    "class Prop(Optic, metaclass=InstanceCounterMeta):\n",
    "    def __init__(self, d):\n",
    "        self.id = next(self.__class__._ids)\n",
    "        self.dist = d\n",
    "        m = np.identity(4, dtype=np.float64)\n",
    "        m[0,2] = d\n",
    "        m[1,3] = d\n",
    "        self.m = m\n",
    "    \n",
    "    def _aberrations(self, chi):\n",
    "        #shape of chi is (4, N, N)\n",
    "        x, y, sx, sy = chi\n",
    "        sx2, sy2 = sx@sx, sy@sy\n",
    "        sx2psy2 = sx2+sy2\n",
    "        nonP4 = -self.dist*k/8*(sx2psy2@sx2psy2)\n",
    "        nonP6 = -self.dist*k/16*(sx2psy2@sx2psy2@sx2psy2)\n",
    "        #nonP8 = -5*self.dist*k/128*(sx2psy2@sx2psy2@sx2psy2@sx2psy2)\n",
    "        \n",
    "        return [nonP4, nonP6] #nonP6, nonP8 \n",
    "        \n",
    "    def aberration(self, chi):\n",
    "        return sum(self._aberrations(chi))\n",
    "    \n",
    "class Rot(Optic, metaclass=InstanceCounterMeta):\n",
    "    def __init__(self, r):\n",
    "        self.id = next(self.__class__._ids)\n",
    "        self.r = r\n",
    "        m = np.zeros((4,4), dtype=np.float64)\n",
    "        m[0:2,0:2] = r\n",
    "        m[2:4,2:4] = r\n",
    "        self.m = m\n",
    "    \n",
    "class Lens(Optic, metaclass=InstanceCounterMeta):\n",
    "    def __init__(self, r1, r2=None, thet=0., n=1.5):\n",
    "        self.id = next(self.__class__._ids)\n",
    "        #f = With[{R1 = \\[Infinity], R2 = R}, 1/(n - 1) (1/R1 + 1/R2)^-1];\n",
    "        \n",
    "        if r2 is None:\n",
    "            f = r1/(n-1)\n",
    "        else:\n",
    "            f = 1./((n-1)*(1/r1-1/r2))\n",
    "        \n",
    "        self.r = r1\n",
    "        self.f = f\n",
    "        self.n = n\n",
    "        \n",
    "        self.thet = thet\n",
    "        self.cos = np.cos(thet)\n",
    "        self.sin = np.sin(thet)\n",
    "        \n",
    "        m = np.identity(4, dtype=np.float64)\n",
    "        m[2,0] = -1./(f*self.cos)\n",
    "        m[3,1] = -1./f*self.cos\n",
    "        self.m = m\n",
    "        \n",
    "    def _aberrations(self, chi):\n",
    "        #shape of chi is (4, N, N)\n",
    "        x, y, sx, sy = chi\n",
    "        x2, y2 = x@x, y@y\n",
    "        x2py2 = x2+y2\n",
    "        \n",
    "        sph3 = 0.5*self.sin/(self.cos**3*self.r**2)*(x2+self.cos**2*y2)@x\n",
    "        sph4 = 0.5/(4*self.cos**5*self.r**3)*(self.cos**2*y2+x2)@(-4*self.cos**2*x2+self.cos**2*y2+5*x2)\n",
    "        sph5 = 0.5*self.sin/(4*self.cos**7*self.r**4)*(self.cos**2*y2+x2)@(3*self.cos**2*x@y2+(7-4*self.cos**2)*x@x2)\n",
    "        sph6 = 0.5/(8*self.cos**9*self.r**5)*(self.cos**2*y2+x2)@(self.cos**4*y2@y2+(14*self.cos**2-12*self.cos**4)*x2@y2+(8*self.cos**4-28*self.cos**2+21)*x2@x2)\n",
    "        return [sph3, sph4, sph5, sph6] #\n",
    "        \n",
    "    def aberration(self, chi):\n",
    "        return k*(1-self.n)*sum(self._aberrations(chi))\n",
    "        \n",
    "class Mirr(Lens, metaclass=InstanceCounterMeta):\n",
    "    def __init__(self, roc, thet=0.):\n",
    "        super().__init__(n=3., r1 = roc, thet = thet)\n",
    "        #self.id = next(self.__class__._ids)\n",
    "        #self.roc = roc"
   ]
  },
  {
   "cell_type": "markdown",
   "metadata": {},
   "source": [
    "$$\\text{sphAb3rd}(\\text{R$\\_$},\\text{Cos$\\theta \\_$})=\\frac{1}{2} \\sqrt{1-\\text{Cos$\\theta $}^2} \\frac{\\text{Cos$\\theta $}^2 y.y+x.x}{\\text{Cos$\\theta $}^3 R^2}.x;$$\n",
    "$$\\text{sphAb4th}(\\text{R$\\_$},\\text{Cos$\\theta \\_$})=\\frac{1}{2} \\frac{\\text{Cos$\\theta $}^2 y.y+x.x}{4 \\text{Cos$\\theta $}^5 R^3}.\\left(-4 \\text{Cos$\\theta $}^2 x.x+\\text{Cos$\\theta $}^2 y.y+5 x.x\\right); $$\n",
    "$$ \\text{sphAb5th}(\\text{R$\\_$},\\text{Cos$\\theta \\_$})=\\frac{1}{2} \\sqrt{1-\\text{Cos$\\theta $}^2} \\frac{\\text{Cos$\\theta $}^2 y^2+x^2}{4 \\text{Cos$\\theta $}^7 R^4}.\\left(3 \\text{Cos$\\theta $}^2 x.y.y+\\left(7-4 \\text{Cos$\\theta $}^2\\right) x.x.x\\right);$$\n",
    "$$ \\text{sphAb6th}(\\text{R$\\_$},\\text{Cos$\\theta \\_$})=\\frac{1}{2} \\frac{\\text{Cos$\\theta $}^2 y.y+x.x}{8 \\text{Cos$\\theta $}^9 R^5}.\\left(\\text{Cos$\\theta $}^4 y.y.y.y+\\left(14 \\text{Cos$\\theta $}^2-12 \\text{Cos$\\theta $}^4\\right) x.x.y.y+\\left(8 \\text{Cos$\\theta $}^4-28 \\text{Cos$\\theta $}^2+21\\right) x.x.x.x\\right);$$\n",
    "$$ \\text{nonParax4th}(\\text{d$\\_$})=\\frac{1}{8} (-(d k)) (\\text{sx}.\\text{sx}+\\text{sy}.\\text{sy}).(\\text{sx}.\\text{sx}+\\text{sy}.\\text{sy}); $$\n",
    "$$ \\text{nonParax6th}(\\text{d$\\_$})=\\frac{1}{16} (-(d k)) (\\text{sx}.\\text{sx}+\\text{sy}.\\text{sy}).(\\text{sx}.\\text{sx}+\\text{sy}.\\text{sy}).(\\text{sx}.\\text{sx}+\\text{sy}.\\text{sy}); $$\n",
    "$$ \\text{nonParax8th}(\\text{d$\\_$})=\\frac{1}{128} (-(5 d k)) (\\text{sx}.\\text{sx}+\\text{sy}.\\text{sy}).(\\text{sx}.\\text{sx}+\\text{sy}.\\text{sy}).(\\text{sx}.\\text{sx}+\\text{sy}.\\text{sy}).(\\text{sx}.\\text{sx}+\\text{sy}.\\text{sy}); $$"
   ]
  },
  {
   "cell_type": "code",
   "execution_count": 5,
   "metadata": {},
   "outputs": [],
   "source": [
    "def Tetrahedron(La, thet, roc):\n",
    "    \n",
    "    if not isinstance(roc, list):\n",
    "        roc = [roc]*4\n",
    "        \n",
    "    thet = np.deg2rad(thet)\n",
    "    mir = np.array([(-La/2, La*np.tan(thet), 0),\\\n",
    "                ( La/2, 0, -La*np.tan(thet)),\\\n",
    "                (-La/2, -La*np.tan(thet), 0),\\\n",
    "                ( La/2, 0,  La*np.tan(thet))], dtype=np.float64)\n",
    "    return {'mir': mir, 'roc': roc}"
   ]
  },
  {
   "cell_type": "code",
   "execution_count": 6,
   "metadata": {},
   "outputs": [],
   "source": [
    "def OriginalTwister(betal, R=0.025, Rlarge=-0.075, thet=10., asym = 1.25):\n",
    "    thet = np.deg2rad(thet)\n",
    "    l = betal*R\n",
    "    d1 = l*np.tan(thet/2)\n",
    "    d2 = d1\n",
    "    p1 = np.array([-d1, 0, -l/2] , dtype=np.float64)\n",
    "    p2 = np.array([0, -d2, l/2] , dtype=np.float64)/asym\n",
    "    p3 = np.array([d1, 0, -l/2] , dtype=np.float64)/asym\n",
    "    p4 = np.array([0, d2, l/2] , dtype=np.float64)\n",
    "    \n",
    "    ax = 0.5*(p2+p3) - 0.5*(p1+p4)\n",
    "    p2 += 0.25*ax\n",
    "    p3 += 0.25*ax\n",
    "    \n",
    "    mir = np.stack([p1,p2,p3,p4], axis=0)\n",
    "    roc = np.array([R, Rlarge, Rlarge, R])\n",
    "    #mir = np.stack([p2,p3,p4,p1], axis=0)\n",
    "    #roc = np.array([Rlarge, Rlarge, R, R])\n",
    "    return {'mir': mir, 'roc': roc}"
   ]
  },
  {
   "cell_type": "code",
   "execution_count": 7,
   "metadata": {},
   "outputs": [],
   "source": [
    "def SixMirror(thetOpening = 20, Rfast = 50e-3, Rplane = 1e5, Rslow = -250e-3, diam=6e-3, dy=8e-3, dx=6.0e-2):\n",
    "    thetOpening = np.deg2rad(thetOpening)\n",
    "    dz = np.tan(thetOpening)*np.sqrt(dx**2+dy**2)\n",
    "    d = 1.31762e-2\n",
    "    dzF = 1.0625e-3\n",
    "    dzF2 = 0\n",
    "    ddy = 0.\n",
    "    \n",
    "    p1=np.array([0,0,0], dtype=np.float64)\n",
    "    p2=np.array([dx,dy,dzF+dzF2], dtype=np.float64)\n",
    "    p3=np.array([0,dy,dzF ], dtype=np.float64)\n",
    "    p4=np.array([dx,dy+dy + ddy,0], dtype=np.float64)\n",
    "    p5=np.array([0+d,dy+d,dz], dtype=np.float64)\n",
    "    p6=np.array([dx-d,dy-d,dz], dtype=np.float64)\n",
    "    \n",
    "    mir = np.stack([p3,p4,p5,p6,p1,p2], axis=0)\n",
    "    roc = np.array([Rfast, Rplane, Rslow, Rslow, Rplane, Rfast])\n",
    "\n",
    "    return {'mir': mir, 'roc': roc}"
   ]
  },
  {
   "cell_type": "code",
   "execution_count": 8,
   "metadata": {},
   "outputs": [],
   "source": [
    "def geometry(mir, roc):\n",
    "    Nm = len(mir)\n",
    "    M = mir[:,None,:]-mir[None,:,:]\n",
    "    m = norm(M)\n",
    "    \n",
    "    n = norm(np.array([np.cross(m[j,j-1],m[j,(j+1)%Nm]) for j in range(Nm)]))\n",
    "    refl = norm(np.array([0.5*(m[j,j-1]+m[j,(j+1)%Nm]) for j in range(Nm)])) #vectors normal to reflecting mirrors\n",
    "    angles = np.array([0.5*np.arccos(np.dot(m[j,j-1],m[j,(j+1)%Nm])) for j in range(Nm)])\n",
    "    yin = n\n",
    "    yout = n\n",
    "    xin = norm(np.array([np.cross(n[j],m[j,j-1]) for j in range(Nm)]))\n",
    "    xout = norm(np.array([np.cross(n[j],-m[j,(j+1)%Nm]) for j in range(Nm)]))\n",
    "    \n",
    "    R = np.stack([np.array([[xout[i]@xin[(i+1)%Nm], yout[i]@xin[(i+1)%Nm]],\\\n",
    "                            [xout[i]@yin[(i+1)%Nm], yout[i]@yin[(i+1)%Nm]]]) for i in range(Nm)], axis=0)\n",
    "    #Reflect vector\n",
    "    def RefV(j, vec):\n",
    "        return vec - ((vec@m[j,(j+1)%Nm])*(m[j,(j-1)%Nm]+m[j,(j+1)%Nm])/(1.+m[j,(j-1)%Nm]@m[j,(j+1)%Nm]))\n",
    "    \n",
    "    changeBasisAcross = np.stack([np.array([[RefV(i,xin[i])@xout[i], RefV(i,yin[i])@xout[i]],\\\n",
    "                                            [RefV(i,xin[i])@yout[i], RefV(i,yin[i])@yout[i]]]) for i in range(Nm)], axis=0)\n",
    "    \n",
    "    changeBasisAcross = np.round(changeBasisAcross) # fix slight numerical errors of the reflection\n",
    "    \n",
    "    #Build the ABCD Matrix\n",
    "    Ls = [np.linalg.norm(M[j-1,j]) for j in range(Nm)]\n",
    "    Lrt = sum(Ls)\n",
    "    \n",
    "    \n",
    "    AllM = []\n",
    "    for i in range(Nm):\n",
    "        d1 = np.linalg.norm(M[i-1,i])/2\n",
    "        d2 = np.linalg.norm(M[i,(i+1)%Nm])/2\n",
    "        \n",
    "        #Msub = [Prop(d1), Mirr(roc[i], angles[i]), Rot(changeBasisAcross[i]), Rot(R[i]), Prop(d2)]\n",
    "        Msub = [Prop(d1), Lens(r1=roc[i], thet=angles[i], n=3.), Rot(changeBasisAcross[i]), Rot(R[i]), Prop(d2)]\n",
    "        AllM.extend(Msub)\n",
    "        \n",
    "    Mrt = np.identity(4, dtype=np.float64)\n",
    "    for i, M in enumerate(AllM):\n",
    "        Mrt = np.dot(M.m,Mrt)\n",
    "        \n",
    "    geom = {'mir': mir, 'Ls': Ls, 'Lrt': Lrt, 'm': m, 'n': n, 'refl': refl, 'xin': xin, 'xout': xout}\n",
    "    return {'M': Mrt, 'AllM': AllM, 'geometry': geom}"
   ]
  },
  {
   "cell_type": "code",
   "execution_count": 9,
   "metadata": {},
   "outputs": [],
   "source": [
    "def plot_geometry(mir, m, n, refl, xin, xout, **kwargs):\n",
    "    Nm = len(mir)\n",
    "    plot = k3d.plot(camera_auto_fit=True, antialias=True)\n",
    "\n",
    "    col=0xff0000\n",
    "    pf = 200.\n",
    "    plt_line = k3d.line(pf*mir, shader='mesh', width=0.1, color=col)\n",
    "    plt_line2 = k3d.line(pf*mir[(-1,0),...], shader='mesh', width=0.1, color=col)\n",
    "    plot += plt_line\n",
    "    plot += plt_line2\n",
    "    plot += k3d.vectors(origins=pf*mir, vectors=n*2, use_head=True, head_size=3.)#Normals = xIn = xOut\n",
    "    plot += k3d.vectors(origins=pf*mir, vectors=xin*2, use_head=True, head_size=3., color= 0xff8c00) #yIn\n",
    "    plot += k3d.vectors(origins=pf*mir, vectors=xout*2, use_head=True, head_size=3., color= 0x9400D3) #yOut\n",
    "    plot += k3d.vectors(origins=pf*mir, vectors=refl*2, use_head=True, head_size=3., color=0x00ff00)\n",
    "\n",
    "    ey = np.array([0,1,0])\n",
    "    ex = np.array([1,0,0])\n",
    "    for i in range(Nm):\n",
    "        mirror = Box(size=(0.1,.5,.5)).mesh\n",
    "\n",
    "        mirror.transform.custom_matrix = pad3to4(getrot(ex, refl[i])) #get rotation matrix of mirror\n",
    "        mirror.transform.translation = pf*mir[i]\n",
    "        plot += mirror\n",
    "\n",
    "    return plot"
   ]
  },
  {
   "cell_type": "code",
   "execution_count": 10,
   "metadata": {},
   "outputs": [],
   "source": [
    "G = np.array([[0,0,1,0], [0,0,0,1], [-1,0,0,0], [0,-1,0,0]])\n",
    "\n",
    "def get_conj_pairs(ev):\n",
    "    ind = [0, 1, 2, 3]\n",
    "    indout = []\n",
    "    evout = []\n",
    "    while len(ind)>0:\n",
    "        i = ind.pop(0)\n",
    "        j = ind[np.argsort(np.abs(ev[i].conj()-ev[ind]))[0]]\n",
    "        if ev[i].imag<ev[j].imag:\n",
    "            i, j = j, i\n",
    "        indout.append(i)\n",
    "        evout.append(ev[i])\n",
    "        ind.remove(j)\n",
    "    return indout, evout\n",
    "\n",
    "    \n",
    "\n",
    "def M2waist(Mrt, lam):\n",
    "    ev, mus = np.linalg.eig(Mrt)\n",
    "\n",
    "    #Normalize the eigenvectors and take the ones that are normalized to -2j\n",
    "    N = [mus[:,i].conj()@G@mus[:,i] for i in range(4)]\n",
    "    musN = np.stack([mus[:,i]*np.sqrt(2/N[i]) for i in range(4)], axis=1)\n",
    "    N = np.array([musN[:,i].conj()@G@musN[:,i] for i in range(4)])\n",
    "    #print(N)\n",
    "    idx = np.where(np.abs(N.imag+2)<1e-5)[0]\n",
    "    idx = idx[::-1]\n",
    "    musN = musN[:,idx]\n",
    "    #Build B and K matrix, this is very sensitive! Double check again, see https://journals.aps.org/pra/pdf/10.1103/PhysRevA.75.033819\n",
    "    B = np.array([[ musN[0,0], musN[1,0] ],[ musN[0,1], musN[1,1] ]])\n",
    "    K = -1j*np.array([[ musN[2,0], musN[3,0] ],[ musN[2,1], musN[3,1] ]])\n",
    "    # Q = B^-1 K\n",
    "    Q = np.linalg.solve(B,K) \n",
    "    di = np.linalg.eigvals(1j*Q)\n",
    "    ws = np.sqrt(lam/(-np.pi*di.imag))\n",
    "    return {'ws': ws, 'B': B, 'K': K, 'Q': Q, 'mu': musN}\n",
    "\n",
    "from math import floor\n",
    "def wrap_fsr(fsr, f):\n",
    "    return f%(fsr/2) - fsr/2*( 1 if floor(2*f/fsr)%2==1 else 0 )\n",
    "\n",
    "def M2freq(Mrt, geom):\n",
    "    fsr = 3.0e8/geom['Lrt']\n",
    "    ev = np.linalg.eigvals(Mrt)\n",
    "    freqs = np.angle(ev)*fsr/(2*np.pi)\n",
    "    freqsA = np.sort(freqs)[-1:-3:-1]\n",
    "    freqsB = freqsA - fsr\n",
    "    freqsC = 3.*freqsA - fsr\n",
    "    return freqsA, freqsC"
   ]
  },
  {
   "cell_type": "code",
   "execution_count": 11,
   "metadata": {},
   "outputs": [],
   "source": [
    "def M2waistNew(Mrt, lam):\n",
    "    ev, mus = np.linalg.eig(Mrt)\n",
    "\n",
    "    #Normalize the eigenvectors and take the ones that are normalized to -2j\n",
    "    N = [mus[:,i].conj()@G@mus[:,i] for i in range(4)]\n",
    "    musN = np.stack([mus[:,i]*np.sqrt(2/N[i]) for i in range(4)], axis=1)\n",
    "    N = np.array([musN[:,i].conj()@G@musN[:,i] for i in range(4)])\n",
    "    #print(N)\n",
    "    idx = np.where(np.abs(N.imag+2)<1e-5)[0]\n",
    "    idx = idx[::-1]\n",
    "    musN = musN[:,idx]\n",
    "    #Build B and K matrix, this is very sensitive! Double check again, see https://journals.aps.org/pra/pdf/10.1103/PhysRevA.75.033819\n",
    "    B = np.array([[ musN[0,0], musN[1,0] ],[ musN[0,1], musN[1,1] ]])\n",
    "    K = -1j*np.array([[ musN[2,0], musN[3,0] ],[ musN[2,1], musN[3,1] ]])\n",
    "    # Q = B^-1 K\n",
    "    Q = np.linalg.solve(B,K) \n",
    "    di = np.linalg.eigvals(1j*Q)\n",
    "    ws = np.sqrt(lam/(-np.pi*di.imag))\n",
    "    return {'ws': ws, 'B': B, 'K': K, 'Q': Q, 'mu': musN}"
   ]
  },
  {
   "cell_type": "code",
   "execution_count": 12,
   "metadata": {},
   "outputs": [
    {
     "name": "stderr",
     "output_type": "stream",
     "text": [
      "C:\\ProgramData\\Anaconda3\\lib\\site-packages\\traittypes\\traittypes.py:101: UserWarning: Given trait value dtype \"float64\" does not match required type \"float32\". A coerced copy has been created.\n",
      "  np.dtype(self.dtype).name))\n"
     ]
    },
    {
     "data": {
      "application/vnd.jupyter.widget-view+json": {
       "model_id": "a74648910f6047f187063999f188f6d5",
       "version_major": 2,
       "version_minor": 0
      },
      "text/plain": [
       "Plot(antialias=True, axes=['x', 'y', 'z'], axes_helper=1.0, background_color=16777215, camera=[2, -3, 0.2, 0.0…"
      ]
     },
     "metadata": {},
     "output_type": "display_data"
    }
   ],
   "source": [
    "lamb = 780.0e-9\n",
    "k = 2*np.pi/lamb\n",
    "\n",
    "#opt = Tetrahedron(La = 5.1e-2, thet = 20, roc=100e-3)\n",
    "#opt = OriginalTwister(betal=1.31323, R=0.025, Rlarge=-0.075, thet=20., asym = 1.25)#betal=1.35\n",
    "opt = SixMirror(thetOpening = 20, Rfast = 50e-3, Rplane = 1e5, Rslow = -250e-3, diam=6e-3, dy=8e-3, dx=6.0e-2)\n",
    "system = geometry(**opt)\n",
    "plot_geometry(**system['geometry'])"
   ]
  },
  {
   "cell_type": "code",
   "execution_count": 13,
   "metadata": {},
   "outputs": [],
   "source": [
    "Mrt = system['M']"
   ]
  },
  {
   "cell_type": "code",
   "execution_count": 14,
   "metadata": {},
   "outputs": [],
   "source": [
    "ev, mus = np.linalg.eig(Mrt)\n",
    "\n",
    "#Normalize the eigenvectors and take the ones that are normalized to -2j\n",
    "N = [mus[:,i].conj()@G@mus[:,i] for i in range(4)]\n",
    "musN = np.stack([mus[:,i]@G.T/np.sqrt(-1j*N[i]) for i in range(4)], axis=1)\n",
    "N = np.array([musN[:,i].conj()@G@musN[:,i] for i in range(4)])"
   ]
  },
  {
   "cell_type": "code",
   "execution_count": 15,
   "metadata": {},
   "outputs": [
    {
     "data": {
      "text/plain": [
       "array([8.88162212e-20-1.j, 8.88162212e-20+1.j, 3.78381979e-19-1.j,\n",
       "       3.78381979e-19+1.j])"
      ]
     },
     "execution_count": 15,
     "metadata": {},
     "output_type": "execute_result"
    }
   ],
   "source": [
    "N"
   ]
  },
  {
   "cell_type": "code",
   "execution_count": 16,
   "metadata": {},
   "outputs": [
    {
     "name": "stdout",
     "output_type": "stream",
     "text": [
      "[3 1]\n"
     ]
    }
   ],
   "source": [
    "#N = np.array([musN[:,i].conj()@G@musN[:,i] for i in range(4)])\n",
    "#print(N)\n",
    "idx = np.where(np.abs(N.imag-1)<1e-5)[0]\n",
    "idx = idx[::-1]\n",
    "print(idx)\n",
    "musN = musN[:,idx]\n",
    "#Build B and K matrix, this is very sensitive! Double check again, see https://journals.aps.org/pra/pdf/10.1103/PhysRevA.75.033819\n",
    "V = np.array([[ musN[0,0], musN[1,0] ],[ musN[0,1], musN[1,1] ]])\n",
    "U = np.array([[ musN[2,0], musN[2,1] ],[ musN[3,0], musN[3,1] ]])"
   ]
  },
  {
   "cell_type": "code",
   "execution_count": 17,
   "metadata": {},
   "outputs": [
    {
     "data": {
      "text/plain": [
       "array([[745.02771385-20.80759589j, -32.03669586+22.51654587j],\n",
       "       [ 20.91504073 +0.63550949j, 719.92803255+20.71137238j]])"
      ]
     },
     "execution_count": 17,
     "metadata": {},
     "output_type": "execute_result"
    }
   ],
   "source": [
    "W = 1j*V@np.linalg.inv(U)\n",
    "W"
   ]
  },
  {
   "cell_type": "markdown",
   "metadata": {},
   "source": [
    "## Realspace"
   ]
  },
  {
   "cell_type": "code",
   "execution_count": 18,
   "metadata": {},
   "outputs": [
    {
     "name": "stdout",
     "output_type": "stream",
     "text": [
      "-1\n"
     ]
    },
    {
     "data": {
      "text/plain": [
       "(200, 200, 2)"
      ]
     },
     "execution_count": 18,
     "metadata": {},
     "output_type": "execute_result"
    }
   ],
   "source": [
    "wmat = M2waist(system['M'], lamb)\n",
    "Q = wmat['Q']\n",
    "waist = wmat['ws'][0]\n",
    "sgn = 1 if np.trace(Q).real>0 else -1\n",
    "print(sgn)\n",
    "\n",
    "xx=np.linspace(-5*waist,5*waist,200)\n",
    "dx = xx[1]-xx[0]\n",
    "x, y = np.meshgrid(xx,xx, indexing='ij')\n",
    "r = np.dstack([x,y])\n",
    "r.shape"
   ]
  },
  {
   "cell_type": "code",
   "execution_count": 19,
   "metadata": {},
   "outputs": [],
   "source": [
    "def get_phi0(r, Q):\n",
    "    phi0 = np.exp(-sgn*0.5*k*np.einsum(\"ijk,ijl,kl->ij\",r,r,Q))\n",
    "    phi0 *= 1./np.sqrt(np.linalg.norm(np.abs(phi0)**2))\n",
    "    #np.linalg.norm(np.abs(phi0)**2)\n",
    "    return phi0"
   ]
  },
  {
   "cell_type": "code",
   "execution_count": 20,
   "metadata": {},
   "outputs": [],
   "source": [
    "phi0 = get_phi0(r, Q)"
   ]
  },
  {
   "cell_type": "code",
   "execution_count": 21,
   "metadata": {},
   "outputs": [],
   "source": [
    "def chi_wf(phi):\n",
    "    pdx = np.gradient(phi, dx, axis=0)\n",
    "    pdy = np.gradient(phi, dx, axis=1)\n",
    "    px = phi*x\n",
    "    py = phi*y\n",
    "    return np.stack([px, py, 1j*pdx/k, 1j*pdy/k], axis=0)\n",
    "\n",
    "def a_op(phi, mu, dag=False):\n",
    "    if dag:\n",
    "        pre = -1j*np.sqrt(k/2)*np.conj(mu)\n",
    "    else:\n",
    "        pre = 1j*np.sqrt(k/2)*mu\n",
    "    return np.einsum(\"i,ij,jxy->xy\",pre,G,chi_wf(phi))\n",
    "\n",
    "def chain(inp, funcs):\n",
    "    return reduce(lambda x, y : y(x), funcs, inp)\n",
    "    \n",
    "def nplt(phi, ax):\n",
    "    return ax.imshow(np.abs(phi.T)**2, origin='lower', interpolation='bicubic')"
   ]
  },
  {
   "cell_type": "code",
   "execution_count": 22,
   "metadata": {},
   "outputs": [],
   "source": [
    "ra = lambda x: a_op(x, wmat['mu'][:,0], dag=False)\n",
    "raD = lambda x: a_op(x, wmat['mu'][:,0], dag=True)\n",
    "rb = lambda x: a_op(x, wmat['mu'][:,1], dag=False)\n",
    "rbD = lambda x: a_op(x, wmat['mu'][:,1], dag=True)"
   ]
  },
  {
   "cell_type": "code",
   "execution_count": 23,
   "metadata": {},
   "outputs": [
    {
     "data": {
      "application/vnd.jupyter.widget-view+json": {
       "model_id": "01d13bf89f7c49cf86b5f733471c4204",
       "version_major": 2,
       "version_minor": 0
      },
      "text/plain": [
       "Canvas(toolbar=Toolbar(toolitems=[('Home', 'Reset original view', 'home', 'home'), ('Back', 'Back to previous …"
      ]
     },
     "metadata": {},
     "output_type": "display_data"
    }
   ],
   "source": [
    "plt.figure()\n",
    "plt.imshow(np.abs(chain(phi0, [rbD]))**2)\n",
    "plt.colorbar()\n",
    "plt.show()"
   ]
  },
  {
   "cell_type": "code",
   "execution_count": 24,
   "metadata": {},
   "outputs": [],
   "source": [
    "Na = 5\n",
    "Nb = 5\n",
    "phis = np.empty((Na, Nb, *phi0.shape), dtype=np.complex)\n",
    "phis[0,0] = phi0\n",
    "for i in range(1,Na):\n",
    "    phis[i,0] = raD(phis[i-1,0])/np.sqrt(i)\n",
    "for i in range(Na):\n",
    "    for j in range(1,Nb):\n",
    "        phis[i,j] = rbD(phis[i,j-1])/np.sqrt(j)"
   ]
  },
  {
   "cell_type": "code",
   "execution_count": 25,
   "metadata": {},
   "outputs": [
    {
     "data": {
      "application/vnd.jupyter.widget-view+json": {
       "model_id": "60c35a09a0734428aef755fe355f47ff",
       "version_major": 2,
       "version_minor": 0
      },
      "text/plain": [
       "Canvas(toolbar=Toolbar(toolitems=[('Home', 'Reset original view', 'home', 'home'), ('Back', 'Back to previous …"
      ]
     },
     "metadata": {},
     "output_type": "display_data"
    },
    {
     "name": "stderr",
     "output_type": "stream",
     "text": [
      "C:\\ProgramData\\Anaconda3\\lib\\site-packages\\ipykernel_launcher.py:13: UserWarning: This figure includes Axes that are not compatible with tight_layout, so results might be incorrect.\n",
      "  del sys.path[0]\n"
     ]
    }
   ],
   "source": [
    "from mpl_toolkits.axes_grid1 import AxesGrid\n",
    "\n",
    "fig = plt.figure(figsize=(Na, Nb))\n",
    "grid = AxesGrid(fig, 111, nrows_ncols=(Na, Nb), axes_pad=0.05, cbar_mode='single', cbar_location='right', cbar_pad=0.1)\n",
    "\n",
    "for i, row in enumerate(grid.axes_row):\n",
    "    for j, ax in enumerate(row):\n",
    "        ax.set_axis_off()\n",
    "        im = ax.imshow(np.abs(phis[i,j])**2, origin='lower', interpolation='bicubic')\n",
    "\n",
    "cbar = ax.cax.colorbar(im)\n",
    "cbar = grid.cbar_axes[0].colorbar(im)\n",
    "plt.tight_layout()"
   ]
  },
  {
   "cell_type": "code",
   "execution_count": 26,
   "metadata": {},
   "outputs": [
    {
     "data": {
      "application/vnd.jupyter.widget-view+json": {
       "model_id": "d491f04f723449bf9e5820c4a0b5b77c",
       "version_major": 2,
       "version_minor": 0
      },
      "text/plain": [
       "Canvas(toolbar=Toolbar(toolitems=[('Home', 'Reset original view', 'home', 'home'), ('Back', 'Back to previous …"
      ]
     },
     "metadata": {},
     "output_type": "display_data"
    }
   ],
   "source": [
    "N1 = 5\n",
    "N2 = N1**2\n",
    "phis1 = np.empty((N2, *phi0.shape), dtype=np.complex)\n",
    "phis1[0] = phi0\n",
    "for i in range(1,N2):\n",
    "    phis1[i] = raD(phis1[i-1])/np.sqrt(i)\n",
    "        \n",
    "fig = plt.figure(figsize=(N1, N1))\n",
    "grid = AxesGrid(fig, 111, nrows_ncols=(N1, N1), axes_pad=0.05, cbar_mode='single', cbar_location='right', cbar_pad=0.1)\n",
    "\n",
    "for i, row in enumerate(grid.axes_row):\n",
    "    for j, ax in enumerate(row):\n",
    "        ax.set_axis_off()\n",
    "        im = ax.imshow(np.abs(phis1[i*N1+j])**2, origin='lower', interpolation='bicubic')\n",
    "\n",
    "cbar = ax.cax.colorbar(im)\n",
    "cbar = grid.cbar_axes[0].colorbar(im)\n",
    "#plt.tight_layout()"
   ]
  },
  {
   "cell_type": "markdown",
   "metadata": {},
   "source": [
    "## Aberration calculation"
   ]
  },
  {
   "cell_type": "code",
   "execution_count": 27,
   "metadata": {},
   "outputs": [],
   "source": [
    "def getEvN(Mrt):\n",
    "    ev, mus = np.linalg.eig(Mrt)\n",
    "    \n",
    "    #Normalize the eigenvectors and take the ones that are normalized to -2j\n",
    "    N = [mus[:,i].conj()@G@mus[:,i] for i in range(4)]\n",
    "    musN = np.stack([mus[:,i]*np.sqrt(2/N[i]) for i in range(4)], axis=1)\n",
    "    #print(musN)\n",
    "    N = np.array([musN[:,i].conj()@G@musN[:,i] for i in range(4)])\n",
    "    #print(N)\n",
    "    idx = np.where(np.abs(N.imag-2)<1e-5)[0]\n",
    "    #print(N, idx)\n",
    "    #idx = idx[::-1]\n",
    "    musN = musN[:,idx]\n",
    "    Us = ev[idx]\n",
    "    chis = np.angle(Us)\n",
    "    order = np.argsort(chis)[::-1] #have the ev with the smallest chi first\n",
    "    return {'mu': musN[:,order], 'U': Us[order], 'chi': chis[order]}"
   ]
  },
  {
   "cell_type": "code",
   "execution_count": 28,
   "metadata": {},
   "outputs": [],
   "source": [
    "np.set_printoptions(precision=3)"
   ]
  },
  {
   "cell_type": "code",
   "execution_count": 29,
   "metadata": {},
   "outputs": [],
   "source": [
    "MuAndChi = getEvN(system['M'])"
   ]
  },
  {
   "cell_type": "code",
   "execution_count": 30,
   "metadata": {},
   "outputs": [],
   "source": [
    "Na, Nb = 50, 50\n",
    "a = qt.tensor(qt.destroy(Na), qt.qeye(Nb))\n",
    "b = qt.tensor(qt.qeye(Na), qt.destroy(Nb))\n",
    "aD = a.dag()\n",
    "bD = b.dag()\n",
    "\n",
    "ops_sp = [a, b, aD, bD]\n",
    "\n",
    "xsi1, xsi2 = MuAndChi['chi']\n",
    "\n",
    "#turn into numpy array for vectorized operations\n",
    "a = np.array(a.data.todense(), dtype=np.complex)\n",
    "b = np.array(b.data.todense(), dtype=np.complex)\n",
    "aD = np.array(aD.data.todense(), dtype=np.complex)\n",
    "bD = np.array(bD.data.todense(), dtype=np.complex)\n",
    "\n",
    "#Upar = expm(1j*(xsi1*aD@a + xsi2*bD@b))\n",
    "chi = np.stack([a, b, aD, bD], axis=0)"
   ]
  },
  {
   "cell_type": "code",
   "execution_count": 31,
   "metadata": {},
   "outputs": [],
   "source": [
    "mu = MuAndChi['mu']\n",
    "InvEigs = np.linalg.inv(np.concatenate([mu, mu.conj()], axis=1))"
   ]
  },
  {
   "cell_type": "code",
   "execution_count": 32,
   "metadata": {},
   "outputs": [
    {
     "data": {
      "text/plain": [
       "(4, 2500, 2500)"
      ]
     },
     "execution_count": 32,
     "metadata": {},
     "output_type": "execute_result"
    }
   ],
   "source": [
    "XPrefMat = np.sqrt(2/k)*np.einsum(\"ji,jk,kxy->ixy\", G, InvEigs.T, chi)\n",
    "XPrefMat.shape"
   ]
  },
  {
   "cell_type": "code",
   "execution_count": 33,
   "metadata": {},
   "outputs": [
    {
     "ename": "NameError",
     "evalue": "name 'Upar' is not defined",
     "output_type": "error",
     "traceback": [
      "\u001b[1;31m---------------------------------------------------------------------------\u001b[0m",
      "\u001b[1;31mNameError\u001b[0m                                 Traceback (most recent call last)",
      "\u001b[1;32m<ipython-input-33-5ad4c9803516>\u001b[0m in \u001b[0;36m<module>\u001b[1;34m\u001b[0m\n\u001b[1;32m----> 1\u001b[1;33m \u001b[0mUtot\u001b[0m \u001b[1;33m=\u001b[0m \u001b[0mUpar\u001b[0m\u001b[1;33m\u001b[0m\u001b[1;33m\u001b[0m\u001b[0m\n\u001b[0m\u001b[0;32m      2\u001b[0m \u001b[0mMcum\u001b[0m \u001b[1;33m=\u001b[0m \u001b[0mnp\u001b[0m\u001b[1;33m.\u001b[0m\u001b[0meye\u001b[0m\u001b[1;33m(\u001b[0m\u001b[1;36m4\u001b[0m\u001b[1;33m)\u001b[0m\u001b[1;33m\u001b[0m\u001b[1;33m\u001b[0m\u001b[0m\n\u001b[0;32m      3\u001b[0m \u001b[1;32mfor\u001b[0m \u001b[0mi\u001b[0m\u001b[1;33m,\u001b[0m \u001b[0mM\u001b[0m \u001b[1;32min\u001b[0m \u001b[0menumerate\u001b[0m\u001b[1;33m(\u001b[0m\u001b[0msystem\u001b[0m\u001b[1;33m[\u001b[0m\u001b[1;34m'AllM'\u001b[0m\u001b[1;33m]\u001b[0m\u001b[1;33m)\u001b[0m\u001b[1;33m:\u001b[0m\u001b[1;33m\u001b[0m\u001b[1;33m\u001b[0m\u001b[0m\n\u001b[0;32m      4\u001b[0m     \u001b[0mMcum\u001b[0m \u001b[1;33m=\u001b[0m \u001b[0mnp\u001b[0m\u001b[1;33m.\u001b[0m\u001b[0mdot\u001b[0m\u001b[1;33m(\u001b[0m\u001b[0mM\u001b[0m\u001b[1;33m.\u001b[0m\u001b[0mm\u001b[0m\u001b[1;33m,\u001b[0m \u001b[0mMcum\u001b[0m\u001b[1;33m)\u001b[0m \u001b[1;31m#ABCD matrix up to current element\u001b[0m\u001b[1;33m\u001b[0m\u001b[1;33m\u001b[0m\u001b[0m\n\u001b[0;32m      5\u001b[0m     \u001b[1;31m#only add aberrations after Prop and Lens!\u001b[0m\u001b[1;33m\u001b[0m\u001b[1;33m\u001b[0m\u001b[1;33m\u001b[0m\u001b[0m\n",
      "\u001b[1;31mNameError\u001b[0m: name 'Upar' is not defined"
     ]
    }
   ],
   "source": [
    "Utot = Upar\n",
    "Mcum = np.eye(4)\n",
    "for i, M in enumerate(system['AllM']):\n",
    "    Mcum = np.dot(M.m, Mcum) #ABCD matrix up to current element\n",
    "    #only add aberrations after Prop and Lens!\n",
    "    if isinstance(M, Prop) or isinstance(M, Lens):\n",
    "        XP = np.einsum(\"ij,jxy->ixy\",Mcum,XPrefMat)\n",
    "        pert = M.aberration(XP)\n",
    "        Utot = expm(1j*pert)@Utot"
   ]
  },
  {
   "cell_type": "code",
   "execution_count": 118,
   "metadata": {},
   "outputs": [
    {
     "data": {
      "text/plain": [
       "True"
      ]
     },
     "execution_count": 118,
     "metadata": {},
     "output_type": "execute_result"
    }
   ],
   "source": [
    "np.allclose(np.abs(XP), np.abs(XPrefMat))"
   ]
  },
  {
   "cell_type": "code",
   "execution_count": 148,
   "metadata": {},
   "outputs": [],
   "source": [
    "import sparse\n",
    "from opt_einsum import contract, contract_expression"
   ]
  },
  {
   "cell_type": "code",
   "execution_count": 192,
   "metadata": {},
   "outputs": [],
   "source": [
    "coo_data = np.concatenate([ops_sp[i].data.tocoo().data for i in range(4)])\n",
    "\n",
    "coo_row = np.concatenate([ops_sp[i].data.tocoo().row for i in range(4)])\n",
    "coo_col = np.concatenate([ops_sp[i].data.tocoo().col for i in range(4)])\n",
    "coo_page = np.concatenate([np.ones_like(ops_sp[i].data.tocoo().row)*i for i in range(4)])\n",
    "\n",
    "coo_cords = np.stack([coo_page, coo_row, coo_col], axis=0)\n",
    "coo_cords.shape\n",
    "\n",
    "chi_sp = sparse.COO(coo_cords, data=coo_data, shape=(4, *ops_sp[0].shape), fill_value=0.)"
   ]
  },
  {
   "cell_type": "code",
   "execution_count": 207,
   "metadata": {},
   "outputs": [
    {
     "data": {
      "text/plain": [
       "array([[[0.   +0.j, 0.   +0.j, 0.   +0.j, ..., 0.   +0.j, 0.   +0.j,\n",
       "         0.   +0.j],\n",
       "        [0.   +0.j, 0.   +0.j, 0.   +0.j, ..., 0.   +0.j, 0.   +0.j,\n",
       "         0.   +0.j],\n",
       "        [0.   +0.j, 0.   +0.j, 0.   +0.j, ..., 0.   +0.j, 0.   +0.j,\n",
       "         0.   +0.j],\n",
       "        ...,\n",
       "        [0.   +0.j, 0.   +0.j, 0.   +0.j, ..., 0.   +0.j, 0.   +0.j,\n",
       "         0.   +0.j],\n",
       "        [0.   +0.j, 0.   +0.j, 0.   +0.j, ..., 0.   +0.j, 0.   +0.j,\n",
       "         0.   +0.j],\n",
       "        [0.   +0.j, 0.   +0.j, 0.   +0.j, ..., 0.   +0.j, 0.   +0.j,\n",
       "         0.   +0.j]],\n",
       "\n",
       "       [[0.   +0.j, 1.   +0.j, 0.   +0.j, ..., 0.   +0.j, 0.   +0.j,\n",
       "         0.   +0.j],\n",
       "        [0.   +0.j, 0.   +0.j, 1.414+0.j, ..., 0.   +0.j, 0.   +0.j,\n",
       "         0.   +0.j],\n",
       "        [0.   +0.j, 0.   +0.j, 0.   +0.j, ..., 0.   +0.j, 0.   +0.j,\n",
       "         0.   +0.j],\n",
       "        ...,\n",
       "        [0.   +0.j, 0.   +0.j, 0.   +0.j, ..., 0.   +0.j, 6.928+0.j,\n",
       "         0.   +0.j],\n",
       "        [0.   +0.j, 0.   +0.j, 0.   +0.j, ..., 0.   +0.j, 0.   +0.j,\n",
       "         7.   +0.j],\n",
       "        [0.   +0.j, 0.   +0.j, 0.   +0.j, ..., 0.   +0.j, 0.   +0.j,\n",
       "         0.   +0.j]],\n",
       "\n",
       "       [[0.   +0.j, 0.   +0.j, 0.   +0.j, ..., 0.   +0.j, 0.   +0.j,\n",
       "         0.   +0.j],\n",
       "        [0.   +0.j, 0.   +0.j, 0.   +0.j, ..., 0.   +0.j, 0.   +0.j,\n",
       "         0.   +0.j],\n",
       "        [0.   +0.j, 0.   +0.j, 0.   +0.j, ..., 0.   +0.j, 0.   +0.j,\n",
       "         0.   +0.j],\n",
       "        ...,\n",
       "        [0.   +0.j, 0.   +0.j, 0.   +0.j, ..., 0.   +0.j, 0.   +0.j,\n",
       "         0.   +0.j],\n",
       "        [0.   +0.j, 0.   +0.j, 0.   +0.j, ..., 0.   +0.j, 0.   +0.j,\n",
       "         0.   +0.j],\n",
       "        [0.   +0.j, 0.   +0.j, 0.   +0.j, ..., 0.   +0.j, 0.   +0.j,\n",
       "         0.   +0.j]],\n",
       "\n",
       "       [[0.   +0.j, 0.   +0.j, 0.   +0.j, ..., 0.   +0.j, 0.   +0.j,\n",
       "         0.   +0.j],\n",
       "        [1.   -0.j, 0.   +0.j, 0.   +0.j, ..., 0.   +0.j, 0.   +0.j,\n",
       "         0.   +0.j],\n",
       "        [0.   +0.j, 1.414-0.j, 0.   +0.j, ..., 0.   +0.j, 0.   +0.j,\n",
       "         0.   +0.j],\n",
       "        ...,\n",
       "        [0.   +0.j, 0.   +0.j, 0.   +0.j, ..., 0.   +0.j, 0.   +0.j,\n",
       "         0.   +0.j],\n",
       "        [0.   +0.j, 0.   +0.j, 0.   +0.j, ..., 6.928-0.j, 0.   +0.j,\n",
       "         0.   +0.j],\n",
       "        [0.   +0.j, 0.   +0.j, 0.   +0.j, ..., 0.   +0.j, 7.   -0.j,\n",
       "         0.   +0.j]]])"
      ]
     },
     "execution_count": 207,
     "metadata": {},
     "output_type": "execute_result"
    }
   ],
   "source": [
    "chi_sp.todense()"
   ]
  },
  {
   "cell_type": "code",
   "execution_count": 124,
   "metadata": {},
   "outputs": [
    {
     "data": {
      "text/plain": [
       "True"
      ]
     },
     "execution_count": 124,
     "metadata": {},
     "output_type": "execute_result"
    }
   ],
   "source": [
    "np.allclose(chi_sp.todense(), chi)"
   ]
  },
  {
   "cell_type": "code",
   "execution_count": 135,
   "metadata": {},
   "outputs": [],
   "source": [
    "G_sp = sparse.COO.from_numpy(G)\n",
    "InvEigs_sp = sparse.COO.from_numpy(InvEigs.T)"
   ]
  },
  {
   "cell_type": "code",
   "execution_count": 136,
   "metadata": {},
   "outputs": [],
   "source": [
    "XPrefMat_sp = np.sqrt(2/k)*contract(\"ji,jk,kxy->ixy\", G_sp, InvEigs_sp, chi_sp, backend='sparse')"
   ]
  },
  {
   "cell_type": "code",
   "execution_count": 142,
   "metadata": {},
   "outputs": [
    {
     "data": {
      "text/html": [
       "<table><tbody><tr><th style=\"text-align: left\">Format</th><td style=\"text-align: left\">coo</td></tr><tr><th style=\"text-align: left\">Data Type</th><td style=\"text-align: left\">complex128</td></tr><tr><th style=\"text-align: left\">Shape</th><td style=\"text-align: left\">(4, 100, 100)</td></tr><tr><th style=\"text-align: left\">nnz</th><td style=\"text-align: left\">1440</td></tr><tr><th style=\"text-align: left\">Density</th><td style=\"text-align: left\">0.036</td></tr><tr><th style=\"text-align: left\">Read-only</th><td style=\"text-align: left\">True</td></tr><tr><th style=\"text-align: left\">Size</th><td style=\"text-align: left\">56.2K</td></tr><tr><th style=\"text-align: left\">Storage ratio</th><td style=\"text-align: left\">0.1</td></tr></tbody></table>"
      ],
      "text/plain": [
       "<COO: shape=(4, 100, 100), dtype=complex128, nnz=1440, fill_value=0j>"
      ]
     },
     "execution_count": 142,
     "metadata": {},
     "output_type": "execute_result"
    }
   ],
   "source": [
    "XPrefMat_sp"
   ]
  },
  {
   "cell_type": "code",
   "execution_count": 154,
   "metadata": {},
   "outputs": [],
   "source": [
    "#XP_sp = contract(\"ij,jxy->ixy\",sparse.COO.from_numpy(Mcum), XPrefMat_sp, backend='sparse')\n",
    "XP_expr = contract_expression(\"ij,jxy->ixy\", (4, 4), XPrefMat_sp.shape)"
   ]
  },
  {
   "cell_type": "code",
   "execution_count": 158,
   "metadata": {},
   "outputs": [
    {
     "name": "stdout",
     "output_type": "stream",
     "text": [
      "1000 loops, best of 5: 822 µs per loop\n"
     ]
    }
   ],
   "source": [
    "%timeit XP_expr(sparse.COO.from_numpy(Mcum), XPrefMat_sp, backend='sparse')"
   ]
  },
  {
   "cell_type": "code",
   "execution_count": 159,
   "metadata": {},
   "outputs": [
    {
     "name": "stdout",
     "output_type": "stream",
     "text": [
      "1000 loops, best of 5: 532 µs per loop\n"
     ]
    }
   ],
   "source": [
    "%timeit XP = np.einsum(\"ij,jxy->ixy\",Mcum,XPrefMat)"
   ]
  },
  {
   "cell_type": "code",
   "execution_count": 161,
   "metadata": {},
   "outputs": [],
   "source": [
    "XP_sp = XP_expr(sparse.COO.from_numpy(Mcum), XPrefMat_sp, backend='sparse')"
   ]
  },
  {
   "cell_type": "code",
   "execution_count": 165,
   "metadata": {},
   "outputs": [
    {
     "data": {
      "text/html": [
       "<table><tbody><tr><th style=\"text-align: left\">Format</th><td style=\"text-align: left\">coo</td></tr><tr><th style=\"text-align: left\">Data Type</th><td style=\"text-align: left\">complex128</td></tr><tr><th style=\"text-align: left\">Shape</th><td style=\"text-align: left\">(4, 100, 100)</td></tr><tr><th style=\"text-align: left\">nnz</th><td style=\"text-align: left\">2976</td></tr><tr><th style=\"text-align: left\">Density</th><td style=\"text-align: left\">0.0744</td></tr><tr><th style=\"text-align: left\">Read-only</th><td style=\"text-align: left\">True</td></tr><tr><th style=\"text-align: left\">Size</th><td style=\"text-align: left\">116.2K</td></tr><tr><th style=\"text-align: left\">Storage ratio</th><td style=\"text-align: left\">0.2</td></tr></tbody></table>"
      ],
      "text/plain": [
       "<COO: shape=(4, 100, 100), dtype=complex128, nnz=2976, fill_value=0j>"
      ]
     },
     "execution_count": 165,
     "metadata": {},
     "output_type": "execute_result"
    }
   ],
   "source": [
    "XP_sp@XP_sp"
   ]
  },
  {
   "cell_type": "code",
   "execution_count": 197,
   "metadata": {},
   "outputs": [],
   "source": [
    "from scipy.sparse.linalg import expm as expm_sp"
   ]
  },
  {
   "cell_type": "code",
   "execution_count": 201,
   "metadata": {},
   "outputs": [
    {
     "data": {
      "text/plain": [
       "<function scipy.sparse.linalg.matfuncs.expm>"
      ]
     },
     "execution_count": 201,
     "metadata": {},
     "output_type": "execute_result"
    }
   ],
   "source": [
    "expm_sp"
   ]
  },
  {
   "cell_type": "code",
   "execution_count": 208,
   "metadata": {},
   "outputs": [],
   "source": [
    "def calcPertSparse(system, chi):\n",
    "    a, b, aD, bD = chi\n",
    "    MuAndChi = getEvN(system['M'])\n",
    "    xsi1, xsi2 = MuAndChi['chi']\n",
    "    \n",
    "    mu = MuAndChi['mu']\n",
    "    InvEigs = np.linalg.inv(np.concatenate([mu, mu.conj()], axis=1))\n",
    "    G_sp = sparse.COO.from_numpy(G)\n",
    "    InvEigs_sp = sparse.COO.from_numpy(InvEigs.T)\n",
    "    \n",
    "    Argpar = (xsi1*aD@a + xsi2*bD@b) # argument of Upar = expm(1j*Argpar), is diagonal anyways!\n",
    "    #XPrefMat = np.sqrt(2/k)*np.einsum(\"ji,jk,kxy->ixy\", G, InvEigs.T, chi)\n",
    "    XPrefMat_sp = np.sqrt(2/k)*contract(\"ji,jk,kxy->ixy\", G_sp, InvEigs_sp, chi, backend='sparse')\n",
    "    \n",
    "    XP_expr = contract_expression(\"ij,jxy->ixy\", (4, 4), XPrefMat_sp.shape)\n",
    "    \n",
    "    #Utot = Upar.copy()\n",
    "    Argtot = Argpar.copy()\n",
    "    Mcum = np.eye(4)\n",
    "    for i, M in enumerate(system['AllM']):\n",
    "        Mcum = np.dot(M.m, Mcum) #ABCD matrix up to current element\n",
    "        #only add aberrations after Prop and Lens!\n",
    "        if isinstance(M, Prop) or isinstance(M, Lens):\n",
    "            #XP = np.einsum(\"ij,jxy->ixy\",Mcum,XPrefMat)\n",
    "            XP_sp = XP_expr(sparse.COO.from_numpy(Mcum), XPrefMat_sp, backend='sparse')\n",
    "            pert = M.aberration(XP_sp)\n",
    "            Argtot = Argtot + pert\n",
    "            #Utot = expm(1j*pert)@Utot\n",
    "    #Argscipy = Argtot.to_scipy_sparse().tocsc()        \n",
    "    #Utot = expm_sp(1j*Argscipy)\n",
    "    Argscipy = Argtot.todense()\n",
    "    Utot = expm(1j*Argscipy)\n",
    "    return np.sort(np.angle(np.linalg.eigvals(Utot))), np.sort(np.angle(np.exp(1j*np.diag(Argpar.todense()))))"
   ]
  },
  {
   "cell_type": "code",
   "execution_count": 182,
   "metadata": {},
   "outputs": [
    {
     "name": "stdout",
     "output_type": "stream",
     "text": [
      "(100, 100)\n"
     ]
    },
    {
     "data": {
      "text/plain": [
       "True"
      ]
     },
     "execution_count": 182,
     "metadata": {},
     "output_type": "execute_result"
    }
   ],
   "source": [
    "np.allclose(calcPertFast(system, chi)[0], calcPertSparse(system, chi_sp)[0])"
   ]
  },
  {
   "cell_type": "code",
   "execution_count": 180,
   "metadata": {},
   "outputs": [],
   "source": [
    "def calcPert(system, chi):\n",
    "    a, b, aD, bD = chi\n",
    "    MuAndChi = getEvN(system['M'])\n",
    "    xsi1, xsi2 = MuAndChi['chi']\n",
    "    \n",
    "    mu = MuAndChi['mu']\n",
    "    InvEigs = np.linalg.inv(np.concatenate([mu, mu.conj()], axis=1))\n",
    "    Upar = expm(1j*(xsi1*aD@a + xsi2*bD@b))\n",
    "    XPrefMat = np.sqrt(2/k)*np.einsum(\"ji,jk,kxy->ixy\", G, InvEigs.T, chi)\n",
    "    \n",
    "    Utot = Upar.copy()\n",
    "    Mcum = np.eye(4)\n",
    "    for i, M in enumerate(system['AllM']):\n",
    "        Mcum = np.dot(M.m, Mcum) #ABCD matrix up to current element\n",
    "        #only add aberrations after Prop and Lens!\n",
    "        if isinstance(M, Prop) or isinstance(M, Lens):\n",
    "            XP = np.einsum(\"ij,jxy->ixy\",Mcum,XPrefMat)\n",
    "            pert = M.aberration(XP)\n",
    "            Utot = expm(1j*pert)@Utot\n",
    "    return np.sort(np.angle(np.linalg.eigvals(Utot))), np.sort(np.angle(np.linalg.eigvals(Upar)))"
   ]
  },
  {
   "cell_type": "code",
   "execution_count": 181,
   "metadata": {},
   "outputs": [],
   "source": [
    "def calcPertFast(system, chi):\n",
    "    a, b, aD, bD = chi\n",
    "    MuAndChi = getEvN(system['M'])\n",
    "    xsi1, xsi2 = MuAndChi['chi']\n",
    "    \n",
    "    mu = MuAndChi['mu']\n",
    "    InvEigs = np.linalg.inv(np.concatenate([mu, mu.conj()], axis=1))\n",
    "    Argpar = (xsi1*aD@a + xsi2*bD@b) # argument of Upar = expm(1j*Argpar), is diagonal anyways!\n",
    "    XPrefMat = np.sqrt(2/k)*np.einsum(\"ji,jk,kxy->ixy\", G, InvEigs.T, chi)\n",
    "    \n",
    "    #Utot = Upar.copy()\n",
    "    Argtot = Argpar.copy()\n",
    "    Mcum = np.eye(4)\n",
    "    for i, M in enumerate(system['AllM']):\n",
    "        Mcum = np.dot(M.m, Mcum) #ABCD matrix up to current element\n",
    "        #only add aberrations after Prop and Lens!\n",
    "        if isinstance(M, Prop) or isinstance(M, Lens):\n",
    "            XP = np.einsum(\"ij,jxy->ixy\",Mcum,XPrefMat)\n",
    "            pert = M.aberration(XP)\n",
    "            Argtot = Argtot + pert\n",
    "            #Utot = expm(1j*pert)@Utot\n",
    "    Utot = expm(1j*Argtot)\n",
    "    return np.sort(np.angle(np.linalg.eigvals(Utot))), np.sort(np.angle(np.exp(1j*np.diag(Argpar))))"
   ]
  },
  {
   "cell_type": "code",
   "execution_count": null,
   "metadata": {},
   "outputs": [],
   "source": []
  },
  {
   "cell_type": "code",
   "execution_count": 56,
   "metadata": {},
   "outputs": [
    {
     "data": {
      "text/plain": [
       "False"
      ]
     },
     "execution_count": 56,
     "metadata": {},
     "output_type": "execute_result"
    }
   ],
   "source": [
    "np.allclose(calcPertFast(system, chi)[0], calcPert(system, chi)[0])"
   ]
  },
  {
   "cell_type": "code",
   "execution_count": 41,
   "metadata": {},
   "outputs": [],
   "source": [
    "stab = lambda m: abs(0.5*np.trace(m))<1\n",
    "\n",
    "N = 500\n",
    "L0 = 5.86e-2#1.267\n",
    "delt = 2e-4\n",
    "#Las = np.linspace(L0-delt, L0+delt, N)\n",
    "Las = np.linspace(5.858e-2, 5.8956e-2, N)\n",
    "\n",
    "ms = np.zeros((N,1))\n",
    "ws = np.zeros((N,2))\n",
    "freqs = np.zeros((N,4))\n",
    "for i, l in enumerate(Las):\n",
    "    #system = construct(La = l, thet = 10, roc=[100e-3,]*4)\n",
    "    #opt = OriginalTwister(betal=l, R=0.025, Rlarge=-0.075, thet=20., asym = 1.25)\n",
    "    opt = SixMirror(thetOpening = 20, Rfast = 50e-3, Rplane = 1e5, Rslow = -250e-3, diam=6e-3, dy=8e-3, dx=l)\n",
    "    system = geometry(**opt)\n",
    "    ms[i] = stab(system['M'])\n",
    "    w = M2waist(system['M'], lamb)\n",
    "    f = M2freq(system['M'], system['geometry'])\n",
    "    ws[i,:] = np.sort(w['ws'])\n",
    "    freqs[i,...] = np.concatenate(f)"
   ]
  },
  {
   "cell_type": "code",
   "execution_count": 42,
   "metadata": {},
   "outputs": [
    {
     "data": {
      "application/vnd.jupyter.widget-view+json": {
       "model_id": "cd033df686d543708fa49353489222f0",
       "version_major": 2,
       "version_minor": 0
      },
      "text/plain": [
       "Canvas(toolbar=Toolbar(toolitems=[('Home', 'Reset original view', 'home', 'home'), ('Back', 'Back to previous …"
      ]
     },
     "metadata": {},
     "output_type": "display_data"
    }
   ],
   "source": [
    "g, ax = plt.subplots(ncols=2, figsize=(8,4))\n",
    "ax[0].plot(Las, ws*1e6)\n",
    "ax[0].set_ylabel('um')\n",
    "ax[1].plot(Las, freqs*1e-6)\n",
    "ax[1].set_ylabel('MHz')\n",
    "ax[1].axhline(0, color='grey')\n",
    "plt.show()"
   ]
  },
  {
   "cell_type": "code",
   "execution_count": 33,
   "metadata": {},
   "outputs": [],
   "source": [
    "specPert = np.zeros((N, Na*Nb))\n",
    "spec = np.zeros((N, Na*Nb))\n",
    "fsrs =  np.zeros(N)\n",
    "for i, l in enumerate(Las):\n",
    "    #opt = OriginalTwister(betal=l, R=0.025, Rlarge=-0.075, thet=20., asym = 1.25)\n",
    "    opt = SixMirror(thetOpening = 20, Rfast = 50e-3, Rplane = 1e5, Rslow = -250e-3, diam=6e-3, dy=8e-3, dx=l)\n",
    "    system = geometry(**opt)\n",
    "    specPert[i,:], spec[i,:] = calcPertFast(system, chi)\n",
    "    fsrs[i] = 3.0e8/system['geometry']['Lrt']"
   ]
  },
  {
   "cell_type": "code",
   "execution_count": 34,
   "metadata": {},
   "outputs": [],
   "source": [
    "from joblib import Parallel, delayed"
   ]
  },
  {
   "cell_type": "code",
   "execution_count": 35,
   "metadata": {},
   "outputs": [],
   "source": [
    "#single parameter function for parallelization\n",
    "def getPert(l):\n",
    "    opt = SixMirror(thetOpening = 20, Rfast = 50e-3, Rplane = 1e5, Rslow = -250e-3, diam=6e-3, dy=8e-3, dx=l)\n",
    "    system = geometry(**opt)\n",
    "    sp, s = calcPertFast(system, chi)\n",
    "    fsr = 3.0e8/system['geometry']['Lrt']\n",
    "    return sp, s, fsr"
   ]
  },
  {
   "cell_type": "code",
   "execution_count": 43,
   "metadata": {},
   "outputs": [],
   "source": [
    "result = Parallel(n_jobs=8)(delayed(getPert)(l) for l in Las)\n",
    "\n",
    "specPert, spec, fsrs = zip(*result)\n",
    "specPert = np.stack(specPert, axis=0)\n",
    "spec = np.stack(spec, axis=0)\n",
    "fsrs = np.stack(fsrs, axis=0)"
   ]
  },
  {
   "cell_type": "code",
   "execution_count": 44,
   "metadata": {},
   "outputs": [
    {
     "data": {
      "application/vnd.jupyter.widget-view+json": {
       "model_id": "9d24ad516cce4ad5b086039176c0e17f",
       "version_major": 2,
       "version_minor": 0
      },
      "text/plain": [
       "Canvas(toolbar=Toolbar(toolitems=[('Home', 'Reset original view', 'home', 'home'), ('Back', 'Back to previous …"
      ]
     },
     "metadata": {},
     "output_type": "display_data"
    }
   ],
   "source": [
    "smhz = specPert*fsrs[:,None]/(2*np.pi)\n",
    "fsrc = fsrs[fsrs.shape[0]//2]\n",
    "fplt = np.mod(3*smhz+fsrc/2, fsrs[:,None])\n",
    "\n",
    "f, ax = plt.subplots(ncols=2, figsize=(9,4))\n",
    "ax[0].plot(Las, fplt, '.', ms=2)\n",
    "#plt.plot(Las[:], np.mod(3* smhz[:,::3]+fsr/2, fsrs[:,None]), '.', ms=2)\n",
    "#plt.plot(Las, specPert, '.', ms=2)\n",
    "std =  np.std(fplt[:,2:-2],axis=1)\n",
    "ax[1].plot(Las, std)\n",
    "minimum = np.argmin(std)\n",
    "ax[0].axvline(Las[minimum], color='r')\n",
    "plt.show()"
   ]
  },
  {
   "cell_type": "code",
   "execution_count": 56,
   "metadata": {},
   "outputs": [
    {
     "name": "stdout",
     "output_type": "stream",
     "text": [
      "100 loops, best of 5: 14.4 ms per loop\n"
     ]
    }
   ],
   "source": [
    "%timeit calcPert(system, chi)"
   ]
  },
  {
   "cell_type": "code",
   "execution_count": 40,
   "metadata": {
    "collapsed": true,
    "jupyter": {
     "outputs_hidden": true
    }
   },
   "outputs": [
    {
     "data": {
      "text/plain": [
       "Timer unit: 1e-07 s\n",
       "\n",
       "Total time: 0.019161 s\n",
       "File: <ipython-input-31-a3315af079d0>\n",
       "Function: calcPert at line 1\n",
       "\n",
       "Line #      Hits         Time  Per Hit   % Time  Line Contents\n",
       "==============================================================\n",
       "     1                                           def calcPert(system, chi):\n",
       "     2         1         70.0     70.0      0.0      a, b, aD, bD = chi\n",
       "     3         1       3996.0   3996.0      2.1      MuAndChi = getEvN(system['M'])\n",
       "     4         1         42.0     42.0      0.0      xsi1, xsi2 = MuAndChi['chi']\n",
       "     5                                               \n",
       "     6         1          6.0      6.0      0.0      mu = MuAndChi['mu']\n",
       "     7         1        509.0    509.0      0.3      InvEigs = np.linalg.inv(np.concatenate([mu, mu.conj()], axis=1))\n",
       "     8         1      33914.0  33914.0     17.7      Upar = expm(1j*(xsi1*aD@a + xsi2*bD@b))\n",
       "     9         1       8318.0   8318.0      4.3      XPrefMat = np.sqrt(2/k)*np.einsum(\"ji,jk,kxy->ixy\", G, InvEigs.T, chi)\n",
       "    10                                               \n",
       "    11         1         59.0     59.0      0.0      Utot = Upar.copy()\n",
       "    12         1        168.0    168.0      0.1      Mcum = np.eye(4)\n",
       "    13        31        414.0     13.4      0.2      for i, M in enumerate(system['AllM']):\n",
       "    14        30       1921.0     64.0      1.0          Mcum = np.dot(M.m, Mcum) #ABCD matrix up to current element\n",
       "    15                                                   #only add aberrations after Prop and Lens!\n",
       "    16        30        415.0     13.8      0.2          if isinstance(M, Prop) or isinstance(M, Lens):\n",
       "    17        18      18575.0   1031.9      9.7              XP = np.einsum(\"ij,jxy->ixy\",Mcum,XPrefMat)\n",
       "    18        18      20805.0   1155.8     10.9              pert = M.aberration(XP)\n",
       "    19        18      96299.0   5349.9     50.3              Utot = expm(1j*pert)@Utot\n",
       "    20         1       6099.0   6099.0      3.2      return np.sort(np.angle(np.linalg.eigvals(Utot))), np.sort(np.angle(np.linalg.eigvals(Upar)))"
      ]
     },
     "metadata": {},
     "output_type": "display_data"
    }
   ],
   "source": [
    "%lprun -f calcPert calcPert(system, chi)"
   ]
  },
  {
   "cell_type": "code",
   "execution_count": 57,
   "metadata": {},
   "outputs": [
    {
     "name": "stdout",
     "output_type": "stream",
     "text": [
      "100 loops, best of 5: 5.94 ms per loop\n"
     ]
    }
   ],
   "source": [
    "%timeit calcPertFast(system, chi)"
   ]
  },
  {
   "cell_type": "code",
   "execution_count": 195,
   "metadata": {},
   "outputs": [
    {
     "data": {
      "text/plain": [
       "Timer unit: 1e-07 s\n",
       "\n",
       "Total time: 152.908 s\n",
       "File: <ipython-input-181-ee0916e98325>\n",
       "Function: calcPertFast at line 1\n",
       "\n",
       "Line #      Hits         Time  Per Hit   % Time  Line Contents\n",
       "==============================================================\n",
       "     1                                           def calcPertFast(system, chi):\n",
       "     2         1       3414.0   3414.0      0.0      a, b, aD, bD = chi\n",
       "     3         1     343523.0 343523.0      0.0      MuAndChi = getEvN(system['M'])\n",
       "     4         1         71.0     71.0      0.0      xsi1, xsi2 = MuAndChi['chi']\n",
       "     5                                               \n",
       "     6         1          6.0      6.0      0.0      mu = MuAndChi['mu']\n",
       "     7         1       1861.0   1861.0      0.0      InvEigs = np.linalg.inv(np.concatenate([mu, mu.conj()], axis=1))\n",
       "     8         1   16689628.0 16689628.0      1.1      Argpar = (xsi1*aD@a + xsi2*bD@b) # argument of Upar = expm(1j*Argpar), is diagonal anyways!\n",
       "     9         1   48248965.0 48248965.0      3.2      XPrefMat = np.sqrt(2/k)*np.einsum(\"ji,jk,kxy->ixy\", G, InvEigs.T, chi)\n",
       "    10                                               \n",
       "    11                                               #Utot = Upar.copy()\n",
       "    12         1     404217.0 404217.0      0.0      Argtot = Argpar.copy()\n",
       "    13         1       4510.0   4510.0      0.0      Mcum = np.eye(4)\n",
       "    14        31       1071.0     34.5      0.0      for i, M in enumerate(system['AllM']):\n",
       "    15        30      17790.0    593.0      0.0          Mcum = np.dot(M.m, Mcum) #ABCD matrix up to current element\n",
       "    16                                                   #only add aberrations after Prop and Lens!\n",
       "    17        30        822.0     27.4      0.0          if isinstance(M, Prop) or isinstance(M, Lens):\n",
       "    18        18   86271123.0 4792840.2      5.6              XP = np.einsum(\"ij,jxy->ixy\",Mcum,XPrefMat)\n",
       "    19        18 1105225105.0 61401394.7     72.3              pert = M.aberration(XP)\n",
       "    20        18    9458560.0 525475.6      0.6              Argtot = Argtot + pert\n",
       "    21                                                       #Utot = expm(1j*pert)@Utot\n",
       "    22         1  134861839.0 134861839.0      8.8      Utot = expm(1j*Argtot)\n",
       "    23         1  127549469.0 127549469.0      8.3      return np.sort(np.angle(np.linalg.eigvals(Utot))), np.sort(np.angle(np.exp(1j*np.diag(Argpar))))"
      ]
     },
     "metadata": {},
     "output_type": "display_data"
    }
   ],
   "source": [
    "%lprun -f calcPertFast calcPertFast(system, chi)"
   ]
  },
  {
   "cell_type": "code",
   "execution_count": 209,
   "metadata": {},
   "outputs": [
    {
     "data": {
      "text/plain": [
       "Timer unit: 1e-07 s\n",
       "\n",
       "Total time: 47.5199 s\n",
       "File: <ipython-input-208-ecdbe7c624b5>\n",
       "Function: calcPertSparse at line 1\n",
       "\n",
       "Line #      Hits         Time  Per Hit   % Time  Line Contents\n",
       "==============================================================\n",
       "     1                                           def calcPertSparse(system, chi):\n",
       "     2         1      18027.0  18027.0      0.0      a, b, aD, bD = chi\n",
       "     3         1       3476.0   3476.0      0.0      MuAndChi = getEvN(system['M'])\n",
       "     4         1         45.0     45.0      0.0      xsi1, xsi2 = MuAndChi['chi']\n",
       "     5                                               \n",
       "     6         1          7.0      7.0      0.0      mu = MuAndChi['mu']\n",
       "     7         1        453.0    453.0      0.0      InvEigs = np.linalg.inv(np.concatenate([mu, mu.conj()], axis=1))\n",
       "     8         1        975.0    975.0      0.0      G_sp = sparse.COO.from_numpy(G)\n",
       "     9         1        836.0    836.0      0.0      InvEigs_sp = sparse.COO.from_numpy(InvEigs.T)\n",
       "    10                                               \n",
       "    11         1     688103.0 688103.0      0.1      Argpar = (xsi1*aD@a + xsi2*bD@b) # argument of Upar = expm(1j*Argpar), is diagonal anyways!\n",
       "    12                                               #XPrefMat = np.sqrt(2/k)*np.einsum(\"ji,jk,kxy->ixy\", G, InvEigs.T, chi)\n",
       "    13         1      91010.0  91010.0      0.0      XPrefMat_sp = np.sqrt(2/k)*contract(\"ji,jk,kxy->ixy\", G_sp, InvEigs_sp, chi, backend='sparse')\n",
       "    14                                               \n",
       "    15         1       1897.0   1897.0      0.0      XP_expr = contract_expression(\"ij,jxy->ixy\", (4, 4), XPrefMat_sp.shape)\n",
       "    16                                               \n",
       "    17                                               #Utot = Upar.copy()\n",
       "    18         1        856.0    856.0      0.0      Argtot = Argpar.copy()\n",
       "    19         1        108.0    108.0      0.0      Mcum = np.eye(4)\n",
       "    20        31        761.0     24.5      0.0      for i, M in enumerate(system['AllM']):\n",
       "    21        30       4976.0    165.9      0.0          Mcum = np.dot(M.m, Mcum) #ABCD matrix up to current element\n",
       "    22                                                   #only add aberrations after Prop and Lens!\n",
       "    23        30        669.0     22.3      0.0          if isinstance(M, Prop) or isinstance(M, Lens):\n",
       "    24                                                       #XP = np.einsum(\"ij,jxy->ixy\",Mcum,XPrefMat)\n",
       "    25        18    1860693.0 103371.8      0.4              XP_sp = XP_expr(sparse.COO.from_numpy(Mcum), XPrefMat_sp, backend='sparse')\n",
       "    26        18  195291564.0 10849531.3     41.1              pert = M.aberration(XP_sp)\n",
       "    27        18   15793019.0 877389.9      3.3              Argtot = Argtot + pert\n",
       "    28                                                       #Utot = expm(1j*pert)@Utot\n",
       "    29                                               #Argscipy = Argtot.to_scipy_sparse().tocsc()        \n",
       "    30                                               #Utot = expm_sp(1j*Argscipy)\n",
       "    31         1     326657.0 326657.0      0.1      Argscipy = Argtot.todense()\n",
       "    32         1  132719751.0 132719751.0     27.9      Utot = expm(1j*Argscipy)\n",
       "    33         1  128395255.0 128395255.0     27.0      return np.sort(np.angle(np.linalg.eigvals(Utot))), np.sort(np.angle(np.exp(1j*np.diag(Argpar.todense()))))"
      ]
     },
     "metadata": {},
     "output_type": "display_data"
    }
   ],
   "source": [
    "%lprun -f calcPertSparse calcPertSparse(system, chi_sp)"
   ]
  },
  {
   "cell_type": "code",
   "execution_count": null,
   "metadata": {},
   "outputs": [],
   "source": []
  }
 ],
 "metadata": {
  "kernelspec": {
   "display_name": "Python 3",
   "language": "python",
   "name": "python3"
  },
  "language_info": {
   "codemirror_mode": {
    "name": "ipython",
    "version": 3
   },
   "file_extension": ".py",
   "mimetype": "text/x-python",
   "name": "python",
   "nbconvert_exporter": "python",
   "pygments_lexer": "ipython3",
   "version": "3.8.8"
  }
 },
 "nbformat": 4,
 "nbformat_minor": 4
}
