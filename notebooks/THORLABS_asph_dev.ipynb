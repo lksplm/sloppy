{
 "cells": [
  {
   "cell_type": "code",
   "execution_count": 1,
   "metadata": {
    "editable": true,
    "slideshow": {
     "slide_type": ""
    },
    "tags": []
   },
   "outputs": [],
   "source": [
    "%load_ext autoreload\n",
    "%autoreload 2"
   ]
  },
  {
   "cell_type": "code",
   "execution_count": 2,
   "metadata": {},
   "outputs": [],
   "source": [
    "%matplotlib widget\n",
    "import matplotlib.pyplot as plt\n",
    "from ipywidgets import *\n",
    "import numpy as np\n",
    "import k3d\n",
    "import matplotlib.pyplot as plt\n",
    "from sloppy.optic import *\n",
    "from sloppy.raytracing import *\n",
    "from sloppy.abcd import *\n",
    "from sloppy.utils import *\n",
    "from sloppy.tools import *"
   ]
  },
  {
   "cell_type": "code",
   "execution_count": 3,
   "metadata": {},
   "outputs": [
    {
     "data": {
      "text/plain": [
       "[(2, 4), (3, 6), (4, 8)]"
      ]
     },
     "execution_count": 3,
     "metadata": {},
     "output_type": "execute_result"
    }
   ],
   "source": [
    "deg = 3 # should give 2, 4, 6\n",
    "[(i, 2*i) for i in range(2,deg+2)]"
   ]
  },
  {
   "cell_type": "code",
   "execution_count": 34,
   "metadata": {},
   "outputs": [],
   "source": [
    "def LensCav(Rgrin = -0.840660, fgrin=1.5, k=0, An = [0,], eps_grin=0.0, grin_diam=2.2, grin_thick=1.5):\n",
    "\n",
    "    p_grin_f = fgrin + eps_grin\n",
    "    p_grin_b = p_grin_f + grin_thick\n",
    "    p_focus = p_grin_b + 0.81\n",
    "\n",
    "\n",
    "    \n",
    "    p0 = np.array([0,0,p_grin_f])\n",
    "    p1 = np.array([0,0,p_grin_b])\n",
    "    p2 = np.array([0,0,p_focus])\n",
    "    \n",
    "    hi = 12.7\n",
    "    qi=7.75\n",
    "    ng = 1.4537\n",
    "\n",
    "     #(ng-1)*fgrin\n",
    "\n",
    "    coeff = np.array([Rgrin, k,] + An)\n",
    "    \n",
    "    nz = (0., 0. ,-1.0)\n",
    "    nzm = (0., 0. ,1.0)\n",
    "    axz = (-1, 0, 0)\n",
    "    axzm = (1, 0, 0)\n",
    "\n",
    "    screen = Screen(n=nzm, ax=axzm)\n",
    "\n",
    "    # negative sign of first cuved surface for abcd matrix\n",
    "    elements = [screen,\n",
    "                ThorlabsAsphere(p=p0, n=nz, ax=axz, diameter=grin_diam, n2=ng, coef=coeff), #R=-Rgrin,\n",
    "                Glass(p=p1, n=nz, ax=axz, diameter=grin_diam, n1=ng),\n",
    "               Screen(p=p2, n=nzm, ax=axzm)]\n",
    "\n",
    "    return elements"
   ]
  },
  {
   "cell_type": "code",
   "execution_count": 35,
   "metadata": {},
   "outputs": [],
   "source": [
    "x,y = disc_coords(R=0.5, n_radii=11, n_angles=7)"
   ]
  },
  {
   "cell_type": "code",
   "execution_count": 36,
   "metadata": {},
   "outputs": [],
   "source": [
    "elements = LensCav(Rgrin=-0.840660, k=-0.963070, An=[-9.476566e-2, -2.790461e-2, -5.415580e-3, -3.553653e-3])\n",
    "screen = elements[0]\n",
    "sys = RaySystem(elements, add_screen=False)\n",
    "sys.screen = screen\n",
    "\n",
    "# mu = np.array([0.5, 0., 0., 0.])\n",
    "# mu = np.stack([[0.0, 0., sx, 0.] for sx in np.linspace(-0.1, 0.1, 7)], axis=0)\n",
    "# mu = np.stack([[xx, 0., 0., 0.] for xx in np.linspace(-0.3, 0.3, 7)], axis=0)\n",
    "mu = np.stack([x, y, np.zeros_like(x), np.zeros_like(x)], axis=-1)\n",
    "\n",
    "ray = sys.screen.eigenvectors_to_rays(mu)"
   ]
  },
  {
   "cell_type": "code",
   "execution_count": 37,
   "metadata": {},
   "outputs": [],
   "source": [
    "traj = sys.propagate(ray, at_screen=False, clip=False)"
   ]
  },
  {
   "cell_type": "code",
   "execution_count": 38,
   "metadata": {},
   "outputs": [
    {
     "data": {
      "application/vnd.jupyter.widget-view+json": {
       "model_id": "83b5a399443d4c5eadcd88322ea6f268",
       "version_major": 2,
       "version_minor": 0
      },
      "text/plain": [
       "Canvas(toolbar=Toolbar(toolitems=[('Home', 'Reset original view', 'home', 'home'), ('Back', 'Back to previous …"
      ]
     },
     "metadata": {},
     "output_type": "display_data"
    }
   ],
   "source": [
    "plt.figure(figsize=(12, 3))\n",
    "for i in range(traj.shape[2]):\n",
    "    plt.plot(traj[:, 0, i, 2], traj[:, 0, i, 0], marker='.')\n",
    "plt.show()"
   ]
  },
  {
   "cell_type": "code",
   "execution_count": 39,
   "metadata": {},
   "outputs": [
    {
     "data": {
      "application/vnd.jupyter.widget-view+json": {
       "model_id": "37ec8039c16645bd9d0ecd533a7b84ae",
       "version_major": 2,
       "version_minor": 0
      },
      "text/plain": [
       "Canvas(toolbar=Toolbar(toolitems=[('Home', 'Reset original view', 'home', 'home'), ('Back', 'Back to previous …"
      ]
     },
     "metadata": {},
     "output_type": "display_data"
    }
   ],
   "source": [
    "plt.figure()\n",
    "plt.plot(traj[-1, 0, :, 0], traj[-1, 0, :, 1], marker='.', ls='none')\n",
    "plt.show()"
   ]
  },
  {
   "cell_type": "code",
   "execution_count": 40,
   "metadata": {},
   "outputs": [
    {
     "name": "stderr",
     "output_type": "stream",
     "text": [
      "C:\\Users\\lukas\\.conda\\envs\\sloppy\\lib\\site-packages\\traittypes\\traittypes.py:101: UserWarning: Given trait value dtype \"float64\" does not match required type \"float32\". A coerced copy has been created.\n",
      "  np.dtype(self.dtype).name))\n"
     ]
    },
    {
     "data": {
      "application/vnd.jupyter.widget-view+json": {
       "model_id": "53570736524f4119b40e8828129b0288",
       "version_major": 2,
       "version_minor": 0
      },
      "text/plain": [
       "Output()"
      ]
     },
     "metadata": {},
     "output_type": "display_data"
    }
   ],
   "source": [
    "try:\n",
    "    plot.close()\n",
    "except:\n",
    "    pass\n",
    "plot = k3d.plot(camera_auto_fit=True, antialias=True)\n",
    "\n",
    "for i, el in enumerate(sys.elements):\n",
    "    if not isinstance(el, Screen):\n",
    "        plot += el.plot(opacity=0.4, n_radii=7)\n",
    "\n",
    "for i, el in enumerate(sys.elements):\n",
    "    plot_element_ax(el, plot, length=2.)\n",
    "\n",
    "# # plot_rays(ray, plot)\n",
    "plot_trajs(traj, plot)\n",
    "pts = k3d.points(traj[:,0,:,:].reshape((-1, 3)), point_size=0.1, color=0xff0000)\n",
    "\n",
    "plot += pts\n",
    "# plot_trajs(traj[0:7], plot)\n",
    "# plot_trajs(traj[6:], plot, color=0x555500)\n",
    "\n",
    "plot.display()"
   ]
  },
  {
   "cell_type": "code",
   "execution_count": 125,
   "metadata": {},
   "outputs": [
    {
     "ename": "UnboundLocalError",
     "evalue": "local variable 'fu' referenced before assignment",
     "output_type": "error",
     "traceback": [
      "\u001b[1;31m---------------------------------------------------------------------------\u001b[0m",
      "\u001b[1;31mUnboundLocalError\u001b[0m                         Traceback (most recent call last)",
      "\u001b[1;32m<ipython-input-125-a43bccf9b2d0>\u001b[0m in \u001b[0;36m<module>\u001b[1;34m\u001b[0m\n\u001b[0;32m      1\u001b[0m \u001b[0mcavfct\u001b[0m \u001b[1;33m=\u001b[0m \u001b[0mLensCav\u001b[0m\u001b[1;33m\u001b[0m\u001b[1;33m\u001b[0m\u001b[0m\n\u001b[0;32m      2\u001b[0m \u001b[0mparname\u001b[0m \u001b[1;33m=\u001b[0m \u001b[1;34m'eps_grin'\u001b[0m\u001b[1;33m\u001b[0m\u001b[1;33m\u001b[0m\u001b[0m\n\u001b[1;32m----> 3\u001b[1;33m \u001b[0mres\u001b[0m \u001b[1;33m=\u001b[0m \u001b[0mdegeneracy_length\u001b[0m\u001b[1;33m(\u001b[0m\u001b[0mcavfct\u001b[0m\u001b[1;33m,\u001b[0m \u001b[0mparname\u001b[0m\u001b[1;33m,\u001b[0m \u001b[1;36m1\u001b[0m\u001b[1;33m)\u001b[0m\u001b[1;33m\u001b[0m\u001b[1;33m\u001b[0m\u001b[0m\n\u001b[0m\u001b[0;32m      4\u001b[0m \u001b[0mLdeg\u001b[0m \u001b[1;33m=\u001b[0m \u001b[0mres\u001b[0m\u001b[1;33m.\u001b[0m\u001b[0mx\u001b[0m\u001b[1;33m\u001b[0m\u001b[1;33m\u001b[0m\u001b[0m\n\u001b[0;32m      5\u001b[0m \u001b[0mprint\u001b[0m\u001b[1;33m(\u001b[0m\u001b[0mres\u001b[0m\u001b[1;33m)\u001b[0m\u001b[1;33m\u001b[0m\u001b[1;33m\u001b[0m\u001b[0m\n",
      "\u001b[1;32mc:\\users\\lukas\\documents\\phd\\sloppy\\src\\sloppy\\tools.py\u001b[0m in \u001b[0;36mdegeneracy_length\u001b[1;34m(cavfct, parname, scanrange, s, degmodenum)\u001b[0m\n\u001b[0;32m     35\u001b[0m \u001b[1;33m\u001b[0m\u001b[0m\n\u001b[0;32m     36\u001b[0m     \u001b[0mLa\u001b[0m \u001b[1;33m=\u001b[0m \u001b[0minspect\u001b[0m\u001b[1;33m.\u001b[0m\u001b[0msignature\u001b[0m\u001b[1;33m(\u001b[0m\u001b[0mcavfct\u001b[0m\u001b[1;33m)\u001b[0m\u001b[1;33m.\u001b[0m\u001b[0mparameters\u001b[0m\u001b[1;33m[\u001b[0m\u001b[0mparname\u001b[0m\u001b[1;33m]\u001b[0m\u001b[1;33m.\u001b[0m\u001b[0mdefault\u001b[0m\u001b[1;33m\u001b[0m\u001b[1;33m\u001b[0m\u001b[0m\n\u001b[1;32m---> 37\u001b[1;33m     \u001b[0mres\u001b[0m \u001b[1;33m=\u001b[0m \u001b[0mminimize_scalar\u001b[0m\u001b[1;33m(\u001b[0m\u001b[0mget_freq\u001b[0m\u001b[1;33m,\u001b[0m \u001b[0mbounds\u001b[0m\u001b[1;33m=\u001b[0m\u001b[1;33m(\u001b[0m\u001b[1;33m(\u001b[0m\u001b[1;36m1\u001b[0m\u001b[1;33m-\u001b[0m\u001b[0mscanrange\u001b[0m\u001b[1;33m)\u001b[0m\u001b[1;33m*\u001b[0m\u001b[0mLa\u001b[0m\u001b[1;33m,\u001b[0m \u001b[1;33m(\u001b[0m\u001b[1;36m1\u001b[0m\u001b[1;33m+\u001b[0m\u001b[0mscanrange\u001b[0m\u001b[1;33m)\u001b[0m\u001b[1;33m*\u001b[0m\u001b[0mLa\u001b[0m\u001b[1;33m)\u001b[0m\u001b[1;33m,\u001b[0m \u001b[0mmethod\u001b[0m\u001b[1;33m=\u001b[0m\u001b[1;34m'bounded'\u001b[0m\u001b[1;33m)\u001b[0m\u001b[1;33m\u001b[0m\u001b[1;33m\u001b[0m\u001b[0m\n\u001b[0m\u001b[0;32m     38\u001b[0m     \u001b[1;32mreturn\u001b[0m \u001b[0mres\u001b[0m\u001b[1;33m\u001b[0m\u001b[1;33m\u001b[0m\u001b[0m\n\u001b[0;32m     39\u001b[0m \u001b[1;33m\u001b[0m\u001b[0m\n",
      "\u001b[1;32m~\\.conda\\envs\\sloppy\\lib\\site-packages\\scipy\\optimize\\_minimize.py\u001b[0m in \u001b[0;36mminimize_scalar\u001b[1;34m(fun, bracket, bounds, args, method, tol, options)\u001b[0m\n\u001b[0;32m    788\u001b[0m         \u001b[1;32mif\u001b[0m \u001b[0misinstance\u001b[0m\u001b[1;33m(\u001b[0m\u001b[0mdisp\u001b[0m\u001b[1;33m,\u001b[0m \u001b[0mbool\u001b[0m\u001b[1;33m)\u001b[0m\u001b[1;33m:\u001b[0m\u001b[1;33m\u001b[0m\u001b[1;33m\u001b[0m\u001b[0m\n\u001b[0;32m    789\u001b[0m             \u001b[0moptions\u001b[0m\u001b[1;33m[\u001b[0m\u001b[1;34m'disp'\u001b[0m\u001b[1;33m]\u001b[0m \u001b[1;33m=\u001b[0m \u001b[1;36m2\u001b[0m \u001b[1;33m*\u001b[0m \u001b[0mint\u001b[0m\u001b[1;33m(\u001b[0m\u001b[0mdisp\u001b[0m\u001b[1;33m)\u001b[0m\u001b[1;33m\u001b[0m\u001b[1;33m\u001b[0m\u001b[0m\n\u001b[1;32m--> 790\u001b[1;33m         \u001b[1;32mreturn\u001b[0m \u001b[0m_minimize_scalar_bounded\u001b[0m\u001b[1;33m(\u001b[0m\u001b[0mfun\u001b[0m\u001b[1;33m,\u001b[0m \u001b[0mbounds\u001b[0m\u001b[1;33m,\u001b[0m \u001b[0margs\u001b[0m\u001b[1;33m,\u001b[0m \u001b[1;33m**\u001b[0m\u001b[0moptions\u001b[0m\u001b[1;33m)\u001b[0m\u001b[1;33m\u001b[0m\u001b[1;33m\u001b[0m\u001b[0m\n\u001b[0m\u001b[0;32m    791\u001b[0m     \u001b[1;32melif\u001b[0m \u001b[0mmeth\u001b[0m \u001b[1;33m==\u001b[0m \u001b[1;34m'golden'\u001b[0m\u001b[1;33m:\u001b[0m\u001b[1;33m\u001b[0m\u001b[1;33m\u001b[0m\u001b[0m\n\u001b[0;32m    792\u001b[0m         \u001b[1;32mreturn\u001b[0m \u001b[0m_minimize_scalar_golden\u001b[0m\u001b[1;33m(\u001b[0m\u001b[0mfun\u001b[0m\u001b[1;33m,\u001b[0m \u001b[0mbracket\u001b[0m\u001b[1;33m,\u001b[0m \u001b[0margs\u001b[0m\u001b[1;33m,\u001b[0m \u001b[1;33m**\u001b[0m\u001b[0moptions\u001b[0m\u001b[1;33m)\u001b[0m\u001b[1;33m\u001b[0m\u001b[1;33m\u001b[0m\u001b[0m\n",
      "\u001b[1;32m~\\.conda\\envs\\sloppy\\lib\\site-packages\\scipy\\optimize\\optimize.py\u001b[0m in \u001b[0;36m_minimize_scalar_bounded\u001b[1;34m(func, bounds, args, xatol, maxiter, disp, **unknown_options)\u001b[0m\n\u001b[0;32m   1878\u001b[0m             \u001b[1;32mbreak\u001b[0m\u001b[1;33m\u001b[0m\u001b[1;33m\u001b[0m\u001b[0m\n\u001b[0;32m   1879\u001b[0m \u001b[1;33m\u001b[0m\u001b[0m\n\u001b[1;32m-> 1880\u001b[1;33m     \u001b[1;32mif\u001b[0m \u001b[0mnp\u001b[0m\u001b[1;33m.\u001b[0m\u001b[0misnan\u001b[0m\u001b[1;33m(\u001b[0m\u001b[0mxf\u001b[0m\u001b[1;33m)\u001b[0m \u001b[1;32mor\u001b[0m \u001b[0mnp\u001b[0m\u001b[1;33m.\u001b[0m\u001b[0misnan\u001b[0m\u001b[1;33m(\u001b[0m\u001b[0mfx\u001b[0m\u001b[1;33m)\u001b[0m \u001b[1;32mor\u001b[0m \u001b[0mnp\u001b[0m\u001b[1;33m.\u001b[0m\u001b[0misnan\u001b[0m\u001b[1;33m(\u001b[0m\u001b[0mfu\u001b[0m\u001b[1;33m)\u001b[0m\u001b[1;33m:\u001b[0m\u001b[1;33m\u001b[0m\u001b[1;33m\u001b[0m\u001b[0m\n\u001b[0m\u001b[0;32m   1881\u001b[0m         \u001b[0mflag\u001b[0m \u001b[1;33m=\u001b[0m \u001b[1;36m2\u001b[0m\u001b[1;33m\u001b[0m\u001b[1;33m\u001b[0m\u001b[0m\n\u001b[0;32m   1882\u001b[0m \u001b[1;33m\u001b[0m\u001b[0m\n",
      "\u001b[1;31mUnboundLocalError\u001b[0m: local variable 'fu' referenced before assignment"
     ]
    }
   ],
   "source": [
    "cavfct = LensCav\n",
    "parname = 'eps_grin'\n",
    "res = degeneracy_length(cavfct, parname, 1)\n",
    "Ldeg = res.x\n",
    "print(res)\n",
    "elements = cavfct(**{parname: Ldeg})\n",
    "sys = RaySystem(elements)\n",
    "system = sys.abcd\n",
    "mu1, mu2 = system.q"
   ]
  },
  {
   "cell_type": "code",
   "execution_count": 293,
   "metadata": {},
   "outputs": [],
   "source": [
    "def _cavity_parameter_interaction_factory(cavfct, parname, scanrange, N = 300):\n",
    "    fig, ax = plt.subplots(ncols=2, figsize=(8,4), sharex=True)\n",
    "    lws = [ax[0].plot([0, 1], [0, 1])[0] for i in range(2)]\n",
    "    ax[0].set_ylabel('um')\n",
    "    lfs = [ax[1].plot([0, 1], [0, 1])[0] for i in range(4)]\n",
    "    ax[1].set_ylabel('MHz')\n",
    "    axh1 = ax[1].axhline(0, color='grey')\n",
    "    axv0 = ax[0].axvline(0, color='grey')\n",
    "    axv1 = ax[1].axvline(0, color='grey')\n",
    "    plt.show()\n",
    "    \n",
    "    def update_waists_vs_params(cavfct, parname, scanrange, N = 300, **kwargs):\n",
    "        stab = lambda m: abs(0.5*np.trace(m))<1\n",
    "        scanrange=[-5, 3]\n",
    "        La = kwargs[parname]\n",
    "        Las = La + np.linspace(-scanrange[0], scanrange[0], N)\n",
    "        ms = np.zeros((N))\n",
    "        ws = np.zeros((N,2))\n",
    "        freqs = np.zeros((N,4))\n",
    "        for i, l in enumerate(Las):\n",
    "            pardct = kwargs.copy()\n",
    "            pardct.update({parname: l})\n",
    "            sys = RaySystem( cavfct(**pardct) )\n",
    "\n",
    "            try:\n",
    "                system = sys.abcd\n",
    "                w = system.waist_at(0)\n",
    "            except:\n",
    "                ws[i,:] = np.nan\n",
    "                ms[i] = np.nan\n",
    "                freqs[i,...] = np.nan\n",
    "            else:\n",
    "                ms[i] = stab(system.abcd_rt)\n",
    "                ws[i,:] = np.sort(w)\n",
    "                freqs[i,...] = np.concatenate(system.get_freqs(s=1))\n",
    "                #ft, fs3 = system.get_freqs()\n",
    "                #fsr = system.fsr\n",
    "                #freqs[i,...] = np.concatenate((ft, np.mod(3*ft, fsr)))\n",
    "                idx = np.argmin(np.abs(freqs[:,2]))\n",
    "        for i in range(2):\n",
    "            lws[i].set_data(np.stack((Las, ws[:,i]*1e3), axis=0))\n",
    "        for i in range(4):\n",
    "            lfs[i].set_data(np.stack((Las, freqs[:,i]*1e-6), axis=0))\n",
    "        axv0.set_xdata([Las[idx], Las[idx]])\n",
    "        axv1.set_xdata([Las[idx], Las[idx]])\n",
    "        Ldeg = Las[idx]\n",
    "        ax[0].set_xlim(Las[0], Las[-1])\n",
    "        ax[0].set_ylim(0.8*np.nanmin(ws*1e3), 1.1*np.nanmax(ws*1e3))\n",
    "        ax[1].set_ylim(0.8*np.nanmin(freqs*1e-6), 1.1*np.nanmax(freqs*1e-6))\n",
    "        fig.canvas.draw_idle()\n",
    "    \n",
    "    _magnitude = lambda x: 1. if abs(x)<0.1 else int(np.floor(np.log10(abs(x))))\n",
    "    _sgn = lambda x: 1 if x>0 else -1\n",
    "    _min = lambda x: 1.5*x if x<0 else 0.5*x\n",
    "    _max = lambda x: 0.5*x if x<0 else 1.5*x\n",
    "\n",
    "    \n",
    "    lo = Layout(width='80%', height='30px')\n",
    "    for v in inspect.signature(cavfct).parameters.values():\n",
    "        print(v.name, v.default)\n",
    "    sliders = {v.name: FloatSlider(value=v.default, min=_min(v.default), max=_max(v.default), step=10**(_magnitude(v.default)-2), readout_format='.2e', layout=lo) for v in inspect.signature(cavfct).parameters.values()}\n",
    "    sliders.update({'scanrange': FloatLogSlider(value=scanrange, min=-3, max=1, step=0.5, layout=lo)})\n",
    "    return interactive(update_waists_vs_params, cavfct=fixed(cavfct), parname = fixed('eps_grin'), N=fixed(N), **sliders)"
   ]
  },
  {
   "cell_type": "code",
   "execution_count": 303,
   "metadata": {},
   "outputs": [
    {
     "data": {
      "application/vnd.jupyter.widget-view+json": {
       "model_id": "414f355a232742fd88ef9b262f3e66ef",
       "version_major": 2,
       "version_minor": 0
      },
      "text/plain": [
       "Canvas(toolbar=Toolbar(toolitems=[('Home', 'Reset original view', 'home', 'home'), ('Back', 'Back to previous …"
      ]
     },
     "metadata": {},
     "output_type": "display_data"
    },
    {
     "name": "stdout",
     "output_type": "stream",
     "text": [
      "fgrin 1.5\n",
      "flong 100.0\n",
      "eps_grin 0.0\n",
      "eps_long -4.0\n",
      "lens_diam 25.4\n",
      "grin_diam 3.0\n",
      "grin_thick 1.5\n",
      "lens_thick 6.0\n"
     ]
    },
    {
     "data": {
      "application/vnd.jupyter.widget-view+json": {
       "model_id": "95829aa8506e40c0973805c4bf847b3e",
       "version_major": 2,
       "version_minor": 0
      },
      "text/plain": [
       "interactive(children=(FloatLogSlider(value=0.1, description='scanrange', layout=Layout(height='30px', width='8…"
      ]
     },
     "metadata": {},
     "output_type": "display_data"
    }
   ],
   "source": [
    "_cavity_parameter_interaction_factory(LensCav, 'eps_grin',0.1, N=100)"
   ]
  },
  {
   "cell_type": "code",
   "execution_count": 300,
   "metadata": {},
   "outputs": [],
   "source": [
    "cavfct = LensCav\n",
    "elements = cavfct(eps_long=-5.0, eps_grin=-1.5)\n",
    "sys = RaySystem(elements)\n",
    "system = sys.abcd\n",
    "mu1, mu2 = system.q"
   ]
  },
  {
   "cell_type": "code",
   "execution_count": 301,
   "metadata": {},
   "outputs": [
    {
     "name": "stderr",
     "output_type": "stream",
     "text": [
      "C:\\Users\\lukas\\.conda\\envs\\sloppy\\lib\\site-packages\\ipykernel_launcher.py:3: RuntimeWarning: More than 20 figures have been opened. Figures created through the pyplot interface (`matplotlib.pyplot.figure`) are retained until explicitly closed and may consume too much memory. (To control this warning, see the rcParam `figure.max_open_warning`).\n",
      "  This is separate from the ipykernel package so we can avoid doing imports until\n"
     ]
    },
    {
     "data": {
      "application/vnd.jupyter.widget-view+json": {
       "model_id": "50bcdcb49ecc4dd4b61006922e56f6ea",
       "version_major": 2,
       "version_minor": 0
      },
      "text/plain": [
       "Canvas(toolbar=Toolbar(toolitems=[('Home', 'Reset original view', 'home', 'home'), ('Back', 'Back to previous …"
      ]
     },
     "metadata": {},
     "output_type": "display_data"
    }
   ],
   "source": [
    "x = np.linspace(0, system.Ltot, 500)\n",
    "ws = system.compute_waists(x)\n",
    "plt.figure()\n",
    "plt.plot(x, ws)\n",
    "plt.show()"
   ]
  },
  {
   "cell_type": "code",
   "execution_count": 302,
   "metadata": {},
   "outputs": [],
   "source": [
    "plt.close('all')"
   ]
  },
  {
   "cell_type": "code",
   "execution_count": 5,
   "metadata": {},
   "outputs": [],
   "source": [
    "Npt = 20\n",
    "a = 0.5\n",
    "x = np.linspace(-a, a, Npt)\n",
    "coords = np.meshgrid(x, x)\n",
    "\n",
    "xy = np.stack(coords, axis=-1).reshape((-1,2))\n",
    "#pxy = np.zeros_like(xy)\n",
    "pxy = np.broadcast_to(np.array([0, 0]), xy.shape)\n",
    "mu = np.concatenate((xy, pxy), axis=1)\n",
    "ray = sys.screen.eigenvectors_to_rays(mu)"
   ]
  },
  {
   "cell_type": "code",
   "execution_count": 6,
   "metadata": {},
   "outputs": [],
   "source": [
    "traj = sys.propagate(ray, at_screen=True)\n",
    "pos = sys.screen.r_to_screen_coords(traj[-1,0,:,:])"
   ]
  },
  {
   "cell_type": "code",
   "execution_count": 7,
   "metadata": {},
   "outputs": [
    {
     "data": {
      "application/vnd.jupyter.widget-view+json": {
       "model_id": "e2c41b590d4c4c9d8073571c3b553c85",
       "version_major": 2,
       "version_minor": 0
      },
      "text/plain": [
       "Canvas(toolbar=Toolbar(toolitems=[('Home', 'Reset original view', 'home', 'home'), ('Back', 'Back to previous …"
      ]
     },
     "metadata": {},
     "output_type": "display_data"
    },
    {
     "data": {
      "text/plain": [
       "<matplotlib.collections.PathCollection at 0x1b455571608>"
      ]
     },
     "execution_count": 7,
     "metadata": {},
     "output_type": "execute_result"
    }
   ],
   "source": [
    "plt.figure()\n",
    "plt.scatter(xy[:,0], xy[:,1], s=2.)\n",
    "plt.scatter(pos[:,0], pos[:,1], s=2.)"
   ]
  },
  {
   "cell_type": "code",
   "execution_count": 10,
   "metadata": {},
   "outputs": [
    {
     "data": {
      "application/vnd.jupyter.widget-view+json": {
       "model_id": "0f7781a9a06244b199eb6af61e5f5827",
       "version_major": 2,
       "version_minor": 0
      },
      "text/plain": [
       "Canvas(toolbar=Toolbar(toolitems=[('Home', 'Reset original view', 'home', 'home'), ('Back', 'Back to previous …"
      ]
     },
     "metadata": {},
     "output_type": "display_data"
    },
    {
     "data": {
      "application/vnd.jupyter.widget-view+json": {
       "model_id": "5aad83f712354d9289f508a22b1abd06",
       "version_major": 2,
       "version_minor": 0
      },
      "text/plain": [
       "interactive(children=(FloatSlider(value=0.0, description='dl', max=1.0, min=-1.0, step=0.001), FloatSlider(val…"
      ]
     },
     "metadata": {},
     "output_type": "display_data"
    }
   ],
   "source": [
    "fig, ax = plt.subplots(ncols=1, figsize=(6, 6))\n",
    "ms = 8.\n",
    "linea = plt.scatter(xy[:,0], xy[:,1], s=2.)\n",
    "lineb = plt.scatter(pos[:,0], pos[:,1], s=2.)\n",
    "plt.xlabel('x [mm]')\n",
    "plt.ylabel('y [mm]')\n",
    "\n",
    "cavfct = LensCav\n",
    "parname = 'lens_dist'\n",
    "\n",
    "def update_xygrid(dl=0.0, a=0.1, px=1e-2, py=-1e-3, Nrt=3, Npts=20, **kwargs):\n",
    "    res = degeneracy_length(cavfct, parname, 1e-3)\n",
    "    Ldeg = res.x\n",
    "    print(res)\n",
    "    elements = cavfct(**{parname: Ldeg+dl})\n",
    "    sys = RaySystem(elements)\n",
    "    \n",
    "    x = np.linspace(-a, a, Npts)\n",
    "    coords = np.meshgrid(x, x)\n",
    "    xy = np.stack(coords, axis=-1).reshape((-1,2))\n",
    "    pxy = np.broadcast_to(np.array([px, -py]), xy.shape)\n",
    "    mu = np.concatenate((xy, pxy), axis=1)\n",
    "    ray = sys.screen.eigenvectors_to_rays(mu)\n",
    "    traj = sys.propagate(ray, at_screen=True)\n",
    "    pos = sys.screen.r_to_screen_coords(traj[-1,0,:,:])\n",
    "    linea.set_offsets(xy)\n",
    "    lineb.set_offsets(pos)\n",
    "  \n",
    "    #ax.relim()\n",
    "    #ax.autoscale_view()\n",
    "    fig.canvas.draw_idle()\n",
    "        \n",
    "interactive(update_xygrid, dl=(-1, 1, 1e-3), a = (0,1,1e-2),\\\n",
    "            px=(-0.1,0.1,1e-3), py=(-0.1,0.1,1e-3), Nrt=(0,10,1), Npts=(10, 100, 10))"
   ]
  },
  {
   "cell_type": "code",
   "execution_count": 31,
   "metadata": {},
   "outputs": [
    {
     "data": {
      "application/vnd.jupyter.widget-view+json": {
       "model_id": "75528277ca774c7f93fb6cf073339245",
       "version_major": 2,
       "version_minor": 0
      },
      "text/plain": [
       "Canvas(toolbar=Toolbar(toolitems=[('Home', 'Reset original view', 'home', 'home'), ('Back', 'Back to previous …"
      ]
     },
     "metadata": {},
     "output_type": "display_data"
    },
    {
     "data": {
      "application/vnd.jupyter.widget-view+json": {
       "model_id": "8f54e8129a104e80834d9e525ebdb624",
       "version_major": 2,
       "version_minor": 0
      },
      "text/plain": [
       "interactive(children=(FloatSlider(value=0.0, description='dl', max=1.0, min=-1.0, step=0.001), FloatSlider(val…"
      ]
     },
     "metadata": {},
     "output_type": "display_data"
    }
   ],
   "source": [
    "fig, ax = plt.subplots(ncols=1, figsize=(6, 6))\n",
    "ms = 8.\n",
    "linea = plt.scatter(xy[:,0], xy[:,1], s=2.)\n",
    "lineb = plt.scatter(pos[:,0], pos[:,1], s=2.)\n",
    "plt.xlabel('px [mm]')\n",
    "plt.ylabel('py [mm]')\n",
    "\n",
    "cavfct = LensCav\n",
    "parname = 'lens_dist'\n",
    "\n",
    "def update_xygrid(dl=0.0, a=5e-2, x=0.004, y=-0.004, Nrt=3, Npts=20, **kwargs):\n",
    "    res = degeneracy_length(cavfct, parname, 1e-3)\n",
    "    Ldeg = res.x\n",
    "    elements = cavfct(**{parname: Ldeg+dl})\n",
    "    sys = RaySystem(elements)\n",
    "    \n",
    "    xx = np.linspace(-a*1e-1, a*1e-1, Npts)\n",
    "    coords = np.meshgrid(xx, xx)\n",
    "    pxy = np.stack(coords, axis=-1).reshape((-1,2))\n",
    "    xy = np.broadcast_to(np.array([x, y]), pxy.shape)\n",
    "    mu = np.concatenate((xy, pxy), axis=1)\n",
    "    ray = sys.screen.eigenvectors_to_rays(mu)\n",
    "    traj = sys.propagate(ray, Nrt=Nrt, at_screen=True)\n",
    "    pos = sys.screen.r_to_screen_coords(traj[-1,0,:,:])\n",
    "    linea.set_offsets(pxy)\n",
    "    lineb.set_offsets(pos)\n",
    "    plt.xlim(1.5*np.nanmin(pxy[:,0]), 1.5*np.nanmax(pxy[:,0]))\n",
    "    plt.ylim(1.5*np.nanmin(pxy[:,1]), 1.5*np.nanmax(pxy[:,1]))\n",
    "    fig.canvas.draw_idle()\n",
    "interactive(update_xygrid, dl=(-1, 1, 1e-3), a = (0,1,1e-3),\\\n",
    "            x=(-0.1,0.1,1e-3), y=(-0.1,0.1,1e-3), Nrt=(0,10,1), Npts=(10, 100, 10))"
   ]
  },
  {
   "cell_type": "code",
   "execution_count": null,
   "metadata": {},
   "outputs": [],
   "source": [
    "res = degeneracy_length(cavfct, parname, 1e-3)\n",
    "Ldeg = res.x\n",
    "elements = cavfct(**{parname: Ldeg+dl})\n",
    "sys = RaySystem(elements)\n",
    "\n",
    "a = 0.004\n",
    "pa = 0.006\n",
    "xx = np.linspace(-a*1e-1, a*1e-1, Npts)\n",
    "coords = np.meshgrid(xx, xx)\n",
    "pxy = np.stack(coords, axis=-1).reshape((-1,2))\n",
    "xy = np.broadcast_to(np.array([x, y]), pxy.shape)\n",
    "mu = np.concatenate((xy, pxy), axis=1)\n",
    "ray = sys.screen.eigenvectors_to_rays(mu)\n",
    "traj = sys.propagate(ray, Nrt=Nrt, at_screen=True)\n",
    "pos = sys.screen.r_to_screen_coords(traj[-1,0,:,:])\n",
    "linea.set_offsets(pxy)\n",
    "lineb.set_offsets(pos)\n",
    "plt.xlim(1.5*np.nanmin(pxy[:,0]), 1.5*np.nanmax(pxy[:,0]))\n",
    "plt.ylim(1.5*np.nanmin(pxy[:,1]), 1.5*np.nanmax(pxy[:,1]))"
   ]
  },
  {
   "cell_type": "code",
   "execution_count": 35,
   "metadata": {},
   "outputs": [
    {
     "data": {
      "application/vnd.jupyter.widget-view+json": {
       "model_id": "b854ade2eb3c4a4d92da07ef1596e793",
       "version_major": 2,
       "version_minor": 0
      },
      "text/plain": [
       "Canvas(toolbar=Toolbar(toolitems=[('Home', 'Reset original view', 'home', 'home'), ('Back', 'Back to previous …"
      ]
     },
     "metadata": {},
     "output_type": "display_data"
    },
    {
     "data": {
      "application/vnd.jupyter.widget-view+json": {
       "model_id": "c310f7dc848d4a3eace9e24cf06f1b5c",
       "version_major": 2,
       "version_minor": 0
      },
      "text/plain": [
       "interactive(children=(FloatSlider(value=27.768298126226423, description='dl', max=28.768298126226423, min=26.7…"
      ]
     },
     "metadata": {},
     "output_type": "display_data"
    }
   ],
   "source": [
    "fig, ax = plt.subplots(ncols=1, figsize=(6, 6))\n",
    "ms = 8.\n",
    "linea = plt.scatter(xy[:,0], xy[:,1], s=1., marker='.')\n",
    "lineb = plt.scatter(pos[:,0], pos[:,1], s=2.)\n",
    "plt.xlabel('x [mm]')\n",
    "plt.ylabel('y [mm]')\n",
    "\n",
    "def update_xygrid6(dl=Ldeg, dz=1.5825, a=0.1, px=1e-2, py=-1e-3, Nrt=1, Npts=20, **kwargs):\n",
    "    elements, _ = SixMirror(dx=dl, dzF=dz)\n",
    "    sys = RaySystem(elements)\n",
    "    \n",
    "    x = np.linspace(-a, a, Npts)\n",
    "    coords = np.meshgrid(x, x)\n",
    "    xy = np.stack(coords, axis=-1).reshape((-1,2))\n",
    "    pxy = np.broadcast_to(np.array([px, -py]), xy.shape)\n",
    "    mu = np.concatenate((xy, pxy), axis=1)\n",
    "    ray = sys.screen.eigenvectors_to_rays(mu)\n",
    "    traj = sys.propagate(ray, at_screen=True, Nrt=Nrt)\n",
    "    pos = sys.screen.r_to_screen_coords(traj[-1,0,:,:])\n",
    "    linea.set_offsets(xy)\n",
    "    lineb.set_offsets(pos)\n",
    "  \n",
    "    ax.relim()\n",
    "    #ax.autoscale_view()\n",
    "    fig.canvas.draw_idle()\n",
    "        \n",
    "interactive(update_xygrid6, dl=(Ldeg-1, Ldeg+1, 1e-2), dz=(0, 1.5825, 1e-2), a = (0,1,1e-2),\\\n",
    "            px=(-0.1,0.1,1e-3), py=(-0.1,0.1,1e-3), Nrt=(1,11,1), Npts=(10, 100, 10))"
   ]
  },
  {
   "cell_type": "code",
   "execution_count": 29,
   "metadata": {},
   "outputs": [],
   "source": [
    "plt.close(\"all\")"
   ]
  },
  {
   "cell_type": "code",
   "execution_count": null,
   "metadata": {},
   "outputs": [],
   "source": []
  }
 ],
 "metadata": {
  "kernelspec": {
   "display_name": "Python [conda env:.conda-sloppy]",
   "language": "python",
   "name": "conda-env-.conda-sloppy-py"
  },
  "language_info": {
   "codemirror_mode": {
    "name": "ipython",
    "version": 3
   },
   "file_extension": ".py",
   "mimetype": "text/x-python",
   "name": "python",
   "nbconvert_exporter": "python",
   "pygments_lexer": "ipython3",
   "version": "3.7.6"
  }
 },
 "nbformat": 4,
 "nbformat_minor": 4
}
