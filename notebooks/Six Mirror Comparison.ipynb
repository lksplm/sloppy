{
 "cells": [
  {
   "cell_type": "code",
   "execution_count": 1,
   "metadata": {},
   "outputs": [],
   "source": [
    "%load_ext autoreload\n",
    "%autoreload 2"
   ]
  },
  {
   "cell_type": "code",
   "execution_count": 2,
   "metadata": {},
   "outputs": [],
   "source": [
    "%matplotlib widget\n",
    "import numpy as np\n",
    "import k3d\n",
    "import matplotlib.pyplot as plt\n",
    "from functools import reduce\n",
    "from ipywidgets import *\n",
    "from matplotlib.animation import FuncAnimation\n",
    "import matplotlib.animation as ani\n",
    "from sloppy.raytracing import *\n",
    "from sloppy.abcd import *"
   ]
  },
  {
   "cell_type": "markdown",
   "metadata": {},
   "source": [
    "## Cavity geometry definition"
   ]
  },
  {
   "cell_type": "code",
   "execution_count": 3,
   "metadata": {},
   "outputs": [],
   "source": [
    "def SixMirror(dx=27.77, dy=8.0, dz=16.685, d=4.750, dzF=1.5825, Rfast=25.0, eps=np.zeros((6,5))):\n",
    "\n",
    "    p5 = np.array([0,0,0])\n",
    "    p6 = np.array([dx, dy, dzF])\n",
    "    p1 = np.array([0, dy, dzF])\n",
    "    p2 = np.array([dx, 2*dy, 0])\n",
    "    p3 = np.array([d, dy+d, dz])\n",
    "    p4 = np.array([dx-d, dy-d, dz])\n",
    "    \n",
    "    ps = np.stack([p1,p2,p3,p4,p5,p6], axis=0)\n",
    "    geom = geometry(ps)\n",
    "    ns = geom['refl']\n",
    "    ps = geom['mir']\n",
    "    angles = geom['angles']\n",
    "    #add perturbations\n",
    "    ps += eps[:,:3]\n",
    "    axx = geom['xin']\n",
    "    axy = 0.5*(geom['yin']+geom['yout'])\n",
    "    ns = [rot_vec(rot_vec(ns[i], axx[i], np.deg2rad(eps[i,3])), axy[i], np.deg2rad(eps[i,4])) for i, n in enumerate(ns)]\n",
    "    \n",
    "    hi = 12.7\n",
    "    qi=7.75\n",
    "    #reference plane is expected between first and last element!\n",
    "    elements = [CurvedMirror(p=ps[0], n=ns[0], diam=qi, R=Rfast, curv='CC', thet=angles[0]),\\\n",
    "                Mirror(p=ps[1], n=ns[1], diam=qi),\\\n",
    "                Mirror(p=ps[2], n=ns[2], diam=hi),\\\n",
    "                Mirror(p=ps[3], n=ns[3], diam=hi),\\\n",
    "                Mirror(p=ps[4], n=ns[4], diam=qi),\\\n",
    "                CurvedMirror(p=ps[5], n=ns[5], diam=qi, R=Rfast, curv='CC', thet=angles[5])]\n",
    "    \n",
    "    M = geom['M']\n",
    "    R = geom['R']\n",
    "    abcd = []\n",
    "    for i, el in enumerate(elements):\n",
    "        d = np.linalg.norm(M[i-1,i])/2\n",
    "        #Mrt = Prop(d)@Rot(R[i])@Mirror(roc[i], angles[i])@Prop(d)@Mrt\n",
    "        abcd.extend([Prop(d), el, Rot(R[i]), Prop(d)])\n",
    "      \n",
    "    #add screen to elements\n",
    "    x0 = 0.5*(elements[0].p + elements[-1].p)\n",
    "    n0 = norm(elements[0].p - elements[-1].p)\n",
    "\n",
    "    screen = Screen(p=x0, n=-n0, diam=qi)\n",
    "    elements.append(screen)\n",
    "\n",
    "    return elements, abcd, geom"
   ]
  },
  {
   "cell_type": "markdown",
   "metadata": {},
   "source": [
    "## Paraxial modes and degeneracy"
   ]
  },
  {
   "cell_type": "code",
   "execution_count": 4,
   "metadata": {},
   "outputs": [
    {
     "data": {
      "application/vnd.jupyter.widget-view+json": {
       "model_id": "240fac84a9e74251b9ae98c1eb89a061",
       "version_major": 2,
       "version_minor": 0
      },
      "text/plain": [
       "Canvas(toolbar=Toolbar(toolitems=[('Home', 'Reset original view', 'home', 'home'), ('Back', 'Back to previous …"
      ]
     },
     "metadata": {},
     "output_type": "display_data"
    }
   ],
   "source": [
    "stab = lambda m: abs(0.5*np.trace(m))<1\n",
    "La = 27.77\n",
    "\n",
    "scanrng = 1.\n",
    "N = 300\n",
    "Las = La + np.linspace(-scanrng, scanrng, N)\n",
    "\n",
    "ms = np.zeros((N))\n",
    "ws = np.zeros((N,2))\n",
    "freqs = np.zeros((N,4))\n",
    "for i, l in enumerate(Las):\n",
    "    _, abcd, _ = SixMirror(dx=l)\n",
    "    system = ABCDSystem(abcd)\n",
    "    \n",
    "    ms[i] = stab(system.abcd_rt)\n",
    "    w = system.waist_at(0)\n",
    "    ws[i,:] = np.sort(w)\n",
    "    freqs[i,...] = np.concatenate(system.get_freqs())\n",
    "    \n",
    "g, ax = plt.subplots(ncols=2, figsize=(8,4))\n",
    "ax[0].plot(Las, ws*1e3)\n",
    "ax[0].set_ylabel('um')\n",
    "ax[1].plot(Las, freqs*1e-6)\n",
    "ax[1].set_ylabel('MHz')\n",
    "ax[1].axhline(0, color='grey')\n",
    "plt.show()"
   ]
  },
  {
   "cell_type": "markdown",
   "metadata": {},
   "source": [
    "## Paraxial eigenrays and hit pattern"
   ]
  },
  {
   "cell_type": "code",
   "execution_count": 5,
   "metadata": {},
   "outputs": [],
   "source": [
    "elements, abcd, geom = SixMirror(dx=27.2952)\n",
    "system = ABCDSystem(abcd)\n",
    "k = 2*np.pi/system.wl\n",
    "mu1, mu2 = system.q\n",
    "\n",
    "mu = mu1.real*0.05"
   ]
  },
  {
   "cell_type": "code",
   "execution_count": 17,
   "metadata": {},
   "outputs": [],
   "source": [
    "def makeidx(hit_m):\n",
    "    return np.arange(hit_m.shape[0])"
   ]
  },
  {
   "cell_type": "code",
   "execution_count": 18,
   "metadata": {},
   "outputs": [
    {
     "data": {
      "application/vnd.jupyter.widget-view+json": {
       "model_id": "d3ae07866cc4465582add61562cb2ed8",
       "version_major": 2,
       "version_minor": 0
      },
      "text/plain": [
       "Canvas(toolbar=Toolbar(toolitems=[('Home', 'Reset original view', 'home', 'home'), ('Back', 'Back to previous …"
      ]
     },
     "metadata": {},
     "output_type": "display_data"
    }
   ],
   "source": [
    "hit_m = propagate_ABCD(mu, system.abcd_rt, Nrt=500)\n",
    "\n",
    "plt.figure()\n",
    "line = plt.scatter(hit_m[:,0], hit_m[:,1], c=makeidx(hit_m), cmap='jet')\n",
    "plt.title('Poincare hit pattern (screen)')\n",
    "plt.xlabel('x [mm]')\n",
    "plt.ylabel('y [mm]')\n",
    "plt.colorbar()\n",
    "plt.show()"
   ]
  },
  {
   "cell_type": "markdown",
   "metadata": {},
   "source": [
    "## Raytracing"
   ]
  },
  {
   "cell_type": "code",
   "execution_count": 7,
   "metadata": {},
   "outputs": [],
   "source": [
    "#turn the paraxial eigenrays (eigenvectors of ABCD matrix) into rays (position and slope three-vectors for raytracing)\n",
    "x0 = elements[-1].p #elementts[-1] is the screen\n",
    "n0 = elements[-1].n\n",
    "ray0 = eigenvector_to_ray(mu, x0, k)"
   ]
  },
  {
   "cell_type": "code",
   "execution_count": 8,
   "metadata": {},
   "outputs": [],
   "source": [
    "traj0 = propagate_system(elements, ray0, Nrt=30, clip=True)"
   ]
  },
  {
   "cell_type": "code",
   "execution_count": 11,
   "metadata": {},
   "outputs": [
    {
     "name": "stderr",
     "output_type": "stream",
     "text": [
      "C:\\ProgramData\\Anaconda3\\lib\\site-packages\\traittypes\\traittypes.py:101: UserWarning: Given trait value dtype \"float64\" does not match required type \"float32\". A coerced copy has been created.\n",
      "  np.dtype(self.dtype).name))\n"
     ]
    },
    {
     "data": {
      "application/vnd.jupyter.widget-view+json": {
       "model_id": "f52846c7a4e948cca01541729a3f418d",
       "version_major": 2,
       "version_minor": 0
      },
      "text/plain": [
       "Output()"
      ]
     },
     "metadata": {},
     "output_type": "display_data"
    }
   ],
   "source": [
    "try:\n",
    "    plot.close()\n",
    "except:\n",
    "    pass\n",
    "plot = k3d.plot(camera_auto_fit=True, antialias=True)\n",
    "\n",
    "for i, el in enumerate(elements):\n",
    "    plot += el.plot(opacity=0.4)\n",
    "\n",
    "plot += k3d.vectors(origins=ray0[0,...], vectors=ray0[1,...], colors=[(0xff0000,)*2], head_size=2.)\n",
    "plot_trajs(traj0, plot, shader='mesh', width=0.2, color=0x00ff00)\n",
    "\n",
    "plot.display()"
   ]
  },
  {
   "cell_type": "code",
   "execution_count": 19,
   "metadata": {},
   "outputs": [
    {
     "data": {
      "application/vnd.jupyter.widget-view+json": {
       "model_id": "a87b4bfbac554949aaa586f20e6ea867",
       "version_major": 2,
       "version_minor": 0
      },
      "text/plain": [
       "Canvas(toolbar=Toolbar(toolitems=[('Home', 'Reset original view', 'home', 'home'), ('Back', 'Back to previous …"
      ]
     },
     "metadata": {},
     "output_type": "display_data"
    }
   ],
   "source": [
    "traj_hit = propagate_system_at(elements, ray0, which=6, Nrt=500)[:,0,:,:] #only positions\n",
    "hit_scr = traj_hit[:,0,:]\n",
    "\n",
    "plt.figure()\n",
    "line = plt.scatter(hit_scr[:,1], hit_scr[:,2], c=makeidx(hit_scr), cmap='jet')\n",
    "plt.title('Poincare hit pattern (screen)')\n",
    "plt.xlabel('x [mm]')\n",
    "plt.ylabel('y [mm]')\n",
    "plt.colorbar()\n",
    "plt.show()"
   ]
  },
  {
   "cell_type": "code",
   "execution_count": 14,
   "metadata": {},
   "outputs": [],
   "source": [
    "abcd_fd = extract_ABCD_fd(elements, x0, n0, epsr=1e-3, epss=1e-3) "
   ]
  },
  {
   "cell_type": "code",
   "execution_count": 15,
   "metadata": {},
   "outputs": [
    {
     "data": {
      "text/plain": [
       "array([[-0.   ,  0.   ,  1.   ,  0.   ],\n",
       "       [-0.   ,  0.   , -0.   ,  1.   ],\n",
       "       [-1.   ,  0.   , -0.   , -0.001],\n",
       "       [-0.   , -1.   ,  0.001,  0.   ]])"
      ]
     },
     "execution_count": 15,
     "metadata": {},
     "output_type": "execute_result"
    }
   ],
   "source": [
    "#check that the returned matrix is symplectic\n",
    "G = np.array([[0,0,1,0], [0,0,0,1], [-1,0,0,0], [0,-1,0,0]])\n",
    "np.round(abcd_fd.T@G@abcd_fd, decimals=3)"
   ]
  },
  {
   "cell_type": "markdown",
   "metadata": {},
   "source": [
    "## Main method comparison"
   ]
  },
  {
   "cell_type": "code",
   "execution_count": 31,
   "metadata": {},
   "outputs": [
    {
     "data": {
      "application/vnd.jupyter.widget-view+json": {
       "model_id": "2b54eda4716243b2873e21835b59c8a8",
       "version_major": 2,
       "version_minor": 0
      },
      "text/plain": [
       "Canvas(toolbar=Toolbar(toolitems=[('Home', 'Reset original view', 'home', 'home'), ('Back', 'Back to previous …"
      ]
     },
     "metadata": {},
     "output_type": "display_data"
    },
    {
     "data": {
      "application/vnd.jupyter.widget-view+json": {
       "model_id": "dad2727194624808a717cea0917251c9",
       "version_major": 2,
       "version_minor": 0
      },
      "text/plain": [
       "interactive(children=(FloatSlider(value=27.295, description='dl', max=27.9, min=27.2, step=0.01), FloatSlider(…"
      ]
     },
     "metadata": {},
     "output_type": "display_data"
    }
   ],
   "source": [
    "fig, (ax, bx, cx) = plt.subplots(ncols=3, figsize=(11,3.3), sharex=True, sharey=True)\n",
    "ms = 8.\n",
    "linea = ax.scatter(hit_scr[:,1]-x0[1], hit_scr[:,2]-x0[2], c=makeidx(hit_scr), cmap='jet', s=ms)\n",
    "linec = cx.scatter(hit_scr[:,1]-x0[1], hit_scr[:,2]-x0[2], c=makeidx(hit_scr), cmap='jet', s=ms)\n",
    "lineb = bx.scatter(hit_m[:,0], hit_m[:,1], c=makeidx(hit_m), cmap='jet', s=ms)\n",
    "ax.set_title('Raytracing')\n",
    "bx.set_title('ABCD')\n",
    "cx.set_title('ABCD (Extracted)')\n",
    "plt.xlabel('x [mm]')\n",
    "plt.ylabel('y [mm]')\n",
    "\n",
    "\n",
    "def update(dl=27.295, ar=0.01, br=0.0, ap=0., bp=0., Nrt=500, **kwargs):\n",
    "        elements, abcd, _ = SixMirror(dx=dl)#27.2952+\n",
    "        x0 = elements[-1].p #elementts[-1] is the screen\n",
    "        n0 = elements[-1].n\n",
    "        system = ABCDSystem(abcd)\n",
    "        abcd_fd = extract_ABCD_fd(elements, x0, n0, epsr=1e-3, epss=1e-3) \n",
    "\n",
    "        mu1, mu2 = system.q\n",
    "        mu = np.real(ar*np.exp(1j*ap)*mu1 + br*np.exp(1j*bp)*mu2)\n",
    "        ray0 = eigenvector_to_ray(mu, x0, k)\n",
    " \n",
    "        traj_hit = propagate_system_at(elements, ray0, which=6, Nrt=Nrt)[:,0,:,:] #only get positions\n",
    "        hit_scr = traj_hit[:,0,:]-x0\n",
    "\n",
    "        linea.set_offsets(hit_scr[:,1:])\n",
    "        linea.set_array(makeidx(hit_scr))\n",
    "        \n",
    "        hit_m = propagate_ABCD(mu, system.abcd_rt, Nrt=Nrt)\n",
    "        lineb.set_offsets(hit_m[:,0:2])\n",
    "        lineb.set_array(makeidx(hit_m))\n",
    "        \n",
    "        hit_fd = propagate_ABCD(mu, abcd_fd, Nrt=Nrt)\n",
    "        linec.set_offsets(hit_fd[:,0:2])\n",
    "        linec.set_array(makeidx(hit_fd))\n",
    "        \n",
    "        linea.set_clim(vmin=0, vmax=Nrt)\n",
    "        lineb.set_clim(vmin=0, vmax=Nrt)\n",
    "        linec.set_clim(vmin=0, vmax=Nrt)\n",
    "            \n",
    "        ax.relim()\n",
    "        ax.autoscale_view()\n",
    "        fig.canvas.draw_idle()\n",
    "        \n",
    "interactive(update, dl=(27.2, 27.9, 1e-2), ar = (0,0.1,1e-3), br = (0,0.1,1e-3), ap= (0,2*np.pi,1e-2), bp= (0,2*np.pi,1e-2), Nrt=(0,2000,100))\n",
    "#interactive(update, dl=(27.75, 27.81, 1e-3), ar = (0,0.1,1e-3), br = (0,0.1,1e-3), ap= (0,2*np.pi,1e-2), bp= (0,2*np.pi,1e-2), Nrt=(0,2000,100))"
   ]
  },
  {
   "cell_type": "code",
   "execution_count": 32,
   "metadata": {},
   "outputs": [],
   "source": [
    "fig.savefig('logo.png', dpi=600)\n",
    "fig.savefig('logo.svg', dpi=600)"
   ]
  },
  {
   "cell_type": "code",
   "execution_count": null,
   "metadata": {},
   "outputs": [],
   "source": []
  }
 ],
 "metadata": {
  "kernelspec": {
   "display_name": "Python 3",
   "language": "python",
   "name": "python3"
  },
  "language_info": {
   "codemirror_mode": {
    "name": "ipython",
    "version": 3
   },
   "file_extension": ".py",
   "mimetype": "text/x-python",
   "name": "python",
   "nbconvert_exporter": "python",
   "pygments_lexer": "ipython3",
   "version": "3.7.6"
  }
 },
 "nbformat": 4,
 "nbformat_minor": 4
}
