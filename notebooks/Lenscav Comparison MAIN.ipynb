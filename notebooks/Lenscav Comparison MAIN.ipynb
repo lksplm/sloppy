{
 "cells": [
  {
   "cell_type": "code",
   "execution_count": 1,
   "metadata": {},
   "outputs": [],
   "source": [
    "%load_ext autoreload\n",
    "%autoreload 2"
   ]
  },
  {
   "cell_type": "code",
   "execution_count": 2,
   "metadata": {},
   "outputs": [
    {
     "name": "stderr",
     "output_type": "stream",
     "text": [
      "c:\\users\\lukas\\box\\lukas\\03_theory\\abcd\\sloppy\\src\\sloppy\\joptic.py:59: NumbaDeprecationWarning: \u001b[1mThe 'numba.jitclass' decorator has moved to 'numba.experimental.jitclass' to better reflect the experimental nature of the functionality. Please update your imports to accommodate this change and see http://numba.pydata.org/numba-doc/latest/reference/deprecation.html#change-of-jitclass-location for the time frame.\u001b[0m\n",
      "  @jitclass(spec)\n"
     ]
    }
   ],
   "source": [
    "%matplotlib widget\n",
    "from ipywidgets import *\n",
    "import numpy as np\n",
    "import k3d\n",
    "import matplotlib.pyplot as plt\n",
    "from sloppy.optic import *\n",
    "from sloppy.raytracing import *\n",
    "from sloppy.abcd import *\n",
    "from sloppy.utils import *\n",
    "from sloppy.tools import *\n",
    "from sloppy.metrics import *\n",
    "from cavities import *\n",
    "from functools import partial\n",
    "from scipy.optimize import minimize, minimize_scalar\n",
    "import pandas as pd"
   ]
  },
  {
   "cell_type": "code",
   "execution_count": 3,
   "metadata": {},
   "outputs": [],
   "source": [
    "import warnings; warnings.simplefilter('ignore')"
   ]
  },
  {
   "cell_type": "code",
   "execution_count": 4,
   "metadata": {},
   "outputs": [],
   "source": [
    "parname = 'lens_dist'"
   ]
  },
  {
   "cell_type": "code",
   "execution_count": 5,
   "metadata": {},
   "outputs": [],
   "source": [
    "#defnition of (derived) cavity designs\n",
    "#since default values are used to get default parameters, proxy functions are defined for 10mm etc. designs\n",
    "\n",
    "def Cav2L2QInside10(arm1=110., arm2=53., base=43., angle=110., lens_dist=49.0, Rlens=10.0, quart_thick=2., c4=0., c6=0., c8=0.):\n",
    "    return Cav2L2QInside(arm1=arm1, arm2=arm2, base=base, angle=angle, lens_dist=lens_dist, Rlens=Rlens, quart_thick=quart_thick, c4=c4, c6=c6, c8=c8)\n",
    "\n",
    "def Cav2L2QOutside10(arm1=120., arm2=58., base=47., angle=110., lens_dist=47.0, Rlens=10.0, quart_thick=2., c4=0., c6=0., c8=0.):\n",
    "    return Cav2L2QOutside(arm1=arm1, arm2=arm2, base=base, angle=angle, lens_dist=lens_dist, Rlens=Rlens, quart_thick=quart_thick, c4=c4, c6=c6, c8=c8)\n",
    "\n",
    "def Cav4L1Qflip10(arm1=41., arm2=21.5, base=19., angle=110., lens_dist=28.9, Rlens=10.0, quart_thick=2., c4=0., c6=0., c8=0.):\n",
    "    return Cav4L1Qflip(arm1=arm1, arm2=arm2, base=base, angle=angle, lens_dist=lens_dist, Rlens=Rlens, quart_thick=quart_thick, c4=c4, c6=c6, c8=c8)\n",
    "\n",
    "def Cav4L1Q10(arm1=41., arm2=21.5, base=19., angle=110., lens_dist=28.9, Rlens=10.0, quart_thick=2., c4=0., c6=0., c8=0.):\n",
    "    return Cav4L1Q(arm1=arm1, arm2=arm2, base=base, angle=angle, lens_dist=lens_dist, Rlens=Rlens, quart_thick=quart_thick, c4=c4, c6=c6, c8=c8)\n",
    "\n",
    "def Cav2A10(arm1=120., arm2=58., base=47., angle=110., lens_dist=47.1, Rlens=10.0, c4=coeffc4(5.0), c6=coeffc6(5.0), c8=coeffc8(5.0)):\n",
    "    return Cav2A(arm1=arm1, arm2=arm2, base=base, angle=angle, lens_dist=lens_dist, Rlens=Rlens, c4=c4, c6=c6, c8=c8)\n",
    "\n",
    "def Cav4A10(arm1=44.8, arm2=23.6, base=20.8, angle=110., lens_dist=27.4, Rlens=10.0, c4=0., c6=0., c8=0.):\n",
    "    return Cav4A(arm1=arm1, arm2=arm2, base=base, angle=angle, lens_dist=lens_dist, Rlens=Rlens, c4=c4, c6=c6, c8=c8)\n",
    "\n",
    "def Cav4Aflip10(arm1=41., arm2=21.5, base=19., angle=110., lens_dist=28.8, Rlens=10.0, c4=0., c6=0., c8=0.):\n",
    "    return Cav4Aflip(arm1=arm1, arm2=arm2, base=base, angle=angle, lens_dist=lens_dist, Rlens=Rlens, c4=c4, c6=c6, c8=c8)"
   ]
  },
  {
   "cell_type": "code",
   "execution_count": 6,
   "metadata": {},
   "outputs": [],
   "source": [
    "allcavs = {'Cav2L2QInside': {'fct': Cav2L2QInside, 'x0': [3.1e-3, 9e-5], 'bounds': [(2.2e-3, 4e-3), (0., 3e-4)], 'dgmn': 1},\\\n",
    "            'Cav2L2QOutside': {'fct': Cav2L2QOutside, 'x0': [7.015e-04, 2.16e-05], 'bounds': [(0., 1e-3), (0., 3e-4)], 'dgmn': 1},\\\n",
    "            'Cav2L2QInside10': {'fct': Cav2L2QInside10, 'x0': [1.7e-04, 6.0e-08], 'bounds':  [(0., 1e-3), (-1e-5, 1e-5)], 'dgmn': 1},\\\n",
    "            'Cav2L2QOutside10': {'fct': Cav2L2QOutside10, 'x0': [8.066e-05, 5.60e-07], 'bounds':  [(1e-5, 1e-4), (-1e-6, 1e-6)], 'dgmn': 1},\\\n",
    "            'Cav4L1Qflip10': {'fct': Cav4L1Qflip10, 'x0': [0.00727, 0.00752], 'bounds':  [(0, 2e-2), (-1e-2, 1e-2)], 'dgmn': 1},\\\n",
    "            'Cav4L1Q10': {'fct': Cav4L1Q10, 'x0': [0.00619342, 0.00029877], 'bounds': [(0., 1e-2), (-1e-3, 1e-3)], 'dgmn': 1},\\\n",
    "            'TetCav2L1Q': {'fct': TetCav2L1Q, 'x0': [9.1e-4, 4.30e-05], 'bounds': [(0., 2e-3), (-1e-4, 1e-4)], 'dgmn': 2},\\\n",
    "            'Cav2A10': {'fct': Cav2A10, 'x0': [5.5e-05, -4.50e-06], 'bounds': [(0., 1e-4), (-1e-5, 1e-5)], 'dgmn': 1},\\\n",
    "            'Cav4A10': {'fct': Cav4A10, 'x0': [1.7449e-05, -4.30e-07], 'bounds': [(0., 1e-4), (-1e-5, 1e-5)], 'dgmn': 1},\\\n",
    "            'Cav4Aflip10': {'fct': Cav4Aflip10, 'x0': [9.205e-06, -5.996e-07], 'bounds': [(0., 1e-4), (-1e-5, 1e-5)], 'dgmn': 1}}"
   ]
  },
  {
   "cell_type": "code",
   "execution_count": 7,
   "metadata": {},
   "outputs": [
    {
     "name": "stdout",
     "output_type": "stream",
     "text": [
      "Cav2L2QInside\n",
      "[3.09159012e-03 8.99540817e-05]\n"
     ]
    },
    {
     "data": {
      "application/vnd.jupyter.widget-view+json": {
       "model_id": "664741e762ee4347bf46890b0357c97e",
       "version_major": 2,
       "version_minor": 0
      },
      "text/plain": [
       "Canvas(toolbar=Toolbar(toolitems=[('Home', 'Reset original view', 'home', 'home'), ('Back', 'Back to previous …"
      ]
     },
     "metadata": {},
     "output_type": "display_data"
    },
    {
     "name": "stdout",
     "output_type": "stream",
     "text": [
      "Cav2L2QOutside\n",
      "[7.01530535e-04 2.16285945e-05]\n"
     ]
    },
    {
     "data": {
      "application/vnd.jupyter.widget-view+json": {
       "model_id": "f7e14fdcb5334d8db660920df62d5f42",
       "version_major": 2,
       "version_minor": 0
      },
      "text/plain": [
       "Canvas(toolbar=Toolbar(toolitems=[('Home', 'Reset original view', 'home', 'home'), ('Back', 'Back to previous …"
      ]
     },
     "metadata": {},
     "output_type": "display_data"
    },
    {
     "name": "stdout",
     "output_type": "stream",
     "text": [
      "Cav2L2QInside10\n",
      "[1.7e-04 6.0e-08]\n"
     ]
    },
    {
     "data": {
      "application/vnd.jupyter.widget-view+json": {
       "model_id": "5d5365db417948908f89e29b5cd55528",
       "version_major": 2,
       "version_minor": 0
      },
      "text/plain": [
       "Canvas(toolbar=Toolbar(toolitems=[('Home', 'Reset original view', 'home', 'home'), ('Back', 'Back to previous …"
      ]
     },
     "metadata": {},
     "output_type": "display_data"
    },
    {
     "name": "stdout",
     "output_type": "stream",
     "text": [
      "Cav2L2QOutside10\n",
      "[8.06731959e-05 5.58935596e-07]\n"
     ]
    },
    {
     "data": {
      "application/vnd.jupyter.widget-view+json": {
       "model_id": "c209e6ce56a34baeb793799b5be18c81",
       "version_major": 2,
       "version_minor": 0
      },
      "text/plain": [
       "Canvas(toolbar=Toolbar(toolitems=[('Home', 'Reset original view', 'home', 'home'), ('Back', 'Back to previous …"
      ]
     },
     "metadata": {},
     "output_type": "display_data"
    },
    {
     "name": "stdout",
     "output_type": "stream",
     "text": [
      "Cav4L1Qflip10\n",
      "[0.00727 0.00752]\n"
     ]
    },
    {
     "data": {
      "application/vnd.jupyter.widget-view+json": {
       "model_id": "c6fa3d4cab404e74b29bee4661fe4d13",
       "version_major": 2,
       "version_minor": 0
      },
      "text/plain": [
       "Canvas(toolbar=Toolbar(toolitems=[('Home', 'Reset original view', 'home', 'home'), ('Back', 'Back to previous …"
      ]
     },
     "metadata": {},
     "output_type": "display_data"
    },
    {
     "name": "stdout",
     "output_type": "stream",
     "text": [
      "Cav4L1Q10\n",
      "[0.00599808 0.001     ]\n"
     ]
    },
    {
     "data": {
      "application/vnd.jupyter.widget-view+json": {
       "model_id": "5053e64450ae419da98b5ec42608452e",
       "version_major": 2,
       "version_minor": 0
      },
      "text/plain": [
       "Canvas(toolbar=Toolbar(toolitems=[('Home', 'Reset original view', 'home', 'home'), ('Back', 'Back to previous …"
      ]
     },
     "metadata": {},
     "output_type": "display_data"
    },
    {
     "name": "stdout",
     "output_type": "stream",
     "text": [
      "TetCav2L1Q\n",
      "[8.61314582e-04 7.49298210e-05]\n"
     ]
    },
    {
     "data": {
      "application/vnd.jupyter.widget-view+json": {
       "model_id": "1efb0b7ddbb543a385f1a631a2a5a09e",
       "version_major": 2,
       "version_minor": 0
      },
      "text/plain": [
       "Canvas(toolbar=Toolbar(toolitems=[('Home', 'Reset original view', 'home', 'home'), ('Back', 'Back to previous …"
      ]
     },
     "metadata": {},
     "output_type": "display_data"
    },
    {
     "name": "stdout",
     "output_type": "stream",
     "text": [
      "Cav2A10\n",
      "[ 5.5e-05 -4.5e-06]\n"
     ]
    },
    {
     "data": {
      "application/vnd.jupyter.widget-view+json": {
       "model_id": "179a8140918745c586b3fb504ec1ab0f",
       "version_major": 2,
       "version_minor": 0
      },
      "text/plain": [
       "Canvas(toolbar=Toolbar(toolitems=[('Home', 'Reset original view', 'home', 'home'), ('Back', 'Back to previous …"
      ]
     },
     "metadata": {},
     "output_type": "display_data"
    },
    {
     "name": "stdout",
     "output_type": "stream",
     "text": [
      "Cav4A10\n",
      "[ 1.74488429e-05 -4.30086189e-07]\n"
     ]
    },
    {
     "data": {
      "application/vnd.jupyter.widget-view+json": {
       "model_id": "6afd4b0c670a4c75a8275714485fee29",
       "version_major": 2,
       "version_minor": 0
      },
      "text/plain": [
       "Canvas(toolbar=Toolbar(toolitems=[('Home', 'Reset original view', 'home', 'home'), ('Back', 'Back to previous …"
      ]
     },
     "metadata": {},
     "output_type": "display_data"
    },
    {
     "name": "stdout",
     "output_type": "stream",
     "text": [
      "Cav4Aflip10\n",
      "[ 9.205e-06 -5.996e-07]\n"
     ]
    },
    {
     "data": {
      "application/vnd.jupyter.widget-view+json": {
       "model_id": "09b0bb4d07254532af0acbb7a007907a",
       "version_major": 2,
       "version_minor": 0
      },
      "text/plain": [
       "Canvas(toolbar=Toolbar(toolitems=[('Home', 'Reset original view', 'home', 'home'), ('Back', 'Back to previous …"
      ]
     },
     "metadata": {},
     "output_type": "display_data"
    }
   ],
   "source": [
    "c4s = []\n",
    "c6s = []\n",
    "fsrs = []\n",
    "waists = []\n",
    "scores = []\n",
    "parname = 'lens_dist'\n",
    "\n",
    "i=0\n",
    "for k, dct in allcavs.items():\n",
    "    cavfct = dct['fct']\n",
    "    print(cavfct.__name__)\n",
    "    res = degeneracy_length(cavfct, parname, 1e-1)\n",
    "    Ldeg=res.x\n",
    "    #optimize\n",
    "    fun = partial(metric_optim, metr=metric_var, cavfct=cavfct, cavpars={parname: Ldeg}, rmax=8., degmodenum=dct['dgmn'])\n",
    "    bounds = dct['bounds']\n",
    "    x0 = dct['x0']\n",
    "    res = minimize(fun, x0=x0, bounds=bounds)\n",
    "    print(res.x)\n",
    "    plot_metrics(cavfct, cavpars={parname: Ldeg, 'c4': res.x[0], 'c6': res.x[1]}, s=1, a=np.arange(1,10), degmodenum=dct['dgmn'])\n",
    "    sys = RaySystem(cavfct(**{parname: Ldeg, 'c4': res.x[0], 'c6': res.x[1]}))\n",
    "    system = sys.abcd\n",
    "    fsrs.append( system.fsr )\n",
    "    waists.append( system.waist_at(0)[0] )\n",
    "    c4s.append( res.x[0] )\n",
    "    c6s.append( res.x[1] )\n",
    "    scores.append(res.fun)\n",
    "    i += 1"
   ]
  },
  {
   "cell_type": "code",
   "execution_count": 21,
   "metadata": {},
   "outputs": [],
   "source": [
    "d = {'name': list(allcavs.keys()), 'FSR [MHz]': np.array(fsrs)*1e-6, 'w [mm]': np.array(waists)*1e3, 'c4 [mm^-3]': c4s, 'c6 [mm^-5]': c6s, 'score [au]': scores}\n",
    "\n",
    "df = pd.DataFrame(data=d)"
   ]
  },
  {
   "cell_type": "code",
   "execution_count": 22,
   "metadata": {},
   "outputs": [
    {
     "data": {
      "text/html": [
       "<div>\n",
       "<style scoped>\n",
       "    .dataframe tbody tr th:only-of-type {\n",
       "        vertical-align: middle;\n",
       "    }\n",
       "\n",
       "    .dataframe tbody tr th {\n",
       "        vertical-align: top;\n",
       "    }\n",
       "\n",
       "    .dataframe thead th {\n",
       "        text-align: right;\n",
       "    }\n",
       "</style>\n",
       "<table border=\"1\" class=\"dataframe\">\n",
       "  <thead>\n",
       "    <tr style=\"text-align: right;\">\n",
       "      <th></th>\n",
       "      <th>name</th>\n",
       "      <th>FSR [MHz]</th>\n",
       "      <th>w [mm]</th>\n",
       "      <th>c4 [mm^-3]</th>\n",
       "      <th>c6 [mm^-5]</th>\n",
       "      <th>score [au]</th>\n",
       "    </tr>\n",
       "  </thead>\n",
       "  <tbody>\n",
       "    <tr>\n",
       "      <th>0</th>\n",
       "      <td>Cav2L2QInside</td>\n",
       "      <td>2281.399258</td>\n",
       "      <td>19.915692</td>\n",
       "      <td>0.003092</td>\n",
       "      <td>8.995408e-05</td>\n",
       "      <td>0.007014</td>\n",
       "    </tr>\n",
       "    <tr>\n",
       "      <th>1</th>\n",
       "      <td>Cav2L2QOutside</td>\n",
       "      <td>2281.399258</td>\n",
       "      <td>19.915692</td>\n",
       "      <td>0.000702</td>\n",
       "      <td>2.162859e-05</td>\n",
       "      <td>0.008786</td>\n",
       "    </tr>\n",
       "    <tr>\n",
       "      <th>2</th>\n",
       "      <td>Cav2L2QInside10</td>\n",
       "      <td>906.825792</td>\n",
       "      <td>22.744117</td>\n",
       "      <td>0.000170</td>\n",
       "      <td>6.000000e-08</td>\n",
       "      <td>NaN</td>\n",
       "    </tr>\n",
       "    <tr>\n",
       "      <th>3</th>\n",
       "      <td>Cav2L2QOutside10</td>\n",
       "      <td>831.522138</td>\n",
       "      <td>21.357559</td>\n",
       "      <td>0.000081</td>\n",
       "      <td>5.589356e-07</td>\n",
       "      <td>0.006116</td>\n",
       "    </tr>\n",
       "    <tr>\n",
       "      <th>4</th>\n",
       "      <td>Cav4L1Qflip10</td>\n",
       "      <td>2199.407680</td>\n",
       "      <td>19.921522</td>\n",
       "      <td>0.007270</td>\n",
       "      <td>7.520000e-03</td>\n",
       "      <td>NaN</td>\n",
       "    </tr>\n",
       "    <tr>\n",
       "      <th>5</th>\n",
       "      <td>Cav4L1Q10</td>\n",
       "      <td>2199.407680</td>\n",
       "      <td>21.765187</td>\n",
       "      <td>0.005998</td>\n",
       "      <td>1.000000e-03</td>\n",
       "      <td>0.072446</td>\n",
       "    </tr>\n",
       "    <tr>\n",
       "      <th>6</th>\n",
       "      <td>TetCav2L1Q</td>\n",
       "      <td>2302.235637</td>\n",
       "      <td>20.700861</td>\n",
       "      <td>0.000861</td>\n",
       "      <td>7.492982e-05</td>\n",
       "      <td>0.024496</td>\n",
       "    </tr>\n",
       "    <tr>\n",
       "      <th>7</th>\n",
       "      <td>Cav2A10</td>\n",
       "      <td>835.728894</td>\n",
       "      <td>21.305293</td>\n",
       "      <td>0.000055</td>\n",
       "      <td>-4.500000e-06</td>\n",
       "      <td>NaN</td>\n",
       "    </tr>\n",
       "    <tr>\n",
       "      <th>8</th>\n",
       "      <td>Cav4A10</td>\n",
       "      <td>2046.427690</td>\n",
       "      <td>19.832230</td>\n",
       "      <td>0.000017</td>\n",
       "      <td>-4.300862e-07</td>\n",
       "      <td>0.008227</td>\n",
       "    </tr>\n",
       "    <tr>\n",
       "      <th>9</th>\n",
       "      <td>Cav4Aflip10</td>\n",
       "      <td>2229.086092</td>\n",
       "      <td>19.741928</td>\n",
       "      <td>0.000009</td>\n",
       "      <td>-5.996000e-07</td>\n",
       "      <td>0.008553</td>\n",
       "    </tr>\n",
       "  </tbody>\n",
       "</table>\n",
       "</div>"
      ],
      "text/plain": [
       "               name    FSR [MHz]     w [mm]  c4 [mm^-3]    c6 [mm^-5]  \\\n",
       "0     Cav2L2QInside  2281.399258  19.915692    0.003092  8.995408e-05   \n",
       "1    Cav2L2QOutside  2281.399258  19.915692    0.000702  2.162859e-05   \n",
       "2   Cav2L2QInside10   906.825792  22.744117    0.000170  6.000000e-08   \n",
       "3  Cav2L2QOutside10   831.522138  21.357559    0.000081  5.589356e-07   \n",
       "4     Cav4L1Qflip10  2199.407680  19.921522    0.007270  7.520000e-03   \n",
       "5         Cav4L1Q10  2199.407680  21.765187    0.005998  1.000000e-03   \n",
       "6        TetCav2L1Q  2302.235637  20.700861    0.000861  7.492982e-05   \n",
       "7           Cav2A10   835.728894  21.305293    0.000055 -4.500000e-06   \n",
       "8           Cav4A10  2046.427690  19.832230    0.000017 -4.300862e-07   \n",
       "9       Cav4Aflip10  2229.086092  19.741928    0.000009 -5.996000e-07   \n",
       "\n",
       "   score [au]  \n",
       "0    0.007014  \n",
       "1    0.008786  \n",
       "2         NaN  \n",
       "3    0.006116  \n",
       "4         NaN  \n",
       "5    0.072446  \n",
       "6    0.024496  \n",
       "7         NaN  \n",
       "8    0.008227  \n",
       "9    0.008553  "
      ]
     },
     "execution_count": 22,
     "metadata": {},
     "output_type": "execute_result"
    }
   ],
   "source": [
    "df"
   ]
  }
 ],
 "metadata": {
  "kernelspec": {
   "display_name": "Python 3",
   "language": "python",
   "name": "python3"
  },
  "language_info": {
   "codemirror_mode": {
    "name": "ipython",
    "version": 3
   },
   "file_extension": ".py",
   "mimetype": "text/x-python",
   "name": "python",
   "nbconvert_exporter": "python",
   "pygments_lexer": "ipython3",
   "version": "3.7.6"
  }
 },
 "nbformat": 4,
 "nbformat_minor": 4
}
