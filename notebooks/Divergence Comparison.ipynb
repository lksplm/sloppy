{
 "cells": [
  {
   "cell_type": "code",
   "execution_count": 1,
   "metadata": {},
   "outputs": [],
   "source": [
    "%load_ext autoreload\n",
    "%autoreload 2"
   ]
  },
  {
   "cell_type": "code",
   "execution_count": 2,
   "metadata": {},
   "outputs": [],
   "source": [
    "%matplotlib widget\n",
    "import numpy as np\n",
    "import k3d\n",
    "import matplotlib.pyplot as plt\n",
    "from functools import reduce\n",
    "from ipywidgets import *\n",
    "from matplotlib.animation import FuncAnimation\n",
    "import matplotlib.animation as ani\n",
    "from sloppy.raytracing import *\n",
    "from sloppy.abcd import *\n",
    "from sloppy.tools import *\n",
    "from cavities import *"
   ]
  },
  {
   "cell_type": "markdown",
   "metadata": {},
   "source": [
    "## Paraxial modes and degeneracy"
   ]
  },
  {
   "cell_type": "code",
   "execution_count": 3,
   "metadata": {},
   "outputs": [
    {
     "data": {
      "application/vnd.jupyter.widget-view+json": {
       "model_id": "af69e69524d74c8d9c38aa32bd25bdbb",
       "version_major": 2,
       "version_minor": 0
      },
      "text/plain": [
       "Canvas(toolbar=Toolbar(toolitems=[('Home', 'Reset original view', 'home', 'home'), ('Back', 'Back to previous …"
      ]
     },
     "metadata": {},
     "output_type": "display_data"
    },
    {
     "data": {
      "text/plain": [
       "27.769071237458192"
      ]
     },
     "execution_count": 3,
     "metadata": {},
     "output_type": "execute_result"
    }
   ],
   "source": [
    "cavfct = SixMirror\n",
    "parname = 'dx'\n",
    "waists_vs_param(cavfct, parname, 1e-2)"
   ]
  },
  {
   "cell_type": "code",
   "execution_count": 4,
   "metadata": {},
   "outputs": [
    {
     "name": "stdout",
     "output_type": "stream",
     "text": [
      "     fun: 0.2200334382795486\n",
      " message: 'Solution found.'\n",
      "    nfev: 6\n",
      "  status: 0\n",
      " success: True\n",
      "       x: 27.76829940260428\n"
     ]
    }
   ],
   "source": [
    "res = degeneracy_length(cavfct, parname, 1e-3)\n",
    "Ldeg = res.x\n",
    "print(res)"
   ]
  },
  {
   "cell_type": "markdown",
   "metadata": {},
   "source": [
    "## Paraxial eigenrays and hit pattern"
   ]
  },
  {
   "cell_type": "code",
   "execution_count": 27,
   "metadata": {
    "jupyter": {
     "source_hidden": true
    }
   },
   "outputs": [],
   "source": [
    "elements = cavfct(**{parname: Ldeg})\n",
    "sys = RaySystem(elements)\n",
    "system = sys.abcd\n",
    "mu1, mu2 = system.q"
   ]
  },
  {
   "cell_type": "code",
   "execution_count": null,
   "metadata": {
    "jupyter": {
     "source_hidden": true
    }
   },
   "outputs": [],
   "source": [
    "rs = np.linspace(0., 0.5, 500)\n",
    "distsin = np.zeros_like(rs)\n",
    "dists = np.zeros_like(rs)\n",
    "distsmax = np.zeros_like(rs)\n",
    "ap = 0.\n",
    "for i, r in enumerate(rs):\n",
    "    mu = np.real(r*np.exp(1j*ap)*mu1)\n",
    "    distsin[i] = np.linalg.norm(mu[:2])\n",
    "    ray0 = sys.screen.eigenvectors_to_rays(mu)\n",
    "    traj_hit = sys.propagate(ray0, Nrt=30, at_screen=True)\n",
    "    hit_scr = sys.screen.r_to_screen_coords(traj_hit[:,0,0,:])\n",
    "    dists[i] = np.linalg.norm(hit_scr[-1,:])\n",
    "    distsmax[i] = np.max(np.linalg.norm(hit_scr, axis=1))\n",
    "    \n",
    "plt.figure()\n",
    "plt.plot(distsin, dists)\n",
    "plt.plot(distsin, distsmax)\n",
    "plt.xlabel(r'$r_{in}$ [mm]')\n",
    "plt.ylabel(r'$r_{out}$ [mm]')\n",
    "plt.title(r'$\\mu = Re(a_r \\mu_1)$')\n",
    "plt.show()"
   ]
  },
  {
   "cell_type": "code",
   "execution_count": 5,
   "metadata": {},
   "outputs": [],
   "source": [
    "def make_divergence_plot(cavfct, parname, ax=None, dl=0.):\n",
    "    res = degeneracy_length(cavfct, parname, 1e-3)\n",
    "    print(res)\n",
    "    Ldeg = res.x\n",
    "\n",
    "    elements = cavfct(**{parname: Ldeg+dl})\n",
    "    sys = RaySystem(elements)\n",
    "    system = sys.abcd\n",
    "    mu1, mu2 = system.q\n",
    "    \n",
    "    #scale in waists\n",
    "    waist = system.waist_at(0)[0]\n",
    "    rmu = np.linalg.norm(np.real(mu1[:2]))\n",
    "    \n",
    "    rs = np.linspace(0., 10., 300)\n",
    "    distsin = np.zeros_like(rs)\n",
    "    dists = np.zeros_like(rs)\n",
    "    distsmax = np.zeros_like(rs)\n",
    "    ap = 0.\n",
    "    for i, r in enumerate(rs):\n",
    "        mu = np.real(r*waist/rmu*mu1)\n",
    "        distsin[i] = np.linalg.norm(mu[:2])\n",
    "        ray0 = sys.screen.eigenvectors_to_rays(mu)\n",
    "        traj_hit = sys.propagate(ray0, Nrt=30, at_screen=True)\n",
    "        hit_scr = sys.screen.r_to_screen_coords(traj_hit[:,0,0,:])\n",
    "        dists[i] = np.linalg.norm(hit_scr[-1,:])\n",
    "        distsmax[i] = np.max(np.linalg.norm(hit_scr, axis=1))\n",
    "    \n",
    "    if ax is None:\n",
    "        f, ax = plt.subplots()\n",
    "    ax.plot(distsin, dists-distsin)\n",
    "    ax.plot(distsin, distsmax-distsin)\n",
    "    ax.set_xlabel(r'$r_{in}$ [mm]')\n",
    "    ax.set_ylabel(r'$r_{out}$ [mm]')\n",
    "    ax.set_title(r'$\\mu = Re(a_r \\mu_1)$')\n",
    "    ax.axvline(waist, color='grey')\n",
    "    if ax is None:\n",
    "        return f"
   ]
  },
  {
   "cell_type": "code",
   "execution_count": 6,
   "metadata": {},
   "outputs": [
    {
     "name": "stdout",
     "output_type": "stream",
     "text": [
      "     fun: 0.2200334382795486\n",
      " message: 'Solution found.'\n",
      "    nfev: 6\n",
      "  status: 0\n",
      " success: True\n",
      "       x: 27.76829940260428\n"
     ]
    },
    {
     "data": {
      "application/vnd.jupyter.widget-view+json": {
       "model_id": "b12d9e9160564761b37202053924deb9",
       "version_major": 2,
       "version_minor": 0
      },
      "text/plain": [
       "Canvas(toolbar=Toolbar(toolitems=[('Home', 'Reset original view', 'home', 'home'), ('Back', 'Back to previous …"
      ]
     },
     "metadata": {},
     "output_type": "display_data"
    }
   ],
   "source": [
    "make_divergence_plot(SixMirror, 'dx', dl=-0.0)"
   ]
  },
  {
   "cell_type": "code",
   "execution_count": 7,
   "metadata": {},
   "outputs": [
    {
     "name": "stdout",
     "output_type": "stream",
     "text": [
      "     fun: 0.8964813996871679\n",
      " message: 'Solution found.'\n",
      "    nfev: 7\n",
      "  status: 0\n",
      " success: True\n",
      "       x: 31.675317130699597\n"
     ]
    },
    {
     "data": {
      "application/vnd.jupyter.widget-view+json": {
       "model_id": "0e5effc9984948ea95bc10ed6a6aa9ce",
       "version_major": 2,
       "version_minor": 0
      },
      "text/plain": [
       "Canvas(toolbar=Toolbar(toolitems=[('Home', 'Reset original view', 'home', 'home'), ('Back', 'Back to previous …"
      ]
     },
     "metadata": {},
     "output_type": "display_data"
    }
   ],
   "source": [
    "make_divergence_plot(OriginalTwister, 'betal')"
   ]
  },
  {
   "cell_type": "code",
   "execution_count": 8,
   "metadata": {
    "collapsed": true,
    "jupyter": {
     "outputs_hidden": true,
     "source_hidden": true
    }
   },
   "outputs": [
    {
     "data": {
      "application/vnd.jupyter.widget-view+json": {
       "model_id": "a9d14120431d4bb480384a4e1c1e90f5",
       "version_major": 2,
       "version_minor": 0
      },
      "text/plain": [
       "Canvas(toolbar=Toolbar(toolitems=[('Home', 'Reset original view', 'home', 'home'), ('Back', 'Back to previous …"
      ]
     },
     "metadata": {},
     "output_type": "display_data"
    },
    {
     "data": {
      "text/plain": [
       "51.00170568561873"
      ]
     },
     "execution_count": 8,
     "metadata": {},
     "output_type": "execute_result"
    }
   ],
   "source": [
    "waists_vs_param(GravEM, 'l', 1e-2)"
   ]
  },
  {
   "cell_type": "code",
   "execution_count": 8,
   "metadata": {},
   "outputs": [
    {
     "name": "stdout",
     "output_type": "stream",
     "text": [
      "     fun: 0.00010495407150133088\n",
      " message: 'Solution found.'\n",
      "    nfev: 6\n",
      "  status: 0\n",
      " success: True\n",
      "       x: 51.000858373814026\n"
     ]
    },
    {
     "data": {
      "application/vnd.jupyter.widget-view+json": {
       "model_id": "168b453afd62409296b88ba757030684",
       "version_major": 2,
       "version_minor": 0
      },
      "text/plain": [
       "Canvas(toolbar=Toolbar(toolitems=[('Home', 'Reset original view', 'home', 'home'), ('Back', 'Back to previous …"
      ]
     },
     "metadata": {},
     "output_type": "display_data"
    }
   ],
   "source": [
    "make_divergence_plot(GravEM, 'l')"
   ]
  },
  {
   "cell_type": "code",
   "execution_count": 21,
   "metadata": {},
   "outputs": [
    {
     "data": {
      "application/vnd.jupyter.widget-view+json": {
       "model_id": "ef5d2a465e4641be92cdaa6c6abd0b1c",
       "version_major": 2,
       "version_minor": 0
      },
      "text/plain": [
       "Canvas(toolbar=Toolbar(toolitems=[('Home', 'Reset original view', 'home', 'home'), ('Back', 'Back to previous …"
      ]
     },
     "metadata": {},
     "output_type": "display_data"
    },
    {
     "name": "stdout",
     "output_type": "stream",
     "text": [
      "     fun: 0.2747336422630812\n",
      " message: 'Solution found.'\n",
      "    nfev: 8\n",
      "  status: 0\n",
      " success: True\n",
      "       x: 21.524499087168326\n"
     ]
    }
   ],
   "source": [
    "waists_vs_param(LensCav, 'lens_dist', 1e-2)\n",
    "res = degeneracy_length(LensCav, 'lens_dist', 1e-2)\n",
    "Ldeg = res.x\n",
    "print(res)"
   ]
  },
  {
   "cell_type": "code",
   "execution_count": 57,
   "metadata": {
    "collapsed": true,
    "jupyter": {
     "outputs_hidden": true,
     "source_hidden": true
    }
   },
   "outputs": [
    {
     "name": "stderr",
     "output_type": "stream",
     "text": [
      "c:\\users\\lukas\\box\\lukas\\03_theory\\abcd\\sloppy\\src\\sloppy\\tools.py:33: RuntimeWarning: More than 20 figures have been opened. Figures created through the pyplot interface (`matplotlib.pyplot.figure`) are retained until explicitly closed and may consume too much memory. (To control this warning, see the rcParam `figure.max_open_warning`).\n",
      "  g, ax = plt.subplots(ncols=2, figsize=(8,4))\n"
     ]
    },
    {
     "data": {
      "application/vnd.jupyter.widget-view+json": {
       "model_id": "2151f2600c644140995fbf4164cdc113",
       "version_major": 2,
       "version_minor": 0
      },
      "text/plain": [
       "Canvas(toolbar=Toolbar(toolitems=[('Home', 'Reset original view', 'home', 'home'), ('Back', 'Back to previous …"
      ]
     },
     "metadata": {},
     "output_type": "display_data"
    },
    {
     "data": {
      "text/plain": [
       "25.11594983277592"
      ]
     },
     "execution_count": 57,
     "metadata": {},
     "output_type": "execute_result"
    }
   ],
   "source": [
    "waists_vs_param(Lens_cav, 'lens_dist', 1e-2)"
   ]
  },
  {
   "cell_type": "code",
   "execution_count": 23,
   "metadata": {},
   "outputs": [
    {
     "name": "stdout",
     "output_type": "stream",
     "text": [
      "     fun: 0.015683535957800906\n",
      " message: 'Solution found.'\n",
      "    nfev: 6\n",
      "  status: 0\n",
      " success: True\n",
      "       x: 21.52449773968428\n"
     ]
    },
    {
     "data": {
      "application/vnd.jupyter.widget-view+json": {
       "model_id": "35454f7bdf0a4490895b7d47f33dc321",
       "version_major": 2,
       "version_minor": 0
      },
      "text/plain": [
       "Canvas(toolbar=Toolbar(toolitems=[('Home', 'Reset original view', 'home', 'home'), ('Back', 'Back to previous …"
      ]
     },
     "metadata": {},
     "output_type": "display_data"
    }
   ],
   "source": [
    "make_divergence_plot(LensCav, 'lens_dist')"
   ]
  },
  {
   "cell_type": "code",
   "execution_count": 13,
   "metadata": {},
   "outputs": [],
   "source": [
    "elements = cavfct(**{parname: Ldeg})\n",
    "sys = RaySystem(elements)\n",
    "system = sys.abcd\n",
    "mu1, mu2 = system.q\n",
    "\n",
    "rs = np.linspace(0., 0.1, 100)\n",
    "ps = np.linspace(0., 2*np.pi, 100)\n",
    "dists = np.zeros((rs.shape[0], ps.shape[0]))\n",
    "for i, r in enumerate(rs):\n",
    "    for j, p in enumerate(ps):\n",
    "        mu = np.real(r*np.exp(1j*p)*mu1)\n",
    "        ray0 = sys.screen.eigenvectors_to_rays(mu)\n",
    "        traj_hit = sys.propagate(ray0, Nrt=30, at_screen=True)\n",
    "        hit_scr = sys.screen.r_to_screen_coords(traj_hit[:,0,0,:])\n",
    "        #dists[i,j] = np.linalg.norm(hit_scr[-1,:])\n",
    "        dists[i,j] = np.max(np.linalg.norm(hit_scr, axis=1))"
   ]
  },
  {
   "cell_type": "code",
   "execution_count": 14,
   "metadata": {},
   "outputs": [
    {
     "data": {
      "application/vnd.jupyter.widget-view+json": {
       "model_id": "f64ad729ee2b4935bb062a140c20a339",
       "version_major": 2,
       "version_minor": 0
      },
      "text/plain": [
       "Canvas(toolbar=Toolbar(toolitems=[('Home', 'Reset original view', 'home', 'home'), ('Back', 'Back to previous …"
      ]
     },
     "metadata": {},
     "output_type": "display_data"
    }
   ],
   "source": [
    "plt.figure()\n",
    "plt.pcolormesh(rs, ps, dists.T)\n",
    "\n",
    "plt.xlabel(r'$r$')\n",
    "plt.ylabel(r'$\\phi$')\n",
    "plt.title(r'$\\mu = Re(r \\mu_1 e^{{i\\phi}})$')\n",
    "plt.colorbar()\n",
    "plt.show()"
   ]
  },
  {
   "cell_type": "markdown",
   "metadata": {},
   "source": [
    "## Main method comparison"
   ]
  },
  {
   "cell_type": "code",
   "execution_count": 24,
   "metadata": {},
   "outputs": [
    {
     "data": {
      "application/vnd.jupyter.widget-view+json": {
       "model_id": "25c456304c694fd3aae2f4a3b22d1048",
       "version_major": 2,
       "version_minor": 0
      },
      "text/plain": [
       "Canvas(toolbar=Toolbar(toolitems=[('Home', 'Reset original view', 'home', 'home'), ('Back', 'Back to previous …"
      ]
     },
     "metadata": {},
     "output_type": "display_data"
    },
    {
     "name": "stdout",
     "output_type": "stream",
     "text": [
      "     fun: 0.015683535957800906\n",
      " message: 'Solution found.'\n",
      "    nfev: 6\n",
      "  status: 0\n",
      " success: True\n",
      "       x: 21.52449773968428\n"
     ]
    },
    {
     "data": {
      "application/vnd.jupyter.widget-view+json": {
       "model_id": "caecda08eca8472c85bea7e1306bc1fe",
       "version_major": 2,
       "version_minor": 0
      },
      "text/plain": [
       "interactive(children=(FloatSlider(value=0.0, description='dl', max=1.0, min=-1.0, step=0.001), FloatSlider(val…"
      ]
     },
     "metadata": {},
     "output_type": "display_data"
    }
   ],
   "source": [
    "fig, (ax, bx, cx) = plt.subplots(ncols=3, figsize=(11,3.3), sharex=True, sharey=True)\n",
    "ms = 8.\n",
    "linea = ax.scatter([], [], c=[], cmap='jet', s=ms)\n",
    "linec = cx.scatter([], [], c=[], cmap='jet', s=ms)\n",
    "lineb = bx.scatter([], [], c=[], cmap='jet', s=ms)\n",
    "ax.set_title('Raytracing')\n",
    "bx.set_title('ABCD')\n",
    "cx.set_title('ABCD (Extracted)')\n",
    "plt.xlabel('x [mm]')\n",
    "plt.ylabel('y [mm]')\n",
    " \n",
    "cavfct = LensCav\n",
    "parname = 'lens_dist'\n",
    "res = degeneracy_length(cavfct, parname, 1e-3)\n",
    "Ldeg = res.x\n",
    "print(res)\n",
    "\n",
    "def makeidx(hit_m):\n",
    "    return np.arange(hit_m.shape[0])\n",
    "\n",
    "def update(dl=0., ar=0.0001, br=0.0, ap=0., bp=0., Nrt=500, **kwargs):\n",
    "        elements = cavfct(**{parname: Ldeg+dl*1e-2})\n",
    "        sys = RaySystem(elements)\n",
    "        system = sys.abcd\n",
    "        mu1, mu2 = system.q\n",
    "\n",
    "        mu = np.real(ar*np.exp(1j*ap)*mu1 + br*np.exp(1j*bp)*mu2)\n",
    "        ray0 = sys.screen.eigenvectors_to_rays(mu)\n",
    " \n",
    "        traj_hit = sys.propagate(ray0, Nrt=Nrt, at_screen=True)\n",
    "        hit_scr = sys.screen.r_to_screen_coords(traj_hit[:,0,0,:])\n",
    "\n",
    "        linea.set_offsets(hit_scr[:,:])\n",
    "        linea.set_array(makeidx(hit_scr))\n",
    "        \n",
    "        hit_m = propagate_ABCD(mu, system.abcd_rt, Nrt=Nrt)\n",
    "        lineb.set_offsets(hit_m[:,0:2])\n",
    "        lineb.set_array(makeidx(hit_m))\n",
    "        \n",
    "        abcd_fd = sys.extract_ABCD(epsr=1e-3, epss=1e-3, Nrt=1) \n",
    "        hit_fd = propagate_ABCD(mu, abcd_fd, Nrt=Nrt)\n",
    "        linec.set_offsets(hit_fd[:,0:2])\n",
    "        linec.set_array(makeidx(hit_fd))\n",
    "        \n",
    "        linea.set_clim(vmin=0, vmax=Nrt)\n",
    "        lineb.set_clim(vmin=0, vmax=Nrt)\n",
    "        linec.set_clim(vmin=0, vmax=Nrt)\n",
    "            \n",
    "        ax.relim(visible_only=True)\n",
    "        ax.autoscale_view(tight=True)\n",
    "        fig.canvas.draw_idle()\n",
    "        \n",
    "interactive(update, dl=(-1, 1, 1e-3), ar = (0,0.1,1e-3), br = (0,0.1,1e-3), ap= (0,2*np.pi,1e-2), bp= (0,2*np.pi,1e-2), Nrt=(0,2000,100))"
   ]
  },
  {
   "cell_type": "code",
   "execution_count": null,
   "metadata": {},
   "outputs": [],
   "source": [
    "plt.close('all')"
   ]
  }
 ],
 "metadata": {
  "kernelspec": {
   "display_name": "Python 3",
   "language": "python",
   "name": "python3"
  },
  "language_info": {
   "codemirror_mode": {
    "name": "ipython",
    "version": 3
   },
   "file_extension": ".py",
   "mimetype": "text/x-python",
   "name": "python",
   "nbconvert_exporter": "python",
   "pygments_lexer": "ipython3",
   "version": "3.7.6"
  }
 },
 "nbformat": 4,
 "nbformat_minor": 4
}
