{
 "cells": [
  {
   "cell_type": "code",
   "execution_count": 1,
   "metadata": {},
   "outputs": [],
   "source": [
    "%load_ext autoreload\n",
    "%autoreload 2\n",
    "import warnings\n",
    "warnings.filterwarnings('ignore')"
   ]
  },
  {
   "cell_type": "code",
   "execution_count": 2,
   "metadata": {},
   "outputs": [],
   "source": [
    "%matplotlib widget\n",
    "import numpy as np\n",
    "import k3d\n",
    "import matplotlib.pyplot as plt\n",
    "from sloppy.optic import *\n",
    "from sloppy.raytracing import *\n",
    "from sloppy.abcd import *\n",
    "from sloppy.utils import *\n",
    "from sloppy.tools import *\n",
    "from sloppy.metrics import *\n",
    "#from ipywidgets import Layout, IntSlider, FloatLogSlider, FloatSlider, interactive, fixed\n",
    "import inspect"
   ]
  },
  {
   "cell_type": "code",
   "execution_count": 3,
   "metadata": {},
   "outputs": [],
   "source": [
    "from ipywidgets import *"
   ]
  },
  {
   "cell_type": "code",
   "execution_count": 4,
   "metadata": {
    "jupyter": {
     "source_hidden": true
    },
    "tags": []
   },
   "outputs": [],
   "source": [
    "#def LensCavCAD(arm1=48., arm2=30., base=19., angle=180.-129., lens_dist=22.2, lens_diam=6.35, lens_thick=4., Rlens=5.0):\n",
    "#    return LensCav(arm1=arm1, arm2=arm2, base=base, angle=angle, lens_dist=lens_dist, lens_diam=lens_diam, lens_thick=lens_thick, Rlens=Rlens)\n",
    "def LensCavCADpert(arm1=48., arm2=30., base=19., angle=180.-129., lens_dist=22.2, Rlens=5.0, c4=6e-4, c6=0., c8=0., eps=np.zeros((12,5))):\n",
    "    angle = np.deg2rad(angle)\n",
    "    lens_diam=6.35\n",
    "    lens_thick=4.\n",
    "    quart_thick=2.\n",
    "    quart_dist=1e-6\n",
    "    \n",
    "    p0 = np.array([lens_dist/2.-lens_thick/2.,0,0])\n",
    "    p1 = np.array([lens_dist/2.+lens_thick/2.,0,0])\n",
    "    pa = np.array([lens_dist/2.+lens_thick/2.+quart_dist, 0, 0])\n",
    "    pb = np.array([lens_dist/2.+lens_thick/2.+quart_dist+quart_thick,0,0])\n",
    "    p2 = np.array([arm1/2.,0,0])\n",
    "    p3 = np.array([np.cos(angle)*arm2/2.,base,np.sin(angle)*arm2/2.])\n",
    "    p4 = np.array([-np.cos(angle)*arm2/2.,base,-np.sin(angle)*arm2/2.])\n",
    "    p5 = np.array([-arm1/2.,0,0])\n",
    "    pc = np.array([-lens_dist/2.-lens_thick/2.-quart_dist-quart_thick,0,0])\n",
    "    pd = np.array([-lens_dist/2.-lens_thick/2.-quart_dist,0,0])\n",
    "    p6 = np.array([-lens_dist/2.-lens_thick/2.,0,0])\n",
    "    p7 = np.array([-lens_dist/2.+lens_thick/2.,0,0])\n",
    "\n",
    "    ps = np.stack([p0,p1,pa,pb,p2,p3,p4,p5,pc,pd,p6,p7], axis=0)\n",
    "    \n",
    "    geom = geometry(ps)\n",
    "    ns = geom['refl']\n",
    "    ps = geom['mir']\n",
    "    angles = geom['angles']\n",
    "    Rtr = geom['R']\n",
    "    ax_x = geom['xin']\n",
    "    ax_y = np.cross(ns, ax_x)\n",
    "        \n",
    "    #apply poition perturbations\n",
    "    ps += eps[:,:3]\n",
    "    ns = [rot_vec(rot_vec(ns[i], ax_x[i], np.deg2rad(eps[i,3])), ax_y[i], np.deg2rad(eps[i,4])) for i, n in enumerate(ns)]    \n",
    "        \n",
    "    hi = 12.7\n",
    "    qi= 7.75\n",
    "    ng = 1.4537\n",
    "    coef = np.zeros(9)\n",
    "    coef[4] = c4\n",
    "    coef[6] = c6\n",
    "    coef[8] = c8\n",
    "    elements = [\\\n",
    "                Glass(p=ps[0], n=ns[0], ax=ax_x[0], ay=ax_y[0], Rbasis=Rtr[0], diameter=lens_diam, n2=ng),\\\n",
    "                CurvedGlass(p=ps[1], n=ns[1], ax=ax_x[1], ay=ax_y[1], Rbasis=Rtr[1], diameter=lens_diam, R=-Rlens, curv='CC', n1=ng),\\\n",
    "                FreeFormInterface(p=ps[2], n=ns[2], ax=ax_x[2], ay=ax_y[2], Rbasis=Rtr[2], diameter=lens_diam, n2=ng, coef=coef),\\\n",
    "                Glass(p=ps[3], n=ns[3], ax=ax_x[3], ay=ax_y[3], Rbasis=Rtr[3], diameter=lens_diam, n1=ng),\\\n",
    "                Mirror(p=ps[4], n=ns[4], ax=ax_x[4], ay=ax_y[4], Rbasis=Rtr[4], diameter=hi),\\\n",
    "                Mirror(p=ps[5], n=ns[5], ax=ax_x[5], ay=ax_y[5], Rbasis=Rtr[5], diameter=hi),\\\n",
    "                Mirror(p=ps[6], n=ns[6], ax=ax_x[6], ay=ax_y[6], Rbasis=Rtr[6], diameter=hi),\\\n",
    "                Mirror(p=ps[7], n=ns[7], ax=ax_x[7], ay=ax_y[7], Rbasis=Rtr[7], diameter=hi),\\\n",
    "                Glass(p=ps[8], n=ns[8], ax=ax_x[8], ay=ax_y[8], Rbasis=Rtr[8], diameter=lens_diam, n2=ng),\\\n",
    "                FreeFormInterface(p=ps[9], n=ns[9], ax=ax_x[9], ay=ax_y[9], Rbasis=Rtr[9], diameter=lens_diam, n1=ng, coef=-coef),\\\n",
    "                CurvedGlass(p=ps[10], n=ns[10], ax=ax_x[10], ay=ax_y[10], Rbasis=Rtr[10], diameter=lens_diam, R=Rlens, curv='CX', n2=ng),\\\n",
    "                Glass(p=ps[11], n=ns[11], ax=ax_x[11], ay=ax_y[11], Rbasis=Rtr[11], diameter=lens_diam, n1=ng)\\\n",
    "                ]\n",
    "    return elements\n",
    "\n",
    "cavfct = LensCavCADpert\n",
    "parname = 'lens_dist'"
   ]
  },
  {
   "cell_type": "code",
   "execution_count": 4,
   "metadata": {},
   "outputs": [],
   "source": [
    "def LensCavPert(arm1=48., arm2=30., base=19., angle=180.-129., lens_dist=22.2, Rlens=5.0, eps=np.zeros((8,5))):\n",
    "    angle = np.deg2rad(angle)\n",
    "    lens_diam=6.35\n",
    "    lens_thick=4.\n",
    "    \n",
    "    p0 = np.array([lens_dist/2.-lens_thick/2.,0,0])\n",
    "    p1 = np.array([lens_dist/2.+lens_thick/2.,0,0])\n",
    "    p2 = np.array([arm1/2.,0,0])\n",
    "    p3 = np.array([np.cos(angle)*arm2/2.,base,np.sin(angle)*arm2/2.])\n",
    "    p4 = np.array([-np.cos(angle)*arm2/2.,base,-np.sin(angle)*arm2/2.])\n",
    "    p5 = np.array([-arm1/2.,0,0])\n",
    "    p6 = np.array([-lens_dist/2.-lens_thick/2.,0,0])\n",
    "    p7 = np.array([-lens_dist/2.+lens_thick/2.,0,0])\n",
    "    ps = np.stack([p0,p1,p2,p3,p4,p5,p6,p7], axis=0)\n",
    "    \n",
    "    geom = geometry(ps)\n",
    "    ns = geom['refl']\n",
    "    ps = geom['mir']\n",
    "    angles = geom['angles']\n",
    "    Rtr = geom['R']\n",
    "    ax_x = geom['xin']\n",
    "    ax_y = np.cross(ns, ax_x)\n",
    "    \n",
    "    for i in range(ps.shape[0]):\n",
    "        ps[i] += eps[i,0]*ax_x[i] + eps[i,1]*ax_y[i] + eps[i,2]*ns[i]\n",
    "    \n",
    "    #apply poition perturbations\n",
    "    #ps += eps[:,:3]\n",
    "    ns = [rot_vec(rot_vec(ns[i], ax_x[i], np.deg2rad(eps[i,3])), ax_y[i], np.deg2rad(eps[i,4])) for i, n in enumerate(ns)]   \n",
    "        \n",
    "    hi = 12.7\n",
    "    qi=7.75\n",
    "    ng = 1.4537\n",
    "     #negative sign of firstt cuved surface for abcd matrix\n",
    "    elements = [Glass(p=ps[0], n=ns[0], ax=ax_x[0], ay=ax_y[0], Rbasis=Rtr[0], diameter=lens_diam, n2=ng),\\\n",
    "                CurvedGlass(p=ps[1], n=ns[1], ax=ax_x[1], ay=ax_y[1], Rbasis=Rtr[1], diameter=lens_diam, R=-Rlens, curv='CC', n1=ng),\\\n",
    "                Mirror(p=ps[2], n=ns[2], ax=ax_x[2], ay=ax_y[2], Rbasis=Rtr[2], diameter=hi),\\\n",
    "                Mirror(p=ps[3], n=ns[3], ax=ax_x[3], ay=ax_y[3], Rbasis=Rtr[3], diameter=hi),\\\n",
    "                Mirror(p=ps[4], n=ns[4], ax=ax_x[4], ay=ax_y[4], Rbasis=Rtr[4], diameter=hi),\\\n",
    "                Mirror(p=ps[5], n=ns[5], ax=ax_x[5], ay=ax_y[5], Rbasis=Rtr[5], diameter=hi),\\\n",
    "                CurvedGlass(p=ps[6], n=ns[6], ax=ax_x[6], ay=ax_y[6], Rbasis=Rtr[6], diameter=lens_diam, R=Rlens, curv='CX', n2=ng),\\\n",
    "                Glass(p=ps[7], n=ns[7], ax=ax_x[7], ay=ax_y[7], Rbasis=Rtr[7], diameter=lens_diam, n1=ng)]\n",
    "    #apply position offsets in element coordinates\n",
    "    #for i, e in enumerate(elements):\n",
    "    #    e.p += (e.Rot.T)@eps[i,:3]\n",
    "    return elements\n",
    "\n",
    "cavfct = LensCavPert\n",
    "parname = 'lens_dist'"
   ]
  },
  {
   "cell_type": "code",
   "execution_count": 4,
   "metadata": {
    "jupyter": {
     "source_hidden": true
    },
    "tags": []
   },
   "outputs": [],
   "source": [
    "def NoLensCavPert(arm1=48., arm2=30., base=19., angle=180.-129., lens_dist=22.2, Rlens=5.0, eps=np.zeros((4,5))):\n",
    "    angle = np.deg2rad(angle)\n",
    "    lens_diam=6.35\n",
    "    lens_thick=4.\n",
    "    \n",
    "\n",
    "    p2 = np.array([arm1/2.,0,0])\n",
    "    p3 = np.array([np.cos(angle)*arm2/2.,base,np.sin(angle)*arm2/2.])\n",
    "    p4 = np.array([-np.cos(angle)*arm2/2.,base,-np.sin(angle)*arm2/2.])\n",
    "    p5 = np.array([-arm1/2.,0,0])\n",
    "    ps = np.stack([p2,p3,p4,p5], axis=0)\n",
    "    \n",
    "    geom = geometry(ps)\n",
    "    ns = geom['refl']\n",
    "    ps = geom['mir']\n",
    "    angles = geom['angles']\n",
    "    Rtr = geom['R']\n",
    "    ax_x = geom['xin']\n",
    "    ax_y = np.cross(ns, ax_x)\n",
    "    \n",
    "    for i in range(ps.shape[0]):\n",
    "        ps[i] += eps[i,0]*ax_x[i] + eps[i,1]*ax_y[i] + eps[i,2]*ns[i]\n",
    "    \n",
    "    #apply poition perturbations\n",
    "    #ps += eps[:,:3]\n",
    "    ns = [rot_vec(rot_vec(ns[i], ax_x[i], np.deg2rad(eps[i,3])), ax_y[i], np.deg2rad(eps[i,4])) for i, n in enumerate(ns)]   \n",
    "        \n",
    "    hi = 12.7\n",
    "    qi=7.75\n",
    "    ng = 1.4537\n",
    "     #negative sign of firstt cuved surface for abcd matrix\n",
    "    elements = [Mirror(p=ps[0], n=ns[0], ax=ax_x[0], ay=ax_y[0], Rbasis=Rtr[0], diameter=hi),\\\n",
    "                Mirror(p=ps[1], n=ns[1], ax=ax_x[1], ay=ax_y[1], Rbasis=Rtr[1], diameter=hi),\\\n",
    "                CurvedMirror(R=1e3, p=ps[2], n=ns[2], ax=ax_x[2], ay=ax_y[2], Rbasis=Rtr[2], diameter=hi),\\\n",
    "                Mirror(p=ps[3], n=ns[3], ax=ax_x[3], ay=ax_y[3], Rbasis=Rtr[3], diameter=hi)]\n",
    "    #apply position offsets in element coordinates\n",
    "    #for i, e in enumerate(elements):\n",
    "    #    e.p += (e.Rot.T)@eps[i,:3]\n",
    "    return elements\n",
    "\n",
    "cavfct = NoLensCavPert\n",
    "parname = 'lens_dist'"
   ]
  },
  {
   "cell_type": "code",
   "execution_count": 5,
   "metadata": {},
   "outputs": [
    {
     "name": "stdout",
     "output_type": "stream",
     "text": [
      "21.77801052565133\n"
     ]
    }
   ],
   "source": [
    "res = degeneracy_length(LensCavPert, parname, 5e-2, s=1, degmodenum=2)\n",
    "Ldeg=res.x\n",
    "print(Ldeg)"
   ]
  },
  {
   "cell_type": "code",
   "execution_count": 6,
   "metadata": {},
   "outputs": [
    {
     "data": {
      "application/vnd.jupyter.widget-view+json": {
       "model_id": "e9138d3863b441d48ba56e473211636d",
       "version_major": 2,
       "version_minor": 0
      },
      "text/plain": [
       "Canvas(toolbar=Toolbar(toolitems=[('Home', 'Reset original view', 'home', 'home'), ('Back', 'Back to previous …"
      ]
     },
     "metadata": {},
     "output_type": "display_data"
    },
    {
     "data": {
      "text/plain": [
       "21.780501672240803"
      ]
     },
     "execution_count": 6,
     "metadata": {},
     "output_type": "execute_result"
    }
   ],
   "source": [
    "waists_vs_param(cavfct, parname, 5e-2, s=1, degmodenum=2)"
   ]
  },
  {
   "cell_type": "code",
   "execution_count": 7,
   "metadata": {
    "tags": []
   },
   "outputs": [
    {
     "data": {
      "application/vnd.jupyter.widget-view+json": {
       "model_id": "d66cd7d446794991b9c2a865ac9ecb01",
       "version_major": 2,
       "version_minor": 0
      },
      "text/plain": [
       "Plot(antialias=True, axes=['x', 'y', 'z'], axes_helper=1.0, background_color=16777215, camera_animation=[], ca…"
      ]
     },
     "metadata": {},
     "output_type": "display_data"
    }
   ],
   "source": [
    "try:\n",
    "    plot.close()\n",
    "except:\n",
    "    pass\n",
    "elements_ref = cavfct(**{parname: Ldeg})\n",
    "#elements = cavfct(**{parname: Ldeg, 'eps': eps})\n",
    "\n",
    "plot = k3d.plot(camera_auto_fit=True, antialias=True, camera_fov=20.)\n",
    "\n",
    "for i, el in enumerate(elements_ref):\n",
    "    plot += el.plot(opacity=0.4)\n",
    "plot"
   ]
  },
  {
   "cell_type": "code",
   "execution_count": 8,
   "metadata": {},
   "outputs": [
    {
     "name": "stdout",
     "output_type": "stream",
     "text": [
      "131.24995092745596\n"
     ]
    },
    {
     "data": {
      "text/plain": [
       "array([0.01720324, 0.01720324])"
      ]
     },
     "execution_count": 8,
     "metadata": {},
     "output_type": "execute_result"
    }
   ],
   "source": [
    "elements = cavfct(**{parname: Ldeg})\n",
    "sys = RaySystem(elements)\n",
    "system = sys.abcd\n",
    "print(system.Ltot)\n",
    "system.waist_at(0)"
   ]
  },
  {
   "cell_type": "code",
   "execution_count": 9,
   "metadata": {},
   "outputs": [
    {
     "data": {
      "application/vnd.jupyter.widget-view+json": {
       "model_id": "6045bff8eeca4fc0bbe617b3fd153b70",
       "version_major": 2,
       "version_minor": 0
      },
      "text/plain": [
       "Canvas(toolbar=Toolbar(toolitems=[('Home', 'Reset original view', 'home', 'home'), ('Back', 'Back to previous …"
      ]
     },
     "metadata": {},
     "output_type": "display_data"
    }
   ],
   "source": [
    "x0 = np.linspace(0, system.Ltot, 500)\n",
    "ws0 = system.compute_waists(x0)\n",
    "\n",
    "plt.figure()\n",
    "plt.plot(x0, ws0)\n",
    "plt.show()"
   ]
  },
  {
   "cell_type": "code",
   "execution_count": 10,
   "metadata": {},
   "outputs": [],
   "source": [
    "ng = 1.4537 #1.460 #1.4537\n",
    "elements_mm = [Prop(system.distlist[1]), ABCD(elements[0].m), Prop(system.distlist[2]-system.distlist[1], n=ng), ABCD(elements[1].m), Prop(system.distlist[3]-system.distlist[2], n=1),\n",
    "               ABCD(Glass(n2=ng).m), Prop(5.0, n=ng), ABCD(Glass(n1=ng).m),\\\n",
    "               Prop(500.0),] #\n",
    "\n",
    "#  ABCD(CurvedGlass(R=69.0, curv='CC', n2=ng).m),Prop(3.8, n=ng),ABCD(Glass(n1=ng).m),\\\n",
    "#                 Prop(205.0), ABCD(CurvedGlass(R=46.0, curv='CC', n2=ng).m),Prop(2.9, n=ng),ABCD(Glass(n1=ng).m),\\\n",
    "#                 Prop(550.0), ABCD(CurvedGlass(R=3.1, curv='CC', n2=ng).m),Prop(2.9, n=ng),ABCD(Glass(n1=ng).m),Prop(3.0)\n",
    "\n",
    "abcd_mm = ABCDSystem(elements_mm)"
   ]
  },
  {
   "cell_type": "code",
   "execution_count": 11,
   "metadata": {},
   "outputs": [
    {
     "data": {
      "application/vnd.jupyter.widget-view+json": {
       "model_id": "d2770b20737c48b2b289afb79193bc9d",
       "version_major": 2,
       "version_minor": 0
      },
      "text/plain": [
       "Canvas(toolbar=Toolbar(toolitems=[('Home', 'Reset original view', 'home', 'home'), ('Back', 'Back to previous …"
      ]
     },
     "metadata": {},
     "output_type": "display_data"
    }
   ],
   "source": [
    "x = np.linspace(0, abcd_mm.Ltot, 2000)\n",
    "ws = abcd_mm.compute_waists(x, qin=system.q_at(0))\n",
    "#ws2 = abcd_mm_2.compute_waists(x, qin=q_1)\n",
    "plt.figure()\n",
    "plt.plot(x0, ws0, ls=':')\n",
    "ls = plt.plot(x, ws)\n",
    "plt.axvline(system.distlist[3]+53, color='grey')\n",
    "#plt.plot(x, ws2, ls=':')\n",
    "#plt.axhline(0.22*6.2, color='grey')\n",
    "plt.show()"
   ]
  },
  {
   "cell_type": "code",
   "execution_count": 66,
   "metadata": {},
   "outputs": [
    {
     "data": {
      "text/plain": [
       "(2000, 2)"
      ]
     },
     "execution_count": 66,
     "metadata": {},
     "output_type": "execute_result"
    }
   ],
   "source": [
    "ws.shape"
   ]
  },
  {
   "cell_type": "code",
   "execution_count": 12,
   "metadata": {},
   "outputs": [],
   "source": [
    "def interaction_factory(sysfct, pardct, qin=None, Npts=500, wl=780e-6):\n",
    "    sliders = {n: widgets.FloatSlider(value=v, min=a, max=b) for n, (v,a,b) in pardct.items()}\n",
    "    \n",
    "    kwargs = {n: v for n, (v,a,b) in pardct.items()}\n",
    "    SysObj = ABCDSystem(sysfct(**kwargs), wl=wl)\n",
    "    \n",
    "    lrt = SysObj.Ltot\n",
    "    x = np.linspace(0, lrt, Npts)\n",
    "    ws = np.zeros_like(x)\n",
    "    fig, ax = plt.subplots()\n",
    "    lines = ax.plot(x, ws)\n",
    "    \n",
    "    cycle = plt.rcParams['axes.prop_cycle'].by_key()['color']\n",
    "    vlinesx = [ax.axvline(d, ls=\":\", color='grey') for d in SysObj.distlist[1:-1]]\n",
    "    \n",
    "    ax.set_xlabel(r\"$L$ [mm]\")\n",
    "    ax.set_ylabel(r\"Waist $\\omega$ [um]\")\n",
    "\n",
    "    def update(**kwargs):\n",
    "        print(kwargs)\n",
    "        try:\n",
    "            SysObj = ABCDSystem(sysfct(**kwargs), wl=wl)\n",
    "        except AssertionError:\n",
    "            for line in lines:\n",
    "                line.set_data(np.array([0,1]),np.array([0,0]))\n",
    "        else:\n",
    "            x = np.linspace(0, SysObj.Ltot, Npts)\n",
    "            y = SysObj.compute_waists(x, qin=qin)\n",
    "            for i, l in enumerate(lines):\n",
    "                l.set_data(x,y[:,i])\n",
    "                \n",
    "            for i, d in enumerate(SysObj.distlist[1:-1]):\n",
    "                vlinesx[i].set_data(([d, d], [0, 1]))\n",
    "            \n",
    "            ax.relim()\n",
    "            ax.autoscale_view()\n",
    "            fig.canvas.draw_idle()\n",
    "\n",
    "    return fig, ax, interact(update, **sliders)"
   ]
  },
  {
   "cell_type": "code",
   "execution_count": 13,
   "metadata": {},
   "outputs": [],
   "source": [
    "class Lens(ABCD):\n",
    "    def __init__(self, f):\n",
    "        # Returns the ABCD array for a thin lens with focal length f\n",
    "        self.f = f\n",
    "        m = np.identity(4, dtype=np.float64)\n",
    "        m[2,0] = -1.0/f\n",
    "        m[3,1] = -1.0/f\n",
    "        self.m = m"
   ]
  },
  {
   "cell_type": "code",
   "execution_count": 17,
   "metadata": {},
   "outputs": [
    {
     "data": {
      "text/plain": [
       "11.110994737174336"
      ]
     },
     "execution_count": 17,
     "metadata": {},
     "output_type": "execute_result"
    }
   ],
   "source": [
    "system.distlist[3]-system.distlist[2]"
   ]
  },
  {
   "cell_type": "code",
   "execution_count": 14,
   "metadata": {},
   "outputs": [
    {
     "data": {
      "application/vnd.jupyter.widget-view+json": {
       "model_id": "1067b2f8d69e438491d56c212603db1c",
       "version_major": 2,
       "version_minor": 0
      },
      "text/plain": [
       "Canvas(toolbar=Toolbar(toolitems=[('Home', 'Reset original view', 'home', 'home'), ('Back', 'Back to previous …"
      ]
     },
     "metadata": {},
     "output_type": "display_data"
    },
    {
     "data": {
      "application/vnd.jupyter.widget-view+json": {
       "model_id": "b960a376c27d48dbbd465a99dc939c80",
       "version_major": 2,
       "version_minor": 0
      },
      "text/plain": [
       "interactive(children=(FloatSlider(value=400.0, description='f', max=500.0, min=10.0), FloatSlider(value=380.0,…"
      ]
     },
     "metadata": {},
     "output_type": "display_data"
    }
   ],
   "source": [
    "def SysMM(f, d1, fa, da):\n",
    "    ng = 1.4537 #1.460 #1.4537\n",
    "    sys = [Prop(system.distlist[1]), ABCD(elements[0].m), Prop(system.distlist[2]-system.distlist[1], n=ng), ABCD(elements[1].m), Prop(system.distlist[3]-system.distlist[2], n=1),\n",
    "               ABCD(Glass(n2=ng).m), Prop(5.0, n=ng), ABCD(Glass(n1=ng).m),\\\n",
    "               Prop(53+d1),Lens(f), Prop(300-da),Lens(fa),Prop(da)] # \n",
    "    return sys\n",
    "\n",
    "ParMM = {\"f\": (400, 10, 500), \"d1\": (380, 220, 500), \"fa\": (11, 6, 15), \"da\": (11, 6, 15)}\n",
    "_,_,inter = interaction_factory(SysMM, ParMM, qin=system.q_at(0))"
   ]
  },
  {
   "cell_type": "code",
   "execution_count": 14,
   "metadata": {},
   "outputs": [],
   "source": [
    "wfib = 5.3e-3/2\n",
    "wl = 780e-6\n",
    "qfib = 1j*np.pi*wfib**2/wl"
   ]
  },
  {
   "cell_type": "code",
   "execution_count": 15,
   "metadata": {},
   "outputs": [],
   "source": [
    "def SysAsph(fa, da, ltot=100):\n",
    "    return [Prop(da),Lens(fa),Prop(ltot-da)]"
   ]
  },
  {
   "cell_type": "code",
   "execution_count": 17,
   "metadata": {
    "collapsed": true,
    "jupyter": {
     "outputs_hidden": true
    },
    "tags": []
   },
   "outputs": [
    {
     "ename": "ValueError",
     "evalue": "matmul: Input operand 0 does not have enough dimensions (has 0, gufunc core with signature (n?,k),(k,m?)->(n?,m?) requires 1)",
     "output_type": "error",
     "traceback": [
      "\u001b[1;31m---------------------------------------------------------------------------\u001b[0m",
      "\u001b[1;31mValueError\u001b[0m                                Traceback (most recent call last)",
      "\u001b[1;32m~\\AppData\\Local\\Temp/ipykernel_1392/3836958959.py\u001b[0m in \u001b[0;36m<module>\u001b[1;34m\u001b[0m\n\u001b[0;32m      1\u001b[0m \u001b[0msys_asph\u001b[0m \u001b[1;33m=\u001b[0m \u001b[0mABCDSystem\u001b[0m\u001b[1;33m(\u001b[0m\u001b[0mSysAsph\u001b[0m\u001b[1;33m(\u001b[0m\u001b[1;36m11.0\u001b[0m\u001b[1;33m,\u001b[0m \u001b[1;36m12.0\u001b[0m\u001b[1;33m)\u001b[0m\u001b[1;33m)\u001b[0m\u001b[1;33m\u001b[0m\u001b[1;33m\u001b[0m\u001b[0m\n\u001b[0;32m      2\u001b[0m \u001b[0mx\u001b[0m \u001b[1;33m=\u001b[0m \u001b[0mnp\u001b[0m\u001b[1;33m.\u001b[0m\u001b[0mlinspace\u001b[0m\u001b[1;33m(\u001b[0m\u001b[1;36m0\u001b[0m\u001b[1;33m,\u001b[0m \u001b[0msys_asph\u001b[0m\u001b[1;33m.\u001b[0m\u001b[0mLtot\u001b[0m\u001b[1;33m,\u001b[0m \u001b[1;36m1000\u001b[0m\u001b[1;33m)\u001b[0m\u001b[1;33m\u001b[0m\u001b[1;33m\u001b[0m\u001b[0m\n\u001b[1;32m----> 3\u001b[1;33m \u001b[0mws\u001b[0m \u001b[1;33m=\u001b[0m \u001b[0msys_asph\u001b[0m\u001b[1;33m.\u001b[0m\u001b[0mcompute_waists\u001b[0m\u001b[1;33m(\u001b[0m\u001b[0mx\u001b[0m\u001b[1;33m,\u001b[0m \u001b[0mqin\u001b[0m\u001b[1;33m=\u001b[0m\u001b[0mqfib\u001b[0m\u001b[1;33m)\u001b[0m\u001b[1;33m\u001b[0m\u001b[1;33m\u001b[0m\u001b[0m\n\u001b[0m\u001b[0;32m      4\u001b[0m \u001b[1;33m\u001b[0m\u001b[0m\n\u001b[0;32m      5\u001b[0m \u001b[0mplt\u001b[0m\u001b[1;33m.\u001b[0m\u001b[0mfigure\u001b[0m\u001b[1;33m(\u001b[0m\u001b[1;33m)\u001b[0m\u001b[1;33m\u001b[0m\u001b[1;33m\u001b[0m\u001b[0m\n",
      "\u001b[1;32mc:\\users\\simonlab\\documents\\lukas\\03_theory\\abcd\\sloppy\\src\\sloppy\\abcd.py\u001b[0m in \u001b[0;36mcompute_waists\u001b[1;34m(self, x, qin)\u001b[0m\n\u001b[0;32m    270\u001b[0m         \u001b[0mws\u001b[0m \u001b[1;33m=\u001b[0m \u001b[0mnp\u001b[0m\u001b[1;33m.\u001b[0m\u001b[0mzeros\u001b[0m\u001b[1;33m(\u001b[0m\u001b[1;33m(\u001b[0m\u001b[0mx\u001b[0m\u001b[1;33m.\u001b[0m\u001b[0mshape\u001b[0m\u001b[1;33m[\u001b[0m\u001b[1;36m0\u001b[0m\u001b[1;33m]\u001b[0m\u001b[1;33m,\u001b[0m \u001b[1;36m2\u001b[0m\u001b[1;33m)\u001b[0m\u001b[1;33m)\u001b[0m\u001b[1;33m\u001b[0m\u001b[1;33m\u001b[0m\u001b[0m\n\u001b[0;32m    271\u001b[0m         \u001b[1;32mfor\u001b[0m \u001b[0mi\u001b[0m\u001b[1;33m,\u001b[0m \u001b[0ml\u001b[0m \u001b[1;32min\u001b[0m \u001b[0menumerate\u001b[0m\u001b[1;33m(\u001b[0m\u001b[0mx\u001b[0m\u001b[1;33m)\u001b[0m\u001b[1;33m:\u001b[0m\u001b[1;33m\u001b[0m\u001b[1;33m\u001b[0m\u001b[0m\n\u001b[1;32m--> 272\u001b[1;33m             \u001b[0mqp\u001b[0m \u001b[1;33m=\u001b[0m \u001b[0mself\u001b[0m\u001b[1;33m.\u001b[0m\u001b[0mpropBiK\u001b[0m\u001b[1;33m(\u001b[0m\u001b[0mqin\u001b[0m\u001b[1;33m,\u001b[0m \u001b[0mself\u001b[0m\u001b[1;33m.\u001b[0m\u001b[0mabcd_at\u001b[0m\u001b[1;33m(\u001b[0m\u001b[0ml\u001b[0m\u001b[1;33m)\u001b[0m\u001b[1;33m)\u001b[0m\u001b[1;33m\u001b[0m\u001b[1;33m\u001b[0m\u001b[0m\n\u001b[0m\u001b[0;32m    273\u001b[0m             \u001b[0mws\u001b[0m\u001b[1;33m[\u001b[0m\u001b[0mi\u001b[0m\u001b[1;33m,\u001b[0m\u001b[1;33m:\u001b[0m\u001b[1;33m]\u001b[0m \u001b[1;33m=\u001b[0m \u001b[0mself\u001b[0m\u001b[1;33m.\u001b[0m\u001b[0msolve_mode\u001b[0m\u001b[1;33m(\u001b[0m\u001b[0mqp\u001b[0m\u001b[1;33m,\u001b[0m \u001b[0mself\u001b[0m\u001b[1;33m.\u001b[0m\u001b[0mn_at\u001b[0m\u001b[1;33m(\u001b[0m\u001b[0ml\u001b[0m\u001b[1;33m)\u001b[0m\u001b[1;33m)\u001b[0m\u001b[1;33m\u001b[0m\u001b[1;33m\u001b[0m\u001b[0m\n\u001b[0;32m    274\u001b[0m         \u001b[1;32mreturn\u001b[0m \u001b[0mws\u001b[0m\u001b[1;33m\u001b[0m\u001b[1;33m\u001b[0m\u001b[0m\n",
      "\u001b[1;32mc:\\users\\simonlab\\documents\\lukas\\03_theory\\abcd\\sloppy\\src\\sloppy\\abcd.py\u001b[0m in \u001b[0;36mpropBiK\u001b[1;34m(self, BiK, M)\u001b[0m\n\u001b[0;32m    246\u001b[0m     \u001b[1;32mdef\u001b[0m \u001b[0mpropBiK\u001b[0m\u001b[1;33m(\u001b[0m\u001b[0mself\u001b[0m\u001b[1;33m,\u001b[0m \u001b[0mBiK\u001b[0m\u001b[1;33m,\u001b[0m \u001b[0mM\u001b[0m\u001b[1;33m)\u001b[0m\u001b[1;33m:\u001b[0m\u001b[1;33m\u001b[0m\u001b[1;33m\u001b[0m\u001b[0m\n\u001b[0;32m    247\u001b[0m         \u001b[1;34m\"\"\"Propagate eigenvector matrix BiK with ABCD matrix M.\"\"\"\u001b[0m\u001b[1;33m\u001b[0m\u001b[1;33m\u001b[0m\u001b[0m\n\u001b[1;32m--> 248\u001b[1;33m         \u001b[0mBiKz\u001b[0m \u001b[1;33m=\u001b[0m \u001b[0mBiK\u001b[0m\u001b[1;33m@\u001b[0m\u001b[0mM\u001b[0m\u001b[1;33m.\u001b[0m\u001b[0mT\u001b[0m\u001b[1;33m\u001b[0m\u001b[1;33m\u001b[0m\u001b[0m\n\u001b[0m\u001b[0;32m    249\u001b[0m         \u001b[1;32mreturn\u001b[0m \u001b[0mBiKz\u001b[0m\u001b[1;33m\u001b[0m\u001b[1;33m\u001b[0m\u001b[0m\n\u001b[0;32m    250\u001b[0m \u001b[1;33m\u001b[0m\u001b[0m\n",
      "\u001b[1;31mValueError\u001b[0m: matmul: Input operand 0 does not have enough dimensions (has 0, gufunc core with signature (n?,k),(k,m?)->(n?,m?) requires 1)"
     ]
    }
   ],
   "source": [
    "sys_asph = ABCDSystem(SysAsph(11.0, 12.0))\n",
    "x = np.linspace(0, sys_asph.Ltot, 1000)\n",
    "ws = sys_asph.compute_waists(x, qin=qfib)\n",
    "\n",
    "plt.figure()\n",
    "plt.plot(x, ws, ls=':')"
   ]
  },
  {
   "cell_type": "code",
   "execution_count": 82,
   "metadata": {},
   "outputs": [
    {
     "data": {
      "application/vnd.jupyter.widget-view+json": {
       "model_id": "b2ea12bad2a440d3ae30572a0b0c0a7b",
       "version_major": 2,
       "version_minor": 0
      },
      "text/plain": [
       "Canvas(toolbar=Toolbar(toolitems=[('Home', 'Reset original view', 'home', 'home'), ('Back', 'Back to previous …"
      ]
     },
     "metadata": {},
     "output_type": "display_data"
    },
    {
     "data": {
      "application/vnd.jupyter.widget-view+json": {
       "model_id": "36c936f2a8814fb3b5de1daa0aad8bb7",
       "version_major": 2,
       "version_minor": 0
      },
      "text/plain": [
       "interactive(children=(FloatSlider(value=250.0, description='f', max=500.0, min=10.0), FloatSlider(value=225.0,…"
      ]
     },
     "metadata": {},
     "output_type": "display_data"
    }
   ],
   "source": [
    "def SysMM1560(f, d1, fa, da):\n",
    "    ng = 1.4439\n",
    "    sys = [Prop(system.distlist[1]), ABCD(elements[0].m), Prop(system.distlist[2]-system.distlist[1], n=ng), ABCD(elements[1].m), Prop(system.distlist[3]-system.distlist[2], n=1),\n",
    "               ABCD(Glass(n2=ng).m), Prop(5.0, n=ng), ABCD(Glass(n1=ng).m),\\\n",
    "               Prop(53+d1),Lens(f), Prop(300-da),Lens(fa),Prop(da)] # \n",
    "    return sys\n",
    "ParMM = {\"f\": (250, 10, 500), \"d1\": (225, 200, 500), \"fa\": (11, 6, 15), \"da\": (11, 6, 15)}\n",
    "_, ax, inter = interaction_factory(SysMM1560, ParMM, qin=system.q_at(0),wl=1560e-6)"
   ]
  },
  {
   "cell_type": "code",
   "execution_count": null,
   "metadata": {},
   "outputs": [],
   "source": []
  }
 ],
 "metadata": {
  "kernelspec": {
   "display_name": "Python [conda env:.conda-sloppy]",
   "language": "python",
   "name": "conda-env-.conda-sloppy-py"
  },
  "language_info": {
   "codemirror_mode": {
    "name": "ipython",
    "version": 3
   },
   "file_extension": ".py",
   "mimetype": "text/x-python",
   "name": "python",
   "nbconvert_exporter": "python",
   "pygments_lexer": "ipython3",
   "version": "3.9.7"
  }
 },
 "nbformat": 4,
 "nbformat_minor": 4
}
