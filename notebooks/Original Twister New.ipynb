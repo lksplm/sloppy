{
 "cells": [
  {
   "cell_type": "code",
   "execution_count": 1,
   "metadata": {},
   "outputs": [],
   "source": [
    "%load_ext autoreload\n",
    "%autoreload 2"
   ]
  },
  {
   "cell_type": "code",
   "execution_count": 2,
   "metadata": {},
   "outputs": [],
   "source": [
    "%matplotlib widget\n",
    "import numpy as np\n",
    "import k3d\n",
    "import matplotlib.pyplot as plt\n",
    "from functools import reduce\n",
    "from ipywidgets import *\n",
    "from matplotlib.animation import FuncAnimation\n",
    "import matplotlib.animation as ani\n",
    "from sloppy.raytracing import *\n",
    "from sloppy.abcd import *\n",
    "from cavities import *"
   ]
  },
  {
   "cell_type": "markdown",
   "metadata": {},
   "source": [
    "## Cavity geometry definition"
   ]
  },
  {
   "cell_type": "markdown",
   "metadata": {},
   "source": [
    "## Paraxial modes and degeneracy"
   ]
  },
  {
   "cell_type": "code",
   "execution_count": 5,
   "metadata": {},
   "outputs": [
    {
     "data": {
      "application/vnd.jupyter.widget-view+json": {
       "model_id": "3ddc18f212e547b68ec364598777b03e",
       "version_major": 2,
       "version_minor": 0
      },
      "text/plain": [
       "Canvas(toolbar=Toolbar(toolitems=[('Home', 'Reset original view', 'home', 'home'), ('Back', 'Back to previous …"
      ]
     },
     "metadata": {},
     "output_type": "display_data"
    },
    {
     "name": "stdout",
     "output_type": "stream",
     "text": [
      "31.674682274247495\n"
     ]
    }
   ],
   "source": [
    "stab = lambda m: abs(0.25*np.trace(m))<0.99\n",
    "La = 31.67\n",
    "\n",
    "scanrng = 0.2\n",
    "N = 300\n",
    "Las = La + np.linspace(-scanrng, scanrng, N)\n",
    "\n",
    "ms = np.zeros((N))\n",
    "ws = np.zeros((N,2))\n",
    "freqs = np.zeros((N,4))\n",
    "for i, l in enumerate(Las):\n",
    "    elements = OriginalTwister(betal=l, R=25., Rlarge=-75., thet=20., asym = 1.25)\n",
    "    sys = RaySystem(elements)\n",
    "    system = sys.abcd\n",
    "        \n",
    "    ms[i] = stab(system.abcd_rt)\n",
    "    w = system.waist_at(0)\n",
    "    ws[i,:] = np.sort(w)\n",
    "    freqs[i,...] = np.concatenate(system.get_freqs())\n",
    "    \n",
    "idx = np.argmin(np.abs(freqs[:,2]))\n",
    "g, ax = plt.subplots(ncols=2, figsize=(8,4))\n",
    "ax[0].plot(Las, ws*1e3)\n",
    "ax[0].set_ylabel('um')\n",
    "ax[1].plot(Las, freqs*1e-6)\n",
    "ax[1].set_ylabel('MHz')\n",
    "ax[1].axhline(0, color='grey')\n",
    "ax[0].axvline(Las[idx], color='grey')\n",
    "ax[1].axvline(Las[idx], color='grey')\n",
    "plt.show()\n",
    "Ldeg = Las[idx]\n",
    "print(Las[idx])"
   ]
  },
  {
   "cell_type": "markdown",
   "metadata": {},
   "source": [
    "## Paraxial eigenrays and hit pattern"
   ]
  },
  {
   "cell_type": "code",
   "execution_count": 7,
   "metadata": {},
   "outputs": [],
   "source": [
    "elements = OriginalTwister(betal=Ldeg, R=25., Rlarge=-75., thet=20., asym = 1.25)\n",
    "sys = RaySystem(elements)\n",
    "system = sys.abcd\n",
    "screen = elements[-1]\n",
    "\n",
    "k = 2*np.pi/system.wl\n",
    "mu1, mu2 = system.q\n",
    "\n",
    "mu = mu1.real*0.05"
   ]
  },
  {
   "cell_type": "code",
   "execution_count": 8,
   "metadata": {},
   "outputs": [],
   "source": [
    "def makeidx(hit_m):\n",
    "    return np.arange(hit_m.shape[0])"
   ]
  },
  {
   "cell_type": "code",
   "execution_count": 9,
   "metadata": {},
   "outputs": [
    {
     "data": {
      "application/vnd.jupyter.widget-view+json": {
       "model_id": "bc001013aff34a03be00227008752573",
       "version_major": 2,
       "version_minor": 0
      },
      "text/plain": [
       "Canvas(toolbar=Toolbar(toolitems=[('Home', 'Reset original view', 'home', 'home'), ('Back', 'Back to previous …"
      ]
     },
     "metadata": {},
     "output_type": "display_data"
    }
   ],
   "source": [
    "hit_m = propagate_ABCD(mu, system.abcd_rt, Nrt=500)\n",
    "\n",
    "plt.figure()\n",
    "line = plt.scatter(hit_m[:,0], hit_m[:,1], c=makeidx(hit_m), cmap='jet')\n",
    "plt.title('Poincare hit pattern (screen)')\n",
    "plt.xlabel('x [mm]')\n",
    "plt.ylabel('y [mm]')\n",
    "plt.colorbar()\n",
    "plt.show()"
   ]
  },
  {
   "cell_type": "markdown",
   "metadata": {},
   "source": [
    "## Raytracing"
   ]
  },
  {
   "cell_type": "code",
   "execution_count": 10,
   "metadata": {},
   "outputs": [],
   "source": [
    "ray0 = screen.eigenvectors_to_rays(mu)"
   ]
  },
  {
   "cell_type": "code",
   "execution_count": 11,
   "metadata": {},
   "outputs": [],
   "source": [
    "def plot_element_coordinates(el, plot, length=1.):\n",
    "    #plot += k3d.vectors(el.p, length*el.xin, color=0x9633ff) #purple \n",
    "    #plot += k3d.vectors(el.p, length*el.xout, color=0xfec33) #yellow \n",
    "    plot += k3d.vectors(el.p, length*el.ax_yin, color=0xff5733) #orange\n",
    "    plot += k3d.vectors(el.p, length*el.ax_yout, color=0xff33f6) #pink\n",
    "    plot += k3d.vectors(el.p, length*el.n, color=0x00ff00) #green\n",
    "    plot += k3d.vectors(el.p, length*el.ax_x, color=0xff0000) #red\n",
    "    plot += k3d.vectors(el.p, length*el.ax_y, color=0x0000ff) #blue"
   ]
  },
  {
   "cell_type": "code",
   "execution_count": 12,
   "metadata": {},
   "outputs": [
    {
     "ename": "NameError",
     "evalue": "name 'propagate_system' is not defined",
     "output_type": "error",
     "traceback": [
      "\u001b[0;31m---------------------------------------------------------------------------\u001b[0m",
      "\u001b[0;31mNameError\u001b[0m                                 Traceback (most recent call last)",
      "\u001b[0;32m<ipython-input-12-18a214fa21fe>\u001b[0m in \u001b[0;36m<module>\u001b[0;34m\u001b[0m\n\u001b[0;32m----> 1\u001b[0;31m \u001b[0mtraj0\u001b[0m \u001b[0;34m=\u001b[0m \u001b[0mpropagate_system\u001b[0m\u001b[0;34m(\u001b[0m\u001b[0melements\u001b[0m\u001b[0;34m,\u001b[0m \u001b[0mray0\u001b[0m\u001b[0;34m,\u001b[0m \u001b[0mNrt\u001b[0m\u001b[0;34m=\u001b[0m\u001b[0;36m30\u001b[0m\u001b[0;34m,\u001b[0m \u001b[0mclip\u001b[0m\u001b[0;34m=\u001b[0m\u001b[0;32mTrue\u001b[0m\u001b[0;34m)\u001b[0m\u001b[0;34m\u001b[0m\u001b[0;34m\u001b[0m\u001b[0m\n\u001b[0m",
      "\u001b[0;31mNameError\u001b[0m: name 'propagate_system' is not defined"
     ]
    }
   ],
   "source": [
    "traj0 = propagate_system(elements, ray0, Nrt=30, clip=True)"
   ]
  },
  {
   "cell_type": "code",
   "execution_count": 13,
   "metadata": {},
   "outputs": [
    {
     "name": "stderr",
     "output_type": "stream",
     "text": [
      "/Users/mattjaffe/anaconda3/envs/sloppy/lib/python3.8/site-packages/traittypes/traittypes.py:97: UserWarning: Given trait value dtype \"float64\" does not match required type \"float32\". A coerced copy has been created.\n",
      "  warnings.warn(\n"
     ]
    },
    {
     "ename": "AttributeError",
     "evalue": "'CurvedMirror' object has no attribute 'ax_yin'",
     "output_type": "error",
     "traceback": [
      "\u001b[0;31m---------------------------------------------------------------------------\u001b[0m",
      "\u001b[0;31mAttributeError\u001b[0m                            Traceback (most recent call last)",
      "\u001b[0;32m<ipython-input-13-38e9e39e0e92>\u001b[0m in \u001b[0;36m<module>\u001b[0;34m\u001b[0m\n\u001b[1;32m      9\u001b[0m \u001b[0;34m\u001b[0m\u001b[0m\n\u001b[1;32m     10\u001b[0m \u001b[0;32mfor\u001b[0m \u001b[0mi\u001b[0m\u001b[0;34m,\u001b[0m \u001b[0mel\u001b[0m \u001b[0;32min\u001b[0m \u001b[0menumerate\u001b[0m\u001b[0;34m(\u001b[0m\u001b[0melements\u001b[0m\u001b[0;34m[\u001b[0m\u001b[0;34m:\u001b[0m\u001b[0;34m-\u001b[0m\u001b[0;36m1\u001b[0m\u001b[0;34m]\u001b[0m\u001b[0;34m)\u001b[0m\u001b[0;34m:\u001b[0m\u001b[0;34m\u001b[0m\u001b[0;34m\u001b[0m\u001b[0m\n\u001b[0;32m---> 11\u001b[0;31m     \u001b[0mplot_element_coordinates\u001b[0m\u001b[0;34m(\u001b[0m\u001b[0mel\u001b[0m\u001b[0;34m,\u001b[0m \u001b[0mplot\u001b[0m\u001b[0;34m,\u001b[0m \u001b[0mlength\u001b[0m\u001b[0;34m=\u001b[0m\u001b[0;36m5.\u001b[0m\u001b[0;34m)\u001b[0m\u001b[0;34m\u001b[0m\u001b[0;34m\u001b[0m\u001b[0m\n\u001b[0m\u001b[1;32m     12\u001b[0m \u001b[0;34m\u001b[0m\u001b[0m\n\u001b[1;32m     13\u001b[0m \u001b[0mplot\u001b[0m \u001b[0;34m+=\u001b[0m \u001b[0mk3d\u001b[0m\u001b[0;34m.\u001b[0m\u001b[0mvectors\u001b[0m\u001b[0;34m(\u001b[0m\u001b[0mscreen\u001b[0m\u001b[0;34m.\u001b[0m\u001b[0mp\u001b[0m\u001b[0;34m,\u001b[0m \u001b[0;36m3\u001b[0m\u001b[0;34m*\u001b[0m\u001b[0mscreen\u001b[0m\u001b[0;34m.\u001b[0m\u001b[0max\u001b[0m\u001b[0;34m,\u001b[0m \u001b[0mcolor\u001b[0m\u001b[0;34m=\u001b[0m\u001b[0;36m0xff0000\u001b[0m\u001b[0;34m)\u001b[0m \u001b[0;31m#red\u001b[0m\u001b[0;34m\u001b[0m\u001b[0;34m\u001b[0m\u001b[0m\n",
      "\u001b[0;32m<ipython-input-11-fde10cb3d625>\u001b[0m in \u001b[0;36mplot_element_coordinates\u001b[0;34m(el, plot, length)\u001b[0m\n\u001b[1;32m      2\u001b[0m     \u001b[0;31m#plot += k3d.vectors(el.p, length*el.xin, color=0x9633ff) #purple\u001b[0m\u001b[0;34m\u001b[0m\u001b[0;34m\u001b[0m\u001b[0;34m\u001b[0m\u001b[0m\n\u001b[1;32m      3\u001b[0m     \u001b[0;31m#plot += k3d.vectors(el.p, length*el.xout, color=0xfec33) #yellow\u001b[0m\u001b[0;34m\u001b[0m\u001b[0;34m\u001b[0m\u001b[0;34m\u001b[0m\u001b[0m\n\u001b[0;32m----> 4\u001b[0;31m     \u001b[0mplot\u001b[0m \u001b[0;34m+=\u001b[0m \u001b[0mk3d\u001b[0m\u001b[0;34m.\u001b[0m\u001b[0mvectors\u001b[0m\u001b[0;34m(\u001b[0m\u001b[0mel\u001b[0m\u001b[0;34m.\u001b[0m\u001b[0mp\u001b[0m\u001b[0;34m,\u001b[0m \u001b[0mlength\u001b[0m\u001b[0;34m*\u001b[0m\u001b[0mel\u001b[0m\u001b[0;34m.\u001b[0m\u001b[0max_yin\u001b[0m\u001b[0;34m,\u001b[0m \u001b[0mcolor\u001b[0m\u001b[0;34m=\u001b[0m\u001b[0;36m0xff5733\u001b[0m\u001b[0;34m)\u001b[0m \u001b[0;31m#orange\u001b[0m\u001b[0;34m\u001b[0m\u001b[0;34m\u001b[0m\u001b[0m\n\u001b[0m\u001b[1;32m      5\u001b[0m     \u001b[0mplot\u001b[0m \u001b[0;34m+=\u001b[0m \u001b[0mk3d\u001b[0m\u001b[0;34m.\u001b[0m\u001b[0mvectors\u001b[0m\u001b[0;34m(\u001b[0m\u001b[0mel\u001b[0m\u001b[0;34m.\u001b[0m\u001b[0mp\u001b[0m\u001b[0;34m,\u001b[0m \u001b[0mlength\u001b[0m\u001b[0;34m*\u001b[0m\u001b[0mel\u001b[0m\u001b[0;34m.\u001b[0m\u001b[0max_yout\u001b[0m\u001b[0;34m,\u001b[0m \u001b[0mcolor\u001b[0m\u001b[0;34m=\u001b[0m\u001b[0;36m0xff33f6\u001b[0m\u001b[0;34m)\u001b[0m \u001b[0;31m#pink\u001b[0m\u001b[0;34m\u001b[0m\u001b[0;34m\u001b[0m\u001b[0m\n\u001b[1;32m      6\u001b[0m     \u001b[0mplot\u001b[0m \u001b[0;34m+=\u001b[0m \u001b[0mk3d\u001b[0m\u001b[0;34m.\u001b[0m\u001b[0mvectors\u001b[0m\u001b[0;34m(\u001b[0m\u001b[0mel\u001b[0m\u001b[0;34m.\u001b[0m\u001b[0mp\u001b[0m\u001b[0;34m,\u001b[0m \u001b[0mlength\u001b[0m\u001b[0;34m*\u001b[0m\u001b[0mel\u001b[0m\u001b[0;34m.\u001b[0m\u001b[0mn\u001b[0m\u001b[0;34m,\u001b[0m \u001b[0mcolor\u001b[0m\u001b[0;34m=\u001b[0m\u001b[0;36m0x00ff00\u001b[0m\u001b[0;34m)\u001b[0m \u001b[0;31m#green\u001b[0m\u001b[0;34m\u001b[0m\u001b[0;34m\u001b[0m\u001b[0m\n",
      "\u001b[0;31mAttributeError\u001b[0m: 'CurvedMirror' object has no attribute 'ax_yin'"
     ]
    }
   ],
   "source": [
    "try:\n",
    "    plot.close()\n",
    "except:\n",
    "    pass\n",
    "plot = k3d.plot(camera_auto_fit=True, antialias=True)\n",
    "\n",
    "for i, el in enumerate(elements):\n",
    "    plot += el.plot(opacity=0.4)\n",
    "\n",
    "for i, el in enumerate(elements[:-1]):\n",
    "    plot_element_coordinates(el, plot, length=5.)\n",
    "    \n",
    "plot += k3d.vectors(screen.p, 3*screen.ax, color=0xff0000) #red\n",
    "plot += k3d.vectors(screen.p, 3*screen.ay, color=0x0000ff) #blue\n",
    "\n",
    "#plot += k3d.vectors(origins=ray0[0,...], vectors=ray0[1,...], colors=[(0xff0000,)*2], head_size=2.)\n",
    "plot_trajs(traj0, plot, shader='mesh', width=0.2, color=0x00ff00)\n",
    "#plot_rays(guideray, plot, length=5.)\n",
    "\n",
    "plot.display()"
   ]
  },
  {
   "cell_type": "code",
   "execution_count": 15,
   "metadata": {},
   "outputs": [
    {
     "name": "stderr",
     "output_type": "stream",
     "text": [
      "c:\\users\\lukas\\box\\lukas\\03_theory\\abcd\\sloppy\\src\\sloppy\\optics.py:95: RuntimeWarning: invalid value encountered in greater\n",
      "  msk = np.abs(sn)>np.finfo(np.float32).eps\n",
      "c:\\users\\lukas\\box\\lukas\\03_theory\\abcd\\sloppy\\src\\sloppy\\optics.py:102: RuntimeWarning: invalid value encountered in greater\n",
      "  x[(d>self.r),:] = np.nan\n"
     ]
    },
    {
     "data": {
      "application/vnd.jupyter.widget-view+json": {
       "model_id": "d88502cb22f8463e8823d5a0f18c3775",
       "version_major": 2,
       "version_minor": 0
      },
      "text/plain": [
       "Canvas(toolbar=Toolbar(toolitems=[('Home', 'Reset original view', 'home', 'home'), ('Back', 'Back to previous …"
      ]
     },
     "metadata": {},
     "output_type": "display_data"
    }
   ],
   "source": [
    "traj_hit = propagate_system_at(elements, ray0, which=4, Nrt=500)[:,0,:,:] #only positions\n",
    "hit_scr = screen.r_to_screen_coords(traj_hit[:,0,:])\n",
    "\n",
    "plt.figure()\n",
    "line = plt.scatter(hit_scr[:,0], hit_scr[:,1], c=makeidx(hit_scr), cmap='jet')\n",
    "plt.title('Poincare hit pattern (screen)')\n",
    "plt.xlabel('x [mm]')\n",
    "plt.ylabel('y [mm]')\n",
    "plt.colorbar()\n",
    "plt.show()"
   ]
  },
  {
   "cell_type": "code",
   "execution_count": 16,
   "metadata": {},
   "outputs": [],
   "source": [
    "abcd_fd = extract_ABCD_fd(elements, screen, epsr=1e-3, epss=1e-3, Nrt=1) "
   ]
  },
  {
   "cell_type": "code",
   "execution_count": 17,
   "metadata": {},
   "outputs": [
    {
     "data": {
      "text/plain": [
       "array([[-0.00000e+00, -2.20000e-04,  1.00008e+00,  9.00000e-05],\n",
       "       [ 2.20000e-04,  0.00000e+00, -1.40000e-04,  1.00000e+00],\n",
       "       [-1.00008e+00,  1.40000e-04, -0.00000e+00, -8.10000e-04],\n",
       "       [-9.00000e-05, -1.00000e+00,  8.10000e-04, -0.00000e+00]])"
      ]
     },
     "execution_count": 17,
     "metadata": {},
     "output_type": "execute_result"
    }
   ],
   "source": [
    "#check that the returned matrix is symplectic\n",
    "G = np.array([[0,0,1,0], [0,0,0,1], [-1,0,0,0], [0,-1,0,0]])\n",
    "np.round(abcd_fd.T@G@abcd_fd, decimals=5)"
   ]
  },
  {
   "cell_type": "markdown",
   "metadata": {},
   "source": [
    "## Main method comparison"
   ]
  },
  {
   "cell_type": "code",
   "execution_count": 18,
   "metadata": {},
   "outputs": [
    {
     "data": {
      "application/vnd.jupyter.widget-view+json": {
       "model_id": "e439428b01d340b98b884b5221146850",
       "version_major": 2,
       "version_minor": 0
      },
      "text/plain": [
       "Canvas(toolbar=Toolbar(toolitems=[('Home', 'Reset original view', 'home', 'home'), ('Back', 'Back to previous …"
      ]
     },
     "metadata": {},
     "output_type": "display_data"
    },
    {
     "data": {
      "application/vnd.jupyter.widget-view+json": {
       "model_id": "a026f59a339c4940a76d4d6fd39bd488",
       "version_major": 2,
       "version_minor": 0
      },
      "text/plain": [
       "interactive(children=(FloatSlider(value=1.267, description='dl', max=1.3, min=1.26, step=0.001), FloatSlider(v…"
      ]
     },
     "metadata": {},
     "output_type": "display_data"
    }
   ],
   "source": [
    "fig, (ax, bx, cx) = plt.subplots(ncols=3, figsize=(11,3.3), sharex=True, sharey=True)\n",
    "ms = 8.\n",
    "linea = ax.scatter(hit_scr[:,0], hit_scr[:,1], c=makeidx(hit_scr), cmap='jet', s=ms)\n",
    "linec = cx.scatter(hit_m[:,0], hit_m[:,1], c=makeidx(hit_m), cmap='jet', s=ms)\n",
    "lineb = bx.scatter(hit_m[:,0], hit_m[:,1], c=makeidx(hit_m), cmap='jet', s=ms)\n",
    "ax.set_title('Raytracing')\n",
    "bx.set_title('ABCD')\n",
    "cx.set_title('ABCD (Extracted)')\n",
    "plt.xlabel('x [mm]')\n",
    "plt.ylabel('y [mm]')\n",
    "\n",
    "\n",
    "def update(dl=1.267, ar=0.01, br=0.0, ap=0., bp=0., Nrt=500, **kwargs):\n",
    "        elements, abcd, _ = OriginalTwister(betal=dl, R=25., Rlarge=-75., thet=20., asym = 1.25)\n",
    "        screen = elements[-1]\n",
    "        x0, n0 = elements[-1].p, elements[-1].n\n",
    "        system = ABCDSystem(abcd)\n",
    "        abcd_fd = extract_ABCD_fd(elements, screen, epsr=1e-3, epss=1e-4, Nrt=1) \n",
    "\n",
    "        mu1, mu2 = system.q\n",
    "        mu = np.real(ar*np.exp(1j*ap)*mu1 + br*np.exp(1j*bp)*mu2)\n",
    "        ray0 = screen.eigenvectors_to_rays(mu)\n",
    " \n",
    "        traj_hit = propagate_system_at(elements, ray0, which=4, Nrt=Nrt)[:,0,:,:] #only get positions\n",
    "        hit_scr = screen.r_to_screen_coords(traj_hit[:,0,:])\n",
    "\n",
    "        linea.set_offsets(hit_scr[:,:])\n",
    "        linea.set_array(makeidx(hit_scr))\n",
    "        \n",
    "        hit_m = propagate_ABCD(mu, system.abcd_rt, Nrt=Nrt)\n",
    "        lineb.set_offsets(hit_m[:,0:2])\n",
    "        lineb.set_array(makeidx(hit_m))\n",
    "        \n",
    "        hit_fd = propagate_ABCD(mu, abcd_fd, Nrt=Nrt)\n",
    "        linec.set_offsets(hit_fd[:,0:2])\n",
    "        linec.set_array(makeidx(hit_fd))\n",
    "        \n",
    "        linea.set_clim(vmin=0, vmax=Nrt)\n",
    "        lineb.set_clim(vmin=0, vmax=Nrt)\n",
    "        linec.set_clim(vmin=0, vmax=Nrt)\n",
    "            \n",
    "        ax.relim()\n",
    "        ax.autoscale_view()\n",
    "        fig.canvas.draw_idle()\n",
    "        \n",
    "interactive(update, dl=(1.26, 1.30, 1e-3), ar = (0,0.1,1e-3), br = (0,0.1,1e-3), ap= (0,2*np.pi,1e-2), bp= (0,2*np.pi,1e-2), Nrt=(0,2000,100))\n",
    "#interactive(update, dl=(27.75, 27.81, 1e-3), ar = (0,0.1,1e-3), br = (0,0.1,1e-3), ap= (0,2*np.pi,1e-2), bp= (0,2*np.pi,1e-2), Nrt=(0,2000,100))"
   ]
  },
  {
   "cell_type": "code",
   "execution_count": null,
   "metadata": {},
   "outputs": [],
   "source": [
    "fig.savefig('logo.png', dpi=600)\n",
    "fig.savefig('logo.svg', dpi=600)"
   ]
  },
  {
   "cell_type": "code",
   "execution_count": null,
   "metadata": {},
   "outputs": [],
   "source": []
  }
 ],
 "metadata": {
  "kernelspec": {
   "display_name": "Python 3",
   "language": "python",
   "name": "python3"
  },
  "language_info": {
   "codemirror_mode": {
    "name": "ipython",
    "version": 3
   },
   "file_extension": ".py",
   "mimetype": "text/x-python",
   "name": "python",
   "nbconvert_exporter": "python",
   "pygments_lexer": "ipython3",
   "version": "3.8.2"
  }
 },
 "nbformat": 4,
 "nbformat_minor": 4
}
