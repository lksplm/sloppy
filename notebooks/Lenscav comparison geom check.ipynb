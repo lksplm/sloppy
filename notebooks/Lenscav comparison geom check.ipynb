{
 "cells": [
  {
   "cell_type": "code",
   "execution_count": 1,
   "metadata": {},
   "outputs": [],
   "source": [
    "%load_ext autoreload\n",
    "%autoreload 2"
   ]
  },
  {
   "cell_type": "code",
   "execution_count": 2,
   "metadata": {},
   "outputs": [
    {
     "name": "stderr",
     "output_type": "stream",
     "text": [
      "c:\\users\\lukas\\box\\lukas\\03_theory\\abcd\\sloppy\\src\\sloppy\\joptic.py:59: NumbaDeprecationWarning: \u001b[1mThe 'numba.jitclass' decorator has moved to 'numba.experimental.jitclass' to better reflect the experimental nature of the functionality. Please update your imports to accommodate this change and see http://numba.pydata.org/numba-doc/latest/reference/deprecation.html#change-of-jitclass-location for the time frame.\u001b[0m\n",
      "  @jitclass(spec)\n"
     ]
    }
   ],
   "source": [
    "%matplotlib widget\n",
    "from ipywidgets import *\n",
    "import numpy as np\n",
    "import k3d\n",
    "import matplotlib.pyplot as plt\n",
    "from sloppy.optic import *\n",
    "from sloppy.raytracing import *\n",
    "from sloppy.abcd import *\n",
    "from sloppy.utils import *\n",
    "from sloppy.tools import *\n",
    "from sloppy.metrics import *\n",
    "from cavities import *\n",
    "from functools import partial\n",
    "from scipy.optimize import minimize, minimize_scalar"
   ]
  },
  {
   "cell_type": "code",
   "execution_count": 3,
   "metadata": {},
   "outputs": [],
   "source": [
    "import warnings; warnings.simplefilter('ignore')"
   ]
  },
  {
   "cell_type": "code",
   "execution_count": 4,
   "metadata": {},
   "outputs": [],
   "source": [
    "parname = 'lens_dist'"
   ]
  },
  {
   "cell_type": "code",
   "execution_count": 35,
   "metadata": {},
   "outputs": [],
   "source": [
    "cavfct = Cav2L2QInside\n",
    "bounds = [(2.2e-3, 4e-3), (0., 3e-4)]\n",
    "x0 = [3.1e-3, 9e-5]"
   ]
  },
  {
   "cell_type": "code",
   "execution_count": 5,
   "metadata": {},
   "outputs": [],
   "source": [
    "cavfct = Cav2L2QOutside\n",
    "bounds = [(0., 1e-3), (0., 3e-4)]\n",
    "x0 = [7.01503386e-04, 2.16472130e-05]"
   ]
  },
  {
   "cell_type": "code",
   "execution_count": 32,
   "metadata": {},
   "outputs": [],
   "source": [
    "def Cav2L2QInside10(arm1=110., arm2=53., base=43., angle=110., lens_dist=47.5, Rlens=10.0, quart_thick=2., c4=0., c6=0., c8=0.):\n",
    "    return Cav2L2QInside(arm1=arm1, arm2=arm2, base=base, angle=angle, lens_dist=lens_dist, Rlens=Rlens, quart_thick=quart_thick, c4=c4, c6=c6, c8=c8)\n",
    "cavfct = Cav2L2QInside10\n",
    "bounds = [(0., 1e-3), (-1e-5, 1e-5)]\n",
    "x0 = [1.7e-04, 6.0e-08]"
   ]
  },
  {
   "cell_type": "code",
   "execution_count": 7,
   "metadata": {},
   "outputs": [],
   "source": [
    "def Cav2L2QOutside10(arm1=120., arm2=58., base=47., angle=110., lens_dist=47.0, Rlens=10.0, quart_thick=2., c4=0., c6=0., c8=0.):\n",
    "    return Cav2L2QOutside(arm1=arm1, arm2=arm2, base=base, angle=angle, lens_dist=lens_dist, Rlens=Rlens, quart_thick=quart_thick, c4=c4, c6=c6, c8=c8)\n",
    "cavfct = Cav2L2QOutside10\n",
    "bounds = [(1e-5, 1e-4), (-1e-6, 1e-6)]\n",
    "x0 = [8.06667489e-05, 5.60809893e-07]"
   ]
  },
  {
   "cell_type": "code",
   "execution_count": 8,
   "metadata": {},
   "outputs": [],
   "source": [
    "def Cav4L1Qflip10(arm1=41., arm2=21.5, base=19., angle=110., lens_dist=28.9, Rlens=10.0, quart_thick=2., c4=0., c6=0., c8=0.):\n",
    "    return Cav4L1Qflip(arm1=arm1, arm2=arm2, base=base, angle=angle, lens_dist=lens_dist, Rlens=Rlens, quart_thick=quart_thick, c4=c4, c6=c6, c8=c8)\n",
    "cavfct = Cav4L1Qflip10\n",
    "bounds = [(0, 2e-2), (-1e-2, 1e-2)]\n",
    "x0 = [0.00727711, 0.00752621]"
   ]
  },
  {
   "cell_type": "code",
   "execution_count": 9,
   "metadata": {},
   "outputs": [],
   "source": [
    "def Cav4L1Q10(arm1=41., arm2=21.5, base=19., angle=110., lens_dist=28.9, Rlens=10.0, quart_thick=2., c4=0., c6=0., c8=0.):\n",
    "    return Cav4L1Q(arm1=arm1, arm2=arm2, base=base, angle=angle, lens_dist=lens_dist, Rlens=Rlens, quart_thick=quart_thick, c4=c4, c6=c6, c8=c8)\n",
    "cavfct = Cav4L1Q10\n",
    "bounds = [(0., 1e-2), (-1e-3, 1e-3)]\n",
    "x0 = [0.00619342, 0.00029877]"
   ]
  },
  {
   "cell_type": "code",
   "execution_count": 10,
   "metadata": {},
   "outputs": [],
   "source": [
    "cavfct = Cav4A"
   ]
  },
  {
   "cell_type": "code",
   "execution_count": 5,
   "metadata": {},
   "outputs": [],
   "source": [
    "def Cav2A10(arm1=120., arm2=58., base=47., angle=110., lens_dist=47.1, Rlens=10.0, c4=coeffc4(5.0), c6=coeffc6(5.0), c8=coeffc8(5.0)):\n",
    "    return Cav2A(arm1=arm1, arm2=arm2, base=base, angle=angle, lens_dist=lens_dist, Rlens=Rlens, c4=c4, c6=c6, c8=c8)\n",
    "cavfct = Cav2A10\n",
    "bounds = [(0., 1e-4), (-1e-5, 1e-5)]\n",
    "x0 = [5.5e-05, -4.50e-06]"
   ]
  },
  {
   "cell_type": "code",
   "execution_count": 37,
   "metadata": {},
   "outputs": [],
   "source": [
    "def Cav4A10(arm1=44.8, arm2=23.6, base=20.8, angle=110., lens_dist=27.4, Rlens=10.0, c4=0., c6=0., c8=0.):\n",
    "    return Cav4A(arm1=arm1, arm2=arm2, base=base, angle=angle, lens_dist=lens_dist, Rlens=Rlens, c4=c4, c6=c6, c8=c8)\n",
    "cavfct = Cav4A10\n",
    "bounds = [(0., 1e-4), (-1e-5, 1e-5)]\n",
    "x0 = [1.7449e-05, -4.30e-07]"
   ]
  },
  {
   "cell_type": "code",
   "execution_count": 28,
   "metadata": {},
   "outputs": [],
   "source": [
    "def Cav4Aflip10(arm1=41., arm2=21.5, base=19., angle=110., lens_dist=28.8, Rlens=10.0, c4=0., c6=0., c8=0.):\n",
    "    return Cav4Aflip(arm1=arm1, arm2=arm2, base=base, angle=angle, lens_dist=lens_dist, Rlens=Rlens, c4=c4, c6=c6, c8=c8)\n",
    "cavfct = Cav4Aflip10\n",
    "bounds = [(0., 1e-4), (-1e-5, 1e-5)]\n",
    "x0 = [9.205e-06, -5.996e-07]"
   ]
  },
  {
   "cell_type": "code",
   "execution_count": 6,
   "metadata": {},
   "outputs": [],
   "source": [
    "cavfct = TetCav2L1Q"
   ]
  },
  {
   "cell_type": "code",
   "execution_count": 8,
   "metadata": {},
   "outputs": [
    {
     "name": "stdout",
     "output_type": "stream",
     "text": [
      "Cav2A10\n"
     ]
    },
    {
     "data": {
      "application/vnd.jupyter.widget-view+json": {
       "model_id": "22d777bf4d6c4944a197b5dde886e67b",
       "version_major": 2,
       "version_minor": 0
      },
      "text/plain": [
       "Canvas(toolbar=Toolbar(toolitems=[('Home', 'Reset original view', 'home', 'home'), ('Back', 'Back to previous …"
      ]
     },
     "metadata": {},
     "output_type": "display_data"
    },
    {
     "name": "stdout",
     "output_type": "stream",
     "text": [
      "{'lens_dist': 1, 'c4': -3, 'c6': -4}\n"
     ]
    },
    {
     "data": {
      "application/vnd.jupyter.widget-view+json": {
       "model_id": "17bf911c0f8e41a1a3da944a6183460e",
       "version_major": 2,
       "version_minor": 0
      },
      "text/plain": [
       "interactive(children=(FloatSlider(value=6.0, description='a', layout=Layout(height='30px', width='80%'), max=1…"
      ]
     },
     "metadata": {},
     "output_type": "display_data"
    }
   ],
   "source": [
    "res = degeneracy_length(cavfct, parname, 1e-2)\n",
    "Ldeg=res.x\n",
    "print(cavfct.__name__)\n",
    "metrics_interaction_factory(cavfct, {parname: Ldeg, 'c4': 1.34e-3, 'c6': 5e-4}, a=6., b=0., s=1, slrng=(0, 1.2), degmodenum=1)"
   ]
  },
  {
   "cell_type": "code",
   "execution_count": 15,
   "metadata": {},
   "outputs": [
    {
     "data": {
      "text/plain": [
       "      fun: 0.02449471599115319\n",
       " hess_inv: <2x2 LbfgsInvHessProduct with dtype=float64>\n",
       "      jac: array([-0.00692058, -0.00543909])\n",
       "  message: b'CONVERGENCE: REL_REDUCTION_OF_F_<=_FACTR*EPSMCH'\n",
       "     nfev: 30\n",
       "      nit: 7\n",
       "   status: 0\n",
       "  success: True\n",
       "        x: array([8.61214181e-04, 7.50056902e-05])"
      ]
     },
     "execution_count": 15,
     "metadata": {},
     "output_type": "execute_result"
    }
   ],
   "source": [
    "fun = partial(metric_optim, metr=metric_var, cavfct=cavfct, cavpars={parname: Ldeg}, rmax=8., degmodenum=2)\n",
    "bounds = [(0., 2e-3), (-1e-4, 1e-4)]\n",
    "x0 = [9.1e-4, 4.30e-05]\n",
    "res = minimize(fun, x0=x0, bounds=bounds)\n",
    "res"
   ]
  },
  {
   "cell_type": "code",
   "execution_count": 23,
   "metadata": {},
   "outputs": [
    {
     "data": {
      "application/vnd.jupyter.widget-view+json": {
       "model_id": "8483255cbdec40c8b98c0d4228592c01",
       "version_major": 2,
       "version_minor": 0
      },
      "text/plain": [
       "Canvas(toolbar=Toolbar(toolitems=[('Home', 'Reset original view', 'home', 'home'), ('Back', 'Back to previous …"
      ]
     },
     "metadata": {},
     "output_type": "display_data"
    }
   ],
   "source": [
    "plot_metrics(cavfct, cavpars={parname: Ldeg, 'c4': res.x[0], 'c6': res.x[1]}, s=1, a=np.arange(1,10), degmodenum=2)"
   ]
  },
  {
   "cell_type": "code",
   "execution_count": 9,
   "metadata": {},
   "outputs": [],
   "source": [
    "plt.close('all')"
   ]
  },
  {
   "cell_type": "code",
   "execution_count": 33,
   "metadata": {},
   "outputs": [
    {
     "data": {
      "application/vnd.jupyter.widget-view+json": {
       "model_id": "aeebae3833b243e7a75a1f55a036af52",
       "version_major": 2,
       "version_minor": 0
      },
      "text/plain": [
       "Canvas(toolbar=Toolbar(toolitems=[('Home', 'Reset original view', 'home', 'home'), ('Back', 'Back to previous …"
      ]
     },
     "metadata": {},
     "output_type": "display_data"
    },
    {
     "data": {
      "application/vnd.jupyter.widget-view+json": {
       "model_id": "500ff828bbd448bc8bb3c782b5798180",
       "version_major": 2,
       "version_minor": 0
      },
      "text/plain": [
       "interactive(children=(FloatLogSlider(value=0.1, description='scanrange', layout=Layout(height='30px', width='8…"
      ]
     },
     "metadata": {},
     "output_type": "display_data"
    }
   ],
   "source": [
    "cavity_parameter_interaction_factory(cavfct, parname, 1e-1, N=200)"
   ]
  },
  {
   "cell_type": "code",
   "execution_count": 49,
   "metadata": {},
   "outputs": [
    {
     "name": "stderr",
     "output_type": "stream",
     "text": [
      "c:\\users\\lukas\\box\\lukas\\03_theory\\abcd\\sloppy\\src\\sloppy\\tools.py:19: RuntimeWarning: More than 20 figures have been opened. Figures created through the pyplot interface (`matplotlib.pyplot.figure`) are retained until explicitly closed and may consume too much memory. (To control this warning, see the rcParam `figure.max_open_warning`).\n",
      "  plt.figure()\n"
     ]
    },
    {
     "data": {
      "application/vnd.jupyter.widget-view+json": {
       "model_id": "1e5add308fba4c6d9541ca3ca9807856",
       "version_major": 2,
       "version_minor": 0
      },
      "text/plain": [
       "Canvas(toolbar=Toolbar(toolitems=[('Home', 'Reset original view', 'home', 'home'), ('Back', 'Back to previous …"
      ]
     },
     "metadata": {},
     "output_type": "display_data"
    }
   ],
   "source": [
    "waist_vs_l(cavfct, {parname: Ldeg})"
   ]
  },
  {
   "cell_type": "code",
   "execution_count": 25,
   "metadata": {},
   "outputs": [
    {
     "data": {
      "application/vnd.jupyter.widget-view+json": {
       "model_id": "f567d19c7202437aaf48c33102a4edef",
       "version_major": 2,
       "version_minor": 0
      },
      "text/plain": [
       "Output()"
      ]
     },
     "metadata": {},
     "output_type": "display_data"
    }
   ],
   "source": [
    "sys = RaySystem(cavfct())\n",
    "res = degeneracy_length(cavfct, parname, 1e-2)\n",
    "\n",
    "try:\n",
    "    plot.close()\n",
    "except:\n",
    "    pass\n",
    "plot = k3d.plot(camera_auto_fit=True, antialias=True)\n",
    "\n",
    "for i, el in enumerate(sys.elements):\n",
    "    plot += el.plot(opacity=0.4)\n",
    "\n",
    "for i, el in enumerate(sys.elements):\n",
    "    plot_element_ax(el, plot, length=5.)\n",
    "plot.display()"
   ]
  },
  {
   "cell_type": "code",
   "execution_count": 16,
   "metadata": {},
   "outputs": [
    {
     "name": "stdout",
     "output_type": "stream",
     "text": [
      "     fun: 1.614303392948898\n",
      " message: 'Solution found.'\n",
      "    nfev: 7\n",
      "  status: 0\n",
      " success: True\n",
      "       x: 51.62552368892906\n"
     ]
    }
   ],
   "source": [
    "cavfct = LensCav10Q2\n",
    "parname = 'lens_dist'\n",
    "sys = RaySystem(cavfct(lens_dist=50.5))\n",
    "res = degeneracy_length(cavfct, parname, 1e-2)\n",
    "Ldeg = res.x\n",
    "print(res)"
   ]
  },
  {
   "cell_type": "code",
   "execution_count": 18,
   "metadata": {},
   "outputs": [
    {
     "data": {
      "application/vnd.jupyter.widget-view+json": {
       "model_id": "1dfef7c75b104e7088171b7d2e324bb8",
       "version_major": 2,
       "version_minor": 0
      },
      "text/plain": [
       "Canvas(toolbar=Toolbar(toolitems=[('Home', 'Reset original view', 'home', 'home'), ('Back', 'Back to previous …"
      ]
     },
     "metadata": {},
     "output_type": "display_data"
    }
   ],
   "source": [
    "plot_metric(metric_opl, cavfct, {parname: Ldeg, 'c4': 0., 'c6': 0.})"
   ]
  },
  {
   "cell_type": "code",
   "execution_count": 21,
   "metadata": {},
   "outputs": [
    {
     "data": {
      "application/vnd.jupyter.widget-view+json": {
       "model_id": "60aacd9405544529a9d30abeffb8ea05",
       "version_major": 2,
       "version_minor": 0
      },
      "text/plain": [
       "Canvas(toolbar=Toolbar(toolitems=[('Home', 'Reset original view', 'home', 'home'), ('Back', 'Back to previous …"
      ]
     },
     "metadata": {},
     "output_type": "display_data"
    },
    {
     "name": "stdout",
     "output_type": "stream",
     "text": [
      "{'lens_dist': 1, 'c4': -4, 'c6': -4}\n"
     ]
    },
    {
     "data": {
      "application/vnd.jupyter.widget-view+json": {
       "model_id": "1a280f5e77c34a5caf1f0226ad035ac1",
       "version_major": 2,
       "version_minor": 0
      },
      "text/plain": [
       "interactive(children=(FloatSlider(value=5.162552368892906, description='lens_dist', layout=Layout(height='30px…"
      ]
     },
     "metadata": {},
     "output_type": "display_data"
    }
   ],
   "source": [
    "metric_interaction_factory(metric_opl, cavfct, {parname: Ldeg, 'c4': 2.5e-4, 'c6': 1e-4})"
   ]
  },
  {
   "cell_type": "code",
   "execution_count": 25,
   "metadata": {},
   "outputs": [
    {
     "data": {
      "application/vnd.jupyter.widget-view+json": {
       "model_id": "6c3a4857a76f4a74820ccdc83b92ec6e",
       "version_major": 2,
       "version_minor": 0
      },
      "text/plain": [
       "Canvas(toolbar=Toolbar(toolitems=[('Home', 'Reset original view', 'home', 'home'), ('Back', 'Back to previous …"
      ]
     },
     "metadata": {},
     "output_type": "display_data"
    },
    {
     "name": "stdout",
     "output_type": "stream",
     "text": [
      "{'lens_dist': 1, 'c4': -4, 'c6': -4}\n"
     ]
    },
    {
     "data": {
      "application/vnd.jupyter.widget-view+json": {
       "model_id": "f4c88ba37db94c8f901a1183fd2f5ab6",
       "version_major": 2,
       "version_minor": 0
      },
      "text/plain": [
       "interactive(children=(FloatSlider(value=8.0, description='a', layout=Layout(height='30px', width='80%'), max=1…"
      ]
     },
     "metadata": {},
     "output_type": "display_data"
    }
   ],
   "source": [
    "metrics_interaction_factory(cavfct, {parname: Ldeg, 'c4': 2.5e-4, 'c6': 1e-4}, a=8., s=1)"
   ]
  },
  {
   "cell_type": "code",
   "execution_count": 27,
   "metadata": {},
   "outputs": [],
   "source": [
    "system = sys.abcd"
   ]
  },
  {
   "cell_type": "code",
   "execution_count": 28,
   "metadata": {},
   "outputs": [
    {
     "data": {
      "text/plain": [
       "2302910733.708088"
      ]
     },
     "execution_count": 28,
     "metadata": {},
     "output_type": "execute_result"
    }
   ],
   "source": [
    "system.fsr"
   ]
  },
  {
   "cell_type": "code",
   "execution_count": 29,
   "metadata": {},
   "outputs": [
    {
     "data": {
      "text/plain": [
       "0.020694896386171925"
      ]
     },
     "execution_count": 29,
     "metadata": {},
     "output_type": "execute_result"
    }
   ],
   "source": [
    "system.waist_at(0)[0]"
   ]
  },
  {
   "cell_type": "code",
   "execution_count": null,
   "metadata": {},
   "outputs": [],
   "source": []
  }
 ],
 "metadata": {
  "kernelspec": {
   "display_name": "Python 3",
   "language": "python",
   "name": "python3"
  },
  "language_info": {
   "codemirror_mode": {
    "name": "ipython",
    "version": 3
   },
   "file_extension": ".py",
   "mimetype": "text/x-python",
   "name": "python",
   "nbconvert_exporter": "python",
   "pygments_lexer": "ipython3",
   "version": "3.7.6"
  }
 },
 "nbformat": 4,
 "nbformat_minor": 4
}
