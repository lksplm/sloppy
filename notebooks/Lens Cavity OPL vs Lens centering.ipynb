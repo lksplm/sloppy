{
 "cells": [
  {
   "cell_type": "code",
   "execution_count": 72,
   "metadata": {},
   "outputs": [
    {
     "name": "stdout",
     "output_type": "stream",
     "text": [
      "The autoreload extension is already loaded. To reload it, use:\n",
      "  %reload_ext autoreload\n"
     ]
    }
   ],
   "source": [
    "%load_ext autoreload\n",
    "%autoreload 2\n",
    "import warnings\n",
    "warnings.filterwarnings('ignore')"
   ]
  },
  {
   "cell_type": "code",
   "execution_count": 73,
   "metadata": {},
   "outputs": [],
   "source": [
    "%matplotlib widget\n",
    "import numpy as np\n",
    "import k3d\n",
    "import matplotlib.pyplot as plt\n",
    "from sloppy.optic import *\n",
    "from sloppy.raytracing import *\n",
    "from sloppy.abcd import *\n",
    "from sloppy.utils import *\n",
    "from sloppy.tools import *\n",
    "from sloppy.metrics import *\n",
    "#from ipywidgets import Layout, IntSlider, FloatLogSlider, FloatSlider, interactive, fixed\n",
    "import inspect"
   ]
  },
  {
   "cell_type": "code",
   "execution_count": 74,
   "metadata": {},
   "outputs": [],
   "source": [
    "import cma"
   ]
  },
  {
   "cell_type": "code",
   "execution_count": 75,
   "metadata": {
    "tags": []
   },
   "outputs": [],
   "source": [
    "#def LensCavCAD(arm1=48., arm2=30., base=19., angle=180.-129., lens_dist=22.2, lens_diam=6.35, lens_thick=4., Rlens=5.0):\n",
    "#    return LensCav(arm1=arm1, arm2=arm2, base=base, angle=angle, lens_dist=lens_dist, lens_diam=lens_diam, lens_thick=lens_thick, Rlens=Rlens)\n",
    "def LensCavCADpert(arm1=48., arm2=30., base=19., angle=180.-129., lens_dist=22.2, Rlens=5.0, c4=6e-4, c6=0., c8=0., eps=np.zeros((12,5))):\n",
    "    angle = np.deg2rad(angle)\n",
    "    lens_diam=6.35\n",
    "    lens_thick=4.\n",
    "    quart_thick=2.\n",
    "    quart_dist=1e-6\n",
    "    \n",
    "    p0 = np.array([lens_dist/2.-lens_thick/2.,0,0])\n",
    "    p1 = np.array([lens_dist/2.+lens_thick/2.,0,0])\n",
    "    pa = np.array([lens_dist/2.+lens_thick/2.+quart_dist, 0, 0])\n",
    "    pb = np.array([lens_dist/2.+lens_thick/2.+quart_dist+quart_thick,0,0])\n",
    "    p2 = np.array([arm1/2.,0,0])\n",
    "    p3 = np.array([np.cos(angle)*arm2/2.,base,np.sin(angle)*arm2/2.])\n",
    "    p4 = np.array([-np.cos(angle)*arm2/2.,base,-np.sin(angle)*arm2/2.])\n",
    "    p5 = np.array([-arm1/2.,0,0])\n",
    "    pc = np.array([-lens_dist/2.-lens_thick/2.-quart_dist-quart_thick,0,0])\n",
    "    pd = np.array([-lens_dist/2.-lens_thick/2.-quart_dist,0,0])\n",
    "    p6 = np.array([-lens_dist/2.-lens_thick/2.,0,0])\n",
    "    p7 = np.array([-lens_dist/2.+lens_thick/2.,0,0])\n",
    "\n",
    "    ps = np.stack([p0,p1,pa,pb,p2,p3,p4,p5,pc,pd,p6,p7], axis=0)\n",
    "    \n",
    "    geom = geometry(ps)\n",
    "    ns = geom['refl']\n",
    "    ps = geom['mir']\n",
    "    angles = geom['angles']\n",
    "    Rtr = geom['R']\n",
    "    ax_x = geom['xin']\n",
    "    ax_y = np.cross(ns, ax_x)\n",
    "        \n",
    "    #apply poition perturbations\n",
    "    ps += eps[:,:3]\n",
    "    ns = [rot_vec(rot_vec(ns[i], ax_x[i], np.deg2rad(eps[i,3])), ax_y[i], np.deg2rad(eps[i,4])) for i, n in enumerate(ns)]    \n",
    "        \n",
    "    hi = 12.7\n",
    "    qi= 7.75\n",
    "    ng = 1.4537\n",
    "    coef = np.zeros(9)\n",
    "    coef[4] = c4\n",
    "    coef[6] = c6\n",
    "    coef[8] = c8\n",
    "    elements = [\\\n",
    "                Glass(p=ps[0], n=ns[0], ax=ax_x[0], ay=ax_y[0], Rbasis=Rtr[0], diameter=lens_diam, n2=ng),\\\n",
    "                CurvedGlass(p=ps[1], n=ns[1], ax=ax_x[1], ay=ax_y[1], Rbasis=Rtr[1], diameter=lens_diam, R=-Rlens, curv='CC', n1=ng),\\\n",
    "                FreeFormInterface(p=ps[2], n=ns[2], ax=ax_x[2], ay=ax_y[2], Rbasis=Rtr[2], diameter=lens_diam, n2=ng, coef=coef),\\\n",
    "                Glass(p=ps[3], n=ns[3], ax=ax_x[3], ay=ax_y[3], Rbasis=Rtr[3], diameter=lens_diam, n1=ng),\\\n",
    "                Mirror(p=ps[4], n=ns[4], ax=ax_x[4], ay=ax_y[4], Rbasis=Rtr[4], diameter=hi),\\\n",
    "                Mirror(p=ps[5], n=ns[5], ax=ax_x[5], ay=ax_y[5], Rbasis=Rtr[5], diameter=hi),\\\n",
    "                Mirror(p=ps[6], n=ns[6], ax=ax_x[6], ay=ax_y[6], Rbasis=Rtr[6], diameter=hi),\\\n",
    "                Mirror(p=ps[7], n=ns[7], ax=ax_x[7], ay=ax_y[7], Rbasis=Rtr[7], diameter=hi),\\\n",
    "                Glass(p=ps[8], n=ns[8], ax=ax_x[8], ay=ax_y[8], Rbasis=Rtr[8], diameter=lens_diam, n2=ng),\\\n",
    "                FreeFormInterface(p=ps[9], n=ns[9], ax=ax_x[9], ay=ax_y[9], Rbasis=Rtr[9], diameter=lens_diam, n1=ng, coef=-coef),\\\n",
    "                CurvedGlass(p=ps[10], n=ns[10], ax=ax_x[10], ay=ax_y[10], Rbasis=Rtr[10], diameter=lens_diam, R=Rlens, curv='CX', n2=ng),\\\n",
    "                Glass(p=ps[11], n=ns[11], ax=ax_x[11], ay=ax_y[11], Rbasis=Rtr[11], diameter=lens_diam, n1=ng)\\\n",
    "                ]\n",
    "    return elements\n",
    "\n",
    "cavfct = LensCavCADpert\n",
    "parname = 'lens_dist'"
   ]
  },
  {
   "cell_type": "code",
   "execution_count": 76,
   "metadata": {},
   "outputs": [],
   "source": [
    "def LensCavPert(arm1=48., arm2=30., base=19., angle=180.-129., lens_dist=22.2, Rlens=5.0, eps=np.zeros((8,5))):\n",
    "    angle = np.deg2rad(angle)\n",
    "    lens_diam=6.35\n",
    "    lens_thick=4.\n",
    "    \n",
    "    p0 = np.array([lens_dist/2.-lens_thick/2.,0,0])\n",
    "    p1 = np.array([lens_dist/2.+lens_thick/2.,0,0])\n",
    "    p2 = np.array([arm1/2.,0,0])\n",
    "    p3 = np.array([np.cos(angle)*arm2/2.,base,np.sin(angle)*arm2/2.])\n",
    "    p4 = np.array([-np.cos(angle)*arm2/2.,base,-np.sin(angle)*arm2/2.])\n",
    "    p5 = np.array([-arm1/2.,0,0])\n",
    "    p6 = np.array([-lens_dist/2.-lens_thick/2.,0,0])\n",
    "    p7 = np.array([-lens_dist/2.+lens_thick/2.,0,0])\n",
    "    ps = np.stack([p0,p1,p2,p3,p4,p5,p6,p7], axis=0)\n",
    "    \n",
    "    geom = geometry(ps)\n",
    "    ns = geom['refl']\n",
    "    ps = geom['mir']\n",
    "    angles = geom['angles']\n",
    "    Rtr = geom['R']\n",
    "    ax_x = geom['xin']\n",
    "    ax_y = np.cross(ns, ax_x)\n",
    "    \n",
    "    for i in range(ps.shape[0]):\n",
    "        ps[i] += eps[i,0]*ax_x[i] + eps[i,1]*ax_y[i] + eps[i,2]*ns[i]\n",
    "    \n",
    "    #apply poition perturbations\n",
    "    #ps += eps[:,:3]\n",
    "    ns = [rot_vec(rot_vec(ns[i], ax_x[i], np.deg2rad(eps[i,3])), ax_y[i], np.deg2rad(eps[i,4])) for i, n in enumerate(ns)]   \n",
    "        \n",
    "    hi = 12.7\n",
    "    qi=7.75\n",
    "    ng = 1.4537\n",
    "     #negative sign of firstt cuved surface for abcd matrix\n",
    "    elements = [Glass(p=ps[0], n=ns[0], ax=ax_x[0], ay=ax_y[0], Rbasis=Rtr[0], diameter=lens_diam, n2=ng),\\\n",
    "                CurvedGlass(p=ps[1], n=ns[1], ax=ax_x[1], ay=ax_y[1], Rbasis=Rtr[1], diameter=lens_diam, R=-Rlens, curv='CC', n1=ng),\\\n",
    "                Mirror(p=ps[2], n=ns[2], ax=ax_x[2], ay=ax_y[2], Rbasis=Rtr[2], diameter=hi),\\\n",
    "                Mirror(p=ps[3], n=ns[3], ax=ax_x[3], ay=ax_y[3], Rbasis=Rtr[3], diameter=hi),\\\n",
    "                Mirror(p=ps[4], n=ns[4], ax=ax_x[4], ay=ax_y[4], Rbasis=Rtr[4], diameter=hi),\\\n",
    "                Mirror(p=ps[5], n=ns[5], ax=ax_x[5], ay=ax_y[5], Rbasis=Rtr[5], diameter=hi),\\\n",
    "                CurvedGlass(p=ps[6], n=ns[6], ax=ax_x[6], ay=ax_y[6], Rbasis=Rtr[6], diameter=lens_diam, R=Rlens, curv='CX', n2=ng),\\\n",
    "                Glass(p=ps[7], n=ns[7], ax=ax_x[7], ay=ax_y[7], Rbasis=Rtr[7], diameter=lens_diam, n1=ng)]\n",
    "    #apply position offsets in element coordinates\n",
    "    #for i, e in enumerate(elements):\n",
    "    #    e.p += (e.Rot.T)@eps[i,:3]\n",
    "    return elements\n",
    "\n",
    "cavfct = LensCavPert\n",
    "parname = 'lens_dist'"
   ]
  },
  {
   "cell_type": "code",
   "execution_count": 5,
   "metadata": {
    "jupyter": {
     "source_hidden": true
    },
    "tags": []
   },
   "outputs": [],
   "source": [
    "def NoLensCavPert(arm1=48., arm2=30., base=19., angle=180.-129., lens_dist=22.2, Rlens=5.0, eps=np.zeros((4,5))):\n",
    "    angle = np.deg2rad(angle)\n",
    "    lens_diam=6.35\n",
    "    lens_thick=4.\n",
    "    \n",
    "\n",
    "    p2 = np.array([arm1/2.,0,0])\n",
    "    p3 = np.array([np.cos(angle)*arm2/2.,base,np.sin(angle)*arm2/2.])\n",
    "    p4 = np.array([-np.cos(angle)*arm2/2.,base,-np.sin(angle)*arm2/2.])\n",
    "    p5 = np.array([-arm1/2.,0,0])\n",
    "    ps = np.stack([p2,p3,p4,p5], axis=0)\n",
    "    \n",
    "    geom = geometry(ps)\n",
    "    ns = geom['refl']\n",
    "    ps = geom['mir']\n",
    "    angles = geom['angles']\n",
    "    Rtr = geom['R']\n",
    "    ax_x = geom['xin']\n",
    "    ax_y = np.cross(ns, ax_x)\n",
    "    \n",
    "    for i in range(ps.shape[0]):\n",
    "        ps[i] += eps[i,0]*ax_x[i] + eps[i,1]*ax_y[i] + eps[i,2]*ns[i]\n",
    "    \n",
    "    #apply poition perturbations\n",
    "    #ps += eps[:,:3]\n",
    "    ns = [rot_vec(rot_vec(ns[i], ax_x[i], np.deg2rad(eps[i,3])), ax_y[i], np.deg2rad(eps[i,4])) for i, n in enumerate(ns)]   \n",
    "        \n",
    "    hi = 12.7\n",
    "    qi=7.75\n",
    "    ng = 1.4537\n",
    "     #negative sign of firstt cuved surface for abcd matrix\n",
    "    elements = [Mirror(p=ps[0], n=ns[0], ax=ax_x[0], ay=ax_y[0], Rbasis=Rtr[0], diameter=hi),\\\n",
    "                Mirror(p=ps[1], n=ns[1], ax=ax_x[1], ay=ax_y[1], Rbasis=Rtr[1], diameter=hi),\\\n",
    "                CurvedMirror(R=1e3, p=ps[2], n=ns[2], ax=ax_x[2], ay=ax_y[2], Rbasis=Rtr[2], diameter=hi),\\\n",
    "                Mirror(p=ps[3], n=ns[3], ax=ax_x[3], ay=ax_y[3], Rbasis=Rtr[3], diameter=hi)]\n",
    "    #apply position offsets in element coordinates\n",
    "    #for i, e in enumerate(elements):\n",
    "    #    e.p += (e.Rot.T)@eps[i,:3]\n",
    "    return elements\n",
    "\n",
    "cavfct = NoLensCavPert\n",
    "parname = 'lens_dist'"
   ]
  },
  {
   "cell_type": "code",
   "execution_count": 77,
   "metadata": {},
   "outputs": [
    {
     "name": "stdout",
     "output_type": "stream",
     "text": [
      "21.77801052565133\n"
     ]
    }
   ],
   "source": [
    "res = degeneracy_length(LensCavPert, parname, 5e-2, s=1, degmodenum=2)\n",
    "Ldeg=res.x\n",
    "print(Ldeg)"
   ]
  },
  {
   "cell_type": "code",
   "execution_count": 78,
   "metadata": {},
   "outputs": [
    {
     "data": {
      "application/vnd.jupyter.widget-view+json": {
       "model_id": "6cf97c72fc9b479396c75e6af3695e90",
       "version_major": 2,
       "version_minor": 0
      },
      "text/plain": [
       "Canvas(toolbar=Toolbar(toolitems=[('Home', 'Reset original view', 'home', 'home'), ('Back', 'Back to previous …"
      ]
     },
     "metadata": {},
     "output_type": "display_data"
    },
    {
     "data": {
      "text/plain": [
       "21.780501672240803"
      ]
     },
     "execution_count": 78,
     "metadata": {},
     "output_type": "execute_result"
    }
   ],
   "source": [
    "waists_vs_param(cavfct, parname, 5e-2, s=1, degmodenum=2)"
   ]
  },
  {
   "cell_type": "code",
   "execution_count": 79,
   "metadata": {},
   "outputs": [],
   "source": [
    "def get_eigenray_traj(cavfct, cavpars, mu=[0., 0., 0., 0.], Nrt=3, Niter=10, Niter_inner=50, lr=0.03, lr_decay=1.0):\n",
    "    elements = cavfct(**cavpars)\n",
    "    sys = RaySystem(elements)\n",
    "    #ray0 = np.stack([np.atleast_2d(sys.screen.p+np.array([0, 1e-3,0])), np.atleast_2d(sys.screen.n)], axis=0)\n",
    "    ray0 = sys.screen.eigenvectors_to_rays(mu) #TODO\n",
    "    reig3, tols = sys.find_eigenray_mpe_dev(ray0, Nrt=Nrt, lr=lr, Niter=Niter_inner, Nmpe=Niter, get_tols=True, lr_decay=lr_decay)\n",
    "    traj = sys.propagate(reig3, Nrt=Nrt)\n",
    "    return traj, tols"
   ]
  },
  {
   "cell_type": "code",
   "execution_count": 19,
   "metadata": {},
   "outputs": [],
   "source": [
    "traj0, tols0 = get_eigenray_traj(cavfct, {parname: Ldeg}, mu=[0, 0, 0, 0], Nrt=1, lr=1e-4, Niter=3)"
   ]
  },
  {
   "cell_type": "code",
   "execution_count": 10,
   "metadata": {},
   "outputs": [
    {
     "ename": "NameError",
     "evalue": "name 'eps' is not defined",
     "output_type": "error",
     "traceback": [
      "\u001b[1;31m---------------------------------------------------------------------------\u001b[0m",
      "\u001b[1;31mNameError\u001b[0m                                 Traceback (most recent call last)",
      "\u001b[1;32m~\\AppData\\Local\\Temp/ipykernel_16704/1197695914.py\u001b[0m in \u001b[0;36m<module>\u001b[1;34m\u001b[0m\n\u001b[1;32m----> 1\u001b[1;33m \u001b[0mtraj2\u001b[0m\u001b[1;33m,\u001b[0m \u001b[0mtols2\u001b[0m \u001b[1;33m=\u001b[0m \u001b[0mget_eigenray_traj\u001b[0m\u001b[1;33m(\u001b[0m\u001b[0mcavfct\u001b[0m\u001b[1;33m,\u001b[0m \u001b[1;33m{\u001b[0m\u001b[0mparname\u001b[0m\u001b[1;33m:\u001b[0m \u001b[0mLdeg\u001b[0m\u001b[1;33m,\u001b[0m \u001b[1;34m'eps'\u001b[0m\u001b[1;33m:\u001b[0m \u001b[0meps\u001b[0m\u001b[1;33m}\u001b[0m\u001b[1;33m,\u001b[0m \u001b[0mmu\u001b[0m\u001b[1;33m=\u001b[0m\u001b[1;33m[\u001b[0m\u001b[1;36m0\u001b[0m\u001b[1;33m,\u001b[0m \u001b[1;36m0\u001b[0m\u001b[1;33m,\u001b[0m \u001b[1;36m0\u001b[0m\u001b[1;33m,\u001b[0m \u001b[1;36m0\u001b[0m\u001b[1;33m]\u001b[0m\u001b[1;33m,\u001b[0m \u001b[0mNrt\u001b[0m\u001b[1;33m=\u001b[0m\u001b[1;36m1\u001b[0m\u001b[1;33m,\u001b[0m \u001b[0mlr\u001b[0m\u001b[1;33m=\u001b[0m\u001b[1;36m1e-5\u001b[0m\u001b[1;33m,\u001b[0m \u001b[0mNiter\u001b[0m\u001b[1;33m=\u001b[0m\u001b[1;36m3\u001b[0m\u001b[1;33m)\u001b[0m\u001b[1;33m\u001b[0m\u001b[1;33m\u001b[0m\u001b[0m\n\u001b[0m",
      "\u001b[1;31mNameError\u001b[0m: name 'eps' is not defined"
     ]
    }
   ],
   "source": [
    "traj2, tols2 = get_eigenray_traj(cavfct, {parname: Ldeg, 'eps': eps}, mu=[0, 0, 0, 0], Nrt=1, lr=1e-5, Niter=3)"
   ]
  },
  {
   "cell_type": "code",
   "execution_count": 80,
   "metadata": {},
   "outputs": [],
   "source": [
    "def get_eigenray_cma(cavfct, cavpars, mu=[0., 0., 0., 0.], Nrt=1, sigma=0.1, verb_disp=100):\n",
    "    elements = cavfct(**cavpars)\n",
    "    sys = RaySystem(elements)\n",
    "    \n",
    "    def loss(x, sys, Nrt=1):\n",
    "        rcur = sys.screen.eigenvectors_to_rays(np.asarray(x))\n",
    "        traj = sys.propagate(rcur, Nrt=Nrt)\n",
    "        rnew = traj[-1,...]\n",
    "        return np.linalg.norm(rnew[:,0,:]-rcur[:,0,:], axis=-1).sum()\n",
    "    \n",
    "    ray0 = sys.screen.eigenvectors_to_rays(mu)\n",
    "    es = cma.CMAEvolutionStrategy(mu, sigma)\n",
    "    es.optimize(loss, args=(sys, Nrt), verb_disp=verb_disp)\n",
    "    mueig = es.result.xbest\n",
    "    reig3 = sys.screen.eigenvectors_to_rays(mueig)\n",
    "    traj = sys.propagate(reig3, Nrt=Nrt)\n",
    "    return traj, [es.result.fbest,]"
   ]
  },
  {
   "cell_type": "code",
   "execution_count": 81,
   "metadata": {},
   "outputs": [
    {
     "name": "stdout",
     "output_type": "stream",
     "text": [
      "(4_w,8)-aCMA-ES (mu_w=2.6,w_1=52%) in dimension 4 (seed=850686, Fri Dec 17 11:13:33 2021)\n",
      "Iterat #Fevals   function value  axis ratio  sigma  min&max std  t[m:s]\n",
      "    1      8 2.781182485557251e-02 1.0e+00 1.63e-02  1e-02  2e-02 0:00.0\n",
      "    2     16 8.402235637589029e-03 1.2e+00 1.52e-02  1e-02  2e-02 0:00.0\n",
      "    3     24 1.150437891412402e-02 1.4e+00 1.51e-02  1e-02  2e-02 0:00.0\n",
      "  100    800 3.153242759830628e-06 1.1e+03 7.78e-04  6e-04  9e-04 0:00.3\n",
      "  200   1600 1.161742507511042e-10 3.5e+00 1.87e-05  1e-05  3e-05 0:00.5\n",
      "  247   1976 3.830010588101105e-13 4.6e+01 5.72e-07  1e-07  4e-07 0:00.7\n",
      "  247   1976 3.830010588101105e-13 4.6e+01 5.72e-07  1e-07  4e-07 0:00.7\n",
      "termination by {'tolfun': 1e-11}\n",
      "best f-value = 3.8300105881011045e-13\n",
      "solution = [ 6.18820048e-07  4.86383342e-07  4.08040267e-07 -5.19145181e-07]\n",
      "(4_w,8)-aCMA-ES (mu_w=2.6,w_1=52%) in dimension 4 (seed=834517, Fri Dec 17 11:13:34 2021)\n",
      "Iterat #Fevals   function value  axis ratio  sigma  min&max std  t[m:s]\n",
      "    1      8 2.643779697939780e-02 1.0e+00 1.99e-02  2e-02  2e-02 0:00.0\n",
      "    2     16 2.807654432162314e-02 1.3e+00 1.92e-02  2e-02  2e-02 0:00.0\n",
      "    3     24 2.417924178412516e-02 1.3e+00 1.86e-02  1e-02  2e-02 0:00.0\n",
      "  100    800 1.276748147567795e-08 6.2e+00 1.27e-06  3e-08  5e-08 0:00.3\n",
      "  155   1240 6.572261425852447e-12 5.3e+00 2.52e-09  6e-12  9e-12 0:00.4\n",
      "  155   1240 6.572261425852447e-12 5.3e+00 2.52e-09  6e-12  9e-12 0:00.4\n",
      "termination by {'tolx': 1e-11}\n",
      "best f-value = 6.572261425852447e-12\n",
      "solution = [ 5.64675954e-12 -4.55584262e-12 -1.91530545e-12 -1.73786658e-12]\n"
     ]
    }
   ],
   "source": [
    "eps=np.zeros((8,5))\n",
    "eps[mirr_idx,2] = -1.0\n",
    "\n",
    "traj0, tols0 = get_eigenray_cma(cavfct, {parname: Ldeg}, mu=[0, 0, 0, 0], Nrt=1, verb_disp=100, sigma=0.02)\n",
    "traj2, tols2 = get_eigenray_cma(cavfct, {parname: Ldeg, 'eps': eps}, mu=[0, 0, 0, 0], Nrt=1, verb_disp=100, sigma=0.02)"
   ]
  },
  {
   "cell_type": "code",
   "execution_count": 57,
   "metadata": {},
   "outputs": [],
   "source": [
    "plot.close()"
   ]
  },
  {
   "cell_type": "code",
   "execution_count": 82,
   "metadata": {
    "tags": []
   },
   "outputs": [
    {
     "ename": "TypeError",
     "evalue": "list indices must be integers or slices, not list",
     "output_type": "error",
     "traceback": [
      "\u001b[1;31m---------------------------------------------------------------------------\u001b[0m",
      "\u001b[1;31mTypeError\u001b[0m                                 Traceback (most recent call last)",
      "\u001b[1;32m~\\AppData\\Local\\Temp/ipykernel_16704/1503313812.py\u001b[0m in \u001b[0;36m<module>\u001b[1;34m\u001b[0m\n\u001b[0;32m     13\u001b[0m \u001b[1;31m# for i, el in enumerate(elements):\u001b[0m\u001b[1;33m\u001b[0m\u001b[1;33m\u001b[0m\u001b[0m\n\u001b[0;32m     14\u001b[0m \u001b[1;31m#     plot += el.plot(opacity=0.4, color=0xff0000)\u001b[0m\u001b[1;33m\u001b[0m\u001b[1;33m\u001b[0m\u001b[0m\n\u001b[1;32m---> 15\u001b[1;33m \u001b[0mplot\u001b[0m \u001b[1;33m+=\u001b[0m \u001b[0melements\u001b[0m\u001b[1;33m[\u001b[0m\u001b[0mmirr_idx\u001b[0m\u001b[1;33m]\u001b[0m\u001b[1;33m.\u001b[0m\u001b[0mplot\u001b[0m\u001b[1;33m(\u001b[0m\u001b[0mopacity\u001b[0m\u001b[1;33m=\u001b[0m\u001b[1;36m0.4\u001b[0m\u001b[1;33m,\u001b[0m \u001b[0mcolor\u001b[0m\u001b[1;33m=\u001b[0m\u001b[1;36m0xff0000\u001b[0m\u001b[1;33m)\u001b[0m\u001b[1;33m\u001b[0m\u001b[1;33m\u001b[0m\u001b[0m\n\u001b[0m\u001b[0;32m     16\u001b[0m \u001b[1;33m\u001b[0m\u001b[0m\n\u001b[0;32m     17\u001b[0m \u001b[1;33m\u001b[0m\u001b[0m\n",
      "\u001b[1;31mTypeError\u001b[0m: list indices must be integers or slices, not list"
     ]
    }
   ],
   "source": [
    "try:\n",
    "    plot.close()\n",
    "except:\n",
    "    pass\n",
    "elements_ref = cavfct(**{parname: Ldeg})\n",
    "elements = cavfct(**{parname: Ldeg, 'eps': eps})\n",
    "\n",
    "plot = k3d.plot(camera_auto_fit=True, antialias=True, camera_fov=20.)\n",
    "\n",
    "for i, el in enumerate(elements_ref):\n",
    "    plot += el.plot(opacity=0.4)\n",
    "    \n",
    "# for i, el in enumerate(elements):\n",
    "#     plot += el.plot(opacity=0.4, color=0xff0000)\n",
    "plot += elements[mirr_idx].plot(opacity=0.4, color=0xff0000)  \n",
    "\n",
    "    \n",
    "plot_trajs(traj0, plot)\n",
    "plot_trajs(traj2, plot, color=0xff0000)\n",
    "plot += k3d.points(traj0[:,0,0,:], color=0xff0000, point_size=0.2)\n",
    "plot += k3d.points(traj2[:,0,0,:], color=0x00aaaa, point_size=0.2)\n",
    "plot"
   ]
  },
  {
   "cell_type": "code",
   "execution_count": 83,
   "metadata": {},
   "outputs": [
    {
     "name": "stdout",
     "output_type": "stream",
     "text": [
      "(4_w,8)-aCMA-ES (mu_w=2.6,w_1=52%) in dimension 4 (seed=824668, Fri Dec 17 11:13:38 2021)\n",
      "Iterat #Fevals   function value  axis ratio  sigma  min&max std  t[m:s]\n",
      "    1      8 3.044475441456038e-02 1.0e+00 1.72e-02  2e-02  2e-02 0:00.0\n",
      "    2     16 3.950315847091801e-03 1.1e+00 1.50e-02  1e-02  1e-02 0:00.0\n",
      "    3     24 9.684807324175810e-03 1.4e+00 1.55e-02  1e-02  1e-02 0:00.0\n",
      "  100    800 1.154471672786780e-07 8.1e+03 2.09e-04  4e-04  7e-04 0:00.3\n",
      "  200   1600 1.950790197346714e-11 1.2e+01 6.17e-06  4e-06  9e-06 0:00.5\n",
      "  226   1808 1.814255158750668e-13 2.8e+01 6.18e-07  2e-07  5e-07 0:00.6\n",
      "  226   1808 1.814255158750668e-13 2.8e+01 6.18e-07  2e-07  5e-07 0:00.6\n",
      "termination by {'tolfun': 1e-11}\n",
      "best f-value = 1.8142551587506676e-13\n",
      "solution = [-3.33509553e-07  1.42395797e-07  1.19459740e-07  2.79790224e-07]\n",
      "(4_w,8)-aCMA-ES (mu_w=2.6,w_1=52%) in dimension 4 (seed=849013, Fri Dec 17 11:13:39 2021)\n",
      "Iterat #Fevals   function value  axis ratio  sigma  min&max std  t[m:s]\n",
      "    1      8 4.205568297945657e-02 1.0e+00 1.93e-02  2e-02  2e-02 0:00.0\n",
      "    2     16 2.439583022388752e-02 1.3e+00 2.01e-02  2e-02  2e-02 0:00.0\n",
      "    3     24 1.019166799903279e-02 1.3e+00 1.95e-02  2e-02  2e-02 0:00.0\n",
      "  100    800 4.338500968935196e-05 3.3e+01 9.61e-04  5e-05  2e-04 0:00.3\n",
      "  172   1376 4.010264721003774e-05 6.0e+01 1.69e-07  5e-10  3e-09 0:00.4\n",
      "  172   1376 4.010264721003774e-05 6.0e+01 1.69e-07  5e-10  3e-09 0:00.4\n",
      "termination by {'tolfun': 1e-11}\n",
      "best f-value = 4.010264720853307e-05\n",
      "solution = [-0.07469544  0.00853576  0.00643367  0.06288479]\n"
     ]
    }
   ],
   "source": [
    "eps=np.zeros((8,5))\n",
    "mirr_idx = [0,1]\n",
    "eps[mirr_idx,1] = 10.0e-3 #1um #-1.0\n",
    "\n",
    "traj0, tols0 = get_eigenray_cma(cavfct, {parname: Ldeg}, mu=[0, 0, 0, 0], Nrt=1, verb_disp=100, sigma=0.02)\n",
    "traj2, tols2 = get_eigenray_cma(cavfct, {parname: Ldeg, 'eps': eps}, mu=[0, 0, 0, 0], Nrt=1, verb_disp=100, sigma=0.02)"
   ]
  },
  {
   "cell_type": "code",
   "execution_count": 84,
   "metadata": {},
   "outputs": [
    {
     "data": {
      "application/vnd.jupyter.widget-view+json": {
       "model_id": "083186c218a741a0a5ca134dace988cc",
       "version_major": 2,
       "version_minor": 0
      },
      "text/plain": [
       "Plot(antialias=True, axes=['x', 'y', 'z'], axes_helper=1.0, background_color=16777215, camera_animation=[], ca…"
      ]
     },
     "metadata": {},
     "output_type": "display_data"
    }
   ],
   "source": [
    "try:\n",
    "    plot.close()\n",
    "except:\n",
    "    pass\n",
    "elements_ref = cavfct(**{parname: Ldeg})\n",
    "elements = cavfct(**{parname: Ldeg, 'eps': eps})\n",
    "\n",
    "plot = k3d.plot(camera_auto_fit=True, antialias=True, camera_fov=20.)\n",
    "\n",
    "for i, el in enumerate(elements_ref):\n",
    "    plot += el.plot(opacity=0.4)\n",
    "    \n",
    "# for i, el in enumerate(elements):\n",
    "#     plot += el.plot(opacity=0.4, color=0xff0000)\n",
    "for i in list(mirr_idx):\n",
    "    plot += elements[i].plot(opacity=0.4, color=0xff0000)  \n",
    "\n",
    "    \n",
    "plot_trajs(traj0, plot)\n",
    "plot_trajs(traj2, plot, color=0xff0000)\n",
    "plot += k3d.points(traj0[:,0,0,:], color=0xff0000, point_size=0.2)\n",
    "plot += k3d.points(traj2[:,0,0,:], color=0x00aaaa, point_size=0.2)\n",
    "plot"
   ]
  },
  {
   "cell_type": "code",
   "execution_count": 85,
   "metadata": {},
   "outputs": [],
   "source": [
    "def opl_from_traj(traj):\n",
    "    opls = traj[1:,0,0,:] - traj[:-1,0,0,:]\n",
    "    return np.linalg.norm(opls, axis=1).sum()"
   ]
  },
  {
   "cell_type": "code",
   "execution_count": 86,
   "metadata": {},
   "outputs": [],
   "source": [
    "opl0 = opl_from_traj(traj0)\n",
    "opl2 = opl_from_traj(traj2)"
   ]
  },
  {
   "cell_type": "code",
   "execution_count": 87,
   "metadata": {},
   "outputs": [
    {
     "name": "stdout",
     "output_type": "stream",
     "text": [
      "unperturbed 131.25 mm, perturbed 131.30 mm, difference 4.70e+01 um\n"
     ]
    }
   ],
   "source": [
    "print(f'unperturbed {opl0:.2f} mm, perturbed {opl2:.2f} mm, difference {(opl2-opl0)*1e3:.2e} um')"
   ]
  },
  {
   "cell_type": "code",
   "execution_count": 88,
   "metadata": {
    "tags": []
   },
   "outputs": [],
   "source": [
    "def get_perturbation_one(cavfct, cavpars, which, ax, rng, mu=[0, 0, 0, 0], Nrt=3, lr=0.01, Niter=20, relative=True, get_tols=False):\n",
    "    #get reference trajectory\n",
    "    traj0, tols0 = get_eigenray_traj(cavfct, cavpars, mu=mu, Nrt=Nrt)\n",
    "    \n",
    "    #move one element and find perturbed eigenray trajectory\n",
    "    N = rng.shape[0]\n",
    "    alltraj = np.zeros((N,traj0.shape[0],3))\n",
    "    alltols = np.zeros(N)\n",
    "    for i, e in enumerate(rng):\n",
    "        eps = np.zeros((8,5))\n",
    "        eps[which, ax] += e\n",
    "        pars = cavpars.copy()\n",
    "        pars['eps'] = eps\n",
    "        try:\n",
    "            #traj1, tols1 = get_eigenray_traj(cavfct, pars, mu=mu, Nrt=Nrt, lr=lr, Niter=Niter, Niter_inner=50, lr_decay=0.5) #get_eigenray_traj(cavfct, pars, mu=mu, Nrt=Nrt, lr=lr)\n",
    "            traj1, tols1 = get_eigenray_cma(cavfct, pars, mu=mu, Nrt=Nrt, verb_disp=False)\n",
    "        except:\n",
    "            alltraj[i,...] = np.nan\n",
    "            alltols[i] = np.nan\n",
    "        else:\n",
    "            alltraj[i,...] = traj1[:,0,0,:]\n",
    "            alltols[i] = tols1[-1]\n",
    "        \n",
    "    if relative:\n",
    "        if get_tols:\n",
    "            return np.linalg.norm(traj0[None,:,0,0,:]-alltraj, axis=-1), alltols\n",
    "        else:\n",
    "            return np.linalg.norm(traj0[None,:,0,0,:]-alltraj, axis=-1)\n",
    "    else:\n",
    "        if get_tols:\n",
    "            return alltraj, alltols\n",
    "        else:\n",
    "            return alltraj"
   ]
  },
  {
   "cell_type": "code",
   "execution_count": 89,
   "metadata": {
    "tags": []
   },
   "outputs": [],
   "source": [
    "def get_perturbation_ray(cavfct, cavpars, which, ax, rng, mu=[0, 0, 0, 0], Nrt=3, get_tols=False):\n",
    "    #get reference trajectory\n",
    "    traj0, tols0 = get_eigenray_traj(cavfct, cavpars, mu=mu, Nrt=Nrt)\n",
    "    \n",
    "    #move one element and find perturbed eigenray trajectory\n",
    "    N = rng.shape[0]\n",
    "    alltraj = np.zeros((N,traj0.shape[0],2,3))\n",
    "    alltols = np.zeros(N)\n",
    "    for i, e in enumerate(rng):\n",
    "        eps = np.zeros((8,5))\n",
    "        eps[which, ax] += e\n",
    "        pars = cavpars.copy()\n",
    "        pars['eps'] = eps\n",
    "        try:\n",
    "            traj1, tols1 = get_eigenray_cma(cavfct, pars, mu=mu, Nrt=Nrt, verb_disp=False)\n",
    "        except:\n",
    "            alltraj[i,...] = np.nan\n",
    "            alltols[i] = np.nan\n",
    "        else:\n",
    "            alltraj[i,...] = traj1[:,:,0,:]\n",
    "            alltols[i] = tols1[-1]\n",
    "        \n",
    "    if get_tols:\n",
    "        return alltraj, alltols\n",
    "    else:\n",
    "        return alltraj"
   ]
  },
  {
   "cell_type": "code",
   "execution_count": 90,
   "metadata": {},
   "outputs": [],
   "source": [
    "def get_eigenray_cma_sys(cavfct, cavpars, mu=[0., 0., 0., 0.], Nrt=1, sigma=0.1, verb_disp=100):\n",
    "    elements = cavfct(**cavpars)\n",
    "    sys = RaySystem(elements)\n",
    "    \n",
    "    def loss(x, sys, Nrt=1):\n",
    "        rcur = sys.screen.eigenvectors_to_rays(np.asarray(x))\n",
    "        traj = sys.propagate(rcur, Nrt=Nrt)\n",
    "        rnew = traj[-1,...]\n",
    "        return np.linalg.norm(rnew[:,0,:]-rcur[:,0,:], axis=-1).sum()\n",
    "    \n",
    "    ray0 = sys.screen.eigenvectors_to_rays(mu)\n",
    "    es = cma.CMAEvolutionStrategy(mu, sigma)\n",
    "    es.optimize(loss, args=(sys, Nrt), verb_disp=verb_disp)\n",
    "    mueig = es.result.xbest\n",
    "    reig3 = sys.screen.eigenvectors_to_rays(mueig)\n",
    "    traj = sys.propagate(reig3, Nrt=Nrt)\n",
    "    return sys, mueig, traj, [es.result.fbest,]\n",
    "\n",
    "def get_perturb_ray_sys(cavfct, cavpars, which, ax, rng, mu=[0, 0, 0, 0], Nrt=3):\n",
    "    #get reference trajectory\n",
    "    sys0, mu0, traj0, tols0 = get_eigenray_cma_sys(cavfct, cavpars, mu=mu, Nrt=Nrt, verb_disp=False)\n",
    "    \n",
    "    #move one element and find perturbed eigenray trajectory\n",
    "    N = rng.shape[0]\n",
    "    alltraj = np.zeros((N,traj0.shape[0],2,3))\n",
    "    alltols = np.zeros(N)\n",
    "    allmus = np.zeros((N,4))\n",
    "    allsys = []\n",
    "    for i, e in enumerate(rng):\n",
    "        eps = np.zeros((8,5))\n",
    "        eps[which, ax] += e\n",
    "        pars = cavpars.copy()\n",
    "        pars['eps'] = eps\n",
    "        try:\n",
    "            sys1, mu1, traj1, tols1 = get_eigenray_cma_sys(cavfct, pars, mu=mu, Nrt=Nrt, verb_disp=False)\n",
    "            allsys.append(sys1)\n",
    "        except:\n",
    "            alltraj[i,...] = np.nan\n",
    "            allmus[i,...] = np.nan\n",
    "            alltols[i] = np.nan\n",
    "        else:\n",
    "            alltraj[i,...] = traj1[:,:,0,:]\n",
    "            alltols[i] = tols1[-1]\n",
    "            allmus[i,...] = mu1\n",
    "    return allsys, allmus, alltraj, alltols"
   ]
  },
  {
   "cell_type": "code",
   "execution_count": 91,
   "metadata": {},
   "outputs": [
    {
     "name": "stdout",
     "output_type": "stream",
     "text": [
      "(4_w,8)-aCMA-ES (mu_w=2.6,w_1=52%) in dimension 4 (seed=894290, Fri Dec 17 11:13:48 2021)\n",
      "(4_w,8)-aCMA-ES (mu_w=2.6,w_1=52%) in dimension 4 (seed=795876, Fri Dec 17 11:13:50 2021)\n",
      "(4_w,8)-aCMA-ES (mu_w=2.6,w_1=52%) in dimension 4 (seed=835721, Fri Dec 17 11:13:50 2021)\n",
      "(4_w,8)-aCMA-ES (mu_w=2.6,w_1=52%) in dimension 4 (seed=822226, Fri Dec 17 11:13:51 2021)\n",
      "(4_w,8)-aCMA-ES (mu_w=2.6,w_1=52%) in dimension 4 (seed=885005, Fri Dec 17 11:13:51 2021)\n",
      "(4_w,8)-aCMA-ES (mu_w=2.6,w_1=52%) in dimension 4 (seed=857535, Fri Dec 17 11:13:52 2021)\n",
      "(4_w,8)-aCMA-ES (mu_w=2.6,w_1=52%) in dimension 4 (seed=837117, Fri Dec 17 11:13:53 2021)\n",
      "(4_w,8)-aCMA-ES (mu_w=2.6,w_1=52%) in dimension 4 (seed=877766, Fri Dec 17 11:13:53 2021)\n",
      "(4_w,8)-aCMA-ES (mu_w=2.6,w_1=52%) in dimension 4 (seed=842358, Fri Dec 17 11:13:54 2021)\n",
      "(4_w,8)-aCMA-ES (mu_w=2.6,w_1=52%) in dimension 4 (seed=921399, Fri Dec 17 11:13:55 2021)\n",
      "(4_w,8)-aCMA-ES (mu_w=2.6,w_1=52%) in dimension 4 (seed=856110, Fri Dec 17 11:13:56 2021)\n",
      "(4_w,8)-aCMA-ES (mu_w=2.6,w_1=52%) in dimension 4 (seed=926318, Fri Dec 17 11:13:56 2021)\n",
      "(4_w,8)-aCMA-ES (mu_w=2.6,w_1=52%) in dimension 4 (seed=904959, Fri Dec 17 11:13:57 2021)\n",
      "(4_w,8)-aCMA-ES (mu_w=2.6,w_1=52%) in dimension 4 (seed=798365, Fri Dec 17 11:13:58 2021)\n",
      "(4_w,8)-aCMA-ES (mu_w=2.6,w_1=52%) in dimension 4 (seed=918943, Fri Dec 17 11:13:58 2021)\n",
      "(4_w,8)-aCMA-ES (mu_w=2.6,w_1=52%) in dimension 4 (seed=878499, Fri Dec 17 11:13:59 2021)\n",
      "(4_w,8)-aCMA-ES (mu_w=2.6,w_1=52%) in dimension 4 (seed=807581, Fri Dec 17 11:14:00 2021)\n",
      "(4_w,8)-aCMA-ES (mu_w=2.6,w_1=52%) in dimension 4 (seed=842142, Fri Dec 17 11:14:01 2021)\n",
      "(4_w,8)-aCMA-ES (mu_w=2.6,w_1=52%) in dimension 4 (seed=872411, Fri Dec 17 11:14:01 2021)\n",
      "(4_w,8)-aCMA-ES (mu_w=2.6,w_1=52%) in dimension 4 (seed=805640, Fri Dec 17 11:14:02 2021)\n",
      "(4_w,8)-aCMA-ES (mu_w=2.6,w_1=52%) in dimension 4 (seed=941204, Fri Dec 17 11:14:02 2021)\n",
      "(4_w,8)-aCMA-ES (mu_w=2.6,w_1=52%) in dimension 4 (seed=875404, Fri Dec 17 11:14:03 2021)\n",
      "(4_w,8)-aCMA-ES (mu_w=2.6,w_1=52%) in dimension 4 (seed=909707, Fri Dec 17 11:14:04 2021)\n",
      "(4_w,8)-aCMA-ES (mu_w=2.6,w_1=52%) in dimension 4 (seed=790331, Fri Dec 17 11:14:05 2021)\n",
      "(4_w,8)-aCMA-ES (mu_w=2.6,w_1=52%) in dimension 4 (seed=864417, Fri Dec 17 11:14:05 2021)\n",
      "(4_w,8)-aCMA-ES (mu_w=2.6,w_1=52%) in dimension 4 (seed=871261, Fri Dec 17 11:14:06 2021)\n",
      "(4_w,8)-aCMA-ES (mu_w=2.6,w_1=52%) in dimension 4 (seed=885434, Fri Dec 17 11:14:07 2021)\n",
      "(4_w,8)-aCMA-ES (mu_w=2.6,w_1=52%) in dimension 4 (seed=796579, Fri Dec 17 11:14:08 2021)\n",
      "(4_w,8)-aCMA-ES (mu_w=2.6,w_1=52%) in dimension 4 (seed=893263, Fri Dec 17 11:14:08 2021)\n",
      "(4_w,8)-aCMA-ES (mu_w=2.6,w_1=52%) in dimension 4 (seed=827447, Fri Dec 17 11:14:09 2021)\n",
      "(4_w,8)-aCMA-ES (mu_w=2.6,w_1=52%) in dimension 4 (seed=829781, Fri Dec 17 11:14:10 2021)\n",
      "(4_w,8)-aCMA-ES (mu_w=2.6,w_1=52%) in dimension 4 (seed=895653, Fri Dec 17 11:14:10 2021)\n",
      "(4_w,8)-aCMA-ES (mu_w=2.6,w_1=52%) in dimension 4 (seed=855219, Fri Dec 17 11:14:11 2021)\n",
      "(4_w,8)-aCMA-ES (mu_w=2.6,w_1=52%) in dimension 4 (seed=829816, Fri Dec 17 11:14:12 2021)\n",
      "(4_w,8)-aCMA-ES (mu_w=2.6,w_1=52%) in dimension 4 (seed=847936, Fri Dec 17 11:14:13 2021)\n",
      "(4_w,8)-aCMA-ES (mu_w=2.6,w_1=52%) in dimension 4 (seed=930139, Fri Dec 17 11:14:13 2021)\n",
      "(4_w,8)-aCMA-ES (mu_w=2.6,w_1=52%) in dimension 4 (seed=896939, Fri Dec 17 11:14:14 2021)\n",
      "(4_w,8)-aCMA-ES (mu_w=2.6,w_1=52%) in dimension 4 (seed=863611, Fri Dec 17 11:14:15 2021)\n",
      "(4_w,8)-aCMA-ES (mu_w=2.6,w_1=52%) in dimension 4 (seed=941812, Fri Dec 17 11:14:15 2021)\n",
      "(4_w,8)-aCMA-ES (mu_w=2.6,w_1=52%) in dimension 4 (seed=894832, Fri Dec 17 11:14:16 2021)\n",
      "(4_w,8)-aCMA-ES (mu_w=2.6,w_1=52%) in dimension 4 (seed=886800, Fri Dec 17 11:14:17 2021)\n",
      "(4_w,8)-aCMA-ES (mu_w=2.6,w_1=52%) in dimension 4 (seed=890098, Fri Dec 17 11:14:17 2021)\n",
      "(4_w,8)-aCMA-ES (mu_w=2.6,w_1=52%) in dimension 4 (seed=875851, Fri Dec 17 11:14:18 2021)\n",
      "(4_w,8)-aCMA-ES (mu_w=2.6,w_1=52%) in dimension 4 (seed=874790, Fri Dec 17 11:14:19 2021)\n",
      "(4_w,8)-aCMA-ES (mu_w=2.6,w_1=52%) in dimension 4 (seed=854941, Fri Dec 17 11:14:20 2021)\n",
      "(4_w,8)-aCMA-ES (mu_w=2.6,w_1=52%) in dimension 4 (seed=892793, Fri Dec 17 11:14:21 2021)\n",
      "(4_w,8)-aCMA-ES (mu_w=2.6,w_1=52%) in dimension 4 (seed=843189, Fri Dec 17 11:14:22 2021)\n",
      "(4_w,8)-aCMA-ES (mu_w=2.6,w_1=52%) in dimension 4 (seed=956188, Fri Dec 17 11:14:22 2021)\n",
      "(4_w,8)-aCMA-ES (mu_w=2.6,w_1=52%) in dimension 4 (seed=923075, Fri Dec 17 11:14:23 2021)\n",
      "(4_w,8)-aCMA-ES (mu_w=2.6,w_1=52%) in dimension 4 (seed=847617, Fri Dec 17 11:14:24 2021)\n",
      "(4_w,8)-aCMA-ES (mu_w=2.6,w_1=52%) in dimension 4 (seed=802552, Fri Dec 17 11:14:25 2021)\n",
      "(4_w,8)-aCMA-ES (mu_w=2.6,w_1=52%) in dimension 4 (seed=796615, Fri Dec 17 11:14:26 2021)\n",
      "(4_w,8)-aCMA-ES (mu_w=2.6,w_1=52%) in dimension 4 (seed=889344, Fri Dec 17 11:14:26 2021)\n",
      "(4_w,8)-aCMA-ES (mu_w=2.6,w_1=52%) in dimension 4 (seed=844401, Fri Dec 17 11:14:27 2021)\n",
      "(4_w,8)-aCMA-ES (mu_w=2.6,w_1=52%) in dimension 4 (seed=790721, Fri Dec 17 11:14:28 2021)\n",
      "(4_w,8)-aCMA-ES (mu_w=2.6,w_1=52%) in dimension 4 (seed=915181, Fri Dec 17 11:14:28 2021)\n",
      "(4_w,8)-aCMA-ES (mu_w=2.6,w_1=52%) in dimension 4 (seed=812593, Fri Dec 17 11:14:29 2021)\n",
      "(4_w,8)-aCMA-ES (mu_w=2.6,w_1=52%) in dimension 4 (seed=863433, Fri Dec 17 11:14:29 2021)\n",
      "(4_w,8)-aCMA-ES (mu_w=2.6,w_1=52%) in dimension 4 (seed=860928, Fri Dec 17 11:14:30 2021)\n",
      "(4_w,8)-aCMA-ES (mu_w=2.6,w_1=52%) in dimension 4 (seed=843239, Fri Dec 17 11:14:31 2021)\n",
      "(4_w,8)-aCMA-ES (mu_w=2.6,w_1=52%) in dimension 4 (seed=839055, Fri Dec 17 11:14:31 2021)\n"
     ]
    }
   ],
   "source": [
    "rng = np.linspace(-20e-3, 20e-3, 60)\n",
    "# mirr_idx = [0,1]\n",
    "# eps[mirr_idx,1] = 10.0e-3 #1um #-1.0\n",
    "allsys, allmus, rays_anim, tols = get_perturb_ray_sys(cavfct, cavpars={parname: Ldeg}, Nrt=1, which=[0,1], ax=1, rng=rng)"
   ]
  },
  {
   "cell_type": "code",
   "execution_count": 92,
   "metadata": {},
   "outputs": [],
   "source": [
    "Nel = len(allsys[0].elements)\n",
    "mmatrices = [{str(t/100): s.elements[i].plot().model_matrix for t, s in enumerate(allsys)} for i in range(Nel)]"
   ]
  },
  {
   "cell_type": "code",
   "execution_count": 93,
   "metadata": {},
   "outputs": [],
   "source": [
    "traj_anim = rays_anim[:,:,0,:] #get only positions for plotting \n",
    "traj_anim_ts = traj_to_timeseries(traj_anim[:,:,None,:], step=1)"
   ]
  },
  {
   "cell_type": "code",
   "execution_count": 94,
   "metadata": {},
   "outputs": [],
   "source": [
    "#create more round trips for each solution for plotting\n",
    "traj_anim = []\n",
    "for i, sys in enumerate(allsys):\n",
    "    traj = sys.propagate(sys.screen.eigenvectors_to_rays(allmus[i]), Nrt=20)\n",
    "    traj_anim.append(traj[:,0,0,:])\n",
    "traj_anim = np.stack(traj_anim, axis=0)\n",
    "traj_anim_ts = traj_to_timeseries(traj_anim[:,:,None,:], step=1)"
   ]
  },
  {
   "cell_type": "code",
   "execution_count": 95,
   "metadata": {},
   "outputs": [],
   "source": [
    "elements = allsys[0].elements"
   ]
  },
  {
   "cell_type": "code",
   "execution_count": 96,
   "metadata": {},
   "outputs": [
    {
     "data": {
      "application/vnd.jupyter.widget-view+json": {
       "model_id": "2733daaf633746a48845ea38632c09bc",
       "version_major": 2,
       "version_minor": 0
      },
      "text/plain": [
       "Output()"
      ]
     },
     "metadata": {},
     "output_type": "display_data"
    }
   ],
   "source": [
    "plot = k3d.plot(camera_auto_fit=True, antialias=True, camera_fov=20.)\n",
    "\n",
    "for i, el in enumerate(elements):\n",
    "    mesh = el.plot(opacity=0.4)\n",
    "    mesh.model_matrix = mmatrices[i]\n",
    "    plot += mesh\n",
    "\n",
    "#plot_trajs(traj, plot)\n",
    "for ts in traj_anim_ts:\n",
    "    plot += k3d.line(ts, shader='mesh', width=0.05, color=0x00ff00)\n",
    "\n",
    "plot.display()"
   ]
  },
  {
   "cell_type": "code",
   "execution_count": 97,
   "metadata": {
    "tags": []
   },
   "outputs": [],
   "source": [
    "from joblib import dump"
   ]
  },
  {
   "cell_type": "code",
   "execution_count": 98,
   "metadata": {
    "tags": []
   },
   "outputs": [
    {
     "data": {
      "text/plain": [
       "['trajectories_y_20um.p']"
      ]
     },
     "execution_count": 98,
     "metadata": {},
     "output_type": "execute_result"
    }
   ],
   "source": [
    "savedict = {'range': rng, 'trajectories': traj_anim}\n",
    "dump(savedict, 'trajectories_y_20um.p')"
   ]
  },
  {
   "cell_type": "code",
   "execution_count": 99,
   "metadata": {},
   "outputs": [
    {
     "data": {
      "text/plain": [
       "(60, 10, 2, 3)"
      ]
     },
     "execution_count": 99,
     "metadata": {},
     "output_type": "execute_result"
    }
   ],
   "source": [
    "rays_anim.shape"
   ]
  },
  {
   "cell_type": "code",
   "execution_count": 100,
   "metadata": {},
   "outputs": [
    {
     "data": {
      "text/plain": [
       "array([ 8.91795649,  3.9184494 , 11.67929035, 25.3853963 , 30.80482972,\n",
       "       26.75536097, 11.02657221,  3.91911607,  8.9179441 ])"
      ]
     },
     "execution_count": 100,
     "metadata": {},
     "output_type": "execute_result"
    }
   ],
   "source": [
    "np.linalg.norm((rays_anim[:,1:,0,:] - rays_anim[:,:-1,0,:]), axis=-1)[0,:]"
   ]
  },
  {
   "cell_type": "code",
   "execution_count": 101,
   "metadata": {},
   "outputs": [],
   "source": [
    "opls_parts = np.linalg.norm((rays_anim[:,1:,0,:] - rays_anim[:,:-1,0,:]), axis=-1) #[nscan, 9]\n",
    "ng = 1.4537\n",
    "opls_parts[:,[1,7]] *= ng\n",
    "opls = opls_parts.sum(axis=-1)"
   ]
  },
  {
   "cell_type": "code",
   "execution_count": 102,
   "metadata": {},
   "outputs": [
    {
     "data": {
      "application/vnd.jupyter.widget-view+json": {
       "model_id": "72777a2cfb5345788252df12f5c44bae",
       "version_major": 2,
       "version_minor": 0
      },
      "text/plain": [
       "Canvas(toolbar=Toolbar(toolitems=[('Home', 'Reset original view', 'home', 'home'), ('Back', 'Back to previous …"
      ]
     },
     "metadata": {},
     "output_type": "display_data"
    },
    {
     "data": {
      "text/plain": [
       "Text(0, 0.5, 'dOPL [um]')"
      ]
     },
     "execution_count": 102,
     "metadata": {},
     "output_type": "execute_result"
    }
   ],
   "source": [
    "plt.figure()\n",
    "plt.plot(1e3*rng, 1e3*(opls-np.min(opls)), marker='.')\n",
    "plt.xlabel('lens displacement [um]')\n",
    "plt.ylabel('dOPL [um]')"
   ]
  },
  {
   "cell_type": "markdown",
   "metadata": {},
   "source": [
    "## Metrics\n",
    "- Lens curved surface separation\n",
    "- Lens curved surface AOI\n",
    "- Lens flat surface AOI\n",
    "- Displacement / tilt of cavity axis at the input mirror i.e., which modes get excited by a fixed input beam?"
   ]
  },
  {
   "cell_type": "code",
   "execution_count": 107,
   "metadata": {},
   "outputs": [],
   "source": [
    "t = np.arange(8)"
   ]
  },
  {
   "cell_type": "code",
   "execution_count": 109,
   "metadata": {},
   "outputs": [
    {
     "data": {
      "text/plain": [
       "array([], dtype=int32)"
      ]
     },
     "execution_count": 109,
     "metadata": {},
     "output_type": "execute_result"
    }
   ],
   "source": [
    "t[-3:2]"
   ]
  },
  {
   "cell_type": "code",
   "execution_count": null,
   "metadata": {},
   "outputs": [],
   "source": [
    "opls_parts\n",
    "plt.figure()\n",
    "plt.plot(rng*1e3, lens_separation)\n",
    "plt.xlabel('Lens displacement [um]')\n",
    "plt.ylabel('Curved surface separation [mm]')\n",
    "plt.show()"
   ]
  },
  {
   "cell_type": "code",
   "execution_count": 111,
   "metadata": {},
   "outputs": [
    {
     "data": {
      "text/plain": [
       "array([ 8.91795649,  5.69624989, 11.67929035, 25.3853963 , 30.80482972,\n",
       "       26.75536097, 11.02657221,  5.69721903,  8.9179441 ])"
      ]
     },
     "execution_count": 111,
     "metadata": {},
     "output_type": "execute_result"
    }
   ],
   "source": [
    "opls_parts[0,:]"
   ]
  },
  {
   "cell_type": "code",
   "execution_count": 112,
   "metadata": {},
   "outputs": [],
   "source": [
    "lens_separation_opl = opls_parts[:,0] + opls_parts[:,1] + opls_parts[:,7] + opls_parts[:,8]"
   ]
  },
  {
   "cell_type": "code",
   "execution_count": 115,
   "metadata": {},
   "outputs": [
    {
     "data": {
      "application/vnd.jupyter.widget-view+json": {
       "model_id": "2eca8b4083d44304926bbb55acee502c",
       "version_major": 2,
       "version_minor": 0
      },
      "text/plain": [
       "Canvas(toolbar=Toolbar(toolitems=[('Home', 'Reset original view', 'home', 'home'), ('Back', 'Back to previous …"
      ]
     },
     "metadata": {},
     "output_type": "display_data"
    }
   ],
   "source": [
    "#lens_separation = np.linalg.norm(traj_anim[:,2,:] - traj_anim[:,-3,:], axis=-1)\n",
    "plt.figure()\n",
    "plt.plot(rng*1e3, lens_separation_opl)\n",
    "plt.xlabel('Lens displacement [um]')\n",
    "plt.ylabel('Curved surface separation [mm]')\n",
    "plt.show()"
   ]
  },
  {
   "cell_type": "code",
   "execution_count": 104,
   "metadata": {},
   "outputs": [
    {
     "data": {
      "application/vnd.jupyter.widget-view+json": {
       "model_id": "abf94731bcb147219df46ba6840f36a6",
       "version_major": 2,
       "version_minor": 0
      },
      "text/plain": [
       "Canvas(toolbar=Toolbar(toolitems=[('Home', 'Reset original view', 'home', 'home'), ('Back', 'Back to previous …"
      ]
     },
     "metadata": {},
     "output_type": "display_data"
    }
   ],
   "source": [
    "input_displace = np.linalg.norm(traj_anim[:,-4,:] - traj0[-4,0,0,:], axis=-1)\n",
    "plt.figure()\n",
    "plt.plot(rng*1e3, input_displace)\n",
    "plt.xlabel('Lens displacement [um]')\n",
    "plt.ylabel('Ray displacement @ Input mirror  [mm]')\n",
    "plt.show()"
   ]
  },
  {
   "cell_type": "code",
   "execution_count": 105,
   "metadata": {},
   "outputs": [
    {
     "data": {
      "application/vnd.jupyter.widget-view+json": {
       "model_id": "9a73465aa33c42228e57ec9990d111a3",
       "version_major": 2,
       "version_minor": 0
      },
      "text/plain": [
       "Canvas(toolbar=Toolbar(toolitems=[('Home', 'Reset original view', 'home', 'home'), ('Back', 'Back to previous …"
      ]
     },
     "metadata": {},
     "output_type": "display_data"
    }
   ],
   "source": [
    "aoi_flat1 = np.arccos(np.dot(rays_anim[:,0,1,:], -elements[0].n))\n",
    "plt.figure()\n",
    "plt.plot(rng*1e3, np.rad2deg(aoi_flat1))\n",
    "plt.xlabel('Lens displacement [um]')\n",
    "plt.ylabel('AOI @ flat surface 1 [deg]')\n",
    "plt.show()"
   ]
  },
  {
   "cell_type": "code",
   "execution_count": 106,
   "metadata": {},
   "outputs": [
    {
     "data": {
      "application/vnd.jupyter.widget-view+json": {
       "model_id": "6909195fcbc54e858e5d47ef1b6f8873",
       "version_major": 2,
       "version_minor": 0
      },
      "text/plain": [
       "Canvas(toolbar=Toolbar(toolitems=[('Home', 'Reset original view', 'home', 'home'), ('Back', 'Back to previous …"
      ]
     },
     "metadata": {},
     "output_type": "display_data"
    }
   ],
   "source": [
    "aoi_flat2 = np.arccos(np.dot(rays_anim[:,-2,1,:], -elements[7].n)) # -3: after curved glass, 7: last flat glass\n",
    "plt.figure()\n",
    "plt.plot(rng*1e3, np.rad2deg(aoi_flat2))\n",
    "plt.xlabel('Lens displacement [um]')\n",
    "plt.ylabel('AOI @ flat surface 2 [deg]')\n",
    "plt.show()"
   ]
  },
  {
   "cell_type": "code",
   "execution_count": 24,
   "metadata": {},
   "outputs": [],
   "source": [
    "cps = np.stack([s.elements[1].jopt.cp for s in allsys], axis=0)"
   ]
  },
  {
   "cell_type": "code",
   "execution_count": 25,
   "metadata": {},
   "outputs": [],
   "source": [
    "n = cps[0,:] - rays_anim[0,2,0,:] # [0,2,0,:] position on curved glass surface\n",
    "n = n/np.linalg.norm(n)"
   ]
  },
  {
   "cell_type": "code",
   "execution_count": 26,
   "metadata": {},
   "outputs": [],
   "source": [
    "ns = cps[0,:] - rays_anim[:,2,0,:] # [:,2,0,:] position on curved glass surface\n",
    "ns = ns/np.linalg.norm(ns, axis=-1)[:,None]"
   ]
  },
  {
   "cell_type": "code",
   "execution_count": 27,
   "metadata": {},
   "outputs": [],
   "source": [
    "aoi_curv1 = np.arccos(np.einsum('ni,ni->n', rays_anim[:,2,1,:], -ns)) #TODO catch: curved lens poition also moves!!! Find a good way to do that..."
   ]
  },
  {
   "cell_type": "code",
   "execution_count": 28,
   "metadata": {},
   "outputs": [
    {
     "data": {
      "application/vnd.jupyter.widget-view+json": {
       "model_id": "b2c5ede2b0a440268de5220b85052b4c",
       "version_major": 2,
       "version_minor": 0
      },
      "text/plain": [
       "Canvas(toolbar=Toolbar(toolitems=[('Home', 'Reset original view', 'home', 'home'), ('Back', 'Back to previous …"
      ]
     },
     "metadata": {},
     "output_type": "display_data"
    }
   ],
   "source": [
    "plt.figure()\n",
    "plt.plot(rng*1e3, np.rad2deg(aoi_curv1))\n",
    "plt.xlabel('Lens displacement [um]')\n",
    "plt.ylabel('AOI @ curved surface 1 [deg]')\n",
    "plt.show()"
   ]
  },
  {
   "cell_type": "code",
   "execution_count": null,
   "metadata": {},
   "outputs": [],
   "source": []
  },
  {
   "cell_type": "markdown",
   "metadata": {},
   "source": [
    "## Optimization Test"
   ]
  },
  {
   "cell_type": "code",
   "execution_count": 12,
   "metadata": {},
   "outputs": [],
   "source": [
    "from scipy.optimize import minimize, dual_annealing, basinhopping"
   ]
  },
  {
   "cell_type": "code",
   "execution_count": 13,
   "metadata": {},
   "outputs": [],
   "source": [
    "eps=np.zeros((8,5))\n",
    "eps[0:2,1] = 1e-3\n",
    "elements = cavfct(**{parname: Ldeg, 'eps': eps})\n",
    "sys = RaySystem(elements)"
   ]
  },
  {
   "cell_type": "code",
   "execution_count": 14,
   "metadata": {},
   "outputs": [],
   "source": [
    "x = np.array([0., 0., 0., 0.])\n",
    "rcur = sys.screen.eigenvectors_to_rays(x)\n",
    "traj = sys.propagate(rcur, Nrt=1)\n",
    "rnew = traj[-1,...]"
   ]
  },
  {
   "cell_type": "code",
   "execution_count": 62,
   "metadata": {},
   "outputs": [
    {
     "data": {
      "text/plain": [
       "array([[[ 3.38020349e-08, -1.00932977e-04,  1.43981782e-04]],\n",
       "\n",
       "       [[ 9.99999891e-01,  2.67781338e-04, -3.81992439e-04]]])"
      ]
     },
     "execution_count": 62,
     "metadata": {},
     "output_type": "execute_result"
    }
   ],
   "source": [
    "rnew"
   ]
  },
  {
   "cell_type": "code",
   "execution_count": 35,
   "metadata": {},
   "outputs": [
    {
     "data": {
      "text/plain": [
       "0.0010545920467091205"
      ]
     },
     "execution_count": 35,
     "metadata": {},
     "output_type": "execute_result"
    }
   ],
   "source": [
    "np.linalg.norm(rnew[:,0,:]-rcur[:,0,:], axis=-1).sum()"
   ]
  },
  {
   "cell_type": "code",
   "execution_count": 85,
   "metadata": {},
   "outputs": [
    {
     "data": {
      "text/plain": [
       "0.0007566473753843225"
      ]
     },
     "execution_count": 85,
     "metadata": {},
     "output_type": "execute_result"
    }
   ],
   "source": [
    "np.linalg.norm(rcur-rnew)"
   ]
  },
  {
   "cell_type": "code",
   "execution_count": 49,
   "metadata": {},
   "outputs": [],
   "source": [
    "def loss(x, sys, Nrt=1):\n",
    "    rcur = sys.screen.eigenvectors_to_rays(np.asarray(x))\n",
    "    traj = sys.propagate(rcur, Nrt=Nrt)\n",
    "    rnew = traj[-1,...]\n",
    "    return np.linalg.norm(rnew[:,0,:]-rcur[:,0,:], axis=-1).sum()"
   ]
  },
  {
   "cell_type": "code",
   "execution_count": 50,
   "metadata": {},
   "outputs": [
    {
     "data": {
      "text/plain": [
       "0.0027953745195005058"
      ]
     },
     "execution_count": 50,
     "metadata": {},
     "output_type": "execute_result"
    }
   ],
   "source": [
    "loss(x, sys)"
   ]
  },
  {
   "cell_type": "code",
   "execution_count": 59,
   "metadata": {},
   "outputs": [],
   "source": [
    "a = 5e-3\n",
    "N = 100\n",
    "xx = np.linspace(-a, a, 50)\n",
    "x, y = np.meshgrid(xx, xx)\n",
    "losses = np.empty_like(x)"
   ]
  },
  {
   "cell_type": "code",
   "execution_count": 60,
   "metadata": {},
   "outputs": [],
   "source": [
    "for i in range(len(xx)):\n",
    "    for j in range(len(xx)):\n",
    "        losses[i, j] = loss(np.array([5e-4, 0., x[i,j], y[i,j]]), sys)"
   ]
  },
  {
   "cell_type": "code",
   "execution_count": 61,
   "metadata": {},
   "outputs": [
    {
     "data": {
      "application/vnd.jupyter.widget-view+json": {
       "model_id": "884478481d904f5d96a53abe3732abcd",
       "version_major": 2,
       "version_minor": 0
      },
      "text/plain": [
       "Canvas(toolbar=Toolbar(toolitems=[('Home', 'Reset original view', 'home', 'home'), ('Back', 'Back to previous …"
      ]
     },
     "metadata": {},
     "output_type": "display_data"
    }
   ],
   "source": [
    "plt.figure()\n",
    "plt.pcolormesh(x, y, losses)\n",
    "plt.colorbar()\n",
    "plt.show()"
   ]
  },
  {
   "cell_type": "code",
   "execution_count": 44,
   "metadata": {},
   "outputs": [],
   "source": [
    "res = minimize(loss, x0=np.array([0., 0., 0., 0.]), args=(sys,), method='L-BFGS-B', bounds=[(-1, 1), (-1, 1), (-0.5, 0.5), (-0.5, 0.5)]) "
   ]
  },
  {
   "cell_type": "code",
   "execution_count": 53,
   "metadata": {},
   "outputs": [],
   "source": [
    "#res = minimize(loss, x0=(0., 0., 0., 0.), args=(sys,), method='trust-constr', bounds=[(-1, 1), (-1, 1), (-0.5, 0.5), (-0.5, 0.5)]) "
   ]
  },
  {
   "cell_type": "code",
   "execution_count": 63,
   "metadata": {},
   "outputs": [
    {
     "name": "stderr",
     "output_type": "stream",
     "text": [
      "c:\\users\\lukas\\box\\lukas\\03_theory\\abcd\\sloppy\\src\\sloppy\\optic.py:104: RuntimeWarning: invalid value encountered in sqrt\n",
      "  s0 = np.stack([mu[:,0], mu[:,1], np.sqrt(1 - (mu[:,0])**2 - (mu[:,1])**2)], axis=1) #create vector normal to screen\n",
      "c:\\users\\lukas\\box\\lukas\\03_theory\\abcd\\sloppy\\src\\sloppy\\optic.py:104: RuntimeWarning: invalid value encountered in sqrt\n",
      "  s0 = np.stack([mu[:,0], mu[:,1], np.sqrt(1 - (mu[:,0])**2 - (mu[:,1])**2)], axis=1) #create vector normal to screen\n",
      "c:\\users\\lukas\\box\\lukas\\03_theory\\abcd\\sloppy\\src\\sloppy\\optic.py:104: RuntimeWarning: invalid value encountered in sqrt\n",
      "  s0 = np.stack([mu[:,0], mu[:,1], np.sqrt(1 - (mu[:,0])**2 - (mu[:,1])**2)], axis=1) #create vector normal to screen\n"
     ]
    }
   ],
   "source": [
    "res = minimize(loss, x0=np.array([0., 0., -5e-4, 1e-4]), args=(sys,), method='BFGS')"
   ]
  },
  {
   "cell_type": "code",
   "execution_count": 64,
   "metadata": {},
   "outputs": [
    {
     "data": {
      "text/plain": [
       "      fun: nan\n",
       " hess_inv: array([[1, 0, 0, 0],\n",
       "       [0, 1, 0, 0],\n",
       "       [0, 0, 1, 0],\n",
       "       [0, 0, 0, 1]])\n",
       "      jac: array([nan, nan, nan, nan])\n",
       "  message: 'Desired error not necessarily achieved due to precision loss.'\n",
       "     nfev: 672\n",
       "      nit: 1\n",
       "     njev: 112\n",
       "   status: 2\n",
       "  success: False\n",
       "        x: array([-310.362662  , -587.8101473 ,  700.66896752, -369.95790256])"
      ]
     },
     "execution_count": 64,
     "metadata": {},
     "output_type": "execute_result"
    }
   ],
   "source": [
    "res"
   ]
  },
  {
   "cell_type": "code",
   "execution_count": 65,
   "metadata": {},
   "outputs": [],
   "source": [
    "lw = [-0.5] * 4\n",
    "up = [0.5] * 4\n",
    "ret = dual_annealing(loss, bounds=list(zip(lw, up)), args=(sys, ), seed=1234, maxiter=10**4)"
   ]
  },
  {
   "cell_type": "code",
   "execution_count": 66,
   "metadata": {},
   "outputs": [
    {
     "data": {
      "text/plain": [
       "     fun: nan\n",
       " message: ['Maximum number of iteration reached']\n",
       "    nfev: 351894\n",
       "    nhev: 0\n",
       "     nit: 10000\n",
       "    njev: 0\n",
       "  status: 0\n",
       " success: True\n",
       "       x: array([ 0.27997581, -0.22740739, -0.22353574,  0.30187218])"
      ]
     },
     "execution_count": 66,
     "metadata": {},
     "output_type": "execute_result"
    }
   ],
   "source": [
    "ret"
   ]
  },
  {
   "cell_type": "code",
   "execution_count": 75,
   "metadata": {},
   "outputs": [
    {
     "name": "stdout",
     "output_type": "stream",
     "text": [
      "(4_w,8)-aCMA-ES (mu_w=2.6,w_1=52%) in dimension 4 (seed=1010753, Mon Oct  5 18:44:28 2020)\n"
     ]
    }
   ],
   "source": [
    "es = cma.CMAEvolutionStrategy(4 * [0], 0.1)"
   ]
  },
  {
   "cell_type": "code",
   "execution_count": 77,
   "metadata": {},
   "outputs": [
    {
     "name": "stdout",
     "output_type": "stream",
     "text": [
      "Iterat #Fevals   function value  axis ratio  sigma  min&max std  t[m:s]\n",
      "    1      8 1.500504133740355e-01 1.0e+00 8.00e-02  7e-02  8e-02 0:00.0\n",
      "    2     16 1.372318804411779e-01 1.2e+00 7.18e-02  6e-02  7e-02 0:00.0\n",
      "    3     24 7.923790957990179e-02 1.3e+00 6.84e-02  6e-02  7e-02 0:00.0\n",
      "  100    800 3.363774002143986e-06 1.5e+02 2.44e-04  4e-05  7e-05 0:00.2\n",
      "  172   1376 1.853903724680585e-06 3.1e+02 1.51e-07  2e-09  4e-09 0:00.4\n",
      "  172   1376 1.853903724680585e-06 3.1e+02 1.51e-07  2e-09  4e-09 0:00.4\n",
      "termination by {'tolfun': 1e-11}\n",
      "best f-value = 1.8539037212523853e-06\n",
      "solution = [ 0.0316697   0.01513088  0.01276856 -0.02654883]\n"
     ]
    },
    {
     "data": {
      "text/plain": [
       "<cma.evolution_strategy.CMAEvolutionStrategy at 0x166cb4f8788>"
      ]
     },
     "execution_count": 77,
     "metadata": {},
     "output_type": "execute_result"
    }
   ],
   "source": [
    "es.optimize(loss, args=(sys,), verb_disp=100)"
   ]
  },
  {
   "cell_type": "code",
   "execution_count": 84,
   "metadata": {},
   "outputs": [],
   "source": [
    "mueig = es.result.xbest\n",
    "reig2 = sys.screen.eigenvectors_to_rays(mueig)"
   ]
  },
  {
   "cell_type": "code",
   "execution_count": 113,
   "metadata": {},
   "outputs": [
    {
     "ename": "TypeError",
     "evalue": "fmin() got an unexpected keyword argument 'n_jobs'",
     "output_type": "error",
     "traceback": [
      "\u001b[1;31m---------------------------------------------------------------------------\u001b[0m",
      "\u001b[1;31mTypeError\u001b[0m                                 Traceback (most recent call last)",
      "\u001b[1;32m<ipython-input-113-c13f49fb6d01>\u001b[0m in \u001b[0;36m<module>\u001b[1;34m\u001b[0m\n\u001b[1;32m----> 1\u001b[1;33m \u001b[0mxopt\u001b[0m\u001b[1;33m,\u001b[0m \u001b[0mes\u001b[0m \u001b[1;33m=\u001b[0m \u001b[0mcma\u001b[0m\u001b[1;33m.\u001b[0m\u001b[0mfmin2\u001b[0m\u001b[1;33m(\u001b[0m\u001b[0mloss\u001b[0m\u001b[1;33m,\u001b[0m \u001b[1;36m4\u001b[0m \u001b[1;33m*\u001b[0m \u001b[1;33m[\u001b[0m\u001b[1;36m0\u001b[0m\u001b[1;33m]\u001b[0m\u001b[1;33m,\u001b[0m \u001b[1;36m0.1\u001b[0m\u001b[1;33m,\u001b[0m \u001b[0margs\u001b[0m\u001b[1;33m=\u001b[0m\u001b[1;33m(\u001b[0m\u001b[0msys\u001b[0m\u001b[1;33m,\u001b[0m\u001b[1;33m)\u001b[0m\u001b[1;33m,\u001b[0m \u001b[0mn_jobs\u001b[0m\u001b[1;33m=\u001b[0m\u001b[1;36m8\u001b[0m\u001b[1;33m)\u001b[0m\u001b[1;33m\u001b[0m\u001b[1;33m\u001b[0m\u001b[0m\n\u001b[0m",
      "\u001b[1;32mC:\\ProgramData\\Anaconda3\\lib\\site-packages\\cma\\evolution_strategy.py\u001b[0m in \u001b[0;36mfmin2\u001b[1;34m(*args, **kwargs)\u001b[0m\n\u001b[0;32m   3965\u001b[0m \u001b[1;33m\u001b[0m\u001b[0m\n\u001b[0;32m   3966\u001b[0m     \"\"\"\n\u001b[1;32m-> 3967\u001b[1;33m     \u001b[0mres\u001b[0m \u001b[1;33m=\u001b[0m \u001b[0mfmin\u001b[0m\u001b[1;33m(\u001b[0m\u001b[1;33m*\u001b[0m\u001b[0margs\u001b[0m\u001b[1;33m,\u001b[0m \u001b[1;33m**\u001b[0m\u001b[0mkwargs\u001b[0m\u001b[1;33m)\u001b[0m\u001b[1;33m\u001b[0m\u001b[1;33m\u001b[0m\u001b[0m\n\u001b[0m\u001b[0;32m   3968\u001b[0m     \u001b[1;32mreturn\u001b[0m \u001b[0mres\u001b[0m\u001b[1;33m[\u001b[0m\u001b[1;36m0\u001b[0m\u001b[1;33m]\u001b[0m\u001b[1;33m,\u001b[0m \u001b[0mres\u001b[0m\u001b[1;33m[\u001b[0m\u001b[1;33m-\u001b[0m\u001b[1;36m2\u001b[0m\u001b[1;33m]\u001b[0m\u001b[1;33m\u001b[0m\u001b[1;33m\u001b[0m\u001b[0m\n\u001b[0;32m   3969\u001b[0m \u001b[1;33m\u001b[0m\u001b[0m\n",
      "\u001b[1;31mTypeError\u001b[0m: fmin() got an unexpected keyword argument 'n_jobs'"
     ]
    }
   ],
   "source": [
    "xopt, es = cma.fmin2(loss, 4 * [0], 0.1, args=(sys,), n_jobs=8)"
   ]
  },
  {
   "cell_type": "code",
   "execution_count": 87,
   "metadata": {},
   "outputs": [],
   "source": [
    "traj2 = sys.propagate(reig2)"
   ]
  },
  {
   "cell_type": "code",
   "execution_count": 89,
   "metadata": {},
   "outputs": [
    {
     "data": {
      "application/vnd.jupyter.widget-view+json": {
       "model_id": "1ba164fb4dcb482281a46c388a89e032",
       "version_major": 2,
       "version_minor": 0
      },
      "text/plain": [
       "Output()"
      ]
     },
     "metadata": {},
     "output_type": "display_data"
    }
   ],
   "source": [
    "try:\n",
    "    plot.close()\n",
    "except:\n",
    "    pass\n",
    "elements = cavfct(**{parname: Ldeg})\n",
    "plot = k3d.plot(camera_auto_fit=True, antialias=True, camera_fov=20.)\n",
    "\n",
    "for i, el in enumerate(elements):\n",
    "    plot += el.plot(opacity=0.4)\n",
    "    \n",
    "plot_trajs(traj0, plot)\n",
    "plot_trajs(traj1, plot, color=0x00ff00)\n",
    "plot_trajs(traj1, plot, color=0xff0000)\n",
    "\n",
    "plot += k3d.points(traj0[:,0,0,:], color=0xff0000, point_size=0.3)\n",
    "\n",
    "plot.display()"
   ]
  },
  {
   "cell_type": "code",
   "execution_count": 151,
   "metadata": {},
   "outputs": [
    {
     "data": {
      "text/plain": [
       "(10, 2, 1, 3)"
      ]
     },
     "execution_count": 151,
     "metadata": {},
     "output_type": "execute_result"
    }
   ],
   "source": [
    "traj2.shape"
   ]
  },
  {
   "cell_type": "code",
   "execution_count": null,
   "metadata": {},
   "outputs": [],
   "source": []
  },
  {
   "cell_type": "code",
   "execution_count": null,
   "metadata": {},
   "outputs": [],
   "source": []
  },
  {
   "cell_type": "code",
   "execution_count": null,
   "metadata": {},
   "outputs": [],
   "source": []
  },
  {
   "cell_type": "code",
   "execution_count": 46,
   "metadata": {},
   "outputs": [],
   "source": [
    "def rays_interaction_factory_pert(cavfct, cavpars, rmax=6.):\n",
    "    fig, ax = plt.subplots(ncols=3, nrows=2, figsize=(11,6.6), sharex='row', sharey='row')\n",
    "    ms = 8.\n",
    "    lines = [a.scatter([], [], c=[], cmap='jet', s=ms) for a in ax.flatten()]\n",
    "    ax[0,0].set_title('Raytracing')\n",
    "    ax[0,1].set_title('ABCD')\n",
    "    ax[0,2].set_title('ABCD (Extracted)')\n",
    "    plt.xlabel('x [mm]')\n",
    "    plt.ylabel('y [mm]')\n",
    "\n",
    "    def makeidx(hit_m):\n",
    "        return np.arange(hit_m.shape[0])\n",
    "    \n",
    "    magnitude = lambda x: 1. if x==0. else int(np.floor(np.log10(x)))\n",
    "    \n",
    "    def update(ar=0.0, br=0.0, ap=0., bp=0., Nrt=500, **kwargs):\n",
    "        #kwargs.update({parname: Ldeg+dl*1e-1})\n",
    "        elements = cavfct(**kwargs)\n",
    "        sys = RaySystem(elements)\n",
    "        system = sys.abcd\n",
    "        mu1, mu2 = system.q\n",
    "        waist = system.waist_at(0)[0] #fix for now since waist is not at 0 anymore!\n",
    "        rmu1 = np.linalg.norm(np.real(mu1[:2]))\n",
    "        rmu2 = np.linalg.norm(np.real(mu2[:2]))\n",
    "        mu = np.real(ar*waist/rmu1*mu1*np.exp(1j*ap) + br*waist/rmu2*mu2*np.exp(1j*bp))\n",
    "        \n",
    "        ray0 = sys.screen.eigenvectors_to_rays(mu)\n",
    " \n",
    "        traj_hit = sys.propagate(ray0, Nrt=Nrt, at_screen=True)\n",
    "        hit_scr = sys.screen.r_to_screen_coords(traj_hit[:,0,0,:])\n",
    "        hit_scrs = sys.screen.s_to_screen_coords(traj_hit[:,1,0,:])\n",
    "\n",
    "        lines[0].set_offsets(hit_scr[:,:])\n",
    "        lines[0].set_array(makeidx(hit_scr))\n",
    "        lines[3].set_offsets(hit_scrs[:,:])\n",
    "        lines[3].set_array(makeidx(hit_scrs))\n",
    "        \n",
    "        hit_m = propagate_ABCD(mu, system.abcd_rt, Nrt=Nrt)\n",
    "        lines[1].set_offsets(hit_m[:,0:2])\n",
    "        lines[1].set_array(makeidx(hit_m))\n",
    "        lines[4].set_offsets(hit_m[:,2:])\n",
    "        lines[4].set_array(makeidx(hit_m))\n",
    "        \n",
    "        #abcd_fd = sys.extract_ABCD(epsr=1e-3, epss=1e-3, Nrt=1) \n",
    "        #hit_fd = propagate_ABCD(mu, abcd_fd, Nrt=Nrt)\n",
    "        #lines[2].set_offsets(hit_fd[:,0:2])\n",
    "        #lines[2].set_array(makeidx(hit_fd))\n",
    "        #lines[5].set_offsets(hit_fd[:,2:])\n",
    "        #lines[5].set_array(makeidx(hit_fd))\n",
    "        \n",
    "        for l in lines:\n",
    "            l.set_clim(vmin=0, vmax=Nrt)\n",
    "            \n",
    "        ax[0,0].set_xlim(1.5*np.nanmin(hit_scr[:,0]), 1.5*np.nanmax(hit_scr[:,0]))\n",
    "        ax[0,0].set_ylim(1.5*np.nanmin(hit_scr[:,1]), 1.5*np.nanmax(hit_scr[:,1]))\n",
    "        ax[1,0].set_xlim(1.5*np.nanmin(hit_scrs[:,0]), 1.5*np.nanmax(hit_scrs[:,0]))\n",
    "        ax[1,0].set_ylim(1.5*np.nanmin(hit_scrs[:,1]), 1.5*np.nanmax(hit_scrs[:,1]))\n",
    "        fig.canvas.draw_idle()\n",
    "\n",
    "    lo = Layout(width='80%', height='30px')\n",
    "\n",
    "    sliders = {v.name: FloatSlider(value=v.default, min=v.default*0.1, max=v.default*1.5, step=10**(magnitude(v.default)-3), readout_format='.2e', layout=lo) for v in inspect.signature(cavfct).parameters.values() if v.name not in cavpars.keys()}\n",
    "    ars = FloatSlider(value=0.1, min=0., max=rmax, step=1e-2, readout_format='.3f', layout=lo)\n",
    "    brs = FloatSlider(value=0.1, min=0., max=rmax, step=1e-2, readout_format='.3f', layout=lo)\n",
    "    aps = FloatSlider(value=0., min=0., max=1*np.pi, step=1e-2, readout_format='.3f', layout=lo)\n",
    "    bps = FloatSlider(value=0., min=0., max=1*np.pi, step=1e-2, readout_format='.3f', layout=lo)\n",
    "    Nrts = IntSlider(value=100, min=100, max=2000, step=100, layout=lo)\n",
    "    raysliders = {'ar': ars, 'br': brs, 'ap': aps, 'bp': bps, 'Nrt': Nrts}\n",
    "    sliders.update(**raysliders)\n",
    "    cavparsfixed = {k: fixed(v) for k, v in cavpars.items()}\n",
    "    sliders.update(**cavparsfixed)\n",
    "    #print(sliders)\n",
    "    return interactive(update, **sliders)"
   ]
  },
  {
   "cell_type": "code",
   "execution_count": null,
   "metadata": {},
   "outputs": [],
   "source": []
  },
  {
   "cell_type": "code",
   "execution_count": 47,
   "metadata": {},
   "outputs": [
    {
     "data": {
      "application/vnd.jupyter.widget-view+json": {
       "model_id": "9064072af5564ea39e34cdb4947ba71a",
       "version_major": 2,
       "version_minor": 0
      },
      "text/plain": [
       "Canvas(toolbar=Toolbar(toolitems=[('Home', 'Reset original view', 'home', 'home'), ('Back', 'Back to previous …"
      ]
     },
     "metadata": {},
     "output_type": "display_data"
    },
    {
     "data": {
      "application/vnd.jupyter.widget-view+json": {
       "model_id": "20117a9b794b4ce9a968069524137e63",
       "version_major": 2,
       "version_minor": 0
      },
      "text/plain": [
       "interactive(children=(FloatSlider(value=0.1, description='ar', layout=Layout(height='30px', width='80%'), max=…"
      ]
     },
     "metadata": {},
     "output_type": "display_data"
    }
   ],
   "source": [
    "eps = np.zeros((12,5))\n",
    "eps[3,3] += 1e-1\n",
    "rays_interaction_factory_pert(cavfct, cavpars={parname: Ldeg, 'eps': eps}, rmax=10.)"
   ]
  },
  {
   "cell_type": "code",
   "execution_count": 34,
   "metadata": {},
   "outputs": [
    {
     "data": {
      "application/vnd.jupyter.widget-view+json": {
       "model_id": "20b88d65abea4908a5a4fc28bfba8768",
       "version_major": 2,
       "version_minor": 0
      },
      "text/plain": [
       "Canvas(toolbar=Toolbar(toolitems=[('Home', 'Reset original view', 'home', 'home'), ('Back', 'Back to previous …"
      ]
     },
     "metadata": {},
     "output_type": "display_data"
    },
    {
     "name": "stdout",
     "output_type": "stream",
     "text": [
      "{'lens_dist': 1, 'c4': -4, 'c6': 1.0, 'c8': 1.0}\n"
     ]
    },
    {
     "data": {
      "application/vnd.jupyter.widget-view+json": {
       "model_id": "d9251174c604420f94e291fd30a3518f",
       "version_major": 2,
       "version_minor": 0
      },
      "text/plain": [
       "interactive(children=(FloatSlider(value=8.0, description='a', layout=Layout(height='30px', width='80%'), max=1…"
      ]
     },
     "metadata": {},
     "output_type": "display_data"
    }
   ],
   "source": [
    "metrics_interaction_factory(cavfct, cavpars={parname: Ldeg, 'c4': 6e-4, 'c6': 0, 'c8': 0}, rmax=12., Nplt=100, slrng=(0.8, 1.2), degmodenum=1, a=8., b=0., s=1)"
   ]
  },
  {
   "cell_type": "code",
   "execution_count": 35,
   "metadata": {},
   "outputs": [],
   "source": [
    "dct = {\"a\": 1, \"b\": 2}"
   ]
  },
  {
   "cell_type": "code",
   "execution_count": 36,
   "metadata": {},
   "outputs": [
    {
     "name": "stdout",
     "output_type": "stream",
     "text": [
      "a 1\n",
      "b 2\n"
     ]
    }
   ],
   "source": [
    "for k,v in dct.items():\n",
    "    print(k,v)"
   ]
  },
  {
   "cell_type": "code",
   "execution_count": 17,
   "metadata": {},
   "outputs": [
    {
     "data": {
      "application/vnd.jupyter.widget-view+json": {
       "model_id": "4e085a8c97af4c29a1feb3b429642a66",
       "version_major": 2,
       "version_minor": 0
      },
      "text/plain": [
       "Output()"
      ]
     },
     "metadata": {},
     "output_type": "display_data"
    }
   ],
   "source": [
    "res = degeneracy_length(cavfct, parname, 1e-2)\n",
    "Ldeg=res.x\n",
    "sys = RaySystem(cavfct(lens_dist=Ldeg))\n",
    "\n",
    "try:\n",
    "    plot.close()\n",
    "except:\n",
    "    pass\n",
    "plot = k3d.plot(camera_auto_fit=True, antialias=True)\n",
    "\n",
    "for i, el in enumerate(sys.elements):\n",
    "    plot += el.plot(opacity=0.4)\n",
    "\n",
    "for i, el in enumerate(sys.elements):\n",
    "    plot_element_ax(el, plot, length=5.)\n",
    "plot.display()"
   ]
  },
  {
   "cell_type": "code",
   "execution_count": 19,
   "metadata": {},
   "outputs": [
    {
     "name": "stdout",
     "output_type": "stream",
     "text": [
      "131.24995092745596\n"
     ]
    }
   ],
   "source": [
    "system = sys.abcd\n",
    "print(system.Ltot)\n",
    "system.waist_at(0)\n",
    "mu1, mu2 = system.q"
   ]
  },
  {
   "cell_type": "code",
   "execution_count": 20,
   "metadata": {},
   "outputs": [
    {
     "data": {
      "text/plain": [
       "array([0.0182912, 0.0182912])"
      ]
     },
     "execution_count": 20,
     "metadata": {},
     "output_type": "execute_result"
    }
   ],
   "source": [
    "system.waist_at(0.)"
   ]
  },
  {
   "cell_type": "code",
   "execution_count": 21,
   "metadata": {},
   "outputs": [],
   "source": [
    "mu = 1e-1*np.real(mu1) + 1e-3*np.real(mu2) \n",
    "ray = sys.screen.eigenvectors_to_rays(mu)\n",
    "\n",
    "traj = sys.propagate(ray, Nrt=30)"
   ]
  },
  {
   "cell_type": "code",
   "execution_count": 22,
   "metadata": {},
   "outputs": [],
   "source": [
    "screen = Screen(p=sys.screen.p, n=sys.screen.n, ax=sys.screen.ax, ay=sys.screen.ay, diameter=3.)"
   ]
  },
  {
   "cell_type": "code",
   "execution_count": 23,
   "metadata": {},
   "outputs": [
    {
     "data": {
      "application/vnd.jupyter.widget-view+json": {
       "model_id": "9d20e561518643dfa4ae3ad50e690531",
       "version_major": 2,
       "version_minor": 0
      },
      "text/plain": [
       "Output()"
      ]
     },
     "metadata": {},
     "output_type": "display_data"
    }
   ],
   "source": [
    "try:\n",
    "    plot.close()\n",
    "except:\n",
    "    pass\n",
    "plot = k3d.plot(camera_auto_fit=True, antialias=True)\n",
    "\n",
    "for i, el in enumerate(sys.elements[:-1]):\n",
    "    plot += el.plot(opacity=0.4)\n",
    "\n",
    "plot += screen.plot(opacity=0.4)\n",
    "\n",
    "plot_trajs(traj, plot, shader='mesh', width=0.02, color=0xc61920)\n",
    "plot.display()"
   ]
  },
  {
   "cell_type": "code",
   "execution_count": null,
   "metadata": {},
   "outputs": [],
   "source": []
  }
 ],
 "metadata": {
  "kernelspec": {
   "display_name": "Python [conda env:.conda-sloppy]",
   "language": "python",
   "name": "conda-env-.conda-sloppy-py"
  },
  "language_info": {
   "codemirror_mode": {
    "name": "ipython",
    "version": 3
   },
   "file_extension": ".py",
   "mimetype": "text/x-python",
   "name": "python",
   "nbconvert_exporter": "python",
   "pygments_lexer": "ipython3",
   "version": "3.9.7"
  }
 },
 "nbformat": 4,
 "nbformat_minor": 4
}
