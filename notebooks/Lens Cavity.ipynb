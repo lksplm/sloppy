{
 "cells": [
  {
   "cell_type": "code",
   "execution_count": 1,
   "metadata": {},
   "outputs": [],
   "source": [
    "%load_ext autoreload\n",
    "%autoreload 2"
   ]
  },
  {
   "cell_type": "code",
   "execution_count": 2,
   "metadata": {},
   "outputs": [],
   "source": [
    "%matplotlib widget\n",
    "import numpy as np\n",
    "import k3d\n",
    "import matplotlib.pyplot as plt\n",
    "from functools import reduce\n",
    "from raytracing import *"
   ]
  },
  {
   "cell_type": "code",
   "execution_count": 3,
   "metadata": {},
   "outputs": [],
   "source": [
    "def LensCav(arm1=50., arm2=55., base=19., angle=np.deg2rad(150), lens_dist=11.075, lens_diam=6.35, lens_thick=4., Rlens=5.0, eps=np.zeros((6,5))):\n",
    "    \n",
    "    p0 = np.array([lens_dist/2.-lens_thick/2.,0,0])\n",
    "    p1 = np.array([lens_dist/2.+lens_thick/2.,0,0])\n",
    "    p2 = np.array([arm1/2.,0,0])\n",
    "    p3 = np.array([np.cos(angle)*arm2/2.,base,np.sin(angle)*arm2/2.])\n",
    "    p4 = np.array([-np.cos(angle)*arm2/2.,base,-np.sin(angle)*arm2/2.])\n",
    "    p5 = np.array([-arm1/2.,0,0])\n",
    "    p6 = np.array([-lens_dist/2.-lens_thick/2.,0,0])\n",
    "    p7 = np.array([-lens_dist/2.+lens_thick/2.,0,0])\n",
    "\n",
    "    \n",
    "    ps = np.stack([p0,p1,p2,p3,p4,p5,p6,p7], axis=0)\n",
    "    geom = geometry(ps)\n",
    "    ns = geom['refl']\n",
    "    for i in range(ns.shape[0]):\n",
    "        ns[i,:] = -norm(ns[i,:])\n",
    "    #fix normal vectosfor transmission\n",
    "    ns[0,:] = np.array([-1,0,0])\n",
    "    ns[1,:] = np.array([-1,0,0])\n",
    "    ns[6,:] = np.array([1,0,0])\n",
    "    ns[7,:] = np.array([-1,0,0])\n",
    "    ps = geom['mir']\n",
    "    #add perturbations\n",
    "    ps[2:6] += eps[2:6,:3]\n",
    "    #lenses special FIX translation and rotation!\n",
    "    ps[0] += eps[0,:3]\n",
    "    ps[1] += eps[0,:3]\n",
    "    ps[6] += eps[5,:3]\n",
    "    ps[7] += eps[5,:3]\n",
    "    axx = geom['xin']\n",
    "    axy = 0.5*(geom['yin']+geom['yout'])\n",
    "    #ns[2:6] = [rot_vec(rot_vec(ns[i], axx[i], np.deg2rad(eps[i,3])), axy[i], np.deg2rad(eps[i,4])) for i, n in enumerate(ns[2:6])]\n",
    "    ns[2] = rot_vec(rot_vec(ns[2], axx[2], np.deg2rad(eps[1,3])), axy[2], np.deg2rad(eps[1,4]))\n",
    "    ns[3] = rot_vec(rot_vec(ns[3], axx[3], np.deg2rad(eps[2,3])), axy[3], np.deg2rad(eps[2,4]))\n",
    "    ns[4] = rot_vec(rot_vec(ns[4], axx[4], np.deg2rad(eps[3,3])), axy[4], np.deg2rad(eps[3,4]))\n",
    "    ns[5] = rot_vec(rot_vec(ns[5], axx[5], np.deg2rad(eps[4,3])), axy[5], np.deg2rad(eps[4,4]))\n",
    "    #lenses special\n",
    "    ns[0] = rot_vec(rot_vec(ns[0], axx[0], np.deg2rad(eps[0,3])), axy[0], np.deg2rad(eps[0,4]))\n",
    "    ns[1] = rot_vec(rot_vec(ns[1], axx[1], np.deg2rad(eps[0,3])), axy[1], np.deg2rad(eps[0,4]))\n",
    "    ns[6] = rot_vec(rot_vec(ns[6], axx[6], np.deg2rad(eps[5,3])), axy[6], np.deg2rad(eps[5,4]))\n",
    "    ns[7] = rot_vec(rot_vec(ns[7], axx[7], np.deg2rad(eps[5,3])), axy[7], np.deg2rad(eps[5,4]))\n",
    "    \n",
    "    \n",
    "    hi = 12.7\n",
    "    qi=7.75\n",
    "    ng = 1.41\n",
    "    elements = [Glass(p=ps[0], n=ns[0], diam=lens_diam, n2=ng),\\\n",
    "                CurvedGlass(p=ps[1], n=ns[1], diam=lens_diam, R=Rlens, curv='CC', n1=ng),\\\n",
    "                Mirror(p=ps[2], n=ns[2], diam=hi),\\\n",
    "                Mirror(p=ps[3], n=ns[3], diam=hi),\\\n",
    "                Mirror(p=ps[4], n=ns[4], diam=hi),\\\n",
    "                Mirror(p=ps[5], n=ns[5], diam=hi),\\\n",
    "                CurvedGlass(p=ps[6], n=ns[6], diam=lens_diam, R=Rlens, curv='CC', n1=ng),\\\n",
    "                Glass(p=ps[7], n=ns[7], diam=lens_diam, n1=ng),\\\n",
    "               ]\n",
    "    return elements, geom"
   ]
  },
  {
   "cell_type": "code",
   "execution_count": 4,
   "metadata": {},
   "outputs": [
    {
     "name": "stderr",
     "output_type": "stream",
     "text": [
      "C:\\Users\\lukas\\Box\\Lukas\\03_Theory\\ABCD\\Raytracing\\raytracing.py:25: RuntimeWarning: invalid value encountered in true_divide\n",
      "  return v/np.linalg.norm(v)\n"
     ]
    }
   ],
   "source": [
    "elements, geom = LensCav()\n",
    "\n",
    "x0 = 0.5*(elements[0].p + elements[-1].p)\n",
    "n0 = norm(elements[0].p - elements[-1].p)\n",
    "\n",
    "screen = Screen(p=x0, n=-n0, diam=7.75)\n",
    "elements.append(screen)"
   ]
  },
  {
   "cell_type": "code",
   "execution_count": 5,
   "metadata": {},
   "outputs": [],
   "source": [
    "#debug\n",
    "opt = elements[6]\n",
    "#opt.n = -opt.n\n",
    "rays = ray_bundle(n=-opt.n, p=opt.p+5*opt.n, n_radii=5, n_angles=3, divergence=0, R=1.)\n",
    "#rays = ray_bundle(n=opt.n, p=opt.p-5*opt.n, n_radii=5, n_angles=3, divergence=0, R=1.4)\n",
    "rays2 = opt.propagate(rays)"
   ]
  },
  {
   "cell_type": "code",
   "execution_count": 10,
   "metadata": {},
   "outputs": [
    {
     "data": {
      "application/vnd.jupyter.widget-view+json": {
       "model_id": "55c495a92acc419b89821eba0eb8d01e",
       "version_major": 2,
       "version_minor": 0
      },
      "text/plain": [
       "Output()"
      ]
     },
     "metadata": {},
     "output_type": "display_data"
    }
   ],
   "source": [
    "try:\n",
    "    plot.close()\n",
    "except:\n",
    "    pass\n",
    "plot = k3d.plot(camera_auto_fit=True, antialias=True)\n",
    "\n",
    "plot_rays(rays, plot, color=0x00ff00)\n",
    "plot_rays(rays2, plot, color=0x00ff00)\n",
    "plot += opt.plot()\n",
    "plot.display()"
   ]
  },
  {
   "cell_type": "code",
   "execution_count": 188,
   "metadata": {},
   "outputs": [],
   "source": [
    "#r0 = x0[None,:] + np.array([[0,0.2,0], [0,0,0.2], [0,0.2,0.2], [0,-0.2,-0.2]])\n",
    "#s0 = np.broadcast_to(n0, r0.shape)\n",
    "#r0, s0 = x0 + np.array([0,0,0]), norm(n0 + np.array([0,0,0]))\n",
    "r0, s0 = x0 , n0\n",
    "ray0 = np.stack([np.atleast_2d(r0), np.atleast_2d(s0)], axis=0)"
   ]
  },
  {
   "cell_type": "code",
   "execution_count": 199,
   "metadata": {},
   "outputs": [
    {
     "name": "stdout",
     "output_type": "stream",
     "text": [
      "Failed\n",
      "Finished in 197 steps, reached tol 2.998e+02\n"
     ]
    }
   ],
   "source": [
    "reig, traj_anim = find_eigenray_animated(elements, rayp, lr=2e-3, debug=True, clip=False)\n",
    "ts_dicts = traj_to_timeseries(traj_anim)"
   ]
  },
  {
   "cell_type": "code",
   "execution_count": 202,
   "metadata": {},
   "outputs": [
    {
     "ename": "TypeError",
     "evalue": "tuple indices must be integers or slices, not tuple",
     "output_type": "error",
     "traceback": [
      "\u001b[1;31m---------------------------------------------------------------------------\u001b[0m",
      "\u001b[1;31mTypeError\u001b[0m                                 Traceback (most recent call last)",
      "\u001b[1;32m<ipython-input-202-61c91fdfae09>\u001b[0m in \u001b[0;36m<module>\u001b[1;34m\u001b[0m\n\u001b[1;32m----> 1\u001b[1;33m \u001b[0mrayp\u001b[0m\u001b[1;33m.\u001b[0m\u001b[0mshape\u001b[0m\u001b[1;33m[\u001b[0m\u001b[1;36m0\u001b[0m\u001b[1;33m,\u001b[0m\u001b[1;36m0\u001b[0m\u001b[1;33m,\u001b[0m\u001b[1;33m:\u001b[0m\u001b[1;33m]\u001b[0m\u001b[1;33m\u001b[0m\u001b[1;33m\u001b[0m\u001b[0m\n\u001b[0m",
      "\u001b[1;31mTypeError\u001b[0m: tuple indices must be integers or slices, not tuple"
     ]
    }
   ],
   "source": []
  },
  {
   "cell_type": "code",
   "execution_count": 214,
   "metadata": {},
   "outputs": [
    {
     "name": "stderr",
     "output_type": "stream",
     "text": [
      "C:\\ProgramData\\Anaconda3\\lib\\site-packages\\traittypes\\traittypes.py:101: UserWarning: Given trait value dtype \"float64\" does not match required type \"float32\". A coerced copy has been created.\n",
      "  np.dtype(self.dtype).name))\n"
     ]
    },
    {
     "data": {
      "application/vnd.jupyter.widget-view+json": {
       "model_id": "6f9bb16a8d5e48a090ed2ad0da31fcd7",
       "version_major": 2,
       "version_minor": 0
      },
      "text/plain": [
       "Output()"
      ]
     },
     "metadata": {},
     "output_type": "display_data"
    }
   ],
   "source": [
    "try:\n",
    "    plot.close()\n",
    "except:\n",
    "    pass\n",
    "plot = k3d.plot(camera_auto_fit=True, antialias=True)\n",
    "#plot += k3d.vectors(origins=x0, vectors=n0)\n",
    "\n",
    "for el in elements:\n",
    "    plot += el.plot(opacity=0.4)\n",
    "    plot += k3d.vectors(origins=el.p, vectors=el.p, color=0xffff00)\n",
    "\n",
    "#plot_trajs(traj, plot)\n",
    "#for ts in ts_dicts:\n",
    "#    plot += k3d.line(ts, shader='mesh', width=0.1, color=0x00ff00)\n",
    "plot += k3d.vectors(origins=rayp[0,0,:], vectors=rayp[1,0,:], color=0xff0000)\n",
    "\n",
    "plot.display()"
   ]
  },
  {
   "cell_type": "code",
   "execution_count": 215,
   "metadata": {},
   "outputs": [
    {
     "data": {
      "text/plain": [
       "array([-1., -0., -0.])"
      ]
     },
     "execution_count": 215,
     "metadata": {},
     "output_type": "execute_result"
    }
   ],
   "source": [
    "elements[-1].n"
   ]
  },
  {
   "cell_type": "code",
   "execution_count": 220,
   "metadata": {},
   "outputs": [
    {
     "data": {
      "text/plain": [
       "array([-1.,  0.,  0.])"
      ]
     },
     "execution_count": 220,
     "metadata": {},
     "output_type": "execute_result"
    }
   ],
   "source": [
    "elements[7].n"
   ]
  },
  {
   "cell_type": "code",
   "execution_count": 116,
   "metadata": {},
   "outputs": [],
   "source": [
    "reig = ray0"
   ]
  },
  {
   "cell_type": "code",
   "execution_count": 127,
   "metadata": {},
   "outputs": [],
   "source": [
    "traj_eig = propagate_system(elements, ray0, Nrt=1)[:,0,:,:]"
   ]
  },
  {
   "cell_type": "code",
   "execution_count": 138,
   "metadata": {},
   "outputs": [],
   "source": [
    "rp, sp = x0 + np.array([0,1e-2,0]), norm(n0 + np.array([0,0,0]))\n",
    "#rp, sp = x0 , n0\n",
    "rayp = np.stack([np.atleast_2d(rp), np.atleast_2d(sp)], axis=0)"
   ]
  },
  {
   "cell_type": "code",
   "execution_count": 205,
   "metadata": {},
   "outputs": [],
   "source": [
    "rayp = ray_bundle(n=(1,0,0), n_radii=3, n_angles=3, divergence=1e-3, R=0.)"
   ]
  },
  {
   "cell_type": "code",
   "execution_count": 185,
   "metadata": {},
   "outputs": [],
   "source": [
    "elements_clp = elements#[:-2]"
   ]
  },
  {
   "cell_type": "code",
   "execution_count": 186,
   "metadata": {},
   "outputs": [],
   "source": [
    "traj_p= propagate_system(elements_clp, rayp, Nrt=1, clip=True)"
   ]
  },
  {
   "cell_type": "code",
   "execution_count": 187,
   "metadata": {},
   "outputs": [
    {
     "data": {
      "application/vnd.jupyter.widget-view+json": {
       "model_id": "41a6e7c4f0dc45c1ab21e11a89b9218d",
       "version_major": 2,
       "version_minor": 0
      },
      "text/plain": [
       "Output()"
      ]
     },
     "metadata": {},
     "output_type": "display_data"
    }
   ],
   "source": [
    "try:\n",
    "    plot.close()\n",
    "except:\n",
    "    pass\n",
    "plot = k3d.plot(camera_auto_fit=True, antialias=True)\n",
    "for el in elements:\n",
    "    plot += el.plot(opacity=0.4)\n",
    "\n",
    "plot_trajs(traj_p, plot)\n",
    "plot.display()"
   ]
  },
  {
   "cell_type": "code",
   "execution_count": 128,
   "metadata": {},
   "outputs": [],
   "source": [
    "#visualize perturbed mode\n",
    "which=0\n",
    "ax=2\n",
    "amp = 1e-3\n",
    "dists, trajs_pert, modelmats = perturb_one_anim(LensCav, screen, reig, traj_eig, which=which, ax=ax, rng=np.linspace(-amp, amp, 30))"
   ]
  },
  {
   "cell_type": "code",
   "execution_count": 129,
   "metadata": {},
   "outputs": [],
   "source": [
    "trajs_pert_ts = traj_to_timeseries(trajs_pert, step=1)\n",
    "modelmats_ts = modelmats_to_timeseries(modelmats, step=1)"
   ]
  },
  {
   "cell_type": "code",
   "execution_count": 130,
   "metadata": {},
   "outputs": [
    {
     "data": {
      "application/vnd.jupyter.widget-view+json": {
       "model_id": "7f2ceffa9031438e9b2e387a39860a98",
       "version_major": 2,
       "version_minor": 0
      },
      "text/plain": [
       "Output()"
      ]
     },
     "metadata": {},
     "output_type": "display_data"
    }
   ],
   "source": [
    "plot = k3d.plot(camera_auto_fit=True, antialias=True)\n",
    "\n",
    "for i, el in enumerate(elements[:-1]):\n",
    "    pel = el.plot(opacity=0.4)\n",
    "    if i==which:\n",
    "        pel.color=0xff0000\n",
    "    pel.model_matrix = modelmats_ts[i]\n",
    "    plot += pel\n",
    "\n",
    "#plot_trajs(traj, plot)\n",
    "for ts in trajs_pert_ts:\n",
    "    plot += k3d.line(ts, shader='mesh', width=0.2, color=0x00ff00)\n",
    "\n",
    "plot.display()"
   ]
  },
  {
   "cell_type": "code",
   "execution_count": 131,
   "metadata": {},
   "outputs": [],
   "source": [
    "plot.start_auto_play()"
   ]
  },
  {
   "cell_type": "code",
   "execution_count": 132,
   "metadata": {},
   "outputs": [],
   "source": [
    "plot.stop_auto_play()\n",
    "plot.close()"
   ]
  },
  {
   "cell_type": "code",
   "execution_count": 150,
   "metadata": {},
   "outputs": [],
   "source": [
    "#Poincare hit pattern"
   ]
  },
  {
   "cell_type": "code",
   "execution_count": 111,
   "metadata": {},
   "outputs": [
    {
     "name": "stdout",
     "output_type": "stream",
     "text": [
      "Failed\n"
     ]
    },
    {
     "ename": "UnboundLocalError",
     "evalue": "local variable 'res' referenced before assignment",
     "output_type": "error",
     "traceback": [
      "\u001b[1;31m---------------------------------------------------------------------------\u001b[0m",
      "\u001b[1;31mUnboundLocalError\u001b[0m                         Traceback (most recent call last)",
      "\u001b[1;32m<ipython-input-111-f3a4c9ac58f4>\u001b[0m in \u001b[0;36m<module>\u001b[1;34m\u001b[0m\n\u001b[0;32m     16\u001b[0m \u001b[0mray0\u001b[0m \u001b[1;33m=\u001b[0m \u001b[0mnp\u001b[0m\u001b[1;33m.\u001b[0m\u001b[0mstack\u001b[0m\u001b[1;33m(\u001b[0m\u001b[1;33m[\u001b[0m\u001b[0mnp\u001b[0m\u001b[1;33m.\u001b[0m\u001b[0matleast_2d\u001b[0m\u001b[1;33m(\u001b[0m\u001b[0mr0\u001b[0m\u001b[1;33m)\u001b[0m\u001b[1;33m,\u001b[0m \u001b[0mnp\u001b[0m\u001b[1;33m.\u001b[0m\u001b[0matleast_2d\u001b[0m\u001b[1;33m(\u001b[0m\u001b[0ms0\u001b[0m\u001b[1;33m)\u001b[0m\u001b[1;33m]\u001b[0m\u001b[1;33m,\u001b[0m \u001b[0maxis\u001b[0m\u001b[1;33m=\u001b[0m\u001b[1;36m0\u001b[0m\u001b[1;33m)\u001b[0m\u001b[1;33m\u001b[0m\u001b[1;33m\u001b[0m\u001b[0m\n\u001b[0;32m     17\u001b[0m \u001b[1;33m\u001b[0m\u001b[0m\n\u001b[1;32m---> 18\u001b[1;33m \u001b[0mreig3\u001b[0m\u001b[1;33m,\u001b[0m \u001b[0mtraj_anim3\u001b[0m \u001b[1;33m=\u001b[0m \u001b[0mfind_eigenray_animated\u001b[0m\u001b[1;33m(\u001b[0m\u001b[0melements\u001b[0m\u001b[1;33m,\u001b[0m \u001b[0mray0\u001b[0m\u001b[1;33m,\u001b[0m \u001b[0mlr\u001b[0m\u001b[1;33m=\u001b[0m\u001b[1;36m0.001\u001b[0m\u001b[1;33m,\u001b[0m \u001b[0mNrt\u001b[0m\u001b[1;33m=\u001b[0m\u001b[1;36m3\u001b[0m\u001b[1;33m,\u001b[0m \u001b[0mdebug\u001b[0m\u001b[1;33m=\u001b[0m\u001b[1;32mTrue\u001b[0m\u001b[1;33m,\u001b[0m \u001b[0mmaxiter\u001b[0m\u001b[1;33m=\u001b[0m\u001b[1;36m50\u001b[0m\u001b[1;33m)\u001b[0m\u001b[1;33m\u001b[0m\u001b[1;33m\u001b[0m\u001b[0m\n\u001b[0m\u001b[0;32m     19\u001b[0m \u001b[1;33m\u001b[0m\u001b[0m\n\u001b[0;32m     20\u001b[0m \u001b[0mts3_dicts\u001b[0m \u001b[1;33m=\u001b[0m \u001b[0mtraj_to_timeseries\u001b[0m\u001b[1;33m(\u001b[0m\u001b[0mtraj_anim3\u001b[0m\u001b[1;33m)\u001b[0m\u001b[1;33m\u001b[0m\u001b[1;33m\u001b[0m\u001b[0m\n",
      "\u001b[1;32m~\\Box\\Lukas\\03_Theory\\ABCD\\Raytracing\\raytracing.py\u001b[0m in \u001b[0;36mfind_eigenray_animated\u001b[1;34m(elements, ray0, lr, maxiter, tol, Nrt, debug)\u001b[0m\n\u001b[0;32m    436\u001b[0m             \u001b[1;32mbreak\u001b[0m\u001b[1;33m\u001b[0m\u001b[1;33m\u001b[0m\u001b[0m\n\u001b[0;32m    437\u001b[0m     \u001b[1;32mif\u001b[0m \u001b[0mdebug\u001b[0m\u001b[1;33m:\u001b[0m\u001b[1;33m\u001b[0m\u001b[1;33m\u001b[0m\u001b[0m\n\u001b[1;32m--> 438\u001b[1;33m         \u001b[0mprint\u001b[0m\u001b[1;33m(\u001b[0m\u001b[1;34m\"Finished in {} steps, reached tol {:.3e}\"\u001b[0m\u001b[1;33m.\u001b[0m\u001b[0mformat\u001b[0m\u001b[1;33m(\u001b[0m\u001b[0mi\u001b[0m\u001b[1;33m,\u001b[0m \u001b[0mres\u001b[0m\u001b[1;33m)\u001b[0m\u001b[1;33m)\u001b[0m\u001b[1;33m\u001b[0m\u001b[1;33m\u001b[0m\u001b[0m\n\u001b[0m\u001b[0;32m    439\u001b[0m \u001b[1;33m\u001b[0m\u001b[0m\n\u001b[0;32m    440\u001b[0m     \u001b[1;32mreturn\u001b[0m \u001b[0mrcur\u001b[0m\u001b[1;33m,\u001b[0m \u001b[0mnp\u001b[0m\u001b[1;33m.\u001b[0m\u001b[0mstack\u001b[0m\u001b[1;33m(\u001b[0m\u001b[0mtrajs\u001b[0m\u001b[1;33m,\u001b[0m \u001b[0maxis\u001b[0m\u001b[1;33m=\u001b[0m\u001b[1;36m0\u001b[0m\u001b[1;33m)\u001b[0m\u001b[1;33m\u001b[0m\u001b[1;33m\u001b[0m\u001b[0m\n",
      "\u001b[1;31mUnboundLocalError\u001b[0m: local variable 'res' referenced before assignment"
     ]
    }
   ],
   "source": [
    "elements, _ = LensCav()\n",
    "\n",
    "x0 = 0.5*(elements[0].p + elements[-1].p)\n",
    "n0 = norm(elements[0].p - elements[-1].p)\n",
    "\n",
    "screen = Screen(p=x0, n=-n0, diam=7.75)\n",
    "elements.append(screen)\n",
    "\n",
    "# 27.8, 0.2r0, -2e-2 s0 10 iter\n",
    "#27.77 0.1 -2e-3 10\n",
    "\n",
    "r0 = x0[None,:] + np.array([0,0.001,0])\n",
    "s0 = n0[None,:] + np.array([0,-1e-5*0,0])\n",
    "#s0 = np.broadcast_to(n0, r0.shape)\n",
    "\n",
    "ray0 = np.stack([np.atleast_2d(r0), np.atleast_2d(s0)], axis=0)\n",
    "\n",
    "reig3, traj_anim3 = find_eigenray_animated(elements, ray0, lr=0.001, Nrt=3, debug=True, maxiter=50)\n",
    "\n",
    "ts3_dicts = traj_to_timeseries(traj_anim3)"
   ]
  },
  {
   "cell_type": "code",
   "execution_count": 109,
   "metadata": {},
   "outputs": [
    {
     "name": "stderr",
     "output_type": "stream",
     "text": [
      "C:\\Users\\lukas\\Box\\Lukas\\03_Theory\\ABCD\\Raytracing\\raytracing.py:202: RuntimeWarning: invalid value encountered in sqrt\n",
      "  t12 = np.stack([ds+np.sqrt(dis), ds-np.sqrt(dis)], axis=0) #[2xNrays]\n",
      "C:\\Users\\lukas\\Box\\Lukas\\03_Theory\\ABCD\\Raytracing\\raytracing.py:211: RuntimeWarning: invalid value encountered in less_equal\n",
      "  msk[msk] = (d<=self.intersect_d)\n"
     ]
    },
    {
     "data": {
      "image/png": "[encoded data removed]",
      "text/plain": [
       "<Figure size 432x288 with 2 Axes>"
      ]
     },
     "metadata": {
      "needs_background": "light"
     },
     "output_type": "display_data"
    }
   ],
   "source": [
    "#traj_hit = propagate_system(elements, reig3, Nrt=2000)[:,0,:,:] #only positions\n",
    "#hit_scr = traj_hit[9::9,0,:]\n",
    "traj_hit = propagate_system_at(elements, reig3, which=8, Nrt=2000)[:,0,:,:] #only positions\n",
    "hit_scr = traj_hit[:,0,:]\n",
    "hit_idx = np.arange(hit_scr.shape[0])\n",
    "\n",
    "plt.figure()\n",
    "plt.scatter(hit_scr[:,1], hit_scr[:,2], c=hit_idx, cmap='jet')\n",
    "plt.title('Poincare hit pattern (screen)')\n",
    "plt.xlabel('x [mm]')\n",
    "plt.ylabel('y [mm]')\n",
    "plt.colorbar()\n",
    "plt.show()"
   ]
  },
  {
   "cell_type": "code",
   "execution_count": 243,
   "metadata": {},
   "outputs": [
    {
     "data": {
      "application/vnd.jupyter.widget-view+json": {
       "model_id": "5f0da1f91948416e8796bf111afb2c0c",
       "version_major": 2,
       "version_minor": 0
      },
      "text/plain": [
       "Output()"
      ]
     },
     "metadata": {},
     "output_type": "display_data"
    }
   ],
   "source": [
    "plot = k3d.plot(camera_auto_fit=True, antialias=True)\n",
    "\n",
    "for el in elements:\n",
    "    plot += el.plot(opacity=0.4)\n",
    "\n",
    "for ts in ts3_dicts:\n",
    "    plot += k3d.line(ts, shader='mesh', width=0.2, color=0x00ff00)\n",
    "\n",
    "plot.display()\n",
    "plot.start_auto_play()"
   ]
  },
  {
   "cell_type": "code",
   "execution_count": 96,
   "metadata": {},
   "outputs": [],
   "source": [
    "%matplotlib inline"
   ]
  },
  {
   "cell_type": "code",
   "execution_count": null,
   "metadata": {},
   "outputs": [],
   "source": []
  }
 ],
 "metadata": {
  "kernelspec": {
   "display_name": "Python 3",
   "language": "python",
   "name": "python3"
  },
  "language_info": {
   "codemirror_mode": {
    "name": "ipython",
    "version": 3
   },
   "file_extension": ".py",
   "mimetype": "text/x-python",
   "name": "python",
   "nbconvert_exporter": "python",
   "pygments_lexer": "ipython3",
   "version": "3.7.6"
  }
 },
 "nbformat": 4,
 "nbformat_minor": 4
}
