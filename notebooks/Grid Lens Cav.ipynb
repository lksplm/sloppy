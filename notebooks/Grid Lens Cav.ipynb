{
 "cells": [
  {
   "cell_type": "code",
   "execution_count": 1,
   "metadata": {},
   "outputs": [],
   "source": [
    "%load_ext autoreload\n",
    "%autoreload 2"
   ]
  },
  {
   "cell_type": "code",
   "execution_count": 2,
   "metadata": {},
   "outputs": [],
   "source": [
    "%matplotlib widget\n",
    "import matplotlib.pyplot as plt\n",
    "from ipywidgets import *\n",
    "import numpy as np\n",
    "import k3d\n",
    "import matplotlib.pyplot as plt\n",
    "from sloppy.optic import *\n",
    "from sloppy.raytracing import *\n",
    "from sloppy.abcd import *\n",
    "from sloppy.utils import *\n",
    "from sloppy.tools import *"
   ]
  },
  {
   "cell_type": "code",
   "execution_count": 3,
   "metadata": {},
   "outputs": [],
   "source": [
    "from cavities import *"
   ]
  },
  {
   "cell_type": "code",
   "execution_count": 4,
   "metadata": {},
   "outputs": [
    {
     "name": "stdout",
     "output_type": "stream",
     "text": [
      "     fun: 0.015683535957800906\n",
      " message: 'Solution found.'\n",
      "    nfev: 6\n",
      "  status: 0\n",
      " success: True\n",
      "       x: 21.52449773968428\n"
     ]
    }
   ],
   "source": [
    "cavfct = LensCav\n",
    "parname = 'lens_dist'\n",
    "res = degeneracy_length(cavfct, parname, 1e-3)\n",
    "Ldeg = res.x\n",
    "print(res)\n",
    "elements = cavfct(**{parname: Ldeg})\n",
    "sys = RaySystem(elements)\n",
    "system = sys.abcd\n",
    "mu1, mu2 = system.q"
   ]
  },
  {
   "cell_type": "code",
   "execution_count": 5,
   "metadata": {},
   "outputs": [],
   "source": [
    "Npt = 20\n",
    "a = 0.5\n",
    "x = np.linspace(-a, a, Npt)\n",
    "coords = np.meshgrid(x, x)\n",
    "\n",
    "xy = np.stack(coords, axis=-1).reshape((-1,2))\n",
    "#pxy = np.zeros_like(xy)\n",
    "pxy = np.broadcast_to(np.array([0, 0]), xy.shape)\n",
    "mu = np.concatenate((xy, pxy), axis=1)\n",
    "ray = sys.screen.eigenvectors_to_rays(mu)"
   ]
  },
  {
   "cell_type": "code",
   "execution_count": 6,
   "metadata": {},
   "outputs": [],
   "source": [
    "traj = sys.propagate(ray, at_screen=True)\n",
    "pos = sys.screen.r_to_screen_coords(traj[-1,0,:,:])"
   ]
  },
  {
   "cell_type": "code",
   "execution_count": 7,
   "metadata": {},
   "outputs": [
    {
     "data": {
      "application/vnd.jupyter.widget-view+json": {
       "model_id": "e2c41b590d4c4c9d8073571c3b553c85",
       "version_major": 2,
       "version_minor": 0
      },
      "text/plain": [
       "Canvas(toolbar=Toolbar(toolitems=[('Home', 'Reset original view', 'home', 'home'), ('Back', 'Back to previous …"
      ]
     },
     "metadata": {},
     "output_type": "display_data"
    },
    {
     "data": {
      "text/plain": [
       "<matplotlib.collections.PathCollection at 0x1b455571608>"
      ]
     },
     "execution_count": 7,
     "metadata": {},
     "output_type": "execute_result"
    }
   ],
   "source": [
    "plt.figure()\n",
    "plt.scatter(xy[:,0], xy[:,1], s=2.)\n",
    "plt.scatter(pos[:,0], pos[:,1], s=2.)"
   ]
  },
  {
   "cell_type": "code",
   "execution_count": 10,
   "metadata": {},
   "outputs": [
    {
     "data": {
      "application/vnd.jupyter.widget-view+json": {
       "model_id": "0f7781a9a06244b199eb6af61e5f5827",
       "version_major": 2,
       "version_minor": 0
      },
      "text/plain": [
       "Canvas(toolbar=Toolbar(toolitems=[('Home', 'Reset original view', 'home', 'home'), ('Back', 'Back to previous …"
      ]
     },
     "metadata": {},
     "output_type": "display_data"
    },
    {
     "data": {
      "application/vnd.jupyter.widget-view+json": {
       "model_id": "5aad83f712354d9289f508a22b1abd06",
       "version_major": 2,
       "version_minor": 0
      },
      "text/plain": [
       "interactive(children=(FloatSlider(value=0.0, description='dl', max=1.0, min=-1.0, step=0.001), FloatSlider(val…"
      ]
     },
     "metadata": {},
     "output_type": "display_data"
    }
   ],
   "source": [
    "fig, ax = plt.subplots(ncols=1, figsize=(6, 6))\n",
    "ms = 8.\n",
    "linea = plt.scatter(xy[:,0], xy[:,1], s=2.)\n",
    "lineb = plt.scatter(pos[:,0], pos[:,1], s=2.)\n",
    "plt.xlabel('x [mm]')\n",
    "plt.ylabel('y [mm]')\n",
    "\n",
    "cavfct = LensCav\n",
    "parname = 'lens_dist'\n",
    "\n",
    "def update_xygrid(dl=0.0, a=0.1, px=1e-2, py=-1e-3, Nrt=3, Npts=20, **kwargs):\n",
    "    res = degeneracy_length(cavfct, parname, 1e-3)\n",
    "    Ldeg = res.x\n",
    "    print(res)\n",
    "    elements = cavfct(**{parname: Ldeg+dl})\n",
    "    sys = RaySystem(elements)\n",
    "    \n",
    "    x = np.linspace(-a, a, Npts)\n",
    "    coords = np.meshgrid(x, x)\n",
    "    xy = np.stack(coords, axis=-1).reshape((-1,2))\n",
    "    pxy = np.broadcast_to(np.array([px, -py]), xy.shape)\n",
    "    mu = np.concatenate((xy, pxy), axis=1)\n",
    "    ray = sys.screen.eigenvectors_to_rays(mu)\n",
    "    traj = sys.propagate(ray, at_screen=True)\n",
    "    pos = sys.screen.r_to_screen_coords(traj[-1,0,:,:])\n",
    "    linea.set_offsets(xy)\n",
    "    lineb.set_offsets(pos)\n",
    "  \n",
    "    #ax.relim()\n",
    "    #ax.autoscale_view()\n",
    "    fig.canvas.draw_idle()\n",
    "        \n",
    "interactive(update_xygrid, dl=(-1, 1, 1e-3), a = (0,1,1e-2),\\\n",
    "            px=(-0.1,0.1,1e-3), py=(-0.1,0.1,1e-3), Nrt=(0,10,1), Npts=(10, 100, 10))"
   ]
  },
  {
   "cell_type": "code",
   "execution_count": 31,
   "metadata": {},
   "outputs": [
    {
     "data": {
      "application/vnd.jupyter.widget-view+json": {
       "model_id": "75528277ca774c7f93fb6cf073339245",
       "version_major": 2,
       "version_minor": 0
      },
      "text/plain": [
       "Canvas(toolbar=Toolbar(toolitems=[('Home', 'Reset original view', 'home', 'home'), ('Back', 'Back to previous …"
      ]
     },
     "metadata": {},
     "output_type": "display_data"
    },
    {
     "data": {
      "application/vnd.jupyter.widget-view+json": {
       "model_id": "8f54e8129a104e80834d9e525ebdb624",
       "version_major": 2,
       "version_minor": 0
      },
      "text/plain": [
       "interactive(children=(FloatSlider(value=0.0, description='dl', max=1.0, min=-1.0, step=0.001), FloatSlider(val…"
      ]
     },
     "metadata": {},
     "output_type": "display_data"
    }
   ],
   "source": [
    "fig, ax = plt.subplots(ncols=1, figsize=(6, 6))\n",
    "ms = 8.\n",
    "linea = plt.scatter(xy[:,0], xy[:,1], s=2.)\n",
    "lineb = plt.scatter(pos[:,0], pos[:,1], s=2.)\n",
    "plt.xlabel('px [mm]')\n",
    "plt.ylabel('py [mm]')\n",
    "\n",
    "cavfct = LensCav\n",
    "parname = 'lens_dist'\n",
    "\n",
    "def update_xygrid(dl=0.0, a=5e-2, x=0.004, y=-0.004, Nrt=3, Npts=20, **kwargs):\n",
    "    res = degeneracy_length(cavfct, parname, 1e-3)\n",
    "    Ldeg = res.x\n",
    "    elements = cavfct(**{parname: Ldeg+dl})\n",
    "    sys = RaySystem(elements)\n",
    "    \n",
    "    xx = np.linspace(-a*1e-1, a*1e-1, Npts)\n",
    "    coords = np.meshgrid(xx, xx)\n",
    "    pxy = np.stack(coords, axis=-1).reshape((-1,2))\n",
    "    xy = np.broadcast_to(np.array([x, y]), pxy.shape)\n",
    "    mu = np.concatenate((xy, pxy), axis=1)\n",
    "    ray = sys.screen.eigenvectors_to_rays(mu)\n",
    "    traj = sys.propagate(ray, Nrt=Nrt, at_screen=True)\n",
    "    pos = sys.screen.r_to_screen_coords(traj[-1,0,:,:])\n",
    "    linea.set_offsets(pxy)\n",
    "    lineb.set_offsets(pos)\n",
    "    plt.xlim(1.5*np.nanmin(pxy[:,0]), 1.5*np.nanmax(pxy[:,0]))\n",
    "    plt.ylim(1.5*np.nanmin(pxy[:,1]), 1.5*np.nanmax(pxy[:,1]))\n",
    "    fig.canvas.draw_idle()\n",
    "interactive(update_xygrid, dl=(-1, 1, 1e-3), a = (0,1,1e-3),\\\n",
    "            x=(-0.1,0.1,1e-3), y=(-0.1,0.1,1e-3), Nrt=(0,10,1), Npts=(10, 100, 10))"
   ]
  },
  {
   "cell_type": "code",
   "execution_count": null,
   "metadata": {},
   "outputs": [],
   "source": [
    "res = degeneracy_length(cavfct, parname, 1e-3)\n",
    "Ldeg = res.x\n",
    "elements = cavfct(**{parname: Ldeg+dl})\n",
    "sys = RaySystem(elements)\n",
    "\n",
    "a = 0.004\n",
    "pa = 0.006\n",
    "xx = np.linspace(-a*1e-1, a*1e-1, Npts)\n",
    "coords = np.meshgrid(xx, xx)\n",
    "pxy = np.stack(coords, axis=-1).reshape((-1,2))\n",
    "xy = np.broadcast_to(np.array([x, y]), pxy.shape)\n",
    "mu = np.concatenate((xy, pxy), axis=1)\n",
    "ray = sys.screen.eigenvectors_to_rays(mu)\n",
    "traj = sys.propagate(ray, Nrt=Nrt, at_screen=True)\n",
    "pos = sys.screen.r_to_screen_coords(traj[-1,0,:,:])\n",
    "linea.set_offsets(pxy)\n",
    "lineb.set_offsets(pos)\n",
    "plt.xlim(1.5*np.nanmin(pxy[:,0]), 1.5*np.nanmax(pxy[:,0]))\n",
    "plt.ylim(1.5*np.nanmin(pxy[:,1]), 1.5*np.nanmax(pxy[:,1]))"
   ]
  },
  {
   "cell_type": "code",
   "execution_count": 35,
   "metadata": {},
   "outputs": [
    {
     "data": {
      "application/vnd.jupyter.widget-view+json": {
       "model_id": "b854ade2eb3c4a4d92da07ef1596e793",
       "version_major": 2,
       "version_minor": 0
      },
      "text/plain": [
       "Canvas(toolbar=Toolbar(toolitems=[('Home', 'Reset original view', 'home', 'home'), ('Back', 'Back to previous …"
      ]
     },
     "metadata": {},
     "output_type": "display_data"
    },
    {
     "data": {
      "application/vnd.jupyter.widget-view+json": {
       "model_id": "c310f7dc848d4a3eace9e24cf06f1b5c",
       "version_major": 2,
       "version_minor": 0
      },
      "text/plain": [
       "interactive(children=(FloatSlider(value=27.768298126226423, description='dl', max=28.768298126226423, min=26.7…"
      ]
     },
     "metadata": {},
     "output_type": "display_data"
    }
   ],
   "source": [
    "fig, ax = plt.subplots(ncols=1, figsize=(6, 6))\n",
    "ms = 8.\n",
    "linea = plt.scatter(xy[:,0], xy[:,1], s=1., marker='.')\n",
    "lineb = plt.scatter(pos[:,0], pos[:,1], s=2.)\n",
    "plt.xlabel('x [mm]')\n",
    "plt.ylabel('y [mm]')\n",
    "\n",
    "def update_xygrid6(dl=Ldeg, dz=1.5825, a=0.1, px=1e-2, py=-1e-3, Nrt=1, Npts=20, **kwargs):\n",
    "    elements, _ = SixMirror(dx=dl, dzF=dz)\n",
    "    sys = RaySystem(elements)\n",
    "    \n",
    "    x = np.linspace(-a, a, Npts)\n",
    "    coords = np.meshgrid(x, x)\n",
    "    xy = np.stack(coords, axis=-1).reshape((-1,2))\n",
    "    pxy = np.broadcast_to(np.array([px, -py]), xy.shape)\n",
    "    mu = np.concatenate((xy, pxy), axis=1)\n",
    "    ray = sys.screen.eigenvectors_to_rays(mu)\n",
    "    traj = sys.propagate(ray, at_screen=True, Nrt=Nrt)\n",
    "    pos = sys.screen.r_to_screen_coords(traj[-1,0,:,:])\n",
    "    linea.set_offsets(xy)\n",
    "    lineb.set_offsets(pos)\n",
    "  \n",
    "    ax.relim()\n",
    "    #ax.autoscale_view()\n",
    "    fig.canvas.draw_idle()\n",
    "        \n",
    "interactive(update_xygrid6, dl=(Ldeg-1, Ldeg+1, 1e-2), dz=(0, 1.5825, 1e-2), a = (0,1,1e-2),\\\n",
    "            px=(-0.1,0.1,1e-3), py=(-0.1,0.1,1e-3), Nrt=(1,11,1), Npts=(10, 100, 10))"
   ]
  },
  {
   "cell_type": "code",
   "execution_count": 29,
   "metadata": {},
   "outputs": [],
   "source": [
    "plt.close(\"all\")"
   ]
  },
  {
   "cell_type": "code",
   "execution_count": null,
   "metadata": {},
   "outputs": [],
   "source": []
  }
 ],
 "metadata": {
  "kernelspec": {
   "display_name": "Python 3",
   "language": "python",
   "name": "python3"
  },
  "language_info": {
   "codemirror_mode": {
    "name": "ipython",
    "version": 3
   },
   "file_extension": ".py",
   "mimetype": "text/x-python",
   "name": "python",
   "nbconvert_exporter": "python",
   "pygments_lexer": "ipython3",
   "version": "3.7.6"
  }
 },
 "nbformat": 4,
 "nbformat_minor": 4
}
