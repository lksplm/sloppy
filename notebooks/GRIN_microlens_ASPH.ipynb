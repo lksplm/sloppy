{
 "cells": [
  {
   "cell_type": "code",
   "execution_count": 1,
   "metadata": {
    "editable": true,
    "slideshow": {
     "slide_type": ""
    },
    "tags": []
   },
   "outputs": [],
   "source": [
    "%load_ext autoreload\n",
    "%autoreload 2"
   ]
  },
  {
   "cell_type": "code",
   "execution_count": 2,
   "metadata": {},
   "outputs": [],
   "source": [
    "%matplotlib widget\n",
    "import matplotlib.pyplot as plt\n",
    "from ipywidgets import *\n",
    "import numpy as np\n",
    "import k3d\n",
    "import matplotlib.pyplot as plt\n",
    "from sloppy.optic import *\n",
    "from sloppy.raytracing import *\n",
    "from sloppy.abcd import *\n",
    "from sloppy.utils import *\n",
    "from sloppy.tools import *"
   ]
  },
  {
   "cell_type": "code",
   "execution_count": 3,
   "metadata": {
    "jupyter": {
     "source_hidden": true
    }
   },
   "outputs": [],
   "source": [
    "def LensCav(fgrin=1.5, flong=100.0, eps_grin=0.0, eps_long=-4.0, lens_diam=25.4, grin_diam=3.0, grin_thick=1.5, lens_thick=6.0):\n",
    "\n",
    "    p_grin_f = fgrin + eps_grin\n",
    "    p_grin_b = p_grin_f + grin_thick\n",
    "    p_long_f = p_grin_b + fgrin + flong + eps_long\n",
    "    p_long_b = p_long_f + lens_thick\n",
    "    p_mirr = p_long_b + flong\n",
    "    \n",
    "    p0 = np.array([0,0,p_grin_f])\n",
    "    p1 = np.array([0,0,p_grin_b])\n",
    "    p2 = np.array([0,0,p_long_f])\n",
    "    p3 = np.array([0,0,p_long_b])\n",
    "    p4 = np.array([0,0,p_mirr])\n",
    "\n",
    "    e = np.array([0,0,5.0])*0\n",
    "    \n",
    "    pm0 = np.array([0,0,-p_grin_f])\n",
    "    pm1 = np.array([0,0,-p_grin_b])\n",
    "    pm2 = np.array([0,0,-p_long_f])\n",
    "    pm3 = np.array([0,0,-p_long_b])\n",
    "    pm4 = np.array([0,0,-p_mirr])\n",
    "\n",
    "    \n",
    "    \n",
    "    ii = lens_diam\n",
    "    hi = 12.7\n",
    "    qi=7.75\n",
    "    ng = 1.4537\n",
    "\n",
    "    Rgrin = (ng-1)*fgrin\n",
    "    Rlong = (ng-1)*flong\n",
    "    \n",
    "    nz = (0., 0. ,-1.0)\n",
    "    nzm = (0., 0. ,1.0)\n",
    "    axz = (-1, 0, 0)\n",
    "    axzm = (1, 0, 0)\n",
    "\n",
    "    screen = Screen(n=nzm, ax=axzm)\n",
    "    \n",
    "    # negative sign of first cuved surface for abcd matrix\n",
    "    elements = [screen,\n",
    "                Glass(p=p0, n=nz, ax=axz, diameter=grin_diam, n2=ng),\n",
    "                CurvedGlass(p=p1, n=nz, ax=axz, diameter=grin_diam, R=-Rgrin, curv='CC', n1=ng),\n",
    "                Glass(p=p2, n=nz, ax=axz, diameter=ii, n2=ng),\n",
    "                CurvedGlass(p=p3, n=nz, ax=axz, diameter=ii, R=-Rlong, curv='CC', n1=ng),\n",
    "                Mirror(p=p4, n=nz, ax=axz, diameter=ii),\n",
    "                #backwards pass\n",
    "                CurvedGlass(p=p3+e, n=nzm, ax=axzm, diameter=ii, R=Rlong, curv='CX', n2=ng),\n",
    "                Glass(p=p2+e, n=nzm, ax=axzm, diameter=ii, n1=ng),\n",
    "                CurvedGlass(p=p1+e, n=nzm, ax=axzm, diameter=grin_diam, R=Rgrin, curv='CX', n2=ng),\n",
    "                Glass(p=p0+e, n=nzm, ax=axzm, diameter=grin_diam, n1=ng),\n",
    "                #left half\n",
    "                Glass(p=pm0, n=nzm, ax=axzm, diameter=grin_diam, n2=ng),\n",
    "                CurvedGlass(p=pm1, n=nzm, ax=axzm, diameter=grin_diam, R=-Rgrin, curv='CC', n1=ng),\n",
    "                Glass(p=pm2, n=nzm, ax=axzm, diameter=ii, n2=ng),\n",
    "                CurvedGlass(p=pm3, n=nzm, ax=axzm, diameter=ii, R=-Rlong, curv='CC', n1=ng),\n",
    "                Mirror(p=pm4, n=nzm, ax=axzm, diameter=ii),\n",
    "                #backwards pass\n",
    "                CurvedGlass(p=pm3+e, n=nz, ax=axz, diameter=ii, R=Rlong, curv='CX', n2=ng),\n",
    "                Glass(p=pm2+e, n=nz, ax=axz, diameter=ii, n1=ng),\n",
    "                CurvedGlass(p=pm1+e, n=nz, ax=axz, diameter=grin_diam, R=Rgrin, curv='CX', n2=ng),\n",
    "                Glass(p=pm0+e, n=nz, ax=axz, diameter=grin_diam, n1=ng),]\n",
    "\n",
    "    return elements"
   ]
  },
  {
   "cell_type": "code",
   "execution_count": 4,
   "metadata": {
    "jupyter": {
     "source_hidden": true
    }
   },
   "outputs": [],
   "source": [
    "def LensCavAsph(flong=100.0, eps_grin=0.0, eps_long=-4.0, eps_mirr=-4.0, lens_diam=25.4, grin_diam=2.4, grin_thick=1.020, lens_thick=6.0):\n",
    "    \n",
    "    wdgrin = 0.8\n",
    "    fgrin=1.5\n",
    "    \n",
    "    p_grin_f = wdgrin + eps_grin\n",
    "    p_grin_b = p_grin_f + grin_thick\n",
    "    p_long_f = p_grin_b + fgrin + flong + eps_long\n",
    "    p_long_b = p_long_f + lens_thick\n",
    "    p_mirr = p_long_b + flong + eps_mirr\n",
    "    \n",
    "    p0 = np.array([0,0,p_grin_f])\n",
    "    p1 = np.array([0,0,p_grin_b])\n",
    "    p2 = np.array([0,0,p_long_f])\n",
    "    p3 = np.array([0,0,p_long_b])\n",
    "    p4 = np.array([0,0,p_mirr])\n",
    "\n",
    "    e = np.array([0,0,5.0])*0\n",
    "    \n",
    "    pm0 = np.array([0,0,-p_grin_f])\n",
    "    pm1 = np.array([0,0,-p_grin_b])\n",
    "    pm2 = np.array([0,0,-p_long_f])\n",
    "    pm3 = np.array([0,0,-p_long_b])\n",
    "    pm4 = np.array([0,0,-p_mirr])\n",
    "\n",
    "    \n",
    "    \n",
    "    ii = lens_diam\n",
    "    hi = 12.7\n",
    "    qi=7.75\n",
    "    ng = 1.4537\n",
    "\n",
    "    # Rgrin = (ng-1)*fgrin\n",
    "    Rlong = (ng-1)*flong\n",
    "    # now C140 instead of \"spherical\" GRIN lens\n",
    "    Rgrin = -0.840660\n",
    "    k=-0.963070\n",
    "    An=[-9.476566e-2, -2.790461e-2, -5.415580e-3, -3.553653e-3]\n",
    "    \n",
    "    coeff = np.array([Rgrin, k,] + An) #these coefficients go _away_ from the normal\n",
    "    coeffm = coeff*-1 #these coefficients go _to_ the normal\n",
    "    coeffm[1] = k\n",
    "    \n",
    "    nz = (0., 0. ,-1.0)\n",
    "    nzm = (0., 0. ,1.0)\n",
    "    axz = (-1, 0, 0)\n",
    "    axzm = (1, 0, 0)\n",
    "\n",
    "    screen = Screen(n=nzm, ax=axzm)\n",
    "    \n",
    "    # negative sign of first cuved surface for abcd matrix\n",
    "    elements = [screen,\n",
    "                Glass(p=p0, n=nz, ax=axz, diameter=grin_diam, n2=ng),\n",
    "                #CurvedGlass(p=p1, n=nz, ax=axz, diameter=grin_diam, R=-Rgrin, curv='CC', n1=ng),\n",
    "                ThorlabsAsphere(p=p1, n=nz, ax=axz, diameter=grin_diam, R=Rgrin, n1=ng, coef=coeffm), #R=-Rgrin,\n",
    "                Glass(p=p2, n=nz, ax=axz, diameter=ii, n2=ng),\n",
    "                CurvedGlass(p=p3, n=nz, ax=axz, diameter=ii, R=-Rlong, curv='CC', n1=ng),\n",
    "                Mirror(p=p4, n=nz, ax=axz, diameter=ii),\n",
    "                #backwards pass\n",
    "                CurvedGlass(p=p3+e, n=nzm, ax=axzm, diameter=ii, R=Rlong, curv='CX', n2=ng),\n",
    "                Glass(p=p2+e, n=nzm, ax=axzm, diameter=ii, n1=ng),\n",
    "                #CurvedGlass(p=p1+e, n=nzm, ax=axzm, diameter=grin_diam, R=Rgrin, curv='CX', n2=ng),\n",
    "                ThorlabsAsphere(p=p1+e, n=nzm, ax=axzm, diameter=grin_diam, R=-Rgrin, n2=ng, coef=coeff), #R=-Rgrin,\n",
    "                Glass(p=p0+e, n=nzm, ax=axzm, diameter=grin_diam, n1=ng),\n",
    "                #left half\n",
    "                Glass(p=pm0, n=nzm, ax=axzm, diameter=grin_diam, n2=ng),\n",
    "                #CurvedGlass(p=pm1, n=nzm, ax=axzm, diameter=grin_diam, R=-Rgrin, curv='CC', n1=ng),\n",
    "                ThorlabsAsphere(p=pm1, n=nzm, ax=axzm, diameter=grin_diam, R=Rgrin, n1=ng, coef=coeffm),\n",
    "                Glass(p=pm2, n=nzm, ax=axzm, diameter=ii, n2=ng),\n",
    "                CurvedGlass(p=pm3, n=nzm, ax=axzm, diameter=ii, R=-Rlong, curv='CC', n1=ng),\n",
    "                Mirror(p=pm4, n=nzm, ax=axzm, diameter=ii),\n",
    "                #backwards pass\n",
    "                CurvedGlass(p=pm3+e, n=nz, ax=axz, diameter=ii, R=Rlong, curv='CX', n2=ng),\n",
    "                Glass(p=pm2+e, n=nz, ax=axz, diameter=ii, n1=ng),\n",
    "                #CurvedGlass(p=pm1+e, n=nz, ax=axz, diameter=grin_diam, R=Rgrin, curv='CX', n2=ng),\n",
    "                ThorlabsAsphere(p=pm1+e, n=nz, ax=axz, diameter=grin_diam, R=-Rgrin, n2=ng, coef=coeff),\n",
    "                Glass(p=pm0+e, n=nz, ax=axz, diameter=grin_diam, n1=ng),]\n",
    "\n",
    "    return elements"
   ]
  },
  {
   "cell_type": "code",
   "execution_count": 12,
   "metadata": {},
   "outputs": [],
   "source": [
    "def LensCavML(flong=75.0, fmla=6.0, eps_grin=0.0, eps_long=-4.0, eps_mirr=0.0, eps_mla=0.0, lens_diam=25.4, grin_diam=2.4, grin_thick=1.020, lens_thick=6.0, mla_thick=2.0):\n",
    "    \n",
    "    wdgrin = 0.8\n",
    "    fgrin=1.5\n",
    "    \n",
    "    p_grin_f = wdgrin + eps_grin\n",
    "    p_grin_b = p_grin_f + grin_thick\n",
    "    p_long_f = p_grin_b + fgrin + flong + eps_long\n",
    "    p_long_b = p_long_f + lens_thick\n",
    "    p_mirr = p_long_b + flong + eps_mirr\n",
    "    p_mla_f = p_long_b + flong + eps_mla\n",
    "    p_mla_b = p_mla_f + mla_thick \n",
    "    p_mirr_mla = p_mla_b + fmla + eps_mirr - eps_mla\n",
    "    \n",
    "    p0 = np.array([0,0,p_grin_f])\n",
    "    p1 = np.array([0,0,p_grin_b])\n",
    "    p2 = np.array([0,0,p_long_f])\n",
    "    p3 = np.array([0,0,p_long_b])\n",
    "    p3b = np.array([0,0,p_mla_f])\n",
    "    p3c = np.array([0,0,p_mla_b])\n",
    "    p4 = np.array([0,0,p_mirr_mla])\n",
    "\n",
    "    e = np.array([0,0,5.0])*0\n",
    "    \n",
    "    pm0 = np.array([0,0,-p_grin_f])\n",
    "    pm1 = np.array([0,0,-p_grin_b])\n",
    "    pm2 = np.array([0,0,-p_long_f])\n",
    "    pm3 = np.array([0,0,-p_long_b])\n",
    "    pm4 = np.array([0,0,-p_mirr])\n",
    "\n",
    "    \n",
    "    \n",
    "    ii = lens_diam\n",
    "    hi = 12.7\n",
    "    qi=7.75\n",
    "    ng = 1.4537\n",
    "\n",
    "    Rmla = (ng-1)*fmla\n",
    "    Rlong = (ng-1)*flong\n",
    "    # now C140 instead of \"spherical\" GRIN lens\n",
    "    Rgrin = -0.840660\n",
    "    k=-0.963070\n",
    "    An=[-9.476566e-2, -2.790461e-2, -5.415580e-3, -3.553653e-3]\n",
    "    \n",
    "    coeff = np.array([Rgrin, k,] + An) #these coefficients go _away_ from the normal\n",
    "    coeffm = coeff*-1 #these coefficients go _to_ the normal\n",
    "    coeffm[1] = k\n",
    "    \n",
    "    nz = (0., 0. ,-1.0)\n",
    "    nzm = (0., 0. ,1.0)\n",
    "    axz = (-1, 0, 0)\n",
    "    axzm = (1, 0, 0)\n",
    "\n",
    "    screen = Screen(n=nzm, ax=axzm)\n",
    "    \n",
    "    # negative sign of first cuved surface for abcd matrix\n",
    "    elements = [screen,\n",
    "                Glass(p=p0, n=nz, ax=axz, diameter=grin_diam, n2=ng),\n",
    "                ThorlabsAsphere(p=p1, n=nz, ax=axz, diameter=grin_diam, R=Rgrin, n1=ng, coef=coeffm), #R=-Rgrin,\n",
    "                Glass(p=p2, n=nz, ax=axz, diameter=ii, n2=ng),\n",
    "                CurvedGlass(p=p3, n=nz, ax=axz, diameter=ii, R=-Rlong, curv='CC', n1=ng),\n",
    "                Glass(p=p3b, n=nz, ax=axz, diameter=ii, n2=ng),\n",
    "                CurvedGlass(p=p3c, n=nz, ax=axz, diameter=ii, R=-Rmla, curv='CC', n1=ng),\n",
    "                Mirror(p=p4, n=nz, ax=axz, diameter=ii),\n",
    "                #backwards pass\n",
    "                CurvedGlass(p=p3c+e, n=nzm, ax=axzm, diameter=ii, R=Rmla, curv='CX', n2=ng),\n",
    "                Glass(p=p3b+e, n=nzm, ax=axzm, diameter=ii, n1=ng),\n",
    "                \n",
    "                CurvedGlass(p=p3+e, n=nzm, ax=axzm, diameter=ii, R=Rlong, curv='CX', n2=ng),\n",
    "                Glass(p=p2+e, n=nzm, ax=axzm, diameter=ii, n1=ng),\n",
    "                ThorlabsAsphere(p=p1+e, n=nzm, ax=axzm, diameter=grin_diam, R=-Rgrin, n2=ng, coef=coeff), #R=-Rgrin,\n",
    "                Glass(p=p0+e, n=nzm, ax=axzm, diameter=grin_diam, n1=ng),\n",
    "                #left half\n",
    "                Glass(p=pm0, n=nzm, ax=axzm, diameter=grin_diam, n2=ng),\n",
    "                #CurvedGlass(p=pm1, n=nzm, ax=axzm, diameter=grin_diam, R=-Rgrin, curv='CC', n1=ng),\n",
    "                ThorlabsAsphere(p=pm1, n=nzm, ax=axzm, diameter=grin_diam, R=Rgrin, n1=ng, coef=coeffm),\n",
    "                Glass(p=pm2, n=nzm, ax=axzm, diameter=ii, n2=ng),\n",
    "                CurvedGlass(p=pm3, n=nzm, ax=axzm, diameter=ii, R=-Rlong, curv='CC', n1=ng),\n",
    "                Mirror(p=pm4, n=nzm, ax=axzm, diameter=ii),\n",
    "                #backwards pass\n",
    "                CurvedGlass(p=pm3+e, n=nz, ax=axz, diameter=ii, R=Rlong, curv='CX', n2=ng),\n",
    "                Glass(p=pm2+e, n=nz, ax=axz, diameter=ii, n1=ng),\n",
    "                #CurvedGlass(p=pm1+e, n=nz, ax=axz, diameter=grin_diam, R=Rgrin, curv='CX', n2=ng),\n",
    "                ThorlabsAsphere(p=pm1+e, n=nz, ax=axz, diameter=grin_diam, R=-Rgrin, n2=ng, coef=coeff),\n",
    "                Glass(p=pm0+e, n=nz, ax=axz, diameter=grin_diam, n1=ng),]\n",
    "\n",
    "    return elements"
   ]
  },
  {
   "cell_type": "code",
   "execution_count": 13,
   "metadata": {},
   "outputs": [],
   "source": [
    "elements = LensCavML(eps_long=-4.2, eps_grin=0)\n",
    "screen = elements[0]\n",
    "sys = RaySystem(elements, add_screen=False)\n",
    "sys.screen = screen\n",
    "\n",
    "# mu = np.array([0.5, 0., 0., 0.])\n",
    "mu = np.stack([[0.0, 0., sx, 0.] for sx in np.linspace(-0.1, 0.1, 7)*0.05], axis=0)\n",
    "# mu = np.stack([[xx, 0., 0., 0.] for xx in np.linspace(-0.1, 0.1, 7)*0.1], axis=0)\n",
    "ray = sys.screen.eigenvectors_to_rays(mu)\n",
    "\n",
    "# ray = sys.screen.eigenvectors_to_rays(system.q)"
   ]
  },
  {
   "cell_type": "code",
   "execution_count": 14,
   "metadata": {},
   "outputs": [],
   "source": [
    "traj = sys.propagate(ray, at_screen=False, clip=False)"
   ]
  },
  {
   "cell_type": "code",
   "execution_count": 15,
   "metadata": {},
   "outputs": [
    {
     "data": {
      "application/vnd.jupyter.widget-view+json": {
       "model_id": "1c1992577838434398858b482d72185e",
       "version_major": 2,
       "version_minor": 0
      },
      "text/plain": [
       "Canvas(toolbar=Toolbar(toolitems=[('Home', 'Reset original view', 'home', 'home'), ('Back', 'Back to previous …"
      ]
     },
     "metadata": {},
     "output_type": "display_data"
    }
   ],
   "source": [
    "plt.figure(figsize=(12, 3))\n",
    "for i in range(traj.shape[2]):\n",
    "    plt.plot(traj[:, 0, i, 2], traj[:, 0, i, 0])\n",
    "plt.show()"
   ]
  },
  {
   "cell_type": "code",
   "execution_count": 18,
   "metadata": {},
   "outputs": [
    {
     "name": "stderr",
     "output_type": "stream",
     "text": [
      "C:\\Users\\lukas\\.conda\\envs\\sloppy\\lib\\site-packages\\traittypes\\traittypes.py:101: UserWarning: Given trait value dtype \"float64\" does not match required type \"float32\". A coerced copy has been created.\n",
      "  np.dtype(self.dtype).name))\n",
      "c:\\users\\lukas\\documents\\phd\\sloppy\\src\\sloppy\\optic.py:242: RuntimeWarning: invalid value encountered in sqrt\n",
      "  z = R-np.sqrt(R**2-x**2-y**2)\n"
     ]
    },
    {
     "data": {
      "application/vnd.jupyter.widget-view+json": {
       "model_id": "7b2aa724f51b4f328c95530440dd9a15",
       "version_major": 2,
       "version_minor": 0
      },
      "text/plain": [
       "Output()"
      ]
     },
     "metadata": {},
     "output_type": "display_data"
    }
   ],
   "source": [
    "try:\n",
    "    plot.close()\n",
    "except:\n",
    "    pass\n",
    "plot = k3d.plot(camera_auto_fit=True, antialias=True)\n",
    "\n",
    "for i, el in enumerate(sys.elements):\n",
    "    if not isinstance(el, Screen):\n",
    "        plot += el.plot(opacity=0.4)\n",
    "\n",
    "for i, el in enumerate(sys.elements):\n",
    "    plot_element_ax(el, plot, length=2.)\n",
    "\n",
    "# plot_rays(ray, plot)\n",
    "plot_trajs(traj[0:7], plot)\n",
    "plot_trajs(traj[6:], plot, color=0x555500)\n",
    "\n",
    "plot.display()"
   ]
  },
  {
   "cell_type": "code",
   "execution_count": 19,
   "metadata": {},
   "outputs": [
    {
     "ename": "UnboundLocalError",
     "evalue": "local variable 'fu' referenced before assignment",
     "output_type": "error",
     "traceback": [
      "\u001b[1;31m---------------------------------------------------------------------------\u001b[0m",
      "\u001b[1;31mUnboundLocalError\u001b[0m                         Traceback (most recent call last)",
      "\u001b[1;32m<ipython-input-19-a43bccf9b2d0>\u001b[0m in \u001b[0;36m<module>\u001b[1;34m\u001b[0m\n\u001b[0;32m      1\u001b[0m \u001b[0mcavfct\u001b[0m \u001b[1;33m=\u001b[0m \u001b[0mLensCav\u001b[0m\u001b[1;33m\u001b[0m\u001b[1;33m\u001b[0m\u001b[0m\n\u001b[0;32m      2\u001b[0m \u001b[0mparname\u001b[0m \u001b[1;33m=\u001b[0m \u001b[1;34m'eps_grin'\u001b[0m\u001b[1;33m\u001b[0m\u001b[1;33m\u001b[0m\u001b[0m\n\u001b[1;32m----> 3\u001b[1;33m \u001b[0mres\u001b[0m \u001b[1;33m=\u001b[0m \u001b[0mdegeneracy_length\u001b[0m\u001b[1;33m(\u001b[0m\u001b[0mcavfct\u001b[0m\u001b[1;33m,\u001b[0m \u001b[0mparname\u001b[0m\u001b[1;33m,\u001b[0m \u001b[1;36m1\u001b[0m\u001b[1;33m)\u001b[0m\u001b[1;33m\u001b[0m\u001b[1;33m\u001b[0m\u001b[0m\n\u001b[0m\u001b[0;32m      4\u001b[0m \u001b[0mLdeg\u001b[0m \u001b[1;33m=\u001b[0m \u001b[0mres\u001b[0m\u001b[1;33m.\u001b[0m\u001b[0mx\u001b[0m\u001b[1;33m\u001b[0m\u001b[1;33m\u001b[0m\u001b[0m\n\u001b[0;32m      5\u001b[0m \u001b[0mprint\u001b[0m\u001b[1;33m(\u001b[0m\u001b[0mres\u001b[0m\u001b[1;33m)\u001b[0m\u001b[1;33m\u001b[0m\u001b[1;33m\u001b[0m\u001b[0m\n",
      "\u001b[1;32mc:\\users\\lukas\\documents\\phd\\sloppy\\src\\sloppy\\tools.py\u001b[0m in \u001b[0;36mdegeneracy_length\u001b[1;34m(cavfct, parname, scanrange, s, degmodenum)\u001b[0m\n\u001b[0;32m     35\u001b[0m \u001b[1;33m\u001b[0m\u001b[0m\n\u001b[0;32m     36\u001b[0m     \u001b[0mLa\u001b[0m \u001b[1;33m=\u001b[0m \u001b[0minspect\u001b[0m\u001b[1;33m.\u001b[0m\u001b[0msignature\u001b[0m\u001b[1;33m(\u001b[0m\u001b[0mcavfct\u001b[0m\u001b[1;33m)\u001b[0m\u001b[1;33m.\u001b[0m\u001b[0mparameters\u001b[0m\u001b[1;33m[\u001b[0m\u001b[0mparname\u001b[0m\u001b[1;33m]\u001b[0m\u001b[1;33m.\u001b[0m\u001b[0mdefault\u001b[0m\u001b[1;33m\u001b[0m\u001b[1;33m\u001b[0m\u001b[0m\n\u001b[1;32m---> 37\u001b[1;33m     \u001b[0mres\u001b[0m \u001b[1;33m=\u001b[0m \u001b[0mminimize_scalar\u001b[0m\u001b[1;33m(\u001b[0m\u001b[0mget_freq\u001b[0m\u001b[1;33m,\u001b[0m \u001b[0mbounds\u001b[0m\u001b[1;33m=\u001b[0m\u001b[1;33m(\u001b[0m\u001b[1;33m(\u001b[0m\u001b[1;36m1\u001b[0m\u001b[1;33m-\u001b[0m\u001b[0mscanrange\u001b[0m\u001b[1;33m)\u001b[0m\u001b[1;33m*\u001b[0m\u001b[0mLa\u001b[0m\u001b[1;33m,\u001b[0m \u001b[1;33m(\u001b[0m\u001b[1;36m1\u001b[0m\u001b[1;33m+\u001b[0m\u001b[0mscanrange\u001b[0m\u001b[1;33m)\u001b[0m\u001b[1;33m*\u001b[0m\u001b[0mLa\u001b[0m\u001b[1;33m)\u001b[0m\u001b[1;33m,\u001b[0m \u001b[0mmethod\u001b[0m\u001b[1;33m=\u001b[0m\u001b[1;34m'bounded'\u001b[0m\u001b[1;33m)\u001b[0m\u001b[1;33m\u001b[0m\u001b[1;33m\u001b[0m\u001b[0m\n\u001b[0m\u001b[0;32m     38\u001b[0m     \u001b[1;32mreturn\u001b[0m \u001b[0mres\u001b[0m\u001b[1;33m\u001b[0m\u001b[1;33m\u001b[0m\u001b[0m\n\u001b[0;32m     39\u001b[0m \u001b[1;33m\u001b[0m\u001b[0m\n",
      "\u001b[1;32m~\\.conda\\envs\\sloppy\\lib\\site-packages\\scipy\\optimize\\_minimize.py\u001b[0m in \u001b[0;36mminimize_scalar\u001b[1;34m(fun, bracket, bounds, args, method, tol, options)\u001b[0m\n\u001b[0;32m    788\u001b[0m         \u001b[1;32mif\u001b[0m \u001b[0misinstance\u001b[0m\u001b[1;33m(\u001b[0m\u001b[0mdisp\u001b[0m\u001b[1;33m,\u001b[0m \u001b[0mbool\u001b[0m\u001b[1;33m)\u001b[0m\u001b[1;33m:\u001b[0m\u001b[1;33m\u001b[0m\u001b[1;33m\u001b[0m\u001b[0m\n\u001b[0;32m    789\u001b[0m             \u001b[0moptions\u001b[0m\u001b[1;33m[\u001b[0m\u001b[1;34m'disp'\u001b[0m\u001b[1;33m]\u001b[0m \u001b[1;33m=\u001b[0m \u001b[1;36m2\u001b[0m \u001b[1;33m*\u001b[0m \u001b[0mint\u001b[0m\u001b[1;33m(\u001b[0m\u001b[0mdisp\u001b[0m\u001b[1;33m)\u001b[0m\u001b[1;33m\u001b[0m\u001b[1;33m\u001b[0m\u001b[0m\n\u001b[1;32m--> 790\u001b[1;33m         \u001b[1;32mreturn\u001b[0m \u001b[0m_minimize_scalar_bounded\u001b[0m\u001b[1;33m(\u001b[0m\u001b[0mfun\u001b[0m\u001b[1;33m,\u001b[0m \u001b[0mbounds\u001b[0m\u001b[1;33m,\u001b[0m \u001b[0margs\u001b[0m\u001b[1;33m,\u001b[0m \u001b[1;33m**\u001b[0m\u001b[0moptions\u001b[0m\u001b[1;33m)\u001b[0m\u001b[1;33m\u001b[0m\u001b[1;33m\u001b[0m\u001b[0m\n\u001b[0m\u001b[0;32m    791\u001b[0m     \u001b[1;32melif\u001b[0m \u001b[0mmeth\u001b[0m \u001b[1;33m==\u001b[0m \u001b[1;34m'golden'\u001b[0m\u001b[1;33m:\u001b[0m\u001b[1;33m\u001b[0m\u001b[1;33m\u001b[0m\u001b[0m\n\u001b[0;32m    792\u001b[0m         \u001b[1;32mreturn\u001b[0m \u001b[0m_minimize_scalar_golden\u001b[0m\u001b[1;33m(\u001b[0m\u001b[0mfun\u001b[0m\u001b[1;33m,\u001b[0m \u001b[0mbracket\u001b[0m\u001b[1;33m,\u001b[0m \u001b[0margs\u001b[0m\u001b[1;33m,\u001b[0m \u001b[1;33m**\u001b[0m\u001b[0moptions\u001b[0m\u001b[1;33m)\u001b[0m\u001b[1;33m\u001b[0m\u001b[1;33m\u001b[0m\u001b[0m\n",
      "\u001b[1;32m~\\.conda\\envs\\sloppy\\lib\\site-packages\\scipy\\optimize\\optimize.py\u001b[0m in \u001b[0;36m_minimize_scalar_bounded\u001b[1;34m(func, bounds, args, xatol, maxiter, disp, **unknown_options)\u001b[0m\n\u001b[0;32m   1878\u001b[0m             \u001b[1;32mbreak\u001b[0m\u001b[1;33m\u001b[0m\u001b[1;33m\u001b[0m\u001b[0m\n\u001b[0;32m   1879\u001b[0m \u001b[1;33m\u001b[0m\u001b[0m\n\u001b[1;32m-> 1880\u001b[1;33m     \u001b[1;32mif\u001b[0m \u001b[0mnp\u001b[0m\u001b[1;33m.\u001b[0m\u001b[0misnan\u001b[0m\u001b[1;33m(\u001b[0m\u001b[0mxf\u001b[0m\u001b[1;33m)\u001b[0m \u001b[1;32mor\u001b[0m \u001b[0mnp\u001b[0m\u001b[1;33m.\u001b[0m\u001b[0misnan\u001b[0m\u001b[1;33m(\u001b[0m\u001b[0mfx\u001b[0m\u001b[1;33m)\u001b[0m \u001b[1;32mor\u001b[0m \u001b[0mnp\u001b[0m\u001b[1;33m.\u001b[0m\u001b[0misnan\u001b[0m\u001b[1;33m(\u001b[0m\u001b[0mfu\u001b[0m\u001b[1;33m)\u001b[0m\u001b[1;33m:\u001b[0m\u001b[1;33m\u001b[0m\u001b[1;33m\u001b[0m\u001b[0m\n\u001b[0m\u001b[0;32m   1881\u001b[0m         \u001b[0mflag\u001b[0m \u001b[1;33m=\u001b[0m \u001b[1;36m2\u001b[0m\u001b[1;33m\u001b[0m\u001b[1;33m\u001b[0m\u001b[0m\n\u001b[0;32m   1882\u001b[0m \u001b[1;33m\u001b[0m\u001b[0m\n",
      "\u001b[1;31mUnboundLocalError\u001b[0m: local variable 'fu' referenced before assignment"
     ]
    }
   ],
   "source": [
    "cavfct = LensCav\n",
    "parname = 'eps_grin'\n",
    "res = degeneracy_length(cavfct, parname, 1)\n",
    "Ldeg = res.x\n",
    "print(res)\n",
    "elements = cavfct(**{parname: Ldeg})\n",
    "sys = RaySystem(elements)\n",
    "system = sys.abcd\n",
    "mu1, mu2 = system.q"
   ]
  },
  {
   "cell_type": "code",
   "execution_count": 10,
   "metadata": {},
   "outputs": [],
   "source": [
    "def _cavity_parameter_interaction_factory(cavfct, parname, scanrange, N = 300):\n",
    "    fig, ax = plt.subplots(ncols=2, figsize=(8,4), sharex=True)\n",
    "    lws = [ax[0].plot([0, 1], [0, 1])[0] for i in range(2)]\n",
    "    ax[0].set_ylabel('um')\n",
    "    lfs = [ax[1].plot([0, 1], [0, 1])[0] for i in range(4)]\n",
    "    ax[1].set_ylabel('MHz')\n",
    "    axh1 = ax[1].axhline(0, color='grey')\n",
    "    axv0 = ax[0].axvline(0, color='grey')\n",
    "    axv1 = ax[1].axvline(0, color='grey')\n",
    "    plt.show()\n",
    "    \n",
    "    def update_waists_vs_params(cavfct, parname, scanrange, N = 300, **kwargs):\n",
    "        stab = lambda m: abs(0.5*np.trace(m))<1\n",
    "        scanrange=[-5, 3]\n",
    "        La = kwargs[parname]\n",
    "        Las = La + np.linspace(-scanrange[0], scanrange[0], N)\n",
    "        ms = np.zeros((N))\n",
    "        ws = np.zeros((N,2))\n",
    "        freqs = np.zeros((N,4))\n",
    "        for i, l in enumerate(Las):\n",
    "            pardct = kwargs.copy()\n",
    "            pardct.update({parname: l})\n",
    "            sys = RaySystem( cavfct(**pardct) )\n",
    "\n",
    "            try:\n",
    "                system = sys.abcd\n",
    "                w = system.waist_at(0)\n",
    "            except:\n",
    "                ws[i,:] = np.nan\n",
    "                ms[i] = np.nan\n",
    "                freqs[i,...] = np.nan\n",
    "            else:\n",
    "                ms[i] = stab(system.abcd_rt)\n",
    "                ws[i,:] = np.sort(w)\n",
    "                freqs[i,...] = np.concatenate(system.get_freqs(s=1))\n",
    "                #ft, fs3 = system.get_freqs()\n",
    "                #fsr = system.fsr\n",
    "                #freqs[i,...] = np.concatenate((ft, np.mod(3*ft, fsr)))\n",
    "                idx = np.argmin(np.abs(freqs[:,2]))\n",
    "        for i in range(2):\n",
    "            lws[i].set_data(np.stack((Las, ws[:,i]*1e3), axis=0))\n",
    "        for i in range(4):\n",
    "            lfs[i].set_data(np.stack((Las, freqs[:,i]*1e-6), axis=0))\n",
    "        axv0.set_xdata([Las[idx], Las[idx]])\n",
    "        axv1.set_xdata([Las[idx], Las[idx]])\n",
    "        Ldeg = Las[idx]\n",
    "        ax[0].set_xlim(Las[0], Las[-1])\n",
    "        ax[0].set_ylim(0.8*np.nanmin(ws*1e3), 1.1*np.nanmax(ws*1e3))\n",
    "        ax[1].set_ylim(0.8*np.nanmin(freqs*1e-6), 1.1*np.nanmax(freqs*1e-6))\n",
    "        fig.canvas.draw_idle()\n",
    "    \n",
    "    _magnitude = lambda x: 1. if abs(x)<0.1 else int(np.floor(np.log10(abs(x))))\n",
    "    _sgn = lambda x: 1 if x>0 else -1\n",
    "    _min = lambda x: -1 if x==0 else (1.5*x if x<0 else 0.5*x)\n",
    "    _max = lambda x: 1 if x==0 else (0.5*x if x<0 else 1.5*x)\n",
    "\n",
    "    \n",
    "    lo = Layout(width='80%', height='30px')\n",
    "    for v in inspect.signature(cavfct).parameters.values():\n",
    "        print(v.name, v.default)\n",
    "    sliders = {v.name: FloatSlider(value=v.default, min=_min(v.default), max=_max(v.default), step=10**(_magnitude(v.default)-2), readout_format='.2e', layout=lo) for v in inspect.signature(cavfct).parameters.values()}\n",
    "    sliders.update({'scanrange': FloatLogSlider(value=scanrange, min=-3, max=1, step=0.5, layout=lo)})\n",
    "    return interactive(update_waists_vs_params, cavfct=fixed(cavfct), parname = fixed('eps_grin'), N=fixed(N), **sliders)"
   ]
  },
  {
   "cell_type": "code",
   "execution_count": 16,
   "metadata": {},
   "outputs": [
    {
     "data": {
      "application/vnd.jupyter.widget-view+json": {
       "model_id": "d0d48870749e4f309c7ccf4a90a30663",
       "version_major": 2,
       "version_minor": 0
      },
      "text/plain": [
       "Canvas(toolbar=Toolbar(toolitems=[('Home', 'Reset original view', 'home', 'home'), ('Back', 'Back to previous …"
      ]
     },
     "metadata": {},
     "output_type": "display_data"
    },
    {
     "name": "stdout",
     "output_type": "stream",
     "text": [
      "flong 75.0\n",
      "fmla 6.0\n",
      "eps_grin 0.0\n",
      "eps_long -4.0\n",
      "eps_mirr 0.0\n",
      "eps_mla 0.0\n",
      "lens_diam 25.4\n",
      "grin_diam 2.4\n",
      "grin_thick 1.02\n",
      "lens_thick 6.0\n",
      "mla_thick 2.0\n"
     ]
    },
    {
     "data": {
      "application/vnd.jupyter.widget-view+json": {
       "model_id": "4ae4f2b6300144cdb85f5f6112a6b32a",
       "version_major": 2,
       "version_minor": 0
      },
      "text/plain": [
       "interactive(children=(FloatLogSlider(value=0.1, description='scanrange', layout=Layout(height='30px', width='8…"
      ]
     },
     "metadata": {},
     "output_type": "display_data"
    }
   ],
   "source": [
    "_cavity_parameter_interaction_factory(LensCavML, 'eps_grin',0.1, N=100)"
   ]
  },
  {
   "cell_type": "code",
   "execution_count": 35,
   "metadata": {},
   "outputs": [],
   "source": [
    "cavfct = LensCavML\n",
    "elements = cavfct(eps_long=-5.3, eps_grin=-0.0)\n",
    "sys = RaySystem(elements)\n",
    "system = sys.abcd\n",
    "mu1, mu2 = system.q"
   ]
  },
  {
   "cell_type": "code",
   "execution_count": 36,
   "metadata": {},
   "outputs": [
    {
     "data": {
      "text/plain": [
       "[<sloppy.optic.Screen at 0x1b195766188>,\n",
       " <sloppy.optic.Glass at 0x1b193c30088>,\n",
       " <sloppy.optic.ThorlabsAsphere at 0x1b193bf3988>,\n",
       " <sloppy.optic.Glass at 0x1b193bf3d48>,\n",
       " <sloppy.optic.CurvedGlass at 0x1b19266b208>,\n",
       " <sloppy.optic.Glass at 0x1b1953e4b88>,\n",
       " <sloppy.optic.CurvedGlass at 0x1b1953e4c88>,\n",
       " <sloppy.optic.Mirror at 0x1b1953e47c8>,\n",
       " <sloppy.optic.CurvedGlass at 0x1b1936a1908>,\n",
       " <sloppy.optic.Glass at 0x1b1959b4448>,\n",
       " <sloppy.optic.CurvedGlass at 0x1b1936a1a88>,\n",
       " <sloppy.optic.Glass at 0x1b1936a12c8>,\n",
       " <sloppy.optic.ThorlabsAsphere at 0x1b1936a1408>,\n",
       " <sloppy.optic.Glass at 0x1b19d323808>,\n",
       " <sloppy.optic.Glass at 0x1b19d323cc8>,\n",
       " <sloppy.optic.ThorlabsAsphere at 0x1b19d323f48>,\n",
       " <sloppy.optic.Glass at 0x1b19d323f88>,\n",
       " <sloppy.optic.CurvedGlass at 0x1b19d323b08>,\n",
       " <sloppy.optic.Mirror at 0x1b19d323b88>,\n",
       " <sloppy.optic.CurvedGlass at 0x1b19d323948>,\n",
       " <sloppy.optic.Glass at 0x1b19d323d88>,\n",
       " <sloppy.optic.ThorlabsAsphere at 0x1b19d323588>,\n",
       " <sloppy.optic.Glass at 0x1b19398d508>,\n",
       " <sloppy.optic.Screen at 0x1b193f56948>]"
      ]
     },
     "execution_count": 36,
     "metadata": {},
     "output_type": "execute_result"
    }
   ],
   "source": [
    "sys.elements"
   ]
  },
  {
   "cell_type": "code",
   "execution_count": 50,
   "metadata": {},
   "outputs": [
    {
     "name": "stdout",
     "output_type": "stream",
     "text": [
      "0 <sloppy.optic.Screen object at 0x000001B195766188> 0\n",
      "1 <sloppy.optic.Glass object at 0x000001B193C30088> 0.8\n",
      "2 <sloppy.optic.ThorlabsAsphere object at 0x000001B193BF3988> 1.02\n",
      "3 <sloppy.optic.Glass object at 0x000001B193BF3D48> 71.2\n",
      "4 <sloppy.optic.CurvedGlass object at 0x000001B19266B208> 6.0\n",
      "5 <sloppy.optic.Glass object at 0x000001B1953E4B88> 74.99999999999999\n",
      "6 <sloppy.optic.CurvedGlass object at 0x000001B1953E4C88> 2.0\n",
      "7 <sloppy.optic.Mirror object at 0x000001B1953E47C8> 6.0\n",
      "8 <sloppy.optic.CurvedGlass object at 0x000001B1936A1908> 6.0\n",
      "9 <sloppy.optic.Glass object at 0x000001B1959B4448> 2.0\n",
      "10 <sloppy.optic.CurvedGlass object at 0x000001B1936A1A88> 74.99999999999999\n",
      "11 <sloppy.optic.Glass object at 0x000001B1936A12C8> 6.0\n",
      "12 <sloppy.optic.ThorlabsAsphere object at 0x000001B1936A1408> 71.2\n",
      "13 <sloppy.optic.Glass object at 0x000001B19D323808> 1.02\n",
      "14 <sloppy.optic.Glass object at 0x000001B19D323CC8> 1.6\n",
      "15 <sloppy.optic.ThorlabsAsphere object at 0x000001B19D323F48> 1.02\n",
      "16 <sloppy.optic.Glass object at 0x000001B19D323F88> 71.2\n",
      "17 <sloppy.optic.CurvedGlass object at 0x000001B19D323B08> 6.0\n",
      "18 <sloppy.optic.Mirror object at 0x000001B19D323B88> 74.99999999999999\n",
      "19 <sloppy.optic.CurvedGlass object at 0x000001B19D323948> 74.99999999999999\n",
      "20 <sloppy.optic.Glass object at 0x000001B19D323D88> 6.0\n",
      "21 <sloppy.optic.ThorlabsAsphere object at 0x000001B19D323588> 71.2\n",
      "22 <sloppy.optic.Glass object at 0x000001B19398D508> 1.02\n",
      "23 <sloppy.optic.Screen object at 0x000001B193F56948> 0.4\n"
     ]
    }
   ],
   "source": [
    "pos = [e.p for e in sys.elements]\n",
    "\n",
    "abcd = []\n",
    "for i, el in enumerate(sys.elements):\n",
    "    if i>0:\n",
    "        d = np.linalg.norm(pos[i-1]-pos[i])\n",
    "    else:\n",
    "        d = 0\n",
    "    print(i, el, d)\n",
    "    if isinstance(el, Glass) or isinstance(el, CurvedGlass) or isinstance(el, FreeFormInterface) or isinstance(el, ThorlabsAsphere):\n",
    "        #modify index of refraction in propagation according to Glass element\n",
    "        abcd.extend([Prop(d, n=el.n1), ABCD(el.m), ABCD(el.Rbasis)])\n",
    "    else:\n",
    "        abcd.extend([Prop(d), ABCD(el.m), ABCD(el.Rbasis)])"
   ]
  },
  {
   "cell_type": "code",
   "execution_count": 51,
   "metadata": {},
   "outputs": [],
   "source": [
    "system = ABCDSystem(abcd)"
   ]
  },
  {
   "cell_type": "code",
   "execution_count": 52,
   "metadata": {},
   "outputs": [
    {
     "data": {
      "text/plain": [
       "array([0.  , 0.  , 1.82])"
      ]
     },
     "execution_count": 52,
     "metadata": {},
     "output_type": "execute_result"
    }
   ],
   "source": [
    "sys.elements[2].p"
   ]
  },
  {
   "cell_type": "code",
   "execution_count": 53,
   "metadata": {},
   "outputs": [
    {
     "data": {
      "text/plain": [
       "array([[1.        , 0.        , 0.        , 0.        ],\n",
       "       [0.        , 1.        , 0.        , 0.        ],\n",
       "       [0.        , 0.        , 0.68789984, 0.        ],\n",
       "       [0.        , 0.        , 0.        , 0.68789984]])"
      ]
     },
     "execution_count": 53,
     "metadata": {},
     "output_type": "execute_result"
    }
   ],
   "source": [
    "system.elements[4].m"
   ]
  },
  {
   "cell_type": "code",
   "execution_count": 54,
   "metadata": {},
   "outputs": [
    {
     "name": "stdout",
     "output_type": "stream",
     "text": [
      "3 <class 'sloppy.abcd.Prop'> 0.0\n",
      "4 <class 'sloppy.abcd.ABCD'> 0.8\n",
      "6 <class 'sloppy.abcd.Prop'> 0.8\n",
      "7 <class 'sloppy.abcd.ABCD'> 1.82\n",
      "9 <class 'sloppy.abcd.Prop'> 1.82\n",
      "10 <class 'sloppy.abcd.ABCD'> 73.02\n",
      "12 <class 'sloppy.abcd.Prop'> 73.02\n",
      "13 <class 'sloppy.abcd.ABCD'> 79.02\n",
      "15 <class 'sloppy.abcd.Prop'> 79.02\n",
      "16 <class 'sloppy.abcd.ABCD'> 154.01999999999998\n",
      "18 <class 'sloppy.abcd.Prop'> 154.01999999999998\n",
      "19 <class 'sloppy.abcd.ABCD'> 156.01999999999998\n",
      "21 <class 'sloppy.abcd.Prop'> 156.01999999999998\n",
      "24 <class 'sloppy.abcd.Prop'> 162.01999999999998\n",
      "25 <class 'sloppy.abcd.ABCD'> 168.01999999999998\n",
      "27 <class 'sloppy.abcd.Prop'> 168.01999999999998\n",
      "28 <class 'sloppy.abcd.ABCD'> 170.01999999999998\n",
      "30 <class 'sloppy.abcd.Prop'> 170.01999999999998\n",
      "31 <class 'sloppy.abcd.ABCD'> 245.01999999999998\n",
      "33 <class 'sloppy.abcd.Prop'> 245.01999999999998\n",
      "34 <class 'sloppy.abcd.ABCD'> 251.01999999999998\n",
      "36 <class 'sloppy.abcd.Prop'> 251.01999999999998\n",
      "37 <class 'sloppy.abcd.ABCD'> 322.21999999999997\n",
      "39 <class 'sloppy.abcd.Prop'> 322.21999999999997\n",
      "40 <class 'sloppy.abcd.ABCD'> 323.23999999999995\n",
      "42 <class 'sloppy.abcd.Prop'> 323.23999999999995\n",
      "43 <class 'sloppy.abcd.ABCD'> 324.84\n",
      "45 <class 'sloppy.abcd.Prop'> 324.84\n",
      "46 <class 'sloppy.abcd.ABCD'> 325.85999999999996\n",
      "48 <class 'sloppy.abcd.Prop'> 325.85999999999996\n",
      "49 <class 'sloppy.abcd.ABCD'> 397.05999999999995\n",
      "51 <class 'sloppy.abcd.Prop'> 397.05999999999995\n",
      "52 <class 'sloppy.abcd.ABCD'> 403.05999999999995\n",
      "54 <class 'sloppy.abcd.Prop'> 403.05999999999995\n",
      "57 <class 'sloppy.abcd.Prop'> 478.05999999999995\n",
      "58 <class 'sloppy.abcd.ABCD'> 553.06\n",
      "60 <class 'sloppy.abcd.Prop'> 553.06\n",
      "61 <class 'sloppy.abcd.ABCD'> 559.06\n",
      "63 <class 'sloppy.abcd.Prop'> 559.06\n",
      "64 <class 'sloppy.abcd.ABCD'> 630.26\n",
      "66 <class 'sloppy.abcd.Prop'> 630.26\n",
      "67 <class 'sloppy.abcd.ABCD'> 631.28\n",
      "69 <class 'sloppy.abcd.Prop'> 631.28\n"
     ]
    }
   ],
   "source": [
    "for i, e in enumerate(system.elements):\n",
    "    if not np.allclose(e.m, np.eye(4)): \n",
    "        print(i, type(e), e.x)"
   ]
  },
  {
   "cell_type": "code",
   "execution_count": 57,
   "metadata": {},
   "outputs": [
    {
     "data": {
      "application/vnd.jupyter.widget-view+json": {
       "model_id": "3fafc4b1b2df4dc3af426d4b6a7639eb",
       "version_major": 2,
       "version_minor": 0
      },
      "text/plain": [
       "Canvas(toolbar=Toolbar(toolitems=[('Home', 'Reset original view', 'home', 'home'), ('Back', 'Back to previous …"
      ]
     },
     "metadata": {},
     "output_type": "display_data"
    }
   ],
   "source": [
    "x = np.linspace(0, system.Ltot, 5000)\n",
    "ws = system.compute_waists(x)\n",
    "plt.figure()\n",
    "plt.plot(x, ws)\n",
    "for i, e in enumerate(system.elements):\n",
    "    if type(e)!=Prop:\n",
    "        plt.axvline(e.x, color='grey', ls=':')\n",
    "# plt.yscale('log')\n",
    "plt.show()"
   ]
  },
  {
   "cell_type": "code",
   "execution_count": 302,
   "metadata": {},
   "outputs": [],
   "source": [
    "plt.close('all')"
   ]
  },
  {
   "cell_type": "code",
   "execution_count": 5,
   "metadata": {},
   "outputs": [],
   "source": [
    "Npt = 20\n",
    "a = 0.5\n",
    "x = np.linspace(-a, a, Npt)\n",
    "coords = np.meshgrid(x, x)\n",
    "\n",
    "xy = np.stack(coords, axis=-1).reshape((-1,2))\n",
    "#pxy = np.zeros_like(xy)\n",
    "pxy = np.broadcast_to(np.array([0, 0]), xy.shape)\n",
    "mu = np.concatenate((xy, pxy), axis=1)\n",
    "ray = sys.screen.eigenvectors_to_rays(mu)"
   ]
  },
  {
   "cell_type": "code",
   "execution_count": 6,
   "metadata": {},
   "outputs": [],
   "source": [
    "traj = sys.propagate(ray, at_screen=True)\n",
    "pos = sys.screen.r_to_screen_coords(traj[-1,0,:,:])"
   ]
  },
  {
   "cell_type": "code",
   "execution_count": 7,
   "metadata": {},
   "outputs": [
    {
     "data": {
      "application/vnd.jupyter.widget-view+json": {
       "model_id": "e2c41b590d4c4c9d8073571c3b553c85",
       "version_major": 2,
       "version_minor": 0
      },
      "text/plain": [
       "Canvas(toolbar=Toolbar(toolitems=[('Home', 'Reset original view', 'home', 'home'), ('Back', 'Back to previous …"
      ]
     },
     "metadata": {},
     "output_type": "display_data"
    },
    {
     "data": {
      "text/plain": [
       "<matplotlib.collections.PathCollection at 0x1b455571608>"
      ]
     },
     "execution_count": 7,
     "metadata": {},
     "output_type": "execute_result"
    }
   ],
   "source": [
    "plt.figure()\n",
    "plt.scatter(xy[:,0], xy[:,1], s=2.)\n",
    "plt.scatter(pos[:,0], pos[:,1], s=2.)"
   ]
  },
  {
   "cell_type": "code",
   "execution_count": 10,
   "metadata": {},
   "outputs": [
    {
     "data": {
      "application/vnd.jupyter.widget-view+json": {
       "model_id": "0f7781a9a06244b199eb6af61e5f5827",
       "version_major": 2,
       "version_minor": 0
      },
      "text/plain": [
       "Canvas(toolbar=Toolbar(toolitems=[('Home', 'Reset original view', 'home', 'home'), ('Back', 'Back to previous …"
      ]
     },
     "metadata": {},
     "output_type": "display_data"
    },
    {
     "data": {
      "application/vnd.jupyter.widget-view+json": {
       "model_id": "5aad83f712354d9289f508a22b1abd06",
       "version_major": 2,
       "version_minor": 0
      },
      "text/plain": [
       "interactive(children=(FloatSlider(value=0.0, description='dl', max=1.0, min=-1.0, step=0.001), FloatSlider(val…"
      ]
     },
     "metadata": {},
     "output_type": "display_data"
    }
   ],
   "source": [
    "fig, ax = plt.subplots(ncols=1, figsize=(6, 6))\n",
    "ms = 8.\n",
    "linea = plt.scatter(xy[:,0], xy[:,1], s=2.)\n",
    "lineb = plt.scatter(pos[:,0], pos[:,1], s=2.)\n",
    "plt.xlabel('x [mm]')\n",
    "plt.ylabel('y [mm]')\n",
    "\n",
    "cavfct = LensCav\n",
    "parname = 'lens_dist'\n",
    "\n",
    "def update_xygrid(dl=0.0, a=0.1, px=1e-2, py=-1e-3, Nrt=3, Npts=20, **kwargs):\n",
    "    res = degeneracy_length(cavfct, parname, 1e-3)\n",
    "    Ldeg = res.x\n",
    "    print(res)\n",
    "    elements = cavfct(**{parname: Ldeg+dl})\n",
    "    sys = RaySystem(elements)\n",
    "    \n",
    "    x = np.linspace(-a, a, Npts)\n",
    "    coords = np.meshgrid(x, x)\n",
    "    xy = np.stack(coords, axis=-1).reshape((-1,2))\n",
    "    pxy = np.broadcast_to(np.array([px, -py]), xy.shape)\n",
    "    mu = np.concatenate((xy, pxy), axis=1)\n",
    "    ray = sys.screen.eigenvectors_to_rays(mu)\n",
    "    traj = sys.propagate(ray, at_screen=True)\n",
    "    pos = sys.screen.r_to_screen_coords(traj[-1,0,:,:])\n",
    "    linea.set_offsets(xy)\n",
    "    lineb.set_offsets(pos)\n",
    "  \n",
    "    #ax.relim()\n",
    "    #ax.autoscale_view()\n",
    "    fig.canvas.draw_idle()\n",
    "        \n",
    "interactive(update_xygrid, dl=(-1, 1, 1e-3), a = (0,1,1e-2),\\\n",
    "            px=(-0.1,0.1,1e-3), py=(-0.1,0.1,1e-3), Nrt=(0,10,1), Npts=(10, 100, 10))"
   ]
  },
  {
   "cell_type": "code",
   "execution_count": 31,
   "metadata": {},
   "outputs": [
    {
     "data": {
      "application/vnd.jupyter.widget-view+json": {
       "model_id": "75528277ca774c7f93fb6cf073339245",
       "version_major": 2,
       "version_minor": 0
      },
      "text/plain": [
       "Canvas(toolbar=Toolbar(toolitems=[('Home', 'Reset original view', 'home', 'home'), ('Back', 'Back to previous …"
      ]
     },
     "metadata": {},
     "output_type": "display_data"
    },
    {
     "data": {
      "application/vnd.jupyter.widget-view+json": {
       "model_id": "8f54e8129a104e80834d9e525ebdb624",
       "version_major": 2,
       "version_minor": 0
      },
      "text/plain": [
       "interactive(children=(FloatSlider(value=0.0, description='dl', max=1.0, min=-1.0, step=0.001), FloatSlider(val…"
      ]
     },
     "metadata": {},
     "output_type": "display_data"
    }
   ],
   "source": [
    "fig, ax = plt.subplots(ncols=1, figsize=(6, 6))\n",
    "ms = 8.\n",
    "linea = plt.scatter(xy[:,0], xy[:,1], s=2.)\n",
    "lineb = plt.scatter(pos[:,0], pos[:,1], s=2.)\n",
    "plt.xlabel('px [mm]')\n",
    "plt.ylabel('py [mm]')\n",
    "\n",
    "cavfct = LensCav\n",
    "parname = 'lens_dist'\n",
    "\n",
    "def update_xygrid(dl=0.0, a=5e-2, x=0.004, y=-0.004, Nrt=3, Npts=20, **kwargs):\n",
    "    res = degeneracy_length(cavfct, parname, 1e-3)\n",
    "    Ldeg = res.x\n",
    "    elements = cavfct(**{parname: Ldeg+dl})\n",
    "    sys = RaySystem(elements)\n",
    "    \n",
    "    xx = np.linspace(-a*1e-1, a*1e-1, Npts)\n",
    "    coords = np.meshgrid(xx, xx)\n",
    "    pxy = np.stack(coords, axis=-1).reshape((-1,2))\n",
    "    xy = np.broadcast_to(np.array([x, y]), pxy.shape)\n",
    "    mu = np.concatenate((xy, pxy), axis=1)\n",
    "    ray = sys.screen.eigenvectors_to_rays(mu)\n",
    "    traj = sys.propagate(ray, Nrt=Nrt, at_screen=True)\n",
    "    pos = sys.screen.r_to_screen_coords(traj[-1,0,:,:])\n",
    "    linea.set_offsets(pxy)\n",
    "    lineb.set_offsets(pos)\n",
    "    plt.xlim(1.5*np.nanmin(pxy[:,0]), 1.5*np.nanmax(pxy[:,0]))\n",
    "    plt.ylim(1.5*np.nanmin(pxy[:,1]), 1.5*np.nanmax(pxy[:,1]))\n",
    "    fig.canvas.draw_idle()\n",
    "interactive(update_xygrid, dl=(-1, 1, 1e-3), a = (0,1,1e-3),\\\n",
    "            x=(-0.1,0.1,1e-3), y=(-0.1,0.1,1e-3), Nrt=(0,10,1), Npts=(10, 100, 10))"
   ]
  },
  {
   "cell_type": "code",
   "execution_count": null,
   "metadata": {},
   "outputs": [],
   "source": [
    "res = degeneracy_length(cavfct, parname, 1e-3)\n",
    "Ldeg = res.x\n",
    "elements = cavfct(**{parname: Ldeg+dl})\n",
    "sys = RaySystem(elements)\n",
    "\n",
    "a = 0.004\n",
    "pa = 0.006\n",
    "xx = np.linspace(-a*1e-1, a*1e-1, Npts)\n",
    "coords = np.meshgrid(xx, xx)\n",
    "pxy = np.stack(coords, axis=-1).reshape((-1,2))\n",
    "xy = np.broadcast_to(np.array([x, y]), pxy.shape)\n",
    "mu = np.concatenate((xy, pxy), axis=1)\n",
    "ray = sys.screen.eigenvectors_to_rays(mu)\n",
    "traj = sys.propagate(ray, Nrt=Nrt, at_screen=True)\n",
    "pos = sys.screen.r_to_screen_coords(traj[-1,0,:,:])\n",
    "linea.set_offsets(pxy)\n",
    "lineb.set_offsets(pos)\n",
    "plt.xlim(1.5*np.nanmin(pxy[:,0]), 1.5*np.nanmax(pxy[:,0]))\n",
    "plt.ylim(1.5*np.nanmin(pxy[:,1]), 1.5*np.nanmax(pxy[:,1]))"
   ]
  },
  {
   "cell_type": "code",
   "execution_count": 35,
   "metadata": {},
   "outputs": [
    {
     "data": {
      "application/vnd.jupyter.widget-view+json": {
       "model_id": "b854ade2eb3c4a4d92da07ef1596e793",
       "version_major": 2,
       "version_minor": 0
      },
      "text/plain": [
       "Canvas(toolbar=Toolbar(toolitems=[('Home', 'Reset original view', 'home', 'home'), ('Back', 'Back to previous …"
      ]
     },
     "metadata": {},
     "output_type": "display_data"
    },
    {
     "data": {
      "application/vnd.jupyter.widget-view+json": {
       "model_id": "c310f7dc848d4a3eace9e24cf06f1b5c",
       "version_major": 2,
       "version_minor": 0
      },
      "text/plain": [
       "interactive(children=(FloatSlider(value=27.768298126226423, description='dl', max=28.768298126226423, min=26.7…"
      ]
     },
     "metadata": {},
     "output_type": "display_data"
    }
   ],
   "source": [
    "fig, ax = plt.subplots(ncols=1, figsize=(6, 6))\n",
    "ms = 8.\n",
    "linea = plt.scatter(xy[:,0], xy[:,1], s=1., marker='.')\n",
    "lineb = plt.scatter(pos[:,0], pos[:,1], s=2.)\n",
    "plt.xlabel('x [mm]')\n",
    "plt.ylabel('y [mm]')\n",
    "\n",
    "def update_xygrid6(dl=Ldeg, dz=1.5825, a=0.1, px=1e-2, py=-1e-3, Nrt=1, Npts=20, **kwargs):\n",
    "    elements, _ = SixMirror(dx=dl, dzF=dz)\n",
    "    sys = RaySystem(elements)\n",
    "    \n",
    "    x = np.linspace(-a, a, Npts)\n",
    "    coords = np.meshgrid(x, x)\n",
    "    xy = np.stack(coords, axis=-1).reshape((-1,2))\n",
    "    pxy = np.broadcast_to(np.array([px, -py]), xy.shape)\n",
    "    mu = np.concatenate((xy, pxy), axis=1)\n",
    "    ray = sys.screen.eigenvectors_to_rays(mu)\n",
    "    traj = sys.propagate(ray, at_screen=True, Nrt=Nrt)\n",
    "    pos = sys.screen.r_to_screen_coords(traj[-1,0,:,:])\n",
    "    linea.set_offsets(xy)\n",
    "    lineb.set_offsets(pos)\n",
    "  \n",
    "    ax.relim()\n",
    "    #ax.autoscale_view()\n",
    "    fig.canvas.draw_idle()\n",
    "        \n",
    "interactive(update_xygrid6, dl=(Ldeg-1, Ldeg+1, 1e-2), dz=(0, 1.5825, 1e-2), a = (0,1,1e-2),\\\n",
    "            px=(-0.1,0.1,1e-3), py=(-0.1,0.1,1e-3), Nrt=(1,11,1), Npts=(10, 100, 10))"
   ]
  },
  {
   "cell_type": "code",
   "execution_count": 29,
   "metadata": {},
   "outputs": [],
   "source": [
    "plt.close(\"all\")"
   ]
  },
  {
   "cell_type": "code",
   "execution_count": null,
   "metadata": {},
   "outputs": [],
   "source": []
  }
 ],
 "metadata": {
  "kernelspec": {
   "display_name": "Python [conda env:.conda-sloppy]",
   "language": "python",
   "name": "conda-env-.conda-sloppy-py"
  },
  "language_info": {
   "codemirror_mode": {
    "name": "ipython",
    "version": 3
   },
   "file_extension": ".py",
   "mimetype": "text/x-python",
   "name": "python",
   "nbconvert_exporter": "python",
   "pygments_lexer": "ipython3",
   "version": "3.7.6"
  }
 },
 "nbformat": 4,
 "nbformat_minor": 4
}
