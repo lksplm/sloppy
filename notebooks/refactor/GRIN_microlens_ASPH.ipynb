{
 "cells": [
  {
   "cell_type": "code",
   "execution_count": 3,
   "metadata": {
    "editable": true,
    "slideshow": {
     "slide_type": ""
    },
    "tags": []
   },
   "outputs": [],
   "source": [
    "%load_ext autoreload\n",
    "%autoreload 2"
   ]
  },
  {
   "cell_type": "code",
   "execution_count": 4,
   "metadata": {},
   "outputs": [],
   "source": [
    "%matplotlib widget\n",
    "import matplotlib.pyplot as plt\n",
    "from ipywidgets import *\n",
    "import numpy as np\n",
    "import k3d\n",
    "import matplotlib.pyplot as plt\n",
    "from sloppy.optic import *\n",
    "from sloppy.raytracing import *\n",
    "from sloppy.abcd import *\n",
    "from sloppy.utils import *\n",
    "from sloppy.tools import *"
   ]
  },
  {
   "cell_type": "code",
   "execution_count": 3,
   "metadata": {
    "jupyter": {
     "source_hidden": true
    }
   },
   "outputs": [],
   "source": [
    "def LensCav(fgrin=1.5, flong=100.0, eps_grin=0.0, eps_long=-4.0, lens_diam=25.4, grin_diam=3.0, grin_thick=1.5, lens_thick=6.0):\n",
    "\n",
    "    p_grin_f = fgrin + eps_grin\n",
    "    p_grin_b = p_grin_f + grin_thick\n",
    "    p_long_f = p_grin_b + fgrin + flong + eps_long\n",
    "    p_long_b = p_long_f + lens_thick\n",
    "    p_mirr = p_long_b + flong\n",
    "    \n",
    "    p0 = np.array([0,0,p_grin_f])\n",
    "    p1 = np.array([0,0,p_grin_b])\n",
    "    p2 = np.array([0,0,p_long_f])\n",
    "    p3 = np.array([0,0,p_long_b])\n",
    "    p4 = np.array([0,0,p_mirr])\n",
    "\n",
    "    e = np.array([0,0,5.0])*0\n",
    "    \n",
    "    pm0 = np.array([0,0,-p_grin_f])\n",
    "    pm1 = np.array([0,0,-p_grin_b])\n",
    "    pm2 = np.array([0,0,-p_long_f])\n",
    "    pm3 = np.array([0,0,-p_long_b])\n",
    "    pm4 = np.array([0,0,-p_mirr])\n",
    "\n",
    "    \n",
    "    \n",
    "    ii = lens_diam\n",
    "    hi = 12.7\n",
    "    qi=7.75\n",
    "    ng = 1.4537\n",
    "\n",
    "    Rgrin = (ng-1)*fgrin\n",
    "    Rlong = (ng-1)*flong\n",
    "    \n",
    "    nz = (0., 0. ,-1.0)\n",
    "    nzm = (0., 0. ,1.0)\n",
    "    axz = (-1, 0, 0)\n",
    "    axzm = (1, 0, 0)\n",
    "\n",
    "    screen = Screen(n=nzm, ax=axzm)\n",
    "    \n",
    "    # negative sign of first cuved surface for abcd matrix\n",
    "    elements = [screen,\n",
    "                Glass(p=p0, n=nz, ax=axz, diameter=grin_diam, n2=ng),\n",
    "                CurvedGlass(p=p1, n=nz, ax=axz, diameter=grin_diam, R=-Rgrin, curv='CC', n1=ng),\n",
    "                Glass(p=p2, n=nz, ax=axz, diameter=ii, n2=ng),\n",
    "                CurvedGlass(p=p3, n=nz, ax=axz, diameter=ii, R=-Rlong, curv='CC', n1=ng),\n",
    "                Mirror(p=p4, n=nz, ax=axz, diameter=ii),\n",
    "                #backwards pass\n",
    "                CurvedGlass(p=p3+e, n=nzm, ax=axzm, diameter=ii, R=Rlong, curv='CX', n2=ng),\n",
    "                Glass(p=p2+e, n=nzm, ax=axzm, diameter=ii, n1=ng),\n",
    "                CurvedGlass(p=p1+e, n=nzm, ax=axzm, diameter=grin_diam, R=Rgrin, curv='CX', n2=ng),\n",
    "                Glass(p=p0+e, n=nzm, ax=axzm, diameter=grin_diam, n1=ng),\n",
    "                #left half\n",
    "                Glass(p=pm0, n=nzm, ax=axzm, diameter=grin_diam, n2=ng),\n",
    "                CurvedGlass(p=pm1, n=nzm, ax=axzm, diameter=grin_diam, R=-Rgrin, curv='CC', n1=ng),\n",
    "                Glass(p=pm2, n=nzm, ax=axzm, diameter=ii, n2=ng),\n",
    "                CurvedGlass(p=pm3, n=nzm, ax=axzm, diameter=ii, R=-Rlong, curv='CC', n1=ng),\n",
    "                Mirror(p=pm4, n=nzm, ax=axzm, diameter=ii),\n",
    "                #backwards pass\n",
    "                CurvedGlass(p=pm3+e, n=nz, ax=axz, diameter=ii, R=Rlong, curv='CX', n2=ng),\n",
    "                Glass(p=pm2+e, n=nz, ax=axz, diameter=ii, n1=ng),\n",
    "                CurvedGlass(p=pm1+e, n=nz, ax=axz, diameter=grin_diam, R=Rgrin, curv='CX', n2=ng),\n",
    "                Glass(p=pm0+e, n=nz, ax=axz, diameter=grin_diam, n1=ng),]\n",
    "\n",
    "    return elements"
   ]
  },
  {
   "cell_type": "code",
   "execution_count": 5,
   "metadata": {
    "jupyter": {
     "source_hidden": true
    }
   },
   "outputs": [],
   "source": [
    "def LensCavAsph(flong=100.0, eps_grin=0.0, eps_long=-4.0, eps_mirr=-4.0, lens_diam=25.4, grin_diam=2.4, grin_thick=1.020, lens_thick=6.0):\n",
    "    \n",
    "    wdgrin = 0.8\n",
    "    fgrin=1.5\n",
    "    \n",
    "    p_grin_f = wdgrin + eps_grin\n",
    "    p_grin_b = p_grin_f + grin_thick\n",
    "    p_long_f = p_grin_b + fgrin + flong + eps_long\n",
    "    p_long_b = p_long_f + lens_thick\n",
    "    p_mirr = p_long_b + flong + eps_mirr\n",
    "    \n",
    "    p0 = np.array([0,0,p_grin_f])\n",
    "    p1 = np.array([0,0,p_grin_b])\n",
    "    p2 = np.array([0,0,p_long_f])\n",
    "    p3 = np.array([0,0,p_long_b])\n",
    "    p4 = np.array([0,0,p_mirr])\n",
    "\n",
    "    e = np.array([0,0,5.0])*0\n",
    "    \n",
    "    pm0 = np.array([0,0,-p_grin_f])\n",
    "    pm1 = np.array([0,0,-p_grin_b])\n",
    "    pm2 = np.array([0,0,-p_long_f])\n",
    "    pm3 = np.array([0,0,-p_long_b])\n",
    "    pm4 = np.array([0,0,-p_mirr])\n",
    "\n",
    "    \n",
    "    \n",
    "    ii = lens_diam\n",
    "    hi = 12.7\n",
    "    qi=7.75\n",
    "    ng = 1.4537\n",
    "\n",
    "    # Rgrin = (ng-1)*fgrin\n",
    "    Rlong = (ng-1)*flong\n",
    "    # now C140 instead of \"spherical\" GRIN lens\n",
    "    Rgrin = -0.840660\n",
    "    k=-0.963070\n",
    "    An=[-9.476566e-2, -2.790461e-2, -5.415580e-3, -3.553653e-3]\n",
    "    \n",
    "    coeff = np.array([Rgrin, k,] + An) #these coefficients go _away_ from the normal\n",
    "    coeffm = coeff*-1 #these coefficients go _to_ the normal\n",
    "    coeffm[1] = k\n",
    "    \n",
    "    nz = (0., 0. ,-1.0)\n",
    "    nzm = (0., 0. ,1.0)\n",
    "    axz = (-1, 0, 0)\n",
    "    axzm = (1, 0, 0)\n",
    "\n",
    "    screen = Screen(n=nzm, ax=axzm)\n",
    "    \n",
    "    # negative sign of first cuved surface for abcd matrix\n",
    "    elements = [screen,\n",
    "                Glass(p=p0, n=nz, ax=axz, diameter=grin_diam, n2=ng),\n",
    "                ThorlabsAsphere(p=p1, n=nz, ax=axz, diameter=grin_diam, n1=ng, coef=coeffm), #R=-Rgrin,\n",
    "                Glass(p=p2, n=nz, ax=axz, diameter=ii, n2=ng),\n",
    "                CurvedGlass(p=p3, n=nz, ax=axz, diameter=ii, R=-Rlong, curv='CC', n1=ng),\n",
    "                Mirror(p=p4, n=nz, ax=axz, diameter=ii),\n",
    "                #backwards pass\n",
    "                CurvedGlass(p=p3+e, n=nzm, ax=axzm, diameter=ii, R=Rlong, curv='CX', n2=ng),\n",
    "                Glass(p=p2+e, n=nzm, ax=axzm, diameter=ii, n1=ng),\n",
    "                ThorlabsAsphere(p=p1+e, n=nzm, ax=axzm, diameter=grin_diam, n2=ng, coef=coeff), #R=-Rgrin,\n",
    "                Glass(p=p0+e, n=nzm, ax=axzm, diameter=grin_diam, n1=ng),\n",
    "                #left half\n",
    "                Glass(p=pm0, n=nzm, ax=axzm, diameter=grin_diam, n2=ng),\n",
    "                ThorlabsAsphere(p=pm1, n=nzm, ax=axzm, diameter=grin_diam, n1=ng, coef=coeffm),\n",
    "                Glass(p=pm2, n=nzm, ax=axzm, diameter=ii, n2=ng),\n",
    "                CurvedGlass(p=pm3, n=nzm, ax=axzm, diameter=ii, R=-Rlong, curv='CC', n1=ng),\n",
    "                Mirror(p=pm4, n=nzm, ax=axzm, diameter=ii),\n",
    "                #backwards pass\n",
    "                CurvedGlass(p=pm3+e, n=nz, ax=axz, diameter=ii, R=Rlong, curv='CX', n2=ng),\n",
    "                Glass(p=pm2+e, n=nz, ax=axz, diameter=ii, n1=ng),\n",
    "                ThorlabsAsphere(p=pm1+e, n=nz, ax=axz, diameter=grin_diam, n2=ng, coef=coeff),\n",
    "                Glass(p=pm0+e, n=nz, ax=axz, diameter=grin_diam, n1=ng),]\n",
    "\n",
    "    return elements"
   ]
  },
  {
   "cell_type": "code",
   "execution_count": 5,
   "metadata": {
    "jupyter": {
     "source_hidden": true
    }
   },
   "outputs": [],
   "source": [
    "def LensCavML(flong=75.0, fmla=6.0, eps_grin=0.0, eps_long=-4.0, eps_mirr=0.0, eps_mla=0.0, lens_diam=25.4, grin_diam=2.4, grin_thick=1.020, lens_thick=6.0, mla_thick=2.0):\n",
    "    \n",
    "    wdgrin = 0.8\n",
    "    fgrin=1.5\n",
    "    \n",
    "    p_grin_f = wdgrin + eps_grin\n",
    "    p_grin_b = p_grin_f + grin_thick\n",
    "    p_long_f = p_grin_b + fgrin + flong + eps_long\n",
    "    p_long_b = p_long_f + lens_thick\n",
    "    p_mirr = p_long_b + flong + eps_mirr\n",
    "    p_mla_f = p_long_b + flong + eps_mla\n",
    "    p_mla_b = p_mla_f + mla_thick \n",
    "    p_mirr_mla = p_mla_b + fmla + eps_mirr - eps_mla\n",
    "    \n",
    "    p0 = np.array([0,0,p_grin_f])\n",
    "    p1 = np.array([0,0,p_grin_b])\n",
    "    p2 = np.array([0,0,p_long_f])\n",
    "    p3 = np.array([0,0,p_long_b])\n",
    "    p3b = np.array([0,0,p_mla_f])\n",
    "    p3c = np.array([0,0,p_mla_b])\n",
    "    p4 = np.array([0,0,p_mirr_mla])\n",
    "\n",
    "    e = np.array([0,0,5.0])*0\n",
    "    \n",
    "    pm0 = np.array([0,0,-p_grin_f])\n",
    "    pm1 = np.array([0,0,-p_grin_b])\n",
    "    pm2 = np.array([0,0,-p_long_f])\n",
    "    pm3 = np.array([0,0,-p_long_b])\n",
    "    pm4 = np.array([0,0,-p_mirr])\n",
    "\n",
    "    \n",
    "    \n",
    "    ii = lens_diam\n",
    "    hi = 12.7\n",
    "    qi=7.75\n",
    "    ng = 1.4537\n",
    "\n",
    "    Rmla = (ng-1)*fmla\n",
    "    Rlong = (ng-1)*flong\n",
    "    # now C140 instead of \"spherical\" GRIN lens\n",
    "    Rgrin = -0.840660\n",
    "    k=-0.963070\n",
    "    An=[-9.476566e-2, -2.790461e-2, -5.415580e-3, -3.553653e-3]\n",
    "    \n",
    "    coeff = np.array([Rgrin, k,] + An) #these coefficients go _away_ from the normal\n",
    "    coeffm = coeff*-1 #these coefficients go _to_ the normal\n",
    "    coeffm[1] = k\n",
    "    \n",
    "    nz = (0., 0. ,-1.0)\n",
    "    nzm = (0., 0. ,1.0)\n",
    "    axz = (-1, 0, 0)\n",
    "    axzm = (1, 0, 0)\n",
    "\n",
    "    screen = Screen(n=nzm, ax=axzm)\n",
    "    \n",
    "    # negative sign of first cuved surface for abcd matrix\n",
    "    elements = [screen,\n",
    "                Glass(p=p0, n=nz, ax=axz, diameter=grin_diam, n2=ng),\n",
    "                ThorlabsAsphere(p=p1, n=nz, ax=axz, diameter=grin_diam, R=Rgrin, n1=ng, coef=coeffm), #R=-Rgrin,\n",
    "                Glass(p=p2, n=nz, ax=axz, diameter=ii, n2=ng),\n",
    "                CurvedGlass(p=p3, n=nz, ax=axz, diameter=ii, R=-Rlong, curv='CC', n1=ng),\n",
    "                Glass(p=p3b, n=nz, ax=axz, diameter=ii, n2=ng),\n",
    "                CurvedGlass(p=p3c, n=nz, ax=axz, diameter=ii, R=-Rmla, curv='CC', n1=ng),\n",
    "                Mirror(p=p4, n=nz, ax=axz, diameter=ii),\n",
    "                #backwards pass\n",
    "                CurvedGlass(p=p3c+e, n=nzm, ax=axzm, diameter=ii, R=Rmla, curv='CX', n2=ng),\n",
    "                Glass(p=p3b+e, n=nzm, ax=axzm, diameter=ii, n1=ng),\n",
    "                \n",
    "                CurvedGlass(p=p3+e, n=nzm, ax=axzm, diameter=ii, R=Rlong, curv='CX', n2=ng),\n",
    "                Glass(p=p2+e, n=nzm, ax=axzm, diameter=ii, n1=ng),\n",
    "                ThorlabsAsphere(p=p1+e, n=nzm, ax=axzm, diameter=grin_diam, R=-Rgrin, n2=ng, coef=coeff), #R=-Rgrin,\n",
    "                Glass(p=p0+e, n=nzm, ax=axzm, diameter=grin_diam, n1=ng),\n",
    "                #left half\n",
    "                Glass(p=pm0, n=nzm, ax=axzm, diameter=grin_diam, n2=ng),\n",
    "                #CurvedGlass(p=pm1, n=nzm, ax=axzm, diameter=grin_diam, R=-Rgrin, curv='CC', n1=ng),\n",
    "                ThorlabsAsphere(p=pm1, n=nzm, ax=axzm, diameter=grin_diam, R=Rgrin, n1=ng, coef=coeffm),\n",
    "                Glass(p=pm2, n=nzm, ax=axzm, diameter=ii, n2=ng),\n",
    "                CurvedGlass(p=pm3, n=nzm, ax=axzm, diameter=ii, R=-Rlong, curv='CC', n1=ng),\n",
    "                Mirror(p=pm4, n=nzm, ax=axzm, diameter=ii),\n",
    "                #backwards pass\n",
    "                CurvedGlass(p=pm3+e, n=nz, ax=axz, diameter=ii, R=Rlong, curv='CX', n2=ng),\n",
    "                Glass(p=pm2+e, n=nz, ax=axz, diameter=ii, n1=ng),\n",
    "                #CurvedGlass(p=pm1+e, n=nz, ax=axz, diameter=grin_diam, R=Rgrin, curv='CX', n2=ng),\n",
    "                ThorlabsAsphere(p=pm1+e, n=nz, ax=axz, diameter=grin_diam, R=-Rgrin, n2=ng, coef=coeff),\n",
    "                Glass(p=pm0+e, n=nz, ax=axz, diameter=grin_diam, n1=ng),]\n",
    "\n",
    "    return elements"
   ]
  },
  {
   "cell_type": "code",
   "execution_count": 30,
   "metadata": {},
   "outputs": [],
   "source": [
    "def LensCavAsphSimple(flong=100.0, eps_grin=0.0, eps_long=-4.0, eps_mirr=-4.0, lens_diam=25.4, grin_diam=2.4, grin_thick=1.020, lens_thick=6.0):\n",
    "    \n",
    "    wdgrin = 0.8\n",
    "    fgrin=1.5\n",
    "    \n",
    "    p_grin_f = wdgrin + eps_grin\n",
    "    p_grin_b = p_grin_f + grin_thick\n",
    "    p_long_f = p_grin_b + fgrin + flong + eps_long\n",
    "    p_long_b = p_long_f + lens_thick\n",
    "    p_mirr = p_long_b + flong + eps_mirr\n",
    "    \n",
    "    p0 = np.array([0,0,p_grin_f])\n",
    "    p1 = np.array([0,0,p_grin_b])\n",
    "    p2 = np.array([0,0,p_long_f])\n",
    "    p3 = np.array([0,0,p_long_b])\n",
    "    p4 = np.array([0,0,p_mirr])\n",
    "\n",
    "    e = np.array([0,0,5.0])*0\n",
    "    \n",
    "    pm0 = np.array([0,0,-p_grin_f])\n",
    "    pm1 = np.array([0,0,-p_grin_b])\n",
    "    pm2 = np.array([0,0,-p_long_f])\n",
    "    pm3 = np.array([0,0,-p_long_b])\n",
    "    pm4 = np.array([0,0,-p_mirr])\n",
    "\n",
    "    \n",
    "    \n",
    "    ii = lens_diam\n",
    "    hi = 12.7\n",
    "    qi=7.75\n",
    "    ng = 1.4537\n",
    "\n",
    "    # Rgrin = (ng-1)*fgrin\n",
    "    Rlong = (ng-1)*flong\n",
    "    # now C140 instead of \"spherical\" GRIN lens\n",
    "    Rgrin = -0.840660\n",
    "    k=-0.963070\n",
    "    An=[-9.476566e-2, -2.790461e-2, -5.415580e-3, -3.553653e-3]\n",
    "    \n",
    "    coeff = np.array([Rgrin, k,] + An) #these coefficients go _away_ from the normal\n",
    "    coeffm = coeff*-1 #these coefficients go _to_ the normal\n",
    "    coeffm[1] = k\n",
    "    \n",
    "    nz = (0., 0. ,-1.0)\n",
    "    nzm = (0., 0. ,1.0)\n",
    "    axz = (-1, 0, 0)\n",
    "    axzm = (1, 0, 0)\n",
    "\n",
    "    screen = Screen(n=nzm, ax=axzm)\n",
    "    screen2 = Screen(n=nzm, ax=axzm)\n",
    "\n",
    "# #backwards pass\n",
    "#                 CurvedGlass(p=p3+e, n=nzm, ax=axzm, diameter=ii, R=Rlong, curv='CX', n2=ng),\n",
    "#                 Glass(p=p2+e, n=nzm, ax=axzm, diameter=ii, n1=ng),\n",
    "#                 ThorlabsAsphere(p=p1+e, n=nzm, ax=axzm, diameter=grin_diam, n2=ng, coef=coeff), #R=-Rgrin,\n",
    "#                 Glass(p=p0+e, n=nzm, ax=axzm, diameter=grin_diam, n1=ng),\n",
    "#                 #left half\n",
    "#                 Glass(p=pm0, n=nzm, ax=axzm, diameter=grin_diam, n2=ng),\n",
    "#                 ThorlabsAsphere(p=pm1, n=nzm, ax=axzm, diameter=grin_diam, n1=ng, coef=coeffm),\n",
    "#                 Glass(p=pm2, n=nzm, ax=axzm, diameter=ii, n2=ng),\n",
    "#                 CurvedGlass(p=pm3, n=nzm, ax=axzm, diameter=ii, R=-Rlong, curv='CC', n1=ng),\n",
    "#                 Mirror(p=pm4, n=nzm, ax=axzm, diameter=ii),\n",
    "#                 #backwards pass\n",
    "#                 CurvedGlass(p=pm3+e, n=nz, ax=axz, diameter=ii, R=Rlong, curv='CX', n2=ng),\n",
    "#                 Glass(p=pm2+e, n=nz, ax=axz, diameter=ii, n1=ng),\n",
    "#                 ThorlabsAsphere(p=pm1+e, n=nz, ax=axz, diameter=grin_diam, n2=ng, coef=coeff),\n",
    "#                 Glass(p=pm0+e, n=nz, ax=axz, diameter=grin_diam, n1=ng),\n",
    "    \n",
    "    # negative sign of first cuved surface for abcd matrix\n",
    "    elements_r = [\n",
    "                Glass(p=p0, n=nz, ax=axz, diameter=grin_diam, n2=ng),\n",
    "                ThorlabsAsphere(p=p1, n=nz, ax=axz, diameter=grin_diam, n1=ng, coef=coeffm), #R=-Rgrin,\n",
    "                Glass(p=p2, n=nz, ax=axz, diameter=ii, n2=ng),\n",
    "                CurvedGlass(p=p3, n=nz, ax=axz, diameter=ii, R=-Rlong, curv='CC', n1=ng),\n",
    "                ]\n",
    "\n",
    "    elements_l = [Glass(p=pm0, n=nzm, ax=axzm, diameter=grin_diam, n2=ng),\n",
    "                ThorlabsAsphere(p=pm1, n=nzm, ax=axzm, diameter=grin_diam, n1=ng, coef=coeffm),\n",
    "                Glass(p=pm2, n=nzm, ax=axzm, diameter=ii, n2=ng),\n",
    "                CurvedGlass(p=pm3, n=nzm, ax=axzm, diameter=ii, R=-Rlong, curv='CC', n1=ng),\n",
    "                ]\n",
    "\n",
    "    return [screen, *elements_r, Mirror(p=p4, n=nz, ax=axz, diameter=ii), *(elements_r[::-1]), *elements_l, Mirror(p=pm4, n=nzm, ax=axzm, diameter=ii), *(elements_l[::-1]), screen2]"
   ]
  },
  {
   "cell_type": "code",
   "execution_count": 31,
   "metadata": {},
   "outputs": [],
   "source": [
    "elements = LensCavAsphSimple(eps_long=-4.2, eps_grin=0)\n",
    "screen = elements[0]\n",
    "sys = RaySystem(elements, add_screen=False)\n",
    "sys.screen = screen\n",
    "\n",
    "# mu = np.array([0.5, 0., 0., 0.])\n",
    "# mu = np.stack([[0.0, 0., sx, 0.] for sx in np.linspace(-0.1, 0.1, 7)*0.05], axis=0)\n",
    "mu = np.stack([[xx, 0., 0., 0.] for xx in np.linspace(-0.1, 0.1, 7)*0.1], axis=0)\n",
    "ray = sys.screen.eigenvectors_to_rays(mu)\n",
    "\n",
    "# ray = sys.screen.eigenvectors_to_rays(system.q)"
   ]
  },
  {
   "cell_type": "code",
   "execution_count": 32,
   "metadata": {},
   "outputs": [],
   "source": [
    "traj = sys.propagate(ray, at_screen=False, clip=False)"
   ]
  },
  {
   "cell_type": "code",
   "execution_count": 33,
   "metadata": {},
   "outputs": [
    {
     "data": {
      "application/vnd.jupyter.widget-view+json": {
       "model_id": "10115f8167f64a94ba72d3f51f82082e",
       "version_major": 2,
       "version_minor": 0
      },
      "image/png": "[encoded data removed]",
      "text/html": [
       "\n",
       "            <div style=\"display: inline-block;\">\n",
       "                <div class=\"jupyter-widgets widget-label\" style=\"text-align: center;\">\n",
       "                    Figure\n",
       "                </div>\n",
       "                <img src='data:image/png;base64,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' width=1200.0/>\n",
       "            </div>\n",
       "        "
      ],
      "text/plain": [
       "Canvas(toolbar=Toolbar(toolitems=[('Home', 'Reset original view', 'home', 'home'), ('Back', 'Back to previous …"
      ]
     },
     "metadata": {},
     "output_type": "display_data"
    }
   ],
   "source": [
    "plt.figure(figsize=(12, 3))\n",
    "for i in range(traj.shape[2]):\n",
    "    plt.plot(traj[:, 0, i, 2], traj[:, 0, i, 0])\n",
    "plt.show()"
   ]
  },
  {
   "cell_type": "code",
   "execution_count": 18,
   "metadata": {},
   "outputs": [
    {
     "name": "stderr",
     "output_type": "stream",
     "text": [
      "C:\\Users\\lukas\\.conda\\envs\\sloppy\\lib\\site-packages\\traittypes\\traittypes.py:101: UserWarning: Given trait value dtype \"float64\" does not match required type \"float32\". A coerced copy has been created.\n",
      "  np.dtype(self.dtype).name))\n",
      "c:\\users\\lukas\\documents\\phd\\sloppy\\src\\sloppy\\optic.py:242: RuntimeWarning: invalid value encountered in sqrt\n",
      "  z = R-np.sqrt(R**2-x**2-y**2)\n"
     ]
    },
    {
     "data": {
      "application/vnd.jupyter.widget-view+json": {
       "model_id": "7b2aa724f51b4f328c95530440dd9a15",
       "version_major": 2,
       "version_minor": 0
      },
      "text/plain": [
       "Output()"
      ]
     },
     "metadata": {},
     "output_type": "display_data"
    }
   ],
   "source": [
    "try:\n",
    "    plot.close()\n",
    "except:\n",
    "    pass\n",
    "plot = k3d.plot(camera_auto_fit=True, antialias=True)\n",
    "\n",
    "for i, el in enumerate(sys.elements):\n",
    "    if not isinstance(el, Screen):\n",
    "        plot += el.plot(opacity=0.4)\n",
    "\n",
    "for i, el in enumerate(sys.elements):\n",
    "    plot_element_ax(el, plot, length=2.)\n",
    "\n",
    "# plot_rays(ray, plot)\n",
    "plot_trajs(traj[0:7], plot)\n",
    "plot_trajs(traj[6:], plot, color=0x555500)\n",
    "\n",
    "plot.display()"
   ]
  },
  {
   "cell_type": "code",
   "execution_count": 25,
   "metadata": {},
   "outputs": [
    {
     "name": "stdout",
     "output_type": "stream",
     "text": [
      " message: NaN result encountered.\n",
      " success: False\n",
      "  status: 2\n",
      "     fun: nan\n",
      "       x: 0.0\n",
      "     nit: 1\n",
      "    nfev: 1\n"
     ]
    }
   ],
   "source": [
    "cavfct = LensCavAsphSimple\n",
    "parname = 'eps_grin'\n",
    "res = degeneracy_length(cavfct, parname, 1)\n",
    "Ldeg = res.x\n",
    "print(res)\n",
    "elements = cavfct(**{parname: Ldeg})\n",
    "sys = RaySystem(elements)\n",
    "system = sys.abcd\n",
    "mu1, mu2 = system.q"
   ]
  },
  {
   "cell_type": "code",
   "execution_count": 10,
   "metadata": {},
   "outputs": [],
   "source": [
    "def _cavity_parameter_interaction_factory(cavfct, parname, scanrange, N = 300):\n",
    "    fig, ax = plt.subplots(ncols=2, figsize=(8,4), sharex=True)\n",
    "    lws = [ax[0].plot([0, 1], [0, 1])[0] for i in range(2)]\n",
    "    ax[0].set_ylabel('um')\n",
    "    lfs = [ax[1].plot([0, 1], [0, 1])[0] for i in range(4)]\n",
    "    ax[1].set_ylabel('MHz')\n",
    "    axh1 = ax[1].axhline(0, color='grey')\n",
    "    axv0 = ax[0].axvline(0, color='grey')\n",
    "    axv1 = ax[1].axvline(0, color='grey')\n",
    "    plt.show()\n",
    "    \n",
    "    def update_waists_vs_params(cavfct, parname, scanrange, N = 300, **kwargs):\n",
    "        stab = lambda m: abs(0.5*np.trace(m))<1\n",
    "        scanrange=[-5, 3]\n",
    "        La = kwargs[parname]\n",
    "        Las = La + np.linspace(-scanrange[0], scanrange[0], N)\n",
    "        ms = np.zeros((N))\n",
    "        ws = np.zeros((N,2))\n",
    "        freqs = np.zeros((N,4))\n",
    "        for i, l in enumerate(Las):\n",
    "            pardct = kwargs.copy()\n",
    "            pardct.update({parname: l})\n",
    "            sys = RaySystem( cavfct(**pardct) )\n",
    "\n",
    "            try:\n",
    "                system = sys.abcd\n",
    "                w = system.waist_at(0)\n",
    "            except:\n",
    "                ws[i,:] = np.nan\n",
    "                ms[i] = np.nan\n",
    "                freqs[i,...] = np.nan\n",
    "            else:\n",
    "                ms[i] = stab(system.abcd_rt)\n",
    "                ws[i,:] = np.sort(w)\n",
    "                freqs[i,...] = np.concatenate(system.get_freqs(s=1))\n",
    "                #ft, fs3 = system.get_freqs()\n",
    "                #fsr = system.fsr\n",
    "                #freqs[i,...] = np.concatenate((ft, np.mod(3*ft, fsr)))\n",
    "                idx = np.argmin(np.abs(freqs[:,2]))\n",
    "        for i in range(2):\n",
    "            lws[i].set_data(np.stack((Las, ws[:,i]*1e3), axis=0))\n",
    "        for i in range(4):\n",
    "            lfs[i].set_data(np.stack((Las, freqs[:,i]*1e-6), axis=0))\n",
    "        axv0.set_xdata([Las[idx], Las[idx]])\n",
    "        axv1.set_xdata([Las[idx], Las[idx]])\n",
    "        Ldeg = Las[idx]\n",
    "        ax[0].set_xlim(Las[0], Las[-1])\n",
    "        ax[0].set_ylim(0.8*np.nanmin(ws*1e3), 1.1*np.nanmax(ws*1e3))\n",
    "        ax[1].set_ylim(0.8*np.nanmin(freqs*1e-6), 1.1*np.nanmax(freqs*1e-6))\n",
    "        fig.canvas.draw_idle()\n",
    "    \n",
    "    _magnitude = lambda x: 1. if abs(x)<0.1 else int(np.floor(np.log10(abs(x))))\n",
    "    _sgn = lambda x: 1 if x>0 else -1\n",
    "    _min = lambda x: -1 if x==0 else (1.5*x if x<0 else 0.5*x)\n",
    "    _max = lambda x: 1 if x==0 else (0.5*x if x<0 else 1.5*x)\n",
    "\n",
    "    \n",
    "    lo = Layout(width='80%', height='30px')\n",
    "    for v in inspect.signature(cavfct).parameters.values():\n",
    "        print(v.name, v.default)\n",
    "    sliders = {v.name: FloatSlider(value=v.default, min=_min(v.default), max=_max(v.default), step=10**(_magnitude(v.default)-2), readout_format='.2e', layout=lo) for v in inspect.signature(cavfct).parameters.values()}\n",
    "    sliders.update({'scanrange': FloatLogSlider(value=scanrange, min=-3, max=1, step=0.5, layout=lo)})\n",
    "    return interactive(update_waists_vs_params, cavfct=fixed(cavfct), parname = fixed('eps_grin'), N=fixed(N), **sliders)"
   ]
  },
  {
   "cell_type": "code",
   "execution_count": 16,
   "metadata": {},
   "outputs": [
    {
     "data": {
      "application/vnd.jupyter.widget-view+json": {
       "model_id": "d0d48870749e4f309c7ccf4a90a30663",
       "version_major": 2,
       "version_minor": 0
      },
      "text/plain": [
       "Canvas(toolbar=Toolbar(toolitems=[('Home', 'Reset original view', 'home', 'home'), ('Back', 'Back to previous …"
      ]
     },
     "metadata": {},
     "output_type": "display_data"
    },
    {
     "name": "stdout",
     "output_type": "stream",
     "text": [
      "flong 75.0\n",
      "fmla 6.0\n",
      "eps_grin 0.0\n",
      "eps_long -4.0\n",
      "eps_mirr 0.0\n",
      "eps_mla 0.0\n",
      "lens_diam 25.4\n",
      "grin_diam 2.4\n",
      "grin_thick 1.02\n",
      "lens_thick 6.0\n",
      "mla_thick 2.0\n"
     ]
    },
    {
     "data": {
      "application/vnd.jupyter.widget-view+json": {
       "model_id": "4ae4f2b6300144cdb85f5f6112a6b32a",
       "version_major": 2,
       "version_minor": 0
      },
      "text/plain": [
       "interactive(children=(FloatLogSlider(value=0.1, description='scanrange', layout=Layout(height='30px', width='8…"
      ]
     },
     "metadata": {},
     "output_type": "display_data"
    }
   ],
   "source": [
    "_cavity_parameter_interaction_factory(LensCavML, 'eps_grin',0.1, N=100)"
   ]
  },
  {
   "cell_type": "code",
   "execution_count": 35,
   "metadata": {},
   "outputs": [],
   "source": [
    "cavfct = LensCavML\n",
    "elements = cavfct(eps_long=-5.3, eps_grin=-0.0)\n",
    "sys = RaySystem(elements)\n",
    "system = sys.abcd\n",
    "mu1, mu2 = system.q"
   ]
  },
  {
   "cell_type": "code",
   "execution_count": 36,
   "metadata": {},
   "outputs": [
    {
     "data": {
      "text/plain": [
       "[<sloppy.optic.Screen at 0x1b195766188>,\n",
       " <sloppy.optic.Glass at 0x1b193c30088>,\n",
       " <sloppy.optic.ThorlabsAsphere at 0x1b193bf3988>,\n",
       " <sloppy.optic.Glass at 0x1b193bf3d48>,\n",
       " <sloppy.optic.CurvedGlass at 0x1b19266b208>,\n",
       " <sloppy.optic.Glass at 0x1b1953e4b88>,\n",
       " <sloppy.optic.CurvedGlass at 0x1b1953e4c88>,\n",
       " <sloppy.optic.Mirror at 0x1b1953e47c8>,\n",
       " <sloppy.optic.CurvedGlass at 0x1b1936a1908>,\n",
       " <sloppy.optic.Glass at 0x1b1959b4448>,\n",
       " <sloppy.optic.CurvedGlass at 0x1b1936a1a88>,\n",
       " <sloppy.optic.Glass at 0x1b1936a12c8>,\n",
       " <sloppy.optic.ThorlabsAsphere at 0x1b1936a1408>,\n",
       " <sloppy.optic.Glass at 0x1b19d323808>,\n",
       " <sloppy.optic.Glass at 0x1b19d323cc8>,\n",
       " <sloppy.optic.ThorlabsAsphere at 0x1b19d323f48>,\n",
       " <sloppy.optic.Glass at 0x1b19d323f88>,\n",
       " <sloppy.optic.CurvedGlass at 0x1b19d323b08>,\n",
       " <sloppy.optic.Mirror at 0x1b19d323b88>,\n",
       " <sloppy.optic.CurvedGlass at 0x1b19d323948>,\n",
       " <sloppy.optic.Glass at 0x1b19d323d88>,\n",
       " <sloppy.optic.ThorlabsAsphere at 0x1b19d323588>,\n",
       " <sloppy.optic.Glass at 0x1b19398d508>,\n",
       " <sloppy.optic.Screen at 0x1b193f56948>]"
      ]
     },
     "execution_count": 36,
     "metadata": {},
     "output_type": "execute_result"
    }
   ],
   "source": [
    "sys.elements"
   ]
  },
  {
   "cell_type": "code",
   "execution_count": 50,
   "metadata": {},
   "outputs": [
    {
     "name": "stdout",
     "output_type": "stream",
     "text": [
      "0 <sloppy.optic.Screen object at 0x000001B195766188> 0\n",
      "1 <sloppy.optic.Glass object at 0x000001B193C30088> 0.8\n",
      "2 <sloppy.optic.ThorlabsAsphere object at 0x000001B193BF3988> 1.02\n",
      "3 <sloppy.optic.Glass object at 0x000001B193BF3D48> 71.2\n",
      "4 <sloppy.optic.CurvedGlass object at 0x000001B19266B208> 6.0\n",
      "5 <sloppy.optic.Glass object at 0x000001B1953E4B88> 74.99999999999999\n",
      "6 <sloppy.optic.CurvedGlass object at 0x000001B1953E4C88> 2.0\n",
      "7 <sloppy.optic.Mirror object at 0x000001B1953E47C8> 6.0\n",
      "8 <sloppy.optic.CurvedGlass object at 0x000001B1936A1908> 6.0\n",
      "9 <sloppy.optic.Glass object at 0x000001B1959B4448> 2.0\n",
      "10 <sloppy.optic.CurvedGlass object at 0x000001B1936A1A88> 74.99999999999999\n",
      "11 <sloppy.optic.Glass object at 0x000001B1936A12C8> 6.0\n",
      "12 <sloppy.optic.ThorlabsAsphere object at 0x000001B1936A1408> 71.2\n",
      "13 <sloppy.optic.Glass object at 0x000001B19D323808> 1.02\n",
      "14 <sloppy.optic.Glass object at 0x000001B19D323CC8> 1.6\n",
      "15 <sloppy.optic.ThorlabsAsphere object at 0x000001B19D323F48> 1.02\n",
      "16 <sloppy.optic.Glass object at 0x000001B19D323F88> 71.2\n",
      "17 <sloppy.optic.CurvedGlass object at 0x000001B19D323B08> 6.0\n",
      "18 <sloppy.optic.Mirror object at 0x000001B19D323B88> 74.99999999999999\n",
      "19 <sloppy.optic.CurvedGlass object at 0x000001B19D323948> 74.99999999999999\n",
      "20 <sloppy.optic.Glass object at 0x000001B19D323D88> 6.0\n",
      "21 <sloppy.optic.ThorlabsAsphere object at 0x000001B19D323588> 71.2\n",
      "22 <sloppy.optic.Glass object at 0x000001B19398D508> 1.02\n",
      "23 <sloppy.optic.Screen object at 0x000001B193F56948> 0.4\n"
     ]
    }
   ],
   "source": [
    "pos = [e.p for e in sys.elements]\n",
    "\n",
    "abcd = []\n",
    "for i, el in enumerate(sys.elements):\n",
    "    if i>0:\n",
    "        d = np.linalg.norm(pos[i-1]-pos[i])\n",
    "    else:\n",
    "        d = 0\n",
    "    print(i, el, d)\n",
    "    if isinstance(el, Glass) or isinstance(el, CurvedGlass) or isinstance(el, FreeFormInterface) or isinstance(el, ThorlabsAsphere):\n",
    "        #modify index of refraction in propagation according to Glass element\n",
    "        abcd.extend([Prop(d, n=el.n1), ABCD(el.m), ABCD(el.Rbasis)])\n",
    "    else:\n",
    "        abcd.extend([Prop(d), ABCD(el.m), ABCD(el.Rbasis)])"
   ]
  },
  {
   "cell_type": "code",
   "execution_count": 51,
   "metadata": {},
   "outputs": [],
   "source": [
    "system = ABCDSystem(abcd)"
   ]
  },
  {
   "cell_type": "code",
   "execution_count": 52,
   "metadata": {},
   "outputs": [
    {
     "data": {
      "text/plain": [
       "array([0.  , 0.  , 1.82])"
      ]
     },
     "execution_count": 52,
     "metadata": {},
     "output_type": "execute_result"
    }
   ],
   "source": [
    "sys.elements[2].p"
   ]
  },
  {
   "cell_type": "code",
   "execution_count": 53,
   "metadata": {},
   "outputs": [
    {
     "data": {
      "text/plain": [
       "array([[1.        , 0.        , 0.        , 0.        ],\n",
       "       [0.        , 1.        , 0.        , 0.        ],\n",
       "       [0.        , 0.        , 0.68789984, 0.        ],\n",
       "       [0.        , 0.        , 0.        , 0.68789984]])"
      ]
     },
     "execution_count": 53,
     "metadata": {},
     "output_type": "execute_result"
    }
   ],
   "source": [
    "system.elements[4].m"
   ]
  },
  {
   "cell_type": "code",
   "execution_count": 54,
   "metadata": {},
   "outputs": [
    {
     "name": "stdout",
     "output_type": "stream",
     "text": [
      "3 <class 'sloppy.abcd.Prop'> 0.0\n",
      "4 <class 'sloppy.abcd.ABCD'> 0.8\n",
      "6 <class 'sloppy.abcd.Prop'> 0.8\n",
      "7 <class 'sloppy.abcd.ABCD'> 1.82\n",
      "9 <class 'sloppy.abcd.Prop'> 1.82\n",
      "10 <class 'sloppy.abcd.ABCD'> 73.02\n",
      "12 <class 'sloppy.abcd.Prop'> 73.02\n",
      "13 <class 'sloppy.abcd.ABCD'> 79.02\n",
      "15 <class 'sloppy.abcd.Prop'> 79.02\n",
      "16 <class 'sloppy.abcd.ABCD'> 154.01999999999998\n",
      "18 <class 'sloppy.abcd.Prop'> 154.01999999999998\n",
      "19 <class 'sloppy.abcd.ABCD'> 156.01999999999998\n",
      "21 <class 'sloppy.abcd.Prop'> 156.01999999999998\n",
      "24 <class 'sloppy.abcd.Prop'> 162.01999999999998\n",
      "25 <class 'sloppy.abcd.ABCD'> 168.01999999999998\n",
      "27 <class 'sloppy.abcd.Prop'> 168.01999999999998\n",
      "28 <class 'sloppy.abcd.ABCD'> 170.01999999999998\n",
      "30 <class 'sloppy.abcd.Prop'> 170.01999999999998\n",
      "31 <class 'sloppy.abcd.ABCD'> 245.01999999999998\n",
      "33 <class 'sloppy.abcd.Prop'> 245.01999999999998\n",
      "34 <class 'sloppy.abcd.ABCD'> 251.01999999999998\n",
      "36 <class 'sloppy.abcd.Prop'> 251.01999999999998\n",
      "37 <class 'sloppy.abcd.ABCD'> 322.21999999999997\n",
      "39 <class 'sloppy.abcd.Prop'> 322.21999999999997\n",
      "40 <class 'sloppy.abcd.ABCD'> 323.23999999999995\n",
      "42 <class 'sloppy.abcd.Prop'> 323.23999999999995\n",
      "43 <class 'sloppy.abcd.ABCD'> 324.84\n",
      "45 <class 'sloppy.abcd.Prop'> 324.84\n",
      "46 <class 'sloppy.abcd.ABCD'> 325.85999999999996\n",
      "48 <class 'sloppy.abcd.Prop'> 325.85999999999996\n",
      "49 <class 'sloppy.abcd.ABCD'> 397.05999999999995\n",
      "51 <class 'sloppy.abcd.Prop'> 397.05999999999995\n",
      "52 <class 'sloppy.abcd.ABCD'> 403.05999999999995\n",
      "54 <class 'sloppy.abcd.Prop'> 403.05999999999995\n",
      "57 <class 'sloppy.abcd.Prop'> 478.05999999999995\n",
      "58 <class 'sloppy.abcd.ABCD'> 553.06\n",
      "60 <class 'sloppy.abcd.Prop'> 553.06\n",
      "61 <class 'sloppy.abcd.ABCD'> 559.06\n",
      "63 <class 'sloppy.abcd.Prop'> 559.06\n",
      "64 <class 'sloppy.abcd.ABCD'> 630.26\n",
      "66 <class 'sloppy.abcd.Prop'> 630.26\n",
      "67 <class 'sloppy.abcd.ABCD'> 631.28\n",
      "69 <class 'sloppy.abcd.Prop'> 631.28\n"
     ]
    }
   ],
   "source": [
    "for i, e in enumerate(system.elements):\n",
    "    if not np.allclose(e.m, np.identity(4, dtype=np.float64)): \n",
    "        print(i, type(e), e.x)"
   ]
  },
  {
   "cell_type": "code",
   "execution_count": 57,
   "metadata": {},
   "outputs": [
    {
     "data": {
      "application/vnd.jupyter.widget-view+json": {
       "model_id": "3fafc4b1b2df4dc3af426d4b6a7639eb",
       "version_major": 2,
       "version_minor": 0
      },
      "text/plain": [
       "Canvas(toolbar=Toolbar(toolitems=[('Home', 'Reset original view', 'home', 'home'), ('Back', 'Back to previous …"
      ]
     },
     "metadata": {},
     "output_type": "display_data"
    }
   ],
   "source": [
    "x = np.linspace(0, system.Ltot, 5000)\n",
    "ws = system.compute_waists(x)\n",
    "plt.figure()\n",
    "plt.plot(x, ws)\n",
    "for i, e in enumerate(system.elements):\n",
    "    if type(e)!=Prop:\n",
    "        plt.axvline(e.x, color='grey', ls=':')\n",
    "# plt.yscale('log')\n",
    "plt.show()"
   ]
  },
  {
   "cell_type": "code",
   "execution_count": 302,
   "metadata": {},
   "outputs": [],
   "source": [
    "plt.close('all')"
   ]
  },
  {
   "cell_type": "code",
   "execution_count": 5,
   "metadata": {},
   "outputs": [],
   "source": [
    "Npt = 20\n",
    "a = 0.5\n",
    "x = np.linspace(-a, a, Npt)\n",
    "coords = np.meshgrid(x, x)\n",
    "\n",
    "xy = np.stack(coords, axis=-1).reshape((-1,2))\n",
    "#pxy = np.zeros_like(xy)\n",
    "pxy = np.broadcast_to(np.array([0, 0]), xy.shape)\n",
    "mu = np.concatenate((xy, pxy), axis=1)\n",
    "ray = sys.screen.eigenvectors_to_rays(mu)"
   ]
  },
  {
   "cell_type": "code",
   "execution_count": 6,
   "metadata": {},
   "outputs": [],
   "source": [
    "traj = sys.propagate(ray, at_screen=True)\n",
    "pos = sys.screen.r_to_screen_coords(traj[-1,0,:,:])"
   ]
  },
  {
   "cell_type": "code",
   "execution_count": 7,
   "metadata": {},
   "outputs": [
    {
     "data": {
      "application/vnd.jupyter.widget-view+json": {
       "model_id": "e2c41b590d4c4c9d8073571c3b553c85",
       "version_major": 2,
       "version_minor": 0
      },
      "text/plain": [
       "Canvas(toolbar=Toolbar(toolitems=[('Home', 'Reset original view', 'home', 'home'), ('Back', 'Back to previous …"
      ]
     },
     "metadata": {},
     "output_type": "display_data"
    },
    {
     "data": {
      "text/plain": [
       "<matplotlib.collections.PathCollection at 0x1b455571608>"
      ]
     },
     "execution_count": 7,
     "metadata": {},
     "output_type": "execute_result"
    }
   ],
   "source": [
    "plt.figure()\n",
    "plt.scatter(xy[:,0], xy[:,1], s=2.)\n",
    "plt.scatter(pos[:,0], pos[:,1], s=2.)"
   ]
  },
  {
   "cell_type": "code",
   "execution_count": 10,
   "metadata": {},
   "outputs": [
    {
     "data": {
      "application/vnd.jupyter.widget-view+json": {
       "model_id": "0f7781a9a06244b199eb6af61e5f5827",
       "version_major": 2,
       "version_minor": 0
      },
      "text/plain": [
       "Canvas(toolbar=Toolbar(toolitems=[('Home', 'Reset original view', 'home', 'home'), ('Back', 'Back to previous …"
      ]
     },
     "metadata": {},
     "output_type": "display_data"
    },
    {
     "data": {
      "application/vnd.jupyter.widget-view+json": {
       "model_id": "5aad83f712354d9289f508a22b1abd06",
       "version_major": 2,
       "version_minor": 0
      },
      "text/plain": [
       "interactive(children=(FloatSlider(value=0.0, description='dl', max=1.0, min=-1.0, step=0.001), FloatSlider(val…"
      ]
     },
     "metadata": {},
     "output_type": "display_data"
    }
   ],
   "source": [
    "fig, ax = plt.subplots(ncols=1, figsize=(6, 6))\n",
    "ms = 8.\n",
    "linea = plt.scatter(xy[:,0], xy[:,1], s=2.)\n",
    "lineb = plt.scatter(pos[:,0], pos[:,1], s=2.)\n",
    "plt.xlabel('x [mm]')\n",
    "plt.ylabel('y [mm]')\n",
    "\n",
    "cavfct = LensCav\n",
    "parname = 'lens_dist'\n",
    "\n",
    "def update_xygrid(dl=0.0, a=0.1, px=1e-2, py=-1e-3, Nrt=3, Npts=20, **kwargs):\n",
    "    res = degeneracy_length(cavfct, parname, 1e-3)\n",
    "    Ldeg = res.x\n",
    "    print(res)\n",
    "    elements = cavfct(**{parname: Ldeg+dl})\n",
    "    sys = RaySystem(elements)\n",
    "    \n",
    "    x = np.linspace(-a, a, Npts)\n",
    "    coords = np.meshgrid(x, x)\n",
    "    xy = np.stack(coords, axis=-1).reshape((-1,2))\n",
    "    pxy = np.broadcast_to(np.array([px, -py]), xy.shape)\n",
    "    mu = np.concatenate((xy, pxy), axis=1)\n",
    "    ray = sys.screen.eigenvectors_to_rays(mu)\n",
    "    traj = sys.propagate(ray, at_screen=True)\n",
    "    pos = sys.screen.r_to_screen_coords(traj[-1,0,:,:])\n",
    "    linea.set_offsets(xy)\n",
    "    lineb.set_offsets(pos)\n",
    "  \n",
    "    #ax.relim()\n",
    "    #ax.autoscale_view()\n",
    "    fig.canvas.draw_idle()\n",
    "        \n",
    "interactive(update_xygrid, dl=(-1, 1, 1e-3), a = (0,1,1e-2),\\\n",
    "            px=(-0.1,0.1,1e-3), py=(-0.1,0.1,1e-3), Nrt=(0,10,1), Npts=(10, 100, 10))"
   ]
  },
  {
   "cell_type": "code",
   "execution_count": 31,
   "metadata": {},
   "outputs": [
    {
     "data": {
      "application/vnd.jupyter.widget-view+json": {
       "model_id": "75528277ca774c7f93fb6cf073339245",
       "version_major": 2,
       "version_minor": 0
      },
      "text/plain": [
       "Canvas(toolbar=Toolbar(toolitems=[('Home', 'Reset original view', 'home', 'home'), ('Back', 'Back to previous …"
      ]
     },
     "metadata": {},
     "output_type": "display_data"
    },
    {
     "data": {
      "application/vnd.jupyter.widget-view+json": {
       "model_id": "8f54e8129a104e80834d9e525ebdb624",
       "version_major": 2,
       "version_minor": 0
      },
      "text/plain": [
       "interactive(children=(FloatSlider(value=0.0, description='dl', max=1.0, min=-1.0, step=0.001), FloatSlider(val…"
      ]
     },
     "metadata": {},
     "output_type": "display_data"
    }
   ],
   "source": [
    "fig, ax = plt.subplots(ncols=1, figsize=(6, 6))\n",
    "ms = 8.\n",
    "linea = plt.scatter(xy[:,0], xy[:,1], s=2.)\n",
    "lineb = plt.scatter(pos[:,0], pos[:,1], s=2.)\n",
    "plt.xlabel('px [mm]')\n",
    "plt.ylabel('py [mm]')\n",
    "\n",
    "cavfct = LensCav\n",
    "parname = 'lens_dist'\n",
    "\n",
    "def update_xygrid(dl=0.0, a=5e-2, x=0.004, y=-0.004, Nrt=3, Npts=20, **kwargs):\n",
    "    res = degeneracy_length(cavfct, parname, 1e-3)\n",
    "    Ldeg = res.x\n",
    "    elements = cavfct(**{parname: Ldeg+dl})\n",
    "    sys = RaySystem(elements)\n",
    "    \n",
    "    xx = np.linspace(-a*1e-1, a*1e-1, Npts)\n",
    "    coords = np.meshgrid(xx, xx)\n",
    "    pxy = np.stack(coords, axis=-1).reshape((-1,2))\n",
    "    xy = np.broadcast_to(np.array([x, y]), pxy.shape)\n",
    "    mu = np.concatenate((xy, pxy), axis=1)\n",
    "    ray = sys.screen.eigenvectors_to_rays(mu)\n",
    "    traj = sys.propagate(ray, Nrt=Nrt, at_screen=True)\n",
    "    pos = sys.screen.r_to_screen_coords(traj[-1,0,:,:])\n",
    "    linea.set_offsets(pxy)\n",
    "    lineb.set_offsets(pos)\n",
    "    plt.xlim(1.5*np.nanmin(pxy[:,0]), 1.5*np.nanmax(pxy[:,0]))\n",
    "    plt.ylim(1.5*np.nanmin(pxy[:,1]), 1.5*np.nanmax(pxy[:,1]))\n",
    "    fig.canvas.draw_idle()\n",
    "interactive(update_xygrid, dl=(-1, 1, 1e-3), a = (0,1,1e-3),\\\n",
    "            x=(-0.1,0.1,1e-3), y=(-0.1,0.1,1e-3), Nrt=(0,10,1), Npts=(10, 100, 10))"
   ]
  },
  {
   "cell_type": "code",
   "execution_count": null,
   "metadata": {},
   "outputs": [],
   "source": [
    "res = degeneracy_length(cavfct, parname, 1e-3)\n",
    "Ldeg = res.x\n",
    "elements = cavfct(**{parname: Ldeg+dl})\n",
    "sys = RaySystem(elements)\n",
    "\n",
    "a = 0.004\n",
    "pa = 0.006\n",
    "xx = np.linspace(-a*1e-1, a*1e-1, Npts)\n",
    "coords = np.meshgrid(xx, xx)\n",
    "pxy = np.stack(coords, axis=-1).reshape((-1,2))\n",
    "xy = np.broadcast_to(np.array([x, y]), pxy.shape)\n",
    "mu = np.concatenate((xy, pxy), axis=1)\n",
    "ray = sys.screen.eigenvectors_to_rays(mu)\n",
    "traj = sys.propagate(ray, Nrt=Nrt, at_screen=True)\n",
    "pos = sys.screen.r_to_screen_coords(traj[-1,0,:,:])\n",
    "linea.set_offsets(pxy)\n",
    "lineb.set_offsets(pos)\n",
    "plt.xlim(1.5*np.nanmin(pxy[:,0]), 1.5*np.nanmax(pxy[:,0]))\n",
    "plt.ylim(1.5*np.nanmin(pxy[:,1]), 1.5*np.nanmax(pxy[:,1]))"
   ]
  },
  {
   "cell_type": "code",
   "execution_count": 35,
   "metadata": {},
   "outputs": [
    {
     "data": {
      "application/vnd.jupyter.widget-view+json": {
       "model_id": "b854ade2eb3c4a4d92da07ef1596e793",
       "version_major": 2,
       "version_minor": 0
      },
      "text/plain": [
       "Canvas(toolbar=Toolbar(toolitems=[('Home', 'Reset original view', 'home', 'home'), ('Back', 'Back to previous …"
      ]
     },
     "metadata": {},
     "output_type": "display_data"
    },
    {
     "data": {
      "application/vnd.jupyter.widget-view+json": {
       "model_id": "c310f7dc848d4a3eace9e24cf06f1b5c",
       "version_major": 2,
       "version_minor": 0
      },
      "text/plain": [
       "interactive(children=(FloatSlider(value=27.768298126226423, description='dl', max=28.768298126226423, min=26.7…"
      ]
     },
     "metadata": {},
     "output_type": "display_data"
    }
   ],
   "source": [
    "fig, ax = plt.subplots(ncols=1, figsize=(6, 6))\n",
    "ms = 8.\n",
    "linea = plt.scatter(xy[:,0], xy[:,1], s=1., marker='.')\n",
    "lineb = plt.scatter(pos[:,0], pos[:,1], s=2.)\n",
    "plt.xlabel('x [mm]')\n",
    "plt.ylabel('y [mm]')\n",
    "\n",
    "def update_xygrid6(dl=Ldeg, dz=1.5825, a=0.1, px=1e-2, py=-1e-3, Nrt=1, Npts=20, **kwargs):\n",
    "    elements, _ = SixMirror(dx=dl, dzF=dz)\n",
    "    sys = RaySystem(elements)\n",
    "    \n",
    "    x = np.linspace(-a, a, Npts)\n",
    "    coords = np.meshgrid(x, x)\n",
    "    xy = np.stack(coords, axis=-1).reshape((-1,2))\n",
    "    pxy = np.broadcast_to(np.array([px, -py]), xy.shape)\n",
    "    mu = np.concatenate((xy, pxy), axis=1)\n",
    "    ray = sys.screen.eigenvectors_to_rays(mu)\n",
    "    traj = sys.propagate(ray, at_screen=True, Nrt=Nrt)\n",
    "    pos = sys.screen.r_to_screen_coords(traj[-1,0,:,:])\n",
    "    linea.set_offsets(xy)\n",
    "    lineb.set_offsets(pos)\n",
    "  \n",
    "    ax.relim()\n",
    "    #ax.autoscale_view()\n",
    "    fig.canvas.draw_idle()\n",
    "        \n",
    "interactive(update_xygrid6, dl=(Ldeg-1, Ldeg+1, 1e-2), dz=(0, 1.5825, 1e-2), a = (0,1,1e-2),\\\n",
    "            px=(-0.1,0.1,1e-3), py=(-0.1,0.1,1e-3), Nrt=(1,11,1), Npts=(10, 100, 10))"
   ]
  },
  {
   "cell_type": "code",
   "execution_count": 29,
   "metadata": {},
   "outputs": [],
   "source": [
    "plt.close(\"all\")"
   ]
  },
  {
   "cell_type": "code",
   "execution_count": null,
   "metadata": {},
   "outputs": [],
   "source": []
  }
 ],
 "metadata": {
  "kernelspec": {
   "display_name": "Python [conda env:.conda-sloppy]",
   "language": "python",
   "name": "conda-env-.conda-sloppy-py"
  },
  "language_info": {
   "codemirror_mode": {
    "name": "ipython",
    "version": 3
   },
   "file_extension": ".py",
   "mimetype": "text/x-python",
   "name": "python",
   "nbconvert_exporter": "python",
   "pygments_lexer": "ipython3",
   "version": "3.11.4"
  }
 },
 "nbformat": 4,
 "nbformat_minor": 4
}
