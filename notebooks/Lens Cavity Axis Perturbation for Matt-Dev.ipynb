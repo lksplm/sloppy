{
 "cells": [
  {
   "cell_type": "code",
   "execution_count": 1,
   "metadata": {},
   "outputs": [],
   "source": [
    "%load_ext autoreload\n",
    "%autoreload 2"
   ]
  },
  {
   "cell_type": "code",
   "execution_count": 2,
   "metadata": {},
   "outputs": [
    {
     "name": "stderr",
     "output_type": "stream",
     "text": [
      "c:\\users\\lukas\\box\\lukas\\03_theory\\abcd\\sloppy\\src\\sloppy\\joptic.py:59: NumbaDeprecationWarning: \u001b[1mThe 'numba.jitclass' decorator has moved to 'numba.experimental.jitclass' to better reflect the experimental nature of the functionality. Please update your imports to accommodate this change and see http://numba.pydata.org/numba-doc/latest/reference/deprecation.html#change-of-jitclass-location for the time frame.\u001b[0m\n",
      "  @jitclass(spec)\n"
     ]
    }
   ],
   "source": [
    "%matplotlib widget\n",
    "import numpy as np\n",
    "import k3d\n",
    "import matplotlib.pyplot as plt\n",
    "from sloppy.optic import *\n",
    "from sloppy.raytracing import *\n",
    "from sloppy.abcd import *\n",
    "from sloppy.utils import *\n",
    "from sloppy.tools import *\n",
    "from sloppy.metrics import *\n",
    "from ipywidgets import Layout, IntSlider, FloatLogSlider, FloatSlider, interactive, fixed\n",
    "import inspect"
   ]
  },
  {
   "cell_type": "code",
   "execution_count": 68,
   "metadata": {},
   "outputs": [],
   "source": [
    "import cma"
   ]
  },
  {
   "cell_type": "code",
   "execution_count": 3,
   "metadata": {
    "jupyter": {
     "source_hidden": true
    }
   },
   "outputs": [],
   "source": [
    "#def LensCavCAD(arm1=48., arm2=30., base=19., angle=180.-129., lens_dist=22.2, lens_diam=6.35, lens_thick=4., Rlens=5.0):\n",
    "#    return LensCav(arm1=arm1, arm2=arm2, base=base, angle=angle, lens_dist=lens_dist, lens_diam=lens_diam, lens_thick=lens_thick, Rlens=Rlens)\n",
    "def LensCavCADpert(arm1=48., arm2=30., base=19., angle=180.-129., lens_dist=22.2, Rlens=5.0, c4=6e-4, c6=0., c8=0., eps=np.zeros((12,5))):\n",
    "    angle = np.deg2rad(angle)\n",
    "    lens_diam=6.35\n",
    "    lens_thick=4.\n",
    "    quart_thick=2.\n",
    "    quart_dist=1e-6\n",
    "    \n",
    "    p0 = np.array([lens_dist/2.-lens_thick/2.,0,0])\n",
    "    p1 = np.array([lens_dist/2.+lens_thick/2.,0,0])\n",
    "    pa = np.array([lens_dist/2.+lens_thick/2.+quart_dist, 0, 0])\n",
    "    pb = np.array([lens_dist/2.+lens_thick/2.+quart_dist+quart_thick,0,0])\n",
    "    p2 = np.array([arm1/2.,0,0])\n",
    "    p3 = np.array([np.cos(angle)*arm2/2.,base,np.sin(angle)*arm2/2.])\n",
    "    p4 = np.array([-np.cos(angle)*arm2/2.,base,-np.sin(angle)*arm2/2.])\n",
    "    p5 = np.array([-arm1/2.,0,0])\n",
    "    pc = np.array([-lens_dist/2.-lens_thick/2.-quart_dist-quart_thick,0,0])\n",
    "    pd = np.array([-lens_dist/2.-lens_thick/2.-quart_dist,0,0])\n",
    "    p6 = np.array([-lens_dist/2.-lens_thick/2.,0,0])\n",
    "    p7 = np.array([-lens_dist/2.+lens_thick/2.,0,0])\n",
    "\n",
    "    ps = np.stack([p0,p1,pa,pb,p2,p3,p4,p5,pc,pd,p6,p7], axis=0)\n",
    "    \n",
    "    geom = geometry(ps)\n",
    "    ns = geom['refl']\n",
    "    ps = geom['mir']\n",
    "    angles = geom['angles']\n",
    "    Rtr = geom['R']\n",
    "    ax_x = geom['xin']\n",
    "    ax_y = np.cross(ns, ax_x)\n",
    "        \n",
    "    #apply poition perturbations\n",
    "    ps += eps[:,:3]\n",
    "    ns = [rot_vec(rot_vec(ns[i], ax_x[i], np.deg2rad(eps[i,3])), ax_y[i], np.deg2rad(eps[i,4])) for i, n in enumerate(ns)]    \n",
    "        \n",
    "    hi = 12.7\n",
    "    qi= 7.75\n",
    "    ng = 1.4537\n",
    "    coef = np.zeros(9)\n",
    "    coef[4] = c4\n",
    "    coef[6] = c6\n",
    "    coef[8] = c8\n",
    "    elements = [\\\n",
    "                Glass(p=ps[0], n=ns[0], ax=ax_x[0], ay=ax_y[0], Rbasis=Rtr[0], diameter=lens_diam, n2=ng),\\\n",
    "                CurvedGlass(p=ps[1], n=ns[1], ax=ax_x[1], ay=ax_y[1], Rbasis=Rtr[1], diameter=lens_diam, R=-Rlens, curv='CC', n1=ng),\\\n",
    "                FreeFormInterface(p=ps[2], n=ns[2], ax=ax_x[2], ay=ax_y[2], Rbasis=Rtr[2], diameter=lens_diam, n2=ng, coef=coef),\\\n",
    "                Glass(p=ps[3], n=ns[3], ax=ax_x[3], ay=ax_y[3], Rbasis=Rtr[3], diameter=lens_diam, n1=ng),\\\n",
    "                Mirror(p=ps[4], n=ns[4], ax=ax_x[4], ay=ax_y[4], Rbasis=Rtr[4], diameter=hi),\\\n",
    "                Mirror(p=ps[5], n=ns[5], ax=ax_x[5], ay=ax_y[5], Rbasis=Rtr[5], diameter=hi),\\\n",
    "                Mirror(p=ps[6], n=ns[6], ax=ax_x[6], ay=ax_y[6], Rbasis=Rtr[6], diameter=hi),\\\n",
    "                Mirror(p=ps[7], n=ns[7], ax=ax_x[7], ay=ax_y[7], Rbasis=Rtr[7], diameter=hi),\\\n",
    "                Glass(p=ps[8], n=ns[8], ax=ax_x[8], ay=ax_y[8], Rbasis=Rtr[8], diameter=lens_diam, n2=ng),\\\n",
    "                FreeFormInterface(p=ps[9], n=ns[9], ax=ax_x[9], ay=ax_y[9], Rbasis=Rtr[9], diameter=lens_diam, n1=ng, coef=-coef),\\\n",
    "                CurvedGlass(p=ps[10], n=ns[10], ax=ax_x[10], ay=ax_y[10], Rbasis=Rtr[10], diameter=lens_diam, R=Rlens, curv='CX', n2=ng),\\\n",
    "                Glass(p=ps[11], n=ns[11], ax=ax_x[11], ay=ax_y[11], Rbasis=Rtr[11], diameter=lens_diam, n1=ng)\\\n",
    "                ]\n",
    "    return elements\n",
    "\n",
    "cavfct = LensCavCADpert\n",
    "parname = 'lens_dist'"
   ]
  },
  {
   "cell_type": "code",
   "execution_count": 3,
   "metadata": {},
   "outputs": [],
   "source": [
    "def LensCavPert(arm1=48., arm2=30., base=19., angle=180.-129., lens_dist=22.2, Rlens=5.0, eps=np.zeros((8,5))):\n",
    "    angle = np.deg2rad(angle)\n",
    "    lens_diam=6.35\n",
    "    lens_thick=4.\n",
    "    \n",
    "    p0 = np.array([lens_dist/2.-lens_thick/2.,0,0])\n",
    "    p1 = np.array([lens_dist/2.+lens_thick/2.,0,0])\n",
    "    p2 = np.array([arm1/2.,0,0])\n",
    "    p3 = np.array([np.cos(angle)*arm2/2.,base,np.sin(angle)*arm2/2.])\n",
    "    p4 = np.array([-np.cos(angle)*arm2/2.,base,-np.sin(angle)*arm2/2.])\n",
    "    p5 = np.array([-arm1/2.,0,0])\n",
    "    p6 = np.array([-lens_dist/2.-lens_thick/2.,0,0])\n",
    "    p7 = np.array([-lens_dist/2.+lens_thick/2.,0,0])\n",
    "    ps = np.stack([p0,p1,p2,p3,p4,p5,p6,p7], axis=0)\n",
    "    \n",
    "    geom = geometry(ps)\n",
    "    ns = geom['refl']\n",
    "    ps = geom['mir']\n",
    "    angles = geom['angles']\n",
    "    Rtr = geom['R']\n",
    "    ax_x = geom['xin']\n",
    "    ax_y = np.cross(ns, ax_x)\n",
    "    \n",
    "    #apply poition perturbations\n",
    "    ps += eps[:,:3]\n",
    "    ns = [rot_vec(rot_vec(ns[i], ax_x[i], np.deg2rad(eps[i,3])), ax_y[i], np.deg2rad(eps[i,4])) for i, n in enumerate(ns)]   \n",
    "        \n",
    "    hi = 12.7\n",
    "    qi=7.75\n",
    "    ng = 1.4537\n",
    "     #negative sign of firstt cuved surface for abcd matrix\n",
    "    elements = [Glass(p=ps[0], n=ns[0], ax=ax_x[0], ay=ax_y[0], Rbasis=Rtr[0], diameter=lens_diam, n2=ng),\\\n",
    "                CurvedGlass(p=ps[1], n=ns[1], ax=ax_x[1], ay=ax_y[1], Rbasis=Rtr[1], diameter=lens_diam, R=-Rlens, curv='CC', n1=ng),\\\n",
    "                Mirror(p=ps[2], n=ns[2], ax=ax_x[2], ay=ax_y[2], Rbasis=Rtr[2], diameter=hi),\\\n",
    "                Mirror(p=ps[3], n=ns[3], ax=ax_x[3], ay=ax_y[3], Rbasis=Rtr[3], diameter=hi),\\\n",
    "                Mirror(p=ps[4], n=ns[4], ax=ax_x[4], ay=ax_y[4], Rbasis=Rtr[4], diameter=hi),\\\n",
    "                Mirror(p=ps[5], n=ns[5], ax=ax_x[5], ay=ax_y[5], Rbasis=Rtr[5], diameter=hi),\\\n",
    "                CurvedGlass(p=ps[6], n=ns[6], ax=ax_x[6], ay=ax_y[6], Rbasis=Rtr[6], diameter=lens_diam, R=Rlens, curv='CX', n2=ng),\\\n",
    "                Glass(p=ps[7], n=ns[7], ax=ax_x[7], ay=ax_y[7], Rbasis=Rtr[7], diameter=lens_diam, n1=ng)]\n",
    "    return elements\n",
    "\n",
    "cavfct = LensCavPert\n",
    "parname = 'lens_dist'"
   ]
  },
  {
   "cell_type": "code",
   "execution_count": 4,
   "metadata": {},
   "outputs": [
    {
     "name": "stdout",
     "output_type": "stream",
     "text": [
      "21.77801052565133\n"
     ]
    }
   ],
   "source": [
    "res = degeneracy_length(cavfct, parname, 5e-2, s=1, degmodenum=2)\n",
    "Ldeg=res.x\n",
    "print(Ldeg)"
   ]
  },
  {
   "cell_type": "code",
   "execution_count": 5,
   "metadata": {},
   "outputs": [
    {
     "data": {
      "application/vnd.jupyter.widget-view+json": {
       "model_id": "2f9cc4e72bdd4bd09fce876937da9481",
       "version_major": 2,
       "version_minor": 0
      },
      "text/plain": [
       "Canvas(toolbar=Toolbar(toolitems=[('Home', 'Reset original view', 'home', 'home'), ('Back', 'Back to previous …"
      ]
     },
     "metadata": {},
     "output_type": "display_data"
    },
    {
     "data": {
      "text/plain": [
       "21.780501672240803"
      ]
     },
     "execution_count": 5,
     "metadata": {},
     "output_type": "execute_result"
    }
   ],
   "source": [
    "waists_vs_param(cavfct, parname, 5e-2, s=1, degmodenum=2)"
   ]
  },
  {
   "cell_type": "code",
   "execution_count": 6,
   "metadata": {},
   "outputs": [],
   "source": [
    "def get_eigenray_traj(cavfct, cavpars, mu=[0., 0., 0., 0.], Nrt=3, Niter=10, Niter_inner=50, lr=0.03, lr_decay=1.0):\n",
    "    elements = cavfct(**cavpars)\n",
    "    sys = RaySystem(elements)\n",
    "    #ray0 = np.stack([np.atleast_2d(sys.screen.p+np.array([0, 1e-3,0])), np.atleast_2d(sys.screen.n)], axis=0)\n",
    "    ray0 = sys.screen.eigenvectors_to_rays(mu) #TODO\n",
    "    reig3, tols = sys.find_eigenray_mpe_dev(ray0, Nrt=Nrt, lr=lr, Niter=Niter_inner, Nmpe=Niter, get_tols=True, lr_decay=lr_decay)\n",
    "    traj = sys.propagate(reig3, Nrt=Nrt)\n",
    "    return traj, tols"
   ]
  },
  {
   "cell_type": "code",
   "execution_count": 7,
   "metadata": {},
   "outputs": [
    {
     "name": "stderr",
     "output_type": "stream",
     "text": [
      "c:\\users\\lukas\\box\\lukas\\03_theory\\abcd\\sloppy\\src\\sloppy\\raytracing.py:96: NumbaPerformanceWarning: \u001b[1m\u001b[1m\u001b[1m\u001b[1m'@' is faster on contiguous arrays, called on (array(float64, 2d, A), array(float64, 1d, C))\u001b[0m\u001b[0m\u001b[0m\u001b[0m\n",
      "  rcur = elements[j].propagate(rcur, clip=clip)\n",
      "c:\\users\\lukas\\box\\lukas\\03_theory\\abcd\\sloppy\\src\\sloppy\\raytracing.py:96: NumbaPerformanceWarning: \u001b[1m\u001b[1m\u001b[1m'@' is faster on contiguous arrays, called on (array(float64, 2d, A), array(float64, 1d, C))\u001b[0m\u001b[0m\u001b[0m\n",
      "  rcur = elements[j].propagate(rcur, clip=clip)\n"
     ]
    }
   ],
   "source": [
    "traj0, tols0 = get_eigenray_traj(cavfct, {parname: Ldeg}, mu=[0, 0, 0, 0], Nrt=1, lr=1e-4, Niter=3)"
   ]
  },
  {
   "cell_type": "code",
   "execution_count": 94,
   "metadata": {},
   "outputs": [],
   "source": [
    "eps=np.zeros((8,5))\n",
    "eps[0:2,1] = 10e-3\n",
    "traj1, tols1 = get_eigenray_traj(cavfct, {parname: Ldeg, 'eps': eps}, mu=[0, 0, 0, 0], Nrt=1, lr=5e-5, Niter=10, Niter_inner=50, lr_decay=0.5)"
   ]
  },
  {
   "cell_type": "code",
   "execution_count": 95,
   "metadata": {},
   "outputs": [
    {
     "data": {
      "application/vnd.jupyter.widget-view+json": {
       "model_id": "0d296c6d4c2f43f2af0255ec6fa7e3b5",
       "version_major": 2,
       "version_minor": 0
      },
      "text/plain": [
       "Canvas(toolbar=Toolbar(toolitems=[('Home', 'Reset original view', 'home', 'home'), ('Back', 'Back to previous …"
      ]
     },
     "metadata": {},
     "output_type": "display_data"
    }
   ],
   "source": [
    "plt.figure()\n",
    "plt.semilogy(tols1)\n",
    "plt.show()"
   ]
  },
  {
   "cell_type": "code",
   "execution_count": 96,
   "metadata": {},
   "outputs": [
    {
     "data": {
      "text/plain": [
       "array([[0.09877531, 0.0887163 ],\n",
       "       [0.10496242, 0.0907471 ]])"
      ]
     },
     "execution_count": 96,
     "metadata": {},
     "output_type": "execute_result"
    }
   ],
   "source": [
    "np.linalg.norm((traj0 - traj1)[[0,-1],:,0,:], axis=-1)"
   ]
  },
  {
   "cell_type": "code",
   "execution_count": 116,
   "metadata": {},
   "outputs": [],
   "source": [
    "def get_eigenray_cma(cavfct, cavpars, mu=[0., 0., 0., 0.], Nrt=1, sigma=0.1, verb_disp=100):\n",
    "    elements = cavfct(**cavpars)\n",
    "    sys = RaySystem(elements)\n",
    "    \n",
    "    def loss(x, sys, Nrt=1):\n",
    "        rcur = sys.screen.eigenvectors_to_rays(np.asarray(x))\n",
    "        traj = sys.propagate(rcur, Nrt=Nrt)\n",
    "        rnew = traj[-1,...]\n",
    "        return np.linalg.norm(rnew[:,0,:]-rcur[:,0,:], axis=-1).sum()\n",
    "    \n",
    "    ray0 = sys.screen.eigenvectors_to_rays(mu)\n",
    "    es = cma.CMAEvolutionStrategy(mu, sigma)\n",
    "    es.optimize(loss, args=(sys, Nrt), verb_disp=verb_disp)\n",
    "    mueig = es.result.xbest\n",
    "    reig3 = sys.screen.eigenvectors_to_rays(mueig)\n",
    "    traj = sys.propagate(reig3, Nrt=Nrt)\n",
    "    return traj, [es.result.fbest,]"
   ]
  },
  {
   "cell_type": "code",
   "execution_count": 117,
   "metadata": {},
   "outputs": [
    {
     "name": "stdout",
     "output_type": "stream",
     "text": [
      "(4_w,8)-aCMA-ES (mu_w=2.6,w_1=52%) in dimension 4 (seed=977880, Mon Oct  5 19:07:13 2020)\n",
      "Iterat #Fevals   function value  axis ratio  sigma  min&max std  t[m:s]\n",
      "    1      8 8.611248318631545e-02 1.0e+00 8.99e-02  8e-02  1e-01 0:00.0\n",
      "    2     16 1.684427524321790e-01 1.4e+00 8.45e-02  6e-02  9e-02 0:00.0\n",
      "    3     24 1.371180828529664e-01 1.6e+00 8.55e-02  6e-02  1e-01 0:00.0\n"
     ]
    },
    {
     "name": "stderr",
     "output_type": "stream",
     "text": [
      "C:\\ProgramData\\Anaconda3\\lib\\site-packages\\cma\\utilities\\utils.py:347: UserWarning: function values with index [7]/[] are nan/None and will be set to the median value 0.2008250681512932 (class=CMAEvolutionStrategy method=ask iteration=3)\n",
      "  ')')\n"
     ]
    },
    {
     "name": "stdout",
     "output_type": "stream",
     "text": [
      "  100    800 4.011597896525037e-05 6.6e+01 5.63e-05  5e-06  1e-05 0:00.3\n",
      "  159   1272 4.010264721409381e-05 5.6e+01 2.66e-07  2e-09  4e-09 0:00.4\n",
      "  159   1272 4.010264721409381e-05 5.6e+01 2.66e-07  2e-09  4e-09 0:00.4\n",
      "termination by {'tolfun': 1e-11}\n",
      "best f-value = 4.010264721409381e-05\n",
      "solution = [ 0.06813127  0.03178675  0.02740206 -0.05696504]\n"
     ]
    }
   ],
   "source": [
    "traj2, tols2 = get_eigenray_cma(cavfct, {parname: Ldeg, 'eps': eps}, mu=[0, 0, 0, 0], Nrt=1, verb_disp=100)"
   ]
  },
  {
   "cell_type": "code",
   "execution_count": 103,
   "metadata": {},
   "outputs": [
    {
     "name": "stderr",
     "output_type": "stream",
     "text": [
      "C:\\ProgramData\\Anaconda3\\lib\\site-packages\\traittypes\\traittypes.py:101: UserWarning: Given trait value dtype \"float64\" does not match required type \"float32\". A coerced copy has been created.\n",
      "  np.dtype(self.dtype).name))\n"
     ]
    },
    {
     "data": {
      "application/vnd.jupyter.widget-view+json": {
       "model_id": "5a765f1021d64ad8a8040a8a00f1731a",
       "version_major": 2,
       "version_minor": 0
      },
      "text/plain": [
       "Output()"
      ]
     },
     "metadata": {},
     "output_type": "display_data"
    }
   ],
   "source": [
    "try:\n",
    "    plot.close()\n",
    "except:\n",
    "    pass\n",
    "elements = cavfct(**{parname: Ldeg})\n",
    "plot = k3d.plot(camera_auto_fit=True, antialias=True, camera_fov=20.)\n",
    "\n",
    "for i, el in enumerate(elements):\n",
    "    plot += el.plot(opacity=0.4)\n",
    "    \n",
    "plot_trajs(traj0, plot)\n",
    "plot_trajs(traj1, plot, color=0x00ff00)\n",
    "plot_trajs(traj2, plot, color=0xff0000)\n",
    "plot += k3d.points(traj0[:,0,0,:], color=0xff0000, point_size=0.3)\n",
    "\n",
    "plot.display()"
   ]
  },
  {
   "cell_type": "code",
   "execution_count": 118,
   "metadata": {},
   "outputs": [],
   "source": [
    "def get_perturbation_one(cavfct, cavpars, which, ax, rng, mu=[0, 0, 0, 0], Nrt=3, lr=0.01, Niter=20, relative=True, get_tols=False):\n",
    "    #get reference trajectory\n",
    "    traj0, tols0 = get_eigenray_traj(cavfct, cavpars, mu=mu, Nrt=Nrt)\n",
    "    \n",
    "    #move one element and find perturbed eigenray trajectory\n",
    "    N = rng.shape[0]\n",
    "    alltraj = np.zeros((N,traj0.shape[0],3))\n",
    "    alltols = np.zeros(N)\n",
    "    for i, e in enumerate(rng):\n",
    "        eps = np.zeros((8,5))\n",
    "        eps[which, ax] += e\n",
    "        pars = cavpars.copy()\n",
    "        pars['eps'] = eps\n",
    "        try:\n",
    "            #traj1, tols1 = get_eigenray_traj(cavfct, pars, mu=mu, Nrt=Nrt, lr=lr, Niter=Niter, Niter_inner=50, lr_decay=0.5) #get_eigenray_traj(cavfct, pars, mu=mu, Nrt=Nrt, lr=lr)\n",
    "            traj1, tols1 = get_eigenray_cma(cavfct, pars, mu=mu, Nrt=Nrt, verb_disp=False)\n",
    "        except:\n",
    "            alltraj[i,...] = np.nan\n",
    "            alltols[i] = np.nan\n",
    "        else:\n",
    "            alltraj[i,...] = traj1[:,0,0,:]\n",
    "            alltols[i] = tols1[-1]\n",
    "        \n",
    "    if relative:\n",
    "        if get_tols:\n",
    "            return np.linalg.norm(traj0[None,:,0,0,:]-alltraj, axis=-1), alltols\n",
    "        else:\n",
    "            return np.linalg.norm(traj0[None,:,0,0,:]-alltraj, axis=-1)\n",
    "    else:\n",
    "        if get_tols:\n",
    "            return alltraj, alltols\n",
    "        else:\n",
    "            return alltraj"
   ]
  },
  {
   "cell_type": "code",
   "execution_count": 152,
   "metadata": {},
   "outputs": [],
   "source": [
    "def get_perturbation_ray(cavfct, cavpars, which, ax, rng, mu=[0, 0, 0, 0], Nrt=3, get_tols=False):\n",
    "    #get reference trajectory\n",
    "    traj0, tols0 = get_eigenray_traj(cavfct, cavpars, mu=mu, Nrt=Nrt)\n",
    "    \n",
    "    #move one element and find perturbed eigenray trajectory\n",
    "    N = rng.shape[0]\n",
    "    alltraj = np.zeros((N,traj0.shape[0],2,3))\n",
    "    alltols = np.zeros(N)\n",
    "    for i, e in enumerate(rng):\n",
    "        eps = np.zeros((8,5))\n",
    "        eps[which, ax] += e\n",
    "        pars = cavpars.copy()\n",
    "        pars['eps'] = eps\n",
    "        try:\n",
    "            traj1, tols1 = get_eigenray_cma(cavfct, pars, mu=mu, Nrt=Nrt, verb_disp=False)\n",
    "        except:\n",
    "            alltraj[i,...] = np.nan\n",
    "            alltols[i] = np.nan\n",
    "        else:\n",
    "            alltraj[i,...] = traj1[:,:,0,:]\n",
    "            alltols[i] = tols1[-1]\n",
    "        \n",
    "    if get_tols:\n",
    "        return alltraj, alltols\n",
    "    else:\n",
    "        return alltraj"
   ]
  },
  {
   "cell_type": "code",
   "execution_count": 108,
   "metadata": {
    "collapsed": true,
    "jupyter": {
     "outputs_hidden": true
    }
   },
   "outputs": [
    {
     "name": "stdout",
     "output_type": "stream",
     "text": [
      "(4_w,8)-aCMA-ES (mu_w=2.6,w_1=52%) in dimension 4 (seed=1008176, Mon Oct  5 18:58:35 2020)\n"
     ]
    },
    {
     "name": "stderr",
     "output_type": "stream",
     "text": [
      "C:\\ProgramData\\Anaconda3\\lib\\site-packages\\cma\\utilities\\utils.py:347: UserWarning: \n",
      "        geno-pheno transformation introduced based on the\n",
      "        current covariance matrix with condition 1.1e+12 -> 1.0e+00,\n",
      "        injected solutions become \"invalid\" in this iteration (class=CMAEvolutionStrategy method=alleviate_conditioning iteration=218)\n",
      "  ')')\n"
     ]
    },
    {
     "name": "stdout",
     "output_type": "stream",
     "text": [
      "(4_w,8)-aCMA-ES (mu_w=2.6,w_1=52%) in dimension 4 (seed=1002732, Mon Oct  5 18:58:42 2020)\n"
     ]
    },
    {
     "name": "stderr",
     "output_type": "stream",
     "text": [
      "C:\\ProgramData\\Anaconda3\\lib\\site-packages\\cma\\utilities\\utils.py:347: UserWarning: function values with index [6]/[] are nan/None and will be set to the median value 0.2842589459951028 (class=CMAEvolutionStrategy method=ask iteration=2)\n",
      "  ')')\n"
     ]
    },
    {
     "name": "stdout",
     "output_type": "stream",
     "text": [
      "(4_w,8)-aCMA-ES (mu_w=2.6,w_1=52%) in dimension 4 (seed=953835, Mon Oct  5 18:58:48 2020)\n",
      "(4_w,8)-aCMA-ES (mu_w=2.6,w_1=52%) in dimension 4 (seed=1051422, Mon Oct  5 18:58:52 2020)\n",
      "(4_w,8)-aCMA-ES (mu_w=2.6,w_1=52%) in dimension 4 (seed=1095048, Mon Oct  5 18:58:58 2020)\n"
     ]
    },
    {
     "name": "stderr",
     "output_type": "stream",
     "text": [
      "C:\\ProgramData\\Anaconda3\\lib\\site-packages\\cma\\utilities\\utils.py:347: UserWarning: function values with index [6]/[] are nan/None and will be set to the median value 0.26883038260675485 (class=CMAEvolutionStrategy method=ask iteration=1)\n",
      "  ')')\n",
      "C:\\ProgramData\\Anaconda3\\lib\\site-packages\\cma\\utilities\\utils.py:347: UserWarning: function values with index [3]/[] are nan/None and will be set to the median value 0.26796241477693683 (class=CMAEvolutionStrategy method=ask iteration=2)\n",
      "  ')')\n"
     ]
    },
    {
     "name": "stdout",
     "output_type": "stream",
     "text": [
      "(4_w,8)-aCMA-ES (mu_w=2.6,w_1=52%) in dimension 4 (seed=1016080, Mon Oct  5 18:59:03 2020)\n"
     ]
    },
    {
     "name": "stderr",
     "output_type": "stream",
     "text": [
      "C:\\ProgramData\\Anaconda3\\lib\\site-packages\\cma\\utilities\\utils.py:347: UserWarning: function values with index [1]/[] are nan/None and will be set to the median value 0.17859088060559902 (class=CMAEvolutionStrategy method=ask iteration=2)\n",
      "  ')')\n"
     ]
    },
    {
     "name": "stdout",
     "output_type": "stream",
     "text": [
      "(4_w,8)-aCMA-ES (mu_w=2.6,w_1=52%) in dimension 4 (seed=1057230, Mon Oct  5 18:59:08 2020)\n"
     ]
    },
    {
     "name": "stderr",
     "output_type": "stream",
     "text": [
      "C:\\ProgramData\\Anaconda3\\lib\\site-packages\\cma\\utilities\\utils.py:347: UserWarning: function values with index [1]/[] are nan/None and will be set to the median value 0.43401654174788595 (class=CMAEvolutionStrategy method=ask )\n",
      "  ')')\n"
     ]
    },
    {
     "name": "stdout",
     "output_type": "stream",
     "text": [
      "(4_w,8)-aCMA-ES (mu_w=2.6,w_1=52%) in dimension 4 (seed=1000560, Mon Oct  5 18:59:13 2020)\n",
      "(4_w,8)-aCMA-ES (mu_w=2.6,w_1=52%) in dimension 4 (seed=1096530, Mon Oct  5 18:59:17 2020)\n"
     ]
    },
    {
     "name": "stderr",
     "output_type": "stream",
     "text": [
      "C:\\ProgramData\\Anaconda3\\lib\\site-packages\\cma\\utilities\\utils.py:347: UserWarning: function values with index [1, 3]/[] are nan/None and will be set to the median value 0.2813838966692971 (class=CMAEvolutionStrategy method=ask iteration=3)\n",
      "  ')')\n"
     ]
    },
    {
     "name": "stdout",
     "output_type": "stream",
     "text": [
      "(4_w,8)-aCMA-ES (mu_w=2.6,w_1=52%) in dimension 4 (seed=1071364, Mon Oct  5 18:59:22 2020)\n"
     ]
    },
    {
     "name": "stderr",
     "output_type": "stream",
     "text": [
      "C:\\ProgramData\\Anaconda3\\lib\\site-packages\\cma\\utilities\\utils.py:347: UserWarning: function values with index [3]/[] are nan/None and will be set to the median value 0.2222381991255447 (class=CMAEvolutionStrategy method=ask )\n",
      "  ')')\n",
      "C:\\ProgramData\\Anaconda3\\lib\\site-packages\\cma\\utilities\\utils.py:347: UserWarning: function values with index [6]/[] are nan/None and will be set to the median value 0.21774232514412512 (class=CMAEvolutionStrategy method=ask iteration=2)\n",
      "  ')')\n"
     ]
    },
    {
     "name": "stdout",
     "output_type": "stream",
     "text": [
      "(4_w,8)-aCMA-ES (mu_w=2.6,w_1=52%) in dimension 4 (seed=1095259, Mon Oct  5 18:59:26 2020)\n",
      "(4_w,8)-aCMA-ES (mu_w=2.6,w_1=52%) in dimension 4 (seed=1026903, Mon Oct  5 18:59:31 2020)\n"
     ]
    },
    {
     "name": "stderr",
     "output_type": "stream",
     "text": [
      "C:\\ProgramData\\Anaconda3\\lib\\site-packages\\cma\\utilities\\utils.py:347: UserWarning: function values with index [6]/[] are nan/None and will be set to the median value 0.4392646881584781 (class=CMAEvolutionStrategy method=ask iteration=1)\n",
      "  ')')\n"
     ]
    },
    {
     "name": "stdout",
     "output_type": "stream",
     "text": [
      "(4_w,8)-aCMA-ES (mu_w=2.6,w_1=52%) in dimension 4 (seed=986202, Mon Oct  5 18:59:36 2020)\n"
     ]
    },
    {
     "name": "stderr",
     "output_type": "stream",
     "text": [
      "C:\\ProgramData\\Anaconda3\\lib\\site-packages\\cma\\utilities\\utils.py:347: UserWarning: function values with index [0]/[] are nan/None and will be set to the median value 0.36294266102470807 (class=CMAEvolutionStrategy method=ask iteration=1)\n",
      "  ')')\n"
     ]
    },
    {
     "name": "stdout",
     "output_type": "stream",
     "text": [
      "(4_w,8)-aCMA-ES (mu_w=2.6,w_1=52%) in dimension 4 (seed=1098587, Mon Oct  5 18:59:41 2020)\n",
      "(4_w,8)-aCMA-ES (mu_w=2.6,w_1=52%) in dimension 4 (seed=998919, Mon Oct  5 18:59:45 2020)\n"
     ]
    },
    {
     "name": "stderr",
     "output_type": "stream",
     "text": [
      "C:\\ProgramData\\Anaconda3\\lib\\site-packages\\cma\\utilities\\utils.py:347: UserWarning: function values with index [7]/[] are nan/None and will be set to the median value 0.12956220455703388 (class=CMAEvolutionStrategy method=ask iteration=2)\n",
      "  ')')\n"
     ]
    },
    {
     "name": "stdout",
     "output_type": "stream",
     "text": [
      "(4_w,8)-aCMA-ES (mu_w=2.6,w_1=52%) in dimension 4 (seed=1027063, Mon Oct  5 18:59:52 2020)\n"
     ]
    },
    {
     "name": "stderr",
     "output_type": "stream",
     "text": [
      "C:\\ProgramData\\Anaconda3\\lib\\site-packages\\cma\\utilities\\utils.py:347: UserWarning: function values with index [7]/[] are nan/None and will be set to the median value 0.5850388555297144 (class=CMAEvolutionStrategy method=ask )\n",
      "  ')')\n"
     ]
    },
    {
     "name": "stdout",
     "output_type": "stream",
     "text": [
      "(4_w,8)-aCMA-ES (mu_w=2.6,w_1=52%) in dimension 4 (seed=966036, Mon Oct  5 18:59:53 2020)\n"
     ]
    },
    {
     "name": "stderr",
     "output_type": "stream",
     "text": [
      "C:\\ProgramData\\Anaconda3\\lib\\site-packages\\cma\\utilities\\utils.py:347: UserWarning: function values with index [5]/[] are nan/None and will be set to the median value 0.26087665125919896 (class=CMAEvolutionStrategy method=ask iteration=1)\n",
      "  ')')\n"
     ]
    },
    {
     "name": "stdout",
     "output_type": "stream",
     "text": [
      "(4_w,8)-aCMA-ES (mu_w=2.6,w_1=52%) in dimension 4 (seed=1042877, Mon Oct  5 18:59:57 2020)\n",
      "(4_w,8)-aCMA-ES (mu_w=2.6,w_1=52%) in dimension 4 (seed=1059503, Mon Oct  5 19:00:01 2020)\n"
     ]
    },
    {
     "name": "stderr",
     "output_type": "stream",
     "text": [
      "C:\\ProgramData\\Anaconda3\\lib\\site-packages\\cma\\utilities\\utils.py:347: UserWarning: function values with index [6]/[] are nan/None and will be set to the median value 0.18934146288891546 (class=CMAEvolutionStrategy method=ask iteration=4)\n",
      "  ')')\n"
     ]
    },
    {
     "name": "stdout",
     "output_type": "stream",
     "text": [
      "(4_w,8)-aCMA-ES (mu_w=2.6,w_1=52%) in dimension 4 (seed=1113954, Mon Oct  5 19:00:06 2020)\n"
     ]
    },
    {
     "name": "stderr",
     "output_type": "stream",
     "text": [
      "C:\\ProgramData\\Anaconda3\\lib\\site-packages\\cma\\utilities\\utils.py:347: UserWarning: function values with index [6]/[] are nan/None and will be set to the median value 0.24425429699156137 (class=CMAEvolutionStrategy method=ask )\n",
      "  ')')\n"
     ]
    },
    {
     "name": "stdout",
     "output_type": "stream",
     "text": [
      "(4_w,8)-aCMA-ES (mu_w=2.6,w_1=52%) in dimension 4 (seed=1031840, Mon Oct  5 19:00:11 2020)\n",
      "(4_w,8)-aCMA-ES (mu_w=2.6,w_1=52%) in dimension 4 (seed=1113403, Mon Oct  5 19:00:15 2020)\n",
      "(4_w,8)-aCMA-ES (mu_w=2.6,w_1=52%) in dimension 4 (seed=974680, Mon Oct  5 19:00:20 2020)\n"
     ]
    },
    {
     "name": "stderr",
     "output_type": "stream",
     "text": [
      "C:\\ProgramData\\Anaconda3\\lib\\site-packages\\cma\\utilities\\utils.py:347: UserWarning: function values with index [1, 4, 5, 7]/[] are nan/None and will be set to the median value 0.45145259078468225 (class=CMAEvolutionStrategy method=ask iteration=1)\n",
      "  ')')\n",
      "C:\\ProgramData\\Anaconda3\\lib\\site-packages\\cma\\utilities\\utils.py:347: UserWarning: function values with index [4]/[] are nan/None and will be set to the median value 0.29271628831989627 (class=CMAEvolutionStrategy method=ask iteration=2)\n",
      "  ')')\n"
     ]
    },
    {
     "name": "stdout",
     "output_type": "stream",
     "text": [
      "(4_w,8)-aCMA-ES (mu_w=2.6,w_1=52%) in dimension 4 (seed=1012929, Mon Oct  5 19:00:24 2020)\n",
      "(4_w,8)-aCMA-ES (mu_w=2.6,w_1=52%) in dimension 4 (seed=1093298, Mon Oct  5 19:00:29 2020)\n"
     ]
    },
    {
     "name": "stderr",
     "output_type": "stream",
     "text": [
      "C:\\ProgramData\\Anaconda3\\lib\\site-packages\\cma\\utilities\\utils.py:347: UserWarning: function values with index [3]/[] are nan/None and will be set to the median value 0.4214929054999068 (class=CMAEvolutionStrategy method=ask )\n",
      "  ')')\n"
     ]
    },
    {
     "name": "stdout",
     "output_type": "stream",
     "text": [
      "(4_w,8)-aCMA-ES (mu_w=2.6,w_1=52%) in dimension 4 (seed=1095738, Mon Oct  5 19:00:34 2020)\n"
     ]
    },
    {
     "name": "stderr",
     "output_type": "stream",
     "text": [
      "C:\\ProgramData\\Anaconda3\\lib\\site-packages\\cma\\utilities\\utils.py:347: UserWarning: function values with index [4]/[] are nan/None and will be set to the median value 0.29336090782406504 (class=CMAEvolutionStrategy method=ask )\n",
      "  ')')\n",
      "C:\\ProgramData\\Anaconda3\\lib\\site-packages\\cma\\utilities\\utils.py:347: UserWarning: function values with index [0]/[] are nan/None and will be set to the median value 0.33152810780127623 (class=CMAEvolutionStrategy method=ask iteration=1)\n",
      "  ')')\n",
      "C:\\ProgramData\\Anaconda3\\lib\\site-packages\\cma\\utilities\\utils.py:347: UserWarning: function values with index [4]/[] are nan/None and will be set to the median value 0.25400193309560326 (class=CMAEvolutionStrategy method=ask iteration=2)\n",
      "  ')')\n",
      "C:\\ProgramData\\Anaconda3\\lib\\site-packages\\cma\\utilities\\utils.py:347: UserWarning: function values with index [7]/[] are nan/None and will be set to the median value 0.22218333237795412 (class=CMAEvolutionStrategy method=ask iteration=3)\n",
      "  ')')\n",
      "C:\\ProgramData\\Anaconda3\\lib\\site-packages\\cma\\utilities\\utils.py:347: UserWarning: function values with index [2, 4, 7]/[] are nan/None and will be set to the median value 0.271889421014626 (class=CMAEvolutionStrategy method=ask iteration=5)\n",
      "  ')')\n",
      "C:\\ProgramData\\Anaconda3\\lib\\site-packages\\cma\\utilities\\utils.py:347: UserWarning: function values with index [2]/[] are nan/None and will be set to the median value 0.20675980536699692 (class=CMAEvolutionStrategy method=ask iteration=6)\n",
      "  ')')\n"
     ]
    },
    {
     "name": "stdout",
     "output_type": "stream",
     "text": [
      "(4_w,8)-aCMA-ES (mu_w=2.6,w_1=52%) in dimension 4 (seed=1036714, Mon Oct  5 19:00:39 2020)\n"
     ]
    },
    {
     "name": "stderr",
     "output_type": "stream",
     "text": [
      "C:\\ProgramData\\Anaconda3\\lib\\site-packages\\cma\\utilities\\utils.py:347: UserWarning: function values with index [1, 7]/[] are nan/None and will be set to the median value 0.3398701597431979 (class=CMAEvolutionStrategy method=ask iteration=1)\n",
      "  ')')\n",
      "C:\\ProgramData\\Anaconda3\\lib\\site-packages\\cma\\utilities\\utils.py:347: UserWarning: function values with index [6]/[] are nan/None and will be set to the median value 0.24119657268320477 (class=CMAEvolutionStrategy method=ask iteration=2)\n",
      "  ')')\n"
     ]
    },
    {
     "name": "stdout",
     "output_type": "stream",
     "text": [
      "(4_w,8)-aCMA-ES (mu_w=2.6,w_1=52%) in dimension 4 (seed=1013930, Mon Oct  5 19:00:43 2020)\n",
      "(4_w,8)-aCMA-ES (mu_w=2.6,w_1=52%) in dimension 4 (seed=1015784, Mon Oct  5 19:00:48 2020)\n"
     ]
    },
    {
     "name": "stderr",
     "output_type": "stream",
     "text": [
      "C:\\ProgramData\\Anaconda3\\lib\\site-packages\\cma\\utilities\\utils.py:347: UserWarning: function values with index [6]/[] are nan/None and will be set to the median value 0.19782181540594007 (class=CMAEvolutionStrategy method=ask )\n",
      "  ')')\n"
     ]
    },
    {
     "name": "stdout",
     "output_type": "stream",
     "text": [
      "(4_w,8)-aCMA-ES (mu_w=2.6,w_1=52%) in dimension 4 (seed=984950, Mon Oct  5 19:00:54 2020)\n",
      "(4_w,8)-aCMA-ES (mu_w=2.6,w_1=52%) in dimension 4 (seed=999396, Mon Oct  5 19:00:59 2020)\n",
      "(4_w,8)-aCMA-ES (mu_w=2.6,w_1=52%) in dimension 4 (seed=1073136, Mon Oct  5 19:01:04 2020)\n"
     ]
    },
    {
     "name": "stderr",
     "output_type": "stream",
     "text": [
      "C:\\ProgramData\\Anaconda3\\lib\\site-packages\\cma\\utilities\\utils.py:347: UserWarning: function values with index [3]/[] are nan/None and will be set to the median value 0.412466412578489 (class=CMAEvolutionStrategy method=ask )\n",
      "  ')')\n"
     ]
    },
    {
     "name": "stdout",
     "output_type": "stream",
     "text": [
      "(4_w,8)-aCMA-ES (mu_w=2.6,w_1=52%) in dimension 4 (seed=984324, Mon Oct  5 19:01:09 2020)\n"
     ]
    },
    {
     "name": "stderr",
     "output_type": "stream",
     "text": [
      "C:\\ProgramData\\Anaconda3\\lib\\site-packages\\cma\\utilities\\utils.py:347: UserWarning: function values with index [6]/[] are nan/None and will be set to the median value 0.41808842483059216 (class=CMAEvolutionStrategy method=ask )\n",
      "  ')')\n",
      "C:\\ProgramData\\Anaconda3\\lib\\site-packages\\cma\\utilities\\utils.py:347: UserWarning: function values with index [5, 6]/[] are nan/None and will be set to the median value 0.281206633081854 (class=CMAEvolutionStrategy method=ask iteration=2)\n",
      "  ')')\n",
      "C:\\ProgramData\\Anaconda3\\lib\\site-packages\\cma\\utilities\\utils.py:347: UserWarning: function values with index [3]/[] are nan/None and will be set to the median value 0.18042310338621703 (class=CMAEvolutionStrategy method=ask iteration=3)\n",
      "  ')')\n"
     ]
    },
    {
     "name": "stdout",
     "output_type": "stream",
     "text": [
      "(4_w,8)-aCMA-ES (mu_w=2.6,w_1=52%) in dimension 4 (seed=1023764, Mon Oct  5 19:01:14 2020)\n"
     ]
    },
    {
     "name": "stderr",
     "output_type": "stream",
     "text": [
      "C:\\ProgramData\\Anaconda3\\lib\\site-packages\\cma\\utilities\\utils.py:347: UserWarning: function values with index [1]/[] are nan/None and will be set to the median value 0.27225226075151643 (class=CMAEvolutionStrategy method=ask )\n",
      "  ')')\n",
      "C:\\ProgramData\\Anaconda3\\lib\\site-packages\\cma\\utilities\\utils.py:347: UserWarning: function values with index [0]/[] are nan/None and will be set to the median value 0.22054275436638554 (class=CMAEvolutionStrategy method=ask iteration=2)\n",
      "  ')')\n"
     ]
    },
    {
     "name": "stdout",
     "output_type": "stream",
     "text": [
      "(4_w,8)-aCMA-ES (mu_w=2.6,w_1=52%) in dimension 4 (seed=966157, Mon Oct  5 19:01:18 2020)\n",
      "(4_w,8)-aCMA-ES (mu_w=2.6,w_1=52%) in dimension 4 (seed=1017090, Mon Oct  5 19:01:22 2020)\n"
     ]
    },
    {
     "name": "stderr",
     "output_type": "stream",
     "text": [
      "C:\\ProgramData\\Anaconda3\\lib\\site-packages\\cma\\utilities\\utils.py:347: UserWarning: function values with index [6]/[] are nan/None and will be set to the median value 0.3528809424453312 (class=CMAEvolutionStrategy method=ask )\n",
      "  ')')\n"
     ]
    },
    {
     "name": "stdout",
     "output_type": "stream",
     "text": [
      "(4_w,8)-aCMA-ES (mu_w=2.6,w_1=52%) in dimension 4 (seed=1025680, Mon Oct  5 19:01:26 2020)\n",
      "(4_w,8)-aCMA-ES (mu_w=2.6,w_1=52%) in dimension 4 (seed=1017741, Mon Oct  5 19:01:31 2020)\n",
      "(4_w,8)-aCMA-ES (mu_w=2.6,w_1=52%) in dimension 4 (seed=1008906, Mon Oct  5 19:01:35 2020)\n",
      "(4_w,8)-aCMA-ES (mu_w=2.6,w_1=52%) in dimension 4 (seed=968842, Mon Oct  5 19:01:40 2020)\n"
     ]
    },
    {
     "name": "stderr",
     "output_type": "stream",
     "text": [
      "C:\\ProgramData\\Anaconda3\\lib\\site-packages\\cma\\utilities\\utils.py:347: UserWarning: function values with index [1]/[] are nan/None and will be set to the median value 0.29788412981302803 (class=CMAEvolutionStrategy method=ask iteration=1)\n",
      "  ')')\n"
     ]
    },
    {
     "name": "stdout",
     "output_type": "stream",
     "text": [
      "(4_w,8)-aCMA-ES (mu_w=2.6,w_1=52%) in dimension 4 (seed=1030195, Mon Oct  5 19:01:44 2020)\n",
      "(4_w,8)-aCMA-ES (mu_w=2.6,w_1=52%) in dimension 4 (seed=1062341, Mon Oct  5 19:01:48 2020)\n"
     ]
    },
    {
     "name": "stderr",
     "output_type": "stream",
     "text": [
      "C:\\ProgramData\\Anaconda3\\lib\\site-packages\\cma\\utilities\\utils.py:347: UserWarning: function values with index [6]/[] are nan/None and will be set to the median value 0.1523457510655442 (class=CMAEvolutionStrategy method=ask iteration=1)\n",
      "  ')')\n"
     ]
    },
    {
     "name": "stdout",
     "output_type": "stream",
     "text": [
      "(4_w,8)-aCMA-ES (mu_w=2.6,w_1=52%) in dimension 4 (seed=1094933, Mon Oct  5 19:01:52 2020)\n",
      "(4_w,8)-aCMA-ES (mu_w=2.6,w_1=52%) in dimension 4 (seed=987207, Mon Oct  5 19:01:57 2020)\n"
     ]
    },
    {
     "name": "stderr",
     "output_type": "stream",
     "text": [
      "C:\\ProgramData\\Anaconda3\\lib\\site-packages\\cma\\utilities\\utils.py:347: UserWarning: function values with index [6]/[] are nan/None and will be set to the median value 0.24015676657059348 (class=CMAEvolutionStrategy method=ask )\n",
      "  ')')\n"
     ]
    },
    {
     "name": "stdout",
     "output_type": "stream",
     "text": [
      "(4_w,8)-aCMA-ES (mu_w=2.6,w_1=52%) in dimension 4 (seed=1033605, Mon Oct  5 19:02:01 2020)\n"
     ]
    },
    {
     "name": "stderr",
     "output_type": "stream",
     "text": [
      "C:\\ProgramData\\Anaconda3\\lib\\site-packages\\cma\\utilities\\utils.py:347: UserWarning: function values with index [3]/[] are nan/None and will be set to the median value 0.3121290693974035 (class=CMAEvolutionStrategy method=ask )\n",
      "  ')')\n",
      "C:\\ProgramData\\Anaconda3\\lib\\site-packages\\cma\\utilities\\utils.py:347: UserWarning: function values with index [7]/[] are nan/None and will be set to the median value 0.19016703139637098 (class=CMAEvolutionStrategy method=ask iteration=2)\n",
      "  ')')\n"
     ]
    },
    {
     "name": "stdout",
     "output_type": "stream",
     "text": [
      "(4_w,8)-aCMA-ES (mu_w=2.6,w_1=52%) in dimension 4 (seed=1028158, Mon Oct  5 19:02:06 2020)\n"
     ]
    },
    {
     "name": "stderr",
     "output_type": "stream",
     "text": [
      "C:\\ProgramData\\Anaconda3\\lib\\site-packages\\cma\\utilities\\utils.py:347: UserWarning: function values with index [2]/[] are nan/None and will be set to the median value 0.2889507205623614 (class=CMAEvolutionStrategy method=ask )\n",
      "  ')')\n"
     ]
    },
    {
     "name": "stdout",
     "output_type": "stream",
     "text": [
      "(4_w,8)-aCMA-ES (mu_w=2.6,w_1=52%) in dimension 4 (seed=992552, Mon Oct  5 19:02:11 2020)\n"
     ]
    },
    {
     "name": "stderr",
     "output_type": "stream",
     "text": [
      "C:\\ProgramData\\Anaconda3\\lib\\site-packages\\cma\\utilities\\utils.py:347: UserWarning: function values with index [1, 4]/[] are nan/None and will be set to the median value 0.25239115040979515 (class=CMAEvolutionStrategy method=ask iteration=1)\n",
      "  ')')\n"
     ]
    },
    {
     "name": "stdout",
     "output_type": "stream",
     "text": [
      "(4_w,8)-aCMA-ES (mu_w=2.6,w_1=52%) in dimension 4 (seed=1047731, Mon Oct  5 19:02:16 2020)\n",
      "(4_w,8)-aCMA-ES (mu_w=2.6,w_1=52%) in dimension 4 (seed=983857, Mon Oct  5 19:02:21 2020)\n",
      "(4_w,8)-aCMA-ES (mu_w=2.6,w_1=52%) in dimension 4 (seed=969252, Mon Oct  5 19:02:25 2020)\n"
     ]
    },
    {
     "name": "stderr",
     "output_type": "stream",
     "text": [
      "C:\\ProgramData\\Anaconda3\\lib\\site-packages\\cma\\utilities\\utils.py:347: UserWarning: function values with index [6]/[] are nan/None and will be set to the median value 0.29354333889507556 (class=CMAEvolutionStrategy method=ask )\n",
      "  ')')\n"
     ]
    }
   ],
   "source": [
    "rng = np.linspace(0, 5e-3, 50)\n",
    "devs, tols = get_perturbation_one(cavfct, cavpars={parname: Ldeg}, Nrt=1, which=[0,1], ax=1, rng=rng, lr=5e-5, Niter=5, get_tols=True)"
   ]
  },
  {
   "cell_type": "code",
   "execution_count": 110,
   "metadata": {},
   "outputs": [
    {
     "data": {
      "application/vnd.jupyter.widget-view+json": {
       "model_id": "033fe5ac9f194eec8bcbed7d6c16d2ba",
       "version_major": 2,
       "version_minor": 0
      },
      "text/plain": [
       "Canvas(toolbar=Toolbar(toolitems=[('Home', 'Reset original view', 'home', 'home'), ('Back', 'Back to previous …"
      ]
     },
     "metadata": {},
     "output_type": "display_data"
    }
   ],
   "source": [
    "plt.figure()\n",
    "plt.plot(rng, devs)\n",
    "plt.show()"
   ]
  },
  {
   "cell_type": "code",
   "execution_count": 111,
   "metadata": {},
   "outputs": [
    {
     "data": {
      "application/vnd.jupyter.widget-view+json": {
       "model_id": "89d1054b29244f03bf7f57d9c742a8ca",
       "version_major": 2,
       "version_minor": 0
      },
      "text/plain": [
       "Canvas(toolbar=Toolbar(toolitems=[('Home', 'Reset original view', 'home', 'home'), ('Back', 'Back to previous …"
      ]
     },
     "metadata": {},
     "output_type": "display_data"
    }
   ],
   "source": [
    "plt.figure()\n",
    "plt.semilogy(rng, tols)\n",
    "plt.show()"
   ]
  },
  {
   "cell_type": "code",
   "execution_count": 65,
   "metadata": {
    "collapsed": true,
    "jupyter": {
     "outputs_hidden": true,
     "source_hidden": true
    }
   },
   "outputs": [
    {
     "data": {
      "application/vnd.jupyter.widget-view+json": {
       "model_id": "9333b4595ba241578a3ab22e8d689cdb",
       "version_major": 2,
       "version_minor": 0
      },
      "text/plain": [
       "Canvas(toolbar=Toolbar(toolitems=[('Home', 'Reset original view', 'home', 'home'), ('Back', 'Back to previous …"
      ]
     },
     "metadata": {},
     "output_type": "display_data"
    }
   ],
   "source": [
    "plt.figure()\n",
    "plt.semilogy(tols0)\n",
    "plt.semilogy(tols1)\n",
    "plt.show()"
   ]
  },
  {
   "cell_type": "code",
   "execution_count": 119,
   "metadata": {
    "collapsed": true,
    "jupyter": {
     "outputs_hidden": true
    }
   },
   "outputs": [
    {
     "name": "stdout",
     "output_type": "stream",
     "text": [
      "(4_w,8)-aCMA-ES (mu_w=2.6,w_1=52%) in dimension 4 (seed=998988, Mon Oct  5 19:07:43 2020)\n"
     ]
    },
    {
     "name": "stderr",
     "output_type": "stream",
     "text": [
      "C:\\ProgramData\\Anaconda3\\lib\\site-packages\\cma\\utilities\\utils.py:347: UserWarning: \n",
      "        geno-pheno transformation introduced based on the\n",
      "        current covariance matrix with condition 1.1e+12 -> 1.0e+00,\n",
      "        injected solutions become \"invalid\" in this iteration (class=CMAEvolutionStrategy method=alleviate_conditioning iteration=198)\n",
      "  ')')\n"
     ]
    },
    {
     "name": "stdout",
     "output_type": "stream",
     "text": [
      "(4_w,8)-aCMA-ES (mu_w=2.6,w_1=52%) in dimension 4 (seed=985670, Mon Oct  5 19:07:50 2020)\n"
     ]
    },
    {
     "name": "stderr",
     "output_type": "stream",
     "text": [
      "C:\\ProgramData\\Anaconda3\\lib\\site-packages\\cma\\utilities\\utils.py:347: UserWarning: function values with index [0]/[] are nan/None and will be set to the median value 0.23589833637927599 (class=CMAEvolutionStrategy method=ask )\n",
      "  ')')\n",
      "C:\\ProgramData\\Anaconda3\\lib\\site-packages\\cma\\utilities\\utils.py:347: UserWarning: function values with index [3]/[] are nan/None and will be set to the median value 0.29404883266816007 (class=CMAEvolutionStrategy method=ask iteration=2)\n",
      "  ')')\n"
     ]
    },
    {
     "name": "stdout",
     "output_type": "stream",
     "text": [
      "(4_w,8)-aCMA-ES (mu_w=2.6,w_1=52%) in dimension 4 (seed=1102285, Mon Oct  5 19:07:54 2020)\n",
      "(4_w,8)-aCMA-ES (mu_w=2.6,w_1=52%) in dimension 4 (seed=991400, Mon Oct  5 19:08:00 2020)\n"
     ]
    },
    {
     "name": "stderr",
     "output_type": "stream",
     "text": [
      "C:\\ProgramData\\Anaconda3\\lib\\site-packages\\cma\\utilities\\utils.py:347: UserWarning: function values with index [0]/[] are nan/None and will be set to the median value 0.34744509944241 (class=CMAEvolutionStrategy method=ask )\n",
      "  ')')\n"
     ]
    },
    {
     "name": "stdout",
     "output_type": "stream",
     "text": [
      "(4_w,8)-aCMA-ES (mu_w=2.6,w_1=52%) in dimension 4 (seed=1090580, Mon Oct  5 19:08:04 2020)\n"
     ]
    },
    {
     "name": "stderr",
     "output_type": "stream",
     "text": [
      "C:\\ProgramData\\Anaconda3\\lib\\site-packages\\cma\\utilities\\utils.py:347: UserWarning: function values with index [5]/[] are nan/None and will be set to the median value 0.306266849360875 (class=CMAEvolutionStrategy method=ask )\n",
      "  ')')\n"
     ]
    },
    {
     "name": "stdout",
     "output_type": "stream",
     "text": [
      "(4_w,8)-aCMA-ES (mu_w=2.6,w_1=52%) in dimension 4 (seed=1027394, Mon Oct  5 19:08:09 2020)\n",
      "(4_w,8)-aCMA-ES (mu_w=2.6,w_1=52%) in dimension 4 (seed=1025000, Mon Oct  5 19:08:13 2020)\n"
     ]
    },
    {
     "name": "stderr",
     "output_type": "stream",
     "text": [
      "C:\\ProgramData\\Anaconda3\\lib\\site-packages\\cma\\utilities\\utils.py:347: UserWarning: function values with index [3, 4]/[] are nan/None and will be set to the median value 0.4150227542131367 (class=CMAEvolutionStrategy method=ask iteration=1)\n",
      "  ')')\n",
      "C:\\ProgramData\\Anaconda3\\lib\\site-packages\\cma\\utilities\\utils.py:347: UserWarning: function values with index [2]/[] are nan/None and will be set to the median value 0.22713454919185228 (class=CMAEvolutionStrategy method=ask iteration=2)\n",
      "  ')')\n"
     ]
    },
    {
     "name": "stdout",
     "output_type": "stream",
     "text": [
      "(4_w,8)-aCMA-ES (mu_w=2.6,w_1=52%) in dimension 4 (seed=1070997, Mon Oct  5 19:08:22 2020)\n"
     ]
    },
    {
     "name": "stderr",
     "output_type": "stream",
     "text": [
      "C:\\ProgramData\\Anaconda3\\lib\\site-packages\\cma\\utilities\\utils.py:347: UserWarning: function values with index [1]/[] are nan/None and will be set to the median value 0.36905310161527116 (class=CMAEvolutionStrategy method=ask )\n",
      "  ')')\n",
      "C:\\ProgramData\\Anaconda3\\lib\\site-packages\\cma\\utilities\\utils.py:347: UserWarning: function values with index [2]/[] are nan/None and will be set to the median value 0.23960827852705735 (class=CMAEvolutionStrategy method=ask iteration=2)\n",
      "  ')')\n"
     ]
    },
    {
     "name": "stdout",
     "output_type": "stream",
     "text": [
      "(4_w,8)-aCMA-ES (mu_w=2.6,w_1=52%) in dimension 4 (seed=1063650, Mon Oct  5 19:08:26 2020)\n"
     ]
    },
    {
     "name": "stderr",
     "output_type": "stream",
     "text": [
      "C:\\ProgramData\\Anaconda3\\lib\\site-packages\\cma\\utilities\\utils.py:347: UserWarning: function values with index [6]/[] are nan/None and will be set to the median value 0.2588363356516539 (class=CMAEvolutionStrategy method=ask )\n",
      "  ')')\n"
     ]
    },
    {
     "name": "stdout",
     "output_type": "stream",
     "text": [
      "(4_w,8)-aCMA-ES (mu_w=2.6,w_1=52%) in dimension 4 (seed=998902, Mon Oct  5 19:08:31 2020)\n"
     ]
    },
    {
     "name": "stderr",
     "output_type": "stream",
     "text": [
      "C:\\ProgramData\\Anaconda3\\lib\\site-packages\\cma\\utilities\\utils.py:347: UserWarning: function values with index [6]/[] are nan/None and will be set to the median value 0.31700742327812875 (class=CMAEvolutionStrategy method=ask )\n",
      "  ')')\n"
     ]
    },
    {
     "name": "stdout",
     "output_type": "stream",
     "text": [
      "(4_w,8)-aCMA-ES (mu_w=2.6,w_1=52%) in dimension 4 (seed=997312, Mon Oct  5 19:08:35 2020)\n"
     ]
    },
    {
     "name": "stderr",
     "output_type": "stream",
     "text": [
      "C:\\ProgramData\\Anaconda3\\lib\\site-packages\\cma\\utilities\\utils.py:347: UserWarning: function values with index [6]/[] are nan/None and will be set to the median value 0.3522767538723236 (class=CMAEvolutionStrategy method=ask )\n",
      "  ')')\n"
     ]
    },
    {
     "name": "stdout",
     "output_type": "stream",
     "text": [
      "(4_w,8)-aCMA-ES (mu_w=2.6,w_1=52%) in dimension 4 (seed=1006031, Mon Oct  5 19:08:40 2020)\n"
     ]
    },
    {
     "name": "stderr",
     "output_type": "stream",
     "text": [
      "C:\\ProgramData\\Anaconda3\\lib\\site-packages\\cma\\utilities\\utils.py:347: UserWarning: function values with index [1, 5]/[] are nan/None and will be set to the median value 0.32497582016357784 (class=CMAEvolutionStrategy method=ask )\n",
      "  ')')\n",
      "C:\\ProgramData\\Anaconda3\\lib\\site-packages\\cma\\utilities\\utils.py:347: UserWarning: function values with index [5]/[] are nan/None and will be set to the median value 0.3221138121255622 (class=CMAEvolutionStrategy method=ask iteration=1)\n",
      "  ')')\n",
      "C:\\ProgramData\\Anaconda3\\lib\\site-packages\\cma\\utilities\\utils.py:347: UserWarning: function values with index [0, 1]/[] are nan/None and will be set to the median value 0.1596472235998482 (class=CMAEvolutionStrategy method=ask iteration=2)\n",
      "  ')')\n",
      "C:\\ProgramData\\Anaconda3\\lib\\site-packages\\cma\\utilities\\utils.py:347: UserWarning: function values with index [2]/[] are nan/None and will be set to the median value 0.10491585647893498 (class=CMAEvolutionStrategy method=ask iteration=4)\n",
      "  ')')\n"
     ]
    },
    {
     "name": "stdout",
     "output_type": "stream",
     "text": [
      "(4_w,8)-aCMA-ES (mu_w=2.6,w_1=52%) in dimension 4 (seed=992294, Mon Oct  5 19:08:45 2020)\n"
     ]
    },
    {
     "name": "stderr",
     "output_type": "stream",
     "text": [
      "C:\\ProgramData\\Anaconda3\\lib\\site-packages\\cma\\utilities\\utils.py:347: UserWarning: function values with index [6]/[] are nan/None and will be set to the median value 0.2726032320819995 (class=CMAEvolutionStrategy method=ask )\n",
      "  ')')\n",
      "C:\\ProgramData\\Anaconda3\\lib\\site-packages\\cma\\utilities\\utils.py:347: UserWarning: function values with index [6]/[] are nan/None and will be set to the median value 0.30490068542085236 (class=CMAEvolutionStrategy method=ask iteration=1)\n",
      "  ')')\n",
      "C:\\ProgramData\\Anaconda3\\lib\\site-packages\\cma\\utilities\\utils.py:347: UserWarning: function values with index [4]/[] are nan/None and will be set to the median value 0.13563694655730765 (class=CMAEvolutionStrategy method=ask iteration=2)\n",
      "  ')')\n"
     ]
    },
    {
     "name": "stdout",
     "output_type": "stream",
     "text": [
      "(4_w,8)-aCMA-ES (mu_w=2.6,w_1=52%) in dimension 4 (seed=1077025, Mon Oct  5 19:08:49 2020)\n"
     ]
    },
    {
     "name": "stderr",
     "output_type": "stream",
     "text": [
      "C:\\ProgramData\\Anaconda3\\lib\\site-packages\\cma\\utilities\\utils.py:347: UserWarning: function values with index [1, 3, 6]/[] are nan/None and will be set to the median value 0.5221925689658247 (class=CMAEvolutionStrategy method=ask iteration=2)\n",
      "  ')')\n",
      "C:\\ProgramData\\Anaconda3\\lib\\site-packages\\cma\\utilities\\utils.py:347: UserWarning: function values with index [2]/[] are nan/None and will be set to the median value 0.41107226625169435 (class=CMAEvolutionStrategy method=ask iteration=3)\n",
      "  ')')\n"
     ]
    },
    {
     "name": "stdout",
     "output_type": "stream",
     "text": [
      "(4_w,8)-aCMA-ES (mu_w=2.6,w_1=52%) in dimension 4 (seed=1036022, Mon Oct  5 19:08:57 2020)\n",
      "(4_w,8)-aCMA-ES (mu_w=2.6,w_1=52%) in dimension 4 (seed=1022877, Mon Oct  5 19:09:02 2020)\n",
      "(4_w,8)-aCMA-ES (mu_w=2.6,w_1=52%) in dimension 4 (seed=1067319, Mon Oct  5 19:09:06 2020)\n"
     ]
    },
    {
     "name": "stderr",
     "output_type": "stream",
     "text": [
      "C:\\ProgramData\\Anaconda3\\lib\\site-packages\\cma\\utilities\\utils.py:347: UserWarning: function values with index [3]/[] are nan/None and will be set to the median value 0.2046142208001297 (class=CMAEvolutionStrategy method=ask )\n",
      "  ')')\n"
     ]
    },
    {
     "name": "stdout",
     "output_type": "stream",
     "text": [
      "(4_w,8)-aCMA-ES (mu_w=2.6,w_1=52%) in dimension 4 (seed=1020003, Mon Oct  5 19:09:10 2020)\n"
     ]
    },
    {
     "name": "stderr",
     "output_type": "stream",
     "text": [
      "C:\\ProgramData\\Anaconda3\\lib\\site-packages\\cma\\utilities\\utils.py:347: UserWarning: function values with index [6]/[] are nan/None and will be set to the median value 0.36751830513466854 (class=CMAEvolutionStrategy method=ask iteration=1)\n",
      "  ')')\n"
     ]
    },
    {
     "name": "stdout",
     "output_type": "stream",
     "text": [
      "(4_w,8)-aCMA-ES (mu_w=2.6,w_1=52%) in dimension 4 (seed=1010549, Mon Oct  5 19:09:15 2020)\n"
     ]
    },
    {
     "name": "stderr",
     "output_type": "stream",
     "text": [
      "C:\\ProgramData\\Anaconda3\\lib\\site-packages\\cma\\utilities\\utils.py:347: UserWarning: function values with index [2]/[] are nan/None and will be set to the median value 0.4084040865612326 (class=CMAEvolutionStrategy method=ask )\n",
      "  ')')\n"
     ]
    },
    {
     "name": "stdout",
     "output_type": "stream",
     "text": [
      "(4_w,8)-aCMA-ES (mu_w=2.6,w_1=52%) in dimension 4 (seed=1047113, Mon Oct  5 19:09:19 2020)\n"
     ]
    },
    {
     "name": "stderr",
     "output_type": "stream",
     "text": [
      "C:\\ProgramData\\Anaconda3\\lib\\site-packages\\cma\\utilities\\utils.py:347: UserWarning: function values with index [3, 6]/[] are nan/None and will be set to the median value 0.3830582660307037 (class=CMAEvolutionStrategy method=ask iteration=1)\n",
      "  ')')\n",
      "C:\\ProgramData\\Anaconda3\\lib\\site-packages\\cma\\utilities\\utils.py:347: UserWarning: function values with index [1, 5, 6]/[] are nan/None and will be set to the median value 0.6023236678044349 (class=CMAEvolutionStrategy method=ask iteration=2)\n",
      "  ')')\n"
     ]
    },
    {
     "name": "stdout",
     "output_type": "stream",
     "text": [
      "(4_w,8)-aCMA-ES (mu_w=2.6,w_1=52%) in dimension 4 (seed=1007854, Mon Oct  5 19:09:25 2020)\n"
     ]
    },
    {
     "name": "stderr",
     "output_type": "stream",
     "text": [
      "C:\\ProgramData\\Anaconda3\\lib\\site-packages\\cma\\utilities\\utils.py:347: UserWarning: function values with index [4]/[] are nan/None and will be set to the median value 0.2290439127646034 (class=CMAEvolutionStrategy method=ask )\n",
      "  ')')\n"
     ]
    },
    {
     "name": "stdout",
     "output_type": "stream",
     "text": [
      "(4_w,8)-aCMA-ES (mu_w=2.6,w_1=52%) in dimension 4 (seed=983397, Mon Oct  5 19:09:29 2020)\n"
     ]
    },
    {
     "name": "stderr",
     "output_type": "stream",
     "text": [
      "C:\\ProgramData\\Anaconda3\\lib\\site-packages\\cma\\utilities\\utils.py:347: UserWarning: function values with index [0]/[] are nan/None and will be set to the median value 0.34664226762015776 (class=CMAEvolutionStrategy method=ask )\n",
      "  ')')\n"
     ]
    },
    {
     "name": "stdout",
     "output_type": "stream",
     "text": [
      "(4_w,8)-aCMA-ES (mu_w=2.6,w_1=52%) in dimension 4 (seed=1057321, Mon Oct  5 19:09:32 2020)\n"
     ]
    },
    {
     "name": "stderr",
     "output_type": "stream",
     "text": [
      "C:\\ProgramData\\Anaconda3\\lib\\site-packages\\cma\\utilities\\utils.py:347: UserWarning: function values with index [0]/[] are nan/None and will be set to the median value 0.19180812344184062 (class=CMAEvolutionStrategy method=ask )\n",
      "  ')')\n"
     ]
    },
    {
     "name": "stdout",
     "output_type": "stream",
     "text": [
      "(4_w,8)-aCMA-ES (mu_w=2.6,w_1=52%) in dimension 4 (seed=1021867, Mon Oct  5 19:09:38 2020)\n",
      "(4_w,8)-aCMA-ES (mu_w=2.6,w_1=52%) in dimension 4 (seed=1025280, Mon Oct  5 19:09:43 2020)\n",
      "(4_w,8)-aCMA-ES (mu_w=2.6,w_1=52%) in dimension 4 (seed=1095236, Mon Oct  5 19:09:46 2020)\n"
     ]
    },
    {
     "name": "stderr",
     "output_type": "stream",
     "text": [
      "C:\\ProgramData\\Anaconda3\\lib\\site-packages\\cma\\utilities\\utils.py:347: UserWarning: function values with index [1]/[] are nan/None and will be set to the median value 0.30311315876552036 (class=CMAEvolutionStrategy method=ask )\n",
      "  ')')\n",
      "C:\\ProgramData\\Anaconda3\\lib\\site-packages\\cma\\utilities\\utils.py:347: UserWarning: function values with index [6]/[] are nan/None and will be set to the median value 0.24066617104800933 (class=CMAEvolutionStrategy method=ask iteration=1)\n",
      "  ')')\n"
     ]
    },
    {
     "name": "stdout",
     "output_type": "stream",
     "text": [
      "(4_w,8)-aCMA-ES (mu_w=2.6,w_1=52%) in dimension 4 (seed=1069935, Mon Oct  5 19:09:50 2020)\n"
     ]
    },
    {
     "name": "stderr",
     "output_type": "stream",
     "text": [
      "C:\\ProgramData\\Anaconda3\\lib\\site-packages\\cma\\utilities\\utils.py:347: UserWarning: function values with index [4]/[] are nan/None and will be set to the median value 0.13743201395289947 (class=CMAEvolutionStrategy method=ask )\n",
      "  ')')\n",
      "C:\\ProgramData\\Anaconda3\\lib\\site-packages\\cma\\utilities\\utils.py:347: UserWarning: function values with index [2]/[] are nan/None and will be set to the median value 0.3900369873945936 (class=CMAEvolutionStrategy method=ask iteration=1)\n",
      "  ')')\n",
      "C:\\ProgramData\\Anaconda3\\lib\\site-packages\\cma\\utilities\\utils.py:347: UserWarning: function values with index [6]/[] are nan/None and will be set to the median value 0.44701827210317713 (class=CMAEvolutionStrategy method=ask iteration=3)\n",
      "  ')')\n",
      "C:\\ProgramData\\Anaconda3\\lib\\site-packages\\cma\\utilities\\utils.py:347: UserWarning: function values with index [3]/[] are nan/None and will be set to the median value 0.2901331600913971 (class=CMAEvolutionStrategy method=ask iteration=5)\n",
      "  ')')\n",
      "C:\\ProgramData\\Anaconda3\\lib\\site-packages\\cma\\utilities\\utils.py:347: UserWarning: function values with index [1]/[] are nan/None and will be set to the median value 0.2919555791713283 (class=CMAEvolutionStrategy method=ask iteration=7)\n",
      "  ')')\n"
     ]
    },
    {
     "name": "stdout",
     "output_type": "stream",
     "text": [
      "(4_w,8)-aCMA-ES (mu_w=2.6,w_1=52%) in dimension 4 (seed=1118520, Mon Oct  5 19:09:54 2020)\n",
      "(4_w,8)-aCMA-ES (mu_w=2.6,w_1=52%) in dimension 4 (seed=1016346, Mon Oct  5 19:09:59 2020)\n"
     ]
    },
    {
     "name": "stderr",
     "output_type": "stream",
     "text": [
      "C:\\ProgramData\\Anaconda3\\lib\\site-packages\\cma\\utilities\\utils.py:347: UserWarning: function values with index [0, 4]/[] are nan/None and will be set to the median value 0.45033604009788397 (class=CMAEvolutionStrategy method=ask )\n",
      "  ')')\n",
      "C:\\ProgramData\\Anaconda3\\lib\\site-packages\\cma\\utilities\\utils.py:347: UserWarning: function values with index [4, 6]/[] are nan/None and will be set to the median value 0.24352026385654021 (class=CMAEvolutionStrategy method=ask iteration=2)\n",
      "  ')')\n"
     ]
    },
    {
     "name": "stdout",
     "output_type": "stream",
     "text": [
      "(4_w,8)-aCMA-ES (mu_w=2.6,w_1=52%) in dimension 4 (seed=975103, Mon Oct  5 19:10:05 2020)\n",
      "(4_w,8)-aCMA-ES (mu_w=2.6,w_1=52%) in dimension 4 (seed=980622, Mon Oct  5 19:10:10 2020)\n"
     ]
    },
    {
     "name": "stderr",
     "output_type": "stream",
     "text": [
      "C:\\ProgramData\\Anaconda3\\lib\\site-packages\\cma\\utilities\\utils.py:347: UserWarning: function values with index [5]/[] are nan/None and will be set to the median value 0.21914461616191677 (class=CMAEvolutionStrategy method=ask iteration=1)\n",
      "  ')')\n",
      "C:\\ProgramData\\Anaconda3\\lib\\site-packages\\cma\\utilities\\utils.py:347: UserWarning: function values with index [2]/[] are nan/None and will be set to the median value 0.22021829745278934 (class=CMAEvolutionStrategy method=ask iteration=3)\n",
      "  ')')\n"
     ]
    },
    {
     "name": "stdout",
     "output_type": "stream",
     "text": [
      "(4_w,8)-aCMA-ES (mu_w=2.6,w_1=52%) in dimension 4 (seed=1089477, Mon Oct  5 19:10:13 2020)\n"
     ]
    },
    {
     "name": "stderr",
     "output_type": "stream",
     "text": [
      "C:\\ProgramData\\Anaconda3\\lib\\site-packages\\cma\\utilities\\utils.py:347: UserWarning: function values with index [3]/[] are nan/None and will be set to the median value 0.32929648329942063 (class=CMAEvolutionStrategy method=ask iteration=1)\n",
      "  ')')\n"
     ]
    },
    {
     "name": "stdout",
     "output_type": "stream",
     "text": [
      "(4_w,8)-aCMA-ES (mu_w=2.6,w_1=52%) in dimension 4 (seed=1047616, Mon Oct  5 19:10:18 2020)\n"
     ]
    },
    {
     "name": "stderr",
     "output_type": "stream",
     "text": [
      "C:\\ProgramData\\Anaconda3\\lib\\site-packages\\cma\\utilities\\utils.py:347: UserWarning: function values with index [0]/[] are nan/None and will be set to the median value 0.2925326784846302 (class=CMAEvolutionStrategy method=ask )\n",
      "  ')')\n",
      "C:\\ProgramData\\Anaconda3\\lib\\site-packages\\cma\\utilities\\utils.py:347: UserWarning: function values with index [5]/[] are nan/None and will be set to the median value 0.18128346862960557 (class=CMAEvolutionStrategy method=ask iteration=5)\n",
      "  ')')\n"
     ]
    },
    {
     "name": "stdout",
     "output_type": "stream",
     "text": [
      "(4_w,8)-aCMA-ES (mu_w=2.6,w_1=52%) in dimension 4 (seed=978237, Mon Oct  5 19:10:23 2020)\n"
     ]
    },
    {
     "name": "stderr",
     "output_type": "stream",
     "text": [
      "C:\\ProgramData\\Anaconda3\\lib\\site-packages\\cma\\utilities\\utils.py:347: UserWarning: function values with index [0, 1, 4]/[] are nan/None and will be set to the median value 0.2886225484093464 (class=CMAEvolutionStrategy method=ask iteration=1)\n",
      "  ')')\n",
      "C:\\ProgramData\\Anaconda3\\lib\\site-packages\\cma\\utilities\\utils.py:347: UserWarning: function values with index [6]/[] are nan/None and will be set to the median value 0.2747165561862029 (class=CMAEvolutionStrategy method=ask iteration=2)\n",
      "  ')')\n"
     ]
    },
    {
     "name": "stdout",
     "output_type": "stream",
     "text": [
      "(4_w,8)-aCMA-ES (mu_w=2.6,w_1=52%) in dimension 4 (seed=1079252, Mon Oct  5 19:10:27 2020)\n",
      "(4_w,8)-aCMA-ES (mu_w=2.6,w_1=52%) in dimension 4 (seed=1038740, Mon Oct  5 19:10:32 2020)\n"
     ]
    },
    {
     "name": "stderr",
     "output_type": "stream",
     "text": [
      "C:\\ProgramData\\Anaconda3\\lib\\site-packages\\cma\\utilities\\utils.py:347: UserWarning: function values with index [6]/[] are nan/None and will be set to the median value 0.2616973913408368 (class=CMAEvolutionStrategy method=ask )\n",
      "  ')')\n"
     ]
    },
    {
     "name": "stdout",
     "output_type": "stream",
     "text": [
      "(4_w,8)-aCMA-ES (mu_w=2.6,w_1=52%) in dimension 4 (seed=976500, Mon Oct  5 19:10:36 2020)\n",
      "(4_w,8)-aCMA-ES (mu_w=2.6,w_1=52%) in dimension 4 (seed=1072507, Mon Oct  5 19:10:39 2020)\n"
     ]
    },
    {
     "name": "stderr",
     "output_type": "stream",
     "text": [
      "C:\\ProgramData\\Anaconda3\\lib\\site-packages\\cma\\utilities\\utils.py:347: UserWarning: function values with index [5]/[] are nan/None and will be set to the median value 0.3376700130554565 (class=CMAEvolutionStrategy method=ask )\n",
      "  ')')\n"
     ]
    },
    {
     "name": "stdout",
     "output_type": "stream",
     "text": [
      "(4_w,8)-aCMA-ES (mu_w=2.6,w_1=52%) in dimension 4 (seed=1119931, Mon Oct  5 19:10:49 2020)\n"
     ]
    },
    {
     "name": "stderr",
     "output_type": "stream",
     "text": [
      "C:\\ProgramData\\Anaconda3\\lib\\site-packages\\cma\\utilities\\utils.py:347: UserWarning: function values with index [4]/[] are nan/None and will be set to the median value 0.19579986090646234 (class=CMAEvolutionStrategy method=ask iteration=4)\n",
      "  ')')\n"
     ]
    },
    {
     "name": "stdout",
     "output_type": "stream",
     "text": [
      "(4_w,8)-aCMA-ES (mu_w=2.6,w_1=52%) in dimension 4 (seed=1034475, Mon Oct  5 19:11:06 2020)\n"
     ]
    },
    {
     "name": "stderr",
     "output_type": "stream",
     "text": [
      "C:\\ProgramData\\Anaconda3\\lib\\site-packages\\cma\\utilities\\utils.py:347: UserWarning: function values with index [4]/[] are nan/None and will be set to the median value 0.25542818942616147 (class=CMAEvolutionStrategy method=ask iteration=2)\n",
      "  ')')\n",
      "C:\\ProgramData\\Anaconda3\\lib\\site-packages\\cma\\utilities\\utils.py:347: UserWarning: function values with index [4]/[] are nan/None and will be set to the median value 0.2812510681907596 (class=CMAEvolutionStrategy method=ask iteration=3)\n",
      "  ')')\n",
      "C:\\ProgramData\\Anaconda3\\lib\\site-packages\\cma\\utilities\\utils.py:347: UserWarning: function values with index [7]/[] are nan/None and will be set to the median value 0.11518887074503689 (class=CMAEvolutionStrategy method=ask iteration=4)\n",
      "  ')')\n"
     ]
    },
    {
     "name": "stdout",
     "output_type": "stream",
     "text": [
      "(4_w,8)-aCMA-ES (mu_w=2.6,w_1=52%) in dimension 4 (seed=1090329, Mon Oct  5 19:11:26 2020)\n",
      "(4_w,8)-aCMA-ES (mu_w=2.6,w_1=52%) in dimension 4 (seed=1071145, Mon Oct  5 19:11:49 2020)\n"
     ]
    },
    {
     "name": "stderr",
     "output_type": "stream",
     "text": [
      "C:\\ProgramData\\Anaconda3\\lib\\site-packages\\cma\\utilities\\utils.py:347: UserWarning: function values with index [4]/[] are nan/None and will be set to the median value 0.15340980956924472 (class=CMAEvolutionStrategy method=ask )\n",
      "  ')')\n"
     ]
    },
    {
     "name": "stdout",
     "output_type": "stream",
     "text": [
      "(4_w,8)-aCMA-ES (mu_w=2.6,w_1=52%) in dimension 4 (seed=1031000, Mon Oct  5 19:12:07 2020)\n",
      "(4_w,8)-aCMA-ES (mu_w=2.6,w_1=52%) in dimension 4 (seed=982597, Mon Oct  5 19:12:21 2020)\n"
     ]
    },
    {
     "name": "stderr",
     "output_type": "stream",
     "text": [
      "C:\\ProgramData\\Anaconda3\\lib\\site-packages\\cma\\utilities\\utils.py:347: UserWarning: function values with index [2]/[] are nan/None and will be set to the median value 0.23529223679132621 (class=CMAEvolutionStrategy method=ask iteration=4)\n",
      "  ')')\n"
     ]
    },
    {
     "name": "stdout",
     "output_type": "stream",
     "text": [
      "(4_w,8)-aCMA-ES (mu_w=2.6,w_1=52%) in dimension 4 (seed=1031744, Mon Oct  5 19:12:38 2020)\n",
      "(4_w,8)-aCMA-ES (mu_w=2.6,w_1=52%) in dimension 4 (seed=1040825, Mon Oct  5 19:12:54 2020)\n"
     ]
    },
    {
     "name": "stderr",
     "output_type": "stream",
     "text": [
      "C:\\ProgramData\\Anaconda3\\lib\\site-packages\\cma\\utilities\\utils.py:347: UserWarning: function values with index [6]/[] are nan/None and will be set to the median value 0.3039062279575734 (class=CMAEvolutionStrategy method=ask )\n",
      "  ')')\n"
     ]
    },
    {
     "name": "stdout",
     "output_type": "stream",
     "text": [
      "(4_w,8)-aCMA-ES (mu_w=2.6,w_1=52%) in dimension 4 (seed=1084735, Mon Oct  5 19:13:14 2020)\n"
     ]
    },
    {
     "name": "stderr",
     "output_type": "stream",
     "text": [
      "C:\\ProgramData\\Anaconda3\\lib\\site-packages\\cma\\utilities\\utils.py:347: UserWarning: function values with index [1]/[] are nan/None and will be set to the median value 0.3008612734999157 (class=CMAEvolutionStrategy method=ask iteration=2)\n",
      "  ')')\n"
     ]
    },
    {
     "name": "stdout",
     "output_type": "stream",
     "text": [
      "(4_w,8)-aCMA-ES (mu_w=2.6,w_1=52%) in dimension 4 (seed=1016437, Mon Oct  5 19:13:29 2020)\n"
     ]
    },
    {
     "name": "stderr",
     "output_type": "stream",
     "text": [
      "C:\\ProgramData\\Anaconda3\\lib\\site-packages\\cma\\utilities\\utils.py:347: UserWarning: function values with index [1, 3]/[] are nan/None and will be set to the median value 0.1797777958709199 (class=CMAEvolutionStrategy method=ask iteration=2)\n",
      "  ')')\n"
     ]
    },
    {
     "name": "stdout",
     "output_type": "stream",
     "text": [
      "(4_w,8)-aCMA-ES (mu_w=2.6,w_1=52%) in dimension 4 (seed=1070095, Mon Oct  5 19:13:48 2020)\n",
      "(4_w,8)-aCMA-ES (mu_w=2.6,w_1=52%) in dimension 4 (seed=1125310, Mon Oct  5 19:13:59 2020)\n"
     ]
    },
    {
     "name": "stderr",
     "output_type": "stream",
     "text": [
      "C:\\ProgramData\\Anaconda3\\lib\\site-packages\\cma\\utilities\\utils.py:347: UserWarning: function values with index [2]/[] are nan/None and will be set to the median value 0.24474058999925483 (class=CMAEvolutionStrategy method=ask iteration=2)\n",
      "  ')')\n"
     ]
    },
    {
     "name": "stdout",
     "output_type": "stream",
     "text": [
      "(4_w,8)-aCMA-ES (mu_w=2.6,w_1=52%) in dimension 4 (seed=1049674, Mon Oct  5 19:14:10 2020)\n"
     ]
    },
    {
     "name": "stderr",
     "output_type": "stream",
     "text": [
      "C:\\ProgramData\\Anaconda3\\lib\\site-packages\\cma\\utilities\\utils.py:347: UserWarning: function values with index [4]/[] are nan/None and will be set to the median value 0.27138502509024653 (class=CMAEvolutionStrategy method=ask )\n",
      "  ')')\n",
      "C:\\ProgramData\\Anaconda3\\lib\\site-packages\\cma\\utilities\\utils.py:347: UserWarning: function values with index [4]/[] are nan/None and will be set to the median value 0.3022062741470232 (class=CMAEvolutionStrategy method=ask iteration=5)\n",
      "  ')')\n"
     ]
    },
    {
     "name": "stdout",
     "output_type": "stream",
     "text": [
      "(4_w,8)-aCMA-ES (mu_w=2.6,w_1=52%) in dimension 4 (seed=972537, Mon Oct  5 19:14:23 2020)\n"
     ]
    },
    {
     "name": "stderr",
     "output_type": "stream",
     "text": [
      "C:\\ProgramData\\Anaconda3\\lib\\site-packages\\cma\\utilities\\utils.py:347: UserWarning: function values with index [2]/[] are nan/None and will be set to the median value 0.3613693798795626 (class=CMAEvolutionStrategy method=ask iteration=1)\n",
      "  ')')\n"
     ]
    },
    {
     "name": "stdout",
     "output_type": "stream",
     "text": [
      "(4_w,8)-aCMA-ES (mu_w=2.6,w_1=52%) in dimension 4 (seed=1117309, Mon Oct  5 19:14:41 2020)\n",
      "(4_w,8)-aCMA-ES (mu_w=2.6,w_1=52%) in dimension 4 (seed=1092869, Mon Oct  5 19:14:57 2020)\n"
     ]
    },
    {
     "name": "stderr",
     "output_type": "stream",
     "text": [
      "C:\\ProgramData\\Anaconda3\\lib\\site-packages\\cma\\utilities\\utils.py:347: UserWarning: function values with index [2]/[] are nan/None and will be set to the median value 0.39200143094923956 (class=CMAEvolutionStrategy method=ask )\n",
      "  ')')\n"
     ]
    },
    {
     "name": "stdout",
     "output_type": "stream",
     "text": [
      "(4_w,8)-aCMA-ES (mu_w=2.6,w_1=52%) in dimension 4 (seed=1041960, Mon Oct  5 19:15:09 2020)\n"
     ]
    },
    {
     "name": "stderr",
     "output_type": "stream",
     "text": [
      "C:\\ProgramData\\Anaconda3\\lib\\site-packages\\cma\\utilities\\utils.py:347: UserWarning: function values with index [0]/[] are nan/None and will be set to the median value 0.38562448936717064 (class=CMAEvolutionStrategy method=ask iteration=1)\n",
      "  ')')\n"
     ]
    },
    {
     "name": "stdout",
     "output_type": "stream",
     "text": [
      "(4_w,8)-aCMA-ES (mu_w=2.6,w_1=52%) in dimension 4 (seed=1038790, Mon Oct  5 19:15:21 2020)\n",
      "(4_w,8)-aCMA-ES (mu_w=2.6,w_1=52%) in dimension 4 (seed=954750, Mon Oct  5 19:15:41 2020)\n",
      "(4_w,8)-aCMA-ES (mu_w=2.6,w_1=52%) in dimension 4 (seed=997500, Mon Oct  5 19:15:55 2020)\n"
     ]
    },
    {
     "name": "stderr",
     "output_type": "stream",
     "text": [
      "C:\\ProgramData\\Anaconda3\\lib\\site-packages\\cma\\utilities\\utils.py:347: UserWarning: function values with index [2]/[] are nan/None and will be set to the median value 0.2136066640648593 (class=CMAEvolutionStrategy method=ask iteration=2)\n",
      "  ')')\n"
     ]
    },
    {
     "name": "stdout",
     "output_type": "stream",
     "text": [
      "(4_w,8)-aCMA-ES (mu_w=2.6,w_1=52%) in dimension 4 (seed=995932, Mon Oct  5 19:16:06 2020)\n"
     ]
    },
    {
     "name": "stderr",
     "output_type": "stream",
     "text": [
      "C:\\ProgramData\\Anaconda3\\lib\\site-packages\\cma\\utilities\\utils.py:347: UserWarning: function values with index [1, 3]/[] are nan/None and will be set to the median value 0.2108408997482771 (class=CMAEvolutionStrategy method=ask )\n",
      "  ')')\n",
      "C:\\ProgramData\\Anaconda3\\lib\\site-packages\\cma\\utilities\\utils.py:347: UserWarning: function values with index [0, 5]/[] are nan/None and will be set to the median value 0.26370136465006366 (class=CMAEvolutionStrategy method=ask iteration=6)\n",
      "  ')')\n"
     ]
    },
    {
     "name": "stdout",
     "output_type": "stream",
     "text": [
      "(4_w,8)-aCMA-ES (mu_w=2.6,w_1=52%) in dimension 4 (seed=1057259, Mon Oct  5 19:16:17 2020)\n"
     ]
    },
    {
     "name": "stderr",
     "output_type": "stream",
     "text": [
      "C:\\ProgramData\\Anaconda3\\lib\\site-packages\\cma\\utilities\\utils.py:347: UserWarning: function values with index [7]/[] are nan/None and will be set to the median value 0.2010855228088007 (class=CMAEvolutionStrategy method=ask iteration=2)\n",
      "  ')')\n",
      "C:\\ProgramData\\Anaconda3\\lib\\site-packages\\cma\\utilities\\utils.py:347: UserWarning: function values with index [5]/[] are nan/None and will be set to the median value 0.26503939950718414 (class=CMAEvolutionStrategy method=ask iteration=3)\n",
      "  ')')\n"
     ]
    },
    {
     "name": "stdout",
     "output_type": "stream",
     "text": [
      "(4_w,8)-aCMA-ES (mu_w=2.6,w_1=52%) in dimension 4 (seed=1016841, Mon Oct  5 19:16:35 2020)\n",
      "(4_w,8)-aCMA-ES (mu_w=2.6,w_1=52%) in dimension 4 (seed=989996, Mon Oct  5 19:16:52 2020)\n",
      "(4_w,8)-aCMA-ES (mu_w=2.6,w_1=52%) in dimension 4 (seed=998592, Mon Oct  5 19:17:04 2020)\n",
      "(4_w,8)-aCMA-ES (mu_w=2.6,w_1=52%) in dimension 4 (seed=1110868, Mon Oct  5 19:17:15 2020)\n"
     ]
    },
    {
     "name": "stderr",
     "output_type": "stream",
     "text": [
      "C:\\ProgramData\\Anaconda3\\lib\\site-packages\\cma\\utilities\\utils.py:347: UserWarning: function values with index [0, 2]/[] are nan/None and will be set to the median value 0.40341140559280564 (class=CMAEvolutionStrategy method=ask iteration=2)\n",
      "  ')')\n"
     ]
    },
    {
     "name": "stdout",
     "output_type": "stream",
     "text": [
      "(4_w,8)-aCMA-ES (mu_w=2.6,w_1=52%) in dimension 4 (seed=1077471, Mon Oct  5 19:17:28 2020)\n"
     ]
    },
    {
     "name": "stderr",
     "output_type": "stream",
     "text": [
      "C:\\ProgramData\\Anaconda3\\lib\\site-packages\\cma\\utilities\\utils.py:347: UserWarning: function values with index [1]/[] are nan/None and will be set to the median value 0.1772537845815514 (class=CMAEvolutionStrategy method=ask )\n",
      "  ')')\n"
     ]
    },
    {
     "name": "stdout",
     "output_type": "stream",
     "text": [
      "(4_w,8)-aCMA-ES (mu_w=2.6,w_1=52%) in dimension 4 (seed=1071455, Mon Oct  5 19:17:49 2020)\n"
     ]
    },
    {
     "name": "stderr",
     "output_type": "stream",
     "text": [
      "C:\\ProgramData\\Anaconda3\\lib\\site-packages\\cma\\utilities\\utils.py:347: UserWarning: function values with index [0]/[] are nan/None and will be set to the median value 0.5517199270358755 (class=CMAEvolutionStrategy method=ask )\n",
      "  ')')\n",
      "C:\\ProgramData\\Anaconda3\\lib\\site-packages\\cma\\utilities\\utils.py:347: UserWarning: function values with index [0, 3, 4, 6]/[] are nan/None and will be set to the median value 0.3942766699662409 (class=CMAEvolutionStrategy method=ask iteration=1)\n",
      "  ')')\n"
     ]
    },
    {
     "name": "stdout",
     "output_type": "stream",
     "text": [
      "(4_w,8)-aCMA-ES (mu_w=2.6,w_1=52%) in dimension 4 (seed=989506, Mon Oct  5 19:18:02 2020)\n"
     ]
    },
    {
     "name": "stderr",
     "output_type": "stream",
     "text": [
      "C:\\ProgramData\\Anaconda3\\lib\\site-packages\\cma\\utilities\\utils.py:347: UserWarning: function values with index [1, 4]/[] are nan/None and will be set to the median value 0.19365613385949756 (class=CMAEvolutionStrategy method=ask iteration=4)\n",
      "  ')')\n"
     ]
    },
    {
     "name": "stdout",
     "output_type": "stream",
     "text": [
      "(4_w,8)-aCMA-ES (mu_w=2.6,w_1=52%) in dimension 4 (seed=1066188, Mon Oct  5 19:18:12 2020)\n",
      "(4_w,8)-aCMA-ES (mu_w=2.6,w_1=52%) in dimension 4 (seed=1092694, Mon Oct  5 19:18:27 2020)\n",
      "(4_w,8)-aCMA-ES (mu_w=2.6,w_1=52%) in dimension 4 (seed=1023042, Mon Oct  5 19:18:44 2020)\n",
      "(4_w,8)-aCMA-ES (mu_w=2.6,w_1=52%) in dimension 4 (seed=1024789, Mon Oct  5 19:19:01 2020)\n"
     ]
    },
    {
     "name": "stderr",
     "output_type": "stream",
     "text": [
      "C:\\ProgramData\\Anaconda3\\lib\\site-packages\\cma\\utilities\\utils.py:347: UserWarning: function values with index [6]/[] are nan/None and will be set to the median value 0.4509839208547353 (class=CMAEvolutionStrategy method=ask )\n",
      "  ')')\n"
     ]
    },
    {
     "name": "stdout",
     "output_type": "stream",
     "text": [
      "(4_w,8)-aCMA-ES (mu_w=2.6,w_1=52%) in dimension 4 (seed=1090154, Mon Oct  5 19:19:11 2020)\n"
     ]
    },
    {
     "name": "stderr",
     "output_type": "stream",
     "text": [
      "C:\\ProgramData\\Anaconda3\\lib\\site-packages\\cma\\utilities\\utils.py:347: UserWarning: function values with index [3]/[] are nan/None and will be set to the median value 0.29671537766743594 (class=CMAEvolutionStrategy method=ask iteration=2)\n",
      "  ')')\n"
     ]
    },
    {
     "name": "stdout",
     "output_type": "stream",
     "text": [
      "(4_w,8)-aCMA-ES (mu_w=2.6,w_1=52%) in dimension 4 (seed=1055592, Mon Oct  5 19:19:23 2020)\n"
     ]
    },
    {
     "name": "stderr",
     "output_type": "stream",
     "text": [
      "C:\\ProgramData\\Anaconda3\\lib\\site-packages\\cma\\utilities\\utils.py:347: UserWarning: function values with index [0, 6]/[] are nan/None and will be set to the median value 0.2961281284561869 (class=CMAEvolutionStrategy method=ask iteration=1)\n",
      "  ')')\n"
     ]
    },
    {
     "name": "stdout",
     "output_type": "stream",
     "text": [
      "(4_w,8)-aCMA-ES (mu_w=2.6,w_1=52%) in dimension 4 (seed=1044914, Mon Oct  5 19:19:35 2020)\n",
      "(4_w,8)-aCMA-ES (mu_w=2.6,w_1=52%) in dimension 4 (seed=1041756, Mon Oct  5 19:19:53 2020)\n"
     ]
    },
    {
     "name": "stderr",
     "output_type": "stream",
     "text": [
      "C:\\ProgramData\\Anaconda3\\lib\\site-packages\\cma\\utilities\\utils.py:347: UserWarning: function values with index [5]/[] are nan/None and will be set to the median value 0.26713576042539605 (class=CMAEvolutionStrategy method=ask )\n",
      "  ')')\n",
      "C:\\ProgramData\\Anaconda3\\lib\\site-packages\\cma\\utilities\\utils.py:347: UserWarning: function values with index [2]/[] are nan/None and will be set to the median value 0.1819507289933509 (class=CMAEvolutionStrategy method=ask iteration=3)\n",
      "  ')')\n"
     ]
    },
    {
     "name": "stdout",
     "output_type": "stream",
     "text": [
      "(4_w,8)-aCMA-ES (mu_w=2.6,w_1=52%) in dimension 4 (seed=1059477, Mon Oct  5 19:20:17 2020)\n"
     ]
    },
    {
     "name": "stderr",
     "output_type": "stream",
     "text": [
      "C:\\ProgramData\\Anaconda3\\lib\\site-packages\\cma\\utilities\\utils.py:347: UserWarning: function values with index [0]/[] are nan/None and will be set to the median value 0.3542190394602224 (class=CMAEvolutionStrategy method=ask )\n",
      "  ')')\n",
      "C:\\ProgramData\\Anaconda3\\lib\\site-packages\\cma\\utilities\\utils.py:347: UserWarning: function values with index [0, 4]/[] are nan/None and will be set to the median value 0.2894544182580515 (class=CMAEvolutionStrategy method=ask iteration=1)\n",
      "  ')')\n",
      "C:\\ProgramData\\Anaconda3\\lib\\site-packages\\cma\\utilities\\utils.py:347: UserWarning: function values with index [1]/[] are nan/None and will be set to the median value 0.19607829578866898 (class=CMAEvolutionStrategy method=ask iteration=2)\n",
      "  ')')\n"
     ]
    },
    {
     "name": "stdout",
     "output_type": "stream",
     "text": [
      "(4_w,8)-aCMA-ES (mu_w=2.6,w_1=52%) in dimension 4 (seed=1129434, Mon Oct  5 19:20:28 2020)\n"
     ]
    },
    {
     "name": "stderr",
     "output_type": "stream",
     "text": [
      "C:\\ProgramData\\Anaconda3\\lib\\site-packages\\cma\\utilities\\utils.py:347: UserWarning: function values with index [7]/[] are nan/None and will be set to the median value 0.39264084776665076 (class=CMAEvolutionStrategy method=ask )\n",
      "  ')')\n",
      "C:\\ProgramData\\Anaconda3\\lib\\site-packages\\cma\\utilities\\utils.py:347: UserWarning: function values with index [2]/[] are nan/None and will be set to the median value 0.32316562771427493 (class=CMAEvolutionStrategy method=ask iteration=2)\n",
      "  ')')\n"
     ]
    },
    {
     "name": "stdout",
     "output_type": "stream",
     "text": [
      "(4_w,8)-aCMA-ES (mu_w=2.6,w_1=52%) in dimension 4 (seed=1078564, Mon Oct  5 19:20:41 2020)\n"
     ]
    },
    {
     "name": "stderr",
     "output_type": "stream",
     "text": [
      "C:\\ProgramData\\Anaconda3\\lib\\site-packages\\cma\\utilities\\utils.py:347: UserWarning: function values with index [1]/[] are nan/None and will be set to the median value 0.19153978756165482 (class=CMAEvolutionStrategy method=ask iteration=2)\n",
      "  ')')\n"
     ]
    },
    {
     "name": "stdout",
     "output_type": "stream",
     "text": [
      "(4_w,8)-aCMA-ES (mu_w=2.6,w_1=52%) in dimension 4 (seed=984064, Mon Oct  5 19:20:59 2020)\n",
      "(4_w,8)-aCMA-ES (mu_w=2.6,w_1=52%) in dimension 4 (seed=1098772, Mon Oct  5 19:21:14 2020)\n",
      "(4_w,8)-aCMA-ES (mu_w=2.6,w_1=52%) in dimension 4 (seed=1074124, Mon Oct  5 19:21:26 2020)\n"
     ]
    },
    {
     "name": "stderr",
     "output_type": "stream",
     "text": [
      "C:\\ProgramData\\Anaconda3\\lib\\site-packages\\cma\\utilities\\utils.py:347: UserWarning: function values with index [0, 1]/[] are nan/None and will be set to the median value 0.19405346397201073 (class=CMAEvolutionStrategy method=ask iteration=1)\n",
      "  ')')\n"
     ]
    },
    {
     "name": "stdout",
     "output_type": "stream",
     "text": [
      "(4_w,8)-aCMA-ES (mu_w=2.6,w_1=52%) in dimension 4 (seed=1075326, Mon Oct  5 19:21:37 2020)\n"
     ]
    },
    {
     "name": "stderr",
     "output_type": "stream",
     "text": [
      "C:\\ProgramData\\Anaconda3\\lib\\site-packages\\cma\\utilities\\utils.py:347: UserWarning: function values with index [3, 7]/[] are nan/None and will be set to the median value 0.25421280467714646 (class=CMAEvolutionStrategy method=ask )\n",
      "  ')')\n"
     ]
    },
    {
     "name": "stdout",
     "output_type": "stream",
     "text": [
      "(4_w,8)-aCMA-ES (mu_w=2.6,w_1=52%) in dimension 4 (seed=982676, Mon Oct  5 19:21:55 2020)\n",
      "(4_w,8)-aCMA-ES (mu_w=2.6,w_1=52%) in dimension 4 (seed=1097198, Mon Oct  5 19:22:10 2020)\n"
     ]
    },
    {
     "name": "stderr",
     "output_type": "stream",
     "text": [
      "C:\\ProgramData\\Anaconda3\\lib\\site-packages\\cma\\utilities\\utils.py:347: UserWarning: function values with index [2]/[] are nan/None and will be set to the median value 0.1796545675282205 (class=CMAEvolutionStrategy method=ask iteration=2)\n",
      "  ')')\n"
     ]
    },
    {
     "name": "stdout",
     "output_type": "stream",
     "text": [
      "(4_w,8)-aCMA-ES (mu_w=2.6,w_1=52%) in dimension 4 (seed=1037988, Mon Oct  5 19:22:23 2020)\n",
      "(4_w,8)-aCMA-ES (mu_w=2.6,w_1=52%) in dimension 4 (seed=1015437, Mon Oct  5 19:22:38 2020)\n",
      "(4_w,8)-aCMA-ES (mu_w=2.6,w_1=52%) in dimension 4 (seed=1020661, Mon Oct  5 19:22:50 2020)\n"
     ]
    },
    {
     "name": "stderr",
     "output_type": "stream",
     "text": [
      "C:\\ProgramData\\Anaconda3\\lib\\site-packages\\cma\\utilities\\utils.py:347: UserWarning: function values with index [6]/[] are nan/None and will be set to the median value 0.22809096517093766 (class=CMAEvolutionStrategy method=ask iteration=1)\n",
      "  ')')\n"
     ]
    },
    {
     "name": "stdout",
     "output_type": "stream",
     "text": [
      "(4_w,8)-aCMA-ES (mu_w=2.6,w_1=52%) in dimension 4 (seed=1107374, Mon Oct  5 19:23:13 2020)\n"
     ]
    },
    {
     "name": "stderr",
     "output_type": "stream",
     "text": [
      "C:\\ProgramData\\Anaconda3\\lib\\site-packages\\cma\\utilities\\utils.py:347: UserWarning: function values with index [0, 3]/[] are nan/None and will be set to the median value 0.23603304031913463 (class=CMAEvolutionStrategy method=ask )\n",
      "  ')')\n"
     ]
    },
    {
     "name": "stdout",
     "output_type": "stream",
     "text": [
      "(4_w,8)-aCMA-ES (mu_w=2.6,w_1=52%) in dimension 4 (seed=1128019, Mon Oct  5 19:23:27 2020)\n"
     ]
    },
    {
     "name": "stderr",
     "output_type": "stream",
     "text": [
      "C:\\ProgramData\\Anaconda3\\lib\\site-packages\\cma\\utilities\\utils.py:347: UserWarning: function values with index [6]/[] are nan/None and will be set to the median value 0.4493882760900825 (class=CMAEvolutionStrategy method=ask )\n",
      "  ')')\n",
      "C:\\ProgramData\\Anaconda3\\lib\\site-packages\\cma\\utilities\\utils.py:347: UserWarning: function values with index [3]/[] are nan/None and will be set to the median value 0.3199023373274199 (class=CMAEvolutionStrategy method=ask iteration=3)\n",
      "  ')')\n"
     ]
    },
    {
     "name": "stdout",
     "output_type": "stream",
     "text": [
      "(4_w,8)-aCMA-ES (mu_w=2.6,w_1=52%) in dimension 4 (seed=1036244, Mon Oct  5 19:23:41 2020)\n",
      "(4_w,8)-aCMA-ES (mu_w=2.6,w_1=52%) in dimension 4 (seed=1106407, Mon Oct  5 19:23:55 2020)\n"
     ]
    },
    {
     "name": "stderr",
     "output_type": "stream",
     "text": [
      "C:\\ProgramData\\Anaconda3\\lib\\site-packages\\cma\\utilities\\utils.py:347: UserWarning: function values with index [5]/[] are nan/None and will be set to the median value 0.40769395716008505 (class=CMAEvolutionStrategy method=ask )\n",
      "  ')')\n",
      "C:\\ProgramData\\Anaconda3\\lib\\site-packages\\cma\\utilities\\utils.py:347: UserWarning: function values with index [5]/[] are nan/None and will be set to the median value 0.307985628378174 (class=CMAEvolutionStrategy method=ask iteration=1)\n",
      "  ')')\n",
      "C:\\ProgramData\\Anaconda3\\lib\\site-packages\\cma\\utilities\\utils.py:347: UserWarning: function values with index [7]/[] are nan/None and will be set to the median value 0.162981535306856 (class=CMAEvolutionStrategy method=ask iteration=3)\n",
      "  ')')\n"
     ]
    },
    {
     "name": "stdout",
     "output_type": "stream",
     "text": [
      "(4_w,8)-aCMA-ES (mu_w=2.6,w_1=52%) in dimension 4 (seed=1040830, Mon Oct  5 19:24:13 2020)\n",
      "(4_w,8)-aCMA-ES (mu_w=2.6,w_1=52%) in dimension 4 (seed=1031483, Mon Oct  5 19:24:25 2020)\n",
      "(4_w,8)-aCMA-ES (mu_w=2.6,w_1=52%) in dimension 4 (seed=1008635, Mon Oct  5 19:24:37 2020)\n",
      "(4_w,8)-aCMA-ES (mu_w=2.6,w_1=52%) in dimension 4 (seed=974668, Mon Oct  5 19:24:50 2020)\n",
      "(4_w,8)-aCMA-ES (mu_w=2.6,w_1=52%) in dimension 4 (seed=1040747, Mon Oct  5 19:25:08 2020)\n"
     ]
    },
    {
     "name": "stderr",
     "output_type": "stream",
     "text": [
      "C:\\ProgramData\\Anaconda3\\lib\\site-packages\\cma\\utilities\\utils.py:347: UserWarning: function values with index [5]/[] are nan/None and will be set to the median value 0.1734964602142461 (class=CMAEvolutionStrategy method=ask iteration=2)\n",
      "  ')')\n"
     ]
    },
    {
     "name": "stdout",
     "output_type": "stream",
     "text": [
      "(4_w,8)-aCMA-ES (mu_w=2.6,w_1=52%) in dimension 4 (seed=1114797, Mon Oct  5 19:25:21 2020)\n"
     ]
    },
    {
     "name": "stderr",
     "output_type": "stream",
     "text": [
      "C:\\ProgramData\\Anaconda3\\lib\\site-packages\\cma\\utilities\\utils.py:347: UserWarning: function values with index [2]/[] are nan/None and will be set to the median value 0.2725136876394876 (class=CMAEvolutionStrategy method=ask iteration=2)\n",
      "  ')')\n"
     ]
    },
    {
     "name": "stdout",
     "output_type": "stream",
     "text": [
      "(4_w,8)-aCMA-ES (mu_w=2.6,w_1=52%) in dimension 4 (seed=1062223, Mon Oct  5 19:25:37 2020)\n",
      "(4_w,8)-aCMA-ES (mu_w=2.6,w_1=52%) in dimension 4 (seed=1019723, Mon Oct  5 19:25:49 2020)\n"
     ]
    },
    {
     "name": "stderr",
     "output_type": "stream",
     "text": [
      "C:\\ProgramData\\Anaconda3\\lib\\site-packages\\cma\\utilities\\utils.py:347: UserWarning: function values with index [0]/[] are nan/None and will be set to the median value 0.3713775873510876 (class=CMAEvolutionStrategy method=ask )\n",
      "  ')')\n",
      "C:\\ProgramData\\Anaconda3\\lib\\site-packages\\cma\\utilities\\utils.py:347: UserWarning: function values with index [3]/[] are nan/None and will be set to the median value 0.2553412813543267 (class=CMAEvolutionStrategy method=ask iteration=1)\n",
      "  ')')\n"
     ]
    },
    {
     "name": "stdout",
     "output_type": "stream",
     "text": [
      "(4_w,8)-aCMA-ES (mu_w=2.6,w_1=52%) in dimension 4 (seed=1091465, Mon Oct  5 19:26:04 2020)\n"
     ]
    },
    {
     "name": "stderr",
     "output_type": "stream",
     "text": [
      "C:\\ProgramData\\Anaconda3\\lib\\site-packages\\cma\\utilities\\utils.py:347: UserWarning: function values with index [1]/[] are nan/None and will be set to the median value 0.3191017159585493 (class=CMAEvolutionStrategy method=ask iteration=1)\n",
      "  ')')\n",
      "C:\\ProgramData\\Anaconda3\\lib\\site-packages\\cma\\utilities\\utils.py:347: UserWarning: function values with index [6]/[] are nan/None and will be set to the median value 0.4112921733279037 (class=CMAEvolutionStrategy method=ask iteration=2)\n",
      "  ')')\n",
      "C:\\ProgramData\\Anaconda3\\lib\\site-packages\\cma\\utilities\\utils.py:347: UserWarning: function values with index [4]/[] are nan/None and will be set to the median value 0.3197345584961595 (class=CMAEvolutionStrategy method=ask iteration=3)\n",
      "  ')')\n"
     ]
    }
   ],
   "source": [
    "rng = np.linspace(0, 20e-3, 100)\n",
    "traj_anim, tols = get_perturbation_one(cavfct, cavpars={parname: Ldeg}, Nrt=1, which=[0,1], ax=1, rng=rng, lr=5e-5, Niter=5, relative=False, get_tols=True)"
   ]
  },
  {
   "cell_type": "code",
   "execution_count": 153,
   "metadata": {
    "collapsed": true,
    "jupyter": {
     "outputs_hidden": true
    }
   },
   "outputs": [
    {
     "name": "stdout",
     "output_type": "stream",
     "text": [
      "(4_w,8)-aCMA-ES (mu_w=2.6,w_1=52%) in dimension 4 (seed=1106912, Mon Oct  5 20:45:58 2020)\n"
     ]
    },
    {
     "name": "stderr",
     "output_type": "stream",
     "text": [
      "C:\\ProgramData\\Anaconda3\\lib\\site-packages\\cma\\utilities\\utils.py:347: UserWarning: \n",
      "        geno-pheno transformation introduced based on the\n",
      "        current covariance matrix with condition 1.3e+12 -> 1.0e+00,\n",
      "        injected solutions become \"invalid\" in this iteration (class=CMAEvolutionStrategy method=alleviate_conditioning iteration=197)\n",
      "  ')')\n"
     ]
    },
    {
     "name": "stdout",
     "output_type": "stream",
     "text": [
      "(4_w,8)-aCMA-ES (mu_w=2.6,w_1=52%) in dimension 4 (seed=1001967, Mon Oct  5 20:46:05 2020)\n"
     ]
    },
    {
     "name": "stderr",
     "output_type": "stream",
     "text": [
      "C:\\ProgramData\\Anaconda3\\lib\\site-packages\\cma\\utilities\\utils.py:347: UserWarning: function values with index [4]/[] are nan/None and will be set to the median value 0.5055692207451318 (class=CMAEvolutionStrategy method=ask )\n",
      "  ')')\n",
      "C:\\ProgramData\\Anaconda3\\lib\\site-packages\\cma\\utilities\\utils.py:347: UserWarning: function values with index [0]/[] are nan/None and will be set to the median value 0.2353605394718592 (class=CMAEvolutionStrategy method=ask iteration=2)\n",
      "  ')')\n"
     ]
    },
    {
     "name": "stdout",
     "output_type": "stream",
     "text": [
      "(4_w,8)-aCMA-ES (mu_w=2.6,w_1=52%) in dimension 4 (seed=1092528, Mon Oct  5 20:46:10 2020)\n"
     ]
    },
    {
     "name": "stderr",
     "output_type": "stream",
     "text": [
      "C:\\ProgramData\\Anaconda3\\lib\\site-packages\\cma\\utilities\\utils.py:347: UserWarning: function values with index [0, 6]/[] are nan/None and will be set to the median value 0.1980577169654375 (class=CMAEvolutionStrategy method=ask )\n",
      "  ')')\n"
     ]
    },
    {
     "name": "stdout",
     "output_type": "stream",
     "text": [
      "(4_w,8)-aCMA-ES (mu_w=2.6,w_1=52%) in dimension 4 (seed=1026113, Mon Oct  5 20:46:14 2020)\n"
     ]
    },
    {
     "name": "stderr",
     "output_type": "stream",
     "text": [
      "C:\\ProgramData\\Anaconda3\\lib\\site-packages\\cma\\utilities\\utils.py:347: UserWarning: function values with index [2]/[] are nan/None and will be set to the median value 0.2914127287014267 (class=CMAEvolutionStrategy method=ask )\n",
      "  ')')\n"
     ]
    },
    {
     "name": "stdout",
     "output_type": "stream",
     "text": [
      "(4_w,8)-aCMA-ES (mu_w=2.6,w_1=52%) in dimension 4 (seed=1122139, Mon Oct  5 20:46:18 2020)\n",
      "(4_w,8)-aCMA-ES (mu_w=2.6,w_1=52%) in dimension 4 (seed=1024291, Mon Oct  5 20:46:25 2020)\n"
     ]
    },
    {
     "name": "stderr",
     "output_type": "stream",
     "text": [
      "C:\\ProgramData\\Anaconda3\\lib\\site-packages\\cma\\utilities\\utils.py:347: UserWarning: function values with index [7]/[] are nan/None and will be set to the median value 0.24339854621270562 (class=CMAEvolutionStrategy method=ask iteration=3)\n",
      "  ')')\n"
     ]
    },
    {
     "name": "stdout",
     "output_type": "stream",
     "text": [
      "(4_w,8)-aCMA-ES (mu_w=2.6,w_1=52%) in dimension 4 (seed=1112174, Mon Oct  5 20:46:29 2020)\n"
     ]
    },
    {
     "name": "stderr",
     "output_type": "stream",
     "text": [
      "C:\\ProgramData\\Anaconda3\\lib\\site-packages\\cma\\utilities\\utils.py:347: UserWarning: function values with index [5]/[] are nan/None and will be set to the median value 0.207721368964234 (class=CMAEvolutionStrategy method=ask iteration=1)\n",
      "  ')')\n",
      "C:\\ProgramData\\Anaconda3\\lib\\site-packages\\cma\\utilities\\utils.py:347: UserWarning: function values with index [4]/[] are nan/None and will be set to the median value 0.29584514010562796 (class=CMAEvolutionStrategy method=ask iteration=2)\n",
      "  ')')\n",
      "C:\\ProgramData\\Anaconda3\\lib\\site-packages\\cma\\utilities\\utils.py:347: UserWarning: function values with index [2]/[] are nan/None and will be set to the median value 0.30104518610325876 (class=CMAEvolutionStrategy method=ask iteration=3)\n",
      "  ')')\n"
     ]
    },
    {
     "name": "stdout",
     "output_type": "stream",
     "text": [
      "(4_w,8)-aCMA-ES (mu_w=2.6,w_1=52%) in dimension 4 (seed=1056205, Mon Oct  5 20:46:34 2020)\n"
     ]
    },
    {
     "name": "stderr",
     "output_type": "stream",
     "text": [
      "C:\\ProgramData\\Anaconda3\\lib\\site-packages\\cma\\utilities\\utils.py:347: UserWarning: function values with index [2]/[] are nan/None and will be set to the median value 0.4065264016587329 (class=CMAEvolutionStrategy method=ask )\n",
      "  ')')\n",
      "C:\\ProgramData\\Anaconda3\\lib\\site-packages\\cma\\utilities\\utils.py:347: UserWarning: function values with index [0, 7]/[] are nan/None and will be set to the median value 0.2878036358256405 (class=CMAEvolutionStrategy method=ask iteration=3)\n",
      "  ')')\n"
     ]
    },
    {
     "name": "stdout",
     "output_type": "stream",
     "text": [
      "(4_w,8)-aCMA-ES (mu_w=2.6,w_1=52%) in dimension 4 (seed=996492, Mon Oct  5 20:46:38 2020)\n",
      "(4_w,8)-aCMA-ES (mu_w=2.6,w_1=52%) in dimension 4 (seed=1130838, Mon Oct  5 20:46:42 2020)\n",
      "(4_w,8)-aCMA-ES (mu_w=2.6,w_1=52%) in dimension 4 (seed=1035033, Mon Oct  5 20:46:47 2020)\n",
      "(4_w,8)-aCMA-ES (mu_w=2.6,w_1=52%) in dimension 4 (seed=1018077, Mon Oct  5 20:46:51 2020)\n"
     ]
    },
    {
     "name": "stderr",
     "output_type": "stream",
     "text": [
      "C:\\ProgramData\\Anaconda3\\lib\\site-packages\\cma\\utilities\\utils.py:347: UserWarning: function values with index [5]/[] are nan/None and will be set to the median value 0.27129098698730675 (class=CMAEvolutionStrategy method=ask iteration=2)\n",
      "  ')')\n",
      "C:\\ProgramData\\Anaconda3\\lib\\site-packages\\cma\\utilities\\utils.py:347: UserWarning: function values with index [3]/[] are nan/None and will be set to the median value 0.23292839324579948 (class=CMAEvolutionStrategy method=ask iteration=3)\n",
      "  ')')\n",
      "C:\\ProgramData\\Anaconda3\\lib\\site-packages\\cma\\utilities\\utils.py:347: UserWarning: function values with index [6]/[] are nan/None and will be set to the median value 0.2856518882575016 (class=CMAEvolutionStrategy method=ask iteration=4)\n",
      "  ')')\n"
     ]
    },
    {
     "name": "stdout",
     "output_type": "stream",
     "text": [
      "(4_w,8)-aCMA-ES (mu_w=2.6,w_1=52%) in dimension 4 (seed=1050331, Mon Oct  5 20:46:55 2020)\n"
     ]
    },
    {
     "name": "stderr",
     "output_type": "stream",
     "text": [
      "C:\\ProgramData\\Anaconda3\\lib\\site-packages\\cma\\utilities\\utils.py:347: UserWarning: function values with index [4]/[] are nan/None and will be set to the median value 0.27121397452139134 (class=CMAEvolutionStrategy method=ask )\n",
      "  ')')\n"
     ]
    },
    {
     "name": "stdout",
     "output_type": "stream",
     "text": [
      "(4_w,8)-aCMA-ES (mu_w=2.6,w_1=52%) in dimension 4 (seed=986059, Mon Oct  5 20:47:00 2020)\n",
      "(4_w,8)-aCMA-ES (mu_w=2.6,w_1=52%) in dimension 4 (seed=1035349, Mon Oct  5 20:47:05 2020)\n"
     ]
    },
    {
     "name": "stderr",
     "output_type": "stream",
     "text": [
      "C:\\ProgramData\\Anaconda3\\lib\\site-packages\\cma\\utilities\\utils.py:347: UserWarning: function values with index [0, 4, 6]/[] are nan/None and will be set to the median value 0.26020058012497155 (class=CMAEvolutionStrategy method=ask )\n",
      "  ')')\n"
     ]
    },
    {
     "name": "stdout",
     "output_type": "stream",
     "text": [
      "(4_w,8)-aCMA-ES (mu_w=2.6,w_1=52%) in dimension 4 (seed=1103921, Mon Oct  5 20:47:10 2020)\n"
     ]
    },
    {
     "name": "stderr",
     "output_type": "stream",
     "text": [
      "C:\\ProgramData\\Anaconda3\\lib\\site-packages\\cma\\utilities\\utils.py:347: UserWarning: function values with index [5, 7]/[] are nan/None and will be set to the median value 0.20945105972300815 (class=CMAEvolutionStrategy method=ask iteration=2)\n",
      "  ')')\n"
     ]
    },
    {
     "name": "stdout",
     "output_type": "stream",
     "text": [
      "(4_w,8)-aCMA-ES (mu_w=2.6,w_1=52%) in dimension 4 (seed=1001189, Mon Oct  5 20:47:16 2020)\n",
      "(4_w,8)-aCMA-ES (mu_w=2.6,w_1=52%) in dimension 4 (seed=1065312, Mon Oct  5 20:47:21 2020)\n",
      "(4_w,8)-aCMA-ES (mu_w=2.6,w_1=52%) in dimension 4 (seed=1045071, Mon Oct  5 20:47:26 2020)\n",
      "(4_w,8)-aCMA-ES (mu_w=2.6,w_1=52%) in dimension 4 (seed=1024030, Mon Oct  5 20:47:31 2020)\n"
     ]
    },
    {
     "name": "stderr",
     "output_type": "stream",
     "text": [
      "C:\\ProgramData\\Anaconda3\\lib\\site-packages\\cma\\utilities\\utils.py:347: UserWarning: function values with index [3]/[] are nan/None and will be set to the median value 0.2485988615956014 (class=CMAEvolutionStrategy method=ask iteration=2)\n",
      "  ')')\n"
     ]
    },
    {
     "name": "stdout",
     "output_type": "stream",
     "text": [
      "(4_w,8)-aCMA-ES (mu_w=2.6,w_1=52%) in dimension 4 (seed=1010023, Mon Oct  5 20:47:36 2020)\n"
     ]
    },
    {
     "name": "stderr",
     "output_type": "stream",
     "text": [
      "C:\\ProgramData\\Anaconda3\\lib\\site-packages\\cma\\utilities\\utils.py:347: UserWarning: function values with index [3]/[] are nan/None and will be set to the median value 0.23589617132305746 (class=CMAEvolutionStrategy method=ask iteration=2)\n",
      "  ')')\n"
     ]
    },
    {
     "name": "stdout",
     "output_type": "stream",
     "text": [
      "(4_w,8)-aCMA-ES (mu_w=2.6,w_1=52%) in dimension 4 (seed=1130956, Mon Oct  5 20:47:39 2020)\n"
     ]
    },
    {
     "name": "stderr",
     "output_type": "stream",
     "text": [
      "C:\\ProgramData\\Anaconda3\\lib\\site-packages\\cma\\utilities\\utils.py:347: UserWarning: function values with index [5]/[] are nan/None and will be set to the median value 0.28659468495823903 (class=CMAEvolutionStrategy method=ask iteration=1)\n",
      "  ')')\n"
     ]
    },
    {
     "name": "stdout",
     "output_type": "stream",
     "text": [
      "(4_w,8)-aCMA-ES (mu_w=2.6,w_1=52%) in dimension 4 (seed=1001609, Mon Oct  5 20:47:44 2020)\n"
     ]
    },
    {
     "name": "stderr",
     "output_type": "stream",
     "text": [
      "C:\\ProgramData\\Anaconda3\\lib\\site-packages\\cma\\utilities\\utils.py:347: UserWarning: function values with index [6]/[] are nan/None and will be set to the median value 0.3597327787943059 (class=CMAEvolutionStrategy method=ask iteration=2)\n",
      "  ')')\n"
     ]
    },
    {
     "name": "stdout",
     "output_type": "stream",
     "text": [
      "(4_w,8)-aCMA-ES (mu_w=2.6,w_1=52%) in dimension 4 (seed=1028444, Mon Oct  5 20:47:49 2020)\n",
      "(4_w,8)-aCMA-ES (mu_w=2.6,w_1=52%) in dimension 4 (seed=979007, Mon Oct  5 20:47:54 2020)\n",
      "(4_w,8)-aCMA-ES (mu_w=2.6,w_1=52%) in dimension 4 (seed=1044871, Mon Oct  5 20:48:08 2020)\n"
     ]
    },
    {
     "name": "stderr",
     "output_type": "stream",
     "text": [
      "C:\\ProgramData\\Anaconda3\\lib\\site-packages\\cma\\utilities\\utils.py:347: UserWarning: function values with index [4, 6]/[] are nan/None and will be set to the median value 0.19618017788030973 (class=CMAEvolutionStrategy method=ask iteration=3)\n",
      "  ')')\n"
     ]
    },
    {
     "name": "stdout",
     "output_type": "stream",
     "text": [
      "(4_w,8)-aCMA-ES (mu_w=2.6,w_1=52%) in dimension 4 (seed=1105982, Mon Oct  5 20:48:25 2020)\n",
      "(4_w,8)-aCMA-ES (mu_w=2.6,w_1=52%) in dimension 4 (seed=1022500, Mon Oct  5 20:48:39 2020)\n",
      "(4_w,8)-aCMA-ES (mu_w=2.6,w_1=52%) in dimension 4 (seed=1089760, Mon Oct  5 20:48:54 2020)\n"
     ]
    },
    {
     "name": "stderr",
     "output_type": "stream",
     "text": [
      "C:\\ProgramData\\Anaconda3\\lib\\site-packages\\cma\\utilities\\utils.py:347: UserWarning: function values with index [6]/[] are nan/None and will be set to the median value 0.18821903222384775 (class=CMAEvolutionStrategy method=ask )\n",
      "  ')')\n"
     ]
    },
    {
     "name": "stdout",
     "output_type": "stream",
     "text": [
      "(4_w,8)-aCMA-ES (mu_w=2.6,w_1=52%) in dimension 4 (seed=1048353, Mon Oct  5 20:49:05 2020)\n",
      "(4_w,8)-aCMA-ES (mu_w=2.6,w_1=52%) in dimension 4 (seed=1084888, Mon Oct  5 20:49:17 2020)\n"
     ]
    },
    {
     "name": "stderr",
     "output_type": "stream",
     "text": [
      "C:\\ProgramData\\Anaconda3\\lib\\site-packages\\cma\\utilities\\utils.py:347: UserWarning: function values with index [4]/[] are nan/None and will be set to the median value 0.20153098795145266 (class=CMAEvolutionStrategy method=ask iteration=1)\n",
      "  ')')\n"
     ]
    },
    {
     "name": "stdout",
     "output_type": "stream",
     "text": [
      "(4_w,8)-aCMA-ES (mu_w=2.6,w_1=52%) in dimension 4 (seed=1037915, Mon Oct  5 20:49:31 2020)\n"
     ]
    },
    {
     "name": "stderr",
     "output_type": "stream",
     "text": [
      "C:\\ProgramData\\Anaconda3\\lib\\site-packages\\cma\\utilities\\utils.py:347: UserWarning: function values with index [2, 7]/[] are nan/None and will be set to the median value 0.21725973926013917 (class=CMAEvolutionStrategy method=ask iteration=1)\n",
      "  ')')\n"
     ]
    },
    {
     "name": "stdout",
     "output_type": "stream",
     "text": [
      "(4_w,8)-aCMA-ES (mu_w=2.6,w_1=52%) in dimension 4 (seed=1061293, Mon Oct  5 20:49:53 2020)\n"
     ]
    },
    {
     "name": "stderr",
     "output_type": "stream",
     "text": [
      "C:\\ProgramData\\Anaconda3\\lib\\site-packages\\cma\\utilities\\utils.py:347: UserWarning: function values with index [5]/[] are nan/None and will be set to the median value 0.19421761630453654 (class=CMAEvolutionStrategy method=ask iteration=1)\n",
      "  ')')\n"
     ]
    },
    {
     "name": "stdout",
     "output_type": "stream",
     "text": [
      "(4_w,8)-aCMA-ES (mu_w=2.6,w_1=52%) in dimension 4 (seed=1008722, Mon Oct  5 20:50:08 2020)\n"
     ]
    },
    {
     "name": "stderr",
     "output_type": "stream",
     "text": [
      "C:\\ProgramData\\Anaconda3\\lib\\site-packages\\cma\\utilities\\utils.py:347: UserWarning: function values with index [7]/[] are nan/None and will be set to the median value 0.23724065141530357 (class=CMAEvolutionStrategy method=ask iteration=3)\n",
      "  ')')\n"
     ]
    },
    {
     "name": "stdout",
     "output_type": "stream",
     "text": [
      "(4_w,8)-aCMA-ES (mu_w=2.6,w_1=52%) in dimension 4 (seed=965724, Mon Oct  5 20:50:22 2020)\n",
      "(4_w,8)-aCMA-ES (mu_w=2.6,w_1=52%) in dimension 4 (seed=1060248, Mon Oct  5 20:50:36 2020)\n"
     ]
    },
    {
     "name": "stderr",
     "output_type": "stream",
     "text": [
      "C:\\ProgramData\\Anaconda3\\lib\\site-packages\\cma\\utilities\\utils.py:347: UserWarning: function values with index [6]/[] are nan/None and will be set to the median value 0.5045147811651581 (class=CMAEvolutionStrategy method=ask )\n",
      "  ')')\n",
      "C:\\ProgramData\\Anaconda3\\lib\\site-packages\\cma\\utilities\\utils.py:347: UserWarning: function values with index [4]/[] are nan/None and will be set to the median value 0.249060060076093 (class=CMAEvolutionStrategy method=ask iteration=1)\n",
      "  ')')\n"
     ]
    },
    {
     "name": "stdout",
     "output_type": "stream",
     "text": [
      "(4_w,8)-aCMA-ES (mu_w=2.6,w_1=52%) in dimension 4 (seed=1126990, Mon Oct  5 20:50:47 2020)\n"
     ]
    },
    {
     "name": "stderr",
     "output_type": "stream",
     "text": [
      "C:\\ProgramData\\Anaconda3\\lib\\site-packages\\cma\\utilities\\utils.py:347: UserWarning: function values with index [5]/[] are nan/None and will be set to the median value 0.2449190067240028 (class=CMAEvolutionStrategy method=ask iteration=1)\n",
      "  ')')\n"
     ]
    },
    {
     "name": "stdout",
     "output_type": "stream",
     "text": [
      "(4_w,8)-aCMA-ES (mu_w=2.6,w_1=52%) in dimension 4 (seed=990831, Mon Oct  5 20:50:59 2020)\n",
      "(4_w,8)-aCMA-ES (mu_w=2.6,w_1=52%) in dimension 4 (seed=1089393, Mon Oct  5 20:51:11 2020)\n",
      "(4_w,8)-aCMA-ES (mu_w=2.6,w_1=52%) in dimension 4 (seed=1027954, Mon Oct  5 20:51:24 2020)\n",
      "(4_w,8)-aCMA-ES (mu_w=2.6,w_1=52%) in dimension 4 (seed=1056247, Mon Oct  5 20:51:49 2020)\n"
     ]
    },
    {
     "name": "stderr",
     "output_type": "stream",
     "text": [
      "C:\\ProgramData\\Anaconda3\\lib\\site-packages\\cma\\utilities\\utils.py:347: UserWarning: function values with index [0]/[] are nan/None and will be set to the median value 0.1965934649907977 (class=CMAEvolutionStrategy method=ask )\n",
      "  ')')\n"
     ]
    },
    {
     "name": "stdout",
     "output_type": "stream",
     "text": [
      "(4_w,8)-aCMA-ES (mu_w=2.6,w_1=52%) in dimension 4 (seed=1100191, Mon Oct  5 20:52:03 2020)\n",
      "(4_w,8)-aCMA-ES (mu_w=2.6,w_1=52%) in dimension 4 (seed=977416, Mon Oct  5 20:52:16 2020)\n"
     ]
    },
    {
     "name": "stderr",
     "output_type": "stream",
     "text": [
      "C:\\ProgramData\\Anaconda3\\lib\\site-packages\\cma\\utilities\\utils.py:347: UserWarning: function values with index [4]/[] are nan/None and will be set to the median value 0.30679577711113787 (class=CMAEvolutionStrategy method=ask )\n",
      "  ')')\n",
      "C:\\ProgramData\\Anaconda3\\lib\\site-packages\\cma\\utilities\\utils.py:347: UserWarning: function values with index [3, 6]/[] are nan/None and will be set to the median value 0.42073841501935116 (class=CMAEvolutionStrategy method=ask iteration=2)\n",
      "  ')')\n",
      "C:\\ProgramData\\Anaconda3\\lib\\site-packages\\cma\\utilities\\utils.py:347: UserWarning: function values with index [7]/[] are nan/None and will be set to the median value 0.2644509407046108 (class=CMAEvolutionStrategy method=ask iteration=3)\n",
      "  ')')\n"
     ]
    },
    {
     "name": "stdout",
     "output_type": "stream",
     "text": [
      "(4_w,8)-aCMA-ES (mu_w=2.6,w_1=52%) in dimension 4 (seed=1003063, Mon Oct  5 20:52:30 2020)\n"
     ]
    },
    {
     "name": "stderr",
     "output_type": "stream",
     "text": [
      "C:\\ProgramData\\Anaconda3\\lib\\site-packages\\cma\\utilities\\utils.py:347: UserWarning: function values with index [5, 6]/[] are nan/None and will be set to the median value 0.3209480095453505 (class=CMAEvolutionStrategy method=ask iteration=1)\n",
      "  ')')\n",
      "C:\\ProgramData\\Anaconda3\\lib\\site-packages\\cma\\utilities\\utils.py:347: UserWarning: function values with index [1]/[] are nan/None and will be set to the median value 0.29983089935570595 (class=CMAEvolutionStrategy method=ask iteration=2)\n",
      "  ')')\n"
     ]
    },
    {
     "name": "stdout",
     "output_type": "stream",
     "text": [
      "(4_w,8)-aCMA-ES (mu_w=2.6,w_1=52%) in dimension 4 (seed=1065574, Mon Oct  5 20:52:41 2020)\n",
      "(4_w,8)-aCMA-ES (mu_w=2.6,w_1=52%) in dimension 4 (seed=953749, Mon Oct  5 20:52:53 2020)\n"
     ]
    },
    {
     "name": "stderr",
     "output_type": "stream",
     "text": [
      "C:\\ProgramData\\Anaconda3\\lib\\site-packages\\cma\\utilities\\utils.py:347: UserWarning: function values with index [0]/[] are nan/None and will be set to the median value 0.14917596569457608 (class=CMAEvolutionStrategy method=ask )\n",
      "  ')')\n"
     ]
    },
    {
     "name": "stdout",
     "output_type": "stream",
     "text": [
      "(4_w,8)-aCMA-ES (mu_w=2.6,w_1=52%) in dimension 4 (seed=1012989, Mon Oct  5 20:53:03 2020)\n"
     ]
    },
    {
     "name": "stderr",
     "output_type": "stream",
     "text": [
      "C:\\ProgramData\\Anaconda3\\lib\\site-packages\\cma\\utilities\\utils.py:347: UserWarning: function values with index [2]/[] are nan/None and will be set to the median value 0.15757868248708873 (class=CMAEvolutionStrategy method=ask iteration=9)\n",
      "  ')')\n"
     ]
    },
    {
     "name": "stdout",
     "output_type": "stream",
     "text": [
      "(4_w,8)-aCMA-ES (mu_w=2.6,w_1=52%) in dimension 4 (seed=1050241, Mon Oct  5 20:53:14 2020)\n"
     ]
    },
    {
     "name": "stderr",
     "output_type": "stream",
     "text": [
      "C:\\ProgramData\\Anaconda3\\lib\\site-packages\\cma\\utilities\\utils.py:347: UserWarning: function values with index [5]/[] are nan/None and will be set to the median value 0.15282350598097166 (class=CMAEvolutionStrategy method=ask iteration=4)\n",
      "  ')')\n"
     ]
    },
    {
     "name": "stdout",
     "output_type": "stream",
     "text": [
      "(4_w,8)-aCMA-ES (mu_w=2.6,w_1=52%) in dimension 4 (seed=1047692, Mon Oct  5 20:53:28 2020)\n"
     ]
    },
    {
     "name": "stderr",
     "output_type": "stream",
     "text": [
      "C:\\ProgramData\\Anaconda3\\lib\\site-packages\\cma\\utilities\\utils.py:347: UserWarning: function values with index [1, 2]/[] are nan/None and will be set to the median value 0.3583002622252594 (class=CMAEvolutionStrategy method=ask iteration=3)\n",
      "  ')')\n"
     ]
    },
    {
     "name": "stdout",
     "output_type": "stream",
     "text": [
      "(4_w,8)-aCMA-ES (mu_w=2.6,w_1=52%) in dimension 4 (seed=1079822, Mon Oct  5 20:53:48 2020)\n"
     ]
    },
    {
     "name": "stderr",
     "output_type": "stream",
     "text": [
      "C:\\ProgramData\\Anaconda3\\lib\\site-packages\\cma\\utilities\\utils.py:347: UserWarning: function values with index [7]/[] are nan/None and will be set to the median value 0.38118545193828507 (class=CMAEvolutionStrategy method=ask )\n",
      "  ')')\n"
     ]
    }
   ],
   "source": [
    "rng = np.linspace(0, 40e-3, 50)\n",
    "rays_anim, tols = get_perturbation_ray(cavfct, cavpars={parname: Ldeg}, Nrt=1, which=[0,1], ax=1, rng=rng, get_tols=True)"
   ]
  },
  {
   "cell_type": "code",
   "execution_count": 149,
   "metadata": {},
   "outputs": [],
   "source": [
    "from joblib import dump"
   ]
  },
  {
   "cell_type": "code",
   "execution_count": 150,
   "metadata": {},
   "outputs": [
    {
     "data": {
      "text/plain": [
       "['trajectories_y_20um.p']"
      ]
     },
     "execution_count": 150,
     "metadata": {},
     "output_type": "execute_result"
    }
   ],
   "source": [
    "savedict = {'range': rng, 'trajectories': traj_anim}\n",
    "dump(savedict, 'trajectories_y_20um.p')"
   ]
  },
  {
   "cell_type": "code",
   "execution_count": 155,
   "metadata": {},
   "outputs": [],
   "source": [
    "traj_anim = rays_anim[:,:,0,:]"
   ]
  },
  {
   "cell_type": "code",
   "execution_count": 156,
   "metadata": {},
   "outputs": [],
   "source": [
    "traj_anim_ts = traj_to_timeseries(traj_anim[:,:,None,:], step=1)"
   ]
  },
  {
   "cell_type": "code",
   "execution_count": 157,
   "metadata": {},
   "outputs": [],
   "source": [
    "elements = cavfct(**{parname: Ldeg})"
   ]
  },
  {
   "cell_type": "code",
   "execution_count": 158,
   "metadata": {},
   "outputs": [
    {
     "name": "stderr",
     "output_type": "stream",
     "text": [
      "C:\\ProgramData\\Anaconda3\\lib\\site-packages\\traittypes\\traittypes.py:101: UserWarning: Given trait value dtype \"float64\" does not match required type \"float32\". A coerced copy has been created.\n",
      "  np.dtype(self.dtype).name))\n"
     ]
    },
    {
     "data": {
      "application/vnd.jupyter.widget-view+json": {
       "model_id": "3852f224a63345039ce7aadda3b18221",
       "version_major": 2,
       "version_minor": 0
      },
      "text/plain": [
       "Output()"
      ]
     },
     "metadata": {},
     "output_type": "display_data"
    }
   ],
   "source": [
    "plot = k3d.plot(camera_auto_fit=True, antialias=True, camera_fov=20.)\n",
    "\n",
    "for i, el in enumerate(elements):\n",
    "    plot += el.plot(opacity=0.4)\n",
    "\n",
    "#plot_trajs(traj, plot)\n",
    "for ts in traj_anim_ts:\n",
    "    plot += k3d.line(ts, shader='mesh', width=0.05, color=0x00ff00)\n",
    "\n",
    "plot.display()"
   ]
  },
  {
   "cell_type": "markdown",
   "metadata": {},
   "source": [
    "## Metrics\n",
    "- Lens curved surface separation\n",
    "- Lens curved surface AOI\n",
    "- Lens flat surface AOI\n",
    "- Displacement / tilt of cavity axis at the input mirror i.e., which modes get excited by a fixed input beam?"
   ]
  },
  {
   "cell_type": "code",
   "execution_count": 159,
   "metadata": {},
   "outputs": [
    {
     "data": {
      "text/plain": [
       "array([[ 0.00000000e+00, -1.38818695e-06,  1.88643777e-07],\n",
       "       [ 8.88900526e+00, -2.79494531e-06, -1.01633826e-05],\n",
       "       [ 1.28890053e+01, -3.23040859e-06, -1.33678614e-05],\n",
       "       [ 2.39999956e+01, -1.73188008e-06, -1.28299558e-05],\n",
       "       [ 9.43979638e+00,  1.90000111e+01,  1.16571835e+01],\n",
       "       [-9.43979989e+00,  1.90000117e+01, -1.16571830e+01],\n",
       "       [-2.39999972e+01,  1.75467489e-06,  1.28268606e-05],\n",
       "       [-1.28890053e+01,  4.54031844e-07,  1.37451517e-05],\n",
       "       [-8.88900526e+00,  1.85692880e-08,  1.05406721e-05],\n",
       "       [ 0.00000000e+00, -1.38818672e-06,  1.88643433e-07]])"
      ]
     },
     "execution_count": 159,
     "metadata": {},
     "output_type": "execute_result"
    }
   ],
   "source": [
    "traj_anim[0,:,:]"
   ]
  },
  {
   "cell_type": "code",
   "execution_count": 160,
   "metadata": {},
   "outputs": [
    {
     "data": {
      "application/vnd.jupyter.widget-view+json": {
       "model_id": "e5062e5b119e4139ae8245b91540e162",
       "version_major": 2,
       "version_minor": 0
      },
      "text/plain": [
       "Canvas(toolbar=Toolbar(toolitems=[('Home', 'Reset original view', 'home', 'home'), ('Back', 'Back to previous …"
      ]
     },
     "metadata": {},
     "output_type": "display_data"
    }
   ],
   "source": [
    "lens_separation = np.linalg.norm(traj_anim[:,2,:] - traj_anim[:,-3,:], axis=-1)\n",
    "plt.figure()\n",
    "plt.plot(rng*1e3, lens_separation)\n",
    "plt.xlabel('Lens displacement [um]')\n",
    "plt.ylabel('Curved surface separation [mm]')\n",
    "plt.show()"
   ]
  },
  {
   "cell_type": "code",
   "execution_count": 161,
   "metadata": {},
   "outputs": [
    {
     "data": {
      "application/vnd.jupyter.widget-view+json": {
       "model_id": "ab2f46fb7551437faec085cf9f517835",
       "version_major": 2,
       "version_minor": 0
      },
      "text/plain": [
       "Canvas(toolbar=Toolbar(toolitems=[('Home', 'Reset original view', 'home', 'home'), ('Back', 'Back to previous …"
      ]
     },
     "metadata": {},
     "output_type": "display_data"
    }
   ],
   "source": [
    "input_displace = np.linalg.norm(traj_anim[:,-4,:] - traj0[-4,0,0,:], axis=-1)\n",
    "plt.figure()\n",
    "plt.plot(rng*1e3, input_displace)\n",
    "plt.xlabel('Lens displacement [um]')\n",
    "plt.ylabel('Ray displacement @ Input mirror  [mm]')\n",
    "plt.show()"
   ]
  },
  {
   "cell_type": "code",
   "execution_count": 168,
   "metadata": {},
   "outputs": [],
   "source": [
    "r = rays_anim[0,0,:,:]"
   ]
  },
  {
   "cell_type": "code",
   "execution_count": 178,
   "metadata": {},
   "outputs": [
    {
     "data": {
      "application/vnd.jupyter.widget-view+json": {
       "model_id": "1a5ec6aedc91493cb92d2218b49da75c",
       "version_major": 2,
       "version_minor": 0
      },
      "text/plain": [
       "Canvas(toolbar=Toolbar(toolitems=[('Home', 'Reset original view', 'home', 'home'), ('Back', 'Back to previous …"
      ]
     },
     "metadata": {},
     "output_type": "display_data"
    }
   ],
   "source": [
    "aoi_flat1 = np.arccos(np.dot(rays_anim[:,0,1,:], -elements[0].n))\n",
    "plt.figure()\n",
    "plt.plot(rng*1e3, np.rad2deg(aoi_flat1))\n",
    "plt.xlabel('Lens displacement [um]')\n",
    "plt.ylabel('AOI @ flat surface 1 [deg]')\n",
    "plt.show()"
   ]
  },
  {
   "cell_type": "code",
   "execution_count": 182,
   "metadata": {},
   "outputs": [
    {
     "data": {
      "application/vnd.jupyter.widget-view+json": {
       "model_id": "ad8b3cfcb9334539b81ea703b44313ef",
       "version_major": 2,
       "version_minor": 0
      },
      "text/plain": [
       "Canvas(toolbar=Toolbar(toolitems=[('Home', 'Reset original view', 'home', 'home'), ('Back', 'Back to previous …"
      ]
     },
     "metadata": {},
     "output_type": "display_data"
    }
   ],
   "source": [
    "aoi_flat2 = np.arccos(np.dot(rays_anim[:,-2,1,:], -elements[7].n)) # -3: after curved glass, 7: last flat glass\n",
    "plt.figure()\n",
    "plt.plot(rng*1e3, np.rad2deg(aoi_flat2))\n",
    "plt.xlabel('Lens displacement [um]')\n",
    "plt.ylabel('AOI @ flat surface 2 [deg]')\n",
    "plt.show()"
   ]
  },
  {
   "cell_type": "code",
   "execution_count": 186,
   "metadata": {},
   "outputs": [
    {
     "data": {
      "text/plain": [
       "5"
      ]
     },
     "execution_count": 186,
     "metadata": {},
     "output_type": "execute_result"
    }
   ],
   "source": [
    "elements[1].jopt.otype"
   ]
  },
  {
   "cell_type": "code",
   "execution_count": 191,
   "metadata": {},
   "outputs": [],
   "source": [
    "n = elements[1].jopt.cp - rays_anim[0,2,0,:]\n",
    "n = n/np.linalg.norm(n)"
   ]
  },
  {
   "cell_type": "code",
   "execution_count": 192,
   "metadata": {},
   "outputs": [
    {
     "data": {
      "text/plain": [
       "array([2.83173036e-06, 3.36286867e-03, 4.23675957e-03, 4.84989790e-03,\n",
       "       5.33810500e-03, 5.75044785e-03, 6.11094147e-03, 6.43335215e-03,\n",
       "       6.72639024e-03, 6.99596042e-03, 7.24626948e-03, 7.48043447e-03,\n",
       "       7.70083624e-03, 7.90933857e-03, 8.10743258e-03, 8.29633059e-03,\n",
       "       8.47703403e-03, 8.65038007e-03, 8.81707797e-03, 8.97773235e-03,\n",
       "       9.13286504e-03, 9.28292899e-03, 9.42832172e-03, 9.56939111e-03,\n",
       "       9.70644666e-03, 9.83976467e-03, 9.96958991e-03, 1.00961444e-02,\n",
       "       1.02196278e-02, 1.03402207e-02, 1.04580884e-02, 1.05733797e-02,\n",
       "       1.06862326e-02, 1.07967729e-02, 1.09051161e-02, 1.10113693e-02,\n",
       "       1.11156310e-02, 1.12179929e-02, 1.13185401e-02, 1.14173509e-02,\n",
       "       1.15144999e-02, 1.16100550e-02, 1.17040811e-02, 1.17966388e-02,\n",
       "       1.18877841e-02, 1.19775707e-02, 1.20660482e-02, 1.21532639e-02,\n",
       "       1.22392625e-02, 1.23240861e-02])"
      ]
     },
     "execution_count": 192,
     "metadata": {},
     "output_type": "execute_result"
    }
   ],
   "source": [
    "np.arccos(np.dot(rays_anim[:,2,1,:], -n)) #TODO catch: curved lens poition also moves!!! Find a good way to do that..."
   ]
  },
  {
   "cell_type": "markdown",
   "metadata": {},
   "source": [
    "## Optimization Test"
   ]
  },
  {
   "cell_type": "code",
   "execution_count": 12,
   "metadata": {},
   "outputs": [],
   "source": [
    "from scipy.optimize import minimize, dual_annealing, basinhopping"
   ]
  },
  {
   "cell_type": "code",
   "execution_count": 13,
   "metadata": {},
   "outputs": [],
   "source": [
    "eps=np.zeros((8,5))\n",
    "eps[0:2,1] = 1e-3\n",
    "elements = cavfct(**{parname: Ldeg, 'eps': eps})\n",
    "sys = RaySystem(elements)"
   ]
  },
  {
   "cell_type": "code",
   "execution_count": 14,
   "metadata": {},
   "outputs": [],
   "source": [
    "x = np.array([0., 0., 0., 0.])\n",
    "rcur = sys.screen.eigenvectors_to_rays(x)\n",
    "traj = sys.propagate(rcur, Nrt=1)\n",
    "rnew = traj[-1,...]"
   ]
  },
  {
   "cell_type": "code",
   "execution_count": 62,
   "metadata": {},
   "outputs": [
    {
     "data": {
      "text/plain": [
       "array([[[ 3.38020349e-08, -1.00932977e-04,  1.43981782e-04]],\n",
       "\n",
       "       [[ 9.99999891e-01,  2.67781338e-04, -3.81992439e-04]]])"
      ]
     },
     "execution_count": 62,
     "metadata": {},
     "output_type": "execute_result"
    }
   ],
   "source": [
    "rnew"
   ]
  },
  {
   "cell_type": "code",
   "execution_count": 35,
   "metadata": {},
   "outputs": [
    {
     "data": {
      "text/plain": [
       "0.0010545920467091205"
      ]
     },
     "execution_count": 35,
     "metadata": {},
     "output_type": "execute_result"
    }
   ],
   "source": [
    "np.linalg.norm(rnew[:,0,:]-rcur[:,0,:], axis=-1).sum()"
   ]
  },
  {
   "cell_type": "code",
   "execution_count": 85,
   "metadata": {},
   "outputs": [
    {
     "data": {
      "text/plain": [
       "0.0007566473753843225"
      ]
     },
     "execution_count": 85,
     "metadata": {},
     "output_type": "execute_result"
    }
   ],
   "source": [
    "np.linalg.norm(rcur-rnew)"
   ]
  },
  {
   "cell_type": "code",
   "execution_count": 49,
   "metadata": {},
   "outputs": [],
   "source": [
    "def loss(x, sys, Nrt=1):\n",
    "    rcur = sys.screen.eigenvectors_to_rays(np.asarray(x))\n",
    "    traj = sys.propagate(rcur, Nrt=Nrt)\n",
    "    rnew = traj[-1,...]\n",
    "    return np.linalg.norm(rnew[:,0,:]-rcur[:,0,:], axis=-1).sum()"
   ]
  },
  {
   "cell_type": "code",
   "execution_count": 50,
   "metadata": {},
   "outputs": [
    {
     "data": {
      "text/plain": [
       "0.0027953745195005058"
      ]
     },
     "execution_count": 50,
     "metadata": {},
     "output_type": "execute_result"
    }
   ],
   "source": [
    "loss(x, sys)"
   ]
  },
  {
   "cell_type": "code",
   "execution_count": 59,
   "metadata": {},
   "outputs": [],
   "source": [
    "a = 5e-3\n",
    "N = 100\n",
    "xx = np.linspace(-a, a, 50)\n",
    "x, y = np.meshgrid(xx, xx)\n",
    "losses = np.empty_like(x)"
   ]
  },
  {
   "cell_type": "code",
   "execution_count": 60,
   "metadata": {},
   "outputs": [],
   "source": [
    "for i in range(len(xx)):\n",
    "    for j in range(len(xx)):\n",
    "        losses[i, j] = loss(np.array([5e-4, 0., x[i,j], y[i,j]]), sys)"
   ]
  },
  {
   "cell_type": "code",
   "execution_count": 61,
   "metadata": {},
   "outputs": [
    {
     "data": {
      "application/vnd.jupyter.widget-view+json": {
       "model_id": "884478481d904f5d96a53abe3732abcd",
       "version_major": 2,
       "version_minor": 0
      },
      "text/plain": [
       "Canvas(toolbar=Toolbar(toolitems=[('Home', 'Reset original view', 'home', 'home'), ('Back', 'Back to previous …"
      ]
     },
     "metadata": {},
     "output_type": "display_data"
    }
   ],
   "source": [
    "plt.figure()\n",
    "plt.pcolormesh(x, y, losses)\n",
    "plt.colorbar()\n",
    "plt.show()"
   ]
  },
  {
   "cell_type": "code",
   "execution_count": 44,
   "metadata": {},
   "outputs": [],
   "source": [
    "res = minimize(loss, x0=np.array([0., 0., 0., 0.]), args=(sys,), method='L-BFGS-B', bounds=[(-1, 1), (-1, 1), (-0.5, 0.5), (-0.5, 0.5)]) "
   ]
  },
  {
   "cell_type": "code",
   "execution_count": 53,
   "metadata": {},
   "outputs": [],
   "source": [
    "#res = minimize(loss, x0=(0., 0., 0., 0.), args=(sys,), method='trust-constr', bounds=[(-1, 1), (-1, 1), (-0.5, 0.5), (-0.5, 0.5)]) "
   ]
  },
  {
   "cell_type": "code",
   "execution_count": 63,
   "metadata": {},
   "outputs": [
    {
     "name": "stderr",
     "output_type": "stream",
     "text": [
      "c:\\users\\lukas\\box\\lukas\\03_theory\\abcd\\sloppy\\src\\sloppy\\optic.py:104: RuntimeWarning: invalid value encountered in sqrt\n",
      "  s0 = np.stack([mu[:,0], mu[:,1], np.sqrt(1 - (mu[:,0])**2 - (mu[:,1])**2)], axis=1) #create vector normal to screen\n",
      "c:\\users\\lukas\\box\\lukas\\03_theory\\abcd\\sloppy\\src\\sloppy\\optic.py:104: RuntimeWarning: invalid value encountered in sqrt\n",
      "  s0 = np.stack([mu[:,0], mu[:,1], np.sqrt(1 - (mu[:,0])**2 - (mu[:,1])**2)], axis=1) #create vector normal to screen\n",
      "c:\\users\\lukas\\box\\lukas\\03_theory\\abcd\\sloppy\\src\\sloppy\\optic.py:104: RuntimeWarning: invalid value encountered in sqrt\n",
      "  s0 = np.stack([mu[:,0], mu[:,1], np.sqrt(1 - (mu[:,0])**2 - (mu[:,1])**2)], axis=1) #create vector normal to screen\n"
     ]
    }
   ],
   "source": [
    "res = minimize(loss, x0=np.array([0., 0., -5e-4, 1e-4]), args=(sys,), method='BFGS')"
   ]
  },
  {
   "cell_type": "code",
   "execution_count": 64,
   "metadata": {},
   "outputs": [
    {
     "data": {
      "text/plain": [
       "      fun: nan\n",
       " hess_inv: array([[1, 0, 0, 0],\n",
       "       [0, 1, 0, 0],\n",
       "       [0, 0, 1, 0],\n",
       "       [0, 0, 0, 1]])\n",
       "      jac: array([nan, nan, nan, nan])\n",
       "  message: 'Desired error not necessarily achieved due to precision loss.'\n",
       "     nfev: 672\n",
       "      nit: 1\n",
       "     njev: 112\n",
       "   status: 2\n",
       "  success: False\n",
       "        x: array([-310.362662  , -587.8101473 ,  700.66896752, -369.95790256])"
      ]
     },
     "execution_count": 64,
     "metadata": {},
     "output_type": "execute_result"
    }
   ],
   "source": [
    "res"
   ]
  },
  {
   "cell_type": "code",
   "execution_count": 65,
   "metadata": {},
   "outputs": [],
   "source": [
    "lw = [-0.5] * 4\n",
    "up = [0.5] * 4\n",
    "ret = dual_annealing(loss, bounds=list(zip(lw, up)), args=(sys, ), seed=1234, maxiter=10**4)"
   ]
  },
  {
   "cell_type": "code",
   "execution_count": 66,
   "metadata": {},
   "outputs": [
    {
     "data": {
      "text/plain": [
       "     fun: nan\n",
       " message: ['Maximum number of iteration reached']\n",
       "    nfev: 351894\n",
       "    nhev: 0\n",
       "     nit: 10000\n",
       "    njev: 0\n",
       "  status: 0\n",
       " success: True\n",
       "       x: array([ 0.27997581, -0.22740739, -0.22353574,  0.30187218])"
      ]
     },
     "execution_count": 66,
     "metadata": {},
     "output_type": "execute_result"
    }
   ],
   "source": [
    "ret"
   ]
  },
  {
   "cell_type": "code",
   "execution_count": 75,
   "metadata": {},
   "outputs": [
    {
     "name": "stdout",
     "output_type": "stream",
     "text": [
      "(4_w,8)-aCMA-ES (mu_w=2.6,w_1=52%) in dimension 4 (seed=1010753, Mon Oct  5 18:44:28 2020)\n"
     ]
    }
   ],
   "source": [
    "es = cma.CMAEvolutionStrategy(4 * [0], 0.1)"
   ]
  },
  {
   "cell_type": "code",
   "execution_count": 77,
   "metadata": {},
   "outputs": [
    {
     "name": "stdout",
     "output_type": "stream",
     "text": [
      "Iterat #Fevals   function value  axis ratio  sigma  min&max std  t[m:s]\n",
      "    1      8 1.500504133740355e-01 1.0e+00 8.00e-02  7e-02  8e-02 0:00.0\n",
      "    2     16 1.372318804411779e-01 1.2e+00 7.18e-02  6e-02  7e-02 0:00.0\n",
      "    3     24 7.923790957990179e-02 1.3e+00 6.84e-02  6e-02  7e-02 0:00.0\n",
      "  100    800 3.363774002143986e-06 1.5e+02 2.44e-04  4e-05  7e-05 0:00.2\n",
      "  172   1376 1.853903724680585e-06 3.1e+02 1.51e-07  2e-09  4e-09 0:00.4\n",
      "  172   1376 1.853903724680585e-06 3.1e+02 1.51e-07  2e-09  4e-09 0:00.4\n",
      "termination by {'tolfun': 1e-11}\n",
      "best f-value = 1.8539037212523853e-06\n",
      "solution = [ 0.0316697   0.01513088  0.01276856 -0.02654883]\n"
     ]
    },
    {
     "data": {
      "text/plain": [
       "<cma.evolution_strategy.CMAEvolutionStrategy at 0x166cb4f8788>"
      ]
     },
     "execution_count": 77,
     "metadata": {},
     "output_type": "execute_result"
    }
   ],
   "source": [
    "es.optimize(loss, args=(sys,), verb_disp=100)"
   ]
  },
  {
   "cell_type": "code",
   "execution_count": 84,
   "metadata": {},
   "outputs": [],
   "source": [
    "mueig = es.result.xbest\n",
    "reig2 = sys.screen.eigenvectors_to_rays(mueig)"
   ]
  },
  {
   "cell_type": "code",
   "execution_count": 113,
   "metadata": {},
   "outputs": [
    {
     "ename": "TypeError",
     "evalue": "fmin() got an unexpected keyword argument 'n_jobs'",
     "output_type": "error",
     "traceback": [
      "\u001b[1;31m---------------------------------------------------------------------------\u001b[0m",
      "\u001b[1;31mTypeError\u001b[0m                                 Traceback (most recent call last)",
      "\u001b[1;32m<ipython-input-113-c13f49fb6d01>\u001b[0m in \u001b[0;36m<module>\u001b[1;34m\u001b[0m\n\u001b[1;32m----> 1\u001b[1;33m \u001b[0mxopt\u001b[0m\u001b[1;33m,\u001b[0m \u001b[0mes\u001b[0m \u001b[1;33m=\u001b[0m \u001b[0mcma\u001b[0m\u001b[1;33m.\u001b[0m\u001b[0mfmin2\u001b[0m\u001b[1;33m(\u001b[0m\u001b[0mloss\u001b[0m\u001b[1;33m,\u001b[0m \u001b[1;36m4\u001b[0m \u001b[1;33m*\u001b[0m \u001b[1;33m[\u001b[0m\u001b[1;36m0\u001b[0m\u001b[1;33m]\u001b[0m\u001b[1;33m,\u001b[0m \u001b[1;36m0.1\u001b[0m\u001b[1;33m,\u001b[0m \u001b[0margs\u001b[0m\u001b[1;33m=\u001b[0m\u001b[1;33m(\u001b[0m\u001b[0msys\u001b[0m\u001b[1;33m,\u001b[0m\u001b[1;33m)\u001b[0m\u001b[1;33m,\u001b[0m \u001b[0mn_jobs\u001b[0m\u001b[1;33m=\u001b[0m\u001b[1;36m8\u001b[0m\u001b[1;33m)\u001b[0m\u001b[1;33m\u001b[0m\u001b[1;33m\u001b[0m\u001b[0m\n\u001b[0m",
      "\u001b[1;32mC:\\ProgramData\\Anaconda3\\lib\\site-packages\\cma\\evolution_strategy.py\u001b[0m in \u001b[0;36mfmin2\u001b[1;34m(*args, **kwargs)\u001b[0m\n\u001b[0;32m   3965\u001b[0m \u001b[1;33m\u001b[0m\u001b[0m\n\u001b[0;32m   3966\u001b[0m     \"\"\"\n\u001b[1;32m-> 3967\u001b[1;33m     \u001b[0mres\u001b[0m \u001b[1;33m=\u001b[0m \u001b[0mfmin\u001b[0m\u001b[1;33m(\u001b[0m\u001b[1;33m*\u001b[0m\u001b[0margs\u001b[0m\u001b[1;33m,\u001b[0m \u001b[1;33m**\u001b[0m\u001b[0mkwargs\u001b[0m\u001b[1;33m)\u001b[0m\u001b[1;33m\u001b[0m\u001b[1;33m\u001b[0m\u001b[0m\n\u001b[0m\u001b[0;32m   3968\u001b[0m     \u001b[1;32mreturn\u001b[0m \u001b[0mres\u001b[0m\u001b[1;33m[\u001b[0m\u001b[1;36m0\u001b[0m\u001b[1;33m]\u001b[0m\u001b[1;33m,\u001b[0m \u001b[0mres\u001b[0m\u001b[1;33m[\u001b[0m\u001b[1;33m-\u001b[0m\u001b[1;36m2\u001b[0m\u001b[1;33m]\u001b[0m\u001b[1;33m\u001b[0m\u001b[1;33m\u001b[0m\u001b[0m\n\u001b[0;32m   3969\u001b[0m \u001b[1;33m\u001b[0m\u001b[0m\n",
      "\u001b[1;31mTypeError\u001b[0m: fmin() got an unexpected keyword argument 'n_jobs'"
     ]
    }
   ],
   "source": [
    "xopt, es = cma.fmin2(loss, 4 * [0], 0.1, args=(sys,), n_jobs=8)"
   ]
  },
  {
   "cell_type": "code",
   "execution_count": 87,
   "metadata": {},
   "outputs": [],
   "source": [
    "traj2 = sys.propagate(reig2)"
   ]
  },
  {
   "cell_type": "code",
   "execution_count": 89,
   "metadata": {},
   "outputs": [
    {
     "data": {
      "application/vnd.jupyter.widget-view+json": {
       "model_id": "1ba164fb4dcb482281a46c388a89e032",
       "version_major": 2,
       "version_minor": 0
      },
      "text/plain": [
       "Output()"
      ]
     },
     "metadata": {},
     "output_type": "display_data"
    }
   ],
   "source": [
    "try:\n",
    "    plot.close()\n",
    "except:\n",
    "    pass\n",
    "elements = cavfct(**{parname: Ldeg})\n",
    "plot = k3d.plot(camera_auto_fit=True, antialias=True, camera_fov=20.)\n",
    "\n",
    "for i, el in enumerate(elements):\n",
    "    plot += el.plot(opacity=0.4)\n",
    "    \n",
    "plot_trajs(traj0, plot)\n",
    "plot_trajs(traj1, plot, color=0x00ff00)\n",
    "plot_trajs(traj1, plot, color=0xff0000)\n",
    "\n",
    "plot += k3d.points(traj0[:,0,0,:], color=0xff0000, point_size=0.3)\n",
    "\n",
    "plot.display()"
   ]
  },
  {
   "cell_type": "code",
   "execution_count": 151,
   "metadata": {},
   "outputs": [
    {
     "data": {
      "text/plain": [
       "(10, 2, 1, 3)"
      ]
     },
     "execution_count": 151,
     "metadata": {},
     "output_type": "execute_result"
    }
   ],
   "source": [
    "traj2.shape"
   ]
  },
  {
   "cell_type": "code",
   "execution_count": null,
   "metadata": {},
   "outputs": [],
   "source": []
  },
  {
   "cell_type": "code",
   "execution_count": null,
   "metadata": {},
   "outputs": [],
   "source": []
  },
  {
   "cell_type": "code",
   "execution_count": null,
   "metadata": {},
   "outputs": [],
   "source": []
  },
  {
   "cell_type": "code",
   "execution_count": 46,
   "metadata": {},
   "outputs": [],
   "source": [
    "def rays_interaction_factory_pert(cavfct, cavpars, rmax=6.):\n",
    "    fig, ax = plt.subplots(ncols=3, nrows=2, figsize=(11,6.6), sharex='row', sharey='row')\n",
    "    ms = 8.\n",
    "    lines = [a.scatter([], [], c=[], cmap='jet', s=ms) for a in ax.flatten()]\n",
    "    ax[0,0].set_title('Raytracing')\n",
    "    ax[0,1].set_title('ABCD')\n",
    "    ax[0,2].set_title('ABCD (Extracted)')\n",
    "    plt.xlabel('x [mm]')\n",
    "    plt.ylabel('y [mm]')\n",
    "\n",
    "    def makeidx(hit_m):\n",
    "        return np.arange(hit_m.shape[0])\n",
    "    \n",
    "    magnitude = lambda x: 1. if x==0. else int(np.floor(np.log10(x)))\n",
    "    \n",
    "    def update(ar=0.0, br=0.0, ap=0., bp=0., Nrt=500, **kwargs):\n",
    "        #kwargs.update({parname: Ldeg+dl*1e-1})\n",
    "        elements = cavfct(**kwargs)\n",
    "        sys = RaySystem(elements)\n",
    "        system = sys.abcd\n",
    "        mu1, mu2 = system.q\n",
    "        waist = system.waist_at(0)[0] #fix for now since waist is not at 0 anymore!\n",
    "        rmu1 = np.linalg.norm(np.real(mu1[:2]))\n",
    "        rmu2 = np.linalg.norm(np.real(mu2[:2]))\n",
    "        mu = np.real(ar*waist/rmu1*mu1*np.exp(1j*ap) + br*waist/rmu2*mu2*np.exp(1j*bp))\n",
    "        \n",
    "        ray0 = sys.screen.eigenvectors_to_rays(mu)\n",
    " \n",
    "        traj_hit = sys.propagate(ray0, Nrt=Nrt, at_screen=True)\n",
    "        hit_scr = sys.screen.r_to_screen_coords(traj_hit[:,0,0,:])\n",
    "        hit_scrs = sys.screen.s_to_screen_coords(traj_hit[:,1,0,:])\n",
    "\n",
    "        lines[0].set_offsets(hit_scr[:,:])\n",
    "        lines[0].set_array(makeidx(hit_scr))\n",
    "        lines[3].set_offsets(hit_scrs[:,:])\n",
    "        lines[3].set_array(makeidx(hit_scrs))\n",
    "        \n",
    "        hit_m = propagate_ABCD(mu, system.abcd_rt, Nrt=Nrt)\n",
    "        lines[1].set_offsets(hit_m[:,0:2])\n",
    "        lines[1].set_array(makeidx(hit_m))\n",
    "        lines[4].set_offsets(hit_m[:,2:])\n",
    "        lines[4].set_array(makeidx(hit_m))\n",
    "        \n",
    "        #abcd_fd = sys.extract_ABCD(epsr=1e-3, epss=1e-3, Nrt=1) \n",
    "        #hit_fd = propagate_ABCD(mu, abcd_fd, Nrt=Nrt)\n",
    "        #lines[2].set_offsets(hit_fd[:,0:2])\n",
    "        #lines[2].set_array(makeidx(hit_fd))\n",
    "        #lines[5].set_offsets(hit_fd[:,2:])\n",
    "        #lines[5].set_array(makeidx(hit_fd))\n",
    "        \n",
    "        for l in lines:\n",
    "            l.set_clim(vmin=0, vmax=Nrt)\n",
    "            \n",
    "        ax[0,0].set_xlim(1.5*np.nanmin(hit_scr[:,0]), 1.5*np.nanmax(hit_scr[:,0]))\n",
    "        ax[0,0].set_ylim(1.5*np.nanmin(hit_scr[:,1]), 1.5*np.nanmax(hit_scr[:,1]))\n",
    "        ax[1,0].set_xlim(1.5*np.nanmin(hit_scrs[:,0]), 1.5*np.nanmax(hit_scrs[:,0]))\n",
    "        ax[1,0].set_ylim(1.5*np.nanmin(hit_scrs[:,1]), 1.5*np.nanmax(hit_scrs[:,1]))\n",
    "        fig.canvas.draw_idle()\n",
    "\n",
    "    lo = Layout(width='80%', height='30px')\n",
    "\n",
    "    sliders = {v.name: FloatSlider(value=v.default, min=v.default*0.1, max=v.default*1.5, step=10**(magnitude(v.default)-3), readout_format='.2e', layout=lo) for v in inspect.signature(cavfct).parameters.values() if v.name not in cavpars.keys()}\n",
    "    ars = FloatSlider(value=0.1, min=0., max=rmax, step=1e-2, readout_format='.3f', layout=lo)\n",
    "    brs = FloatSlider(value=0.1, min=0., max=rmax, step=1e-2, readout_format='.3f', layout=lo)\n",
    "    aps = FloatSlider(value=0., min=0., max=1*np.pi, step=1e-2, readout_format='.3f', layout=lo)\n",
    "    bps = FloatSlider(value=0., min=0., max=1*np.pi, step=1e-2, readout_format='.3f', layout=lo)\n",
    "    Nrts = IntSlider(value=100, min=100, max=2000, step=100, layout=lo)\n",
    "    raysliders = {'ar': ars, 'br': brs, 'ap': aps, 'bp': bps, 'Nrt': Nrts}\n",
    "    sliders.update(**raysliders)\n",
    "    cavparsfixed = {k: fixed(v) for k, v in cavpars.items()}\n",
    "    sliders.update(**cavparsfixed)\n",
    "    #print(sliders)\n",
    "    return interactive(update, **sliders)"
   ]
  },
  {
   "cell_type": "code",
   "execution_count": null,
   "metadata": {},
   "outputs": [],
   "source": []
  },
  {
   "cell_type": "code",
   "execution_count": 47,
   "metadata": {},
   "outputs": [
    {
     "data": {
      "application/vnd.jupyter.widget-view+json": {
       "model_id": "9064072af5564ea39e34cdb4947ba71a",
       "version_major": 2,
       "version_minor": 0
      },
      "text/plain": [
       "Canvas(toolbar=Toolbar(toolitems=[('Home', 'Reset original view', 'home', 'home'), ('Back', 'Back to previous …"
      ]
     },
     "metadata": {},
     "output_type": "display_data"
    },
    {
     "data": {
      "application/vnd.jupyter.widget-view+json": {
       "model_id": "20117a9b794b4ce9a968069524137e63",
       "version_major": 2,
       "version_minor": 0
      },
      "text/plain": [
       "interactive(children=(FloatSlider(value=0.1, description='ar', layout=Layout(height='30px', width='80%'), max=…"
      ]
     },
     "metadata": {},
     "output_type": "display_data"
    }
   ],
   "source": [
    "eps = np.zeros((12,5))\n",
    "eps[3,3] += 1e-1\n",
    "rays_interaction_factory_pert(cavfct, cavpars={parname: Ldeg, 'eps': eps}, rmax=10.)"
   ]
  },
  {
   "cell_type": "code",
   "execution_count": 34,
   "metadata": {},
   "outputs": [
    {
     "data": {
      "application/vnd.jupyter.widget-view+json": {
       "model_id": "20b88d65abea4908a5a4fc28bfba8768",
       "version_major": 2,
       "version_minor": 0
      },
      "text/plain": [
       "Canvas(toolbar=Toolbar(toolitems=[('Home', 'Reset original view', 'home', 'home'), ('Back', 'Back to previous …"
      ]
     },
     "metadata": {},
     "output_type": "display_data"
    },
    {
     "name": "stdout",
     "output_type": "stream",
     "text": [
      "{'lens_dist': 1, 'c4': -4, 'c6': 1.0, 'c8': 1.0}\n"
     ]
    },
    {
     "data": {
      "application/vnd.jupyter.widget-view+json": {
       "model_id": "d9251174c604420f94e291fd30a3518f",
       "version_major": 2,
       "version_minor": 0
      },
      "text/plain": [
       "interactive(children=(FloatSlider(value=8.0, description='a', layout=Layout(height='30px', width='80%'), max=1…"
      ]
     },
     "metadata": {},
     "output_type": "display_data"
    }
   ],
   "source": [
    "metrics_interaction_factory(cavfct, cavpars={parname: Ldeg, 'c4': 6e-4, 'c6': 0, 'c8': 0}, rmax=12., Nplt=100, slrng=(0.8, 1.2), degmodenum=1, a=8., b=0., s=1)"
   ]
  },
  {
   "cell_type": "code",
   "execution_count": 35,
   "metadata": {},
   "outputs": [],
   "source": [
    "dct = {\"a\": 1, \"b\": 2}"
   ]
  },
  {
   "cell_type": "code",
   "execution_count": 36,
   "metadata": {},
   "outputs": [
    {
     "name": "stdout",
     "output_type": "stream",
     "text": [
      "a 1\n",
      "b 2\n"
     ]
    }
   ],
   "source": [
    "for k,v in dct.items():\n",
    "    print(k,v)"
   ]
  },
  {
   "cell_type": "code",
   "execution_count": 17,
   "metadata": {},
   "outputs": [
    {
     "data": {
      "application/vnd.jupyter.widget-view+json": {
       "model_id": "4e085a8c97af4c29a1feb3b429642a66",
       "version_major": 2,
       "version_minor": 0
      },
      "text/plain": [
       "Output()"
      ]
     },
     "metadata": {},
     "output_type": "display_data"
    }
   ],
   "source": [
    "res = degeneracy_length(cavfct, parname, 1e-2)\n",
    "Ldeg=res.x\n",
    "sys = RaySystem(cavfct(lens_dist=Ldeg))\n",
    "\n",
    "try:\n",
    "    plot.close()\n",
    "except:\n",
    "    pass\n",
    "plot = k3d.plot(camera_auto_fit=True, antialias=True)\n",
    "\n",
    "for i, el in enumerate(sys.elements):\n",
    "    plot += el.plot(opacity=0.4)\n",
    "\n",
    "for i, el in enumerate(sys.elements):\n",
    "    plot_element_ax(el, plot, length=5.)\n",
    "plot.display()"
   ]
  },
  {
   "cell_type": "code",
   "execution_count": 19,
   "metadata": {},
   "outputs": [
    {
     "name": "stdout",
     "output_type": "stream",
     "text": [
      "131.24995092745596\n"
     ]
    }
   ],
   "source": [
    "system = sys.abcd\n",
    "print(system.Ltot)\n",
    "system.waist_at(0)\n",
    "mu1, mu2 = system.q"
   ]
  },
  {
   "cell_type": "code",
   "execution_count": 20,
   "metadata": {},
   "outputs": [
    {
     "data": {
      "text/plain": [
       "array([0.0182912, 0.0182912])"
      ]
     },
     "execution_count": 20,
     "metadata": {},
     "output_type": "execute_result"
    }
   ],
   "source": [
    "system.waist_at(0.)"
   ]
  },
  {
   "cell_type": "code",
   "execution_count": 21,
   "metadata": {},
   "outputs": [],
   "source": [
    "mu = 1e-1*np.real(mu1) + 1e-3*np.real(mu2) \n",
    "ray = sys.screen.eigenvectors_to_rays(mu)\n",
    "\n",
    "traj = sys.propagate(ray, Nrt=30)"
   ]
  },
  {
   "cell_type": "code",
   "execution_count": 22,
   "metadata": {},
   "outputs": [],
   "source": [
    "screen = Screen(p=sys.screen.p, n=sys.screen.n, ax=sys.screen.ax, ay=sys.screen.ay, diameter=3.)"
   ]
  },
  {
   "cell_type": "code",
   "execution_count": 23,
   "metadata": {},
   "outputs": [
    {
     "data": {
      "application/vnd.jupyter.widget-view+json": {
       "model_id": "9d20e561518643dfa4ae3ad50e690531",
       "version_major": 2,
       "version_minor": 0
      },
      "text/plain": [
       "Output()"
      ]
     },
     "metadata": {},
     "output_type": "display_data"
    }
   ],
   "source": [
    "try:\n",
    "    plot.close()\n",
    "except:\n",
    "    pass\n",
    "plot = k3d.plot(camera_auto_fit=True, antialias=True)\n",
    "\n",
    "for i, el in enumerate(sys.elements[:-1]):\n",
    "    plot += el.plot(opacity=0.4)\n",
    "\n",
    "plot += screen.plot(opacity=0.4)\n",
    "\n",
    "plot_trajs(traj, plot, shader='mesh', width=0.02, color=0xc61920)\n",
    "plot.display()"
   ]
  },
  {
   "cell_type": "code",
   "execution_count": null,
   "metadata": {},
   "outputs": [],
   "source": []
  }
 ],
 "metadata": {
  "kernelspec": {
   "display_name": "Python 3",
   "language": "python",
   "name": "python3"
  },
  "language_info": {
   "codemirror_mode": {
    "name": "ipython",
    "version": 3
   },
   "file_extension": ".py",
   "mimetype": "text/x-python",
   "name": "python",
   "nbconvert_exporter": "python",
   "pygments_lexer": "ipython3",
   "version": "3.7.6"
  }
 },
 "nbformat": 4,
 "nbformat_minor": 4
}
