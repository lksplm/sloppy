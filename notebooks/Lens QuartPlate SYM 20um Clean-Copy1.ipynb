{
 "cells": [
  {
   "cell_type": "code",
   "execution_count": 1,
   "metadata": {},
   "outputs": [],
   "source": [
    "%load_ext autoreload\n",
    "%autoreload 2"
   ]
  },
  {
   "cell_type": "code",
   "execution_count": 2,
   "metadata": {},
   "outputs": [],
   "source": [
    "%matplotlib widget\n",
    "from ipywidgets import *\n",
    "import numpy as np\n",
    "import k3d\n",
    "import matplotlib.pyplot as plt\n",
    "from sloppy.optic import *\n",
    "from sloppy.raytracing import *\n",
    "from sloppy.abcd import *\n",
    "from sloppy.utils import *\n",
    "from sloppy.tools import *"
   ]
  },
  {
   "cell_type": "code",
   "execution_count": 3,
   "metadata": {},
   "outputs": [],
   "source": [
    "from cavities import *"
   ]
  },
  {
   "cell_type": "code",
   "execution_count": 5,
   "metadata": {},
   "outputs": [
    {
     "data": {
      "application/vnd.jupyter.widget-view+json": {
       "model_id": "e546b6775ced46039ca18ee11bfdfb86",
       "version_major": 2,
       "version_minor": 0
      },
      "text/plain": [
       "Canvas(toolbar=Toolbar(toolitems=[('Home', 'Reset original view', 'home', 'home'), ('Back', 'Back to previous …"
      ]
     },
     "metadata": {},
     "output_type": "display_data"
    },
    {
     "data": {
      "application/vnd.jupyter.widget-view+json": {
       "model_id": "7a343bc9026043d3a6d459ff3c0cea56",
       "version_major": 2,
       "version_minor": 0
      },
      "text/plain": [
       "interactive(children=(FloatLogSlider(value=0.1, description='scanrange', layout=Layout(height='30px', width='8…"
      ]
     },
     "metadata": {},
     "output_type": "display_data"
    }
   ],
   "source": [
    "cavity_parameter_interaction_factory(LensCavQuartic, 'lens_dist', 1e-1, N=100)"
   ]
  },
  {
   "cell_type": "code",
   "execution_count": 4,
   "metadata": {},
   "outputs": [
    {
     "data": {
      "application/vnd.jupyter.widget-view+json": {
       "model_id": "ed369bae74e2494b880164b7d7d16d4d",
       "version_major": 2,
       "version_minor": 0
      },
      "text/plain": [
       "Canvas(toolbar=Toolbar(toolitems=[('Home', 'Reset original view', 'home', 'home'), ('Back', 'Back to previous …"
      ]
     },
     "metadata": {},
     "output_type": "display_data"
    },
    {
     "data": {
      "text/plain": [
       "25.125183946488296"
      ]
     },
     "execution_count": 4,
     "metadata": {},
     "output_type": "execute_result"
    }
   ],
   "source": [
    "waists_vs_param(LensCavQuartic, 'lens_dist', 1e-1)"
   ]
  },
  {
   "cell_type": "code",
   "execution_count": 5,
   "metadata": {},
   "outputs": [
    {
     "name": "stdout",
     "output_type": "stream",
     "text": [
      "     fun: 189015.5869453489\n",
      " message: 'Solution found.'\n",
      "    nfev: 9\n",
      "  status: 0\n",
      " success: True\n",
      "       x: 25.12982681286276\n"
     ]
    }
   ],
   "source": [
    "res = degeneracy_length(LensCavQuartic, 'lens_dist', 1e-1)\n",
    "Ldeg = res.x\n",
    "print(res)"
   ]
  },
  {
   "cell_type": "code",
   "execution_count": 6,
   "metadata": {},
   "outputs": [],
   "source": [
    "elements = LensCavQuartic(lens_dist=Ldeg)\n",
    "sys = RaySystem(elements)"
   ]
  },
  {
   "cell_type": "code",
   "execution_count": 7,
   "metadata": {},
   "outputs": [
    {
     "name": "stdout",
     "output_type": "stream",
     "text": [
      "125.96287424209984\n"
     ]
    },
    {
     "data": {
      "text/plain": [
       "array([0.01982769, 0.01982769])"
      ]
     },
     "execution_count": 7,
     "metadata": {},
     "output_type": "execute_result"
    }
   ],
   "source": [
    "system = sys.abcd\n",
    "print(system.Ltot)\n",
    "system.waist_at(0)"
   ]
  },
  {
   "cell_type": "code",
   "execution_count": 10,
   "metadata": {},
   "outputs": [
    {
     "data": {
      "application/vnd.jupyter.widget-view+json": {
       "model_id": "2077674256784bd09068509a07be114e",
       "version_major": 2,
       "version_minor": 0
      },
      "text/plain": [
       "Canvas(toolbar=Toolbar(toolitems=[('Home', 'Reset original view', 'home', 'home'), ('Back', 'Back to previous …"
      ]
     },
     "metadata": {},
     "output_type": "display_data"
    }
   ],
   "source": [
    "x = np.linspace(0, system.Ltot, 500)\n",
    "ws = system.compute_waists(x)\n",
    "\n",
    "plt.figure()\n",
    "plt.plot(x, ws)\n",
    "plt.show()"
   ]
  },
  {
   "cell_type": "code",
   "execution_count": 11,
   "metadata": {},
   "outputs": [],
   "source": [
    "mu = np.array([0., 0., 0., 0.])\n",
    "ray = sys.screen.eigenvectors_to_rays(mu)"
   ]
  },
  {
   "cell_type": "code",
   "execution_count": 12,
   "metadata": {},
   "outputs": [
    {
     "name": "stderr",
     "output_type": "stream",
     "text": [
      "C:\\ProgramData\\Anaconda3\\lib\\site-packages\\traittypes\\traittypes.py:101: UserWarning: Given trait value dtype \"float64\" does not match required type \"float32\". A coerced copy has been created.\n",
      "  np.dtype(self.dtype).name))\n"
     ]
    },
    {
     "data": {
      "application/vnd.jupyter.widget-view+json": {
       "model_id": "2fa34db15e0e40b6bc0aafb8ed8e65bf",
       "version_major": 2,
       "version_minor": 0
      },
      "text/plain": [
       "Output()"
      ]
     },
     "metadata": {},
     "output_type": "display_data"
    }
   ],
   "source": [
    "try:\n",
    "    plot.close()\n",
    "except:\n",
    "    pass\n",
    "plot = k3d.plot(camera_auto_fit=True, antialias=True)\n",
    "\n",
    "for i, el in enumerate(sys.elements):\n",
    "    plot += el.plot(opacity=0.4)\n",
    "\n",
    "for i, el in enumerate(sys.elements):\n",
    "    plot_element_ax(el, plot, length=5.)\n",
    "\n",
    "plot_rays(ray, plot)\n",
    "plot.display()"
   ]
  },
  {
   "cell_type": "code",
   "execution_count": 9,
   "metadata": {},
   "outputs": [
    {
     "data": {
      "application/vnd.jupyter.widget-view+json": {
       "model_id": "71febc40fcd745fe81f1a4f2d4c13718",
       "version_major": 2,
       "version_minor": 0
      },
      "text/plain": [
       "Canvas(toolbar=Toolbar(toolitems=[('Home', 'Reset original view', 'home', 'home'), ('Back', 'Back to previous …"
      ]
     },
     "metadata": {},
     "output_type": "display_data"
    },
    {
     "data": {
      "application/vnd.jupyter.widget-view+json": {
       "model_id": "29f75ee480494945afefe8265b7908d9",
       "version_major": 2,
       "version_minor": 0
      },
      "text/plain": [
       "interactive(children=(FloatSlider(value=0.1, description='ar', layout=Layout(height='30px', width='80%'), max=…"
      ]
     },
     "metadata": {},
     "output_type": "display_data"
    }
   ],
   "source": [
    "rays_interaction_factory(LensCavQuartic, 'lens_dist')"
   ]
  },
  {
   "cell_type": "code",
   "execution_count": 10,
   "metadata": {},
   "outputs": [],
   "source": [
    "from scipy.optimize import minimize_scalar, brentq"
   ]
  },
  {
   "cell_type": "code",
   "execution_count": 69,
   "metadata": {},
   "outputs": [
    {
     "name": "stderr",
     "output_type": "stream",
     "text": [
      "c:\\users\\lukas\\box\\lukas\\03_theory\\abcd\\sloppy\\src\\sloppy\\tools.py:264: RuntimeWarning: More than 20 figures have been opened. Figures created through the pyplot interface (`matplotlib.pyplot.figure`) are retained until explicitly closed and may consume too much memory. (To control this warning, see the rcParam `figure.max_open_warning`).\n",
      "  fig, ax = plt.subplots()\n"
     ]
    },
    {
     "data": {
      "application/vnd.jupyter.widget-view+json": {
       "model_id": "ac6fd96c2ecc4f8bb3da7bd37dcfa0b0",
       "version_major": 2,
       "version_minor": 0
      },
      "text/plain": [
       "Canvas(toolbar=Toolbar(toolitems=[('Home', 'Reset original view', 'home', 'home'), ('Back', 'Back to previous …"
      ]
     },
     "metadata": {},
     "output_type": "display_data"
    },
    {
     "name": "stdout",
     "output_type": "stream",
     "text": [
      "{'c4': -3, 'c6': -4, 'lens_dist': 1}\n"
     ]
    },
    {
     "data": {
      "application/vnd.jupyter.widget-view+json": {
       "model_id": "c02f5ccd5fa64b2ab91e8bebdb19ef5c",
       "version_major": 2,
       "version_minor": 0
      },
      "text/plain": [
       "interactive(children=(FloatSlider(value=3.5502199345569028, description='c4', layout=Layout(height='30px', wid…"
      ]
     },
     "metadata": {},
     "output_type": "display_data"
    }
   ],
   "source": [
    "#coefficients_interaction_factory(LensCavQuartic, coefpars={'c4': 3.63e-3, 'c6': 1e-4})\n",
    "coefficients_interaction_factory(LensCavQuartic, coefpars={'c4': res.x[0], 'c6': res.x[1], 'lens_dist': Ldeg}, negative=False)"
   ]
  },
  {
   "cell_type": "code",
   "execution_count": 31,
   "metadata": {},
   "outputs": [],
   "source": [
    "from matplotlib.colors import LogNorm"
   ]
  },
  {
   "cell_type": "code",
   "execution_count": 52,
   "metadata": {},
   "outputs": [
    {
     "name": "stdout",
     "output_type": "stream",
     "text": [
      "25.12982681286276\n"
     ]
    }
   ],
   "source": [
    "cavfct = LensCavQuartic\n",
    "degmodenum = 1\n",
    "Nrt = 30\n",
    "def get_dev(r, **kwargs):\n",
    "    elements = cavfct(**kwargs)\n",
    "    sys = RaySystem(elements)\n",
    "    system = sys.abcd\n",
    "    mu1, mu2 = system.q\n",
    "    waist = system.waist_at(0)[0]\n",
    "    mu = mu1 if degmodenum==1 else mu2\n",
    "    rmu = np.linalg.norm(np.real(mu[:2]))\n",
    "    mu = np.real(r*waist/rmu*mu)\n",
    "    ray0 = sys.screen.eigenvectors_to_rays(mu)\n",
    "    traj_hit = sys.propagate(ray0, Nrt=Nrt, at_screen=True)\n",
    "    hit_scr = sys.screen.r_to_screen_coords(traj_hit[:,0,0,:])\n",
    "    hit_1 = hit_scr[::3,:]\n",
    "    hit_2 = hit_scr[1::3,:]\n",
    "    hit_3 = hit_scr[2::3,:]\n",
    "    #approximate path length described by dots through piecwise linear distance\n",
    "    dev = np.linalg.norm(hit_1[1:,:]-hit_1[:-1,:], axis=1).sum() +\\\n",
    "            np.linalg.norm(hit_2[1:,:]-hit_2[:-1,:], axis=1).sum() +\\\n",
    "            np.linalg.norm(hit_3[1:,:]-hit_3[:-1,:], axis=1).sum()\n",
    "    return dev\n",
    "\n",
    "\n",
    "res = degeneracy_length(cavfct, 'lens_dist', 1e-1)\n",
    "Ldeg = res.x\n",
    "print(res.x)\n",
    "\n",
    "#cavargs = {'lens_dist': Ldeg, 'c6': 0.}\n",
    "#param = 'c4'\n",
    "#rng = (3.4e-3, 3.8e-3)\n",
    "cavargs = {'lens_dist': Ldeg, 'c4': 3.575e-3}\n",
    "param = 'c6'\n",
    "rng = (1e-4, 2.5e-4)\n",
    "\n",
    "rs = np.linspace(np.finfo(np.float32).eps,12., 100)\n",
    "ps = np.linspace(*rng, 100)\n",
    "devs = np.zeros((len(rs), len(ps)))\n",
    "for i, r in enumerate(rs):\n",
    "    for j, p in enumerate(ps):\n",
    "        args = cavargs.copy()\n",
    "        args[param] = p\n",
    "        try:\n",
    "            d = get_dev(r=r, **args)\n",
    "        except:\n",
    "            devs[i,j] = np.nan\n",
    "        else:\n",
    "            devs[i,j] = d"
   ]
  },
  {
   "cell_type": "code",
   "execution_count": 54,
   "metadata": {},
   "outputs": [
    {
     "name": "stderr",
     "output_type": "stream",
     "text": [
      "C:\\ProgramData\\Anaconda3\\lib\\site-packages\\ipykernel_launcher.py:1: RuntimeWarning: More than 20 figures have been opened. Figures created through the pyplot interface (`matplotlib.pyplot.figure`) are retained until explicitly closed and may consume too much memory. (To control this warning, see the rcParam `figure.max_open_warning`).\n",
      "  \"\"\"Entry point for launching an IPython kernel.\n"
     ]
    },
    {
     "data": {
      "application/vnd.jupyter.widget-view+json": {
       "model_id": "30f07ff9bba8438fb16ae27345c97622",
       "version_major": 2,
       "version_minor": 0
      },
      "text/plain": [
       "Canvas(toolbar=Toolbar(toolitems=[('Home', 'Reset original view', 'home', 'home'), ('Back', 'Back to previous …"
      ]
     },
     "metadata": {},
     "output_type": "display_data"
    }
   ],
   "source": [
    "plt.figure()\n",
    "plt.pcolormesh(rs, ps, devs.T, norm=LogNorm(vmin=devs.min()*1e10, vmax=devs.max()))\n",
    "plt.colorbar()\n",
    "plt.show()"
   ]
  },
  {
   "cell_type": "code",
   "execution_count": 57,
   "metadata": {},
   "outputs": [
    {
     "name": "stdout",
     "output_type": "stream",
     "text": [
      "25.12982681286276\n"
     ]
    }
   ],
   "source": [
    "cavfct = LensCavQuartic\n",
    "degmodenum = 1\n",
    "Nrt = 30\n",
    "\n",
    "\n",
    "res = degeneracy_length(cavfct, 'lens_dist', 1e-1)\n",
    "Ldeg = res.x\n",
    "print(res.x)\n",
    "\n",
    "cavargs = {'lens_dist': Ldeg}\n",
    "parama = 'c4'\n",
    "rnga = (3.4e-3, 3.8e-3)\n",
    "paramb = 'c6'\n",
    "rngb = (1e-4, 2.5e-4)\n",
    "\n",
    "rs = np.linspace(*rnga, 100)\n",
    "ps = np.linspace(*rngb, 100)\n",
    "devs = np.zeros((len(rs), len(ps)))\n",
    "for i, r in enumerate(rs):\n",
    "    for j, p in enumerate(ps):\n",
    "        args = cavargs.copy()\n",
    "        args[parama] = r\n",
    "        args[paramb] = p\n",
    "        try:\n",
    "            d = get_dev(r=10., **args)\n",
    "        except:\n",
    "            devs[i,j] = np.nan\n",
    "        else:\n",
    "            devs[i,j] = d"
   ]
  },
  {
   "cell_type": "code",
   "execution_count": 58,
   "metadata": {},
   "outputs": [
    {
     "name": "stderr",
     "output_type": "stream",
     "text": [
      "C:\\ProgramData\\Anaconda3\\lib\\site-packages\\ipykernel_launcher.py:1: RuntimeWarning: More than 20 figures have been opened. Figures created through the pyplot interface (`matplotlib.pyplot.figure`) are retained until explicitly closed and may consume too much memory. (To control this warning, see the rcParam `figure.max_open_warning`).\n",
      "  \"\"\"Entry point for launching an IPython kernel.\n"
     ]
    },
    {
     "data": {
      "application/vnd.jupyter.widget-view+json": {
       "model_id": "ef79bbfa30d84f2fa0ee4871b41e261e",
       "version_major": 2,
       "version_minor": 0
      },
      "text/plain": [
       "Canvas(toolbar=Toolbar(toolitems=[('Home', 'Reset original view', 'home', 'home'), ('Back', 'Back to previous …"
      ]
     },
     "metadata": {},
     "output_type": "display_data"
    }
   ],
   "source": [
    "plt.figure()\n",
    "plt.pcolormesh(rs, ps, devs.T, norm=LogNorm(vmin=devs.min(), vmax=devs.max()))\n",
    "plt.colorbar()\n",
    "plt.show()"
   ]
  },
  {
   "cell_type": "code",
   "execution_count": 63,
   "metadata": {},
   "outputs": [],
   "source": [
    "def deviation_tot(x):\n",
    "    rs = np.linspace(np.finfo(np.float32).eps, 10., 50)\n",
    "    Ls = np.zeros_like(rs)\n",
    "    for i, r in enumerate(rs):\n",
    "        try:\n",
    "            d = get_dev(r=r, c4=x[0], c6=x[1], lens_dist=Ldeg)\n",
    "        except:\n",
    "            Ls[i] = np.nan\n",
    "        else:\n",
    "            Ls[i] = d\n",
    "    return np.abs(np.sum(Ls))"
   ]
  },
  {
   "cell_type": "code",
   "execution_count": 70,
   "metadata": {},
   "outputs": [
    {
     "data": {
      "text/plain": [
       "      fun: 1.151691970975214\n",
       " hess_inv: <2x2 LbfgsInvHessProduct with dtype=float64>\n",
       "      jac: array([0.00098432, 0.0014144 ])\n",
       "  message: b'CONVERGENCE: REL_REDUCTION_OF_F_<=_FACTR*EPSMCH'\n",
       "     nfev: 36\n",
       "      nit: 8\n",
       "   status: 0\n",
       "  success: True\n",
       "        x: array([0.00355023, 0.00013696])"
      ]
     },
     "execution_count": 70,
     "metadata": {},
     "output_type": "execute_result"
    }
   ],
   "source": [
    "bounds = [(2.2e-3, 4e-3), (0., 3e-4)]\n",
    "res = minimize(deviation_tot, x0=[3.5e-3, 1.5e-4], bounds=bounds)\n",
    "res"
   ]
  },
  {
   "cell_type": "code",
   "execution_count": 65,
   "metadata": {},
   "outputs": [],
   "source": [
    "def plot_cs(rmax=12., Npts=100, **kwargs):\n",
    "    rs = np.linspace(np.finfo(np.float32).eps, rmax, Npts)\n",
    "    Ls = np.zeros_like(rs)\n",
    "    \n",
    "    for i, r in enumerate(rs):\n",
    "        try:\n",
    "            d = get_dev(r=r, **kwargs)\n",
    "        except:\n",
    "            Ls[i] = np.nan\n",
    "        else:\n",
    "            Ls[i] = d\n",
    "    fig, ax = plt.subplots()\n",
    "    line = ax.plot(rs, Ls)[0]\n",
    "    plt.title('Deviation vs radius')\n",
    "    plt.xlabel(r'$r_{in}$ [waists]')\n",
    "    plt.ylabel(r'$dev$ [mm]')\n",
    "    plt.show()"
   ]
  },
  {
   "cell_type": "code",
   "execution_count": 71,
   "metadata": {},
   "outputs": [
    {
     "name": "stderr",
     "output_type": "stream",
     "text": [
      "C:\\ProgramData\\Anaconda3\\lib\\site-packages\\ipykernel_launcher.py:12: RuntimeWarning: More than 20 figures have been opened. Figures created through the pyplot interface (`matplotlib.pyplot.figure`) are retained until explicitly closed and may consume too much memory. (To control this warning, see the rcParam `figure.max_open_warning`).\n",
      "  if sys.path[0] == '':\n"
     ]
    },
    {
     "data": {
      "application/vnd.jupyter.widget-view+json": {
       "model_id": "38312de2712944c085f6a87e55b9e636",
       "version_major": 2,
       "version_minor": 0
      },
      "text/plain": [
       "Canvas(toolbar=Toolbar(toolitems=[('Home', 'Reset original view', 'home', 'home'), ('Back', 'Back to previous …"
      ]
     },
     "metadata": {},
     "output_type": "display_data"
    }
   ],
   "source": [
    "plot_cs(c4=res.x[0], c6=res.x[1], lens_dist=Ldeg)"
   ]
  },
  {
   "cell_type": "code",
   "execution_count": 21,
   "metadata": {},
   "outputs": [],
   "source": [
    "def degeneracy_par_ray(cavfct, parname, r=0, scanrange=1e-3, p0=None):\n",
    "    def get_dev(p, r):\n",
    "        elements = cavfct(**{parname: p})\n",
    "        sys = RaySystem(elements)\n",
    "        system = sys.abcd\n",
    "        mu1, mu2 = system.q\n",
    "        waist = waist0 #system.waist_at(0)[0] FIX\n",
    "        rmu = np.linalg.norm(np.real(mu2[:2]))\n",
    "        mu = np.real(r*waist/rmu*mu2)#np.real(r*mu2)\n",
    "        ray0 = sys.screen.eigenvectors_to_rays(mu)\n",
    "        traj_hit = sys.propagate(ray0, Nrt=30, at_screen=True)\n",
    "        hit_scr = sys.screen.r_to_screen_coords(traj_hit[:,0,0,:])\n",
    "        hit_1 = hit_scr[::3,:]\n",
    "        return np.var(hit_1, axis=0).sum()\n",
    "    if p0 is None:\n",
    "        p0 = inspect.signature(cavfct).parameters[parname].default\n",
    "    if not isinstance(scanrange, tuple):\n",
    "        scanrange = ((1-scanrange)*p0, (1+scanrange)*p0)\n",
    "    res = minimize_scalar(get_dev, bounds=scanrange, args=(r), method='bounded')\n",
    "    return res"
   ]
  },
  {
   "cell_type": "code",
   "execution_count": 22,
   "metadata": {},
   "outputs": [],
   "source": [
    "rs = np.linspace(np.finfo(np.float32).resolution,8., 100)\n",
    "Ps = np.zeros_like(rs)\n",
    "pcur = 0.\n",
    "for i, r in enumerate(rs):\n",
    "    try:\n",
    "        p = degeneracy_par_ray(cavfct, 'c4', r=r, scanrange=(0., 1e-2), p0=pcur).x\n",
    "    except:\n",
    "        Ps[i] = np.nan\n",
    "    else:\n",
    "        Ps[i] = p\n",
    "        #pcur = p"
   ]
  },
  {
   "cell_type": "code",
   "execution_count": 23,
   "metadata": {},
   "outputs": [
    {
     "data": {
      "application/vnd.jupyter.widget-view+json": {
       "model_id": "cf0427125aa44f7ebde177a8929c97fb",
       "version_major": 2,
       "version_minor": 0
      },
      "text/plain": [
       "Canvas(toolbar=Toolbar(toolitems=[('Home', 'Reset original view', 'home', 'home'), ('Back', 'Back to previous …"
      ]
     },
     "metadata": {},
     "output_type": "display_data"
    }
   ],
   "source": [
    "plt.figure()\n",
    "plt.plot(rs, Ps)\n",
    "plt.title('Optimal C4 coefficient vs radius')\n",
    "plt.xlabel(r'$r_{in}$ [waists]')\n",
    "plt.ylabel(r'$L_{deg}$ [mm]')\n",
    "#plt.axhline(Ldeg, color='grey')\n",
    "#plt.plot(rs, np.polyval(coef, rs), '--')\n",
    "plt.show()"
   ]
  },
  {
   "cell_type": "code",
   "execution_count": 24,
   "metadata": {
    "jupyter": {
     "source_hidden": true
    }
   },
   "outputs": [],
   "source": [
    "def plot_config(l=0., ar=0.0, br=0.0, ap=0., bp=0., Nrt=500, ms = 8., **kwargs):\n",
    "        fig, (ax, bx, cx) = plt.subplots(ncols=3, figsize=(11,3.3), sharex=True, sharey=True)\n",
    "        linea = ax.scatter([], [], c=[], cmap='jet', s=ms)\n",
    "        linec = cx.scatter([], [], c=[], cmap='jet', s=ms)\n",
    "        lineb = bx.scatter([], [], c=[], cmap='jet', s=ms)\n",
    "        ax.set_title('Raytracing')\n",
    "        bx.set_title('ABCD')\n",
    "        cx.set_title('ABCD (Extracted)')\n",
    "        plt.xlabel('x [mm]')\n",
    "        plt.ylabel('y [mm]')\n",
    "        kwargs.update({parname: l})\n",
    "        elements = cavfct(**kwargs)\n",
    "        sys = RaySystem(elements)\n",
    "        system = sys.abcd\n",
    "        mu1, mu2 = system.q\n",
    "        waist = system.waist_at(0)[0]\n",
    "        rmu1 = np.linalg.norm(np.real(mu1[:2]))\n",
    "        rmu2 = np.linalg.norm(np.real(mu2[:2]))\n",
    "        mu = np.real(ar*waist/rmu1*mu1*np.exp(1j*ap) + br*waist/rmu2*mu2*np.exp(1j*bp))\n",
    "        ray0 = sys.screen.eigenvectors_to_rays(mu)\n",
    " \n",
    "        traj_hit = sys.propagate(ray0, Nrt=Nrt, at_screen=True)\n",
    "        hit_scr = sys.screen.r_to_screen_coords(traj_hit[:,0,0,:])\n",
    "\n",
    "        linea.set_offsets(hit_scr[:,:])\n",
    "        linea.set_array(makeidx(hit_scr))\n",
    "        \n",
    "        hit_m = propagate_ABCD(mu, system.abcd_rt, Nrt=Nrt)\n",
    "        lineb.set_offsets(hit_m[:,0:2])\n",
    "        lineb.set_array(makeidx(hit_m))\n",
    "        \n",
    "        #abcd_fd = sys.extract_ABCD(epsr=1e-4, epss=1e-4, Nrt=1) \n",
    "        #hit_fd = propagate_ABCD(mu, abcd_fd, Nrt=Nrt)\n",
    "        #linec.set_offsets(hit_fd[:,0:2])\n",
    "        #linec.set_array(makeidx(hit_fd))\n",
    "        \n",
    "        linea.set_clim(vmin=0, vmax=Nrt)\n",
    "        lineb.set_clim(vmin=0, vmax=Nrt)\n",
    "        linec.set_clim(vmin=0, vmax=Nrt)\n",
    "            \n",
    "        ax.set_xlim(1.5*np.nanmin(hit_scr[:,0]), 1.5*np.nanmax(hit_scr[:,0]))\n",
    "        ax.set_ylim(1.5*np.nanmin(hit_scr[:,1]), 1.5*np.nanmax(hit_scr[:,1]))\n",
    "        return fig"
   ]
  },
  {
   "cell_type": "code",
   "execution_count": 26,
   "metadata": {},
   "outputs": [
    {
     "data": {
      "application/vnd.jupyter.widget-view+json": {
       "model_id": "df87c384669e43d484bdb8832acd0e2b",
       "version_major": 2,
       "version_minor": 0
      },
      "text/plain": [
       "Canvas(toolbar=Toolbar(toolitems=[('Home', 'Reset original view', 'home', 'home'), ('Back', 'Back to previous …"
      ]
     },
     "metadata": {},
     "output_type": "display_data"
    }
   ],
   "source": [
    "rw = 5.\n",
    "interp=True\n",
    "if interp:\n",
    "    lw = np.polyval(coef, rw)\n",
    "else:\n",
    "    idx = np.where(rs>rw)[0][0]\n",
    "    lw = Ls[idx]\n",
    "    rw = rs[idx]\n",
    "f = plot_config(l=lw, br=rw, Nrt=500, ms=4, c4=0.416e-2)\n",
    "f.show()"
   ]
  },
  {
   "cell_type": "code",
   "execution_count": 117,
   "metadata": {},
   "outputs": [],
   "source": [
    "plt.close(\"all\")"
   ]
  },
  {
   "cell_type": "markdown",
   "metadata": {},
   "source": [
    "## Eigenray"
   ]
  },
  {
   "cell_type": "code",
   "execution_count": 65,
   "metadata": {},
   "outputs": [],
   "source": [
    "def plot_config_ray(mu, l=0., Nrt=500, ms = 8., **kwargs):\n",
    "        fig, (ax, bx, cx) = plt.subplots(ncols=3, figsize=(11,3.3), sharex=True, sharey=True)\n",
    "        linea = ax.scatter([], [], c=[], cmap='jet', s=ms)\n",
    "        linec = cx.scatter([], [], c=[], cmap='jet', s=ms)\n",
    "        lineb = bx.scatter([], [], c=[], cmap='jet', s=ms)\n",
    "        ax.set_title('Raytracing')\n",
    "        bx.set_title('ABCD')\n",
    "        cx.set_title('ABCD (Extracted)')\n",
    "        plt.xlabel('x [mm]')\n",
    "        plt.ylabel('y [mm]')\n",
    "        elements = cavfct(**{parname: l})\n",
    "        sys = RaySystem(elements)\n",
    "        ray0 = sys.screen.eigenvectors_to_rays(mu)\n",
    "\n",
    "        traj_hit = sys.propagate(ray0, Nrt=Nrt, at_screen=True)\n",
    "        hit_scr = sys.screen.r_to_screen_coords(traj_hit[:,0,0,:])\n",
    "\n",
    "        linea.set_offsets(hit_scr[:,:])\n",
    "        linea.set_array(makeidx(hit_scr))\n",
    "        \n",
    "        hit_m = propagate_ABCD(mu, system.abcd_rt, Nrt=Nrt)\n",
    "        lineb.set_offsets(hit_m[:,0:2])\n",
    "        lineb.set_array(makeidx(hit_m))\n",
    "        \n",
    "        abcd_fd = sys.extract_ABCD(epsr=1e-4, epss=1e-4, Nrt=1) \n",
    "        hit_fd = propagate_ABCD(mu, abcd_fd, Nrt=Nrt)\n",
    "        linec.set_offsets(hit_fd[:,0:2])\n",
    "        linec.set_array(makeidx(hit_fd))\n",
    "        \n",
    "        linea.set_clim(vmin=0, vmax=Nrt)\n",
    "        lineb.set_clim(vmin=0, vmax=Nrt)\n",
    "        linec.set_clim(vmin=0, vmax=Nrt)\n",
    "            \n",
    "        ax.set_xlim(1.5*np.nanmin(hit_scr[:,0]), 1.5*np.nanmax(hit_scr[:,0]))\n",
    "        ax.set_ylim(1.5*np.nanmin(hit_scr[:,1]), 1.5*np.nanmax(hit_scr[:,1]))\n",
    "        return fig"
   ]
  },
  {
   "cell_type": "code",
   "execution_count": 74,
   "metadata": {},
   "outputs": [
    {
     "name": "stdout",
     "output_type": "stream",
     "text": [
      "Finished in 49 steps, reached tol 5.473e-05\n",
      "Finished in 49 steps, reached tol 2.166e-09\n",
      "Finished in 49 steps, reached tol 4.613e-08\n",
      "Finished in 49 steps, reached tol 3.327e-08\n",
      "Finished in 49 steps, reached tol 3.617e-08\n"
     ]
    },
    {
     "data": {
      "text/plain": [
       "array([[ 6.07047033e-05,  7.65926464e-05, -1.10603097e-04,\n",
       "        -3.29846840e-04]])"
      ]
     },
     "execution_count": 74,
     "metadata": {},
     "output_type": "execute_result"
    }
   ],
   "source": [
    "#mu = np.array([5e-3, 0., 0, 0])\n",
    "system = sys.abcd\n",
    "mu1, mu2 = system.q\n",
    "waist = system.waist_at(0)[0]\n",
    "rmu = np.linalg.norm(np.real(mu2[:2]))\n",
    "r = 5e-3\n",
    "mu = np.real(r*waist/rmu*mu2)\n",
    "ray0 = sys.screen.eigenvectors_to_rays(mu)\n",
    "lr = np.zeros((2, 1, 3))\n",
    "#lr[1,:,:] = 0.05\n",
    "lr = 0.05\n",
    "#reig = sys.find_eigenray(ray0, lr=lr, Nrt=30, debug=True)\n",
    "reig = sys.find_eigenray_mpe(ray0, lr=lr, Nrt=30, debug=True)\n",
    "mueig = sys.screen.rays_to_eigenvectors(reig)\n",
    "mueig"
   ]
  },
  {
   "cell_type": "code",
   "execution_count": 75,
   "metadata": {},
   "outputs": [
    {
     "name": "stderr",
     "output_type": "stream",
     "text": [
      "C:\\ProgramData\\Anaconda3\\lib\\site-packages\\ipykernel_launcher.py:2: RuntimeWarning: More than 20 figures have been opened. Figures created through the pyplot interface (`matplotlib.pyplot.figure`) are retained until explicitly closed and may consume too much memory. (To control this warning, see the rcParam `figure.max_open_warning`).\n",
      "  \n"
     ]
    },
    {
     "data": {
      "application/vnd.jupyter.widget-view+json": {
       "model_id": "be91039812c24aa0997bf83ed5672316",
       "version_major": 2,
       "version_minor": 0
      },
      "text/plain": [
       "Canvas(toolbar=Toolbar(toolitems=[('Home', 'Reset original view', 'home', 'home'), ('Back', 'Back to previous …"
      ]
     },
     "metadata": {},
     "output_type": "display_data"
    }
   ],
   "source": [
    "f = plot_config_ray(np.squeeze(mueig), Ldeg)\n",
    "f.show()"
   ]
  },
  {
   "cell_type": "code",
   "execution_count": 81,
   "metadata": {},
   "outputs": [],
   "source": [
    "def degeneracy_length_eigenray(cavfct, parname, r=0, scanrange=1e-3, La=None):\n",
    "    def get_dev(l, r):\n",
    "        elements = cavfct(**{parname: l})\n",
    "        sys = RaySystem(elements)\n",
    "        system = sys.abcd\n",
    "        mu1, mu2 = system.q\n",
    "        waist = system.waist_at(0)[0]\n",
    "        rmu = np.linalg.norm(np.real(mu2[:2]))\n",
    "        mu = np.real(r*waist/rmu*mu2)\n",
    "        ray0 = sys.screen.eigenvectors_to_rays(mu)\n",
    "        lr = 0.05\n",
    "        reig = sys.find_eigenray(ray0, lr=lr, Nrt=3, debug=False)\n",
    "        #reig = sys.find_eigenray_mpe(ray0, lr=lr, Nrt=30, debug=False)\n",
    "        mueig = sys.screen.rays_to_eigenvectors(reig)\n",
    "        \n",
    "        ray1 = sys.screen.eigenvectors_to_rays(mu)\n",
    "        traj_hit = sys.propagate(ray1, Nrt=30, at_screen=True)\n",
    "        hit_scr = sys.screen.r_to_screen_coords(traj_hit[:,0,0,:])\n",
    "        hit_1 = hit_scr[::3,:]\n",
    "        return np.var(hit_1, axis=0).sum()\n",
    "    if La is None:\n",
    "        La = inspect.signature(cavfct).parameters[parname].default\n",
    "    res = minimize_scalar(get_dev, bounds=((1-scanrange)*La, (1+scanrange)*La), args=(r,), method='bounded')\n",
    "    return res"
   ]
  },
  {
   "cell_type": "code",
   "execution_count": 82,
   "metadata": {},
   "outputs": [
    {
     "data": {
      "text/plain": [
       "     fun: 2.020474060964267e-08\n",
       " message: 'Solution found.'\n",
       "    nfev: 10\n",
       "  status: 0\n",
       " success: True\n",
       "       x: 21.506287396753475"
      ]
     },
     "execution_count": 82,
     "metadata": {},
     "output_type": "execute_result"
    }
   ],
   "source": [
    "degeneracy_length_eigenray(cavfct, parname, r=1e-3, scanrange=1e-3, La=Ldeg)"
   ]
  },
  {
   "cell_type": "code",
   "execution_count": 83,
   "metadata": {},
   "outputs": [],
   "source": [
    "rs = np.linspace(0,8., 100)\n",
    "Ls = np.zeros_like(rs)\n",
    "lcur = Ldeg\n",
    "for i, r in enumerate(rs):\n",
    "    try:\n",
    "        l = degeneracy_length_eigenray(cavfct, parname, r=r, scanrange=1e-2, La=lcur).x\n",
    "    except:\n",
    "        Ls[i] = np.nan\n",
    "    else:\n",
    "        Ls[i] = l\n",
    "        lcur = l"
   ]
  },
  {
   "cell_type": "code",
   "execution_count": 84,
   "metadata": {},
   "outputs": [
    {
     "data": {
      "text/plain": [
       "array([-2.43816029e-04,  2.60880858e-03, -2.34249747e-02,  1.36223586e-02,\n",
       "        2.15193646e+01])"
      ]
     },
     "execution_count": 84,
     "metadata": {},
     "output_type": "execute_result"
    }
   ],
   "source": [
    "idx = np.where(rs>5.)[0][0] #only for up to\n",
    "coef = np.polyfit(rs[:idx], Ls[:idx], deg=4)\n",
    "coef"
   ]
  },
  {
   "cell_type": "code",
   "execution_count": 85,
   "metadata": {},
   "outputs": [
    {
     "name": "stderr",
     "output_type": "stream",
     "text": [
      "C:\\ProgramData\\Anaconda3\\lib\\site-packages\\ipykernel_launcher.py:1: RuntimeWarning: More than 20 figures have been opened. Figures created through the pyplot interface (`matplotlib.pyplot.figure`) are retained until explicitly closed and may consume too much memory. (To control this warning, see the rcParam `figure.max_open_warning`).\n",
      "  \"\"\"Entry point for launching an IPython kernel.\n"
     ]
    },
    {
     "data": {
      "application/vnd.jupyter.widget-view+json": {
       "model_id": "609fa42e42b641dcba058733d986e136",
       "version_major": 2,
       "version_minor": 0
      },
      "text/plain": [
       "Canvas(toolbar=Toolbar(toolitems=[('Home', 'Reset original view', 'home', 'home'), ('Back', 'Back to previous …"
      ]
     },
     "metadata": {},
     "output_type": "display_data"
    }
   ],
   "source": [
    "plt.figure()\n",
    "plt.plot(rs, Ls)\n",
    "plt.title('Degeneracy length vs radius')\n",
    "plt.xlabel(r'$r_{in}$ [waists]')\n",
    "plt.ylabel(r'$L_{deg}$ [mm]')\n",
    "plt.axhline(Ldeg, color='grey')\n",
    "plt.plot(rs, np.polyval(coef, rs), '--')\n",
    "plt.show()"
   ]
  },
  {
   "cell_type": "code",
   "execution_count": 87,
   "metadata": {},
   "outputs": [
    {
     "name": "stderr",
     "output_type": "stream",
     "text": [
      "C:\\ProgramData\\Anaconda3\\lib\\site-packages\\ipykernel_launcher.py:2: RuntimeWarning: More than 20 figures have been opened. Figures created through the pyplot interface (`matplotlib.pyplot.figure`) are retained until explicitly closed and may consume too much memory. (To control this warning, see the rcParam `figure.max_open_warning`).\n",
      "  \n"
     ]
    },
    {
     "data": {
      "application/vnd.jupyter.widget-view+json": {
       "model_id": "5b22099d247945a9b765fccbc78ee84f",
       "version_major": 2,
       "version_minor": 0
      },
      "text/plain": [
       "Canvas(toolbar=Toolbar(toolitems=[('Home', 'Reset original view', 'home', 'home'), ('Back', 'Back to previous …"
      ]
     },
     "metadata": {},
     "output_type": "display_data"
    }
   ],
   "source": [
    "rw = 5.5\n",
    "interp=False\n",
    "if interp:\n",
    "    lw = np.polyval(coef, rw)\n",
    "else:\n",
    "    idx = np.where(rs>rw)[0][0]\n",
    "    lw = Ls[idx]\n",
    "    rw = rs[idx]\n",
    "f = plot_config(l=lw, br=rw, Nrt=500, ms=4)\n",
    "f.show()"
   ]
  },
  {
   "cell_type": "code",
   "execution_count": null,
   "metadata": {},
   "outputs": [],
   "source": []
  }
 ],
 "metadata": {
  "kernelspec": {
   "display_name": "Python 3",
   "language": "python",
   "name": "python3"
  },
  "language_info": {
   "codemirror_mode": {
    "name": "ipython",
    "version": 3
   },
   "file_extension": ".py",
   "mimetype": "text/x-python",
   "name": "python",
   "nbconvert_exporter": "python",
   "pygments_lexer": "ipython3",
   "version": "3.7.6"
  }
 },
 "nbformat": 4,
 "nbformat_minor": 4
}
