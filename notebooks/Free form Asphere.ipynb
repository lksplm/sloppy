{
 "cells": [
  {
   "cell_type": "code",
   "execution_count": 1,
   "metadata": {},
   "outputs": [],
   "source": [
    "%load_ext autoreload\n",
    "%autoreload 2"
   ]
  },
  {
   "cell_type": "code",
   "execution_count": 2,
   "metadata": {},
   "outputs": [],
   "source": [
    "%matplotlib widget\n",
    "import matplotlib.pyplot as plt\n",
    "from ipywidgets import *\n",
    "import numpy as np\n",
    "import k3d\n",
    "import matplotlib.pyplot as plt\n",
    "from sloppy.optic import *\n",
    "from sloppy.raytracing import *\n",
    "from sloppy.abcd import *\n",
    "from sloppy.utils import *\n",
    "from sloppy.tools import *"
   ]
  },
  {
   "cell_type": "code",
   "execution_count": 4,
   "metadata": {},
   "outputs": [],
   "source": [
    "coeffc2 = lambda x: 1./(2*x)\n",
    "coeffc4 = lambda x: 1./(8*x**3)\n",
    "coeffc6 = lambda x: 1./(16*x**5)\n",
    "coeffc8 = lambda x: 5./(128*x**7)"
   ]
  },
  {
   "cell_type": "code",
   "execution_count": 12,
   "metadata": {},
   "outputs": [
    {
     "name": "stdout",
     "output_type": "stream",
     "text": [
      "[-0.99009901  0.0990099   0.0990099 ]\n"
     ]
    }
   ],
   "source": [
    "ax = norm([0.1, 0., 1.])\n",
    "ay = norm([0.1, 1., 0.])\n",
    "n = np.cross(ax, ay)\n",
    "print(n)\n",
    "p = np.array([3., 0., 0.])\n",
    "R = 5.\n",
    "coef = np.array([0., 0., coeffc2(R), 0., coeffc4(R), 0., coeffc6(R)])*-1"
   ]
  },
  {
   "cell_type": "code",
   "execution_count": 23,
   "metadata": {},
   "outputs": [],
   "source": [
    "el = FreeFormInterface(p=p, n=n, ax=ax, ay=ay, diameter=10., coef=coef, n2=1.4537)\n",
    "\n",
    "sc1 = Screen(p = (-5., 0.0, 0.0), ax=(0., 0., 1), ay=(0., -1., 0.), n=(1., 0., 0.), diameter=10.)\n",
    "sc2 = Screen(p = (15., 0.0, 0.0), ax=(0., 0., 1), ay=(0., -1., 0.), n=(1., 0., 0.), diameter=10.)\n",
    "\n",
    "sys = RaySystem([sc1, el, sc2], add_screen=False)\n",
    "\n",
    "x, y = disc_coords(R=4., n_radii=5, n_angles=3.)\n",
    "mu = np.stack([x, y, np.zeros_like(x), np.zeros_like(y)], axis=1)\n",
    "rayf = sys.elements[0].eigenvectors_to_rays(mu)"
   ]
  },
  {
   "cell_type": "code",
   "execution_count": 24,
   "metadata": {},
   "outputs": [],
   "source": [
    "traj_hit = sys.propagate(rayf, clip=False)"
   ]
  },
  {
   "cell_type": "code",
   "execution_count": 25,
   "metadata": {},
   "outputs": [
    {
     "data": {
      "application/vnd.jupyter.widget-view+json": {
       "model_id": "fff6503c687747fe9cd305bb14885cb8",
       "version_major": 2,
       "version_minor": 0
      },
      "text/plain": [
       "Output()"
      ]
     },
     "metadata": {},
     "output_type": "display_data"
    }
   ],
   "source": [
    "try:\n",
    "    plot.close()\n",
    "except:\n",
    "    pass\n",
    "plot = k3d.plot(camera_auto_fit=True, antialias=True)\n",
    "\n",
    "plot += el.plot()\n",
    "plot += sc1.plot()\n",
    "plot += sc2.plot()\n",
    "\n",
    "plot_trajs(traj_hit[1:,...], plot, shader='mesh', width=0.05, color=0xff5733)\n",
    "#plot_rays(rayf, plot)\n",
    "#plot_rays(ray1.reshape((2,1,3)), plot)\n",
    "plot.display()"
   ]
  },
  {
   "cell_type": "code",
   "execution_count": 26,
   "metadata": {},
   "outputs": [],
   "source": [
    "#el = FreeFormInterface(p=p, n=n, ax=ax, ay=ay, diameter=10., coef=coef, n2=1.4537)\n",
    "el = CurvedGlass(p=p, n=n, ax=ax, ay=ay, diameter=10., R=R, n2=1.4537, curv=\"CX\")\n",
    "\n",
    "sc1 = Screen(p = (-5., 0.0, 0.0), ax=(0., 0., 1), ay=(0., -1., 0.), n=(1., 0., 0.), diameter=10.)\n",
    "sc2 = Screen(p = (15., 0.0, 0.0), ax=(0., 0., 1), ay=(0., -1., 0.), n=(1., 0., 0.), diameter=10.)\n",
    "\n",
    "sys = RaySystem([sc1, el, sc2], add_screen=False)\n",
    "\n",
    "x, y = disc_coords(R=5., n_radii=5, n_angles=3.)\n",
    "mu = np.stack([x, y, np.zeros_like(x), np.zeros_like(y)], axis=1)\n",
    "rayf = sys.elements[0].eigenvectors_to_rays(mu)\n",
    "traj_hit = sys.propagate(rayf, clip=False)"
   ]
  },
  {
   "cell_type": "code",
   "execution_count": 27,
   "metadata": {},
   "outputs": [
    {
     "data": {
      "application/vnd.jupyter.widget-view+json": {
       "model_id": "4b4c05a146824eb5875ca3bf751e6b34",
       "version_major": 2,
       "version_minor": 0
      },
      "text/plain": [
       "Output()"
      ]
     },
     "metadata": {},
     "output_type": "display_data"
    }
   ],
   "source": [
    "#try:\n",
    "#    plot.close()\n",
    "#except:\n",
    "#    pass\n",
    "plot = k3d.plot(camera_auto_fit=True, antialias=True)\n",
    "\n",
    "plot += el.plot()\n",
    "plot += sc1.plot()\n",
    "plot += sc2.plot()\n",
    "\n",
    "plot_trajs(traj_hit[1:,...], plot, shader='mesh', width=0.05, color=0xff5733)\n",
    "#plot_rays(rayf, plot)\n",
    "#plot_rays(ray1.reshape((2,1,3)), plot)\n",
    "plot.display()"
   ]
  },
  {
   "cell_type": "code",
   "execution_count": 49,
   "metadata": {},
   "outputs": [],
   "source": [
    "R = -5.\n",
    "coef = np.array([0., 0., coeffc2(R), 0., coeffc4(R), 0., coeffc6(R)])*-1\n",
    "el1 = FreeFormInterface(p=p, n=n, ax=ax, ay=ay, diameter=10., coef=coef, n2=1.4537)\n",
    "el2 = CurvedGlass(p=p, n=n, ax=ax, ay=ay, diameter=10., R=R, n2=1.4537, curv=\"CX\")"
   ]
  },
  {
   "cell_type": "code",
   "execution_count": 50,
   "metadata": {},
   "outputs": [
    {
     "data": {
      "text/plain": [
       "array([[1.        , 0.        , 0.        , 0.        ],\n",
       "       [0.        , 1.        , 0.        , 0.        ],\n",
       "       [0.06242003, 0.        , 0.68789984, 0.        ],\n",
       "       [0.        , 0.06242003, 0.        , 0.68789984]])"
      ]
     },
     "execution_count": 50,
     "metadata": {},
     "output_type": "execute_result"
    }
   ],
   "source": [
    "el1.m"
   ]
  },
  {
   "cell_type": "code",
   "execution_count": 51,
   "metadata": {},
   "outputs": [
    {
     "data": {
      "text/plain": [
       "array([[1.        , 0.        , 0.        , 0.        ],\n",
       "       [0.        , 1.        , 0.        , 0.        ],\n",
       "       [0.06242003, 0.        , 0.68789984, 0.        ],\n",
       "       [0.        , 0.06242003, 0.        , 0.68789984]])"
      ]
     },
     "execution_count": 51,
     "metadata": {},
     "output_type": "execute_result"
    }
   ],
   "source": [
    "el2.m"
   ]
  },
  {
   "cell_type": "code",
   "execution_count": null,
   "metadata": {},
   "outputs": [],
   "source": []
  }
 ],
 "metadata": {
  "kernelspec": {
   "display_name": "Python 3",
   "language": "python",
   "name": "python3"
  },
  "language_info": {
   "codemirror_mode": {
    "name": "ipython",
    "version": 3
   },
   "file_extension": ".py",
   "mimetype": "text/x-python",
   "name": "python",
   "nbconvert_exporter": "python",
   "pygments_lexer": "ipython3",
   "version": "3.7.6"
  }
 },
 "nbformat": 4,
 "nbformat_minor": 4
}
