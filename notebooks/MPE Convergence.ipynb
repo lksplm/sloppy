{
 "cells": [
  {
   "cell_type": "code",
   "execution_count": 1,
   "metadata": {},
   "outputs": [],
   "source": [
    "%load_ext autoreload\n",
    "%autoreload 2"
   ]
  },
  {
   "cell_type": "code",
   "execution_count": 8,
   "metadata": {},
   "outputs": [],
   "source": [
    "%matplotlib widget\n",
    "import numpy as np\n",
    "import k3d\n",
    "import matplotlib.pyplot as plt\n",
    "from functools import reduce\n",
    "from raytracing import *\n",
    "from ipywidgets import *"
   ]
  },
  {
   "cell_type": "code",
   "execution_count": 9,
   "metadata": {},
   "outputs": [],
   "source": [
    "def SixMirror(dx=27.77, dy=8.0, dz=16.685, d=4.750, dzF=1.5825, Rfast=25.0, eps=np.zeros((6,5))):\n",
    "\n",
    "    p5 = np.array([0,0,0])\n",
    "    p6 = np.array([dx, dy, dzF])\n",
    "    p1 = np.array([0, dy, dzF])\n",
    "    p2 = np.array([dx, 2*dy, 0])\n",
    "    p3 = np.array([d, dy+d, dz])\n",
    "    p4 = np.array([dx-d, dy-d, dz])\n",
    "    \n",
    "    ps = np.stack([p1,p2,p3,p4,p5,p6], axis=0)\n",
    "    geom = geometry(ps)\n",
    "    ns = geom['refl']\n",
    "    ps = geom['mir']\n",
    "    #add perturbations\n",
    "    ps += eps[:,:3]\n",
    "    axx = geom['xin']\n",
    "    axy = 0.5*(geom['yin']+geom['yout'])\n",
    "    ns = [rot_vec(rot_vec(ns[i], axx[i], np.deg2rad(eps[i,3])), axy[i], np.deg2rad(eps[i,4])) for i, n in enumerate(ns)]\n",
    "    \n",
    "    hi = 12.7\n",
    "    qi=7.75\n",
    "    #reference plane is expected between first and last element!\n",
    "    elements = [CurvedMirror(p=ps[0], n=ns[0], diam=qi, R=Rfast, curv='CC'),\\\n",
    "                Mirror(p=ps[1], n=ns[1], diam=qi),\\\n",
    "                Mirror(p=ps[2], n=ns[2], diam=hi),\\\n",
    "                Mirror(p=ps[3], n=ns[3], diam=hi),\\\n",
    "                Mirror(p=ps[4], n=ns[4], diam=qi),\\\n",
    "                CurvedMirror(p=ps[5], n=ns[5], diam=qi, R=Rfast, curv='CC')]\n",
    "    return elements, geom"
   ]
  },
  {
   "cell_type": "code",
   "execution_count": 13,
   "metadata": {},
   "outputs": [],
   "source": [
    "def find_eigenray_formpe(elements, ray0, lr = 0.05, maxiter=500, tol=1e-5, Nrt=1, debug=False, clip=True):\n",
    "    rcur = ray0.copy()\n",
    "    trajs = []\n",
    "    tols = []\n",
    "    for i in range(maxiter):\n",
    "        traj = propagate_system(elements, rcur, Nrt=Nrt, clip=clip)\n",
    "        rnew = traj[-1,...]\n",
    "        if np.isnan(rnew).any():\n",
    "            if debug:\n",
    "                print(\"Failed\")\n",
    "            break\n",
    "        trajs.append(rnew)\n",
    "        res = np.max(np.abs(rcur.flatten() - rnew.flatten()))\n",
    "        #res = np.mean(np.abs(rcur.flatten() - rnew.flatten()))\n",
    "        tols.append(res)\n",
    "        rcur = (1.-lr)*rcur + lr*rnew\n",
    "        #renormalize normal vector\n",
    "        nnorm = np.linalg.norm(rcur[1,:,:], axis=-1)\n",
    "        rcur[1,:,:] *= (1/nnorm)[:,None]\n",
    "        if res<tol:\n",
    "            break\n",
    "    if debug:\n",
    "        print(\"Finished in {} steps, reached tol {:.3e}\".format(i, res))\n",
    "            \n",
    "    return rcur, np.stack(trajs, axis=0), np.array(tols)"
   ]
  },
  {
   "cell_type": "code",
   "execution_count": 14,
   "metadata": {},
   "outputs": [],
   "source": [
    "elements, geom = SixMirror()\n",
    "\n",
    "x0 = 0.5*(elements[0].p + elements[-1].p)\n",
    "n0 = norm(elements[0].p - elements[-1].p)\n",
    "rs = ray_bundle(p=x0, n=n0, n_radii=5, n_angles=2, R=0.2)\n",
    "\n",
    "screen = Screen(p=x0, n=-n0, diam=7.75)\n",
    "elements.append(screen)"
   ]
  },
  {
   "cell_type": "code",
   "execution_count": 15,
   "metadata": {},
   "outputs": [],
   "source": [
    "#r0 = x0[None,:] + np.array([[0,0.2,0], [0,0,0.2], [0,0.2,0.2], [0,-0.2,-0.2]])\n",
    "#s0 = np.broadcast_to(n0, r0.shape)\n",
    "r0, s0 = x0, norm(n0 + np.array([0,0.2,0]))\n",
    "ray0 = np.stack([np.atleast_2d(r0), np.atleast_2d(s0)], axis=0)"
   ]
  },
  {
   "cell_type": "code",
   "execution_count": 16,
   "metadata": {},
   "outputs": [
    {
     "name": "stdout",
     "output_type": "stream",
     "text": [
      "Finished in 499 steps, reached tol 5.637e-05\n"
     ]
    }
   ],
   "source": [
    "rconv, rseq, tols = find_eigenray_formpe(elements, ray0, lr=0.03, debug=True)"
   ]
  },
  {
   "cell_type": "code",
   "execution_count": 17,
   "metadata": {},
   "outputs": [
    {
     "data": {
      "application/vnd.jupyter.widget-view+json": {
       "model_id": "2712d198540249edb367e6b7b01d16df",
       "version_major": 2,
       "version_minor": 0
      },
      "text/plain": [
       "Canvas(toolbar=Toolbar(toolitems=[('Home', 'Reset original view', 'home', 'home'), ('Back', 'Back to previous …"
      ]
     },
     "metadata": {},
     "output_type": "display_data"
    }
   ],
   "source": [
    "plt.figure()\n",
    "plt.semilogy(np.arange(len(tols)), tols)\n",
    "plt.show()"
   ]
  },
  {
   "cell_type": "code",
   "execution_count": 18,
   "metadata": {},
   "outputs": [],
   "source": [
    "def MPE(x):\n",
    "    #this implementation assumes x of the form [n x k-1] where n is the spatial dimension\n",
    "    U = x[:,1:-1] - x[:,:-2]\n",
    "    c = -np.linalg.pinv(U)@(x[:,-1]-x[:,-2])\n",
    "    c = np.append(c, 1.0)\n",
    "    s = x[:,1:]@c/np.sum(c)\n",
    "    return s"
   ]
  },
  {
   "cell_type": "code",
   "execution_count": 19,
   "metadata": {},
   "outputs": [
    {
     "name": "stdout",
     "output_type": "stream",
     "text": [
      "Finished in 371 steps, reached tol 9.903e-06\n",
      "Finished in 19 steps, reached tol 1.073e-01\n",
      "Finished in 19 steps, reached tol 1.901e-02\n",
      "Finished in 19 steps, reached tol 1.986e-04\n",
      "Finished in 19 steps, reached tol 3.749e-07\n",
      "Finished in 0 steps, reached tol 3.871e-11\n"
     ]
    }
   ],
   "source": [
    "lr = 0.05\n",
    "_, _, tols = find_eigenray_formpe(elements, ray0, lr=lr, debug=True)\n",
    "rconv, allseq, alltols = find_eigenray_mpe_debug(elements, ray0, Niter=20, Nmpe=10, lr=lr)"
   ]
  },
  {
   "cell_type": "code",
   "execution_count": 20,
   "metadata": {},
   "outputs": [
    {
     "data": {
      "application/vnd.jupyter.widget-view+json": {
       "model_id": "6a1536aea5d94dc19401a40d372ef5a0",
       "version_major": 2,
       "version_minor": 0
      },
      "text/plain": [
       "Canvas(toolbar=Toolbar(toolitems=[('Home', 'Reset original view', 'home', 'home'), ('Back', 'Back to previous …"
      ]
     },
     "metadata": {},
     "output_type": "display_data"
    }
   ],
   "source": [
    "plt.figure()\n",
    "plt.semilogy(np.arange(len(tols)), tols)\n",
    "plt.semilogy(np.arange(len(alltols)), alltols)\n",
    "plt.show()"
   ]
  },
  {
   "cell_type": "code",
   "execution_count": null,
   "metadata": {},
   "outputs": [],
   "source": []
  }
 ],
 "metadata": {
  "kernelspec": {
   "display_name": "Python 3",
   "language": "python",
   "name": "python3"
  },
  "language_info": {
   "codemirror_mode": {
    "name": "ipython",
    "version": 3
   },
   "file_extension": ".py",
   "mimetype": "text/x-python",
   "name": "python",
   "nbconvert_exporter": "python",
   "pygments_lexer": "ipython3",
   "version": "3.7.6"
  }
 },
 "nbformat": 4,
 "nbformat_minor": 4
}
