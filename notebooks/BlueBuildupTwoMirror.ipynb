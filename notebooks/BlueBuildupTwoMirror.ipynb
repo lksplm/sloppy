{
 "cells": [
  {
   "cell_type": "code",
   "execution_count": 7,
   "id": "2885c2f2",
   "metadata": {},
   "outputs": [],
   "source": [
    "%matplotlib inline\n",
    "from ipywidgets import *\n",
    "import numpy as np\n",
    "import k3d\n",
    "import matplotlib.pyplot as plt\n",
    "from scipy.optimize import minimize_scalar, brentq, minimize\n",
    "from sloppy.optic import *\n",
    "from sloppy.raytracing import *\n",
    "from sloppy.abcd import *\n",
    "from sloppy.utils import *\n",
    "from sloppy.tools import *"
   ]
  },
  {
   "cell_type": "code",
   "execution_count": 8,
   "id": "41a951c5-2ef2-44f8-b47a-856ec9695254",
   "metadata": {},
   "outputs": [],
   "source": [
    "from scipy.integrate import solve_ivp"
   ]
  },
  {
   "cell_type": "code",
   "execution_count": 9,
   "id": "cf0d8183-50c9-4084-8ebd-a3d72fc61242",
   "metadata": {},
   "outputs": [],
   "source": [
    "class ThinLens(ABCD):\n",
    "    def __init__(self, f):\n",
    "        self.f = f\n",
    "        m = np.identity(4, dtype=np.float64)\n",
    "        m[2,0] = -1./f\n",
    "        m[3,1] = -1./f\n",
    "        self.m = m\n",
    "        \n",
    "class CurvedMirror(ABCD):\n",
    "    def __init__(self, R):\n",
    "        self.R = R\n",
    "        m = np.identity(4, dtype=np.float64)\n",
    "        m[2,0] = -2./R\n",
    "        m[3,1] = -2./R\n",
    "        self.m = m"
   ]
  },
  {
   "cell_type": "code",
   "execution_count": 10,
   "id": "85261c9b-7eea-43c1-87b5-fb4dee04b164",
   "metadata": {},
   "outputs": [
    {
     "data": {
      "text/plain": [
       "array([[ 1.,  0., 10.,  0.],\n",
       "       [ 0.,  1.,  0., 10.],\n",
       "       [ 0.,  0.,  1.,  0.],\n",
       "       [ 0.,  0.,  0.,  1.]])"
      ]
     },
     "execution_count": 10,
     "metadata": {},
     "output_type": "execute_result"
    }
   ],
   "source": [
    "Prop(10).m"
   ]
  },
  {
   "cell_type": "code",
   "execution_count": 40,
   "id": "b4aae110-d574-4223-b97e-ecc4f7ee5c61",
   "metadata": {},
   "outputs": [
    {
     "data": {
      "image/png": "[encoded data removed]",
      "text/plain": [
       "<Figure size 432x288 with 1 Axes>"
      ]
     },
     "metadata": {
      "needs_background": "light"
     },
     "output_type": "display_data"
    },
    {
     "name": "stdout",
     "output_type": "stream",
     "text": [
      "w_cav = 233.145 um\n"
     ]
    }
   ],
   "source": [
    "dprop = 350\n",
    "Rmirr = 500#dprop/2+0.5\n",
    "\n",
    "elemets = [Prop(dprop*0.5), CurvedMirror(Rmirr), Prop(dprop), CurvedMirror(10000),Prop(dprop*0.5)]\n",
    "abcd_cav = ABCDSystem(elemets, wl=480e-6)\n",
    "x = np.linspace(0, 2*dprop, 500)\n",
    "ws = abcd_cav.compute_waists(x)\n",
    "plt.figure()\n",
    "plt.plot(x, ws*1e3)\n",
    "plt.show()\n",
    "print(f'w_cav = {ws[0][0]*1e3:.3f} um')"
   ]
  },
  {
   "cell_type": "code",
   "execution_count": 19,
   "id": "8f217862-ee67-4f4c-9f41-09ec1ac71c5e",
   "metadata": {},
   "outputs": [
    {
     "data": {
      "text/plain": [
       "175.1"
      ]
     },
     "execution_count": 19,
     "metadata": {},
     "output_type": "execute_result"
    }
   ],
   "source": [
    "Rmirr"
   ]
  },
  {
   "cell_type": "code",
   "execution_count": 35,
   "id": "ee09ab77-3035-4cde-b270-af1dc82b7403",
   "metadata": {},
   "outputs": [],
   "source": [
    "def blue_cavity(eps = 0.0, dprop = 350.0, Rmirr = 180.0):\n",
    "    return [Prop(dprop*0.5), CurvedMirror(10000.0), Prop(dprop), CurvedMirror(Rmirr),Prop(dprop*0.5)]"
   ]
  },
  {
   "cell_type": "code",
   "execution_count": 36,
   "id": "2fb66137-21c8-49e6-8c51-57a2f3d073e1",
   "metadata": {
    "jupyter": {
     "source_hidden": true
    },
    "tags": []
   },
   "outputs": [],
   "source": [
    "def _waists_vs_param(cavfct, parname, scanrange, N=300, degmodenum=1, s=3, plot=True):\n",
    "    stab = lambda m: abs(0.5*np.trace(m))<1\n",
    "    La = inspect.signature(cavfct).parameters[parname].default\n",
    "    if isinstance(scanrange, tuple):\n",
    "        Las = np.linspace(scanrange[0], scanrange[1], N)\n",
    "    else:\n",
    "        Las = La + np.linspace(-scanrange*La, scanrange*La, N)\n",
    "    ms = np.zeros((N))\n",
    "    ws = np.zeros((N,2))\n",
    "    freqs = np.zeros((N,4))\n",
    "    for i, l in enumerate(Las):\n",
    "        pardct = {parname: l}\n",
    "        try:\n",
    "            system = ABCDSystem(cavfct(**pardct))\n",
    "            w = system.waist_at(0)\n",
    "            #if abs(w[0])*1e3 > 10:\n",
    "            #    w = w*np.nan\n",
    "        except:\n",
    "            ws[i,:] = np.nan\n",
    "            ms[i] = np.nan\n",
    "            freqs[i,...] = np.nan\n",
    "        else:\n",
    "            ms[i] = stab(system.abcd_rt)\n",
    "            ws[i,:] = np.sort(w)\n",
    "            freqs[i,...] = np.concatenate(system.get_freqs(s=s))\n",
    "\n",
    "    # find the degeneracy condition: smallest s-fold transverse mode splitting with a stable mode\n",
    "    degIdx=1+degmodenum\n",
    "    #stable_mode_mask = [all(wpair>0) for wpair in ws]\n",
    "    #subset_idx = np.argmin(np.abs(freqs[:,degIdx][stable_mode_mask]))\n",
    "    #idx = np.arange(np.abs(freqs[:,degIdx]).shape[0])[stable_mode_mask][subset_idx] \n",
    "    idx = np.argmin(np.abs(freqs[:,degIdx]))\n",
    "    if plot:\n",
    "        g, ax = plt.subplots(ncols=2, figsize=(8,4))\n",
    "        ax[0].plot(Las, ws*1e3)\n",
    "        ax[0].set_ylabel('waist [um]')\n",
    "        ax[1].plot(Las, freqs*1e-6)\n",
    "        ax[1].set_ylabel('MHz')\n",
    "        #ax[1].axhline(0, color='grey')\n",
    "        #ax[0].axvline(Las[idx], color='grey')\n",
    "        #ax[1].axvline(Las[idx], color='grey')\n",
    "        #plt.show()\n",
    "        Ldeg = Las[idx]\n",
    "        return Ldeg, ax\n",
    "    else:\n",
    "        return Las, ws"
   ]
  },
  {
   "cell_type": "code",
   "execution_count": 39,
   "id": "dfd3c9e7-fe34-4481-b68e-67454d66aeda",
   "metadata": {},
   "outputs": [
    {
     "data": {
      "image/png": "[encoded data removed]",
      "text/plain": [
       "<Figure size 576x288 with 2 Axes>"
      ]
     },
     "metadata": {
      "needs_background": "light"
     },
     "output_type": "display_data"
    }
   ],
   "source": [
    "_, ax = _waists_vs_param(blue_cavity, 'Rmirr', (260, 1000), s=1)\n",
    "ax[0].set_xlabel('R [um]')\n",
    "ax[1].set_xlabel('R [um]')\n",
    "plt.show()"
   ]
  },
  {
   "cell_type": "markdown",
   "id": "3585addd-f2fa-49ba-8fc5-1fd178a78263",
   "metadata": {},
   "source": [
    "## Mode matching"
   ]
  },
  {
   "cell_type": "code",
   "execution_count": 21,
   "id": "168e1765-89c8-4c07-80af-f0c6f22e840b",
   "metadata": {},
   "outputs": [
    {
     "data": {
      "application/vnd.jupyter.widget-view+json": {
       "model_id": "2affcd078ff94c4aa6e22044e7ed3790",
       "version_major": 2,
       "version_minor": 0
      },
      "text/plain": [
       "Canvas(toolbar=Toolbar(toolitems=[('Home', 'Reset original view', 'home', 'home'), ('Back', 'Back to previous …"
      ]
     },
     "metadata": {},
     "output_type": "display_data"
    },
    {
     "name": "stdout",
     "output_type": "stream",
     "text": [
      "w_cav = 1.875 um, w_ref = 590.812 um\n"
     ]
    }
   ],
   "source": [
    "elemets = grin_cavity_3(eps=-20*1e-3, dprop=100.0)\n",
    "abcd_cav = ABCDSystem(elemets)\n",
    "x = np.linspace(0, abcd_cav.Ltot*1.005, 5000)\n",
    "#x = np.linspace(0, 10, 500)\n",
    "ws = abcd_cav.compute_waists(x)\n",
    "# ws_ref = abcd_ref.compute_waists(x)\n",
    "plt.figure()\n",
    "plt.plot(x, ws*1e3)\n",
    "# plt.plot(x, ws_ref*1e3)\n",
    "plt.show()\n",
    "print(f'w_cav = {ws[0][0]*1e3:.3f} um, w_ref = {ws_ref[0][0]*1e3:.3f} um')"
   ]
  },
  {
   "cell_type": "code",
   "execution_count": 23,
   "id": "f8d0d8d3-f2a2-4b65-9508-10044fa5a1ff",
   "metadata": {},
   "outputs": [],
   "source": [
    "q_w = abcd_cav.q_at(0.0)"
   ]
  },
  {
   "cell_type": "code",
   "execution_count": 67,
   "id": "3fdb0cd4-3f0c-4615-bf2c-369ce7546635",
   "metadata": {},
   "outputs": [
    {
     "data": {
      "application/vnd.jupyter.widget-view+json": {
       "model_id": "0e6d065045184713964cc7e0cfdc80c4",
       "version_major": 2,
       "version_minor": 0
      },
      "text/plain": [
       "Canvas(toolbar=Toolbar(toolitems=[('Home', 'Reset original view', 'home', 'home'), ('Back', 'Back to previous …"
      ]
     },
     "metadata": {},
     "output_type": "display_data"
    }
   ],
   "source": [
    "d_im = 11 #10-2 #11.0\n",
    "f_im = 11#11.0 \n",
    "elemets_im = [Prop(d_im), ThinLens(f_im), Prop(300.0), ThinLens(500.0), Prop(500)]\n",
    "# elemets_im = [Prop(d_im), ThinLens(f_im), Prop(100.0), ThinLens(-50.0), Prop(40), ThinLens(200.0), Prop(200) ]\n",
    "abcd_im = ABCDSystem(elemets_im)\n",
    "\n",
    "x_im = np.linspace(0, abcd_im.Ltot+20, 1000)\n",
    "ws_im = abcd_im.compute_waists(x_im, qin=q_w)\n",
    "plt.figure()\n",
    "plt.plot(x_im, ws_im)\n",
    "plt.axhline(0.5)\n",
    "plt.xlabel(\"propagation distance [mm]\")\n",
    "plt.ylabel(\"beam size (radius) [mm]\")\n",
    "plt.show()"
   ]
  },
  {
   "cell_type": "code",
   "execution_count": 37,
   "id": "f0529241-efff-4466-b582-58a1a523261a",
   "metadata": {},
   "outputs": [],
   "source": [
    "plt.close()"
   ]
  },
  {
   "cell_type": "code",
   "execution_count": 115,
   "id": "1709c12c-3b7d-43d4-8455-5d5cfaf8d5c3",
   "metadata": {},
   "outputs": [],
   "source": [
    "ng = 1.517 # fused silica 1.4537\n",
    "d_mirr = 4.0\n",
    "#C240TMD-B (EFL 8.0mm)\n",
    "nl = 1.517 # BK7  \n",
    "# d_lens = 3.43\n",
    "# R_lens = 4.638124 #(https://www.thorlabs.com/newgrouppage9.cfm?objectgroup_id=3811)\n",
    "\n",
    "#C220TMD-B (EFL 11.0mm)\n",
    "# nl = 1.517 # BK7  \n",
    "# d_lens = 5.0\n",
    "# R_lens = 6.428132 #(https://www.thorlabs.com/newgrouppage9.cfm?objectgroup_id=3811)\n",
    "\n",
    "# LA4647-B\n",
    "d_lens = 4.3\n",
    "R_lens = 9.2 #https://www.thorlabs.com/newgrouppage9.cfm?objectgroup_id=6532&pn=LA4647-B#6533 \n",
    "\n",
    "d_im = 20.0-d_mirr #8.35-1.1-1 #8.35#from mirror back face to end of small optics adapter\n",
    "\n",
    "elemets_im = [ABCD(Glass(n2=ng).m), Prop(d_mirr, n=ng), ABCD(Glass(n1=ng).m), Prop(d_im),\\\n",
    "                ABCD(Glass(n2=ng).m), Prop(d_lens, n=ng),  ABCD(CurvedGlass(R=-R_lens, curv='CC', n1=ng).m),\\\n",
    "                   Prop(50.0)]\n",
    "abcd_im = ABCDSystem(elemets_im)"
   ]
  },
  {
   "cell_type": "code",
   "execution_count": null,
   "id": "3412d804-7ec4-4324-b9c5-56d1d5eb1234",
   "metadata": {},
   "outputs": [],
   "source": [
    "x_im = np.linspace(0, abcd_im.Ltot, 500)\n",
    "ws_im = abcd_im.compute_waists(x_im, qin=q_w)\n",
    "plt.figure()\n",
    "plt.plot(x_im, ws_im)\n",
    "plt.axhline(6.0)\n",
    "plt.show()"
   ]
  },
  {
   "cell_type": "code",
   "execution_count": 106,
   "id": "fa4a5c62-ea54-47ff-9fea-5555400e2645",
   "metadata": {},
   "outputs": [],
   "source": [
    "q_in = abcd_cav.q_at(abcd_cav.Ltot/2) "
   ]
  },
  {
   "cell_type": "code",
   "execution_count": 46,
   "id": "f08a180a-c8aa-4431-8c89-cec912c53dc1",
   "metadata": {},
   "outputs": [],
   "source": [
    "d_mm = 10.0-2\n",
    "f_mm = 11.0 \n",
    "elemets_mm = [Prop(d_mm), ThinLens(f_mm), Prop(100.0)]\n",
    "abcd_mm = ABCDSystem(elemets_mm)"
   ]
  },
  {
   "cell_type": "code",
   "execution_count": null,
   "id": "cf7f689a-a42c-4a9b-8aef-44ac35c8a831",
   "metadata": {},
   "outputs": [],
   "source": []
  }
 ],
 "metadata": {
  "kernelspec": {
   "display_name": "Python [conda env:.conda-sloppy]",
   "language": "python",
   "name": "conda-env-.conda-sloppy-py"
  },
  "language_info": {
   "codemirror_mode": {
    "name": "ipython",
    "version": 3
   },
   "file_extension": ".py",
   "mimetype": "text/x-python",
   "name": "python",
   "nbconvert_exporter": "python",
   "pygments_lexer": "ipython3",
   "version": "3.9.7"
  }
 },
 "nbformat": 4,
 "nbformat_minor": 5
}
