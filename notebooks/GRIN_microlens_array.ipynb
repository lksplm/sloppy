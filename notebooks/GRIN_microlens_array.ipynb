{
 "cells": [
  {
   "cell_type": "code",
   "execution_count": 1,
   "metadata": {
    "editable": true,
    "slideshow": {
     "slide_type": ""
    },
    "tags": []
   },
   "outputs": [],
   "source": [
    "%load_ext autoreload\n",
    "%autoreload 2"
   ]
  },
  {
   "cell_type": "code",
   "execution_count": 2,
   "metadata": {},
   "outputs": [],
   "source": [
    "%matplotlib widget\n",
    "import matplotlib.pyplot as plt\n",
    "from ipywidgets import *\n",
    "import numpy as np\n",
    "import k3d\n",
    "import matplotlib.pyplot as plt\n",
    "from sloppy.optic import *\n",
    "from sloppy.raytracing import *\n",
    "from sloppy.abcd import *\n",
    "from sloppy.utils import *\n",
    "from sloppy.tools import *"
   ]
  },
  {
   "cell_type": "code",
   "execution_count": 3,
   "metadata": {},
   "outputs": [],
   "source": [
    "a = 4.0\n",
    "b = 3.0\n",
    "R = 4.0\n",
    "\n",
    "x, y = -2.9, -4.1"
   ]
  },
  {
   "cell_type": "code",
   "execution_count": 4,
   "metadata": {},
   "outputs": [],
   "source": [
    "_x = np.linspace(-3*a,3*a,120)\n",
    "x, y = np.meshgrid(_x, _x, indexing='ij')"
   ]
  },
  {
   "cell_type": "code",
   "execution_count": 5,
   "metadata": {},
   "outputs": [
    {
     "data": {
      "text/plain": [
       "array([-12., -12., -12., ...,  12.,  12.,  12.])"
      ]
     },
     "execution_count": 5,
     "metadata": {},
     "output_type": "execute_result"
    }
   ],
   "source": [
    "x.flatten()"
   ]
  },
  {
   "cell_type": "code",
   "execution_count": 6,
   "metadata": {},
   "outputs": [],
   "source": [
    "x_idx = np.floor(x/a+0.5)\n",
    "x_mod = x-a*x_idx\n",
    "y_idx = np.floor(y/b+0.5)\n",
    "y_mod = y-b*y_idx\n",
    "# x_idx, x_mod = np.divmod(x-0.5*a,a)\n",
    "# y_idx, y_mod = np.divmod(y-0.5*b,b)\n",
    "\n",
    "# x_idx, x_mod"
   ]
  },
  {
   "cell_type": "code",
   "execution_count": 7,
   "metadata": {},
   "outputs": [
    {
     "data": {
      "text/plain": [
       "(array([[-3., -3., -3., ..., -3., -3., -3.],\n",
       "        [-3., -3., -3., ..., -3., -3., -3.],\n",
       "        [-3., -3., -3., ..., -3., -3., -3.],\n",
       "        ...,\n",
       "        [ 3.,  3.,  3., ...,  3.,  3.,  3.],\n",
       "        [ 3.,  3.,  3., ...,  3.,  3.,  3.],\n",
       "        [ 3.,  3.,  3., ...,  3.,  3.,  3.]]),\n",
       " array([[ 0.        ,  0.        ,  0.        , ...,  0.        ,\n",
       "          0.        ,  0.        ],\n",
       "        [ 0.20168067,  0.20168067,  0.20168067, ...,  0.20168067,\n",
       "          0.20168067,  0.20168067],\n",
       "        [ 0.40336134,  0.40336134,  0.40336134, ...,  0.40336134,\n",
       "          0.40336134,  0.40336134],\n",
       "        ...,\n",
       "        [-0.40336134, -0.40336134, -0.40336134, ..., -0.40336134,\n",
       "         -0.40336134, -0.40336134],\n",
       "        [-0.20168067, -0.20168067, -0.20168067, ..., -0.20168067,\n",
       "         -0.20168067, -0.20168067],\n",
       "        [ 0.        ,  0.        ,  0.        , ...,  0.        ,\n",
       "          0.        ,  0.        ]]))"
      ]
     },
     "execution_count": 7,
     "metadata": {},
     "output_type": "execute_result"
    }
   ],
   "source": [
    "x_idx, x_mod"
   ]
  },
  {
   "cell_type": "code",
   "execution_count": 8,
   "metadata": {},
   "outputs": [],
   "source": [
    "cpx = a*x_idx\n",
    "cpy = b*y_idx"
   ]
  },
  {
   "cell_type": "code",
   "execution_count": 9,
   "metadata": {},
   "outputs": [],
   "source": [
    "r_mod = np.sqrt(x_mod**2+y_mod**2)"
   ]
  },
  {
   "cell_type": "code",
   "execution_count": 10,
   "metadata": {},
   "outputs": [],
   "source": [
    "z = R - np.sqrt(R**2-r_mod**2)"
   ]
  },
  {
   "cell_type": "code",
   "execution_count": 11,
   "metadata": {},
   "outputs": [
    {
     "data": {
      "text/plain": [
       "[<matplotlib.lines.Line2D at 0x27f861a7950>,\n",
       " <matplotlib.lines.Line2D at 0x27f85069810>,\n",
       " <matplotlib.lines.Line2D at 0x27f850e27d0>,\n",
       " <matplotlib.lines.Line2D at 0x27f84ff0050>,\n",
       " <matplotlib.lines.Line2D at 0x27f861c85d0>,\n",
       " <matplotlib.lines.Line2D at 0x27f861c8f90>,\n",
       " <matplotlib.lines.Line2D at 0x27f861c93d0>,\n",
       " <matplotlib.lines.Line2D at 0x27f861c9450>,\n",
       " <matplotlib.lines.Line2D at 0x27f861c9950>,\n",
       " <matplotlib.lines.Line2D at 0x27f850fa650>,\n",
       " <matplotlib.lines.Line2D at 0x27f8507aa90>,\n",
       " <matplotlib.lines.Line2D at 0x27f8500b590>,\n",
       " <matplotlib.lines.Line2D at 0x27f850c28d0>,\n",
       " <matplotlib.lines.Line2D at 0x27f850c2d10>,\n",
       " <matplotlib.lines.Line2D at 0x27f85103c10>,\n",
       " <matplotlib.lines.Line2D at 0x27f861c8a90>,\n",
       " <matplotlib.lines.Line2D at 0x27f861c9c90>,\n",
       " <matplotlib.lines.Line2D at 0x27f861cbf50>,\n",
       " <matplotlib.lines.Line2D at 0x27f850d5f90>,\n",
       " <matplotlib.lines.Line2D at 0x27f861cc850>,\n",
       " <matplotlib.lines.Line2D at 0x27f861cccd0>,\n",
       " <matplotlib.lines.Line2D at 0x27f861cd150>,\n",
       " <matplotlib.lines.Line2D at 0x27f850115d0>,\n",
       " <matplotlib.lines.Line2D at 0x27f861cd5d0>,\n",
       " <matplotlib.lines.Line2D at 0x27f861cda90>,\n",
       " <matplotlib.lines.Line2D at 0x27f85036e10>,\n",
       " <matplotlib.lines.Line2D at 0x27f85087390>,\n",
       " <matplotlib.lines.Line2D at 0x27fffa66d50>,\n",
       " <matplotlib.lines.Line2D at 0x27f861ce3d0>,\n",
       " <matplotlib.lines.Line2D at 0x27fffa66510>,\n",
       " <matplotlib.lines.Line2D at 0x27f861ce890>,\n",
       " <matplotlib.lines.Line2D at 0x27f861cfa50>,\n",
       " <matplotlib.lines.Line2D at 0x27f850c1fd0>,\n",
       " <matplotlib.lines.Line2D at 0x27f861d87d0>,\n",
       " <matplotlib.lines.Line2D at 0x27f850c0e90>,\n",
       " <matplotlib.lines.Line2D at 0x27f84ff1a50>,\n",
       " <matplotlib.lines.Line2D at 0x27f861d8c10>,\n",
       " <matplotlib.lines.Line2D at 0x27f861d9090>,\n",
       " <matplotlib.lines.Line2D at 0x27f850fa790>,\n",
       " <matplotlib.lines.Line2D at 0x27f85102c10>,\n",
       " <matplotlib.lines.Line2D at 0x27f85103050>,\n",
       " <matplotlib.lines.Line2D at 0x27f850f3c50>,\n",
       " <matplotlib.lines.Line2D at 0x27f850c2350>,\n",
       " <matplotlib.lines.Line2D at 0x27f8507bd50>,\n",
       " <matplotlib.lines.Line2D at 0x27f861d9dd0>,\n",
       " <matplotlib.lines.Line2D at 0x27f861da250>,\n",
       " <matplotlib.lines.Line2D at 0x27f850c2850>,\n",
       " <matplotlib.lines.Line2D at 0x27f850f8b50>,\n",
       " <matplotlib.lines.Line2D at 0x27f85068fd0>,\n",
       " <matplotlib.lines.Line2D at 0x27f850f9890>,\n",
       " <matplotlib.lines.Line2D at 0x27f861e0590>,\n",
       " <matplotlib.lines.Line2D at 0x27f861e1310>,\n",
       " <matplotlib.lines.Line2D at 0x27f84f0a590>,\n",
       " <matplotlib.lines.Line2D at 0x27f850e3290>,\n",
       " <matplotlib.lines.Line2D at 0x27f84f2b610>,\n",
       " <matplotlib.lines.Line2D at 0x27f861e1bd0>,\n",
       " <matplotlib.lines.Line2D at 0x27f861cb790>,\n",
       " <matplotlib.lines.Line2D at 0x27f861e2110>,\n",
       " <matplotlib.lines.Line2D at 0x27f861cc090>,\n",
       " <matplotlib.lines.Line2D at 0x27f861e3210>,\n",
       " <matplotlib.lines.Line2D at 0x27f861e3ad0>,\n",
       " <matplotlib.lines.Line2D at 0x27f861cc510>,\n",
       " <matplotlib.lines.Line2D at 0x27f861cc950>,\n",
       " <matplotlib.lines.Line2D at 0x27f861ccdd0>,\n",
       " <matplotlib.lines.Line2D at 0x27f861cd6d0>,\n",
       " <matplotlib.lines.Line2D at 0x27f861e5110>,\n",
       " <matplotlib.lines.Line2D at 0x27f861e5a50>,\n",
       " <matplotlib.lines.Line2D at 0x27f861e5f10>,\n",
       " <matplotlib.lines.Line2D at 0x27f861cee10>,\n",
       " <matplotlib.lines.Line2D at 0x27f861cf250>,\n",
       " <matplotlib.lines.Line2D at 0x27f85037690>,\n",
       " <matplotlib.lines.Line2D at 0x27f84f5e190>,\n",
       " <matplotlib.lines.Line2D at 0x27f861cff90>,\n",
       " <matplotlib.lines.Line2D at 0x27f861e6390>,\n",
       " <matplotlib.lines.Line2D at 0x27f861e6850>,\n",
       " <matplotlib.lines.Line2D at 0x27f8505c450>,\n",
       " <matplotlib.lines.Line2D at 0x27f8505cd50>,\n",
       " <matplotlib.lines.Line2D at 0x27f84ff51d0>,\n",
       " <matplotlib.lines.Line2D at 0x27f861ec790>,\n",
       " <matplotlib.lines.Line2D at 0x27f861ed550>,\n",
       " <matplotlib.lines.Line2D at 0x27f861eda10>,\n",
       " <matplotlib.lines.Line2D at 0x27f861ede90>,\n",
       " <matplotlib.lines.Line2D at 0x27f861ee310>,\n",
       " <matplotlib.lines.Line2D at 0x27f850d6a90>,\n",
       " <matplotlib.lines.Line2D at 0x27f861e7690>,\n",
       " <matplotlib.lines.Line2D at 0x27f861ee7d0>,\n",
       " <matplotlib.lines.Line2D at 0x27f861eec50>,\n",
       " <matplotlib.lines.Line2D at 0x27f861ef9d0>,\n",
       " <matplotlib.lines.Line2D at 0x27f861efe50>,\n",
       " <matplotlib.lines.Line2D at 0x27f84f28410>,\n",
       " <matplotlib.lines.Line2D at 0x27f861d8d10>,\n",
       " <matplotlib.lines.Line2D at 0x27f84f29150>,\n",
       " <matplotlib.lines.Line2D at 0x27f850c0e50>,\n",
       " <matplotlib.lines.Line2D at 0x27f861f0790>,\n",
       " <matplotlib.lines.Line2D at 0x27f8506a310>,\n",
       " <matplotlib.lines.Line2D at 0x27f861da790>,\n",
       " <matplotlib.lines.Line2D at 0x27f861f1910>,\n",
       " <matplotlib.lines.Line2D at 0x27f861db050>,\n",
       " <matplotlib.lines.Line2D at 0x27f861db490>,\n",
       " <matplotlib.lines.Line2D at 0x27f861db8d0>,\n",
       " <matplotlib.lines.Line2D at 0x27f861f1d90>,\n",
       " <matplotlib.lines.Line2D at 0x27f861f2ad0>,\n",
       " <matplotlib.lines.Line2D at 0x27f861f3c10>,\n",
       " <matplotlib.lines.Line2D at 0x27f84f29dd0>,\n",
       " <matplotlib.lines.Line2D at 0x27f850c1210>,\n",
       " <matplotlib.lines.Line2D at 0x27f861f80d0>,\n",
       " <matplotlib.lines.Line2D at 0x27f861f8dd0>,\n",
       " <matplotlib.lines.Line2D at 0x27f861f9250>,\n",
       " <matplotlib.lines.Line2D at 0x27f861f96d0>,\n",
       " <matplotlib.lines.Line2D at 0x27f861f9b90>,\n",
       " <matplotlib.lines.Line2D at 0x27f861fa110>,\n",
       " <matplotlib.lines.Line2D at 0x27f850c35d0>,\n",
       " <matplotlib.lines.Line2D at 0x27f861fa450>,\n",
       " <matplotlib.lines.Line2D at 0x27f861fa8d0>,\n",
       " <matplotlib.lines.Line2D at 0x27f861fb190>,\n",
       " <matplotlib.lines.Line2D at 0x27f861fb610>,\n",
       " <matplotlib.lines.Line2D at 0x27f861fba90>,\n",
       " <matplotlib.lines.Line2D at 0x27f861fbf50>,\n",
       " <matplotlib.lines.Line2D at 0x27f850c2d50>,\n",
       " <matplotlib.lines.Line2D at 0x27f86200890>]"
      ]
     },
     "execution_count": 11,
     "metadata": {},
     "output_type": "execute_result"
    },
    {
     "data": {
      "application/vnd.jupyter.widget-view+json": {
       "model_id": "a9f22f0a17064806ad25da609339c6bf",
       "version_major": 2,
       "version_minor": 0
      },
      "image/png": "[encoded data removed]",
      "text/html": [
       "\n",
       "            <div style=\"display: inline-block;\">\n",
       "                <div class=\"jupyter-widgets widget-label\" style=\"text-align: center;\">\n",
       "                    Figure\n",
       "                </div>\n",
       "                <img src='data:image/png;base64,iVBORw0KGgoAAAANSUhEUgAAAoAAAAHgCAYAAAA10dzkAAAAOXRFWHRTb2Z0d2FyZQBNYXRwbG90bGliIHZlcnNpb24zLjcuMiwgaHR0cHM6Ly9tYXRwbG90bGliLm9yZy8pXeV/AAAACXBIWXMAAA9hAAAPYQGoP6dpAAAkS0lEQVR4nO3da4xd9X03+u82xsPN3lwc2R5hLmroBUKhgOqARCFSA+IQ59I6hHKEnBdFpREKhiKKRR/Z5olxCX3SSKU0ShM1ydHzNEwdJUc5TcVFRdAoQACBFKG8AMWKacBFxmTGQc0Yxvu82J7BYw/GjMezPOv3+UhbM7P3nuH3HW3W/s76r7Xc6fV6vQAAUMa8pgcAAGB2KYAAAMUogAAAxSiAAADFKIAAAMUogAAAxSiAAADFKIAAAMUogAAAxSiAAADFKIAAAMUogAAAxSiAAADFKIAAAMUogAAAxSiAAADFKIAAAMUogAAAxSiAAADFKIAAAMUogAAAxSiAAADFKIAAAMUogAAAxSiAAADFKIAAAMUogAAAxSiAAADFKIAAAMUogAAAxSiAAADFKIAAAMUogAAAxSiAAADFKIAAAMUogAAAxSiAAADFKIAAAMUogAAAxSiAAADFKIAAAMUogAAAxSiAAADFKIAAAMUogAAAxSiAAADFKIAAAMUogAAAxSiAAADFKIAAAMUogAAAxSiAAADFKIAAAMUogAAAxSiAAADFKIAAAMXMb3oA5qbdu3fnlVdeycKFC9PpdJoeB4D3qdfrZefOnRkcHMy8efYHVaMAMi2vvPJKli9f3vQYAByil19+OaeeemrTYzDLFECmZeHChUmSl5Ms2uv+sSTX5P80MdJhMZTrctRBPK9NuStmTuR+L23KXTFzsn/ukSTL8872nFo6vV6v1/QQzD0jIyPpdrsZTr8Ajr+I/keuzsb8fw1ONrOG0smqPZ9PtdA9nntzkmvSjv+VKmZO5E7q5K6YOUnuzMfyP/OvSfq5R5J0kwwPD2fRokUH+lZaSAFkWvYugON/O+5OMr9FG8txb6czcbbU3m8W40nbmLti5kTupE7uipmTybl3RgGszFGfzIi2biyTfq7d7/JYW3NXzJzIPZW25q6YOTlwbmpRADkkY+kv+7Z1YzlufnrZnH7e3Xs+bk573ySSmpkTuSvlrpg56ef7H7k6Y00PQqMsATMt40vAmTgKEIC5pX8UoCXgmuwBBAAoRgEEAChGAQQAKEYBBAAoRgEEAChGAQQAKEYBBAAoRgEEAChGAQQAKEYBBAAoRgEEAChGAQQAKEYBBAAoRgEEAChGAQQAKEYBBAAoRgEEAChGAQQAKEYBBAAoRgFsoccffzwrV67M4OBgOp1Ovve97016vNfrZf369RkcHMyxxx6byy+/PC+88EIzwwIAs04BbKE333wz5513Xu67774pH//iF7+YL33pS7nvvvvy9NNPZ+nSpfnoRz+anTt3zvKkAEATOr1er9f0EBw+nU4n3/3ud/PJT34ySX/v3+DgYNasWZO//Mu/TJKMjo5myZIlueeee/Jnf/ZnB/VzR0ZG0u12kwwnWXR4hgfgMBpJ0s3w8HAWLbIdr8YewGK2bNmSbdu25Yorrpi4b2BgIJdddll+9KMfvev3jY6OZmRkZNINAJibFMBitm3bliRZsmTJpPuXLFky8dhUNm3alG63O3Fbvnz5YZ0TADh8FMCiOp3OpK97vd5+9+1t7dq1GR4enri9/PLLh3tEAOAwmd/0AMyupUuXJunvCVy2bNnE/a+99tp+ewX3NjAwkIGBgcM+HwBw+NkDWMyZZ56ZpUuX5uGHH564b9euXXnsscdyySWXNDgZADBb7AFsoV/96ld56aWXJr7esmVLnn/++Zx88sk57bTTsmbNmtx9990566yzctZZZ+Xuu+/Occcdl+uuu67BqQGA2aIAttAzzzyTj3zkIxNf33rrrUmS1atX5xvf+EZuv/32/Pd//3c+97nP5Y033siKFSvy0EMPZeHChU2NDADMItcBZFpcBxBgrnMdwMocAwgAUIwCCABQjAIIAFCMAggAUIwCyCHZkW6GsqDpMWbFUDp5O52M7fk4lHf/l1PaomLmRO5KuStmTpKhLMiOdJsegwY5C5hpGT8LeDjJwiS7k8xPe19Kb6eTecmkt4Ze2p27YuZE7kq5K2ZO3sm9M0k3cRZwUfYAMiPmpb9RaaPxjeVU2pq7YuZE7qm0NXfFzMmBc1OLC0FzyDrp/9U8L8kj6eTBrGt4opmzMhsmNpb7vh3snfvxdPL9luSumDmRO6mTu2LmJLnyALmpxxIw07L3ErCFA4C5p38ZaEvAVdkTDABQjCVgZtRYkrUtWjLZlA056iCe16bcFTMncr+XNuWumDk5+NzUYAmYadl3CXj8RbQ5R+ea7Gpwspk1lE5W7fl8qmNm3smdXNOSswYrZk7kTurkrpg56V/6ZVXeStLPbQm4NgWQadn3MjBJey+dsPdZc/teLiJpZ+6KmRO5kzq5K2ZOJud2GZjaHAPIjGjrxjLp59r9Lo+1NXfFzIncU2lr7oqZkwPnphYFkEMylv6yb1s3luPmp5fN6efdnfHc7X2TSGpmTuSulLti5mQ899EZa3oQGmUJmGkZXwKOC8EAzFH9owAtAddkDyAAQDEKIABAMQogAEAxCiAAQDEKIABAMQogAEAxCiAAQDEKIABAMQogAEAxCiAAQDEKIABAMQogAEAxCiAAQDEKIABAMQogAEAxCiAAQDEKIABAMQogAEAxCiAAQDEKIABAMQogAEAxCiAAQDEKIABAMQogAEAxCiAAQDEKIABAMQogAEAxCiAAQDEKIABAMQogAEAxCiAAQDEKIABAMQogAEAxCiAAQDEKIIdkR7oZyoKmx5gVQ+nk7XQytufjUDpNj3TYVcycyF0pd8XMSTKUBdmRbtNj0KBOr9frNT0Ec8/IyEi63W6GkyxMsjvJ/LT3pfR2OpmXTHpr6KXduStmTuSulLti5uSd3DuTdJMMDw9n0aJFDU/FbLMHkBkxL/2NShuNbyyn0tbcFTMnck+lrbkrZk4OnJta5jc9AHNfJ/2/mucleSSdPJh1DU80c1Zmw8TGct+3g71zP55Ovt+S3BUzJ3IndXJXzJwkVx4gN/VYAmZa9l4CtnAAMPeMxBJwZfYEAwAUYwmYGTWWZG2Llkw2ZUOOOojntSl3xcyJ3O+lTbkrZk4OPjc1WAJmWvZdAh5/EW3O0bkmuxqcbGYNpZNVez6f6piZd3In17TkrMGKmRO5kzq5K2ZO+pd+WZW3kvRzWwKuTQFkWva9DEzS3ksn7H3W3L6Xi0jambti5kTupE7uipmTybldBqY2xwAyI9q6sUz6uXa/y2NtzV0xcyL3VNqau2Lm5MC5qUUB5JCMpb/s29aN5bj56WVz+nl3Zzx3e98kkpqZE7kr5a6YORnPfXTGmh6ERlkCZlrGl4DjQjAAc1T/KEBLwDXZAwgAUIwCCABQjAIIAFCMAggAUIwCWNT69evT6XQm3ZYuXdr0WADALPBPwRV2zjnn5JFHHpn4+qij/CNBAFCBAljY/Pnz7fUDgIIsARf24osvZnBwMGeeeWauvfba/OxnP3vX546OjmZkZGTSDQCYmxTAolasWJFvfetbefDBB/OP//iP2bZtWy655JK8/vrrUz5/06ZN6Xa7E7fly5fP8sQAwEzxL4GQJHnzzTfzG7/xG7n99ttz66237vf46OhoRkdHJ74eGRnZUwL9SyAAc5N/CaQyxwCSJDn++ONz7rnn5sUXX5zy8YGBgQwMDMzyVADA4WAJmCT9PXw//elPs2zZsqZHAQAOMwWwqNtuuy2PPfZYtmzZkqeeeiqrVq3KyMhIVq9e3fRoAMBhZgm4qP/8z//Mn/zJn2T79u35wAc+kA9/+MN58sknc/rppzc9GgBwmDkJhGkZGRlJt9uNk0AA5iongVRmCRgAoBgFEACgGAUQAKAYBRAAoBgFEACgGAUQAKAYBRAAoBgFEACgGAUQAKAYBRAAoBgFEACgGAUQAKAYBRAAoBgFEACgGAUQAKAYBRAAoBgFEACgGAUQAKAYBRAAoBgFkEOyI90MZUHTY8yKoXTydjoZ2/NxKJ2mRzrsKmZO5K6Uu2LmJBnKguxIt+kxaFCn1+v1mh6CuWdkZCTdbjfDSRYm2Z1kftr7Uno7ncxLJr019NLu3BUzJ3JXyl0xc/JO7p1JukmGh4ezaNGihqdittkDyIyYl/5GpY3GN5ZTaWvuipkTuafS1twVMycHzk0t85segLmvk/5fzfOSPJJOHsy6hieaOSuzYWJjue/bwd65H08n329J7oqZE7mTOrkrZk6SKw+Qm3osATMtey8BWzgAmHtGYgm4MnuCAQCKsQTMjBpLsrZFSyabsiFHHcTz2pS7YuZE7vfSptwVMycHn5saLAEzLfsuAY+/iDbn6FyTXQ1ONrOG0smqPZ9PdczMO7mTa1py1mDFzIncSZ3cFTMn/Uu/rMpbSfq5LQHXpgAyLfteBiZp76UT9j5rbt/LRSTtzF0xcyJ3Uid3xczJ5NwuA1ObYwCZEW3dWCb9XLvf5bG25q6YOZF7Km3NXTFzcuDc1KIAckjG0l/2bevGctz89LI5/by7M567vW8SSc3MidyVclfMnIznPjpjTQ9CoywBMy3jS8BxIRiAOap/FKAl4JrsAQQAKEYBBAAoRgEEAChGAQQAKEYBBAAoRgEEAChGAQQAKEYBBAAoRgEEAChGAQQAKEYBBAAoRgEEAChGAQQAKEYBBAAoRgEEAChGAQQAKEYBBAAoRgEEAChGAQQAKEYBBAAoRgEEAChGAQQAKEYBBAAoRgEEAChGAQQAKEYBBAAoRgEEAChGAQQAKEYBBAAoRgEEAChGAQQAKEYBBAAoRgEEAChGAQQAKEYB5JDsSDdDObHpMWbFUDp5O52M7fk4lE7TIx12FTMnclfKXTFzkgzlxOxIt+kxaFCn1+v1mh6CZtx///2599578+qrr+acc87Jl7/85Vx66aUH9b0jIyPpdrsZTrIwye4k89Pel9Lb6WReMumtoZd2566YOZG7Uu6KmZN3cu9M0k0yPDycRYsWNTwVs80ewKIeeOCBrFmzJnfeeWeee+65XHrppbnqqquydevWaf28eelvVNpofGM5lbbmrpg5kXsqbc1dMXNy4NzUYg9gUStWrMgFF1yQf/iHf5i473d+53fyyU9+Mps2bXrP7997D+CiZOJv5YeT/CAbD8fIjfhU7swf7Pl8qreD8dyPJ/luS3JXzJzIndTJXTFzkvxfuTMf3fN5J8lI7AGsTAEsaNeuXTnuuOPyL//yL/nUpz41cf/NN9+c559/Po899th+3zM6OprR0dGJr0dGRrJ8+fKJAgjA3KIA1mZPcEHbt2/P2NhYlixZMun+JUuWZNu2bVN+z6ZNm9Ltdiduy5cvn41RAYDDYH7TA9CcTmfy4kev19vvvnFr167NrbfeOvH1+B7AfY0l+YsWLZn8r9yZow7ieW3KXTFzIvd7aVPuipmTg89NDZaAC5rOEvC+3u0YwM3p5pr88nCM3YihdLJqz+cHOlZoc5JrWnLWYMXMidxJndwVMyf9S7+synASxwCiAJa1YsWKXHjhhbn//vsn7jv77LPziU984n2fBLJwz31tvXTC3mfN7Xu5iKSduStmTuRO6uSumDmZnNtlYGqzBFzUrbfemuuvvz4XXXRRLr744nz1q1/N1q1bc+ONN07r57V1Y5n0c73bpRPamrti5kTuSrkrZk4OnJtavAaK+sxnPpMvf/nLueuuu3L++efn8ccfzw9+8IOcfvrp7+vnjKW/7NvWjeW4+ellc/p5d2c8d3vfJJKamRO5K+WumDkZz93NWNOD0ChLwEzL+BJwXAgGYI7qHwVoCbgmewABAIpRAAEAilEAAQCKUQABAIpRAAEAilEAAQCKUQABAIpRAAEAilEAAQCKUQABAIpRAAEAilEAAQCKUQABAIpRAAEAilEAAQCKUQABAIpRAAEAilEAAQCKUQABAIpRAAEAilEAAQCKUQABAIpRAAEAilEAAQCKUQABAIpRAAEAilEAAQCKUQABAIpRAAEAilEAAQCKUQABAIpRAAEAilEAAQCKUQABAIpRAAEAilEAOSQ70s1QFjQ9xqwYSidvp5OxPR+H0ml6pMOuYuZE7kq5K2ZOkqEsyI50mx6DBnV6vV6v6SGYe0ZGRtLtdjOcZGGS3Unmp70vpbfTybxk0ltDL+3OXTFzInel3BUzJ+/k3pmkm2R4eDiLFi1qeCpmmz2AzIh56W9U2mh8YzmVtuaumDmReyptzV0xc3Lg3NQyv+kBmPs66f/VPC/JI+nkwaxreKKZszIbJjaW+74d7J378XTy/Zbkrpg5kTupk7ti5iS58gC5qccSMNOy9xKwhQOAuWckloArsycYAKAYS8DMqLEka1u0ZLIpG3LUQTyvTbkrZk7kfi9tyl0xc3LwuanBEjDTsu8S8PiLaHOOzjXZ1eBkM2sonaza8/lUx8y8kzu5piVnDVbMnMid1MldMXPSv/TLqryVpJ/bEnBtCiDTsu9lYJL2Xjph77Pm9r1cRNLO3BUzJ3IndXJXzJxMzu0yMLU5BpAZ0daNZdLPtftdHmtr7oqZE7mn0tbcFTMnB85NLQogh2Qs/WXftm4sx81PL5vTz7s747nb+yaR1MycyF0pd8XMyXjuozPW9CA0yhIw0zK+BBwXggGYo/pHAVoCrskeQACAYhRAAIBiFEAAgGIUQACAYhRAAIBiFEAAgGIUQACAYhRAAIBiFEAAgGIUQACAYhRAAIBiFEAAgGIUQACAYhRAAIBiFEAAgGIUQACAYhRAAIBiFEAAgGIUQACAYhTAgs4444x0Op1JtzvuuKPpsQCAWTK/6QFoxl133ZUbbrhh4usTTjihwWkAgNmkABa1cOHCLF26tOkxAIAGWAIu6p577skpp5yS888/Pxs3bsyuXbsO+PzR0dGMjIxMugEAc5M9gAXdfPPNueCCC3LSSSflxz/+cdauXZstW7bka1/72rt+z6ZNm7Jhw4ZZnBIAOFw6vV6v1/QQHLr169e/Z0F7+umnc9FFF+13/3e+852sWrUq27dvzymnnDLl946OjmZ0dHTi65GRkSxfvjzJcJJFhzI6AI0YSdLN8PBwFi2yHa9GAWyJ7du3Z/v27Qd8zhlnnJFjjjlmv/t/8Ytf5NRTT82TTz6ZFStWHNR/b2RkJN1uNwogwFylAFZmCbglFi9enMWLF0/re5977rkkybJly2ZyJADgCKUAFvPEE0/kySefzEc+8pF0u908/fTTueWWW/Lxj388p512WtPjAQCzQAEsZmBgIA888EA2bNiQ0dHRnH766bnhhhty++23Nz0aADBLHAPItDgGEGCucwxgZa4DCABQjAIIAFCMAggAUIwCCABQjALIIdmRboayoOkxZsVQOnk7nYzt+TiUTtMjHXYVMydyV8pdMXOSDGVBdqTb9Bg0yFnATMv4WcDDSRYm2Z1kftr7Uno7ncxLJr019NLu3BUzJ3JXyl0xc/JO7p1JuomzgIuyB5AZMS/9jUobjW8sp9LW3BUzJ3JPpa25K2ZODpybWlwImkPWSf+v5nlJHkknD2ZdwxPNnJXZMLGx3PftYO/cj6eT77ckd8XMidxJndwVMyfJlQfITT2WgJmWvZeALRwAzD39y0BbAq7KnmAAgGIsATOjxpKsbdGSyaZsyFEH8bw25a6YOZH7vbQpd8XMycHnpgZLwEzLvkvA4y+izTk612RXg5PNrKF0smrP51MdM/NO7uSalpw1WDFzIndSJ3fFzEn/0i+r8laSfm5LwLUpgEzLvpeBSdp76YS9z5rb93IRSTtzV8ycyJ3UyV0xczI5t8vA1OYYQGZEWzeWST/X7nd5rK25K2ZO5J5KW3NXzJwcODe1KIAckrH0l33burEcNz+9bE4/7+6M527vm0RSM3Mid6XcFTMn47mPzljTg9AoS8BMy/gScFwIBmCO6h8FaAm4JnsAAQCKUQABAIpRAAEAilEAAQCKUQABAIpRAAEAilEAAQCKUQABAIpRAAEAilEAAQCKUQABAIpRAAEAilEAAQCKUQABAIpRAAEAilEAAQCKUQABAIpRAAEAilEAAQCKUQABAIpRAAEAilEAAQCKUQABAIpRAAEAilEAAQCKUQABAIpRAAEAilEAAQCKUQABAIpRAAEAilEAAQCKUQABAIpRAAEAilEAAQCKUQA5JDvSzVAWND3GrBhKJ2+nk7E9H4fSaXqkw65i5kTuSrkrZk6SoSzIjnSbHoMGdXq9Xq/pIZh7RkZG0u12M5xkYZLdSeanvS+lt9PJvGTSW0Mv7c5dMXMid6XcFTMn7+TemaSbZHh4OIsWLWp4KmabPYDMiHnpb1TaaHxjOZW25q6YOZF7Km3NXTFzcuDc1DK/6QGY+zrp/9U8L8kj6eTBrGt4opmzMhsmNpb7vh3snfvxdPL9luSumDmRO6mTu2LmJLnyALmpxxIw07L3ErCFA4C5ZySWgCuzJxgAoBhLwMyosSRrW7RksikbctRBPK9NuStmTuR+L23KXTFzcvC5qcESMNOy7xLw+Itoc47ONdnV4GQzayidrNrz+VTHzLyTO7mmJWcNVsycyJ3UyV0xc9K/9MuqvJWkn9sScG0KINOy72VgkvZeOmHvs+b2vVxE0s7cFTMncid1clfMnEzO7TIwtTkGkBnR1o1l0s+1+10ea2vuipkTuafS1twVMycHzk0tCiCHZCz9Zd+2bizHzU8vm9PPuzvjudv7JpHUzJzIXSl3xczJeO6jM9b0IDTKEjDTMr4EHBeCAZij+kcBWgKuyR5AAIBiFEAAgGIUQACAYhRAAIBiFMAW2rhxYy655JIcd9xxOfHEE6d8ztatW7Ny5cocf/zxWbx4cT7/+c9n1672XMAZAHh3/im4Ftq1a1c+/elP5+KLL87Xv/71/R4fGxvL1VdfnQ984AP54Q9/mNdffz2rV69Or9fL3/3d3zUwMQAwm1wGpsW+8Y1vZM2aNfnlL3856f5/+7d/y8c+9rG8/PLLGRwcTJJ8+9vfzmc/+9m89tprB3U5AJeBAZjrXAamMkvABT3xxBP50Ic+NFH+kuTKK6/M6Ohonn322Sm/Z3R0NCMjI5NuAMDcpAAWtG3btixZsmTSfSeddFIWLFiQbdu2Tfk9mzZtSrfbnbgtX758NkYFAA4DBXCOWL9+fTqdzgFvzzzzzEH/vE6ns999vV5vyvuTZO3atRkeHp64vfzyy9POAgA0y0kgc8RNN92Ua6+99oDPOeOMMw7qZy1dujRPPfXUpPveeOONvPXWW/vtGRw3MDCQgYGBg/r5AMCRTQGcIxYvXpzFixfPyM+6+OKLs3Hjxrz66qtZtmxZkuShhx7KwMBALrzwwhn5bwAARy4FsIW2bt2aHTt2ZOvWrRkbG8vzzz+fJPngBz+YE044IVdccUXOPvvsXH/99bn33nuzY8eO3HbbbbnhhhucCQYABbgMTAt99rOfzTe/+c397n/00Udz+eWXJ+mXxM997nP593//9xx77LG57rrr8jd/8zcHvczrMjAAc53LwFSmADItCiDAXKcAVuYsYACAYhRAAIBiFEAAgGIUQACAYhRAAIBiFEAAgGIUQACAYhRAAIBiFEAAgGIUQACAYhRAAIBiFEAAgGIUQACAYhRAAIBiFEAAgGIUQACAYhRAAIBiFEAAgGIUQACAYhRADsmOdHNnPtb0GLNiKJ28nU7G9nwcSqfpkQ67ipkTuSvlrpg5Se7Mx7Ij3abHoEGdXq/Xa3oI5p6RkZF0u90MJ1mYZHeS+WnvS+ntdDIvmfTW0Eu7c1fMnMhdKXfFzMk7uXcm6SYZHh7OokWLGp6K2WYPIDNiXvoblTYa31hOpa25K2ZO5J5KW3NXzJwcODe1zG96AOa+Tvp/Nc9L8v/kgvzvrGt4opnz5/nkxMZy37eDvXP/v+nkH/K92RztsKmYOZE7qZO7YuYk+b+z4V1zU48lYKZleHg4J554Yl5OYuEAYO4ZSbI8yS9/+ct0u44HrMYeQKZl586dSfobDwDmrp07dyqABdkDyLTs3r07r7zyShYuXJhOZ3YXE0ZGRrJ8+fK8/PLLDlw+SH5n75/f2fvnd/b+Nfk76/V62blzZwYHBzNvniMDq7EHkGmZN29eTj311EZnWLRokTeZ98nv7P3zO3v//M7ev6Z+Z/b81aXyAwAUowACABSjADLnDAwMZN26dRkYGGh6lDnD7+z98zt7//zO3j+/M5riJBAAgGLsAQQAKEYBBAAoRgEEAChGAQQAKEYBZE7ZuHFjLrnkkhx33HE58cQTp3zO1q1bs3Llyhx//PFZvHhxPv/5z2fXrl2zO+gR7Iwzzkin05l0u+OOO5oe64hy//3358wzz8wxxxyTCy+8MP/xH//R9EhHtPXr1+/3mlq6dGnTYx1RHn/88axcuTKDg4PpdDr53ve+N+nxXq+X9evXZ3BwMMcee2wuv/zyvPDCC80MSwkKIHPKrl278ulPfzp//ud/PuXjY2Njufrqq/Pmm2/mhz/8Yb797W/nO9/5Tv7iL/5ilic9st1111159dVXJ25/9Vd/1fRIR4wHHngga9asyZ133pnnnnsul156aa666qps3bq16dGOaOecc86k19RPfvKTpkc6orz55ps577zzct999035+Be/+MV86Utfyn333Zenn346S5cuzUc/+tGJf3cdZlwP5qB/+qd/6nW73f3u/8EPftCbN29e7xe/+MXEff/8z//cGxgY6A0PD8/ihEeu008/vfe3f/u3TY9xxPr93//93o033jjpvt/+7d/u3XHHHQ1NdORbt25d77zzzmt6jDkjSe+73/3uxNe7d+/uLV26tPfXf/3XE/f9+te/7nW73d5XvvKVBiakAnsAaZUnnngiH/rQhzI4ODhx35VXXpnR0dE8++yzDU52ZLnnnntyyimn5Pzzz8/GjRstke+xa9euPPvss7niiism3X/FFVfkRz/6UUNTzQ0vvvhiBgcHc+aZZ+baa6/Nz372s6ZHmjO2bNmSbdu2TXrdDQwM5LLLLvO647CZ3/QAMJO2bduWJUuWTLrvpJNOyoIFC7Jt27aGpjqy3Hzzzbngggty0kkn5cc//nHWrl2bLVu25Gtf+1rTozVu+/btGRsb2+81tGTJEq+fA1ixYkW+9a1v5Td/8zfzX//1X/nCF76QSy65JC+88EJOOeWUpsc74o2/tqZ63f385z9vYiQKsAeQxk11APm+t2eeeeagf16n09nvvl6vN+X9bfF+foe33HJLLrvssvzu7/5u/vRP/zRf+cpX8vWvfz2vv/56wymOHPu+Vtr++jlUV111Vf74j/845557bv7wD/8w//qv/5ok+eY3v9nwZHOL1x2zyR5AGnfTTTfl2muvPeBzzjjjjIP6WUuXLs1TTz016b433ngjb7311n5/XbfJofwOP/zhDydJXnrppfJ7axYvXpyjjjpqv719r732WqtfPzPt+OOPz7nnnpsXX3yx6VHmhPEzprdt25Zly5ZN3O91x+GkANK4xYsXZ/HixTPysy6++OJs3Lgxr7766sSG9KGHHsrAwEAuvPDCGflvHIkO5Xf43HPPJcmkN56qFixYkAsvvDAPP/xwPvWpT03c//DDD+cTn/hEg5PNLaOjo/npT3+aSy+9tOlR5oQzzzwzS5cuzcMPP5zf+73fS9I/HvWxxx7LPffc0/B0tJUCyJyydevW7NixI1u3bs3Y2Fief/75JMkHP/jBnHDCCbniiity9tln5/rrr8+9996bHTt25LbbbssNN9yQRYsWNTv8EeCJJ57Ik08+mY985CPpdrt5+umnc8stt+TjH/94TjvttKbHOyLceuutuf7663PRRRfl4osvzle/+tVs3bo1N954Y9OjHbFuu+22rFy5Mqeddlpee+21fOELX8jIyEhWr17d9GhHjF/96ld56aWXJr7esmVLnn/++Zx88sk57bTTsmbNmtx9990566yzctZZZ+Xuu+/Occcdl+uuu67BqWm1hs9Chvdl9erVvST73R599NGJ5/z85z/vXX311b1jjz22d/LJJ/duuumm3q9//evmhj6CPPvss70VK1b0ut1u75hjjun91m/9Vm/dunW9N998s+nRjih///d/3zv99NN7CxYs6F1wwQW9xx57rOmRjmif+cxnesuWLesdffTRvcHBwd4f/dEf9V544YWmxzqiPProo1Nuu1avXt3r9fqXglm3bl1v6dKlvYGBgd4f/MEf9H7yk580OzSt1un1er2myicAALPPWcAAAMUogAAAxSiAAADFKIAAAMUogAAAxSiAAADFKIAAAMUogAAAxSiAAADFKIAAAMUogAAAxSiAAADFKIAAAMUogAAAxSiAAADFKIAAAMUogAAAxSiAAADFKIAAAMUogAAAxSiAAADFKIAAAMUogAAAxSiAAADFKIAAAMUogAAAxSiAAADFKIAAAMUogAAAxSiAAADFKIAAAMX8/yeecK7NMKjlAAAAAElFTkSuQmCC' width=640.0/>\n",
       "            </div>\n",
       "        "
      ],
      "text/plain": [
       "Canvas(toolbar=Toolbar(toolitems=[('Home', 'Reset original view', 'home', 'home'), ('Back', 'Back to previous …"
      ]
     },
     "metadata": {},
     "output_type": "display_data"
    }
   ],
   "source": [
    "plt.figure()\n",
    "plt.imshow(-z.T, origin='lower', extent=[_x[0], _x[-1], _x[0], _x[-1]])\n",
    "plt.plot(x, y, 'blue', marker='o')\n",
    "plt.plot(cpx, cpy, 'red', marker='o')"
   ]
  },
  {
   "cell_type": "code",
   "execution_count": 12,
   "metadata": {},
   "outputs": [],
   "source": [
    "def LensCavAsph(flong=100.0, eps_grin=0.0, eps_long=-4.0, eps_mirr=-4.0, lens_diam=25.4, grin_diam=2.4, grin_thick=1.5, lens_thick=6.0):\n",
    "    \n",
    "    fgrin=1.5\n",
    "    \n",
    "    p_grin_f = fgrin + eps_grin\n",
    "    p_grin_b = p_grin_f + grin_thick\n",
    "    p_long_f = p_grin_b + fgrin + flong + eps_long\n",
    "    p_long_b = p_long_f + lens_thick\n",
    "    p_mirr = p_long_b + flong + eps_mirr\n",
    "    \n",
    "    p0 = np.array([0,0,p_grin_f])\n",
    "    p1 = np.array([0,0,p_grin_b])\n",
    "    p2 = np.array([0,0,p_long_f])\n",
    "    p3 = np.array([0,0,p_long_b])\n",
    "    p4 = np.array([0,0,p_mirr])\n",
    "\n",
    "    e = np.array([0,0,5.0])*0\n",
    "    \n",
    "    pm0 = np.array([0,0,-p_grin_f])\n",
    "    pm1 = np.array([0,0,-p_grin_b])\n",
    "    pm2 = np.array([0,0,-p_long_f])\n",
    "    pm3 = np.array([0,0,-p_long_b])\n",
    "    pm4 = np.array([0,0,-p_mirr])\n",
    "\n",
    "    \n",
    "    \n",
    "    ii = lens_diam\n",
    "    hi = 12.7\n",
    "    qi=7.75\n",
    "    ng = 1.4537\n",
    "\n",
    "    # Rgrin = (ng-1)*fgrin\n",
    "    Rlong = (ng-1)*flong\n",
    "    # now C140 instead of \"spherical\" GRIN lens\n",
    "    Rgrin = -0.840660\n",
    "    k=-0.963070\n",
    "    An=[-9.476566e-2, -2.790461e-2, -5.415580e-3, -3.553653e-3]\n",
    "    \n",
    "    coeff = np.array([Rgrin, k,] + An) #these coefficients go _away_ from the normal\n",
    "    coeffm = coeff*-1 #these coefficients go _to_ the normal\n",
    "    coeffm[1] = k\n",
    "    \n",
    "    nz = (0., 0. ,-1.0)\n",
    "    nzm = (0., 0. ,1.0)\n",
    "    axz = (-1, 0, 0)\n",
    "    axzm = (1, 0, 0)\n",
    "\n",
    "    screen = Screen(n=nzm, ax=axzm)\n",
    "    \n",
    "    # negative sign of first cuved surface for abcd matrix\n",
    "    elements = [screen,\n",
    "                Glass(p=p0, n=nz, ax=axz, diameter=grin_diam, n2=ng),\n",
    "                #CurvedGlass(p=p1, n=nz, ax=axz, diameter=grin_diam, R=-Rgrin, curv='CC', n1=ng),\n",
    "                ThorlabsAsphere(p=p1, n=nz, ax=axz, diameter=grin_diam, R=Rgrin, n1=ng, coef=coeffm), #R=-Rgrin,\n",
    "                Glass(p=p2, n=nz, ax=axz, diameter=ii, n2=ng),\n",
    "                CurvedGlass(p=p3, n=nz, ax=axz, diameter=ii, R=-Rlong, curv='CC', n1=ng),\n",
    "                Mirror(p=p4, n=nz, ax=axz, diameter=ii),\n",
    "                #backwards pass\n",
    "                CurvedGlass(p=p3+e, n=nzm, ax=axzm, diameter=ii, R=Rlong, curv='CX', n2=ng),\n",
    "                Glass(p=p2+e, n=nzm, ax=axzm, diameter=ii, n1=ng),\n",
    "                #CurvedGlass(p=p1+e, n=nzm, ax=axzm, diameter=grin_diam, R=Rgrin, curv='CX', n2=ng),\n",
    "                ThorlabsAsphere(p=p1+e, n=nzm, ax=axzm, diameter=grin_diam, R=-Rgrin, n2=ng, coef=coeff), #R=-Rgrin,\n",
    "                Glass(p=p0+e, n=nzm, ax=axzm, diameter=grin_diam, n1=ng),\n",
    "                #left half\n",
    "                Glass(p=pm0, n=nzm, ax=axzm, diameter=grin_diam, n2=ng),\n",
    "                #CurvedGlass(p=pm1, n=nzm, ax=axzm, diameter=grin_diam, R=-Rgrin, curv='CC', n1=ng),\n",
    "                ThorlabsAsphere(p=pm1, n=nzm, ax=axzm, diameter=grin_diam, R=Rgrin, n1=ng, coef=coeffm),\n",
    "                Glass(p=pm2, n=nzm, ax=axzm, diameter=ii, n2=ng),\n",
    "                CurvedGlass(p=pm3, n=nzm, ax=axzm, diameter=ii, R=-Rlong, curv='CC', n1=ng),\n",
    "                Mirror(p=pm4, n=nzm, ax=axzm, diameter=ii),\n",
    "                #backwards pass\n",
    "                CurvedGlass(p=pm3+e, n=nz, ax=axz, diameter=ii, R=Rlong, curv='CX', n2=ng),\n",
    "                Glass(p=pm2+e, n=nz, ax=axz, diameter=ii, n1=ng),\n",
    "                #CurvedGlass(p=pm1+e, n=nz, ax=axz, diameter=grin_diam, R=Rgrin, curv='CX', n2=ng),\n",
    "                ThorlabsAsphere(p=pm1+e, n=nz, ax=axz, diameter=grin_diam, R=-Rgrin, n2=ng, coef=coeff),\n",
    "                Glass(p=pm0+e, n=nz, ax=axz, diameter=grin_diam, n1=ng),]\n",
    "\n",
    "    return elements"
   ]
  },
  {
   "cell_type": "code",
   "execution_count": 13,
   "metadata": {},
   "outputs": [
    {
     "ename": "TypeError",
     "evalue": "ThorlabsAsphere.__init__() got an unexpected keyword argument 'R'",
     "output_type": "error",
     "traceback": [
      "\u001b[1;31m---------------------------------------------------------------------------\u001b[0m",
      "\u001b[1;31mTypeError\u001b[0m                                 Traceback (most recent call last)",
      "Cell \u001b[1;32mIn[13], line 1\u001b[0m\n\u001b[1;32m----> 1\u001b[0m elements \u001b[38;5;241m=\u001b[39m \u001b[43mLensCavAsph\u001b[49m\u001b[43m(\u001b[49m\u001b[43meps_grin\u001b[49m\u001b[38;5;241;43m=\u001b[39;49m\u001b[38;5;241;43m0.0\u001b[39;49m\u001b[43m,\u001b[49m\u001b[43m \u001b[49m\u001b[43meps_long\u001b[49m\u001b[38;5;241;43m=\u001b[39;49m\u001b[38;5;241;43m-\u001b[39;49m\u001b[38;5;241;43m5.0\u001b[39;49m\u001b[43m)\u001b[49m\n\u001b[0;32m      2\u001b[0m screen \u001b[38;5;241m=\u001b[39m elements[\u001b[38;5;241m0\u001b[39m]\n\u001b[0;32m      3\u001b[0m sys \u001b[38;5;241m=\u001b[39m RaySystem(elements, add_screen\u001b[38;5;241m=\u001b[39m\u001b[38;5;28;01mFalse\u001b[39;00m)\n",
      "Cell \u001b[1;32mIn[12], line 54\u001b[0m, in \u001b[0;36mLensCavAsph\u001b[1;34m(flong, eps_grin, eps_long, eps_mirr, lens_diam, grin_diam, grin_thick, lens_thick)\u001b[0m\n\u001b[0;32m     48\u001b[0m screen \u001b[38;5;241m=\u001b[39m Screen(n\u001b[38;5;241m=\u001b[39mnzm, ax\u001b[38;5;241m=\u001b[39maxzm)\n\u001b[0;32m     50\u001b[0m \u001b[38;5;66;03m# negative sign of first cuved surface for abcd matrix\u001b[39;00m\n\u001b[0;32m     51\u001b[0m elements \u001b[38;5;241m=\u001b[39m [screen,\n\u001b[0;32m     52\u001b[0m             Glass(p\u001b[38;5;241m=\u001b[39mp0, n\u001b[38;5;241m=\u001b[39mnz, ax\u001b[38;5;241m=\u001b[39maxz, diameter\u001b[38;5;241m=\u001b[39mgrin_diam, n2\u001b[38;5;241m=\u001b[39mng),\n\u001b[0;32m     53\u001b[0m             \u001b[38;5;66;03m#CurvedGlass(p=p1, n=nz, ax=axz, diameter=grin_diam, R=-Rgrin, curv='CC', n1=ng),\u001b[39;00m\n\u001b[1;32m---> 54\u001b[0m             \u001b[43mThorlabsAsphere\u001b[49m\u001b[43m(\u001b[49m\u001b[43mp\u001b[49m\u001b[38;5;241;43m=\u001b[39;49m\u001b[43mp1\u001b[49m\u001b[43m,\u001b[49m\u001b[43m \u001b[49m\u001b[43mn\u001b[49m\u001b[38;5;241;43m=\u001b[39;49m\u001b[43mnz\u001b[49m\u001b[43m,\u001b[49m\u001b[43m \u001b[49m\u001b[43max\u001b[49m\u001b[38;5;241;43m=\u001b[39;49m\u001b[43maxz\u001b[49m\u001b[43m,\u001b[49m\u001b[43m \u001b[49m\u001b[43mdiameter\u001b[49m\u001b[38;5;241;43m=\u001b[39;49m\u001b[43mgrin_diam\u001b[49m\u001b[43m,\u001b[49m\u001b[43m \u001b[49m\u001b[43mR\u001b[49m\u001b[38;5;241;43m=\u001b[39;49m\u001b[43mRgrin\u001b[49m\u001b[43m,\u001b[49m\u001b[43m \u001b[49m\u001b[43mn1\u001b[49m\u001b[38;5;241;43m=\u001b[39;49m\u001b[43mng\u001b[49m\u001b[43m,\u001b[49m\u001b[43m \u001b[49m\u001b[43mcoef\u001b[49m\u001b[38;5;241;43m=\u001b[39;49m\u001b[43mcoeffm\u001b[49m\u001b[43m)\u001b[49m, \u001b[38;5;66;03m#R=-Rgrin,\u001b[39;00m\n\u001b[0;32m     55\u001b[0m             Glass(p\u001b[38;5;241m=\u001b[39mp2, n\u001b[38;5;241m=\u001b[39mnz, ax\u001b[38;5;241m=\u001b[39maxz, diameter\u001b[38;5;241m=\u001b[39mii, n2\u001b[38;5;241m=\u001b[39mng),\n\u001b[0;32m     56\u001b[0m             CurvedGlass(p\u001b[38;5;241m=\u001b[39mp3, n\u001b[38;5;241m=\u001b[39mnz, ax\u001b[38;5;241m=\u001b[39maxz, diameter\u001b[38;5;241m=\u001b[39mii, R\u001b[38;5;241m=\u001b[39m\u001b[38;5;241m-\u001b[39mRlong, curv\u001b[38;5;241m=\u001b[39m\u001b[38;5;124m'\u001b[39m\u001b[38;5;124mCC\u001b[39m\u001b[38;5;124m'\u001b[39m, n1\u001b[38;5;241m=\u001b[39mng),\n\u001b[0;32m     57\u001b[0m             Mirror(p\u001b[38;5;241m=\u001b[39mp4, n\u001b[38;5;241m=\u001b[39mnz, ax\u001b[38;5;241m=\u001b[39maxz, diameter\u001b[38;5;241m=\u001b[39mii),\n\u001b[0;32m     58\u001b[0m             \u001b[38;5;66;03m#backwards pass\u001b[39;00m\n\u001b[0;32m     59\u001b[0m             CurvedGlass(p\u001b[38;5;241m=\u001b[39mp3\u001b[38;5;241m+\u001b[39me, n\u001b[38;5;241m=\u001b[39mnzm, ax\u001b[38;5;241m=\u001b[39maxzm, diameter\u001b[38;5;241m=\u001b[39mii, R\u001b[38;5;241m=\u001b[39mRlong, curv\u001b[38;5;241m=\u001b[39m\u001b[38;5;124m'\u001b[39m\u001b[38;5;124mCX\u001b[39m\u001b[38;5;124m'\u001b[39m, n2\u001b[38;5;241m=\u001b[39mng),\n\u001b[0;32m     60\u001b[0m             Glass(p\u001b[38;5;241m=\u001b[39mp2\u001b[38;5;241m+\u001b[39me, n\u001b[38;5;241m=\u001b[39mnzm, ax\u001b[38;5;241m=\u001b[39maxzm, diameter\u001b[38;5;241m=\u001b[39mii, n1\u001b[38;5;241m=\u001b[39mng),\n\u001b[0;32m     61\u001b[0m             \u001b[38;5;66;03m#CurvedGlass(p=p1+e, n=nzm, ax=axzm, diameter=grin_diam, R=Rgrin, curv='CX', n2=ng),\u001b[39;00m\n\u001b[0;32m     62\u001b[0m             ThorlabsAsphere(p\u001b[38;5;241m=\u001b[39mp1\u001b[38;5;241m+\u001b[39me, n\u001b[38;5;241m=\u001b[39mnzm, ax\u001b[38;5;241m=\u001b[39maxzm, diameter\u001b[38;5;241m=\u001b[39mgrin_diam, R\u001b[38;5;241m=\u001b[39m\u001b[38;5;241m-\u001b[39mRgrin, n2\u001b[38;5;241m=\u001b[39mng, coef\u001b[38;5;241m=\u001b[39mcoeff), \u001b[38;5;66;03m#R=-Rgrin,\u001b[39;00m\n\u001b[0;32m     63\u001b[0m             Glass(p\u001b[38;5;241m=\u001b[39mp0\u001b[38;5;241m+\u001b[39me, n\u001b[38;5;241m=\u001b[39mnzm, ax\u001b[38;5;241m=\u001b[39maxzm, diameter\u001b[38;5;241m=\u001b[39mgrin_diam, n1\u001b[38;5;241m=\u001b[39mng),\n\u001b[0;32m     64\u001b[0m             \u001b[38;5;66;03m#left half\u001b[39;00m\n\u001b[0;32m     65\u001b[0m             Glass(p\u001b[38;5;241m=\u001b[39mpm0, n\u001b[38;5;241m=\u001b[39mnzm, ax\u001b[38;5;241m=\u001b[39maxzm, diameter\u001b[38;5;241m=\u001b[39mgrin_diam, n2\u001b[38;5;241m=\u001b[39mng),\n\u001b[0;32m     66\u001b[0m             \u001b[38;5;66;03m#CurvedGlass(p=pm1, n=nzm, ax=axzm, diameter=grin_diam, R=-Rgrin, curv='CC', n1=ng),\u001b[39;00m\n\u001b[0;32m     67\u001b[0m             ThorlabsAsphere(p\u001b[38;5;241m=\u001b[39mpm1, n\u001b[38;5;241m=\u001b[39mnzm, ax\u001b[38;5;241m=\u001b[39maxzm, diameter\u001b[38;5;241m=\u001b[39mgrin_diam, R\u001b[38;5;241m=\u001b[39mRgrin, n1\u001b[38;5;241m=\u001b[39mng, coef\u001b[38;5;241m=\u001b[39mcoeffm),\n\u001b[0;32m     68\u001b[0m             Glass(p\u001b[38;5;241m=\u001b[39mpm2, n\u001b[38;5;241m=\u001b[39mnzm, ax\u001b[38;5;241m=\u001b[39maxzm, diameter\u001b[38;5;241m=\u001b[39mii, n2\u001b[38;5;241m=\u001b[39mng),\n\u001b[0;32m     69\u001b[0m             CurvedGlass(p\u001b[38;5;241m=\u001b[39mpm3, n\u001b[38;5;241m=\u001b[39mnzm, ax\u001b[38;5;241m=\u001b[39maxzm, diameter\u001b[38;5;241m=\u001b[39mii, R\u001b[38;5;241m=\u001b[39m\u001b[38;5;241m-\u001b[39mRlong, curv\u001b[38;5;241m=\u001b[39m\u001b[38;5;124m'\u001b[39m\u001b[38;5;124mCC\u001b[39m\u001b[38;5;124m'\u001b[39m, n1\u001b[38;5;241m=\u001b[39mng),\n\u001b[0;32m     70\u001b[0m             Mirror(p\u001b[38;5;241m=\u001b[39mpm4, n\u001b[38;5;241m=\u001b[39mnzm, ax\u001b[38;5;241m=\u001b[39maxzm, diameter\u001b[38;5;241m=\u001b[39mii),\n\u001b[0;32m     71\u001b[0m             \u001b[38;5;66;03m#backwards pass\u001b[39;00m\n\u001b[0;32m     72\u001b[0m             CurvedGlass(p\u001b[38;5;241m=\u001b[39mpm3\u001b[38;5;241m+\u001b[39me, n\u001b[38;5;241m=\u001b[39mnz, ax\u001b[38;5;241m=\u001b[39maxz, diameter\u001b[38;5;241m=\u001b[39mii, R\u001b[38;5;241m=\u001b[39mRlong, curv\u001b[38;5;241m=\u001b[39m\u001b[38;5;124m'\u001b[39m\u001b[38;5;124mCX\u001b[39m\u001b[38;5;124m'\u001b[39m, n2\u001b[38;5;241m=\u001b[39mng),\n\u001b[0;32m     73\u001b[0m             Glass(p\u001b[38;5;241m=\u001b[39mpm2\u001b[38;5;241m+\u001b[39me, n\u001b[38;5;241m=\u001b[39mnz, ax\u001b[38;5;241m=\u001b[39maxz, diameter\u001b[38;5;241m=\u001b[39mii, n1\u001b[38;5;241m=\u001b[39mng),\n\u001b[0;32m     74\u001b[0m             \u001b[38;5;66;03m#CurvedGlass(p=pm1+e, n=nz, ax=axz, diameter=grin_diam, R=Rgrin, curv='CX', n2=ng),\u001b[39;00m\n\u001b[0;32m     75\u001b[0m             ThorlabsAsphere(p\u001b[38;5;241m=\u001b[39mpm1\u001b[38;5;241m+\u001b[39me, n\u001b[38;5;241m=\u001b[39mnz, ax\u001b[38;5;241m=\u001b[39maxz, diameter\u001b[38;5;241m=\u001b[39mgrin_diam, R\u001b[38;5;241m=\u001b[39m\u001b[38;5;241m-\u001b[39mRgrin, n2\u001b[38;5;241m=\u001b[39mng, coef\u001b[38;5;241m=\u001b[39mcoeff),\n\u001b[0;32m     76\u001b[0m             Glass(p\u001b[38;5;241m=\u001b[39mpm0\u001b[38;5;241m+\u001b[39me, n\u001b[38;5;241m=\u001b[39mnz, ax\u001b[38;5;241m=\u001b[39maxz, diameter\u001b[38;5;241m=\u001b[39mgrin_diam, n1\u001b[38;5;241m=\u001b[39mng),]\n\u001b[0;32m     78\u001b[0m \u001b[38;5;28;01mreturn\u001b[39;00m elements\n",
      "\u001b[1;31mTypeError\u001b[0m: ThorlabsAsphere.__init__() got an unexpected keyword argument 'R'"
     ]
    }
   ],
   "source": [
    "elements = LensCavAsph(eps_grin=0.0, eps_long=-5.0)\n",
    "screen = elements[0]\n",
    "sys = RaySystem(elements, add_screen=False)\n",
    "sys.screen = screen\n",
    "\n",
    "# mu = np.array([0.5, 0., 0., 0.])\n",
    "# mu = np.stack([[0.0, 0., sx, 0.] for sx in np.linspace(-0.1, 0.1, 7)], axis=0)\n",
    "mu = np.stack([[xx, 0., 0., 0.] for xx in np.linspace(-0.1, 0.1, 7)*0.1], axis=0)\n",
    "\n",
    "\n",
    "ray = sys.screen.eigenvectors_to_rays(mu)"
   ]
  },
  {
   "cell_type": "code",
   "execution_count": null,
   "metadata": {},
   "outputs": [],
   "source": [
    "traj = sys.propagate(ray, at_screen=False, clip=False)"
   ]
  },
  {
   "cell_type": "code",
   "execution_count": null,
   "metadata": {},
   "outputs": [],
   "source": [
    "plt.figure(figsize=(12, 3))\n",
    "for i in range(traj.shape[2]):\n",
    "    plt.plot(traj[:, 0, i, 2], traj[:, 0, i, 0])\n",
    "plt.show()"
   ]
  },
  {
   "cell_type": "code",
   "execution_count": null,
   "metadata": {},
   "outputs": [],
   "source": [
    "try:\n",
    "    plot.close()\n",
    "except:\n",
    "    pass\n",
    "plot = k3d.plot(camera_auto_fit=True, antialias=True)\n",
    "\n",
    "for i, el in enumerate(sys.elements):\n",
    "    if not isinstance(el, Screen):\n",
    "        plot += el.plot(opacity=0.4)\n",
    "\n",
    "for i, el in enumerate(sys.elements):\n",
    "    plot_element_ax(el, plot, length=2.)\n",
    "\n",
    "# # plot_rays(ray, plot)\n",
    "plot_trajs(traj[0:7], plot)\n",
    "plot_trajs(traj[6:], plot, color=0x555500)\n",
    "\n",
    "plot.display()"
   ]
  },
  {
   "cell_type": "code",
   "execution_count": 9,
   "metadata": {},
   "outputs": [
    {
     "ename": "UnboundLocalError",
     "evalue": "local variable 'fu' referenced before assignment",
     "output_type": "error",
     "traceback": [
      "\u001b[1;31m---------------------------------------------------------------------------\u001b[0m",
      "\u001b[1;31mUnboundLocalError\u001b[0m                         Traceback (most recent call last)",
      "\u001b[1;32m<ipython-input-9-a43bccf9b2d0>\u001b[0m in \u001b[0;36m<module>\u001b[1;34m\u001b[0m\n\u001b[0;32m      1\u001b[0m \u001b[0mcavfct\u001b[0m \u001b[1;33m=\u001b[0m \u001b[0mLensCav\u001b[0m\u001b[1;33m\u001b[0m\u001b[1;33m\u001b[0m\u001b[0m\n\u001b[0;32m      2\u001b[0m \u001b[0mparname\u001b[0m \u001b[1;33m=\u001b[0m \u001b[1;34m'eps_grin'\u001b[0m\u001b[1;33m\u001b[0m\u001b[1;33m\u001b[0m\u001b[0m\n\u001b[1;32m----> 3\u001b[1;33m \u001b[0mres\u001b[0m \u001b[1;33m=\u001b[0m \u001b[0mdegeneracy_length\u001b[0m\u001b[1;33m(\u001b[0m\u001b[0mcavfct\u001b[0m\u001b[1;33m,\u001b[0m \u001b[0mparname\u001b[0m\u001b[1;33m,\u001b[0m \u001b[1;36m1\u001b[0m\u001b[1;33m)\u001b[0m\u001b[1;33m\u001b[0m\u001b[1;33m\u001b[0m\u001b[0m\n\u001b[0m\u001b[0;32m      4\u001b[0m \u001b[0mLdeg\u001b[0m \u001b[1;33m=\u001b[0m \u001b[0mres\u001b[0m\u001b[1;33m.\u001b[0m\u001b[0mx\u001b[0m\u001b[1;33m\u001b[0m\u001b[1;33m\u001b[0m\u001b[0m\n\u001b[0;32m      5\u001b[0m \u001b[0mprint\u001b[0m\u001b[1;33m(\u001b[0m\u001b[0mres\u001b[0m\u001b[1;33m)\u001b[0m\u001b[1;33m\u001b[0m\u001b[1;33m\u001b[0m\u001b[0m\n",
      "\u001b[1;32mc:\\users\\lukas\\documents\\phd\\sloppy\\src\\sloppy\\tools.py\u001b[0m in \u001b[0;36mdegeneracy_length\u001b[1;34m(cavfct, parname, scanrange, s, degmodenum)\u001b[0m\n\u001b[0;32m     35\u001b[0m \u001b[1;33m\u001b[0m\u001b[0m\n\u001b[0;32m     36\u001b[0m     \u001b[0mLa\u001b[0m \u001b[1;33m=\u001b[0m \u001b[0minspect\u001b[0m\u001b[1;33m.\u001b[0m\u001b[0msignature\u001b[0m\u001b[1;33m(\u001b[0m\u001b[0mcavfct\u001b[0m\u001b[1;33m)\u001b[0m\u001b[1;33m.\u001b[0m\u001b[0mparameters\u001b[0m\u001b[1;33m[\u001b[0m\u001b[0mparname\u001b[0m\u001b[1;33m]\u001b[0m\u001b[1;33m.\u001b[0m\u001b[0mdefault\u001b[0m\u001b[1;33m\u001b[0m\u001b[1;33m\u001b[0m\u001b[0m\n\u001b[1;32m---> 37\u001b[1;33m     \u001b[0mres\u001b[0m \u001b[1;33m=\u001b[0m \u001b[0mminimize_scalar\u001b[0m\u001b[1;33m(\u001b[0m\u001b[0mget_freq\u001b[0m\u001b[1;33m,\u001b[0m \u001b[0mbounds\u001b[0m\u001b[1;33m=\u001b[0m\u001b[1;33m(\u001b[0m\u001b[1;33m(\u001b[0m\u001b[1;36m1\u001b[0m\u001b[1;33m-\u001b[0m\u001b[0mscanrange\u001b[0m\u001b[1;33m)\u001b[0m\u001b[1;33m*\u001b[0m\u001b[0mLa\u001b[0m\u001b[1;33m,\u001b[0m \u001b[1;33m(\u001b[0m\u001b[1;36m1\u001b[0m\u001b[1;33m+\u001b[0m\u001b[0mscanrange\u001b[0m\u001b[1;33m)\u001b[0m\u001b[1;33m*\u001b[0m\u001b[0mLa\u001b[0m\u001b[1;33m)\u001b[0m\u001b[1;33m,\u001b[0m \u001b[0mmethod\u001b[0m\u001b[1;33m=\u001b[0m\u001b[1;34m'bounded'\u001b[0m\u001b[1;33m)\u001b[0m\u001b[1;33m\u001b[0m\u001b[1;33m\u001b[0m\u001b[0m\n\u001b[0m\u001b[0;32m     38\u001b[0m     \u001b[1;32mreturn\u001b[0m \u001b[0mres\u001b[0m\u001b[1;33m\u001b[0m\u001b[1;33m\u001b[0m\u001b[0m\n\u001b[0;32m     39\u001b[0m \u001b[1;33m\u001b[0m\u001b[0m\n",
      "\u001b[1;32m~\\.conda\\envs\\sloppy\\lib\\site-packages\\scipy\\optimize\\_minimize.py\u001b[0m in \u001b[0;36mminimize_scalar\u001b[1;34m(fun, bracket, bounds, args, method, tol, options)\u001b[0m\n\u001b[0;32m    788\u001b[0m         \u001b[1;32mif\u001b[0m \u001b[0misinstance\u001b[0m\u001b[1;33m(\u001b[0m\u001b[0mdisp\u001b[0m\u001b[1;33m,\u001b[0m \u001b[0mbool\u001b[0m\u001b[1;33m)\u001b[0m\u001b[1;33m:\u001b[0m\u001b[1;33m\u001b[0m\u001b[1;33m\u001b[0m\u001b[0m\n\u001b[0;32m    789\u001b[0m             \u001b[0moptions\u001b[0m\u001b[1;33m[\u001b[0m\u001b[1;34m'disp'\u001b[0m\u001b[1;33m]\u001b[0m \u001b[1;33m=\u001b[0m \u001b[1;36m2\u001b[0m \u001b[1;33m*\u001b[0m \u001b[0mint\u001b[0m\u001b[1;33m(\u001b[0m\u001b[0mdisp\u001b[0m\u001b[1;33m)\u001b[0m\u001b[1;33m\u001b[0m\u001b[1;33m\u001b[0m\u001b[0m\n\u001b[1;32m--> 790\u001b[1;33m         \u001b[1;32mreturn\u001b[0m \u001b[0m_minimize_scalar_bounded\u001b[0m\u001b[1;33m(\u001b[0m\u001b[0mfun\u001b[0m\u001b[1;33m,\u001b[0m \u001b[0mbounds\u001b[0m\u001b[1;33m,\u001b[0m \u001b[0margs\u001b[0m\u001b[1;33m,\u001b[0m \u001b[1;33m**\u001b[0m\u001b[0moptions\u001b[0m\u001b[1;33m)\u001b[0m\u001b[1;33m\u001b[0m\u001b[1;33m\u001b[0m\u001b[0m\n\u001b[0m\u001b[0;32m    791\u001b[0m     \u001b[1;32melif\u001b[0m \u001b[0mmeth\u001b[0m \u001b[1;33m==\u001b[0m \u001b[1;34m'golden'\u001b[0m\u001b[1;33m:\u001b[0m\u001b[1;33m\u001b[0m\u001b[1;33m\u001b[0m\u001b[0m\n\u001b[0;32m    792\u001b[0m         \u001b[1;32mreturn\u001b[0m \u001b[0m_minimize_scalar_golden\u001b[0m\u001b[1;33m(\u001b[0m\u001b[0mfun\u001b[0m\u001b[1;33m,\u001b[0m \u001b[0mbracket\u001b[0m\u001b[1;33m,\u001b[0m \u001b[0margs\u001b[0m\u001b[1;33m,\u001b[0m \u001b[1;33m**\u001b[0m\u001b[0moptions\u001b[0m\u001b[1;33m)\u001b[0m\u001b[1;33m\u001b[0m\u001b[1;33m\u001b[0m\u001b[0m\n",
      "\u001b[1;32m~\\.conda\\envs\\sloppy\\lib\\site-packages\\scipy\\optimize\\optimize.py\u001b[0m in \u001b[0;36m_minimize_scalar_bounded\u001b[1;34m(func, bounds, args, xatol, maxiter, disp, **unknown_options)\u001b[0m\n\u001b[0;32m   1878\u001b[0m             \u001b[1;32mbreak\u001b[0m\u001b[1;33m\u001b[0m\u001b[1;33m\u001b[0m\u001b[0m\n\u001b[0;32m   1879\u001b[0m \u001b[1;33m\u001b[0m\u001b[0m\n\u001b[1;32m-> 1880\u001b[1;33m     \u001b[1;32mif\u001b[0m \u001b[0mnp\u001b[0m\u001b[1;33m.\u001b[0m\u001b[0misnan\u001b[0m\u001b[1;33m(\u001b[0m\u001b[0mxf\u001b[0m\u001b[1;33m)\u001b[0m \u001b[1;32mor\u001b[0m \u001b[0mnp\u001b[0m\u001b[1;33m.\u001b[0m\u001b[0misnan\u001b[0m\u001b[1;33m(\u001b[0m\u001b[0mfx\u001b[0m\u001b[1;33m)\u001b[0m \u001b[1;32mor\u001b[0m \u001b[0mnp\u001b[0m\u001b[1;33m.\u001b[0m\u001b[0misnan\u001b[0m\u001b[1;33m(\u001b[0m\u001b[0mfu\u001b[0m\u001b[1;33m)\u001b[0m\u001b[1;33m:\u001b[0m\u001b[1;33m\u001b[0m\u001b[1;33m\u001b[0m\u001b[0m\n\u001b[0m\u001b[0;32m   1881\u001b[0m         \u001b[0mflag\u001b[0m \u001b[1;33m=\u001b[0m \u001b[1;36m2\u001b[0m\u001b[1;33m\u001b[0m\u001b[1;33m\u001b[0m\u001b[0m\n\u001b[0;32m   1882\u001b[0m \u001b[1;33m\u001b[0m\u001b[0m\n",
      "\u001b[1;31mUnboundLocalError\u001b[0m: local variable 'fu' referenced before assignment"
     ]
    }
   ],
   "source": [
    "cavfct = LensCav\n",
    "parname = 'eps_grin'\n",
    "res = degeneracy_length(cavfct, parname, 1)\n",
    "Ldeg = res.x\n",
    "print(res)\n",
    "elements = cavfct(**{parname: Ldeg})\n",
    "sys = RaySystem(elements)\n",
    "system = sys.abcd\n",
    "mu1, mu2 = system.q"
   ]
  },
  {
   "cell_type": "code",
   "execution_count": 74,
   "metadata": {},
   "outputs": [],
   "source": [
    "def _cavity_parameter_interaction_factory(cavfct, parname, scanrange, N = 300):\n",
    "    fig, ax = plt.subplots(ncols=2, figsize=(8,4), sharex=True)\n",
    "    lws = [ax[0].plot([0, 1], [0, 1])[0] for i in range(2)]\n",
    "    ax[0].set_ylabel('um')\n",
    "    lfs = [ax[1].plot([0, 1], [0, 1])[0] for i in range(4)]\n",
    "    ax[1].set_ylabel('MHz')\n",
    "    axh1 = ax[1].axhline(0, color='grey')\n",
    "    axv0 = ax[0].axvline(0, color='grey')\n",
    "    axv1 = ax[1].axvline(0, color='grey')\n",
    "    plt.show()\n",
    "    \n",
    "    def update_waists_vs_params(cavfct, parname, scanrange, N = 300, **kwargs):\n",
    "        stab = lambda m: abs(0.5*np.trace(m))<1\n",
    "        scanrange=[-5, 3]\n",
    "        La = kwargs[parname]\n",
    "        Las = La + np.linspace(-scanrange[0], scanrange[0], N)\n",
    "        ms = np.zeros((N))\n",
    "        ws = np.zeros((N,2))\n",
    "        freqs = np.zeros((N,4))\n",
    "        for i, l in enumerate(Las):\n",
    "            pardct = kwargs.copy()\n",
    "            pardct.update({parname: l})\n",
    "            sys = RaySystem( cavfct(**pardct) )\n",
    "\n",
    "            try:\n",
    "                system = sys.abcd\n",
    "                w = system.waist_at(0)\n",
    "            except:\n",
    "                ws[i,:] = np.nan\n",
    "                ms[i] = np.nan\n",
    "                freqs[i,...] = np.nan\n",
    "            else:\n",
    "                ms[i] = stab(system.abcd_rt)\n",
    "                ws[i,:] = np.sort(w)\n",
    "                freqs[i,...] = np.concatenate(system.get_freqs(s=1))\n",
    "                #ft, fs3 = system.get_freqs()\n",
    "                #fsr = system.fsr\n",
    "                #freqs[i,...] = np.concatenate((ft, np.mod(3*ft, fsr)))\n",
    "                idx = np.argmin(np.abs(freqs[:,2]))\n",
    "        for i in range(2):\n",
    "            lws[i].set_data(np.stack((Las, ws[:,i]*1e3), axis=0))\n",
    "        for i in range(4):\n",
    "            lfs[i].set_data(np.stack((Las, freqs[:,i]*1e-6), axis=0))\n",
    "        axv0.set_xdata([Las[idx], Las[idx]])\n",
    "        axv1.set_xdata([Las[idx], Las[idx]])\n",
    "        Ldeg = Las[idx]\n",
    "        ax[0].set_xlim(Las[0], Las[-1])\n",
    "        ax[0].set_ylim(0.8*np.nanmin(ws*1e3), 1.1*np.nanmax(ws*1e3))\n",
    "        ax[1].set_ylim(0.8*np.nanmin(freqs*1e-6), 1.1*np.nanmax(freqs*1e-6))\n",
    "        fig.canvas.draw_idle()\n",
    "    \n",
    "    _magnitude = lambda x: 1. if abs(x)<0.1 else int(np.floor(np.log10(abs(x))))\n",
    "    _sgn = lambda x: 1 if x>0 else -1\n",
    "    _min = lambda x: 1.5*x if x<0 else 0.5*x\n",
    "    _max = lambda x: 0.5*x if x<0 else 1.5*x\n",
    "\n",
    "    \n",
    "    lo = Layout(width='80%', height='30px')\n",
    "    for v in inspect.signature(cavfct).parameters.values():\n",
    "        print(v.name, v.default)\n",
    "    sliders = {v.name: FloatSlider(value=v.default, min=_min(v.default), max=_max(v.default), step=10**(_magnitude(v.default)-2), readout_format='.2e', layout=lo) for v in inspect.signature(cavfct).parameters.values()}\n",
    "    sliders.update({'scanrange': FloatLogSlider(value=scanrange, min=-3, max=1, step=0.5, layout=lo)})\n",
    "    return interactive(update_waists_vs_params, cavfct=fixed(cavfct), parname = fixed('eps_grin'), N=fixed(N), **sliders)"
   ]
  },
  {
   "cell_type": "code",
   "execution_count": 76,
   "metadata": {},
   "outputs": [
    {
     "name": "stderr",
     "output_type": "stream",
     "text": [
      "C:\\Users\\lukas\\.conda\\envs\\sloppy\\lib\\site-packages\\ipykernel_launcher.py:2: RuntimeWarning: More than 20 figures have been opened. Figures created through the pyplot interface (`matplotlib.pyplot.figure`) are retained until explicitly closed and may consume too much memory. (To control this warning, see the rcParam `figure.max_open_warning`).\n",
      "  \n"
     ]
    },
    {
     "data": {
      "application/vnd.jupyter.widget-view+json": {
       "model_id": "d87df4bacf1e4448b5b1a3e408cbaa34",
       "version_major": 2,
       "version_minor": 0
      },
      "text/plain": [
       "Canvas(toolbar=Toolbar(toolitems=[('Home', 'Reset original view', 'home', 'home'), ('Back', 'Back to previous …"
      ]
     },
     "metadata": {},
     "output_type": "display_data"
    },
    {
     "name": "stdout",
     "output_type": "stream",
     "text": [
      "flong 100.0\n",
      "eps_grin 0.0\n",
      "eps_long -4.0\n",
      "eps_mirr -4.0\n",
      "lens_diam 25.4\n",
      "grin_diam 2.4\n",
      "grin_thick 1.5\n",
      "lens_thick 6.0\n"
     ]
    },
    {
     "data": {
      "application/vnd.jupyter.widget-view+json": {
       "model_id": "e40663a3626d48ac9089fdaa617313c1",
       "version_major": 2,
       "version_minor": 0
      },
      "text/plain": [
       "interactive(children=(FloatLogSlider(value=0.1, description='scanrange', layout=Layout(height='30px', width='8…"
      ]
     },
     "metadata": {},
     "output_type": "display_data"
    }
   ],
   "source": [
    "_cavity_parameter_interaction_factory(LensCavAsph, 'eps_grin',0.1, N=100)"
   ]
  },
  {
   "cell_type": "code",
   "execution_count": 77,
   "metadata": {},
   "outputs": [],
   "source": [
    "cavfct = LensCav\n",
    "elements = cavfct(eps_long=-4.2, eps_grin=-1.3)\n",
    "sys = RaySystem(elements)\n",
    "system = sys.abcd\n",
    "mu1, mu2 = system.q"
   ]
  },
  {
   "cell_type": "code",
   "execution_count": 80,
   "metadata": {},
   "outputs": [
    {
     "name": "stderr",
     "output_type": "stream",
     "text": [
      "C:\\Users\\lukas\\.conda\\envs\\sloppy\\lib\\site-packages\\ipykernel_launcher.py:3: RuntimeWarning: More than 20 figures have been opened. Figures created through the pyplot interface (`matplotlib.pyplot.figure`) are retained until explicitly closed and may consume too much memory. (To control this warning, see the rcParam `figure.max_open_warning`).\n",
      "  This is separate from the ipykernel package so we can avoid doing imports until\n"
     ]
    },
    {
     "data": {
      "application/vnd.jupyter.widget-view+json": {
       "model_id": "e201e0d1b5414059b33cf3f5a79ad9d3",
       "version_major": 2,
       "version_minor": 0
      },
      "text/plain": [
       "Canvas(toolbar=Toolbar(toolitems=[('Home', 'Reset original view', 'home', 'home'), ('Back', 'Back to previous …"
      ]
     },
     "metadata": {},
     "output_type": "display_data"
    }
   ],
   "source": [
    "x = np.linspace(0, system.Ltot, 5000)\n",
    "ws = system.compute_waists(x)\n",
    "plt.figure()\n",
    "plt.plot(x, ws)\n",
    "# plt.yscale('log')\n",
    "plt.show()"
   ]
  },
  {
   "cell_type": "code",
   "execution_count": 302,
   "metadata": {},
   "outputs": [],
   "source": [
    "plt.close('all')"
   ]
  },
  {
   "cell_type": "code",
   "execution_count": 5,
   "metadata": {},
   "outputs": [],
   "source": [
    "Npt = 20\n",
    "a = 0.5\n",
    "x = np.linspace(-a, a, Npt)\n",
    "coords = np.meshgrid(x, x)\n",
    "\n",
    "xy = np.stack(coords, axis=-1).reshape((-1,2))\n",
    "#pxy = np.zeros_like(xy)\n",
    "pxy = np.broadcast_to(np.array([0, 0]), xy.shape)\n",
    "mu = np.concatenate((xy, pxy), axis=1)\n",
    "ray = sys.screen.eigenvectors_to_rays(mu)"
   ]
  },
  {
   "cell_type": "code",
   "execution_count": 6,
   "metadata": {},
   "outputs": [],
   "source": [
    "traj = sys.propagate(ray, at_screen=True)\n",
    "pos = sys.screen.r_to_screen_coords(traj[-1,0,:,:])"
   ]
  },
  {
   "cell_type": "code",
   "execution_count": 7,
   "metadata": {},
   "outputs": [
    {
     "data": {
      "application/vnd.jupyter.widget-view+json": {
       "model_id": "e2c41b590d4c4c9d8073571c3b553c85",
       "version_major": 2,
       "version_minor": 0
      },
      "text/plain": [
       "Canvas(toolbar=Toolbar(toolitems=[('Home', 'Reset original view', 'home', 'home'), ('Back', 'Back to previous …"
      ]
     },
     "metadata": {},
     "output_type": "display_data"
    },
    {
     "data": {
      "text/plain": [
       "<matplotlib.collections.PathCollection at 0x1b455571608>"
      ]
     },
     "execution_count": 7,
     "metadata": {},
     "output_type": "execute_result"
    }
   ],
   "source": [
    "plt.figure()\n",
    "plt.scatter(xy[:,0], xy[:,1], s=2.)\n",
    "plt.scatter(pos[:,0], pos[:,1], s=2.)"
   ]
  },
  {
   "cell_type": "code",
   "execution_count": 10,
   "metadata": {},
   "outputs": [
    {
     "data": {
      "application/vnd.jupyter.widget-view+json": {
       "model_id": "0f7781a9a06244b199eb6af61e5f5827",
       "version_major": 2,
       "version_minor": 0
      },
      "text/plain": [
       "Canvas(toolbar=Toolbar(toolitems=[('Home', 'Reset original view', 'home', 'home'), ('Back', 'Back to previous …"
      ]
     },
     "metadata": {},
     "output_type": "display_data"
    },
    {
     "data": {
      "application/vnd.jupyter.widget-view+json": {
       "model_id": "5aad83f712354d9289f508a22b1abd06",
       "version_major": 2,
       "version_minor": 0
      },
      "text/plain": [
       "interactive(children=(FloatSlider(value=0.0, description='dl', max=1.0, min=-1.0, step=0.001), FloatSlider(val…"
      ]
     },
     "metadata": {},
     "output_type": "display_data"
    }
   ],
   "source": [
    "fig, ax = plt.subplots(ncols=1, figsize=(6, 6))\n",
    "ms = 8.\n",
    "linea = plt.scatter(xy[:,0], xy[:,1], s=2.)\n",
    "lineb = plt.scatter(pos[:,0], pos[:,1], s=2.)\n",
    "plt.xlabel('x [mm]')\n",
    "plt.ylabel('y [mm]')\n",
    "\n",
    "cavfct = LensCav\n",
    "parname = 'lens_dist'\n",
    "\n",
    "def update_xygrid(dl=0.0, a=0.1, px=1e-2, py=-1e-3, Nrt=3, Npts=20, **kwargs):\n",
    "    res = degeneracy_length(cavfct, parname, 1e-3)\n",
    "    Ldeg = res.x\n",
    "    print(res)\n",
    "    elements = cavfct(**{parname: Ldeg+dl})\n",
    "    sys = RaySystem(elements)\n",
    "    \n",
    "    x = np.linspace(-a, a, Npts)\n",
    "    coords = np.meshgrid(x, x)\n",
    "    xy = np.stack(coords, axis=-1).reshape((-1,2))\n",
    "    pxy = np.broadcast_to(np.array([px, -py]), xy.shape)\n",
    "    mu = np.concatenate((xy, pxy), axis=1)\n",
    "    ray = sys.screen.eigenvectors_to_rays(mu)\n",
    "    traj = sys.propagate(ray, at_screen=True)\n",
    "    pos = sys.screen.r_to_screen_coords(traj[-1,0,:,:])\n",
    "    linea.set_offsets(xy)\n",
    "    lineb.set_offsets(pos)\n",
    "  \n",
    "    #ax.relim()\n",
    "    #ax.autoscale_view()\n",
    "    fig.canvas.draw_idle()\n",
    "        \n",
    "interactive(update_xygrid, dl=(-1, 1, 1e-3), a = (0,1,1e-2),\\\n",
    "            px=(-0.1,0.1,1e-3), py=(-0.1,0.1,1e-3), Nrt=(0,10,1), Npts=(10, 100, 10))"
   ]
  },
  {
   "cell_type": "code",
   "execution_count": 31,
   "metadata": {},
   "outputs": [
    {
     "data": {
      "application/vnd.jupyter.widget-view+json": {
       "model_id": "75528277ca774c7f93fb6cf073339245",
       "version_major": 2,
       "version_minor": 0
      },
      "text/plain": [
       "Canvas(toolbar=Toolbar(toolitems=[('Home', 'Reset original view', 'home', 'home'), ('Back', 'Back to previous …"
      ]
     },
     "metadata": {},
     "output_type": "display_data"
    },
    {
     "data": {
      "application/vnd.jupyter.widget-view+json": {
       "model_id": "8f54e8129a104e80834d9e525ebdb624",
       "version_major": 2,
       "version_minor": 0
      },
      "text/plain": [
       "interactive(children=(FloatSlider(value=0.0, description='dl', max=1.0, min=-1.0, step=0.001), FloatSlider(val…"
      ]
     },
     "metadata": {},
     "output_type": "display_data"
    }
   ],
   "source": [
    "fig, ax = plt.subplots(ncols=1, figsize=(6, 6))\n",
    "ms = 8.\n",
    "linea = plt.scatter(xy[:,0], xy[:,1], s=2.)\n",
    "lineb = plt.scatter(pos[:,0], pos[:,1], s=2.)\n",
    "plt.xlabel('px [mm]')\n",
    "plt.ylabel('py [mm]')\n",
    "\n",
    "cavfct = LensCav\n",
    "parname = 'lens_dist'\n",
    "\n",
    "def update_xygrid(dl=0.0, a=5e-2, x=0.004, y=-0.004, Nrt=3, Npts=20, **kwargs):\n",
    "    res = degeneracy_length(cavfct, parname, 1e-3)\n",
    "    Ldeg = res.x\n",
    "    elements = cavfct(**{parname: Ldeg+dl})\n",
    "    sys = RaySystem(elements)\n",
    "    \n",
    "    xx = np.linspace(-a*1e-1, a*1e-1, Npts)\n",
    "    coords = np.meshgrid(xx, xx)\n",
    "    pxy = np.stack(coords, axis=-1).reshape((-1,2))\n",
    "    xy = np.broadcast_to(np.array([x, y]), pxy.shape)\n",
    "    mu = np.concatenate((xy, pxy), axis=1)\n",
    "    ray = sys.screen.eigenvectors_to_rays(mu)\n",
    "    traj = sys.propagate(ray, Nrt=Nrt, at_screen=True)\n",
    "    pos = sys.screen.r_to_screen_coords(traj[-1,0,:,:])\n",
    "    linea.set_offsets(pxy)\n",
    "    lineb.set_offsets(pos)\n",
    "    plt.xlim(1.5*np.nanmin(pxy[:,0]), 1.5*np.nanmax(pxy[:,0]))\n",
    "    plt.ylim(1.5*np.nanmin(pxy[:,1]), 1.5*np.nanmax(pxy[:,1]))\n",
    "    fig.canvas.draw_idle()\n",
    "interactive(update_xygrid, dl=(-1, 1, 1e-3), a = (0,1,1e-3),\\\n",
    "            x=(-0.1,0.1,1e-3), y=(-0.1,0.1,1e-3), Nrt=(0,10,1), Npts=(10, 100, 10))"
   ]
  },
  {
   "cell_type": "code",
   "execution_count": null,
   "metadata": {},
   "outputs": [],
   "source": [
    "res = degeneracy_length(cavfct, parname, 1e-3)\n",
    "Ldeg = res.x\n",
    "elements = cavfct(**{parname: Ldeg+dl})\n",
    "sys = RaySystem(elements)\n",
    "\n",
    "a = 0.004\n",
    "pa = 0.006\n",
    "xx = np.linspace(-a*1e-1, a*1e-1, Npts)\n",
    "coords = np.meshgrid(xx, xx)\n",
    "pxy = np.stack(coords, axis=-1).reshape((-1,2))\n",
    "xy = np.broadcast_to(np.array([x, y]), pxy.shape)\n",
    "mu = np.concatenate((xy, pxy), axis=1)\n",
    "ray = sys.screen.eigenvectors_to_rays(mu)\n",
    "traj = sys.propagate(ray, Nrt=Nrt, at_screen=True)\n",
    "pos = sys.screen.r_to_screen_coords(traj[-1,0,:,:])\n",
    "linea.set_offsets(pxy)\n",
    "lineb.set_offsets(pos)\n",
    "plt.xlim(1.5*np.nanmin(pxy[:,0]), 1.5*np.nanmax(pxy[:,0]))\n",
    "plt.ylim(1.5*np.nanmin(pxy[:,1]), 1.5*np.nanmax(pxy[:,1]))"
   ]
  },
  {
   "cell_type": "code",
   "execution_count": 35,
   "metadata": {},
   "outputs": [
    {
     "data": {
      "application/vnd.jupyter.widget-view+json": {
       "model_id": "b854ade2eb3c4a4d92da07ef1596e793",
       "version_major": 2,
       "version_minor": 0
      },
      "text/plain": [
       "Canvas(toolbar=Toolbar(toolitems=[('Home', 'Reset original view', 'home', 'home'), ('Back', 'Back to previous …"
      ]
     },
     "metadata": {},
     "output_type": "display_data"
    },
    {
     "data": {
      "application/vnd.jupyter.widget-view+json": {
       "model_id": "c310f7dc848d4a3eace9e24cf06f1b5c",
       "version_major": 2,
       "version_minor": 0
      },
      "text/plain": [
       "interactive(children=(FloatSlider(value=27.768298126226423, description='dl', max=28.768298126226423, min=26.7…"
      ]
     },
     "metadata": {},
     "output_type": "display_data"
    }
   ],
   "source": [
    "fig, ax = plt.subplots(ncols=1, figsize=(6, 6))\n",
    "ms = 8.\n",
    "linea = plt.scatter(xy[:,0], xy[:,1], s=1., marker='.')\n",
    "lineb = plt.scatter(pos[:,0], pos[:,1], s=2.)\n",
    "plt.xlabel('x [mm]')\n",
    "plt.ylabel('y [mm]')\n",
    "\n",
    "def update_xygrid6(dl=Ldeg, dz=1.5825, a=0.1, px=1e-2, py=-1e-3, Nrt=1, Npts=20, **kwargs):\n",
    "    elements, _ = SixMirror(dx=dl, dzF=dz)\n",
    "    sys = RaySystem(elements)\n",
    "    \n",
    "    x = np.linspace(-a, a, Npts)\n",
    "    coords = np.meshgrid(x, x)\n",
    "    xy = np.stack(coords, axis=-1).reshape((-1,2))\n",
    "    pxy = np.broadcast_to(np.array([px, -py]), xy.shape)\n",
    "    mu = np.concatenate((xy, pxy), axis=1)\n",
    "    ray = sys.screen.eigenvectors_to_rays(mu)\n",
    "    traj = sys.propagate(ray, at_screen=True, Nrt=Nrt)\n",
    "    pos = sys.screen.r_to_screen_coords(traj[-1,0,:,:])\n",
    "    linea.set_offsets(xy)\n",
    "    lineb.set_offsets(pos)\n",
    "  \n",
    "    ax.relim()\n",
    "    #ax.autoscale_view()\n",
    "    fig.canvas.draw_idle()\n",
    "        \n",
    "interactive(update_xygrid6, dl=(Ldeg-1, Ldeg+1, 1e-2), dz=(0, 1.5825, 1e-2), a = (0,1,1e-2),\\\n",
    "            px=(-0.1,0.1,1e-3), py=(-0.1,0.1,1e-3), Nrt=(1,11,1), Npts=(10, 100, 10))"
   ]
  },
  {
   "cell_type": "code",
   "execution_count": 29,
   "metadata": {},
   "outputs": [],
   "source": [
    "plt.close(\"all\")"
   ]
  },
  {
   "cell_type": "code",
   "execution_count": null,
   "metadata": {},
   "outputs": [],
   "source": []
  }
 ],
 "metadata": {
  "kernelspec": {
   "display_name": "Python [conda env:.conda-sloppy]",
   "language": "python",
   "name": "conda-env-.conda-sloppy-py"
  },
  "language_info": {
   "codemirror_mode": {
    "name": "ipython",
    "version": 3
   },
   "file_extension": ".py",
   "mimetype": "text/x-python",
   "name": "python",
   "nbconvert_exporter": "python",
   "pygments_lexer": "ipython3",
   "version": "3.11.4"
  }
 },
 "nbformat": 4,
 "nbformat_minor": 4
}
