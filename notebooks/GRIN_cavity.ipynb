{
 "cells": [
  {
   "cell_type": "code",
   "execution_count": 1,
   "id": "2885c2f2",
   "metadata": {},
   "outputs": [],
   "source": [
    "%matplotlib widget\n",
    "from ipywidgets import *\n",
    "import numpy as np\n",
    "import k3d\n",
    "import matplotlib.pyplot as plt\n",
    "from scipy.optimize import minimize_scalar, brentq, minimize\n",
    "from sloppy.optic import *\n",
    "from sloppy.raytracing import *\n",
    "from sloppy.abcd import *\n",
    "from sloppy.utils import *\n",
    "from sloppy.tools import *"
   ]
  },
  {
   "cell_type": "code",
   "execution_count": 2,
   "id": "41a951c5-2ef2-44f8-b47a-856ec9695254",
   "metadata": {},
   "outputs": [],
   "source": [
    "from scipy.integrate import solve_ivp"
   ]
  },
  {
   "cell_type": "code",
   "execution_count": 3,
   "id": "cf0d8183-50c9-4084-8ebd-a3d72fc61242",
   "metadata": {},
   "outputs": [],
   "source": [
    "class ThinLens(ABCD):\n",
    "    def __init__(self, f):\n",
    "        self.f = f\n",
    "        m = np.identity(4, dtype=np.float64)\n",
    "        m[2,0] = -1./f\n",
    "        m[3,1] = -1./f\n",
    "        self.m = m\n",
    "        \n",
    "class CurvedMirror(ABCD):\n",
    "    def __init__(self, R):\n",
    "        self.R = R\n",
    "        m = np.identity(4, dtype=np.float64)\n",
    "        m[2,0] = -2./R\n",
    "        m[3,1] = -2./R\n",
    "        self.m = m"
   ]
  },
  {
   "cell_type": "code",
   "execution_count": 68,
   "id": "85261c9b-7eea-43c1-87b5-fb4dee04b164",
   "metadata": {},
   "outputs": [
    {
     "data": {
      "text/plain": [
       "array([[ 1.,  0., 10.,  0.],\n",
       "       [ 0.,  1.,  0., 10.],\n",
       "       [ 0.,  0.,  1.,  0.],\n",
       "       [ 0.,  0.,  0.,  1.]])"
      ]
     },
     "execution_count": 68,
     "metadata": {},
     "output_type": "execute_result"
    }
   ],
   "source": [
    "Prop(10).m"
   ]
  },
  {
   "cell_type": "markdown",
   "id": "1f9a00ee-6801-466a-b36d-52598cbbdcec",
   "metadata": {},
   "source": [
    "## Properties of the GRIN lens and effective focal length"
   ]
  },
  {
   "cell_type": "code",
   "execution_count": 4,
   "id": "8ba6acdd-4658-414e-bc84-4b36638c9a49",
   "metadata": {},
   "outputs": [],
   "source": [
    "g = 0.362 # gradient constant\n",
    "n0 = 1.624 # central index of refraction\n",
    "d = 1.8 #diameter\n",
    "z1p = (2*np.pi)/g # z 1 period\n",
    "zl = 3.96\n",
    "f = 1/(n0*g*np.sin(g*zl)) # focal length\n",
    "s = 1/(n0*g*np.tan(g*zl)) # working distance\n",
    "P = zl/z1p\n",
    "NA = n0*np.sqrt(1 - (1/np.cosh((g*d)/2))**2)"
   ]
  },
  {
   "cell_type": "code",
   "execution_count": 69,
   "id": "4d07addb-5ae9-4c70-a9d4-3ccac1f2933a",
   "metadata": {},
   "outputs": [
    {
     "data": {
      "text/plain": [
       "1.7171586269911967"
      ]
     },
     "execution_count": 69,
     "metadata": {},
     "output_type": "execute_result"
    }
   ],
   "source": [
    "f"
   ]
  },
  {
   "cell_type": "code",
   "execution_count": 6,
   "id": "961ea90a-1a0c-4f03-9365-f6785ab0898e",
   "metadata": {},
   "outputs": [
    {
     "name": "stdout",
     "output_type": "stream",
     "text": [
      "Working distance 0.235 mm\n",
      "Focal length 1.717 mm\n",
      "Pitch 0.228\n",
      "NA 0.511\n"
     ]
    }
   ],
   "source": [
    "print(f\"Working distance {s:.3f} mm\")\n",
    "print(f\"Focal length {f:.3f} mm\")\n",
    "print(f\"Pitch {P:.3f}\")\n",
    "print(f\"NA {NA:.3f}\")"
   ]
  },
  {
   "cell_type": "code",
   "execution_count": 7,
   "id": "ddff89ee-cadc-4d93-8adb-df26eaa414b0",
   "metadata": {},
   "outputs": [],
   "source": [
    "def n(x):\n",
    "    return n0/np.cosh(g*x)\n",
    "\n",
    "def dn(x):\n",
    "    return -(g*n0/np.cosh(g*x)*np.tanh(g*x))"
   ]
  },
  {
   "cell_type": "code",
   "execution_count": 8,
   "id": "f8b7ea58-fc1f-4446-918e-7a1b2639a1b7",
   "metadata": {},
   "outputs": [
    {
     "data": {
      "application/vnd.jupyter.widget-view+json": {
       "model_id": "8c31694a94e2414e8689e00cee9214c6",
       "version_major": 2,
       "version_minor": 0
      },
      "text/plain": [
       "Canvas(toolbar=Toolbar(toolitems=[('Home', 'Reset original view', 'home', 'home'), ('Back', 'Back to previous …"
      ]
     },
     "metadata": {},
     "output_type": "display_data"
    },
    {
     "data": {
      "text/plain": [
       "[<matplotlib.lines.Line2D at 0x14cf45b8fd0>]"
      ]
     },
     "execution_count": 8,
     "metadata": {},
     "output_type": "execute_result"
    }
   ],
   "source": [
    "x = np.linspace(-1, 1, 100)\n",
    "plt.figure()\n",
    "plt.plot(x, n(x))\n",
    "#plt.plot(x, dn(x))"
   ]
  },
  {
   "cell_type": "code",
   "execution_count": 9,
   "id": "585e967a-ed63-4fb1-a295-473547dfc6fd",
   "metadata": {},
   "outputs": [],
   "source": [
    "def fun(t, y):\n",
    "    x, u = y\n",
    "    return [u, n(x)*dn(x)]"
   ]
  },
  {
   "cell_type": "code",
   "execution_count": 10,
   "id": "bed306f8-fc21-49db-bc4c-05142c58d3bb",
   "metadata": {},
   "outputs": [],
   "source": [
    "zrange = 20\n",
    "Npts = 500\n",
    "zs = np.linspace(0, zrange, Npts)\n",
    "sol = [solve_ivp(fun, [0, zrange], [x, 0.0], t_eval=zs) for x in np.linspace(0.1, 2, 5)]"
   ]
  },
  {
   "cell_type": "code",
   "execution_count": 11,
   "id": "ef3e35f3-f7db-4d17-b9e4-cba65ef80659",
   "metadata": {},
   "outputs": [],
   "source": [
    "ts = np.array([s['t'] for s in sol])\n",
    "ys = np.array([s['y'][0] for s in sol])"
   ]
  },
  {
   "cell_type": "code",
   "execution_count": 12,
   "id": "8b17f25c-c03a-4d34-b52b-fab1a9665377",
   "metadata": {},
   "outputs": [
    {
     "data": {
      "application/vnd.jupyter.widget-view+json": {
       "model_id": "4175dbdd93684665860b2eaad9e7b9ef",
       "version_major": 2,
       "version_minor": 0
      },
      "text/plain": [
       "Canvas(toolbar=Toolbar(toolitems=[('Home', 'Reset original view', 'home', 'home'), ('Back', 'Back to previous …"
      ]
     },
     "metadata": {},
     "output_type": "display_data"
    },
    {
     "data": {
      "text/plain": [
       "<matplotlib.lines.Line2D at 0x14cf51365e0>"
      ]
     },
     "execution_count": 12,
     "metadata": {},
     "output_type": "execute_result"
    }
   ],
   "source": [
    "plt.figure()\n",
    "plt.plot(ts.T, ys.T)\n",
    "# plt.plot(sol['t'], -sol['y'][0])\n",
    "plt.axvline(zl/n0)"
   ]
  },
  {
   "cell_type": "code",
   "execution_count": 13,
   "id": "13165961-1c0e-4eab-a50b-b956caa1ab92",
   "metadata": {},
   "outputs": [
    {
     "data": {
      "application/vnd.jupyter.widget-view+json": {
       "model_id": "a8dc061bcc8d44ad85aeb7dca20fa884",
       "version_major": 2,
       "version_minor": 0
      },
      "text/plain": [
       "Canvas(toolbar=Toolbar(toolitems=[('Home', 'Reset original view', 'home', 'home'), ('Back', 'Back to previous …"
      ]
     },
     "metadata": {},
     "output_type": "display_data"
    },
    {
     "ename": "TypeError",
     "evalue": "list indices must be integers or slices, not str",
     "output_type": "error",
     "traceback": [
      "\u001b[1;31m---------------------------------------------------------------------------\u001b[0m",
      "\u001b[1;31mTypeError\u001b[0m                                 Traceback (most recent call last)",
      "\u001b[1;32m~\\AppData\\Local\\Temp/ipykernel_29932/2863807972.py\u001b[0m in \u001b[0;36m<module>\u001b[1;34m\u001b[0m\n\u001b[0;32m      1\u001b[0m \u001b[0mplt\u001b[0m\u001b[1;33m.\u001b[0m\u001b[0mfigure\u001b[0m\u001b[1;33m(\u001b[0m\u001b[1;33m)\u001b[0m\u001b[1;33m\u001b[0m\u001b[1;33m\u001b[0m\u001b[0m\n\u001b[1;32m----> 2\u001b[1;33m \u001b[0mplt\u001b[0m\u001b[1;33m.\u001b[0m\u001b[0mplot\u001b[0m\u001b[1;33m(\u001b[0m\u001b[0msol\u001b[0m\u001b[1;33m[\u001b[0m\u001b[1;34m't'\u001b[0m\u001b[1;33m]\u001b[0m\u001b[1;33m,\u001b[0m \u001b[0msol\u001b[0m\u001b[1;33m[\u001b[0m\u001b[1;34m'y'\u001b[0m\u001b[1;33m]\u001b[0m\u001b[1;33m[\u001b[0m\u001b[1;36m0\u001b[0m\u001b[1;33m]\u001b[0m\u001b[1;33m)\u001b[0m\u001b[1;33m\u001b[0m\u001b[1;33m\u001b[0m\u001b[0m\n\u001b[0m\u001b[0;32m      3\u001b[0m \u001b[0mplt\u001b[0m\u001b[1;33m.\u001b[0m\u001b[0mplot\u001b[0m\u001b[1;33m(\u001b[0m\u001b[0msol\u001b[0m\u001b[1;33m[\u001b[0m\u001b[1;34m't'\u001b[0m\u001b[1;33m]\u001b[0m\u001b[1;33m,\u001b[0m \u001b[1;33m-\u001b[0m\u001b[0msol\u001b[0m\u001b[1;33m[\u001b[0m\u001b[1;34m'y'\u001b[0m\u001b[1;33m]\u001b[0m\u001b[1;33m[\u001b[0m\u001b[1;36m0\u001b[0m\u001b[1;33m]\u001b[0m\u001b[1;33m)\u001b[0m\u001b[1;33m\u001b[0m\u001b[1;33m\u001b[0m\u001b[0m\n\u001b[0;32m      4\u001b[0m \u001b[0mplt\u001b[0m\u001b[1;33m.\u001b[0m\u001b[0maxvline\u001b[0m\u001b[1;33m(\u001b[0m\u001b[0mzl\u001b[0m\u001b[1;33m/\u001b[0m\u001b[0mn0\u001b[0m\u001b[1;33m)\u001b[0m\u001b[1;33m\u001b[0m\u001b[1;33m\u001b[0m\u001b[0m\n",
      "\u001b[1;31mTypeError\u001b[0m: list indices must be integers or slices, not str"
     ]
    }
   ],
   "source": [
    "plt.figure()\n",
    "plt.plot(sol['t'], sol['y'][0])\n",
    "plt.plot(sol['t'], -sol['y'][0])\n",
    "plt.axvline(zl/n0)"
   ]
  },
  {
   "cell_type": "code",
   "execution_count": 14,
   "id": "b4aae110-d574-4223-b97e-ecc4f7ee5c61",
   "metadata": {},
   "outputs": [
    {
     "data": {
      "application/vnd.jupyter.widget-view+json": {
       "model_id": "9f29363cc6f940ccac7b61d1a115bc4d",
       "version_major": 2,
       "version_minor": 0
      },
      "text/plain": [
       "Canvas(toolbar=Toolbar(toolitems=[('Home', 'Reset original view', 'home', 'home'), ('Back', 'Back to previous …"
      ]
     },
     "metadata": {},
     "output_type": "display_data"
    },
    {
     "name": "stdout",
     "output_type": "stream",
     "text": [
      "w_cav = 1.372 um, w_ref = 590.812 um\n"
     ]
    }
   ],
   "source": [
    "eps = -0.02\n",
    "dprop = 100.0\n",
    "Rmirr = 150.0\n",
    "\n",
    "eps = -0.007\n",
    "dprop = 200.0\n",
    "Rmirr = 10000.0\n",
    "\n",
    "elemets = [Prop(f-eps), ThinLens(f), Prop(dprop), CurvedMirror(Rmirr), Prop(dprop), ThinLens(f), Prop(f-eps)]\n",
    "elemets_ref = [Prop(f-eps), Prop(dprop), CurvedMirror(Rmirr), Prop(dprop), Prop(f-eps)]\n",
    "abcd_cav = ABCDSystem(elemets)\n",
    "abcd_ref = ABCDSystem(elemets_ref)\n",
    "#x = np.linspace(0, abcd_cav.Ltot, 500)\n",
    "x = np.linspace(0, 3.0, 500)\n",
    "ws = abcd_cav.compute_waists(x)\n",
    "ws_ref = abcd_ref.compute_waists(x)\n",
    "plt.figure()\n",
    "plt.plot(x, ws*1e3)\n",
    "plt.plot(x, ws_ref*1e3)\n",
    "plt.show()\n",
    "print(f'w_cav = {ws[0][0]*1e3:.3f} um, w_ref = {ws_ref[0][0]*1e3:.3f} um')"
   ]
  },
  {
   "cell_type": "code",
   "execution_count": 15,
   "id": "ee09ab77-3035-4cde-b270-af1dc82b7403",
   "metadata": {},
   "outputs": [],
   "source": [
    "def grin_cavity(eps = -0.02, dprop = 100.0, Rmirr = 150.0):\n",
    "    return [Prop(f-eps), ThinLens(f), Prop(dprop), CurvedMirror(Rmirr), Prop(dprop), ThinLens(f), Prop(f-eps)]"
   ]
  },
  {
   "cell_type": "code",
   "execution_count": 16,
   "id": "b4bd0091-1a7c-4275-a166-eea9e227816d",
   "metadata": {},
   "outputs": [],
   "source": [
    "def grin_cavity_2(eps = -0.02, dprop = 100.0, Rmirr = 150.0):\n",
    "    return [Prop(f-eps), ThinLens(f), Prop(dprop+eps), CurvedMirror(Rmirr), Prop(dprop+eps), ThinLens(f), Prop(f-eps)]"
   ]
  },
  {
   "cell_type": "code",
   "execution_count": 90,
   "id": "2fb66137-21c8-49e6-8c51-57a2f3d073e1",
   "metadata": {
    "tags": []
   },
   "outputs": [],
   "source": [
    "def _waists_vs_param(cavfct, parname, scanrange, N=300, degmodenum=1, s=3, plot=True):\n",
    "    stab = lambda m: abs(0.5*np.trace(m))<1\n",
    "    La = inspect.signature(cavfct).parameters[parname].default\n",
    "    if isinstance(scanrange, tuple):\n",
    "        Las = np.linspace(scanrange[0], scanrange[1], N)\n",
    "    else:\n",
    "        Las = La + np.linspace(-scanrange*La, scanrange*La, N)\n",
    "    ms = np.zeros((N))\n",
    "    ws = np.zeros((N,2))\n",
    "    freqs = np.zeros((N,4))\n",
    "    for i, l in enumerate(Las):\n",
    "        pardct = {parname: l}\n",
    "        try:\n",
    "            system = ABCDSystem(cavfct(**pardct))\n",
    "            w = system.waist_at(0)\n",
    "            if abs(w[0])*1e3 > 10:\n",
    "                w = w*np.nan\n",
    "        except:\n",
    "            ws[i,:] = np.nan\n",
    "            ms[i] = np.nan\n",
    "            freqs[i,...] = np.nan\n",
    "        else:\n",
    "            ms[i] = stab(system.abcd_rt)\n",
    "            ws[i,:] = np.sort(w)\n",
    "            freqs[i,...] = np.concatenate(system.get_freqs(s=s))\n",
    "\n",
    "    # find the degeneracy condition: smallest s-fold transverse mode splitting with a stable mode\n",
    "    degIdx=1+degmodenum\n",
    "    #stable_mode_mask = [all(wpair>0) for wpair in ws]\n",
    "    #subset_idx = np.argmin(np.abs(freqs[:,degIdx][stable_mode_mask]))\n",
    "    #idx = np.arange(np.abs(freqs[:,degIdx]).shape[0])[stable_mode_mask][subset_idx] \n",
    "    idx = np.argmin(np.abs(freqs[:,degIdx]))\n",
    "    if plot:\n",
    "        g, ax = plt.subplots(ncols=2, figsize=(8,4))\n",
    "        ax[0].plot(Las*1e3, ws*1e3)\n",
    "        ax[0].set_ylabel('waist [um]')\n",
    "        ax[1].plot(Las*1e3, freqs*1e-6)\n",
    "        ax[1].set_ylabel('MHz')\n",
    "        #ax[1].axhline(0, color='grey')\n",
    "        #ax[0].axvline(Las[idx], color='grey')\n",
    "        #ax[1].axvline(Las[idx], color='grey')\n",
    "        #plt.show()\n",
    "        Ldeg = Las[idx]\n",
    "        return Ldeg, ax\n",
    "    else:\n",
    "        return Las, ws"
   ]
  },
  {
   "cell_type": "code",
   "execution_count": 95,
   "id": "64563ec7-aa3a-4683-81d2-9d924c9ce1cb",
   "metadata": {},
   "outputs": [
    {
     "name": "stderr",
     "output_type": "stream",
     "text": [
      "c:\\users\\simonlab\\documents\\lukas\\03_theory\\abcd\\sloppy\\src\\sloppy\\abcd.py:243: RuntimeWarning: invalid value encountered in sqrt\n",
      "  ws = np.sqrt(lam/(-n*np.pi)*((1/di.imag) if all(di.imag!=0) else np.array([np.nan, np.nan])))\n"
     ]
    },
    {
     "data": {
      "application/vnd.jupyter.widget-view+json": {
       "model_id": "72f5ff41ce804efb92708a2ff159076a",
       "version_major": 2,
       "version_minor": 0
      },
      "text/plain": [
       "Canvas(toolbar=Toolbar(toolitems=[('Home', 'Reset original view', 'home', 'home'), ('Back', 'Back to previous …"
      ]
     },
     "metadata": {},
     "output_type": "display_data"
    }
   ],
   "source": [
    "def grin_cavity_3(eps = -0.02, dprop = 500.0, Rmirr = 100000.0):\n",
    "    g = 0.362 # gradient constant\n",
    "    n0 = 1.624 # central index of refraction\n",
    "    d = 1.8 #diameter\n",
    "    z1p = (2*np.pi)/g # z 1 period\n",
    "    zl = 3.96\n",
    "    f = 1/(n0*g*np.sin(g*zl)) # focal length\n",
    "    s = 1/(n0*g*np.tan(g*zl)) # working distance\n",
    "    P = zl/z1p\n",
    "    NA = n0*np.sqrt(1 - (1/np.cosh((g*d)/2))**2)\n",
    "#     return [Prop(f-eps), ThinLens(f), Prop(dprop+eps), CurvedMirror(Rmirr), Prop(dprop+eps), ThinLens(f), Prop(f-eps)]\n",
    "    return [Prop(f-eps), ThinLens(f), Prop(2*(dprop+eps)), ThinLens(f), Prop(f-eps)]\n",
    "\n",
    "_, ax = _waists_vs_param(grin_cavity_3, 'eps', (-0.05, 0.05), s=1)\n",
    "ax[0].set_xlabel('eps [um]')\n",
    "ax[1].set_xlabel('eps [um]')\n",
    "plt.show()"
   ]
  },
  {
   "cell_type": "code",
   "execution_count": 102,
   "id": "dfd3c9e7-fe34-4481-b68e-67454d66aeda",
   "metadata": {},
   "outputs": [
    {
     "data": {
      "application/vnd.jupyter.widget-view+json": {
       "model_id": "ccbe1d6be7bf46879cb2fc8567dc0036",
       "version_major": 2,
       "version_minor": 0
      },
      "text/plain": [
       "Canvas(toolbar=Toolbar(toolitems=[('Home', 'Reset original view', 'home', 'home'), ('Back', 'Back to previous …"
      ]
     },
     "metadata": {},
     "output_type": "display_data"
    }
   ],
   "source": [
    "_, ax = _waists_vs_param(grin_cavity_3b, 'dprop', (10, 200), s=1)\n",
    "ax[0].set_xlabel('eps [um]')\n",
    "ax[1].set_xlabel('eps [um]')\n",
    "plt.show()"
   ]
  },
  {
   "cell_type": "code",
   "execution_count": 106,
   "id": "0041ecbf-8a8f-4feb-8831-77fef1d8b27a",
   "metadata": {},
   "outputs": [
    {
     "data": {
      "application/vnd.jupyter.widget-view+json": {
       "model_id": "208747fb0eda4f8983b0676a57c46cb8",
       "version_major": 2,
       "version_minor": 0
      },
      "text/plain": [
       "Canvas(toolbar=Toolbar(toolitems=[('Home', 'Reset original view', 'home', 'home'), ('Back', 'Back to previous …"
      ]
     },
     "metadata": {},
     "output_type": "display_data"
    }
   ],
   "source": [
    "_, ax = _waists_vs_param(grin_cavity_3b, 'eps', (-0.05, 0.05), s=1)\n",
    "ax[0].set_xlabel('eps [um]')\n",
    "ax[1].set_xlabel('eps [um]')\n",
    "plt.show()"
   ]
  },
  {
   "cell_type": "markdown",
   "id": "848378c0-0cf8-4809-9a97-86cb3f8c0131",
   "metadata": {},
   "source": [
    "## Test clipping behaviour"
   ]
  },
  {
   "cell_type": "code",
   "execution_count": 104,
   "id": "5c2e7c6c-2c51-4ddf-94ac-b20cd428572b",
   "metadata": {},
   "outputs": [],
   "source": [
    "def grin_cavity_3b(eps = -0.02, dprop = 100.0, Rmirr = 100000.0):\n",
    "    g = 0.362 # gradient constant\n",
    "    n0 = 1.624 # central index of refraction\n",
    "    d = 1.8 #diameter\n",
    "    z1p = (2*np.pi)/g # z 1 period\n",
    "    zl = 3.96\n",
    "    f = 1/(n0*g*np.sin(g*zl)) # focal length\n",
    "    s = 1/(n0*g*np.tan(g*zl)) # working distance\n",
    "    P = zl/z1p\n",
    "    NA = n0*np.sqrt(1 - (1/np.cosh((g*d)/2))**2)\n",
    "#     return [Prop(f-eps), ThinLens(f), Prop(dprop+eps), CurvedMirror(Rmirr), Prop(dprop+eps), ThinLens(f), Prop(f-eps)]\n",
    "    return [ThinLens(f), Prop(2*(dprop+eps)), ThinLens(f), Prop(2*(f-eps))]"
   ]
  },
  {
   "cell_type": "code",
   "execution_count": 98,
   "id": "403d603a-96ad-46e8-9fde-0c8014f5206c",
   "metadata": {},
   "outputs": [],
   "source": [
    "ls, ws = _waists_vs_param(grin_cavity_3b, 'dprop', (10, 100), s=1, plot=False)"
   ]
  },
  {
   "cell_type": "code",
   "execution_count": 89,
   "id": "75c969db-f662-42fb-a39f-6f50a737fc12",
   "metadata": {},
   "outputs": [],
   "source": [
    "def ClipLoss(R, sig):\n",
    "    return np.exp(-2*R**2/(sig**2))"
   ]
  },
  {
   "cell_type": "code",
   "execution_count": 100,
   "id": "c3d5e943-d839-47ac-b185-4a4522b13341",
   "metadata": {},
   "outputs": [
    {
     "data": {
      "text/plain": [
       "array([nan, nan, nan, nan, nan, nan, nan, nan, nan, nan, nan, nan, nan,\n",
       "       nan, nan, nan, nan, nan, nan, nan, nan, nan, nan, nan, nan, nan,\n",
       "       nan, nan, nan, nan, nan, nan, nan, nan, nan, nan, nan, nan, nan,\n",
       "       nan, nan, nan, nan, nan, nan, nan, nan, nan, nan, nan, nan, nan,\n",
       "       nan, nan, nan, nan, nan, nan, nan, nan, nan, nan, nan, nan, nan,\n",
       "       nan, nan, nan, nan, nan, nan, nan, nan, nan, nan, nan, nan, nan,\n",
       "       nan, nan, nan, nan, nan, nan, nan, nan, nan, nan, nan, nan, nan,\n",
       "       nan, nan, nan, nan, nan, nan, nan, nan, nan, nan, nan, nan, nan,\n",
       "       nan, nan, nan, nan, nan, nan, nan, nan, nan, nan, nan, nan, nan,\n",
       "       nan, nan, nan, nan, nan, nan, nan, nan, nan, nan, nan, nan, nan,\n",
       "       nan, nan, nan, nan, nan, nan, nan, nan, nan, nan, nan, nan, nan,\n",
       "       nan, nan, nan, nan, nan, nan, nan, nan, nan, nan, nan, nan, nan,\n",
       "       nan, nan, nan, nan, nan, nan, nan, nan, nan, nan, nan, nan, nan,\n",
       "       nan, nan, nan, nan, nan, nan, nan, nan, nan, nan, nan, nan, nan,\n",
       "       nan, nan, nan, nan, nan, nan, nan, nan, nan, nan, nan, nan, nan,\n",
       "       nan, nan, nan, nan, nan, nan, nan, nan, nan, nan, nan, nan, nan,\n",
       "       nan, nan, nan, nan, nan, nan, nan, nan, nan, nan, nan, nan, nan,\n",
       "       nan, nan, nan, nan, nan, nan, nan, nan, nan, nan, nan, nan, nan,\n",
       "       nan, nan, nan, nan, nan, nan, nan, nan, nan, nan, nan, nan, nan,\n",
       "       nan, nan, nan, nan, nan, nan, nan, nan, nan, nan, nan, nan, nan,\n",
       "       nan, nan, nan, nan, nan, nan, nan, nan, nan, nan, nan, nan, nan,\n",
       "       nan, nan, nan, nan, nan, nan, nan, nan, nan, nan, nan, nan, nan,\n",
       "       nan, nan, nan, nan, nan, nan, nan, nan, nan, nan, nan, nan, nan,\n",
       "       nan])"
      ]
     },
     "execution_count": 100,
     "metadata": {},
     "output_type": "execute_result"
    }
   ],
   "source": [
    "ws[:,0]"
   ]
  },
  {
   "cell_type": "code",
   "execution_count": 99,
   "id": "c03de813-99a6-4a6f-a2b9-66ec43644d6c",
   "metadata": {},
   "outputs": [
    {
     "data": {
      "application/vnd.jupyter.widget-view+json": {
       "model_id": "4b938bc384ce4f048d9af1f7967af46f",
       "version_major": 2,
       "version_minor": 0
      },
      "text/plain": [
       "Canvas(toolbar=Toolbar(toolitems=[('Home', 'Reset original view', 'home', 'home'), ('Back', 'Back to previous …"
      ]
     },
     "metadata": {},
     "output_type": "display_data"
    },
    {
     "data": {
      "text/plain": [
       "[<matplotlib.lines.Line2D at 0x14c829df910>]"
      ]
     },
     "execution_count": 99,
     "metadata": {},
     "output_type": "execute_result"
    }
   ],
   "source": [
    "plt.figure()\n",
    "# plt.plot(ls, ws[:,0])\n",
    "plt.plot(ls, ClipLoss(0.5,ws[:,0]))"
   ]
  },
  {
   "cell_type": "code",
   "execution_count": 78,
   "id": "a4e31ffb-69d7-4bc2-812b-128199102eff",
   "metadata": {},
   "outputs": [],
   "source": [
    "idx = np.nanargmax(ws[:,0])"
   ]
  },
  {
   "cell_type": "code",
   "execution_count": null,
   "id": "5870fbd3-ce78-493d-b1ac-274e355a6d3d",
   "metadata": {},
   "outputs": [],
   "source": []
  },
  {
   "cell_type": "code",
   "execution_count": 129,
   "id": "ac023b00-5a0b-4702-9fc6-35d96a6cb52c",
   "metadata": {
    "collapsed": true,
    "jupyter": {
     "outputs_hidden": true
    },
    "tags": []
   },
   "outputs": [
    {
     "data": {
      "image/png": "[encoded data removed]",
      "text/plain": [
       "<Figure size 576x288 with 2 Axes>"
      ]
     },
     "metadata": {
      "needs_background": "light"
     },
     "output_type": "display_data"
    },
    {
     "data": {
      "text/plain": [
       "1.0"
      ]
     },
     "execution_count": 129,
     "metadata": {},
     "output_type": "execute_result"
    }
   ],
   "source": [
    "_waists_vs_param(grin_cavity_2, 'dprop', (1, 500.0), s=1)"
   ]
  },
  {
   "cell_type": "code",
   "execution_count": 45,
   "id": "fa907d4c-640d-43e5-9ebb-3b4d88d40ef6",
   "metadata": {
    "collapsed": true,
    "jupyter": {
     "outputs_hidden": true
    },
    "tags": []
   },
   "outputs": [
    {
     "name": "stderr",
     "output_type": "stream",
     "text": [
      "C:\\Users\\simonlab\\.conda\\envs\\sloppy\\lib\\site-packages\\ipykernel_launcher.py:13: RuntimeWarning: divide by zero encountered in double_scalars\n",
      "  del sys.path[0]\n",
      "C:\\Users\\simonlab\\.conda\\envs\\sloppy\\lib\\site-packages\\ipykernel_launcher.py:14: RuntimeWarning: divide by zero encountered in double_scalars\n",
      "  \n",
      "c:\\users\\simonlab\\documents\\lukas\\03_theory\\abcd\\sloppy\\src\\sloppy\\abcd.py:154: RuntimeWarning: invalid value encountered in matmul\n",
      "  abcd=ele.m@abcd\n",
      "c:\\users\\simonlab\\documents\\lukas\\03_theory\\abcd\\sloppy\\src\\sloppy\\abcd.py:152: RuntimeWarning: invalid value encountered in matmul\n",
      "  abcd=ele.m@abcd\n",
      "c:\\users\\simonlab\\documents\\lukas\\03_theory\\abcd\\sloppy\\src\\sloppy\\abcd.py:243: RuntimeWarning: invalid value encountered in sqrt\n",
      "  ws = np.sqrt(lam/(-n*np.pi)*((1/di.imag) if all(di.imag!=0) else np.array([np.nan, np.nan])))\n"
     ]
    },
    {
     "data": {
      "image/png": "[encoded data removed]",
      "text/plain": [
       "<Figure size 576x288 with 2 Axes>"
      ]
     },
     "metadata": {
      "needs_background": "light"
     },
     "output_type": "display_data"
    },
    {
     "data": {
      "text/plain": [
       "0.0"
      ]
     },
     "execution_count": 45,
     "metadata": {},
     "output_type": "execute_result"
    }
   ],
   "source": [
    "_waists_vs_param(grin_cavity_2, 'Rmirr', (0, 1000.0), s=1)"
   ]
  },
  {
   "cell_type": "code",
   "execution_count": 19,
   "id": "cb6e7250-24a1-4c33-8e4c-7333193275fc",
   "metadata": {},
   "outputs": [
    {
     "name": "stderr",
     "output_type": "stream",
     "text": [
      "c:\\users\\simonlab\\documents\\lukas\\03_theory\\abcd\\sloppy\\src\\sloppy\\abcd.py:243: RuntimeWarning: invalid value encountered in sqrt\n",
      "  ws = np.sqrt(lam/(-n*np.pi)*((1/di.imag) if all(di.imag!=0) else np.array([np.nan, np.nan])))\n"
     ]
    },
    {
     "data": {
      "application/vnd.jupyter.widget-view+json": {
       "model_id": "e8117ba8d65b42148470fde078923e0a",
       "version_major": 2,
       "version_minor": 0
      },
      "text/plain": [
       "Canvas(toolbar=Toolbar(toolitems=[('Home', 'Reset original view', 'home', 'home'), ('Back', 'Back to previous …"
      ]
     },
     "metadata": {},
     "output_type": "display_data"
    },
    {
     "data": {
      "text/plain": [
       "(0.0, 10.0)"
      ]
     },
     "execution_count": 19,
     "metadata": {},
     "output_type": "execute_result"
    }
   ],
   "source": [
    "def grin_cavity_running(eps = -0.02, dprop = 130.0):\n",
    "    g = 0.362 # gradient constant\n",
    "    n0 = 1.624 # central index of refraction\n",
    "    d = 1.8 #diameter\n",
    "    z1p = (2*np.pi)/g # z 1 period\n",
    "    zl = 3.96\n",
    "    f = 1/(n0*g*np.sin(g*zl)) # focal length\n",
    "    s = 1/(n0*g*np.tan(g*zl)) # working distance\n",
    "    P = zl/z1p\n",
    "    NA = n0*np.sqrt(1 - (1/np.cosh((g*d)/2))**2)\n",
    "    return [Prop(f-eps), ThinLens(f), Prop(dprop+2*eps), ThinLens(f), Prop(f-eps)]\n",
    "\n",
    "_, ax = _waists_vs_param(grin_cavity_running, 'eps', (-0.07, 0.1), s=1)\n",
    "ax[0].set_ylim(0, 10)"
   ]
  },
  {
   "cell_type": "markdown",
   "id": "3585addd-f2fa-49ba-8fc5-1fd178a78263",
   "metadata": {},
   "source": [
    "## Mode matching"
   ]
  },
  {
   "cell_type": "code",
   "execution_count": 21,
   "id": "168e1765-89c8-4c07-80af-f0c6f22e840b",
   "metadata": {},
   "outputs": [
    {
     "data": {
      "application/vnd.jupyter.widget-view+json": {
       "model_id": "2affcd078ff94c4aa6e22044e7ed3790",
       "version_major": 2,
       "version_minor": 0
      },
      "text/plain": [
       "Canvas(toolbar=Toolbar(toolitems=[('Home', 'Reset original view', 'home', 'home'), ('Back', 'Back to previous …"
      ]
     },
     "metadata": {},
     "output_type": "display_data"
    },
    {
     "name": "stdout",
     "output_type": "stream",
     "text": [
      "w_cav = 1.875 um, w_ref = 590.812 um\n"
     ]
    }
   ],
   "source": [
    "elemets = grin_cavity_3(eps=-20*1e-3, dprop=100.0)\n",
    "abcd_cav = ABCDSystem(elemets)\n",
    "x = np.linspace(0, abcd_cav.Ltot*1.005, 5000)\n",
    "#x = np.linspace(0, 10, 500)\n",
    "ws = abcd_cav.compute_waists(x)\n",
    "# ws_ref = abcd_ref.compute_waists(x)\n",
    "plt.figure()\n",
    "plt.plot(x, ws*1e3)\n",
    "# plt.plot(x, ws_ref*1e3)\n",
    "plt.show()\n",
    "print(f'w_cav = {ws[0][0]*1e3:.3f} um, w_ref = {ws_ref[0][0]*1e3:.3f} um')"
   ]
  },
  {
   "cell_type": "code",
   "execution_count": 23,
   "id": "f8d0d8d3-f2a2-4b65-9508-10044fa5a1ff",
   "metadata": {},
   "outputs": [],
   "source": [
    "q_w = abcd_cav.q_at(0.0)"
   ]
  },
  {
   "cell_type": "code",
   "execution_count": 67,
   "id": "3fdb0cd4-3f0c-4615-bf2c-369ce7546635",
   "metadata": {},
   "outputs": [
    {
     "data": {
      "application/vnd.jupyter.widget-view+json": {
       "model_id": "0e6d065045184713964cc7e0cfdc80c4",
       "version_major": 2,
       "version_minor": 0
      },
      "text/plain": [
       "Canvas(toolbar=Toolbar(toolitems=[('Home', 'Reset original view', 'home', 'home'), ('Back', 'Back to previous …"
      ]
     },
     "metadata": {},
     "output_type": "display_data"
    }
   ],
   "source": [
    "d_im = 11 #10-2 #11.0\n",
    "f_im = 11#11.0 \n",
    "elemets_im = [Prop(d_im), ThinLens(f_im), Prop(300.0), ThinLens(500.0), Prop(500)]\n",
    "# elemets_im = [Prop(d_im), ThinLens(f_im), Prop(100.0), ThinLens(-50.0), Prop(40), ThinLens(200.0), Prop(200) ]\n",
    "abcd_im = ABCDSystem(elemets_im)\n",
    "\n",
    "x_im = np.linspace(0, abcd_im.Ltot+20, 1000)\n",
    "ws_im = abcd_im.compute_waists(x_im, qin=q_w)\n",
    "plt.figure()\n",
    "plt.plot(x_im, ws_im)\n",
    "plt.axhline(0.5)\n",
    "plt.xlabel(\"propagation distance [mm]\")\n",
    "plt.ylabel(\"beam size (radius) [mm]\")\n",
    "plt.show()"
   ]
  },
  {
   "cell_type": "code",
   "execution_count": 37,
   "id": "f0529241-efff-4466-b582-58a1a523261a",
   "metadata": {},
   "outputs": [],
   "source": [
    "plt.close()"
   ]
  },
  {
   "cell_type": "code",
   "execution_count": 115,
   "id": "1709c12c-3b7d-43d4-8455-5d5cfaf8d5c3",
   "metadata": {},
   "outputs": [],
   "source": [
    "ng = 1.517 # fused silica 1.4537\n",
    "d_mirr = 4.0\n",
    "#C240TMD-B (EFL 8.0mm)\n",
    "nl = 1.517 # BK7  \n",
    "# d_lens = 3.43\n",
    "# R_lens = 4.638124 #(https://www.thorlabs.com/newgrouppage9.cfm?objectgroup_id=3811)\n",
    "\n",
    "#C220TMD-B (EFL 11.0mm)\n",
    "# nl = 1.517 # BK7  \n",
    "# d_lens = 5.0\n",
    "# R_lens = 6.428132 #(https://www.thorlabs.com/newgrouppage9.cfm?objectgroup_id=3811)\n",
    "\n",
    "# LA4647-B\n",
    "d_lens = 4.3\n",
    "R_lens = 9.2 #https://www.thorlabs.com/newgrouppage9.cfm?objectgroup_id=6532&pn=LA4647-B#6533 \n",
    "\n",
    "d_im = 20.0-d_mirr #8.35-1.1-1 #8.35#from mirror back face to end of small optics adapter\n",
    "\n",
    "elemets_im = [ABCD(Glass(n2=ng).m), Prop(d_mirr, n=ng), ABCD(Glass(n1=ng).m), Prop(d_im),\\\n",
    "                ABCD(Glass(n2=ng).m), Prop(d_lens, n=ng),  ABCD(CurvedGlass(R=-R_lens, curv='CC', n1=ng).m),\\\n",
    "                   Prop(50.0)]\n",
    "abcd_im = ABCDSystem(elemets_im)"
   ]
  },
  {
   "cell_type": "code",
   "execution_count": null,
   "id": "3412d804-7ec4-4324-b9c5-56d1d5eb1234",
   "metadata": {},
   "outputs": [],
   "source": [
    "x_im = np.linspace(0, abcd_im.Ltot, 500)\n",
    "ws_im = abcd_im.compute_waists(x_im, qin=q_w)\n",
    "plt.figure()\n",
    "plt.plot(x_im, ws_im)\n",
    "plt.axhline(6.0)\n",
    "plt.show()"
   ]
  },
  {
   "cell_type": "code",
   "execution_count": 106,
   "id": "fa4a5c62-ea54-47ff-9fea-5555400e2645",
   "metadata": {},
   "outputs": [],
   "source": [
    "q_in = abcd_cav.q_at(abcd_cav.Ltot/2) "
   ]
  },
  {
   "cell_type": "code",
   "execution_count": 46,
   "id": "f08a180a-c8aa-4431-8c89-cec912c53dc1",
   "metadata": {},
   "outputs": [],
   "source": [
    "d_mm = 10.0-2\n",
    "f_mm = 11.0 \n",
    "elemets_mm = [Prop(d_mm), ThinLens(f_mm), Prop(100.0)]\n",
    "abcd_mm = ABCDSystem(elemets_mm)"
   ]
  },
  {
   "cell_type": "code",
   "execution_count": null,
   "id": "cf7f689a-a42c-4a9b-8aef-44ac35c8a831",
   "metadata": {},
   "outputs": [],
   "source": []
  }
 ],
 "metadata": {
  "kernelspec": {
   "display_name": "Python [conda env:.conda-sloppy]",
   "language": "python",
   "name": "conda-env-.conda-sloppy-py"
  },
  "language_info": {
   "codemirror_mode": {
    "name": "ipython",
    "version": 3
   },
   "file_extension": ".py",
   "mimetype": "text/x-python",
   "name": "python",
   "nbconvert_exporter": "python",
   "pygments_lexer": "ipython3",
   "version": "3.9.7"
  }
 },
 "nbformat": 4,
 "nbformat_minor": 5
}
