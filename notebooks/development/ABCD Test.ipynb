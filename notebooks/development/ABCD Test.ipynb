{
 "cells": [
  {
   "cell_type": "code",
   "execution_count": 1,
   "metadata": {},
   "outputs": [],
   "source": [
    "%load_ext autoreload\n",
    "%autoreload 2"
   ]
  },
  {
   "cell_type": "code",
   "execution_count": 2,
   "metadata": {},
   "outputs": [],
   "source": [
    "%matplotlib widget\n",
    "import numpy as np\n",
    "import matplotlib.pyplot as plt\n",
    "import k3d\n",
    "from ipywidgets import *\n",
    "from abcd import *\n",
    "from utils import *"
   ]
  },
  {
   "cell_type": "code",
   "execution_count": 3,
   "metadata": {},
   "outputs": [
    {
     "data": {
      "text/plain": [
       "abcd.ABCD"
      ]
     },
     "execution_count": 3,
     "metadata": {},
     "output_type": "execute_result"
    }
   ],
   "source": [
    "ABCD"
   ]
  },
  {
   "cell_type": "code",
   "execution_count": 4,
   "metadata": {},
   "outputs": [],
   "source": [
    "def geometry(mir, roc):\n",
    "    Nm = len(mir)\n",
    "    M = mir[:,None,:]-mir[None,:,:]\n",
    "    m = norm(M)\n",
    "    \n",
    "    n = norm(np.array([np.cross(m[j,j-1],m[j,(j+1)%Nm]) for j in range(Nm)]))\n",
    "    refl = norm(np.array([0.5*(m[j,j-1]+m[j,(j+1)%Nm]) for j in range(Nm)])) #vectors normal to reflecting mirrors\n",
    "    angles = np.array([0.5*np.arccos(np.dot(m[j,j-1],m[j,(j+1)%Nm])) for j in range(Nm)])\n",
    "    xin = n\n",
    "    xout = n\n",
    "    yin = norm(np.array([np.cross(n[j],m[j,j-1]) for j in range(Nm)]))\n",
    "    yout = norm(np.array([np.cross(n[j],m[j,(j+1)%Nm]) for j in range(Nm)]))\n",
    "    R = np.stack([np.array([[xout[i]@xin[(i+1)%Nm], yout[i]@xin[(i+1)%Nm]],\\\n",
    "                            [xout[i]@yin[(i+1)%Nm], yout[i]@yin[(i+1)%Nm]]]) for i in range(Nm)], axis=0)\n",
    "    \n",
    "    Ls = [np.linalg.norm(M[j-1,j]) for j in range(Nm)]\n",
    "    Lrt = sum(Ls)\n",
    "    #Mrt = np.identity(4)\n",
    "    elements = []\n",
    "    for i in range(Nm):\n",
    "        d = np.linalg.norm(M[i-1,i])/2\n",
    "        #Mrt = Prop(d)@Rot(R[i])@Mirror(roc[i], angles[i])@Prop(d)@Mrt\n",
    "        elements.append(Prop(d))\n",
    "        elements.append(Mirror(roc[i], angles[i]))\n",
    "        elements.append(Rot(R[i]))\n",
    "        elements.append(Prop(d))\n",
    "    geom = {'mir': mir, 'Ls': Ls, 'Lrt': Lrt, 'm': m, 'n': n, 'refl': refl, 'yin': yin, 'yout': yout}\n",
    "    return {'elements': elements, 'geometry': geom}"
   ]
  },
  {
   "cell_type": "code",
   "execution_count": 17,
   "metadata": {},
   "outputs": [],
   "source": [
    "def plot_geometry(mir, m, n, refl, yin, yout, pf=200., **kwargs):\n",
    "    Nm = len(mir)\n",
    "    plot = k3d.plot(camera_auto_fit=True, antialias=True)\n",
    "\n",
    "    col=0xff0000\n",
    "    plt_line = k3d.line(pf*mir, shader='mesh', width=0.1, color=col)\n",
    "    plt_line2 = k3d.line(pf*mir[(-1,0),...], shader='mesh', width=0.1, color=col)\n",
    "    plot += plt_line\n",
    "    plot += plt_line2\n",
    "    plot += k3d.vectors(origins=pf*mir, vectors=n*2, use_head=True, head_size=3.)#Normals = xIn = xOut\n",
    "    plot += k3d.vectors(origins=pf*mir, vectors=yin*2, use_head=True, head_size=3., color= 0xff8c00) #yIn\n",
    "    plot += k3d.vectors(origins=pf*mir, vectors=yout*2, use_head=True, head_size=3., color= 0xff8c00) #yOut\n",
    "    plot += k3d.vectors(origins=pf*mir, vectors=refl*2, use_head=True, head_size=3., color=0x00ff00)\n",
    "\n",
    "    ey = np.array([0,1,0])\n",
    "    ex = np.array([1,0,0])\n",
    "    for i in range(Nm):\n",
    "        mirror = Box(size=(0.1,.5,.5)).mesh\n",
    "\n",
    "        mirror.transform.custom_matrix = pad3to4(getrot(ex, refl[i])) #get rotation matrix of mirror\n",
    "        mirror.transform.translation = pf*mir[i]\n",
    "        plot += mirror\n",
    "\n",
    "    return plot"
   ]
  },
  {
   "cell_type": "code",
   "execution_count": 6,
   "metadata": {},
   "outputs": [],
   "source": [
    "def Tetrahedron(La, thet, roc):\n",
    "    \n",
    "    if not isinstance(roc, list):\n",
    "        roc = [roc]*4\n",
    "        \n",
    "    thet = np.deg2rad(thet)\n",
    "    mir = np.array([(-La/2, La*np.tan(thet), 0),\\\n",
    "                ( La/2, 0, -La*np.tan(thet)),\\\n",
    "                (-La/2, -La*np.tan(thet), 0),\\\n",
    "                ( La/2, 0,  La*np.tan(thet))], dtype=np.float32)\n",
    "    return {'mir': mir, 'roc': roc}"
   ]
  },
  {
   "cell_type": "code",
   "execution_count": 22,
   "metadata": {},
   "outputs": [],
   "source": [
    "def SixMirror(dx=27.77, dy=8.0, dz=16.685, d=4.750, dzF=1.5825, Rfast=25.0):\n",
    "\n",
    "    p5 = np.array([0,0,0])\n",
    "    p6 = np.array([dx, dy, dzF])\n",
    "    p1 = np.array([0, dy, dzF])\n",
    "    p2 = np.array([dx, 2*dy, 0])\n",
    "    p3 = np.array([d, dy+d, dz])\n",
    "    p4 = np.array([dx-d, dy-d, dz])\n",
    "    \n",
    "    mir = np.stack([p1,p2,p3,p4,p5,p6], axis=0)\n",
    "    roc = np.array([Rfast, 1e6, 1e6, 1e6, 1e6, Rfast])\n",
    "    return {'mir': mir, 'roc': roc}"
   ]
  },
  {
   "cell_type": "code",
   "execution_count": 23,
   "metadata": {},
   "outputs": [
    {
     "data": {
      "text/plain": [
       "(4, 3)"
      ]
     },
     "execution_count": 23,
     "metadata": {},
     "output_type": "execute_result"
    }
   ],
   "source": [
    "Tetrahedron(La = 5.1e-2, thet = 20, roc=100e-3)['mir'].shape"
   ]
  },
  {
   "cell_type": "code",
   "execution_count": 24,
   "metadata": {},
   "outputs": [],
   "source": [
    "#opt = Tetrahedron(La = 5.1e-2, thet = 20, roc=100e-3)\n",
    "#opt = OriginalTwister(betal=1.35, R=0.025, Rlarge=-0.075, thet=20., asym = 1.25)\n",
    "opt = SixMirror()\n",
    "out = geometry(**opt)\n",
    "geom = out['geometry']\n",
    "elements = out['elements']"
   ]
  },
  {
   "cell_type": "code",
   "execution_count": 25,
   "metadata": {},
   "outputs": [
    {
     "name": "stderr",
     "output_type": "stream",
     "text": [
      "C:\\ProgramData\\Anaconda3\\lib\\site-packages\\traittypes\\traittypes.py:101: UserWarning: Given trait value dtype \"float64\" does not match required type \"float32\". A coerced copy has been created.\n",
      "  np.dtype(self.dtype).name))\n"
     ]
    },
    {
     "data": {
      "application/vnd.jupyter.widget-view+json": {
       "model_id": "f73e61cd58fa45d7b5fff63f5c3c924c",
       "version_major": 2,
       "version_minor": 0
      },
      "text/plain": [
       "Plot(antialias=True, axes=['x', 'y', 'z'], axes_helper=1.0, background_color=16777215, camera=[2, -3, 0.2, 0.0…"
      ]
     },
     "metadata": {},
     "output_type": "display_data"
    }
   ],
   "source": [
    "plot_geometry(**geom, pf=1.)"
   ]
  },
  {
   "cell_type": "code",
   "execution_count": 26,
   "metadata": {},
   "outputs": [
    {
     "name": "stdout",
     "output_type": "stream",
     "text": [
      "[-2j, -2j]\n"
     ]
    }
   ],
   "source": [
    "system = ABCDSystem(elements)"
   ]
  },
  {
   "cell_type": "code",
   "execution_count": 27,
   "metadata": {},
   "outputs": [
    {
     "data": {
      "text/plain": [
       "array([0.01938977, 0.01866838])"
      ]
     },
     "execution_count": 27,
     "metadata": {},
     "output_type": "execute_result"
    }
   ],
   "source": [
    "system.waist_at(0)"
   ]
  },
  {
   "cell_type": "code",
   "execution_count": 29,
   "metadata": {},
   "outputs": [
    {
     "data": {
      "application/vnd.jupyter.widget-view+json": {
       "model_id": "1c747f79293f4e8f991a19c8fa1d30df",
       "version_major": 2,
       "version_minor": 0
      },
      "text/plain": [
       "Canvas(toolbar=Toolbar(toolitems=[('Home', 'Reset original view', 'home', 'home'), ('Back', 'Back to previous …"
      ]
     },
     "metadata": {},
     "output_type": "display_data"
    },
    {
     "data": {
      "text/plain": [
       "Text(0, 0.5, 'Waist $\\\\omega$ [um]')"
      ]
     },
     "execution_count": 29,
     "metadata": {},
     "output_type": "execute_result"
    }
   ],
   "source": [
    "Npts = 500\n",
    "lrt = system.Ltot\n",
    "x = np.linspace(0, lrt, Npts)\n",
    "#ws = np.zeros_like(x)\n",
    "\n",
    "ws = system.compute_waists(x)\n",
    "\n",
    "fig, ax = plt.subplots()\n",
    "line = ax.plot(x, ws)[0]\n",
    "ax.set_xlabel(r\"$L$ [mm]\")\n",
    "ax.set_ylabel(r\"Waist $\\omega$ [um]\")"
   ]
  },
  {
   "cell_type": "code",
   "execution_count": null,
   "metadata": {},
   "outputs": [],
   "source": []
  }
 ],
 "metadata": {
  "kernelspec": {
   "display_name": "Python 3",
   "language": "python",
   "name": "python3"
  },
  "language_info": {
   "codemirror_mode": {
    "name": "ipython",
    "version": 3
   },
   "file_extension": ".py",
   "mimetype": "text/x-python",
   "name": "python",
   "nbconvert_exporter": "python",
   "pygments_lexer": "ipython3",
   "version": "3.7.6"
  }
 },
 "nbformat": 4,
 "nbformat_minor": 4
}
