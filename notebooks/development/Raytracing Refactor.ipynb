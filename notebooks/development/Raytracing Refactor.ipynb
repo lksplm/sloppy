{
 "cells": [
  {
   "cell_type": "code",
   "execution_count": 1,
   "metadata": {},
   "outputs": [],
   "source": [
    "%matplotlib widget\n",
    "import numpy as np\n",
    "import k3d\n",
    "import matplotlib.pyplot as plt\n",
    "from functools import reduce\n",
    "from matplotlib.tri import Triangulation"
   ]
  },
  {
   "cell_type": "code",
   "execution_count": 2,
   "metadata": {},
   "outputs": [],
   "source": [
    "def getrot(a,b):\n",
    "    if np.allclose(a,b):\n",
    "        return np.identity(3)\n",
    "    else:\n",
    "        v = np.cross(a, b)\n",
    "        s = np.linalg.norm(v)\n",
    "        c = np.dot(a,b)\n",
    "        vx = np.array([[0,-v[2], v[1]],[v[2], 0, -v[0]], [-v[1], v[0], 0]])\n",
    "        return np.identity(3) + vx + vx@vx*(1/(1+c))#(1-c)/s**2\n",
    "\n",
    "def pad3to4(mat):\n",
    "    m = np.identity(4)\n",
    "    m[0:3,0:3] = mat\n",
    "    return m\n",
    "\n",
    "def norm(v):\n",
    "    v = np.array(v)\n",
    "    return v/np.linalg.norm(v)\n",
    "\n",
    "def vec2rot(a, b):\n",
    "    if np.allclose(a,b):\n",
    "        return [0, 1, 0, 0]\n",
    "    else:\n",
    "        ez = norm(a)\n",
    "        n = norm(b)\n",
    "        ax = np.cross(ez,n)\n",
    "        ang = np.arccos(ez@n)\n",
    "        return [ang, ax[0], ax[1], ax[2]]\n",
    "    \n",
    "def rot_vec(v, ax, ang):\n",
    "    if ang==0.0:\n",
    "        return v\n",
    "    else:\n",
    "        return v*np.cos(ang) + np.cross(ax,v)*np.sin(ang) + ax@v*ax*(1. - np.cos(ang))\n"
   ]
  },
  {
   "cell_type": "code",
   "execution_count": 6,
   "metadata": {},
   "outputs": [],
   "source": [
    "def disc_coords(n_radii = 5, n_angles = 10, R=1.):\n",
    "    radii = np.linspace(0., 1, n_radii)\n",
    "    x, y = [0], [0]\n",
    "    for r in radii[1:]:\n",
    "        x.extend([r*np.cos(p) for p in np.linspace(0,2*np.pi,int(2*np.pi*r*n_angles))])\n",
    "        y.extend([r*np.sin(p) for p in np.linspace(0,2*np.pi,int(2*np.pi*r*n_angles))])\n",
    "    x = np.array(x)*R\n",
    "    y = np.array(y)*R\n",
    "    return x, y"
   ]
  },
  {
   "cell_type": "code",
   "execution_count": 96,
   "metadata": {},
   "outputs": [],
   "source": [
    "def dbg_shape(lst):\n",
    "    for l in lst:\n",
    "        print(l.shape)"
   ]
  },
  {
   "cell_type": "code",
   "execution_count": 202,
   "metadata": {},
   "outputs": [],
   "source": [
    "class Optic:\n",
    "    def __init__(self, p=(0,0,0), n=(0,0,1), diam=1.):\n",
    "        self.p = np.array(p)\n",
    "        self.n = np.array(norm(n))\n",
    "        self.r = diam/2\n",
    "        \n",
    "    @property  \n",
    "    def transformation(self):\n",
    "        #get translation, rotation in k3d format\n",
    "        return self.p, vec2rot(norm([0,0,1]), self.n)\n",
    "        \n",
    "    def plot(self, n_radii = 5, n_angles = 10, **kwargs):\n",
    "        x, y = disc_coords(n_radii = n_radii, n_angles = n_angles, R=self.r)\n",
    "\n",
    "        z = np.zeros_like(x)\n",
    "        indices = Triangulation(x,y).triangles.astype(np.uint32)\n",
    "        mesh = k3d.mesh(np.vstack([x,y,z]).T, indices, **kwargs)\n",
    "        t, r = self.transformation\n",
    "        mesh.transform.rotation = r\n",
    "        mesh.transform.translation = t\n",
    "        return mesh  \n",
    "    \n",
    "    def _intersect(self, ray, clip=True, p=None):\n",
    "        #shape of Ray [2xNraysx3]\n",
    "        x = np.full((ray.shape[1], 3), np.nan)\n",
    "        \n",
    "        r, s = ray\n",
    "        sn = s@self.n\n",
    "        #prevent ray perpendicular to surface\n",
    "        msk = np.abs(sn)>np.finfo(np.float32).eps\n",
    "        t = ((p - r[msk])@self.n)/sn[msk]\n",
    "        x[msk,:] = r[msk,:] + t[:,None]*s[msk,:]\n",
    "        \n",
    "        if clip:\n",
    "            d = np.linalg.norm(x - p, axis=1)\n",
    "            #msk[msk] = (d<=self.r)\n",
    "            x[(d>self.r),:] = np.nan\n",
    "        return x\n",
    "    \n",
    "    def intersect(self, ray, clip=True):\n",
    "        #for a curved mirror we may have to shift the plane, i.e. p!!\n",
    "        return self._intersect(ray, clip=clip, p=self.p)\n",
    "        \n",
    "    def propagate(self, ray, clip=True):\n",
    "        rout = np.full_like(ray, np.nan)\n",
    "        \n",
    "        q = self.intersect(ray, clip=clip)\n",
    "        msk = ~np.isnan(q[:,0])\n",
    "        s = ray[1,msk,:]\n",
    "        \n",
    "        rout[0,:,:] = q\n",
    "        rout[1,msk,:] = s\n",
    "        return rout\n",
    "\n",
    "class Mirror(Optic):\n",
    "    def __init__(self, p=(0,0,0), n=(0,0,1), diam=1.):\n",
    "        super().__init__(p, n, diam)\n",
    "        \n",
    "    def propagate(self, ray, clip=True):\n",
    "        rout = np.full_like(ray, np.nan)\n",
    "        \n",
    "        q = self.intersect(ray, clip=clip)\n",
    "        msk = ~np.isnan(q[:,0])\n",
    "        s = ray[1,msk,:]\n",
    "        \n",
    "        sp = s - 2*np.dot(s, self.n)[:,None]*self.n[None,:]\n",
    "        rout[0,:,:] = q\n",
    "        rout[1,msk,:] = sp\n",
    "        return rout\n",
    "\n",
    "class Glass(Optic):\n",
    "    def __init__(self, p=(0,0,0), n=(0,0,1), diam=1., n1=1., n2=1.):\n",
    "        super().__init__(p, n, diam)\n",
    "        self.n1 = n1\n",
    "        self.n2 = n2\n",
    "        self.nr = n1/n2\n",
    "        \n",
    "    def propagate(self, ray, indices=None, clip=True):\n",
    "        #Propagate rays by transmission through  an index change, Snells law\n",
    "        rout = np.full_like(ray, np.nan)\n",
    "        \n",
    "        q = self.intersect(ray, clip=clip)\n",
    "        msk = ~np.isnan(q[:,0])\n",
    "        s = ray[1,msk,:]\n",
    "        #make sure there is always transmission and no reflection!\n",
    "        #c = -np.dot(s, self.n)\n",
    "        sn = np.dot(s, self.n)\n",
    "        c = -sn\n",
    "        #fudge for now to fix this, seems robust!\n",
    "        f = np.where(sn>0,-1,1)\n",
    "        \n",
    "        dis = 1 - self.nr**2*(1 - c**2)\n",
    "        #prevent total internal reflection\n",
    "        msk[msk] = (dis>=0.)\n",
    "        sp = self.nr*s + (f*self.nr*c - f*np.sqrt(dis))[:,None]*self.n[None,:]\n",
    "        \n",
    "        rout[0,:,:] = q\n",
    "        rout[1,msk,:] = sp\n",
    "        return rout\n",
    "\n",
    "class CurvedMirror(Optic):\n",
    "    def __init__(self, p=(0,0,0), n=(0,0,1), R=1., curv='CC', diam=25.4):\n",
    "        super().__init__(p, n, diam)\n",
    "        self.R = R\n",
    "        x, dst = curved_offsets(self.R, self.r)\n",
    "        self.intersect_d = dst\n",
    "        if curv=='CC':\n",
    "            self.cp = self.p + self.R*self.n\n",
    "            self.poffs = self.p + self.n*x\n",
    "        elif curv=='CX':\n",
    "            self.cp = self.p - self.R*self.n\n",
    "            self.poffs = self.p - self.n*x\n",
    "        else:\n",
    "            raise ValueError(\"Mirror type {} unknown! Curv has to be CC or CX\".format(curv))\n",
    "        self.curv = curv\n",
    "    \n",
    "    @staticmethod\n",
    "    def curved_offsets(R, rapt):\n",
    "        #calculates the on axis distance x and diag. distance dst for a curved mirror of finite apperture\n",
    "        x =  R - np.sqrt(R**2 -  rapt**2)\n",
    "        dst = np.sqrt(rapt**2+x**2)\n",
    "        return x, dst    \n",
    "\n",
    "    def plot(self, n_radii = 10, n_angles = 10, **kwargs):\n",
    "        x, y = disc_coords(n_radii = n_radii, n_angles = n_angles, R=self.r)\n",
    "\n",
    "        z = self.R-np.sqrt(self.R**2-x**2-y**2)\n",
    "        if self.curv=='CX':\n",
    "            z = -z\n",
    "        indices = Triangulation(x,y).triangles.astype(np.uint32)\n",
    "        mesh = k3d.mesh(np.vstack([x,y,z]).T, indices, **kwargs)\n",
    "        t, r = self.transformation\n",
    "        mesh.transform.rotation = r\n",
    "        mesh.transform.translation = t\n",
    "        return mesh\n",
    "    \n",
    "    def intersect(self, ray, clip=True):\n",
    "        #do flat intersection first!\n",
    "        q = self._intersect(ray, clip=clip, p=self.poffs)\n",
    "        msk = ~np.isnan(q[:,0])\n",
    "        r = ray[0,msk,:]\n",
    "        s = ray[1,msk,:]\n",
    "\n",
    "        d = self.cp - r\n",
    "        ds = np.einsum(\"ji,ji->j\",d,s)\n",
    "        \n",
    "        dis = ds**2 + self.R**2 - np.einsum(\"ji,ji->j\",d,d)\n",
    "        msk[msk] = dis>=0\n",
    "        t12 = np.stack([ds+np.sqrt(dis), ds-np.sqrt(dis)], axis=0) #[2xNrays]\n",
    "        #find the right intersection closer to the origin!\n",
    "        x12 = r[None,:] + t12[:,:,None]*s[None,:] #[2xNraysx3]\n",
    "        dist12 = np.linalg.norm(x12-self.p, axis=2) #[2xNrays]\n",
    "        which = np.argmin(dist12, axis=0)\n",
    "        x = x12[which,np.arange(x12.shape[1]),:]\n",
    "        \n",
    "        if clip:\n",
    "            d = np.linalg.norm(x - self.p, axis=1)\n",
    "            msk[msk] = (d<=self.intersect_d)\n",
    "        \n",
    "        xout = np.full_like(q, np.nan)\n",
    "        xout[msk] = x\n",
    "        return xout\n",
    "\n",
    "        \n",
    "    def propagate(self, ray, indices=None, clip=True):\n",
    "        q = self.intersect(ray, clip=clip)\n",
    "        msk = ~np.isnan(q[:,0])\n",
    "        r = ray[0,msk,:]\n",
    "        s = ray[1,msk,:]\n",
    "        \n",
    "        #find normal vectors\n",
    "        n = self.cp - q[msk]\n",
    "        nn = np.linalg.norm(n, axis=1)\n",
    "        n *= 1./nn[:,None]\n",
    "        \n",
    "        sp = s - 2*np.einsum(\"ji,ji->j\",s,n)[:,None]*n\n",
    "        rout = np.full_like(ray, np.nan)\n",
    "        rout[0,:,:] = q\n",
    "        rout[1,msk,:] = sp\n",
    "        return rout\n",
    "\n",
    "class CurvedGlass(CurvedMirror):\n",
    "    def __init__(self, p=(0,0,0), n=(0,0,1), R=1., curv='CC', diam=25.4, n1=1., n2=1.):\n",
    "        super().__init__(p, n, R, curv, diam)\n",
    "        self.n1 = n1\n",
    "        self.n2 = n2\n",
    "        self.nr = n1/n2\n",
    "        \n",
    "    def propagate(self, ray, indices=None, clip=True):\n",
    "        #Propagate rays by transmission through  an index change, Snells law\n",
    "        q = self.intersect(ray, clip=clip)\n",
    "        msk = ~np.isnan(q[:,0])\n",
    "        r = ray[0,msk,:]\n",
    "        s = ray[1,msk,:]\n",
    "        \n",
    "        #find normal vectors\n",
    "        n = self.cp - q[msk]\n",
    "        nn = np.linalg.norm(n, axis=1)\n",
    "        n *= 1./nn[:,None]\n",
    "        if self.curv=='CX':\n",
    "            n = -n\n",
    "        \n",
    "        #make sure there is always transmission and no reflection!\n",
    "        #c = -np.einsum(\"ji,ji->j\",s,n)\n",
    "        sn = np.einsum(\"ji,ji->j\",s,n)\n",
    "        c = -sn\n",
    "        #fudge for now to fix this, seems robust!\n",
    "        f = np.where(sn>0,-1,1)\n",
    "        \n",
    "        dis = 1 - self.r**2*(1 - c**2)\n",
    "        msk[msk] = (dis>=0.)\n",
    "        sp = self.r*s + (f*self.r*c - f*np.sqrt(dis))[:,None]*n\n",
    "        \n",
    "        rout = np.full_like(ray, np.nan)\n",
    "        rout[0,:,:] = q\n",
    "        rout[1,msk,:] = sp\n",
    "        return rout    "
   ]
  },
  {
   "cell_type": "code",
   "execution_count": 226,
   "metadata": {},
   "outputs": [],
   "source": [
    "class Screen(Optic):\n",
    "    def __init__(self, p=(0,0,0), n=(0,0,1), diam=25.4):\n",
    "        super().__init__(p, n, diam)\n"
   ]
  },
  {
   "cell_type": "code",
   "execution_count": 140,
   "metadata": {},
   "outputs": [],
   "source": [
    "def ray_bundle(p=(0,0,0), n=(0,0,1), n_radii=10, n_angles=2, R=1., divergence=0.):\n",
    "    p = np.array(p)\n",
    "    n = norm(n)\n",
    "    radii = np.linspace(0., 1, n_radii)\n",
    "    x, s = [[0,0,0],], [[0,0,1],]\n",
    "    for r in radii[1:]:\n",
    "        for t in np.linspace(0,2*np.pi,int(2*np.pi*r*n_angles)):\n",
    "            x.append( [R*r*np.cos(t), R*r*np.sin(t), 0])\n",
    "            s.append(norm([divergence*r*np.cos(t), divergence*r*np.sin(t), 1]))\n",
    "       \n",
    "    rays = np.stack([np.array(x), np.array(s)], axis=0)\n",
    "    ez = np.array([0,0,1])\n",
    "    R = getrot(ez, -n)\n",
    "    rays2 = np.einsum(\"abi,ij->abj\", rays, R)\n",
    "    rays2[0,:,:] += p\n",
    "    return rays2\n",
    "\n",
    "def plot_rays(rays, plot, length=10.):\n",
    "    s = k3d.vectors(origins=rays[0,...], vectors=rays[1,...], colors=[(0xff0000,)*rays.shape[1]*2], head_size=2.)\n",
    "    plot += s\n",
    "    ls = [k3d.line([rays[0,i,:], rays[0,i,:]+15*rays[1,i,:]]) for i in range(rays.shape[1]) if rays[0,i,0] is not np.nan]\n",
    "    for l in ls:\n",
    "        plot += l"
   ]
  },
  {
   "cell_type": "markdown",
   "metadata": {},
   "source": [
    "## Benchmarks"
   ]
  },
  {
   "cell_type": "code",
   "execution_count": 165,
   "metadata": {},
   "outputs": [],
   "source": [
    "rays = ray_bundle(n=(1,0,0),n_radii=5, n_angles=3, divergence=0*5e-3, R=0.5)"
   ]
  },
  {
   "cell_type": "code",
   "execution_count": 166,
   "metadata": {},
   "outputs": [],
   "source": [
    "el = Optic(p=(5,0,0), n=(-1,0,0))"
   ]
  },
  {
   "cell_type": "code",
   "execution_count": 167,
   "metadata": {},
   "outputs": [],
   "source": [
    "el = Mirror(p=(5,0,0), n=(-1,0,1))"
   ]
  },
  {
   "cell_type": "code",
   "execution_count": 168,
   "metadata": {},
   "outputs": [],
   "source": [
    "el = CurvedMirror(p=(5,0,0), n=(-1,0,1), diam=1., R=5., curv='CC')"
   ]
  },
  {
   "cell_type": "code",
   "execution_count": 171,
   "metadata": {},
   "outputs": [],
   "source": [
    "el = CurvedMirror(p=(5,0,0), n=(-1,0,1), diam=1., R=5., curv='CX')"
   ]
  },
  {
   "cell_type": "code",
   "execution_count": 199,
   "metadata": {},
   "outputs": [],
   "source": [
    "el = Glass(p=(5,0,0), n=(-1,0,1), n2=1.5)"
   ]
  },
  {
   "cell_type": "code",
   "execution_count": 196,
   "metadata": {},
   "outputs": [],
   "source": [
    "el = Glass(p=(5,0,0), n=(1,0,-1), n2=1.5)"
   ]
  },
  {
   "cell_type": "code",
   "execution_count": 203,
   "metadata": {},
   "outputs": [],
   "source": [
    "el = CurvedGlass(p=(5,0,0), n=(-1,0,1), diam=1., R=5., curv='CC', n2=1.5)"
   ]
  },
  {
   "cell_type": "code",
   "execution_count": 206,
   "metadata": {},
   "outputs": [],
   "source": [
    "el = CurvedGlass(p=(5,0,0), n=(-1,0,1), diam=1., R=5., curv='CX', n2=1.5)"
   ]
  },
  {
   "cell_type": "code",
   "execution_count": 209,
   "metadata": {},
   "outputs": [],
   "source": [
    "el = CurvedGlass(p=(5,0,0), n=(1,0,-1), diam=1., R=5., curv='CX', n2=1.5)"
   ]
  },
  {
   "cell_type": "code",
   "execution_count": 210,
   "metadata": {},
   "outputs": [],
   "source": [
    "rays2 = el.propagate(rays, clip=True)\n",
    "#rays2"
   ]
  },
  {
   "cell_type": "code",
   "execution_count": 211,
   "metadata": {
    "collapsed": true,
    "jupyter": {
     "outputs_hidden": true
    }
   },
   "outputs": [
    {
     "data": {
      "application/vnd.jupyter.widget-view+json": {
       "model_id": "1a2273b94e0b40018996fdac6fddaab0",
       "version_major": 2,
       "version_minor": 0
      },
      "text/plain": [
       "Output()"
      ]
     },
     "metadata": {},
     "output_type": "display_data"
    }
   ],
   "source": [
    "plot = k3d.plot(camera_auto_fit=True, antialias=True)\n",
    "\n",
    "plot_rays(rays, plot)\n",
    "plot_rays(rays2, plot)\n",
    "plot += el.plot()\n",
    "plot.display()"
   ]
  },
  {
   "cell_type": "code",
   "execution_count": 212,
   "metadata": {},
   "outputs": [],
   "source": [
    "%load_ext line_profiler"
   ]
  },
  {
   "cell_type": "code",
   "execution_count": 217,
   "metadata": {},
   "outputs": [
    {
     "name": "stdout",
     "output_type": "stream",
     "text": [
      "235 µs ± 4.34 µs per loop (mean ± std. dev. of 7 runs, 1000 loops each)\n"
     ]
    }
   ],
   "source": [
    "%timeit el.propagate(rays, clip=True)"
   ]
  },
  {
   "cell_type": "code",
   "execution_count": 299,
   "metadata": {},
   "outputs": [
    {
     "name": "stderr",
     "output_type": "stream",
     "text": [
      "C:\\ProgramData\\Anaconda3\\lib\\site-packages\\ipykernel_launcher.py:30: RuntimeWarning: invalid value encountered in greater\n",
      "C:\\ProgramData\\Anaconda3\\lib\\site-packages\\ipykernel_launcher.py:37: RuntimeWarning: invalid value encountered in greater\n"
     ]
    },
    {
     "data": {
      "text/plain": [
       "Timer unit: 1e-07 s\n",
       "\n",
       "Total time: 0.0011067 s\n",
       "File: <ipython-input-202-581deac965e8>\n",
       "Function: _intersect at line 23\n",
       "\n",
       "Line #      Hits         Time  Per Hit   % Time  Line Contents\n",
       "==============================================================\n",
       "    23                                               def _intersect(self, ray, clip=True, p=None):\n",
       "    24                                                   #shape of Ray [2xNraysx3]\n",
       "    25         7        813.0    116.1      7.3          x = np.full((ray.shape[1], 3), np.nan)\n",
       "    26                                                   \n",
       "    27         7        313.0     44.7      2.8          r, s = ray\n",
       "    28         7        645.0     92.1      5.8          sn = s@self.n\n",
       "    29                                                   #prevent ray perpendicular to surface\n",
       "    30         7       2398.0    342.6     21.7          msk = np.abs(sn)>np.finfo(np.float32).eps\n",
       "    31         7       2117.0    302.4     19.1          t = ((p - r[msk])@self.n)/sn[msk]\n",
       "    32         7        941.0    134.4      8.5          x[msk,:] = r[msk,:] + t[:,None]*s[msk,:]\n",
       "    33                                                   \n",
       "    34         7         39.0      5.6      0.4          if clip:\n",
       "    35         7       2446.0    349.4     22.1              d = np.linalg.norm(x - p, axis=1)\n",
       "    36                                                       #msk[msk] = (d<=self.r)\n",
       "    37         7       1305.0    186.4     11.8              x[(d>self.r),:] = np.nan\n",
       "    38         7         50.0      7.1      0.5          return x"
      ]
     },
     "metadata": {},
     "output_type": "display_data"
    }
   ],
   "source": [
    "%lprun -f Optic._intersect propagate_system(elements, rays)"
   ]
  },
  {
   "cell_type": "code",
   "execution_count": 218,
   "metadata": {},
   "outputs": [],
   "source": [
    "def geometry(mir):\n",
    "    \n",
    "    def norm(arr, axis=-1):\n",
    "        norm = np.sqrt(np.sum(arr**2, axis=-1))\n",
    "        norm = np.expand_dims(norm, axis)\n",
    "        return np.divide(arr, norm, where=(norm!=0))\n",
    "    \n",
    "    Nm = len(mir)\n",
    "    M = mir[:,None,:]-mir[None,:,:]\n",
    "    m = norm(M)\n",
    "    \n",
    "    n = norm(np.array([np.cross(m[j,j-1],m[j,(j+1)%Nm]) for j in range(Nm)]))\n",
    "    refl = -norm(np.array([0.5*(m[j,j-1]+m[j,(j+1)%Nm]) for j in range(Nm)])) #vectors normal to reflecting mirrors\n",
    "    angles = np.array([0.5*np.arccos(np.dot(m[j,j-1],m[j,(j+1)%Nm])) for j in range(Nm)])\n",
    "    xin = n\n",
    "    xout = n\n",
    "    yin = norm(np.array([np.cross(n[j],m[j,j-1]) for j in range(Nm)]))\n",
    "    yout = norm(np.array([np.cross(n[j],m[j,(j+1)%Nm]) for j in range(Nm)]))\n",
    "    R = np.stack([np.array([[xout[i]@xin[(i+1)%Nm], yout[i]@xin[(i+1)%Nm]],\\\n",
    "                            [xout[i]@yin[(i+1)%Nm], yout[i]@yin[(i+1)%Nm]]]) for i in range(Nm)], axis=0)\n",
    "    \n",
    "    Ls = [np.linalg.norm(M[j-1,j]) for j in range(Nm)]\n",
    "    Lrt = sum(Ls)\n",
    "\n",
    "    return {'mir': mir, 'n': n, 'refl': refl, 'xin': xin, 'xout': xout, 'yin': yin, 'yout': yout, 'Ls': Ls, 'Lrt': Lrt}\n",
    "\n",
    "def plot_geometry(geom, **kwargs):\n",
    "    mir, n, refl, yin, yout = geom['mir'], geom['n'], geom['refl'], geom['yin'], geom['yout']\n",
    "    Nm = len(mir)\n",
    "    plot = k3d.plot(camera_auto_fit=True, antialias=True)\n",
    "\n",
    "    col=0xff0000\n",
    "    pf = 1.\n",
    "    plt_line = k3d.line(pf*mir, shader='mesh', width=0.5, color=col)\n",
    "    plt_line2 = k3d.line(pf*mir[(-1,0),...], shader='mesh', width=0.5, color=col)\n",
    "    plot += plt_line\n",
    "    plot += plt_line2\n",
    "    plot += k3d.vectors(origins=pf*mir, vectors=n*2, use_head=True, head_size=3.)#Normals = xIn = xOut\n",
    "    plot += k3d.vectors(origins=pf*mir, vectors=yin*2, use_head=True, head_size=3., color= 0xff8c00) #yIn\n",
    "    plot += k3d.vectors(origins=pf*mir, vectors=yout*2, use_head=True, head_size=3., color= 0xff8c00) #yOut\n",
    "    plot += k3d.vectors(origins=pf*mir, vectors=refl*2, use_head=True, head_size=3., color=0x00ff00)\n",
    "\n",
    "    ey = np.array([0,1,0])\n",
    "    ex = np.array([1,0,0])\n",
    "    for i in range(Nm):\n",
    "        mirror = Box(size=(1,10,10)).mesh\n",
    "\n",
    "        mirror.transform.custom_matrix = pad3to4(getrot(ex, refl[i])) #get rotation matrix of mirror\n",
    "        mirror.transform.translation = pf*mir[i]\n",
    "        plot += mirror\n",
    "\n",
    "    return plot"
   ]
  },
  {
   "cell_type": "code",
   "execution_count": 219,
   "metadata": {},
   "outputs": [],
   "source": [
    "def SixMirror(dx=27.77, dy=8.0, dz=16.685, d=4.750, dzF=1.5825, Rfast=25.0):\n",
    "    \n",
    "\n",
    "    p1 = np.array([0,0,0])\n",
    "    p2 = np.array([dx, dy, dzF])\n",
    "    p3 = np.array([0, dy, dzF])\n",
    "    p4 = np.array([dx, 2*dy, 0])\n",
    "    p5 = np.array([d, dy+d, dz])\n",
    "    p6 = np.array([dx-d, dy-d, dz])\n",
    "    \n",
    "    ps = np.stack([p1,p2,p3,p4,p5,p6], axis=0)\n",
    "    geom = geometry(ps)\n",
    "    ns = geom['refl']\n",
    "    hi = 12.7\n",
    "    qi=7.75\n",
    "    elements = [CurvedMirror(p=p3, n=ns[2], diam=qi, R=Rfast, curv='CC'),\\\n",
    "                Mirror(p=p4, n=ns[3], diam=qi),\\\n",
    "                Mirror(p=p5, n=ns[4], diam=hi),\\\n",
    "                Mirror(p=p6, n=ns[5], diam=hi),\\\n",
    "                Mirror(p=p1, n=ns[0], diam=qi),\\\n",
    "                CurvedMirror(p=p2, n=ns[1], diam=qi, R=Rfast, curv='CC')]\n",
    "    return elements, geom"
   ]
  },
  {
   "cell_type": "code",
   "execution_count": 250,
   "metadata": {},
   "outputs": [],
   "source": [
    "elements, geom = SixMirror()\n",
    "\n",
    "x0 = 0.5*(elements[0].p + elements[-1].p)\n",
    "n0 = norm(elements[0].p - elements[-1].p)\n",
    "n0[2] += 0.2\n",
    "rs = ray_bundle(p=x0, n=n0, n_radii=5, n_angles=2, R=0.2)\n",
    "\n",
    "screen = Screen(p=x0, n=-n0, diam=7.75)\n",
    "elements.append(screen)"
   ]
  },
  {
   "cell_type": "code",
   "execution_count": 251,
   "metadata": {},
   "outputs": [],
   "source": [
    "def propagate_system(elements, rays, Nrt=1, clip=True):\n",
    "    rs = rays.copy()\n",
    "    ind = np.arange(rs.shape[1])\n",
    "    Nel = len(elements)\n",
    "    #shape [Nel*Nrt+1,2,Nrays,3]\n",
    "    allrays = np.empty((Nel*Nrt+1,*rays.shape))\n",
    "    allrays[0,...] = rs\n",
    "    for i in range(Nrt):\n",
    "        for j, el in enumerate(elements):\n",
    "            rs = el.propagate(rs, clip=clip)\n",
    "            allrays[i*Nel+j+1,...] = rs\n",
    "        \n",
    "    return allrays"
   ]
  },
  {
   "cell_type": "code",
   "execution_count": 279,
   "metadata": {},
   "outputs": [
    {
     "name": "stderr",
     "output_type": "stream",
     "text": [
      "C:\\ProgramData\\Anaconda3\\lib\\site-packages\\ipykernel_launcher.py:30: RuntimeWarning: invalid value encountered in greater\n",
      "C:\\ProgramData\\Anaconda3\\lib\\site-packages\\ipykernel_launcher.py:37: RuntimeWarning: invalid value encountered in greater\n"
     ]
    }
   ],
   "source": [
    "traj = propagate_system(elements, rs, Nrt=3)"
   ]
  },
  {
   "cell_type": "code",
   "execution_count": 292,
   "metadata": {},
   "outputs": [],
   "source": [
    "def clip_traj(traj):\n",
    "    idx = np.where(np.isnan(traj[:,0]))[0]\n",
    "    if len(idx)>0:\n",
    "        idx = idx[0]\n",
    "        return traj[:idx,:]\n",
    "    else:\n",
    "        return traj\n",
    "\n",
    "def plot_trajs(trajs, plot, **kwargs):\n",
    "\n",
    "    #ls = [k3d.line([rays[0,i,:], rays[0,i,:]+15*rays[1,i,:]]) for i in range(rays.shape[1]) if rays[0,i,0] is not np.nan]\n",
    "    for i in range(trajs.shape[0]):\n",
    "        t = clip_traj(traj[:,0,i,:])\n",
    "\n",
    "        if t.shape[0]>1:\n",
    "            l = k3d.line(t, **kwargs)\n",
    "            plot += l"
   ]
  },
  {
   "cell_type": "code",
   "execution_count": 333,
   "metadata": {},
   "outputs": [],
   "source": [
    "r0 = x0[None,:] + np.array([[0,0.2,0], [0,0,0.2], [0,0.2,0.2], [0,-0.2,-0.2]])\n",
    "\n",
    "s0 = np.broadcast_to(n0, r0.shape)\n",
    "ray0 = np.stack([np.atleast_2d(r0), np.atleast_2d(s0)], axis=0)"
   ]
  },
  {
   "cell_type": "code",
   "execution_count": 357,
   "metadata": {},
   "outputs": [],
   "source": [
    "def find_eigenray(elements, ray0, lr = 0.05, maxiter=500, tol=1e-5, Nrt=1):\n",
    "    rcur = ray0.copy()\n",
    "    for i in range(maxiter):\n",
    "        traj = propagate_system(elements, rcur, Nrt=Nrt)\n",
    "        rnew = traj[-1,...]\n",
    "        res = np.max(np.abs(rcur.flatten() - rnew.flatten()))\n",
    "\n",
    "        rcur = (1.-lr)*rcur + lr*rnew\n",
    "        if res<tol:\n",
    "            break\n",
    "    print(\"Finished in {} steps, reached tol {:.3e}\".format(i, res))\n",
    "    return rcur\n",
    "\n",
    "def find_eigenray_animated(elements, ray0, lr = 0.05, maxiter=500, tol=1e-5, Nrt=1):\n",
    "    rcur = ray0.copy()\n",
    "    trajs = []\n",
    "    for i in range(maxiter):\n",
    "        traj = propagate_system(elements, rcur, Nrt=Nrt)\n",
    "        rnew = traj[-1,...]\n",
    "        trajs.append(traj[:,0,:,:])\n",
    "        res = np.max(np.abs(rcur.flatten() - rnew.flatten()))\n",
    "        rcur = (1.-lr)*rcur + lr*rnew\n",
    "        if res<tol:\n",
    "            break\n",
    "    print(\"Finished in {} steps, reached tol {:.3e}\".format(i, res))\n",
    "    return rcur, np.stack(trajs, axis=0)"
   ]
  },
  {
   "cell_type": "code",
   "execution_count": 368,
   "metadata": {},
   "outputs": [
    {
     "name": "stdout",
     "output_type": "stream",
     "text": [
      "Finished in 218 steps, reached tol 9.351e-06\n",
      "Finished in 218 steps, reached tol 9.351e-06\n",
      "Finished in 218 steps, reached tol 9.351e-06\n",
      "Finished in 218 steps, reached tol 9.351e-06\n",
      "Finished in 218 steps, reached tol 9.351e-06\n",
      "Finished in 218 steps, reached tol 9.351e-06\n",
      "Finished in 218 steps, reached tol 9.351e-06\n",
      "Finished in 218 steps, reached tol 9.351e-06\n",
      "168 ms ± 9.24 ms per loop (mean ± std. dev. of 7 runs, 1 loop each)\n"
     ]
    }
   ],
   "source": [
    "%timeit reig = find_eigenray(elements, ray0, lr=0.1, Nrt=1)"
   ]
  },
  {
   "cell_type": "code",
   "execution_count": 364,
   "metadata": {},
   "outputs": [
    {
     "name": "stdout",
     "output_type": "stream",
     "text": [
      "Finished in 218 steps, reached tol 9.351e-06\n"
     ]
    }
   ],
   "source": [
    "reig, traj_anim = find_eigenray_animated(elements, ray0, lr=0.1, Nrt=1)"
   ]
  },
  {
   "cell_type": "code",
   "execution_count": 366,
   "metadata": {},
   "outputs": [],
   "source": [
    "ts_dicts = [{str(t/100): traj_anim[t,:,r,:] for t in range(0, traj_anim.shape[0], 5)} for r in range(traj_anim.shape[2])]"
   ]
  },
  {
   "cell_type": "code",
   "execution_count": 367,
   "metadata": {},
   "outputs": [
    {
     "data": {
      "application/vnd.jupyter.widget-view+json": {
       "model_id": "704db848c72d4997bc17492eaf444c93",
       "version_major": 2,
       "version_minor": 0
      },
      "text/plain": [
       "Output()"
      ]
     },
     "metadata": {},
     "output_type": "display_data"
    }
   ],
   "source": [
    "plot = k3d.plot(camera_auto_fit=True, antialias=True)\n",
    "plot += k3d.vectors(origins=x0, vectors=n0)\n",
    "\n",
    "for el in elements:\n",
    "    plot += el.plot(opacity=0.4)\n",
    "\n",
    "#plot_trajs(traj, plot)\n",
    "for ts in ts_dicts:\n",
    "    plot += k3d.line(ts, shader='mesh', width=0.2, color=0x00ff00)\n",
    "\n",
    "plot.display()"
   ]
  },
  {
   "cell_type": "code",
   "execution_count": null,
   "metadata": {},
   "outputs": [],
   "source": []
  }
 ],
 "metadata": {
  "kernelspec": {
   "display_name": "Python 3",
   "language": "python",
   "name": "python3"
  },
  "language_info": {
   "codemirror_mode": {
    "name": "ipython",
    "version": 3
   },
   "file_extension": ".py",
   "mimetype": "text/x-python",
   "name": "python",
   "nbconvert_exporter": "python",
   "pygments_lexer": "ipython3",
   "version": "3.7.6"
  }
 },
 "nbformat": 4,
 "nbformat_minor": 4
}
