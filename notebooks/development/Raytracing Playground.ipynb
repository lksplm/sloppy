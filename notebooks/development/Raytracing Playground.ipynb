{
 "cells": [
  {
   "cell_type": "code",
   "execution_count": 1,
   "metadata": {},
   "outputs": [],
   "source": [
    "%matplotlib widget\n",
    "import numpy as np\n",
    "import k3d\n",
    "import matplotlib.pyplot as plt\n",
    "from functools import reduce\n",
    "from matplotlib.tri import Triangulation"
   ]
  },
  {
   "cell_type": "code",
   "execution_count": 2,
   "metadata": {},
   "outputs": [],
   "source": [
    "from k3d.platonic import PlatonicSolid\n",
    "from itertools import product\n",
    "\n",
    "class Box(PlatonicSolid):\n",
    "    def __init__(self, origin=[0, 0, 0], size=[1,1,1], **kwargs):\n",
    "        origin = np.array(origin, dtype=np.float32)\n",
    "        size = np.array(size, dtype=np.float32)\n",
    "        \n",
    "        if origin.shape == (3,):\n",
    "            cube_vertices = np.array(list(product([size[0], -size[0]], [size[1], -size[1]], [size[2], -size[2]])), np.float32)*0.5\n",
    "            cube_vertices = np.float32(cube_vertices + origin)\n",
    "\n",
    "            self.vertices = cube_vertices\n",
    "            self.indices = [0, 1, 2, 1, 2, 3, 0, 1, 4, 1, 4, 5, 1, 3, 5, 3, 5, 7, 0, 2, 4, 2, 4, 6, 2, 3, 7, 2, 6, 7, 4,\n",
    "                            5, 6, 5, 6, 7]\n",
    "\n",
    "        else:\n",
    "            raise TypeError('Origin attribute should have 3 coordinates.')"
   ]
  },
  {
   "cell_type": "code",
   "execution_count": 3,
   "metadata": {},
   "outputs": [],
   "source": [
    "def getrot(a,b):\n",
    "    if np.allclose(a,b):\n",
    "        return np.identity(3)\n",
    "    else:\n",
    "        v = np.cross(a, b)\n",
    "        s = np.linalg.norm(v)\n",
    "        c = np.dot(a,b)\n",
    "        vx = np.array([[0,-v[2], v[1]],[v[2], 0, -v[0]], [-v[1], v[0], 0]])\n",
    "        return np.identity(3) + vx + vx@vx*(1/(1+c))#(1-c)/s**2\n",
    "\n",
    "def pad3to4(mat):\n",
    "    m = np.identity(4)\n",
    "    m[0:3,0:3] = mat\n",
    "    return m"
   ]
  },
  {
   "cell_type": "code",
   "execution_count": 4,
   "metadata": {},
   "outputs": [],
   "source": [
    "def norm(v):\n",
    "    v = np.array(v)\n",
    "    return v/np.linalg.norm(v)"
   ]
  },
  {
   "cell_type": "code",
   "execution_count": 5,
   "metadata": {},
   "outputs": [],
   "source": [
    "def vec2rot(a, b):\n",
    "    if np.allclose(a,b):\n",
    "        return [0, 1, 0, 0]\n",
    "    else:\n",
    "        ez = norm(a)\n",
    "        n = norm(b)\n",
    "        ax = np.cross(ez,n)\n",
    "        ang = np.arccos(ez@n)\n",
    "        return [ang, ax[0], ax[1], ax[2]]"
   ]
  },
  {
   "cell_type": "code",
   "execution_count": 6,
   "metadata": {},
   "outputs": [],
   "source": [
    "class Mirror:\n",
    "    def __init__(self, p=(0,0,0), n=(0,0,1), diam=1.):\n",
    "        self.p = np.array(p)\n",
    "        self.n = np.array(norm(n))\n",
    "        self.R = diam/2\n",
    "    \n",
    "    def plot_outline(self, npts=30, **kwargs):\n",
    "        e = norm([1,1,1])\n",
    "        na = norm(np.cross(self.n, self.n+e))\n",
    "        nb = norm(np.cross(self.n, na))\n",
    "\n",
    "        phi = np.linspace(0, 2*np.pi, npts, endpoint=True)\n",
    "        vecs = self.p + self.R*np.stack([np.sin(p)*na + np.cos(p)*nb for p in phi], axis=0)\n",
    "        return k3d.line(vecs, **kwargs)\n",
    "    \n",
    "    def plot(self, n_radii = 5, n_angles = 10, **kwargs):\n",
    "        radii = np.linspace(0., 1, n_radii)\n",
    "        x, y = [0], [0]\n",
    "        for r in radii[1:]:\n",
    "            x.extend([r*np.cos(p) for p in np.linspace(0,2*np.pi,int(2*np.pi*r*n_angles))])\n",
    "            y.extend([r*np.sin(p) for p in np.linspace(0,2*np.pi,int(2*np.pi*r*n_angles))])\n",
    "        x = np.array(x)*self.R\n",
    "        y = np.array(y)*self.R\n",
    "\n",
    "        z = np.zeros_like(x)\n",
    "        indices = Triangulation(x,y).triangles.astype(np.uint32)\n",
    "        mesh = k3d.mesh(np.vstack([x,y,z]).T, indices, **kwargs)\n",
    "        mesh.transform.rotation = vec2rot(norm([0,0,1]), self.n)\n",
    "        mesh.transform.translation = self.p\n",
    "        return mesh\n",
    "    \n",
    "    def intersect_all(self, ray, return_msk=False):\n",
    "        #shape of Ray [2xNrays]\n",
    "        r, s = ray\n",
    "        sn = s@self.n\n",
    "\n",
    "        t = ((self.p - r)@self.n)/sn\n",
    "        msk = np.abs(sn)>np.finfo(np.float32).eps\n",
    "        x = r[msk] + t[msk,None]*s[msk]\n",
    "        if return_msk:\n",
    "            return x, msk\n",
    "        else:\n",
    "            return x\n",
    "    \n",
    "    def intersect(self, ray, return_msk=False):\n",
    "        q, msk = self.intersect_all(ray, return_msk=True)\n",
    "        d = np.linalg.norm(q - self.p, axis=1)\n",
    "        msk = np.logical_and(msk, (d<=self.R))\n",
    "        if return_msk:\n",
    "            return q[msk], msk\n",
    "        else:\n",
    "            return q[msk]\n",
    "    \n",
    "    def propagate(self, ray, indices=None, aperture=True):\n",
    "        _, s = ray\n",
    "        if indices is None:\n",
    "            indices = np.arange(ray.shape[1])\n",
    "            \n",
    "        if aperture:\n",
    "            q, msk = self.intersect(ray, return_msk=True)\n",
    "        else:\n",
    "            q, msk  = self.intersect_all(ray, return_msk=True)\n",
    "        s = s[msk]\n",
    "        indices = indices[msk]\n",
    "        \n",
    "        sp = s - 2*np.dot(s, self.n)[:,None]*self.n[None,:]\n",
    "        return np.stack([q, sp], axis=0), indices"
   ]
  },
  {
   "cell_type": "code",
   "execution_count": 7,
   "metadata": {},
   "outputs": [],
   "source": [
    "class Screen(Mirror):\n",
    "    def __init__(self, p=(0,0,0), n=(0,0,1), diam=1.):\n",
    "        super().__init__(p, n, diam)\n",
    "        \n",
    "    def propagate(self, ray, indices=None, aperture=True):\n",
    "        _, s = ray\n",
    "        if indices is None:\n",
    "            indices = np.arange(ray.shape[1])\n",
    "            \n",
    "        if aperture:\n",
    "            q, msk = self.intersect(ray, return_msk=True)\n",
    "        else:\n",
    "            q, msk  = self.intersect_all(ray, return_msk=True)\n",
    "        s = s[msk]\n",
    "        indices = indices[msk]\n",
    "        return np.stack([q, s], axis=0), indices"
   ]
  },
  {
   "cell_type": "code",
   "execution_count": 8,
   "metadata": {},
   "outputs": [],
   "source": [
    "class Glass(Mirror):\n",
    "    def __init__(self, p=(0,0,0), n=(0,0,1), diam=1., n1=1., n2=1.):\n",
    "        super().__init__(p, n, diam)\n",
    "        self.n1 = n1\n",
    "        self.n2 = n2\n",
    "        self.r = n1/n2\n",
    "        \n",
    "    def propagate(self, ray, indices=None, aperture=True):\n",
    "        #Propagate rays by transmission through  an index chane, Snells law\n",
    "        if indices is None:\n",
    "            indices = np.arange(ray.shape[1])\n",
    "        \n",
    "        _, s = ray\n",
    "        if aperture:\n",
    "            q, msk = self.intersect(ray, return_msk=True)\n",
    "        else:\n",
    "            q, msk  = self.intersect_all(ray, return_msk=True)\n",
    "        s = s[msk]\n",
    "        indices = indices[msk]\n",
    "        \n",
    "        c = -np.dot(s, self.n)\n",
    "        dis = 1 - self.r**2*(1 - c**2)\n",
    "        #prevent total internal reflection\n",
    "        msk = (dis>=0.)\n",
    "        sp = self.r*s + (self.r*c - np.sqrt(dis))[:,None]*self.n[None,:]\n",
    "        indices = indices[msk]\n",
    "        \n",
    "        return np.stack([q[msk], sp[msk]], axis=0), indices        "
   ]
  },
  {
   "cell_type": "code",
   "execution_count": 9,
   "metadata": {},
   "outputs": [],
   "source": [
    "def dbg_shape(lst):\n",
    "    for l in lst:\n",
    "        print(l.shape)"
   ]
  },
  {
   "cell_type": "code",
   "execution_count": 10,
   "metadata": {},
   "outputs": [],
   "source": [
    "class CurvedMirror:\n",
    "    def __init__(self, p=(0,0,0), n=(0,0,1), R=1., curv='CC', diam=25.4):\n",
    "        self.p = np.array(p)\n",
    "        self.n = np.array(norm(n))\n",
    "        self.R = R\n",
    "        self.rapt = diam/2.\n",
    "        if curv=='CC':\n",
    "            self.cp = self.p + self.R*self.n\n",
    "        elif curv=='CX':\n",
    "            self.cp = self.p - self.R*self.n\n",
    "        else:\n",
    "            raise ValueError(\"Mirror type {} unknown! Curv has to be CC or CX\".format(curv))\n",
    "        self.curv = curv\n",
    "        \n",
    "    def plot(self, n_radii = 10, n_angles = 10, **kwargs):\n",
    "        radii = np.linspace(0., 1, n_radii)\n",
    "        x, y = [0], [0]\n",
    "        for r in radii[1:]:\n",
    "            x.extend([r*np.cos(p) for p in np.linspace(0,2*np.pi,int(2*np.pi*r*n_angles))])\n",
    "            y.extend([r*np.sin(p) for p in np.linspace(0,2*np.pi,int(2*np.pi*r*n_angles))])\n",
    "        x = np.array(x)*self.rapt\n",
    "        y = np.array(y)*self.rapt\n",
    "\n",
    "        z = self.R-np.sqrt(self.R**2-x**2-y**2)\n",
    "        if self.curv=='CX':\n",
    "            z = -z\n",
    "\n",
    "        \n",
    "        indices = Triangulation(x,y).triangles.astype(np.uint32)\n",
    "        mesh = k3d.mesh(np.vstack([x,y,z]).T, indices, **kwargs)\n",
    "        mesh.transform.rotation = vec2rot(norm([0,0,1]), self.n)\n",
    "        mesh.transform.translation = self.p\n",
    "        return mesh\n",
    "    \n",
    "    def intersect_all(self, ray, return_msk=False):\n",
    "        #shape of Ray [2xNrays]\n",
    "        r, s = ray\n",
    "        d = self.cp - r\n",
    "        ds = np.einsum(\"ji,ji->j\",d,s)\n",
    "        \n",
    "        dis = ds**2 + self.R**2 - np.einsum(\"ji,ji->j\",d,d)\n",
    "        msk = dis>=0\n",
    "        t12 = np.stack([ds+np.sqrt(dis), ds-np.sqrt(dis)], axis=0) #[2xNrays]\n",
    "        #find the right intersection closer to the origin!\n",
    "        x12 = r[None,msk] + t12[:,msk,None]*s[None,msk] #[2xNraysx3]\n",
    "        dist12 = np.linalg.norm(x12-self.p, axis=2) #[2xNrays]\n",
    "        which = np.argmin(dist12, axis=0)\n",
    "        x = np.stack([x12[w,i,:] for i, w in enumerate(which)]) #TODO: find vector expression\n",
    "        \n",
    "        if return_msk:\n",
    "            return x, msk\n",
    "        else:\n",
    "            return x\n",
    "        \n",
    "    def intersect(self, ray, return_msk=False):\n",
    "        xb = np.sqrt(self.R**2 - self.rapt**2)\n",
    "        x = self.R - xb\n",
    "        dst = np.sqrt(self.rapt**2+x**2)\n",
    "        \n",
    "        q, msk = self.intersect_all(ray, return_msk=True)\n",
    "        d = np.linalg.norm(q - self.p, axis=1) #TODO not the right distance! \n",
    "        msk = np.logical_and(msk, (d<=dst))\n",
    "        if return_msk:\n",
    "            return q[msk], msk\n",
    "        else:\n",
    "            return q[msk]\n",
    "        \n",
    "    def propagate(self, ray, indices=None, aperture=True):\n",
    "        if indices is None:\n",
    "            indices = np.arange(ray.shape[1])\n",
    "            \n",
    "        _, s = ray\n",
    "        if aperture:\n",
    "            q, msk = self.intersect(ray, return_msk=True)\n",
    "        else:\n",
    "            q, msk  = self.intersect_all(ray, return_msk=True)\n",
    "        s = s[msk]\n",
    "        indices = indices[msk]\n",
    "        #find normal vectors\n",
    "        n = self.cp - q\n",
    "        nn = np.linalg.norm(n, axis=1)\n",
    "        n *= 1./nn[:,None]\n",
    "        \n",
    "        #sp = s - 2*np.dot(s, n)[:,None]*n[None,:]\n",
    "        sp = s - 2*np.einsum(\"ji,ji->j\",s,n)[:,None]*n\n",
    "        \n",
    "        return np.stack([q, sp], axis=0), indices"
   ]
  },
  {
   "cell_type": "code",
   "execution_count": 11,
   "metadata": {},
   "outputs": [],
   "source": [
    "class CurvedGlass(CurvedMirror):\n",
    "    def __init__(self, p=(0,0,0), n=(0,0,1), R=1., curv='CC', diam=25.4, n1=1., n2=1.):\n",
    "        super().__init__(p, n, R, curv, diam)\n",
    "        self.n1 = n1\n",
    "        self.n2 = n2\n",
    "        self.r = n1/n2\n",
    "        \n",
    "    def propagate(self, ray, indices=None, aperture=True):\n",
    "        #Propagate rays by transmission through  an index change, Snells law\n",
    "        _, s = ray\n",
    "        if indices is None:\n",
    "            indices = np.arange(ray.shape[1])\n",
    "            \n",
    "        if aperture:\n",
    "            q, msk = self.intersect(ray, return_msk=True)\n",
    "        else:\n",
    "            q, msk  = self.intersect_all(ray, return_msk=True)\n",
    "        s = s[msk]\n",
    "        indices = indices[msk]\n",
    "        #find normal vectors\n",
    "        n = self.cp - q\n",
    "        nn = np.linalg.norm(n, axis=1)\n",
    "        n *= 1./nn[:,None]\n",
    "        if self.curv=='CX':\n",
    "            n = -n\n",
    "        #c = -np.dot(s, self.n)\n",
    "        #dis = 1 - self.r**2*(1 - c**2)\n",
    "        #msk = (dis>=0.)\n",
    "        #sp = self.r*s + (self.r*c - np.sqrt(dis))[:,None]*self.n[None,:]\n",
    "        c = -np.einsum(\"ji,ji->j\",s,n)\n",
    "        dis = 1 - self.r**2*(1 - c**2)\n",
    "        msk = (dis>=0.)\n",
    "        sp = self.r*s + (self.r*c - np.sqrt(dis))[:,None]*n\n",
    "        indices = indices[msk]\n",
    "        \n",
    "        return np.stack([q[msk], sp[msk]], axis=0), indices        "
   ]
  },
  {
   "cell_type": "code",
   "execution_count": 12,
   "metadata": {},
   "outputs": [],
   "source": [
    "mir = CurvedGlass(p=(0,0,10), n=norm((0,0.1,-1)), R=8., diam=5, curv='CC', n2=1.5)"
   ]
  },
  {
   "cell_type": "code",
   "execution_count": null,
   "metadata": {},
   "outputs": [],
   "source": [
    "mir = CurvedMirror(p=(0,0,10), n=norm((0,0.1,-1)), R=20., diam=5, curv='CC')"
   ]
  },
  {
   "cell_type": "code",
   "execution_count": null,
   "metadata": {},
   "outputs": [],
   "source": [
    "plot = k3d.plot(camera_auto_fit=True, antialias=True)\n",
    "\n",
    "plot_rays(rays, plot)\n",
    "plot += mir.plot(opacity=0.3)\n",
    "xi = mir.intersect(rays)\n",
    "pts = k3d.points(xi, point_size=0.1, color=0x00ff00)\n",
    "plot += pts\n",
    "rays2, ind2 = mir.propagate(rays)\n",
    "plot_rays(rays2, plot)\n",
    "plot.display()"
   ]
  },
  {
   "cell_type": "code",
   "execution_count": null,
   "metadata": {},
   "outputs": [],
   "source": [
    "Nray = 12\n",
    "org = np.stack([np.array([0,0,0]) for _ in range(Nray)], axis=0)\n",
    "s = np.stack([norm([3,np.random.rand()-.5,np.random.rand()-.5]) for _ in range(Nray)], axis=0)\n",
    "rays = np.stack([org, s], axis=0)\n",
    "rays.shape"
   ]
  },
  {
   "cell_type": "code",
   "execution_count": 13,
   "metadata": {},
   "outputs": [],
   "source": [
    "def plot_rays(rays, plot, length=10.):\n",
    "    s = k3d.vectors(origins=rays[0,...], vectors=rays[1,...], colors=[(0xff0000,)*rays.shape[1]*2], head_size=2.)\n",
    "    plot += s\n",
    "    ls = [k3d.line([rays[0,i,:], rays[0,i,:]+15*rays[1,i,:]]) for i in range(rays.shape[1])]\n",
    "    for l in ls:\n",
    "        plot += l"
   ]
  },
  {
   "cell_type": "code",
   "execution_count": 14,
   "metadata": {},
   "outputs": [],
   "source": [
    "def ray_bundle(p=(0,0,0), n=(0,0,1), n_radii=10, n_angles=2, R=1., divergence=0.):\n",
    "    radii = np.linspace(0., 1, n_radii)\n",
    "    x, s = [[0,0,0],], [[0,0,1],]\n",
    "    for r in radii[1:]:\n",
    "        for p in np.linspace(0,2*np.pi,int(2*np.pi*r*n_angles)):\n",
    "            x.append( [R*r*np.cos(p), R*r*np.sin(p), 0])\n",
    "            s.append(norm([divergence*r*np.cos(p), divergence*r*np.sin(p), 1]))\n",
    "       \n",
    "    rays = np.stack([np.array(x), np.array(s)], axis=0)\n",
    "    ez = np.array([0,0,1])\n",
    "    nn = norm(n)\n",
    "    R = getrot(ez, nn)\n",
    "    rays2 = np.einsum(\"abi,ij->abj\", rays, R)\n",
    "    #rays2[0,:,:] += p\n",
    "    return rays2"
   ]
  },
  {
   "cell_type": "code",
   "execution_count": null,
   "metadata": {},
   "outputs": [],
   "source": [
    "rays = ray_bundle(n_radii=5,n_angles=2)"
   ]
  },
  {
   "cell_type": "code",
   "execution_count": null,
   "metadata": {},
   "outputs": [],
   "source": [
    "ap1 = Mirror(p=(10,0,0), n=(1,0,0), diam=2.)"
   ]
  },
  {
   "cell_type": "code",
   "execution_count": null,
   "metadata": {},
   "outputs": [],
   "source": [
    "ap1 = Glass(p=(10,0,0), n=(-1,0,0), diam=2., n2=1.5)"
   ]
  },
  {
   "cell_type": "code",
   "execution_count": null,
   "metadata": {},
   "outputs": [],
   "source": [
    "plot = k3d.plot(camera_auto_fit=True, antialias=True)\n",
    "\n",
    "#bbox = k3d.platonic.Cube(origin=(10,0,0), size=2)\n",
    "#plot += k3d.mesh(bbox.vertices, bbox.indices, wireframe=True)\n",
    "\n",
    "plot_rays(rays, plot)\n",
    "plot += ap1.plot()\n",
    "xi = ap1.intersect(rays)\n",
    "pts = k3d.points(xi, point_size=0.2)\n",
    "plot += pts\n",
    "rays2 = ap1.propagate(rays)\n",
    "plot_rays(rays2, plot)\n",
    "plot.display()"
   ]
  },
  {
   "cell_type": "code",
   "execution_count": 15,
   "metadata": {},
   "outputs": [],
   "source": [
    "def geometry(mir):\n",
    "    \n",
    "    def norm(arr, axis=-1):\n",
    "        norm = np.sqrt(np.sum(arr**2, axis=-1))\n",
    "        norm = np.expand_dims(norm, axis)\n",
    "        return np.divide(arr, norm, where=(norm!=0))\n",
    "    \n",
    "    Nm = len(mir)\n",
    "    M = mir[:,None,:]-mir[None,:,:]\n",
    "    m = norm(M)\n",
    "    \n",
    "    n = norm(np.array([np.cross(m[j,j-1],m[j,(j+1)%Nm]) for j in range(Nm)]))\n",
    "    refl = -norm(np.array([0.5*(m[j,j-1]+m[j,(j+1)%Nm]) for j in range(Nm)])) #vectors normal to reflecting mirrors\n",
    "    angles = np.array([0.5*np.arccos(np.dot(m[j,j-1],m[j,(j+1)%Nm])) for j in range(Nm)])\n",
    "    xin = n\n",
    "    xout = n\n",
    "    yin = norm(np.array([np.cross(n[j],m[j,j-1]) for j in range(Nm)]))\n",
    "    yout = norm(np.array([np.cross(n[j],m[j,(j+1)%Nm]) for j in range(Nm)]))\n",
    "    R = np.stack([np.array([[xout[i]@xin[(i+1)%Nm], yout[i]@xin[(i+1)%Nm]],\\\n",
    "                            [xout[i]@yin[(i+1)%Nm], yout[i]@yin[(i+1)%Nm]]]) for i in range(Nm)], axis=0)\n",
    "    \n",
    "    Ls = [np.linalg.norm(M[j-1,j]) for j in range(Nm)]\n",
    "    Lrt = sum(Ls)\n",
    "\n",
    "    return {'mir': mir, 'n': n, 'refl': refl, 'xin': xin, 'xout': xout, 'yin': yin, 'yout': yout, 'Ls': Ls, 'Lrt': Lrt}"
   ]
  },
  {
   "cell_type": "code",
   "execution_count": 16,
   "metadata": {},
   "outputs": [],
   "source": [
    "def plot_geometry(geom, **kwargs):\n",
    "    mir, n, refl, yin, yout = geom['mir'], geom['n'], geom['refl'], geom['yin'], geom['yout']\n",
    "    Nm = len(mir)\n",
    "    plot = k3d.plot(camera_auto_fit=True, antialias=True)\n",
    "\n",
    "    col=0xff0000\n",
    "    pf = 1.\n",
    "    plt_line = k3d.line(pf*mir, shader='mesh', width=0.5, color=col)\n",
    "    plt_line2 = k3d.line(pf*mir[(-1,0),...], shader='mesh', width=0.5, color=col)\n",
    "    plot += plt_line\n",
    "    plot += plt_line2\n",
    "    plot += k3d.vectors(origins=pf*mir, vectors=n*2, use_head=True, head_size=3.)#Normals = xIn = xOut\n",
    "    plot += k3d.vectors(origins=pf*mir, vectors=yin*2, use_head=True, head_size=3., color= 0xff8c00) #yIn\n",
    "    plot += k3d.vectors(origins=pf*mir, vectors=yout*2, use_head=True, head_size=3., color= 0xff8c00) #yOut\n",
    "    plot += k3d.vectors(origins=pf*mir, vectors=refl*2, use_head=True, head_size=3., color=0x00ff00)\n",
    "\n",
    "    ey = np.array([0,1,0])\n",
    "    ex = np.array([1,0,0])\n",
    "    for i in range(Nm):\n",
    "        mirror = Box(size=(1,10,10)).mesh\n",
    "\n",
    "        mirror.transform.custom_matrix = pad3to4(getrot(ex, refl[i])) #get rotation matrix of mirror\n",
    "        mirror.transform.translation = pf*mir[i]\n",
    "        plot += mirror\n",
    "\n",
    "    return plot"
   ]
  },
  {
   "cell_type": "code",
   "execution_count": 17,
   "metadata": {},
   "outputs": [],
   "source": [
    "def SixMirror(dx=27.77, dy=8.0, dz=16.685, d=4.750, dzF=1.5825, Rfast=25.0):\n",
    "    \n",
    "\n",
    "    p1 = np.array([0,0,0])\n",
    "    p2 = np.array([dx, dy, dzF])\n",
    "    p3 = np.array([0, dy, dzF])\n",
    "    p4 = np.array([dx, 2*dy, 0])\n",
    "    p5 = np.array([d, dy+d, dz])\n",
    "    p6 = np.array([dx-d, dy-d, dz])\n",
    "    \n",
    "    ps = np.stack([p1,p2,p3,p4,p5,p6], axis=0)\n",
    "    geom = geometry(ps)\n",
    "    ns = geom['refl']\n",
    "    hi = 12.7\n",
    "    qi=7.75\n",
    "    elements = [Mirror(p=p1, n=ns[0], diam=qi),\\\n",
    "                CurvedMirror(p=p2, n=ns[1], diam=qi, R=Rfast, curv='CC'),\\\n",
    "                CurvedMirror(p=p3, n=ns[2], diam=qi, R=Rfast, curv='CC'),\\\n",
    "                Mirror(p=p4, n=ns[3], diam=qi),\\\n",
    "                Mirror(p=p5, n=ns[4], diam=hi),\\\n",
    "                Mirror(p=p6, n=ns[5], diam=hi)]\n",
    "    return elements, geom"
   ]
  },
  {
   "cell_type": "code",
   "execution_count": 18,
   "metadata": {},
   "outputs": [
    {
     "data": {
      "text/plain": [
       "array([1.000000e+00, 0.000000e+00, 6.123234e-17])"
      ]
     },
     "execution_count": 18,
     "metadata": {},
     "output_type": "execute_result"
    }
   ],
   "source": [
    "def rot_vec(v, ax, ang):\n",
    "    if ang==0.0:\n",
    "        return v\n",
    "    else:\n",
    "        return v*np.cos(ang) + np.cross(ax,v)*np.sin(ang) + ax@v*ax*(1. - np.cos(ang))\n",
    "\n",
    "rot_vec(np.array([0,0,1]), np.array([0,1,0]), np.pi/2)"
   ]
  },
  {
   "cell_type": "code",
   "execution_count": 61,
   "metadata": {},
   "outputs": [],
   "source": [
    "def propagate_system(elements, order, rays, Nrt=1):\n",
    "    rs = rays.copy()\n",
    "    ind = np.arange(rs.shape[1])\n",
    "    allrays = [rs,]\n",
    "    allind = [ind,]\n",
    "    for _ in range(Nrt):\n",
    "        for o in order:\n",
    "            try:\n",
    "                rs, ind = elements[o].propagate(rs, indices=ind)\n",
    "            except:\n",
    "                print('Propagation failed at element {}'.format(str(elements[o])))\n",
    "                break\n",
    "            else:\n",
    "                allrays.append(rs)\n",
    "                allind.append(ind)\n",
    "        \n",
    "    return allrays, allind"
   ]
  },
  {
   "cell_type": "code",
   "execution_count": 20,
   "metadata": {},
   "outputs": [],
   "source": [
    "def get_trajectories(allrays, allind):\n",
    "    traj = []\n",
    "    for i in range(allrays[0].shape[1]):\n",
    "        steps = []\n",
    "        for s in range(len(allind)):\n",
    "            if i in allind[s]:\n",
    "                idx = np.where(i==allind[s])[0]\n",
    "                steps.append(allrays[s][0,idx,:])\n",
    "            else:\n",
    "                break\n",
    "        traj.append(steps)\n",
    "    return traj"
   ]
  },
  {
   "cell_type": "markdown",
   "metadata": {},
   "source": [
    "## Six mirror cavity"
   ]
  },
  {
   "cell_type": "code",
   "execution_count": 21,
   "metadata": {},
   "outputs": [],
   "source": [
    "elements, geom = SixMirror()\n",
    "\n",
    "x0 = 0.5*(geom['mir'][2] + geom['mir'][1])\n",
    "n0 = norm(geom['mir'][1] - geom['mir'][2])\n",
    "rs = ray_bundle(p=x0, n=n0, n_radii=5,n_angles=2, R=0.2)\n",
    "\n",
    "rays = rs.copy()\n",
    "\n",
    "rays[0,:,:] += x0[None,:]\n",
    "\n",
    "order = [2,3,4,5,0,1]\n",
    "screen = Screen(p=x0, n=-n0, diam=7.75)\n",
    "elements.append(screen)\n",
    "order.append(6)"
   ]
  },
  {
   "cell_type": "code",
   "execution_count": 22,
   "metadata": {},
   "outputs": [],
   "source": [
    "allrays, allind = propagate_system(elements, order, rays)\n",
    "traject = get_trajectories(allrays, allind)"
   ]
  },
  {
   "cell_type": "code",
   "execution_count": 23,
   "metadata": {},
   "outputs": [
    {
     "name": "stderr",
     "output_type": "stream",
     "text": [
      "C:\\ProgramData\\Anaconda3\\lib\\site-packages\\traittypes\\traittypes.py:101: UserWarning: Given trait value dtype \"float64\" does not match required type \"float32\". A coerced copy has been created.\n",
      "  np.dtype(self.dtype).name))\n"
     ]
    },
    {
     "data": {
      "application/vnd.jupyter.widget-view+json": {
       "model_id": "f701a69816054abbb9b2b02089fd0719",
       "version_major": 2,
       "version_minor": 0
      },
      "text/plain": [
       "Output()"
      ]
     },
     "metadata": {},
     "output_type": "display_data"
    }
   ],
   "source": [
    "plot = k3d.plot(camera_auto_fit=True, antialias=True)\n",
    "\n",
    "plot += k3d.vectors(origins=x0, vectors=n0)\n",
    "#plot_rays(rays, plot)\n",
    "for el in elements:\n",
    "    plot += el.plot(opacity=0.4)\n",
    "\n",
    "plot += screen.plot_outline()\n",
    "\n",
    "for t in traject:\n",
    "    plot += k3d.line(t, color=0x00ff00)\n",
    "plot.display()"
   ]
  },
  {
   "cell_type": "code",
   "execution_count": 25,
   "metadata": {},
   "outputs": [],
   "source": [
    "r0 = x0 + np.array([0,0.2,0.2])\n",
    "s0 = n0 \n",
    "ray0 = np.stack([np.atleast_2d(r0), np.atleast_2d(s0)], axis=0)\n",
    "\n",
    "rs, inds = propagate_system(elements, order, ray0)\n",
    "traj = get_trajectories(rs, inds)[0]"
   ]
  },
  {
   "cell_type": "code",
   "execution_count": 143,
   "metadata": {},
   "outputs": [],
   "source": [
    "def find_eigenray(elements, order, ray0, lr = 0.05, maxiter=500, tol=1e-5):\n",
    "    \n",
    "    rcur = ray0.copy()\n",
    "    for i in range(maxiter):\n",
    "        rs, inds = propagate_system(elements, order, rcur)\n",
    "        rnew = rs[-1]\n",
    "        res = np.max(np.abs(rcur.flatten() - rnew.flatten()))\n",
    "        rcur = (1.-lr)*rcur + lr*rnew\n",
    "        if res<tol:\n",
    "            break\n",
    "    return rcur\n",
    "\n",
    "def find_eigenray_animated(elements, order, ray0, lr = 0.05, maxiter=500, tol=1e-5):\n",
    "    \n",
    "    rcur = ray0.copy()\n",
    "    trajs = []\n",
    "    for i in range(maxiter):\n",
    "        rs, inds = propagate_system(elements, order, rcur)\n",
    "        traj = get_trajectories(rs, inds)[0]\n",
    "        trajs.append(traj)\n",
    "        rnew = rs[-1]\n",
    "        res = np.max(np.abs(rcur.flatten() - rnew.flatten()))\n",
    "        rcur = (1.-lr)*rcur + lr*rnew\n",
    "        if res<tol:\n",
    "            break\n",
    "    return rcur, trajs"
   ]
  },
  {
   "cell_type": "code",
   "execution_count": 27,
   "metadata": {},
   "outputs": [],
   "source": [
    "reig, trajs = find_eigenray_animated(elements, ray0, tol=1e-6)\n",
    "\n",
    "ts_dict = {str(t/100): trajs[t] for t in range(0, len(trajs), 10)}"
   ]
  },
  {
   "cell_type": "code",
   "execution_count": 29,
   "metadata": {},
   "outputs": [
    {
     "data": {
      "application/vnd.jupyter.widget-view+json": {
       "model_id": "e4aaef931d68496eb8b712e308b44c19",
       "version_major": 2,
       "version_minor": 0
      },
      "text/plain": [
       "Output()"
      ]
     },
     "metadata": {},
     "output_type": "display_data"
    }
   ],
   "source": [
    "plot_ts = k3d.plot(camera_auto_fit=True, antialias=True)\n",
    "\n",
    "\n",
    "for el in elements:\n",
    "    plot_ts += el.plot(opacity=0.4)\n",
    "\n",
    "plot_ts += screen.plot_outline()\n",
    "plot_ts += k3d.line(ts_dict, shader='mesh', width=0.2, color=0x00ff00)\n",
    "plot_ts.display()"
   ]
  },
  {
   "cell_type": "code",
   "execution_count": 30,
   "metadata": {},
   "outputs": [],
   "source": [
    "def SixMirrorPert(dx=27.77, dy=8.0, dz=16.685, d=4.750, dzF=1.5825, Rfast=25.0, eps=np.zeros((6,5))):\n",
    "\n",
    "    p1 = np.array([0,0,0])\n",
    "    p2 = np.array([dx, dy, dzF])\n",
    "    p3 = np.array([0, dy, dzF])\n",
    "    p4 = np.array([dx, 2*dy, 0])\n",
    "    p5 = np.array([d, dy+d, dz])\n",
    "    p6 = np.array([dx-d, dy-d, dz])\n",
    "    \n",
    "    ps = np.stack([p1,p2,p3,p4,p5,p6], axis=0)\n",
    "    geom = geometry(ps)\n",
    "    ns = geom['refl']\n",
    "    ps = geom['mir']\n",
    "    #add perturbations\n",
    "    ps += eps[:,:3]\n",
    "    axx = geom['xin']\n",
    "    axy = 0.5*(geom['yin']+geom['yout'])\n",
    "    ns = [rot_vec(rot_vec(ns[i], axx[i], np.deg2rad(eps[i,3])), axy[i], np.deg2rad(eps[i,4])) for i, n in enumerate(ns)]\n",
    "    \n",
    "    hi = 12.7\n",
    "    qi=7.75\n",
    "    elements = [Mirror(p=ps[0], n=ns[0], diam=qi),\\\n",
    "                CurvedMirror(p=ps[1], n=ns[1], diam=qi, R=Rfast, curv='CC'),\\\n",
    "                CurvedMirror(p=ps[2], n=ns[2], diam=qi, R=Rfast, curv='CC'),\\\n",
    "                Mirror(p=ps[3], n=ns[3], diam=qi),\\\n",
    "                Mirror(p=ps[4], n=ns[4], diam=hi),\\\n",
    "                Mirror(p=ps[5], n=ns[5], diam=hi)]\n",
    "    return elements, geom"
   ]
  },
  {
   "cell_type": "code",
   "execution_count": 31,
   "metadata": {},
   "outputs": [],
   "source": [
    "#set up unperturbed system\n",
    "elements, geom = SixMirrorPert()\n",
    "x0 = 0.5*(geom['mir'][2] + geom['mir'][1])\n",
    "n0 = norm(geom['mir'][1] - geom['mir'][2])\n",
    "\n",
    "r0 = x0\n",
    "s0 = n0 \n",
    "ray0 = np.stack([np.atleast_2d(r0), np.atleast_2d(s0)], axis=0)\n",
    "\n",
    "order = [2,3,4,5,0,1]\n",
    "screen = Screen(p=x0, n=-n0, diam=7.75)\n",
    "elements.append(screen)\n",
    "order.append(6)"
   ]
  },
  {
   "cell_type": "code",
   "execution_count": 32,
   "metadata": {},
   "outputs": [],
   "source": [
    "reig0 = find_eigenray(elements, ray0, tol=1e-6)\n",
    "traj0 = np.squeeze(np.stack(get_trajectories(*propagate_system(elements, order, reig0))[0]))"
   ]
  },
  {
   "cell_type": "code",
   "execution_count": 33,
   "metadata": {},
   "outputs": [],
   "source": [
    "def get_deviation(eps, ray0):\n",
    "    elements, _ = SixMirrorPert(eps=eps)\n",
    "    elements.append(screen)\n",
    "    try:\n",
    "        reig = find_eigenray(elements, ray0, tol=1e-5)\n",
    "        traj = np.squeeze(np.stack(get_trajectories(*propagate_system(elements, order, reig))[0]))\n",
    "    except ValueError:\n",
    "        traj = np.ones_like(traj0)*np.nan\n",
    "    modedist = np.linalg.norm(traj - traj0, axis=1)\n",
    "    return modedist"
   ]
  },
  {
   "cell_type": "code",
   "execution_count": 34,
   "metadata": {},
   "outputs": [],
   "source": [
    "eps = np.zeros((6,5))\n",
    "\n",
    "el = 1\n",
    "ax = 3\n",
    "es = np.linspace(-1, 1, 50)\n",
    "dists = np.empty((len(es),8))\n",
    "for i, e in enumerate(es):\n",
    "    eps[el,ax] = e\n",
    "    dists[i,:] = get_deviation(eps, ray0)"
   ]
  },
  {
   "cell_type": "code",
   "execution_count": 39,
   "metadata": {},
   "outputs": [
    {
     "data": {
      "application/vnd.jupyter.widget-view+json": {
       "model_id": "98163097770a4df6840eedcba293710a",
       "version_major": 2,
       "version_minor": 0
      },
      "text/plain": [
       "Canvas(toolbar=Toolbar(toolitems=[('Home', 'Reset original view', 'home', 'home'), ('Back', 'Back to previous …"
      ]
     },
     "metadata": {},
     "output_type": "display_data"
    }
   ],
   "source": [
    "plt.figure()\n",
    "axis=['x','y','z',r'$\\theta_x$',r'$\\theta_y$']\n",
    "labels = ['Source', 'Mir 1', 'Mir 2 (CC)', 'Mir 3 (CC)', 'Mir 4', 'Mir 5', 'Mir 6', 'Screen']\n",
    "for i in range(dists.shape[1]):\n",
    "    plt.plot(es, dists[:,i], marker='.', label=labels[i])\n",
    "plt.title('Moving {} in {}'.format(labels[el], axis[ax]))\n",
    "plt.xlabel(axis[ax])\n",
    "plt.ylabel('Deviation from eigenray [mm]')\n",
    "plt.legend()\n",
    "plt.show()"
   ]
  },
  {
   "cell_type": "code",
   "execution_count": 40,
   "metadata": {},
   "outputs": [],
   "source": [
    "from itertools import product\n",
    "from joblib import Parallel, delayed"
   ]
  },
  {
   "cell_type": "code",
   "execution_count": 43,
   "metadata": {},
   "outputs": [],
   "source": [
    "def pert_one(el, ax, npts=10):\n",
    "    eps = np.zeros((6,5))\n",
    "    es = np.linspace(0, 1, npts)\n",
    "    dists = np.empty((len(es),8))\n",
    "    for i, e in enumerate(es):\n",
    "        eps[el,ax] = e\n",
    "        dists[i,:] = get_deviation(eps, ray0)\n",
    "    return dists"
   ]
  },
  {
   "cell_type": "code",
   "execution_count": 63,
   "metadata": {},
   "outputs": [],
   "source": [
    "all_coords = list(product(range(6),range(5)))\n",
    "all_pert = Parallel(n_jobs=8)(delayed(pert_one)(i,j) for i, j in all_coords)"
   ]
  },
  {
   "cell_type": "code",
   "execution_count": 60,
   "metadata": {
    "collapsed": true,
    "jupyter": {
     "outputs_hidden": true,
     "source_hidden": true
    }
   },
   "outputs": [
    {
     "ename": "AttributeError",
     "evalue": "'str' object has no attribute 'fomrat'",
     "output_type": "error",
     "traceback": [
      "\u001b[1;31m---------------------------------------------------------------------------\u001b[0m",
      "\u001b[1;31mValueError\u001b[0m                                Traceback (most recent call last)",
      "\u001b[1;32m<ipython-input-19-f300c6452178>\u001b[0m in \u001b[0;36mpropagate_system\u001b[1;34m(elements, order, rays, Nrt)\u001b[0m\n\u001b[0;32m      8\u001b[0m             \u001b[1;32mtry\u001b[0m\u001b[1;33m:\u001b[0m\u001b[1;33m\u001b[0m\u001b[1;33m\u001b[0m\u001b[0m\n\u001b[1;32m----> 9\u001b[1;33m                 \u001b[0mrs\u001b[0m\u001b[1;33m,\u001b[0m \u001b[0mind\u001b[0m \u001b[1;33m=\u001b[0m \u001b[0melements\u001b[0m\u001b[1;33m[\u001b[0m\u001b[0mo\u001b[0m\u001b[1;33m]\u001b[0m\u001b[1;33m.\u001b[0m\u001b[0mpropagate\u001b[0m\u001b[1;33m(\u001b[0m\u001b[0mrs\u001b[0m\u001b[1;33m,\u001b[0m \u001b[0mindices\u001b[0m\u001b[1;33m=\u001b[0m\u001b[0mind\u001b[0m\u001b[1;33m)\u001b[0m\u001b[1;33m\u001b[0m\u001b[1;33m\u001b[0m\u001b[0m\n\u001b[0m\u001b[0;32m     10\u001b[0m             \u001b[1;32mexcept\u001b[0m\u001b[1;33m:\u001b[0m\u001b[1;33m\u001b[0m\u001b[1;33m\u001b[0m\u001b[0m\n",
      "\u001b[1;32m<ipython-input-10-69880d91944a>\u001b[0m in \u001b[0;36mpropagate\u001b[1;34m(self, ray, indices, aperture)\u001b[0m\n\u001b[0;32m     73\u001b[0m         \u001b[1;32mif\u001b[0m \u001b[0maperture\u001b[0m\u001b[1;33m:\u001b[0m\u001b[1;33m\u001b[0m\u001b[1;33m\u001b[0m\u001b[0m\n\u001b[1;32m---> 74\u001b[1;33m             \u001b[0mq\u001b[0m\u001b[1;33m,\u001b[0m \u001b[0mmsk\u001b[0m \u001b[1;33m=\u001b[0m \u001b[0mself\u001b[0m\u001b[1;33m.\u001b[0m\u001b[0mintersect\u001b[0m\u001b[1;33m(\u001b[0m\u001b[0mray\u001b[0m\u001b[1;33m,\u001b[0m \u001b[0mreturn_msk\u001b[0m\u001b[1;33m=\u001b[0m\u001b[1;32mTrue\u001b[0m\u001b[1;33m)\u001b[0m\u001b[1;33m\u001b[0m\u001b[1;33m\u001b[0m\u001b[0m\n\u001b[0m\u001b[0;32m     75\u001b[0m         \u001b[1;32melse\u001b[0m\u001b[1;33m:\u001b[0m\u001b[1;33m\u001b[0m\u001b[1;33m\u001b[0m\u001b[0m\n",
      "\u001b[1;32m<ipython-input-10-69880d91944a>\u001b[0m in \u001b[0;36mintersect\u001b[1;34m(self, ray, return_msk)\u001b[0m\n\u001b[0;32m     59\u001b[0m \u001b[1;33m\u001b[0m\u001b[0m\n\u001b[1;32m---> 60\u001b[1;33m         \u001b[0mq\u001b[0m\u001b[1;33m,\u001b[0m \u001b[0mmsk\u001b[0m \u001b[1;33m=\u001b[0m \u001b[0mself\u001b[0m\u001b[1;33m.\u001b[0m\u001b[0mintersect_all\u001b[0m\u001b[1;33m(\u001b[0m\u001b[0mray\u001b[0m\u001b[1;33m,\u001b[0m \u001b[0mreturn_msk\u001b[0m\u001b[1;33m=\u001b[0m\u001b[1;32mTrue\u001b[0m\u001b[1;33m)\u001b[0m\u001b[1;33m\u001b[0m\u001b[1;33m\u001b[0m\u001b[0m\n\u001b[0m\u001b[0;32m     61\u001b[0m         \u001b[0md\u001b[0m \u001b[1;33m=\u001b[0m \u001b[0mnp\u001b[0m\u001b[1;33m.\u001b[0m\u001b[0mlinalg\u001b[0m\u001b[1;33m.\u001b[0m\u001b[0mnorm\u001b[0m\u001b[1;33m(\u001b[0m\u001b[0mq\u001b[0m \u001b[1;33m-\u001b[0m \u001b[0mself\u001b[0m\u001b[1;33m.\u001b[0m\u001b[0mp\u001b[0m\u001b[1;33m,\u001b[0m \u001b[0maxis\u001b[0m\u001b[1;33m=\u001b[0m\u001b[1;36m1\u001b[0m\u001b[1;33m)\u001b[0m \u001b[1;31m#TODO not the right distance!\u001b[0m\u001b[1;33m\u001b[0m\u001b[1;33m\u001b[0m\u001b[0m\n",
      "\u001b[1;32m<ipython-input-10-69880d91944a>\u001b[0m in \u001b[0;36mintersect_all\u001b[1;34m(self, ray, return_msk)\u001b[0m\n\u001b[0;32m     47\u001b[0m         \u001b[0mwhich\u001b[0m \u001b[1;33m=\u001b[0m \u001b[0mnp\u001b[0m\u001b[1;33m.\u001b[0m\u001b[0margmin\u001b[0m\u001b[1;33m(\u001b[0m\u001b[0mdist12\u001b[0m\u001b[1;33m,\u001b[0m \u001b[0maxis\u001b[0m\u001b[1;33m=\u001b[0m\u001b[1;36m0\u001b[0m\u001b[1;33m)\u001b[0m\u001b[1;33m\u001b[0m\u001b[1;33m\u001b[0m\u001b[0m\n\u001b[1;32m---> 48\u001b[1;33m         \u001b[0mx\u001b[0m \u001b[1;33m=\u001b[0m \u001b[0mnp\u001b[0m\u001b[1;33m.\u001b[0m\u001b[0mstack\u001b[0m\u001b[1;33m(\u001b[0m\u001b[1;33m[\u001b[0m\u001b[0mx12\u001b[0m\u001b[1;33m[\u001b[0m\u001b[0mw\u001b[0m\u001b[1;33m,\u001b[0m\u001b[0mi\u001b[0m\u001b[1;33m,\u001b[0m\u001b[1;33m:\u001b[0m\u001b[1;33m]\u001b[0m \u001b[1;32mfor\u001b[0m \u001b[0mi\u001b[0m\u001b[1;33m,\u001b[0m \u001b[0mw\u001b[0m \u001b[1;32min\u001b[0m \u001b[0menumerate\u001b[0m\u001b[1;33m(\u001b[0m\u001b[0mwhich\u001b[0m\u001b[1;33m)\u001b[0m\u001b[1;33m]\u001b[0m\u001b[1;33m)\u001b[0m \u001b[1;31m#TODO: find vector expression\u001b[0m\u001b[1;33m\u001b[0m\u001b[1;33m\u001b[0m\u001b[0m\n\u001b[0m\u001b[0;32m     49\u001b[0m \u001b[1;33m\u001b[0m\u001b[0m\n",
      "\u001b[1;32m<__array_function__ internals>\u001b[0m in \u001b[0;36mstack\u001b[1;34m(*args, **kwargs)\u001b[0m\n",
      "\u001b[1;32mC:\\ProgramData\\Anaconda3\\lib\\site-packages\\numpy\\core\\shape_base.py\u001b[0m in \u001b[0;36mstack\u001b[1;34m(arrays, axis, out)\u001b[0m\n\u001b[0;32m    421\u001b[0m     \u001b[1;32mif\u001b[0m \u001b[1;32mnot\u001b[0m \u001b[0marrays\u001b[0m\u001b[1;33m:\u001b[0m\u001b[1;33m\u001b[0m\u001b[1;33m\u001b[0m\u001b[0m\n\u001b[1;32m--> 422\u001b[1;33m         \u001b[1;32mraise\u001b[0m \u001b[0mValueError\u001b[0m\u001b[1;33m(\u001b[0m\u001b[1;34m'need at least one array to stack'\u001b[0m\u001b[1;33m)\u001b[0m\u001b[1;33m\u001b[0m\u001b[1;33m\u001b[0m\u001b[0m\n\u001b[0m\u001b[0;32m    423\u001b[0m \u001b[1;33m\u001b[0m\u001b[0m\n",
      "\u001b[1;31mValueError\u001b[0m: need at least one array to stack",
      "\nDuring handling of the above exception, another exception occurred:\n",
      "\u001b[1;31mAttributeError\u001b[0m                            Traceback (most recent call last)",
      "\u001b[1;32m<ipython-input-60-cc80f7e31cf6>\u001b[0m in \u001b[0;36m<module>\u001b[1;34m\u001b[0m\n\u001b[1;32m----> 1\u001b[1;33m \u001b[0mall_pert\u001b[0m \u001b[1;33m=\u001b[0m \u001b[1;33m[\u001b[0m\u001b[0mpert_one\u001b[0m\u001b[1;33m(\u001b[0m\u001b[0mi\u001b[0m\u001b[1;33m,\u001b[0m\u001b[0mj\u001b[0m\u001b[1;33m)\u001b[0m \u001b[1;32mfor\u001b[0m \u001b[0mi\u001b[0m\u001b[1;33m,\u001b[0m \u001b[0mj\u001b[0m \u001b[1;32min\u001b[0m \u001b[0mall_coords\u001b[0m\u001b[1;33m]\u001b[0m\u001b[1;33m\u001b[0m\u001b[1;33m\u001b[0m\u001b[0m\n\u001b[0m",
      "\u001b[1;32m<ipython-input-60-cc80f7e31cf6>\u001b[0m in \u001b[0;36m<listcomp>\u001b[1;34m(.0)\u001b[0m\n\u001b[1;32m----> 1\u001b[1;33m \u001b[0mall_pert\u001b[0m \u001b[1;33m=\u001b[0m \u001b[1;33m[\u001b[0m\u001b[0mpert_one\u001b[0m\u001b[1;33m(\u001b[0m\u001b[0mi\u001b[0m\u001b[1;33m,\u001b[0m\u001b[0mj\u001b[0m\u001b[1;33m)\u001b[0m \u001b[1;32mfor\u001b[0m \u001b[0mi\u001b[0m\u001b[1;33m,\u001b[0m \u001b[0mj\u001b[0m \u001b[1;32min\u001b[0m \u001b[0mall_coords\u001b[0m\u001b[1;33m]\u001b[0m\u001b[1;33m\u001b[0m\u001b[1;33m\u001b[0m\u001b[0m\n\u001b[0m",
      "\u001b[1;32m<ipython-input-46-e3626af84685>\u001b[0m in \u001b[0;36mpert_one\u001b[1;34m(el, ax, npts)\u001b[0m\n\u001b[0;32m      5\u001b[0m     \u001b[1;32mfor\u001b[0m \u001b[0mi\u001b[0m\u001b[1;33m,\u001b[0m \u001b[0me\u001b[0m \u001b[1;32min\u001b[0m \u001b[0menumerate\u001b[0m\u001b[1;33m(\u001b[0m\u001b[0mes\u001b[0m\u001b[1;33m)\u001b[0m\u001b[1;33m:\u001b[0m\u001b[1;33m\u001b[0m\u001b[1;33m\u001b[0m\u001b[0m\n\u001b[0;32m      6\u001b[0m         \u001b[0meps\u001b[0m\u001b[1;33m[\u001b[0m\u001b[0mel\u001b[0m\u001b[1;33m,\u001b[0m\u001b[0max\u001b[0m\u001b[1;33m]\u001b[0m \u001b[1;33m=\u001b[0m \u001b[0me\u001b[0m\u001b[1;33m\u001b[0m\u001b[1;33m\u001b[0m\u001b[0m\n\u001b[1;32m----> 7\u001b[1;33m         \u001b[0mdists\u001b[0m\u001b[1;33m[\u001b[0m\u001b[0mi\u001b[0m\u001b[1;33m,\u001b[0m\u001b[1;33m:\u001b[0m\u001b[1;33m]\u001b[0m \u001b[1;33m=\u001b[0m \u001b[0mget_deviation\u001b[0m\u001b[1;33m(\u001b[0m\u001b[0meps\u001b[0m\u001b[1;33m,\u001b[0m \u001b[0mray0\u001b[0m\u001b[1;33m)\u001b[0m\u001b[1;33m\u001b[0m\u001b[1;33m\u001b[0m\u001b[0m\n\u001b[0m\u001b[0;32m      8\u001b[0m     \u001b[1;32mreturn\u001b[0m \u001b[0mdists\u001b[0m\u001b[1;33m\u001b[0m\u001b[1;33m\u001b[0m\u001b[0m\n",
      "\u001b[1;32m<ipython-input-33-7602dad12593>\u001b[0m in \u001b[0;36mget_deviation\u001b[1;34m(eps, ray0)\u001b[0m\n\u001b[0;32m      3\u001b[0m     \u001b[0melements\u001b[0m\u001b[1;33m.\u001b[0m\u001b[0mappend\u001b[0m\u001b[1;33m(\u001b[0m\u001b[0mscreen\u001b[0m\u001b[1;33m)\u001b[0m\u001b[1;33m\u001b[0m\u001b[1;33m\u001b[0m\u001b[0m\n\u001b[0;32m      4\u001b[0m     \u001b[1;32mtry\u001b[0m\u001b[1;33m:\u001b[0m\u001b[1;33m\u001b[0m\u001b[1;33m\u001b[0m\u001b[0m\n\u001b[1;32m----> 5\u001b[1;33m         \u001b[0mreig\u001b[0m \u001b[1;33m=\u001b[0m \u001b[0mfind_eigenray\u001b[0m\u001b[1;33m(\u001b[0m\u001b[0melements\u001b[0m\u001b[1;33m,\u001b[0m \u001b[0mray0\u001b[0m\u001b[1;33m,\u001b[0m \u001b[0mtol\u001b[0m\u001b[1;33m=\u001b[0m\u001b[1;36m1e-5\u001b[0m\u001b[1;33m)\u001b[0m\u001b[1;33m\u001b[0m\u001b[1;33m\u001b[0m\u001b[0m\n\u001b[0m\u001b[0;32m      6\u001b[0m         \u001b[0mtraj\u001b[0m \u001b[1;33m=\u001b[0m \u001b[0mnp\u001b[0m\u001b[1;33m.\u001b[0m\u001b[0msqueeze\u001b[0m\u001b[1;33m(\u001b[0m\u001b[0mnp\u001b[0m\u001b[1;33m.\u001b[0m\u001b[0mstack\u001b[0m\u001b[1;33m(\u001b[0m\u001b[0mget_trajectories\u001b[0m\u001b[1;33m(\u001b[0m\u001b[1;33m*\u001b[0m\u001b[0mpropagate_system\u001b[0m\u001b[1;33m(\u001b[0m\u001b[0melements\u001b[0m\u001b[1;33m,\u001b[0m \u001b[0morder\u001b[0m\u001b[1;33m,\u001b[0m \u001b[0mreig\u001b[0m\u001b[1;33m)\u001b[0m\u001b[1;33m)\u001b[0m\u001b[1;33m[\u001b[0m\u001b[1;36m0\u001b[0m\u001b[1;33m]\u001b[0m\u001b[1;33m)\u001b[0m\u001b[1;33m)\u001b[0m\u001b[1;33m\u001b[0m\u001b[1;33m\u001b[0m\u001b[0m\n\u001b[0;32m      7\u001b[0m     \u001b[1;32mexcept\u001b[0m \u001b[0mValueError\u001b[0m\u001b[1;33m:\u001b[0m\u001b[1;33m\u001b[0m\u001b[1;33m\u001b[0m\u001b[0m\n",
      "\u001b[1;32m<ipython-input-26-4d0a83beb3de>\u001b[0m in \u001b[0;36mfind_eigenray\u001b[1;34m(elements, ray0, lr, maxiter, tol)\u001b[0m\n\u001b[0;32m      3\u001b[0m     \u001b[0mrcur\u001b[0m \u001b[1;33m=\u001b[0m \u001b[0mray0\u001b[0m\u001b[1;33m.\u001b[0m\u001b[0mcopy\u001b[0m\u001b[1;33m(\u001b[0m\u001b[1;33m)\u001b[0m\u001b[1;33m\u001b[0m\u001b[1;33m\u001b[0m\u001b[0m\n\u001b[0;32m      4\u001b[0m     \u001b[1;32mfor\u001b[0m \u001b[0mi\u001b[0m \u001b[1;32min\u001b[0m \u001b[0mrange\u001b[0m\u001b[1;33m(\u001b[0m\u001b[0mmaxiter\u001b[0m\u001b[1;33m)\u001b[0m\u001b[1;33m:\u001b[0m\u001b[1;33m\u001b[0m\u001b[1;33m\u001b[0m\u001b[0m\n\u001b[1;32m----> 5\u001b[1;33m         \u001b[0mrs\u001b[0m\u001b[1;33m,\u001b[0m \u001b[0minds\u001b[0m \u001b[1;33m=\u001b[0m \u001b[0mpropagate_system\u001b[0m\u001b[1;33m(\u001b[0m\u001b[0melements\u001b[0m\u001b[1;33m,\u001b[0m \u001b[0morder\u001b[0m\u001b[1;33m,\u001b[0m \u001b[0mrcur\u001b[0m\u001b[1;33m)\u001b[0m\u001b[1;33m\u001b[0m\u001b[1;33m\u001b[0m\u001b[0m\n\u001b[0m\u001b[0;32m      6\u001b[0m         \u001b[0mrnew\u001b[0m \u001b[1;33m=\u001b[0m \u001b[0mrs\u001b[0m\u001b[1;33m[\u001b[0m\u001b[1;33m-\u001b[0m\u001b[1;36m1\u001b[0m\u001b[1;33m]\u001b[0m\u001b[1;33m\u001b[0m\u001b[1;33m\u001b[0m\u001b[0m\n\u001b[0;32m      7\u001b[0m         \u001b[0mres\u001b[0m \u001b[1;33m=\u001b[0m \u001b[0mnp\u001b[0m\u001b[1;33m.\u001b[0m\u001b[0mmax\u001b[0m\u001b[1;33m(\u001b[0m\u001b[0mnp\u001b[0m\u001b[1;33m.\u001b[0m\u001b[0mabs\u001b[0m\u001b[1;33m(\u001b[0m\u001b[0mrcur\u001b[0m\u001b[1;33m.\u001b[0m\u001b[0mflatten\u001b[0m\u001b[1;33m(\u001b[0m\u001b[1;33m)\u001b[0m \u001b[1;33m-\u001b[0m \u001b[0mrnew\u001b[0m\u001b[1;33m.\u001b[0m\u001b[0mflatten\u001b[0m\u001b[1;33m(\u001b[0m\u001b[1;33m)\u001b[0m\u001b[1;33m)\u001b[0m\u001b[1;33m)\u001b[0m\u001b[1;33m\u001b[0m\u001b[1;33m\u001b[0m\u001b[0m\n",
      "\u001b[1;32m<ipython-input-19-f300c6452178>\u001b[0m in \u001b[0;36mpropagate_system\u001b[1;34m(elements, order, rays, Nrt)\u001b[0m\n\u001b[0;32m      9\u001b[0m                 \u001b[0mrs\u001b[0m\u001b[1;33m,\u001b[0m \u001b[0mind\u001b[0m \u001b[1;33m=\u001b[0m \u001b[0melements\u001b[0m\u001b[1;33m[\u001b[0m\u001b[0mo\u001b[0m\u001b[1;33m]\u001b[0m\u001b[1;33m.\u001b[0m\u001b[0mpropagate\u001b[0m\u001b[1;33m(\u001b[0m\u001b[0mrs\u001b[0m\u001b[1;33m,\u001b[0m \u001b[0mindices\u001b[0m\u001b[1;33m=\u001b[0m\u001b[0mind\u001b[0m\u001b[1;33m)\u001b[0m\u001b[1;33m\u001b[0m\u001b[1;33m\u001b[0m\u001b[0m\n\u001b[0;32m     10\u001b[0m             \u001b[1;32mexcept\u001b[0m\u001b[1;33m:\u001b[0m\u001b[1;33m\u001b[0m\u001b[1;33m\u001b[0m\u001b[0m\n\u001b[1;32m---> 11\u001b[1;33m                 \u001b[0mprint\u001b[0m\u001b[1;33m(\u001b[0m\u001b[1;34m'Propagation failed at element {}'\u001b[0m\u001b[1;33m.\u001b[0m\u001b[0mfomrat\u001b[0m\u001b[1;33m(\u001b[0m\u001b[0melements\u001b[0m\u001b[1;33m[\u001b[0m\u001b[0mo\u001b[0m\u001b[1;33m]\u001b[0m\u001b[1;33m)\u001b[0m\u001b[1;33m)\u001b[0m\u001b[1;33m\u001b[0m\u001b[1;33m\u001b[0m\u001b[0m\n\u001b[0m\u001b[0;32m     12\u001b[0m                 \u001b[1;32mbreak\u001b[0m\u001b[1;33m\u001b[0m\u001b[1;33m\u001b[0m\u001b[0m\n\u001b[0;32m     13\u001b[0m             \u001b[1;32melse\u001b[0m\u001b[1;33m:\u001b[0m\u001b[1;33m\u001b[0m\u001b[1;33m\u001b[0m\u001b[0m\n",
      "\u001b[1;31mAttributeError\u001b[0m: 'str' object has no attribute 'fomrat'"
     ]
    }
   ],
   "source": [
    "all_pert = [pert_one(i,j) for i, j in all_coords]"
   ]
  },
  {
   "cell_type": "code",
   "execution_count": 64,
   "metadata": {},
   "outputs": [],
   "source": [
    "pert_arr = np.array(all_pert).reshape(6,5,10,8)"
   ]
  },
  {
   "cell_type": "code",
   "execution_count": 67,
   "metadata": {},
   "outputs": [
    {
     "data": {
      "application/vnd.jupyter.widget-view+json": {
       "model_id": "87e6884419b34aff81afe1ce4b729d07",
       "version_major": 2,
       "version_minor": 0
      },
      "text/plain": [
       "Canvas(toolbar=Toolbar(toolitems=[('Home', 'Reset original view', 'home', 'home'), ('Back', 'Back to previous …"
      ]
     },
     "metadata": {},
     "output_type": "display_data"
    }
   ],
   "source": [
    "f, ax = plt.subplots(nrows=6, ncols=5, figsize=(5*2, 6*2), sharex=True, sharey=True)\n",
    "esp = np.linspace(0, 1, 10)\n",
    "labelsp = ['Mir 1', 'Mir 2 (CC)', 'Mir 3 (CC)', 'Mir 4', 'Mir 5', 'Mir 6']\n",
    "for i, j in all_coords:\n",
    "    ax[i,j].plot(esp, pert_arr[i,j])\n",
    "    \n",
    "    if i==0:\n",
    "        ax[0,j].set_title(axis[j])\n",
    "        \n",
    "    if j==0:\n",
    "        ax[i,0].text(x=-0.3, y=1, s=labelsp[i], ha='center', rotation=90)\n",
    "plt.tight_layout()\n",
    "plt.show()"
   ]
  },
  {
   "cell_type": "code",
   "execution_count": 45,
   "metadata": {},
   "outputs": [],
   "source": [
    "def get_pert_traj(eps, ray0):\n",
    "    elements, _ = SixMirrorPert(eps=eps)\n",
    "    elements.append(screen)\n",
    "    try:\n",
    "        reig = find_eigenray(elements, ray0, tol=1e-5)\n",
    "        traj = np.squeeze(np.stack(get_trajectories(*propagate_system(elements, order, reig))[0]))\n",
    "        return traj\n",
    "    except ValueError:\n",
    "        return None"
   ]
  },
  {
   "cell_type": "code",
   "execution_count": 46,
   "metadata": {},
   "outputs": [],
   "source": [
    "def pert_one(el, ax, npts=10):\n",
    "    eps = np.zeros((6,5))\n",
    "    es = np.linspace(0, 1, npts)\n",
    "    dists = np.empty((len(es),8))\n",
    "    for i, e in enumerate(es):\n",
    "        eps[el,ax] = e\n",
    "        dists[i,:] = get_deviation(eps, ray0)\n",
    "    return dists"
   ]
  },
  {
   "cell_type": "markdown",
   "metadata": {},
   "source": [
    "## Poincaree hitpattern"
   ]
  },
  {
   "cell_type": "code",
   "execution_count": 47,
   "metadata": {},
   "outputs": [],
   "source": [
    "reig0 = find_eigenray(elements, ray0, tol=1e-6)"
   ]
  },
  {
   "cell_type": "code",
   "execution_count": 48,
   "metadata": {},
   "outputs": [],
   "source": [
    "reigp = reig0.copy()\n",
    "reigp[1,0,2] += 0.1"
   ]
  },
  {
   "cell_type": "code",
   "execution_count": 68,
   "metadata": {},
   "outputs": [],
   "source": [
    "reigp = reig0.copy()\n",
    "reigp[0,0,2] += 0.1"
   ]
  },
  {
   "cell_type": "code",
   "execution_count": 69,
   "metadata": {},
   "outputs": [
    {
     "data": {
      "text/plain": [
       "(701, 3)"
      ]
     },
     "execution_count": 69,
     "metadata": {},
     "output_type": "execute_result"
    }
   ],
   "source": [
    "traj_hit = np.squeeze(np.stack(get_trajectories(*propagate_system(elements, order, reigp, Nrt=100))))\n",
    "traj_hit.shape"
   ]
  },
  {
   "cell_type": "code",
   "execution_count": 70,
   "metadata": {},
   "outputs": [
    {
     "data": {
      "application/vnd.jupyter.widget-view+json": {
       "model_id": "8e8a4eb48c414b5e86542462022af73e",
       "version_major": 2,
       "version_minor": 0
      },
      "text/plain": [
       "Canvas(toolbar=Toolbar(toolitems=[('Home', 'Reset original view', 'home', 'home'), ('Back', 'Back to previous …"
      ]
     },
     "metadata": {},
     "output_type": "display_data"
    }
   ],
   "source": [
    "hit_scr = traj_hit[7::7,:]\n",
    "hit_idx = np.arange(hit_scr.shape[0])\n",
    "\n",
    "plt.figure()\n",
    "plt.scatter(hit_scr[:,1], hit_scr[:,2], c=hit_idx, cmap='jet')\n",
    "plt.title('Poincare hit pattern (screen)')\n",
    "plt.xlabel('x [mm]')\n",
    "plt.ylabel('y [mm]')\n",
    "plt.colorbar()\n",
    "plt.show()"
   ]
  },
  {
   "cell_type": "code",
   "execution_count": null,
   "metadata": {},
   "outputs": [],
   "source": [
    "plt.close('all')"
   ]
  },
  {
   "cell_type": "code",
   "execution_count": 51,
   "metadata": {},
   "outputs": [
    {
     "name": "stderr",
     "output_type": "stream",
     "text": [
      "C:\\ProgramData\\Anaconda3\\lib\\site-packages\\traittypes\\traittypes.py:101: UserWarning: Given trait value dtype \"float64\" does not match required type \"float32\". A coerced copy has been created.\n",
      "  np.dtype(self.dtype).name))\n"
     ]
    },
    {
     "data": {
      "application/vnd.jupyter.widget-view+json": {
       "model_id": "2356683013964f64a6fca25d749d7fbe",
       "version_major": 2,
       "version_minor": 0
      },
      "text/plain": [
       "Output()"
      ]
     },
     "metadata": {},
     "output_type": "display_data"
    }
   ],
   "source": [
    "plot_pc = k3d.plot(camera_auto_fit=True, antialias=True)\n",
    "\n",
    "\n",
    "for el in elements:\n",
    "    plot_pc += el.plot(opacity=0.4)\n",
    "\n",
    "plot_pc += k3d.line(traj_hit, width=0.2, color=0x00ff00)\n",
    "plot_pc.display()"
   ]
  },
  {
   "cell_type": "markdown",
   "metadata": {},
   "source": [
    "# Lens cavity"
   ]
  },
  {
   "cell_type": "code",
   "execution_count": 52,
   "metadata": {},
   "outputs": [],
   "source": [
    "def LenscavPert(arm1=50., arm2=55., base=19., angle=np.deg2rad(150), lens_dist=11.075, lens_diam=6.35, lens_thick=4., Rlens=5.0, eps=np.zeros((8,5))):\n",
    "    \n",
    "    p0 = np.array([lens_dist/2.-lens_thick/2.,0,0])\n",
    "    p1 = np.array([lens_dist/2.+lens_thick/2.,0,0])\n",
    "    p2 = np.array([arm1/2.,0,0])\n",
    "    p3 = np.array([np.cos(angle)*arm2/2.,base,np.sin(angle)*arm2/2.])\n",
    "    p4 = np.array([-np.cos(angle)*arm2/2.,base,-np.sin(angle)*arm2/2.])\n",
    "    p5 = np.array([-arm1/2.,0,0])\n",
    "    p6 = np.array([-lens_dist/2.-lens_thick/2.,0,0])\n",
    "    p7 = np.array([-lens_dist/2.+lens_thick/2.,0,0])\n",
    "\n",
    "    \n",
    "    ps = np.stack([p0,p1,p2,p3,p4,p5,p6,p7], axis=0)\n",
    "    geom = geometry(ps)\n",
    "    ns = geom['refl']\n",
    "    ns[0,:] = np.array([-1,0,0])\n",
    "    ns[1,:] = np.array([-1,0,0])\n",
    "    ns[6,:] = np.array([-1,0,0])\n",
    "    ns[7,:] = np.array([-1,0,0])\n",
    "    ps = geom['mir']\n",
    "    #add perturbations\n",
    "    ps += eps[:,:3]\n",
    "    axx = geom['xin']\n",
    "    axy = 0.5*(geom['yin']+geom['yout'])\n",
    "    ns = [rot_vec(rot_vec(ns[i], axx[i], np.deg2rad(eps[i,3])), axy[i], np.deg2rad(eps[i,4])) for i, n in enumerate(ns)]\n",
    "    \n",
    "    hi = 12.7\n",
    "    qi=7.75\n",
    "    ng = 1.41\n",
    "    elements = [Glass(p=ps[0], n=ns[0], diam=lens_diam, n2=ng),\\\n",
    "                CurvedGlass(p=ps[1], n=ns[1], diam=lens_diam, R=Rlens, curv='CC', n1=ng),\\\n",
    "                Mirror(p=ps[2], n=ns[2], diam=qi),\\\n",
    "                Mirror(p=ps[3], n=ns[3], diam=qi),\\\n",
    "                Mirror(p=ps[4], n=ns[4], diam=hi),\\\n",
    "                Mirror(p=ps[5], n=ns[5], diam=hi),\\\n",
    "                CurvedGlass(p=ps[6], n=ns[6], diam=lens_diam, R=Rlens, curv='CX', n2=ng),\\\n",
    "                Glass(p=ps[7], n=ns[7], diam=lens_diam, n1=ng),\\\n",
    "               ]\n",
    "    return elements, geom"
   ]
  },
  {
   "cell_type": "code",
   "execution_count": 91,
   "metadata": {},
   "outputs": [],
   "source": [
    "LensElements, LensGeom = LenscavPert(angle=np.deg2rad(30))"
   ]
  },
  {
   "cell_type": "code",
   "execution_count": null,
   "metadata": {
    "jupyter": {
     "source_hidden": true
    }
   },
   "outputs": [],
   "source": [
    "for el in LensElements:\n",
    "    print(el, el.p, el.n)"
   ]
  },
  {
   "cell_type": "code",
   "execution_count": null,
   "metadata": {},
   "outputs": [],
   "source": [
    "plot_geometry(LensGeom)"
   ]
  },
  {
   "cell_type": "code",
   "execution_count": 77,
   "metadata": {},
   "outputs": [
    {
     "data": {
      "application/vnd.jupyter.widget-view+json": {
       "model_id": "16a6c7de5a0d47d3be6c85fb0d65528d",
       "version_major": 2,
       "version_minor": 0
      },
      "text/plain": [
       "Output()"
      ]
     },
     "metadata": {},
     "output_type": "display_data"
    }
   ],
   "source": [
    "plot_lc = k3d.plot(camera_auto_fit=True, antialias=True)\n",
    "\n",
    "for el in LensElements:\n",
    "    plot_lc += el.plot(opacity=0.4)\n",
    "\n",
    "plot_lc += k3d.line(LensTraj, width=0.2, color=0x00ff00)\n",
    "#plot_rays(Lens_ray0, plot_lc)\n",
    "#r2, _ = LensElements[0].propagate(Lens_ray0)\n",
    "#plot_rays(r2, plot_lc)\n",
    "#r3, _ = LensElements[1].propagate(r2)\n",
    "#plot_rays(r3, plot_lc)\n",
    "\n",
    "plot_lc.display()"
   ]
  },
  {
   "cell_type": "code",
   "execution_count": 92,
   "metadata": {},
   "outputs": [],
   "source": [
    "Lens_x0 = 0.5*(LensGeom['mir'][0] + LensGeom['mir'][7])\n",
    "Lens_n0 = norm(LensGeom['mir'][0] - LensGeom['mir'][7])\n",
    "\n",
    "#Lens_ray0 = np.stack([np.atleast_2d(Lens_x0), np.atleast_2d(Lens_n0)], axis=0)\n",
    "Lens_ray0 = ray_bundle(n=Lens_n0, n_radii=3,n_angles=2, R=0.2)\n",
    "Lens_order = [0,1,2,3,4,5,6,7]\n",
    "Lens_screen = Screen(p=Lens_x0, n=Lens_n0, diam=7.75)\n",
    "LensElements.append(Lens_screen)\n",
    "Lens_order.append(8)"
   ]
  },
  {
   "cell_type": "code",
   "execution_count": 93,
   "metadata": {},
   "outputs": [
    {
     "data": {
      "text/plain": [
       "(19, 10, 3)"
      ]
     },
     "execution_count": 93,
     "metadata": {},
     "output_type": "execute_result"
    }
   ],
   "source": [
    "LensTraj = np.squeeze(np.stack(get_trajectories(*propagate_system(LensElements, Lens_order, Lens_ray0, Nrt=1))))\n",
    "LensTraj.shape"
   ]
  },
  {
   "cell_type": "code",
   "execution_count": 94,
   "metadata": {},
   "outputs": [
    {
     "data": {
      "text/plain": [
       "(28, 3)"
      ]
     },
     "execution_count": 94,
     "metadata": {},
     "output_type": "execute_result"
    }
   ],
   "source": [
    "LensTraj1 = np.squeeze(np.stack(get_trajectories(*propagate_system(LensElements, Lens_order, Lens_ray1, Nrt=3))))\n",
    "LensTraj1.shape"
   ]
  },
  {
   "cell_type": "code",
   "execution_count": 149,
   "metadata": {},
   "outputs": [
    {
     "data": {
      "application/vnd.jupyter.widget-view+json": {
       "model_id": "2b921dd5d7e64492a9186f7e1b04466c",
       "version_major": 2,
       "version_minor": 0
      },
      "text/plain": [
       "Output()"
      ]
     },
     "metadata": {},
     "output_type": "display_data"
    }
   ],
   "source": [
    "plot_lc2 = k3d.plot(camera_auto_fit=True, antialias=True)\n",
    "\n",
    "for el in LensElements:\n",
    "    plot_lc2 += el.plot(opacity=0.4)\n",
    "\n",
    "#plot_lc2 += k3d.line(LensTraj1, width=0.2, color=0x00ff00)\n",
    "plot_lc2 += k3d.line(Lens_reig_trajs_dict, width=0.5, color=0x00ff00)\n",
    "Lens_reig_trajs_dict\n",
    "plot_lc2.display()"
   ]
  },
  {
   "cell_type": "code",
   "execution_count": 163,
   "metadata": {},
   "outputs": [
    {
     "data": {
      "text/plain": [
       "1"
      ]
     },
     "execution_count": 163,
     "metadata": {},
     "output_type": "execute_result"
    }
   ],
   "source": [
    "len(Lens_reig_trajs)"
   ]
  },
  {
   "cell_type": "code",
   "execution_count": 146,
   "metadata": {},
   "outputs": [],
   "source": [
    "Lens_ray1 = np.stack([np.atleast_2d(Lens_x0), np.atleast_2d(Lens_n0)], axis=0)\n",
    "Lens_reig = find_eigenray(LensElements, Lens_order, Lens_ray1, tol=1e-4, lr=0.05, maxiter=500)"
   ]
  },
  {
   "cell_type": "code",
   "execution_count": 162,
   "metadata": {},
   "outputs": [],
   "source": [
    "Lens_reig, Lens_reig_trajs = find_eigenray_animated(LensElements, Lens_order, Lens_ray1, tol=1e-6, lr=0.05, maxiter=200)\n",
    "\n",
    "Lens_reig_trajs_dict = {str(t/100): Lens_reig_trajs[t] for t in range(0, len(Lens_reig_trajs), 1)}"
   ]
  },
  {
   "cell_type": "code",
   "execution_count": 164,
   "metadata": {},
   "outputs": [],
   "source": [
    "Lens_rayp = Lens_ray1.copy()\n",
    "Lens_rayp[0,0,2] += 1e-4"
   ]
  },
  {
   "cell_type": "code",
   "execution_count": 169,
   "metadata": {},
   "outputs": [
    {
     "name": "stdout",
     "output_type": "stream",
     "text": [
      "Propagation failed at element <__main__.CurvedGlass object at 0x0000018096336F48>\n",
      "Propagation failed at element <__main__.CurvedGlass object at 0x0000018096336708>\n"
     ]
    },
    {
     "data": {
      "text/plain": [
       "(40, 3)"
      ]
     },
     "execution_count": 169,
     "metadata": {},
     "output_type": "execute_result"
    }
   ],
   "source": [
    "LensTrajp = np.squeeze(np.stack(get_trajectories(*propagate_system(LensElements, Lens_order, Lens_rayp, Nrt=6))))\n",
    "LensTrajp.shape"
   ]
  },
  {
   "cell_type": "code",
   "execution_count": 168,
   "metadata": {},
   "outputs": [
    {
     "data": {
      "application/vnd.jupyter.widget-view+json": {
       "model_id": "eefbc3883f4245dc9bcb95146797a3db",
       "version_major": 2,
       "version_minor": 0
      },
      "text/plain": [
       "Canvas(toolbar=Toolbar(toolitems=[('Home', 'Reset original view', 'home', 'home'), ('Back', 'Back to previous …"
      ]
     },
     "metadata": {},
     "output_type": "display_data"
    }
   ],
   "source": [
    "hit_lens = LensTrajp[9::9,:]\n",
    "hit_idxl = np.arange(hit_lens.shape[0])\n",
    "\n",
    "plt.figure()\n",
    "plt.scatter(hit_lens[:,1], hit_lens[:,2], c=hit_idxl, cmap='jet')\n",
    "plt.title('Poincare hit pattern (screen)')\n",
    "plt.xlabel('x [mm]')\n",
    "plt.ylabel('y [mm]')\n",
    "plt.colorbar()\n",
    "plt.show()"
   ]
  },
  {
   "cell_type": "code",
   "execution_count": 140,
   "metadata": {},
   "outputs": [
    {
     "name": "stderr",
     "output_type": "stream",
     "text": [
      "C:\\ProgramData\\Anaconda3\\lib\\site-packages\\traittypes\\traittypes.py:101: UserWarning: Given trait value dtype \"float64\" does not match required type \"float32\". A coerced copy has been created.\n",
      "  np.dtype(self.dtype).name))\n"
     ]
    },
    {
     "data": {
      "application/vnd.jupyter.widget-view+json": {
       "model_id": "bba79e11d1864292934ce88b26106665",
       "version_major": 2,
       "version_minor": 0
      },
      "text/plain": [
       "Output()"
      ]
     },
     "metadata": {},
     "output_type": "display_data"
    }
   ],
   "source": [
    "plot_lc3 = k3d.plot(camera_auto_fit=True, antialias=True)\n",
    "\n",
    "for el in LensElements:\n",
    "    plot_lc3 += el.plot(opacity=0.4)\n",
    "\n",
    "plot_lc3 += k3d.line(LensTrajp, width=0.2, color=0x00ff00)\n",
    "\n",
    "plot_lc3.display()"
   ]
  },
  {
   "cell_type": "code",
   "execution_count": 170,
   "metadata": {},
   "outputs": [],
   "source": [
    "%load_ext line_profiler"
   ]
  },
  {
   "cell_type": "code",
   "execution_count": 175,
   "metadata": {},
   "outputs": [
    {
     "data": {
      "text/plain": [
       "Timer unit: 1e-07 s\n",
       "\n",
       "Total time: 0.0007553 s\n",
       "File: <ipython-input-6-b99d583a3499>\n",
       "Function: intersect_all at line 32\n",
       "\n",
       "Line #      Hits         Time  Per Hit   % Time  Line Contents\n",
       "==============================================================\n",
       "    32                                               def intersect_all(self, ray, return_msk=False):\n",
       "    33                                                   #shape of Ray [2xNrays]\n",
       "    34         7        205.0     29.3      2.7          r, s = ray\n",
       "    35         7        651.0     93.0      8.6          sn = s@self.n\n",
       "    36                                           \n",
       "    37         7        557.0     79.6      7.4          t = ((self.p - r)@self.n)/sn\n",
       "    38         7        923.0    131.9     12.2          msk = np.abs(sn)>np.finfo(np.float32).eps\n",
       "    39         7       5132.0    733.1     67.9          x = r[msk] + t[msk,None]*s[msk]\n",
       "    40         7         52.0      7.4      0.7          if return_msk:\n",
       "    41         7         33.0      4.7      0.4              return x, msk\n",
       "    42                                                   else:\n",
       "    43                                                       return x"
      ]
     },
     "metadata": {},
     "output_type": "display_data"
    }
   ],
   "source": [
    "%lprun -f Mirror.intersect_all find_eigenray(LensElements, Lens_order, Lens_ray1, tol=1e-4, lr=0.05, maxiter=500)"
   ]
  },
  {
   "cell_type": "code",
   "execution_count": null,
   "metadata": {},
   "outputs": [],
   "source": []
  }
 ],
 "metadata": {
  "kernelspec": {
   "display_name": "Python 3",
   "language": "python",
   "name": "python3"
  },
  "language_info": {
   "codemirror_mode": {
    "name": "ipython",
    "version": 3
   },
   "file_extension": ".py",
   "mimetype": "text/x-python",
   "name": "python",
   "nbconvert_exporter": "python",
   "pygments_lexer": "ipython3",
   "version": "3.7.6"
  }
 },
 "nbformat": 4,
 "nbformat_minor": 4
}
