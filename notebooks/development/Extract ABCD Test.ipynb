{
 "cells": [
  {
   "cell_type": "code",
   "execution_count": 1,
   "metadata": {},
   "outputs": [],
   "source": [
    "%load_ext autoreload\n",
    "%autoreload 2"
   ]
  },
  {
   "cell_type": "code",
   "execution_count": 2,
   "metadata": {},
   "outputs": [],
   "source": [
    "%matplotlib widget\n",
    "import numpy as np\n",
    "import k3d\n",
    "import matplotlib.pyplot as plt\n",
    "from functools import reduce\n",
    "from ipywidgets import *\n",
    "from matplotlib.animation import FuncAnimation\n",
    "import matplotlib.animation as ani\n",
    "from sloppy.raytracing import *\n",
    "from sloppy.abcd import *"
   ]
  },
  {
   "cell_type": "code",
   "execution_count": 3,
   "metadata": {},
   "outputs": [],
   "source": [
    "def SixMirror(dx=27.77, dy=8.0, dz=16.685, d=4.750, dzF=1.5825, Rfast=25.0, eps=np.zeros((6,5))):\n",
    "\n",
    "    p5 = np.array([0,0,0])\n",
    "    p6 = np.array([dx, dy, dzF])\n",
    "    p1 = np.array([0, dy, dzF])\n",
    "    p2 = np.array([dx, 2*dy, 0])\n",
    "    p3 = np.array([d, dy+d, dz])\n",
    "    p4 = np.array([dx-d, dy-d, dz])\n",
    "    \n",
    "    ps = np.stack([p1,p2,p3,p4,p5,p6], axis=0)\n",
    "    geom = geometry(ps)\n",
    "    ns = geom['refl']\n",
    "    ps = geom['mir']\n",
    "    angles = geom['angles']\n",
    "    #add perturbations\n",
    "    ps += eps[:,:3]\n",
    "    axx = geom['xin']\n",
    "    axy = 0.5*(geom['yin']+geom['yout'])\n",
    "    ns = [rot_vec(rot_vec(ns[i], axx[i], np.deg2rad(eps[i,3])), axy[i], np.deg2rad(eps[i,4])) for i, n in enumerate(ns)]\n",
    "    \n",
    "    hi = 12.7\n",
    "    qi=7.75\n",
    "    #reference plane is expected between first and last element!\n",
    "    elements = [CurvedMirror(p=ps[0], n=ns[0], diam=qi, R=Rfast, curv='CC', thet=angles[0]),\\\n",
    "                Mirror(p=ps[1], n=ns[1], diam=qi),\\\n",
    "                Mirror(p=ps[2], n=ns[2], diam=hi),\\\n",
    "                Mirror(p=ps[3], n=ns[3], diam=hi),\\\n",
    "                Mirror(p=ps[4], n=ns[4], diam=qi),\\\n",
    "                CurvedMirror(p=ps[5], n=ns[5], diam=qi, R=Rfast, curv='CC', thet=angles[5])]\n",
    "    \n",
    "    M = geom['M']\n",
    "    R = geom['R']\n",
    "    abcd = []\n",
    "    for i, el in enumerate(elements):\n",
    "        d = np.linalg.norm(M[i-1,i])/2\n",
    "        #Mrt = Prop(d)@Rot(R[i])@Mirror(roc[i], angles[i])@Prop(d)@Mrt\n",
    "        abcd.extend([Prop(d), el, Rot(R[i]), Prop(d)])\n",
    "        \n",
    "    return elements, abcd, geom"
   ]
  },
  {
   "cell_type": "code",
   "execution_count": 4,
   "metadata": {},
   "outputs": [],
   "source": [
    "stab = lambda m: abs(0.5*np.trace(m))<1\n",
    "La = 27.77\n",
    "\n",
    "scanrng = 1.\n",
    "N = 300\n",
    "Las = La + np.linspace(-scanrng, scanrng, N)\n",
    "\n",
    "ms = np.zeros((N))\n",
    "ws = np.zeros((N,2))\n",
    "freqs = np.zeros((N,4))\n",
    "for i, l in enumerate(Las):\n",
    "    _, abcd, _ = SixMirror(dx=l)\n",
    "    system = ABCDSystem(abcd)\n",
    "    \n",
    "    ms[i] = stab(system.abcd_rt)\n",
    "    w = system.waist_at(0)\n",
    "    ws[i,:] = np.sort(w)\n",
    "    freqs[i,...] = np.concatenate(system.get_freqs())"
   ]
  },
  {
   "cell_type": "code",
   "execution_count": 5,
   "metadata": {},
   "outputs": [
    {
     "data": {
      "application/vnd.jupyter.widget-view+json": {
       "model_id": "b8fbfa85aa9f4b4ba063b0c673389751",
       "version_major": 2,
       "version_minor": 0
      },
      "text/plain": [
       "Canvas(toolbar=Toolbar(toolitems=[('Home', 'Reset original view', 'home', 'home'), ('Back', 'Back to previous …"
      ]
     },
     "metadata": {},
     "output_type": "display_data"
    }
   ],
   "source": [
    "g, ax = plt.subplots(ncols=2, figsize=(8,4))\n",
    "ax[0].plot(Las, ws*1e3)\n",
    "ax[0].set_ylabel('um')\n",
    "ax[1].plot(Las, freqs*1e-6)\n",
    "ax[1].set_ylabel('MHz')\n",
    "ax[1].axhline(0, color='grey')\n",
    "plt.show()"
   ]
  },
  {
   "cell_type": "code",
   "execution_count": 6,
   "metadata": {},
   "outputs": [],
   "source": [
    "def prop_ABCD(mu, M, Nrt=100):\n",
    "    rs = np.empty((Nrt+1,4))\n",
    "    r = mu.copy()\n",
    "    rs[i,:] = r\n",
    "    for i in range(Nrt):\n",
    "        r = M@r\n",
    "        rs[i+1] = r\n",
    "    return rs"
   ]
  },
  {
   "cell_type": "code",
   "execution_count": 7,
   "metadata": {},
   "outputs": [],
   "source": [
    "elements, abcd, geom = SixMirror(dx=27.2952)\n",
    "\n",
    "x0 = 0.5*(elements[0].p + elements[-1].p)\n",
    "n0 = norm(elements[0].p - elements[-1].p)\n",
    "rs = ray_bundle(p=x0, n=n0, n_radii=5, n_angles=2, R=0.2)\n",
    "\n",
    "screen = Screen(p=x0, n=-n0, diam=7.75)\n",
    "elements.append(screen)\n",
    "\n",
    "system = ABCDSystem(abcd)"
   ]
  },
  {
   "cell_type": "code",
   "execution_count": 8,
   "metadata": {},
   "outputs": [
    {
     "data": {
      "text/plain": [
       "8055.365778435367"
      ]
     },
     "execution_count": 8,
     "metadata": {},
     "output_type": "execute_result"
    }
   ],
   "source": [
    "k = 2*np.pi/system.wl\n",
    "k"
   ]
  },
  {
   "cell_type": "code",
   "execution_count": 9,
   "metadata": {},
   "outputs": [
    {
     "data": {
      "text/plain": [
       "array([-0.0070929 +1.21263311j,  0.02244248+1.2074685j ,\n",
       "        0.80183035+0.12002002j,  0.85136874+0.05250147j])"
      ]
     },
     "execution_count": 9,
     "metadata": {},
     "output_type": "execute_result"
    }
   ],
   "source": [
    "mu1, mu2 = system.q\n",
    "\n",
    "a1, a2 = 1., 1.\n",
    "a1*mu1 + a2*mu2"
   ]
  },
  {
   "cell_type": "code",
   "execution_count": 10,
   "metadata": {},
   "outputs": [],
   "source": [
    "mu = mu1.real*0.05"
   ]
  },
  {
   "cell_type": "code",
   "execution_count": 11,
   "metadata": {},
   "outputs": [
    {
     "ename": "UnboundLocalError",
     "evalue": "local variable 'i' referenced before assignment",
     "output_type": "error",
     "traceback": [
      "\u001b[1;31m---------------------------------------------------------------------------\u001b[0m",
      "\u001b[1;31mUnboundLocalError\u001b[0m                         Traceback (most recent call last)",
      "\u001b[1;32m<ipython-input-11-5a8c4dcd49b5>\u001b[0m in \u001b[0;36m<module>\u001b[1;34m\u001b[0m\n\u001b[1;32m----> 1\u001b[1;33m \u001b[0mhit_m\u001b[0m \u001b[1;33m=\u001b[0m \u001b[0mprop_ABCD\u001b[0m\u001b[1;33m(\u001b[0m\u001b[0mmu\u001b[0m\u001b[1;33m,\u001b[0m \u001b[0msystem\u001b[0m\u001b[1;33m.\u001b[0m\u001b[0mabcd_rt\u001b[0m\u001b[1;33m,\u001b[0m \u001b[0mNrt\u001b[0m\u001b[1;33m=\u001b[0m\u001b[1;36m500\u001b[0m\u001b[1;33m)\u001b[0m\u001b[1;33m\u001b[0m\u001b[1;33m\u001b[0m\u001b[0m\n\u001b[0m\u001b[0;32m      2\u001b[0m \u001b[1;33m\u001b[0m\u001b[0m\n\u001b[0;32m      3\u001b[0m \u001b[0mhit_idx\u001b[0m \u001b[1;33m=\u001b[0m \u001b[0mnp\u001b[0m\u001b[1;33m.\u001b[0m\u001b[0marange\u001b[0m\u001b[1;33m(\u001b[0m\u001b[0mhit_m\u001b[0m\u001b[1;33m.\u001b[0m\u001b[0mshape\u001b[0m\u001b[1;33m[\u001b[0m\u001b[1;36m0\u001b[0m\u001b[1;33m]\u001b[0m\u001b[1;33m)\u001b[0m\u001b[1;33m\u001b[0m\u001b[1;33m\u001b[0m\u001b[0m\n\u001b[0;32m      4\u001b[0m \u001b[0mplt\u001b[0m\u001b[1;33m.\u001b[0m\u001b[0mfigure\u001b[0m\u001b[1;33m(\u001b[0m\u001b[1;33m)\u001b[0m\u001b[1;33m\u001b[0m\u001b[1;33m\u001b[0m\u001b[0m\n\u001b[0;32m      5\u001b[0m \u001b[0mline\u001b[0m \u001b[1;33m=\u001b[0m \u001b[0mplt\u001b[0m\u001b[1;33m.\u001b[0m\u001b[0mscatter\u001b[0m\u001b[1;33m(\u001b[0m\u001b[0mhit_m\u001b[0m\u001b[1;33m[\u001b[0m\u001b[1;33m:\u001b[0m\u001b[1;33m,\u001b[0m\u001b[1;36m0\u001b[0m\u001b[1;33m]\u001b[0m\u001b[1;33m,\u001b[0m \u001b[0mhit_m\u001b[0m\u001b[1;33m[\u001b[0m\u001b[1;33m:\u001b[0m\u001b[1;33m,\u001b[0m\u001b[1;36m1\u001b[0m\u001b[1;33m]\u001b[0m\u001b[1;33m,\u001b[0m \u001b[0mc\u001b[0m\u001b[1;33m=\u001b[0m\u001b[0mhit_idx\u001b[0m\u001b[1;33m,\u001b[0m \u001b[0mcmap\u001b[0m\u001b[1;33m=\u001b[0m\u001b[1;34m'jet'\u001b[0m\u001b[1;33m)\u001b[0m\u001b[1;33m\u001b[0m\u001b[1;33m\u001b[0m\u001b[0m\n",
      "\u001b[1;32m<ipython-input-6-5c2843a9b36d>\u001b[0m in \u001b[0;36mprop_ABCD\u001b[1;34m(mu, M, Nrt)\u001b[0m\n\u001b[0;32m      2\u001b[0m     \u001b[0mrs\u001b[0m \u001b[1;33m=\u001b[0m \u001b[0mnp\u001b[0m\u001b[1;33m.\u001b[0m\u001b[0mempty\u001b[0m\u001b[1;33m(\u001b[0m\u001b[1;33m(\u001b[0m\u001b[0mNrt\u001b[0m\u001b[1;33m+\u001b[0m\u001b[1;36m1\u001b[0m\u001b[1;33m,\u001b[0m\u001b[1;36m4\u001b[0m\u001b[1;33m)\u001b[0m\u001b[1;33m)\u001b[0m\u001b[1;33m\u001b[0m\u001b[1;33m\u001b[0m\u001b[0m\n\u001b[0;32m      3\u001b[0m     \u001b[0mr\u001b[0m \u001b[1;33m=\u001b[0m \u001b[0mmu\u001b[0m\u001b[1;33m.\u001b[0m\u001b[0mcopy\u001b[0m\u001b[1;33m(\u001b[0m\u001b[1;33m)\u001b[0m\u001b[1;33m\u001b[0m\u001b[1;33m\u001b[0m\u001b[0m\n\u001b[1;32m----> 4\u001b[1;33m     \u001b[0mrs\u001b[0m\u001b[1;33m[\u001b[0m\u001b[0mi\u001b[0m\u001b[1;33m,\u001b[0m\u001b[1;33m:\u001b[0m\u001b[1;33m]\u001b[0m \u001b[1;33m=\u001b[0m \u001b[0mr\u001b[0m\u001b[1;33m\u001b[0m\u001b[1;33m\u001b[0m\u001b[0m\n\u001b[0m\u001b[0;32m      5\u001b[0m     \u001b[1;32mfor\u001b[0m \u001b[0mi\u001b[0m \u001b[1;32min\u001b[0m \u001b[0mrange\u001b[0m\u001b[1;33m(\u001b[0m\u001b[0mNrt\u001b[0m\u001b[1;33m)\u001b[0m\u001b[1;33m:\u001b[0m\u001b[1;33m\u001b[0m\u001b[1;33m\u001b[0m\u001b[0m\n\u001b[0;32m      6\u001b[0m         \u001b[0mr\u001b[0m \u001b[1;33m=\u001b[0m \u001b[0mM\u001b[0m\u001b[1;33m@\u001b[0m\u001b[0mr\u001b[0m\u001b[1;33m\u001b[0m\u001b[1;33m\u001b[0m\u001b[0m\n",
      "\u001b[1;31mUnboundLocalError\u001b[0m: local variable 'i' referenced before assignment"
     ]
    }
   ],
   "source": [
    "hit_m = prop_ABCD(mu, system.abcd_rt, Nrt=500)\n",
    "\n",
    "hit_idx = np.arange(hit_m.shape[0])\n",
    "plt.figure()\n",
    "line = plt.scatter(hit_m[:,0], hit_m[:,1], c=hit_idx, cmap='jet')\n",
    "plt.title('Poincare hit pattern (screen)')\n",
    "plt.xlabel('x [mm]')\n",
    "plt.ylabel('y [mm]')\n",
    "plt.colorbar()\n",
    "plt.show()"
   ]
  },
  {
   "cell_type": "code",
   "execution_count": 12,
   "metadata": {},
   "outputs": [
    {
     "data": {
      "text/plain": [
       "array([13.6476    ,  7.9701796 ,  1.61434858])"
      ]
     },
     "execution_count": 12,
     "metadata": {},
     "output_type": "execute_result"
    }
   ],
   "source": [
    "r0 = np.array([0, mu[1], mu[0]]) + x0\n",
    "r0"
   ]
  },
  {
   "cell_type": "code",
   "execution_count": 13,
   "metadata": {},
   "outputs": [
    {
     "name": "stdout",
     "output_type": "stream",
     "text": [
      "0.9999999999999999\n"
     ]
    },
    {
     "data": {
      "text/plain": [
       "array([1.00000000e+00, 1.91296776e-06, 3.44486889e-06])"
      ]
     },
     "execution_count": 13,
     "metadata": {},
     "output_type": "execute_result"
    }
   ],
   "source": [
    "a, b = mu[2:]/k\n",
    "s0 = np.array([np.sqrt(1-a**2-b**2), b, a])\n",
    "print(np.linalg.norm(s0))\n",
    "s0"
   ]
  },
  {
   "cell_type": "code",
   "execution_count": 14,
   "metadata": {},
   "outputs": [],
   "source": [
    "ray0 = np.stack([np.atleast_2d(r0), np.atleast_2d(s0)], axis=0)\n",
    "#reig, allseq, alltols = find_eigenray_mpe_debug(elements, ray0, Niter=20)"
   ]
  },
  {
   "cell_type": "code",
   "execution_count": 15,
   "metadata": {},
   "outputs": [],
   "source": [
    "traj0 = propagate_system(elements, ray0, Nrt=30, clip=True)"
   ]
  },
  {
   "cell_type": "code",
   "execution_count": 16,
   "metadata": {},
   "outputs": [
    {
     "name": "stderr",
     "output_type": "stream",
     "text": [
      "C:\\ProgramData\\Anaconda3\\lib\\site-packages\\traittypes\\traittypes.py:101: UserWarning: Given trait value dtype \"float64\" does not match required type \"float32\". A coerced copy has been created.\n",
      "  np.dtype(self.dtype).name))\n"
     ]
    },
    {
     "data": {
      "application/vnd.jupyter.widget-view+json": {
       "model_id": "c8e4522ab97047358482d6be423556e6",
       "version_major": 2,
       "version_minor": 0
      },
      "text/plain": [
       "Output()"
      ]
     },
     "metadata": {},
     "output_type": "display_data"
    }
   ],
   "source": [
    "try:\n",
    "    plot.close()\n",
    "except:\n",
    "    pass\n",
    "plot = k3d.plot(camera_auto_fit=True, antialias=True)\n",
    "\n",
    "for i, el in enumerate(elements):\n",
    "    pel = el.plot(opacity=0.4)\n",
    "    plot += pel\n",
    "\n",
    "plot += k3d.vectors(origins=r0, vectors=s0, colors=[(0xff0000,)*2], head_size=2.)\n",
    "plot_trajs(traj0, plot, shader='mesh', width=0.2, color=0x00ff00)\n",
    "#for ts in trajs_pert_ts:\n",
    "#    plot += k3d.line(ts, shader='mesh', width=0.2, color=0x00ff00)\n",
    "\n",
    "plot.display()"
   ]
  },
  {
   "cell_type": "code",
   "execution_count": 17,
   "metadata": {},
   "outputs": [
    {
     "data": {
      "application/vnd.jupyter.widget-view+json": {
       "model_id": "2e72bba1845f448296e8908483ca40bf",
       "version_major": 2,
       "version_minor": 0
      },
      "text/plain": [
       "Canvas(toolbar=Toolbar(toolitems=[('Home', 'Reset original view', 'home', 'home'), ('Back', 'Back to previous …"
      ]
     },
     "metadata": {},
     "output_type": "display_data"
    }
   ],
   "source": [
    "traj_hit = propagate_system_at(elements, ray0, which=6, Nrt=500)[:,0,:,:] #only positions\n",
    "hit_scr = traj_hit[:,0,:]\n",
    "hit_idx = np.arange(hit_scr.shape[0])\n",
    "\n",
    "plt.figure()\n",
    "line = plt.scatter(hit_scr[:,1], hit_scr[:,2], c=hit_idx, cmap='jet')\n",
    "plt.title('Poincare hit pattern (screen)')\n",
    "plt.xlabel('x [mm]')\n",
    "plt.ylabel('y [mm]')\n",
    "plt.colorbar()\n",
    "plt.show()"
   ]
  },
  {
   "cell_type": "code",
   "execution_count": 19,
   "metadata": {},
   "outputs": [
    {
     "data": {
      "application/vnd.jupyter.widget-view+json": {
       "model_id": "27eb94e050004a08be28b1b3afc11559",
       "version_major": 2,
       "version_minor": 0
      },
      "text/plain": [
       "Canvas(toolbar=Toolbar(toolitems=[('Home', 'Reset original view', 'home', 'home'), ('Back', 'Back to previous …"
      ]
     },
     "metadata": {},
     "output_type": "display_data"
    },
    {
     "data": {
      "application/vnd.jupyter.widget-view+json": {
       "model_id": "46b65529b03946dab14545e8c7355bdc",
       "version_major": 2,
       "version_minor": 0
      },
      "text/plain": [
       "interactive(children=(FloatSlider(value=27.75, description='dl', max=27.81, min=27.75, step=0.001), FloatSlide…"
      ]
     },
     "metadata": {},
     "output_type": "display_data"
    }
   ],
   "source": [
    "fig, (ax, bx) = plt.subplots(ncols=2, figsize=(10,5), sharex=True, sharey=True)\n",
    "linea = ax.scatter(hit_scr[:,1]-x0[1], hit_scr[:,2]-x0[2], c=hit_idx, cmap='jet')\n",
    "#linea = ax.scatter(hit_scr[:,1], hit_scr[:,2], c=hit_idx, cmap='jet')\n",
    "lineb = bx.scatter(hit_m[:,0], hit_m[:,1], c=hit_idx, cmap='jet')\n",
    "plt.xlabel('x [mm]')\n",
    "plt.ylabel('y [mm]')\n",
    "\n",
    "#@interact(dl=(27.2, 27.9, 1e-2), ar = (0,0.1,1e-3), br = (0,0.1,1e-3), ap= (0,2*np.pi,1e-2), bp= (0,2*np.pi,1e-2), Nrt=(0,1000,100))\n",
    "def update(dl=27.295, ar=0.01, br=0.0, ap=0., bp=0., Nrt=500, **kwargs):\n",
    "        elements, abcd, _ = SixMirror(dx=dl)#27.2952+\n",
    "        x0 = 0.5*(elements[0].p + elements[-1].p)\n",
    "        n0 = norm(elements[0].p - elements[-1].p)\n",
    "        screen = Screen(p=x0, n=-n0, diam=7.75)\n",
    "        elements.append(screen)\n",
    "        system = ABCDSystem(abcd)\n",
    "\n",
    "        mu1, mu2 = system.q\n",
    "        mu = np.real(ar*np.exp(1j*ap)*mu1 + br*np.exp(1j*bp)*mu2)\n",
    "        r0 = np.array([0, mu[1], mu[0]]) + x0\n",
    "        a, b = mu[2:]/k\n",
    "        s0 = np.array([np.sqrt(1-a**2-b**2), b, a])\n",
    "        ray0 = np.stack([np.atleast_2d(r0), np.atleast_2d(s0)], axis=0)\n",
    " \n",
    "        traj_hit = propagate_system_at(elements, ray0, which=6, Nrt=Nrt)[:,0,:,:] #only positions\n",
    "        hit_scr = traj_hit[:,0,:]-x0\n",
    "        #print(hit_scr)\n",
    "        hit_idx = np.arange(hit_scr.shape[0])\n",
    "        linea.set_offsets(hit_scr[:,1:])\n",
    "        linea.set_array(hit_idx)\n",
    "        \n",
    "        \n",
    "        hit_m = prop_ABCD(mu, system.abcd_rt, Nrt=Nrt)\n",
    "        lineb.set_offsets(hit_m[:,0:2])\n",
    "        lineb.set_array(hit_idx)\n",
    "        \n",
    "        ax.relim()\n",
    "        ax.autoscale_view()\n",
    "        fig.canvas.draw_idle()\n",
    "        \n",
    "#interactive(update, dl=(27.2, 27.9, 1e-2), ar = (0,0.1,1e-3), br = (0,0.1,1e-3), ap= (0,2*np.pi,1e-2), bp= (0,2*np.pi,1e-2), Nrt=(0,1000,100))\n",
    "interactive(update, dl=(27.75, 27.81, 1e-3), ar = (0,0.1,1e-3), br = (0,0.1,1e-3), ap= (0,2*np.pi,1e-2), bp= (0,2*np.pi,1e-2), Nrt=(0,1000,100))"
   ]
  },
  {
   "cell_type": "code",
   "execution_count": 18,
   "metadata": {},
   "outputs": [],
   "source": [
    "epsr = 1e-1\n",
    "epss = 1e-1\n",
    "rguideray = np.array([[0,0,0], [0,epsr,0], [0,0,epsr], [0,0,0], [0,0,0]]) + x0\n",
    "sguideray = norm(n0 + np.array([[0,0,0], [0,0,0], [0,0,0], [0,epss,0], [0,0,epss]]))\n",
    "guideray = np.stack([np.atleast_2d(rguideray), np.atleast_2d(sguideray)], axis=0)"
   ]
  },
  {
   "cell_type": "code",
   "execution_count": 19,
   "metadata": {},
   "outputs": [],
   "source": [
    "trajgr = propagate_system(elements, guideray, Nrt=1, clip=True)"
   ]
  },
  {
   "cell_type": "code",
   "execution_count": 20,
   "metadata": {},
   "outputs": [
    {
     "name": "stderr",
     "output_type": "stream",
     "text": [
      "C:\\ProgramData\\Anaconda3\\lib\\site-packages\\traittypes\\traittypes.py:101: UserWarning: Given trait value dtype \"float64\" does not match required type \"float32\". A coerced copy has been created.\n",
      "  np.dtype(self.dtype).name))\n"
     ]
    },
    {
     "data": {
      "application/vnd.jupyter.widget-view+json": {
       "model_id": "459383eafe65438cb40dfbbc0b1cb510",
       "version_major": 2,
       "version_minor": 0
      },
      "text/plain": [
       "Output()"
      ]
     },
     "metadata": {},
     "output_type": "display_data"
    }
   ],
   "source": [
    "try:\n",
    "    plot.close()\n",
    "except:\n",
    "    pass\n",
    "plot = k3d.plot(camera_auto_fit=True, antialias=True)\n",
    "\n",
    "for i, el in enumerate(elements):\n",
    "    pel = el.plot(opacity=0.4)\n",
    "    plot += pel\n",
    "\n",
    "plot += k3d.vectors(origins=r0, vectors=s0, colors=[(0xff0000,)*2], head_size=2.)\n",
    "plot_trajs(trajgr, plot, shader='mesh', width=0.1, color=0x00ff00)\n",
    "#for ts in trajs_pert_ts:\n",
    "#    plot += k3d.line(ts, shader='mesh', width=0.2, color=0x00ff00)\n",
    "\n",
    "plot.display()"
   ]
  },
  {
   "cell_type": "code",
   "execution_count": 41,
   "metadata": {},
   "outputs": [
    {
     "data": {
      "text/plain": [
       "array([[[13.6476    ,  8.        ,  1.5825    ],\n",
       "        [13.6476    ,  8.1       ,  1.5825    ],\n",
       "        [13.6476    ,  8.        ,  1.6825    ],\n",
       "        [13.6476    ,  8.        ,  1.5825    ],\n",
       "        [13.6476    ,  8.        ,  1.5825    ]],\n",
       "\n",
       "       [[-1.        ,  0.        ,  0.        ],\n",
       "        [-1.        ,  0.        ,  0.        ],\n",
       "        [-1.        ,  0.        ,  0.        ],\n",
       "        [-0.99503719,  0.09950372,  0.        ],\n",
       "        [-0.99503719,  0.        ,  0.09950372]]])"
      ]
     },
     "execution_count": 41,
     "metadata": {},
     "output_type": "execute_result"
    }
   ],
   "source": [
    "trajgr[0]"
   ]
  },
  {
   "cell_type": "code",
   "execution_count": 46,
   "metadata": {},
   "outputs": [
    {
     "data": {
      "text/plain": [
       "array([[[ 0.00000000e+00, -8.88178420e-16,  1.11022302e-15],\n",
       "        [ 0.00000000e+00, -1.04551736e-01,  1.72451348e-02],\n",
       "        [ 0.00000000e+00,  2.87637628e-03, -1.20902447e-01],\n",
       "        [ 0.00000000e+00, -1.23030217e-01,  7.15772947e-02],\n",
       "        [ 0.00000000e+00, -6.73642050e-02, -1.16710423e-01]],\n",
       "\n",
       "       [[ 6.66133815e-16,  1.66533454e-16, -1.42247325e-15],\n",
       "        [ 2.48385885e-03,  6.18652361e-02, -3.36784902e-02],\n",
       "        [ 2.36128041e-03,  3.43405520e-02,  5.94786656e-02],\n",
       "        [-4.95020561e-03, -1.00581297e-01, -4.90377581e-03],\n",
       "        [-4.47321736e-03, -1.60313332e-02, -1.26372688e-01]]])"
      ]
     },
     "execution_count": 46,
     "metadata": {},
     "output_type": "execute_result"
    }
   ],
   "source": [
    "trajfd = trajgr[-1]-trajgr[0]#\n",
    "trajfd"
   ]
  },
  {
   "cell_type": "code",
   "execution_count": 47,
   "metadata": {},
   "outputs": [
    {
     "data": {
      "text/plain": [
       "(2, 5, 3)"
      ]
     },
     "execution_count": 47,
     "metadata": {},
     "output_type": "execute_result"
    }
   ],
   "source": [
    "trajfd.shape"
   ]
  },
  {
   "cell_type": "code",
   "execution_count": 59,
   "metadata": {},
   "outputs": [
    {
     "data": {
      "text/plain": [
       "array([-1.04551736,  0.17245135])"
      ]
     },
     "execution_count": 59,
     "metadata": {},
     "output_type": "execute_result"
    }
   ],
   "source": [
    "trajfd[0,1,1:]/epss"
   ]
  },
  {
   "cell_type": "code",
   "execution_count": 60,
   "metadata": {},
   "outputs": [
    {
     "data": {
      "text/plain": [
       "array([ 0.61865236, -0.3367849 ])"
      ]
     },
     "execution_count": 60,
     "metadata": {},
     "output_type": "execute_result"
    }
   ],
   "source": [
    "trajfd[1,1,1:]/epss"
   ]
  },
  {
   "cell_type": "code",
   "execution_count": 62,
   "metadata": {},
   "outputs": [
    {
     "data": {
      "text/plain": [
       "array([[-1.04551736,  0.02876376, -1.23030217, -0.67364205],\n",
       "       [ 0.17245135, -1.20902447,  0.71577295, -1.16710423],\n",
       "       [ 0.61865236,  0.34340552, -1.00581297, -0.16031333],\n",
       "       [-0.3367849 ,  0.59478666, -0.04903776, -1.26372688]])"
      ]
     },
     "execution_count": 62,
     "metadata": {},
     "output_type": "execute_result"
    }
   ],
   "source": [
    "Mfd = np.concatenate([trajfd[0,1:,1:]/epsr, trajfd[1,1:,1:]/epss], axis=1).T\n",
    "Mfd"
   ]
  },
  {
   "cell_type": "code",
   "execution_count": 67,
   "metadata": {},
   "outputs": [
    {
     "data": {
      "text/plain": [
       "array([[ 0.   , -0.681,  2.045, -0.027],\n",
       "       [ 0.681, -0.   ,  0.027,  2.449],\n",
       "       [-2.045, -0.027,  0.   , -1.442],\n",
       "       [ 0.027, -2.449,  1.442,  0.   ]])"
      ]
     },
     "execution_count": 67,
     "metadata": {},
     "output_type": "execute_result"
    }
   ],
   "source": [
    "G = np.array([[0,0,1,0], [0,0,0,1], [-1,0,0,0], [0,-1,0,0]])\n",
    "np.round(Mfd.T@G@Mfd, decimals=3)"
   ]
  },
  {
   "cell_type": "code",
   "execution_count": 63,
   "metadata": {},
   "outputs": [
    {
     "data": {
      "text/plain": [
       "array([[ 0.14502622, -0.01037232, -1.34862271, -0.7145201 ],\n",
       "       [-0.20946217,  0.21525424,  0.79639434, -1.27106549],\n",
       "       [ 0.59368839,  0.33434547, -0.2760867 , -0.04643176],\n",
       "       [-0.34204905,  0.61239838,  0.15767888, -0.08258424]])"
      ]
     },
     "execution_count": 63,
     "metadata": {},
     "output_type": "execute_result"
    }
   ],
   "source": [
    "system.abcd_rt"
   ]
  },
  {
   "cell_type": "code",
   "execution_count": 68,
   "metadata": {},
   "outputs": [],
   "source": [
    "def get_ABCD_fd(elements, x0, n0, epsr = 1e-1, epss = 1e-1, Nrt=1):\n",
    "\n",
    "    rguideray = np.array([[0,0,0], [0,epsr,0], [0,0,epsr], [0,0,0], [0,0,0]]) + x0\n",
    "    sguideray = norm(n0 + np.array([[0,0,0], [0,0,0], [0,0,0], [0,epss,0], [0,0,epss]]))\n",
    "    guideray = np.stack([np.atleast_2d(rguideray), np.atleast_2d(sguideray)], axis=0)\n",
    "    trajgr = propagate_system(elements, guideray, Nrt=Nrt, clip=True)\n",
    "    trajfd = trajgr[-1]-trajgr[0]\n",
    "    Mfd = np.concatenate([trajfd[0,1:,1:]/epsr, trajfd[1,1:,1:]/epss], axis=1).T\n",
    "    return Mfd"
   ]
  },
  {
   "cell_type": "code",
   "execution_count": 88,
   "metadata": {},
   "outputs": [
    {
     "data": {
      "text/plain": [
       "array([[[ 0.00000000e+00, -4.55173604e-03,  1.72451348e-02],\n",
       "        [ 0.00000000e+00,  2.87637628e-03, -2.09024469e-02],\n",
       "        [ 0.00000000e+00, -1.23030217e-01,  7.15772947e-02],\n",
       "        [ 0.00000000e+00, -6.73642050e-02, -1.16710423e-01]],\n",
       "\n",
       "       [[ 2.48385885e-03,  6.18652361e-02, -3.36784902e-02],\n",
       "        [ 2.36128041e-03,  3.43405520e-02,  5.94786656e-02],\n",
       "        [ 1.26041751e-05, -1.07757784e-03, -4.90377581e-03],\n",
       "        [ 4.89592426e-04, -1.60313332e-02, -2.68689692e-02]]])"
      ]
     },
     "execution_count": 88,
     "metadata": {},
     "output_type": "execute_result"
    }
   ],
   "source": [
    "trajfd2 = trajgr[-1,:,1:,:]-(trajgr[-1,:,0,:])[:,None,:]\n",
    "trajfd2"
   ]
  },
  {
   "cell_type": "code",
   "execution_count": 89,
   "metadata": {},
   "outputs": [],
   "source": [
    "def get_ABCD_fd2(elements, x0, n0, epsr = 1e-1, epss = 1e-1, Nrt=1):\n",
    "    rguideray = np.array([[0,0,0], [0,epsr,0], [0,0,epsr], [0,0,0], [0,0,0]]) + x0\n",
    "    sguideray = norm(n0 + np.array([[0,0,0], [0,0,0], [0,0,0], [0,epss,0], [0,0,epss]]))\n",
    "    guideray = np.stack([np.atleast_2d(rguideray), np.atleast_2d(sguideray)], axis=0)\n",
    "    trajgr = propagate_system(elements, guideray, Nrt=Nrt, clip=True)\n",
    "    \n",
    "    trajfd = trajgr[-1,:,1:,:]-(trajgr[-1,:,0,:])[:,None,:]\n",
    "    Mfd = np.concatenate([trajfd[0,:,1:]/epsr, trajfd[1,:,1:]/epss], axis=1).T\n",
    "    return Mfd"
   ]
  },
  {
   "cell_type": "code",
   "execution_count": 97,
   "metadata": {},
   "outputs": [],
   "source": [
    "epss = np.logspace(-5, -1, 50)"
   ]
  },
  {
   "cell_type": "code",
   "execution_count": 71,
   "metadata": {},
   "outputs": [],
   "source": [
    "epss = np.linspace(1e-5, 1e-1, 50)"
   ]
  },
  {
   "cell_type": "code",
   "execution_count": 98,
   "metadata": {},
   "outputs": [],
   "source": [
    "Ms = np.stack([get_ABCD_fd2(elements, x0, n0, epsr=e, epss=e) for e in epss], axis=0)"
   ]
  },
  {
   "cell_type": "code",
   "execution_count": 100,
   "metadata": {},
   "outputs": [
    {
     "data": {
      "application/vnd.jupyter.widget-view+json": {
       "model_id": "85e3eb67a7934a4bb4114c71a88d2f17",
       "version_major": 2,
       "version_minor": 0
      },
      "text/plain": [
       "Canvas(toolbar=Toolbar(toolitems=[('Home', 'Reset original view', 'home', 'home'), ('Back', 'Back to previous …"
      ]
     },
     "metadata": {},
     "output_type": "display_data"
    }
   ],
   "source": [
    "plt.figure()\n",
    "plt.semilogx(epss[:,None], Ms.reshape((-1, 16)), marker='.')\n",
    "plt.show()"
   ]
  },
  {
   "cell_type": "code",
   "execution_count": 101,
   "metadata": {},
   "outputs": [
    {
     "data": {
      "application/vnd.jupyter.widget-view+json": {
       "model_id": "7d7019b526b44f4cb71b798674607fab",
       "version_major": 2,
       "version_minor": 0
      },
      "text/plain": [
       "Canvas(toolbar=Toolbar(toolitems=[('Home', 'Reset original view', 'home', 'home'), ('Back', 'Back to previous …"
      ]
     },
     "metadata": {},
     "output_type": "display_data"
    }
   ],
   "source": [
    "plt.figure()\n",
    "plt.semilogx(epss[:,None], np.einsum(\"xji,jk,xkl->xil\", Ms, G, Ms).reshape((-1, 16)), marker='.')\n",
    "plt.show()"
   ]
  },
  {
   "cell_type": "code",
   "execution_count": 102,
   "metadata": {},
   "outputs": [],
   "source": [
    "abcd_fd = get_ABCD_fd2(elements, x0, n0, epsr=1e-3, epss=1e-3) "
   ]
  },
  {
   "cell_type": "code",
   "execution_count": 104,
   "metadata": {},
   "outputs": [
    {
     "data": {
      "text/plain": [
       "array([[-0.10628955, -0.01087795, -1.21831545, -0.69206554],\n",
       "       [ 0.18844328, -0.24385796,  0.69248005, -1.17875513],\n",
       "       [ 0.6165635 ,  0.34009922, -0.10598962, -0.18835962],\n",
       "       [-0.34003321,  0.59619397,  0.01069634, -0.24451704]])"
      ]
     },
     "execution_count": 104,
     "metadata": {},
     "output_type": "execute_result"
    }
   ],
   "source": [
    "abcd_fd"
   ]
  },
  {
   "cell_type": "code",
   "execution_count": 106,
   "metadata": {},
   "outputs": [
    {
     "data": {
      "text/plain": [
       "array([[ 0.   , -0.   ,  1.   , -0.   ],\n",
       "       [ 0.   , -0.   ,  0.   ,  1.   ],\n",
       "       [-1.   , -0.   ,  0.   , -0.001],\n",
       "       [ 0.   , -1.   ,  0.001, -0.   ]])"
      ]
     },
     "execution_count": 106,
     "metadata": {},
     "output_type": "execute_result"
    }
   ],
   "source": [
    "np.round(abcd_fd.T@G@abcd_fd, decimals=3)"
   ]
  },
  {
   "cell_type": "code",
   "execution_count": 107,
   "metadata": {},
   "outputs": [
    {
     "data": {
      "application/vnd.jupyter.widget-view+json": {
       "model_id": "a21e9d9f50474e9882c545d98ef62378",
       "version_major": 2,
       "version_minor": 0
      },
      "text/plain": [
       "Canvas(toolbar=Toolbar(toolitems=[('Home', 'Reset original view', 'home', 'home'), ('Back', 'Back to previous …"
      ]
     },
     "metadata": {},
     "output_type": "display_data"
    }
   ],
   "source": [
    "hit_m = prop_ABCD(mu, system.abcd_rt, Nrt=500)\n",
    "hit_fd = prop_ABCD(mu, abcd_fd, Nrt=500)\n",
    "hit_idx = np.arange(hit_m.shape[0])\n",
    "f, ax = plt.subplots(figsize=(9,4), ncols=2)\n",
    "line = ax[0].scatter(hit_m[:,0], hit_m[:,1], c=hit_idx, cmap='jet')\n",
    "line = ax[1].scatter(hit_fd[:,0], hit_fd[:,1], c=hit_idx, cmap='jet')\n",
    "plt.title('Poincare hit pattern (screen)')\n",
    "plt.xlabel('x [mm]')\n",
    "plt.ylabel('y [mm]')\n",
    "plt.colorbar(line)\n",
    "plt.show()"
   ]
  },
  {
   "cell_type": "code",
   "execution_count": null,
   "metadata": {},
   "outputs": [],
   "source": []
  },
  {
   "cell_type": "code",
   "execution_count": 109,
   "metadata": {},
   "outputs": [
    {
     "name": "stderr",
     "output_type": "stream",
     "text": [
      "C:\\ProgramData\\Anaconda3\\lib\\site-packages\\ipykernel_launcher.py:1: RuntimeWarning: More than 20 figures have been opened. Figures created through the pyplot interface (`matplotlib.pyplot.figure`) are retained until explicitly closed and may consume too much memory. (To control this warning, see the rcParam `figure.max_open_warning`).\n",
      "  \"\"\"Entry point for launching an IPython kernel.\n"
     ]
    },
    {
     "data": {
      "application/vnd.jupyter.widget-view+json": {
       "model_id": "3f93bc6903d24947a482c931328fc069",
       "version_major": 2,
       "version_minor": 0
      },
      "text/plain": [
       "Canvas(toolbar=Toolbar(toolitems=[('Home', 'Reset original view', 'home', 'home'), ('Back', 'Back to previous …"
      ]
     },
     "metadata": {},
     "output_type": "display_data"
    },
    {
     "data": {
      "application/vnd.jupyter.widget-view+json": {
       "model_id": "0e075fd9c8c74ebd940f35d270ffd5db",
       "version_major": 2,
       "version_minor": 0
      },
      "text/plain": [
       "interactive(children=(FloatSlider(value=27.295, description='dl', max=27.9, min=27.2, step=0.01), FloatSlider(…"
      ]
     },
     "metadata": {},
     "output_type": "display_data"
    }
   ],
   "source": [
    "fig, (ax, bx, cx) = plt.subplots(ncols=3, figsize=(10,10/3.), sharex=True, sharey=True)\n",
    "linea = ax.scatter(hit_scr[:,1]-x0[1], hit_scr[:,2]-x0[2], c=hit_idx, cmap='jet')\n",
    "linec = cx.scatter(hit_scr[:,1]-x0[1], hit_scr[:,2]-x0[2], c=hit_idx, cmap='jet')\n",
    "lineb = bx.scatter(hit_m[:,0], hit_m[:,1], c=hit_idx, cmap='jet')\n",
    "plt.xlabel('x [mm]')\n",
    "plt.ylabel('y [mm]')\n",
    "\n",
    "#@interact(dl=(27.2, 27.9, 1e-2), ar = (0,0.1,1e-3), br = (0,0.1,1e-3), ap= (0,2*np.pi,1e-2), bp= (0,2*np.pi,1e-2), Nrt=(0,1000,100))\n",
    "def update(dl=27.295, ar=0.01, br=0.0, ap=0., bp=0., Nrt=500, **kwargs):\n",
    "        elements, abcd, _ = SixMirror(dx=dl)#27.2952+\n",
    "        x0 = 0.5*(elements[0].p + elements[-1].p)\n",
    "        n0 = norm(elements[0].p - elements[-1].p)\n",
    "        screen = Screen(p=x0, n=-n0, diam=7.75)\n",
    "        elements.append(screen)\n",
    "        \n",
    "        abcd_fd = get_ABCD_fd2(elements, x0, n0, epsr=1e-3, epss=1e-3) \n",
    "        \n",
    "        system = ABCDSystem(abcd)\n",
    "\n",
    "        mu1, mu2 = system.q\n",
    "        mu = np.real(ar*np.exp(1j*ap)*mu1 + br*np.exp(1j*bp)*mu2)\n",
    "        r0 = np.array([0, mu[1], mu[0]]) + x0\n",
    "        a, b = mu[2:]/k\n",
    "        s0 = np.array([np.sqrt(1-a**2-b**2), b, a])\n",
    "        ray0 = np.stack([np.atleast_2d(r0), np.atleast_2d(s0)], axis=0)\n",
    " \n",
    "        traj_hit = propagate_system_at(elements, ray0, which=6, Nrt=Nrt)[:,0,:,:] #only positions\n",
    "        hit_scr = traj_hit[:,0,:]-x0\n",
    "        #print(hit_scr)\n",
    "        hit_idx = np.arange(hit_scr.shape[0])\n",
    "        linea.set_offsets(hit_scr[:,1:])\n",
    "        linea.set_array(hit_idx)\n",
    "        \n",
    "        \n",
    "        hit_m = prop_ABCD(mu, system.abcd_rt, Nrt=Nrt)\n",
    "        lineb.set_offsets(hit_m[:,0:2])\n",
    "        lineb.set_array(hit_idx)\n",
    "        \n",
    "        hit_fd = prop_ABCD(mu, abcd_fd, Nrt=Nrt)\n",
    "        linec.set_offsets(hit_fd[:,0:2])\n",
    "        linec.set_array(hit_idx)\n",
    "        \n",
    "        ax.relim()\n",
    "        ax.autoscale_view()\n",
    "        fig.canvas.draw_idle()\n",
    "        \n",
    "interactive(update, dl=(27.2, 27.9, 1e-2), ar = (0,0.1,1e-3), br = (0,0.1,1e-3), ap= (0,2*np.pi,1e-2), bp= (0,2*np.pi,1e-2), Nrt=(0,1000,100))\n",
    "#interactive(update, dl=(27.75, 27.81, 1e-3), ar = (0,0.1,1e-3), br = (0,0.1,1e-3), ap= (0,2*np.pi,1e-2), bp= (0,2*np.pi,1e-2), Nrt=(0,1000,100))"
   ]
  },
  {
   "cell_type": "code",
   "execution_count": null,
   "metadata": {},
   "outputs": [],
   "source": []
  },
  {
   "cell_type": "code",
   "execution_count": null,
   "metadata": {},
   "outputs": [],
   "source": [
    "traj_eig = propagate_system(elements, reig, Nrt=1)[:,0,:,:] #only positions"
   ]
  },
  {
   "cell_type": "code",
   "execution_count": 25,
   "metadata": {},
   "outputs": [
    {
     "data": {
      "text/plain": [
       "array([13.6476,  8.    ,  1.5825])"
      ]
     },
     "execution_count": 25,
     "metadata": {},
     "output_type": "execute_result"
    }
   ],
   "source": [
    "x0"
   ]
  },
  {
   "cell_type": "code",
   "execution_count": null,
   "metadata": {},
   "outputs": [],
   "source": [
    "#visualize perturbed mode\n",
    "#visualize perturbed mode\n",
    "which=0\n",
    "ax=2\n",
    "amp = 1e-1\n",
    "dists, trajs_pert, modelmats = perturb_one_anim(SixMirror, screen, reig, traj_eig, which=which, ax=ax, rng=np.linspace(-amp, amp, 30))"
   ]
  },
  {
   "cell_type": "code",
   "execution_count": null,
   "metadata": {},
   "outputs": [],
   "source": [
    "trajs_pert_ts = traj_to_timeseries(trajs_pert, step=1)\n",
    "modelmats_ts = modelmats_to_timeseries(modelmats, step=1)"
   ]
  },
  {
   "cell_type": "code",
   "execution_count": null,
   "metadata": {},
   "outputs": [],
   "source": [
    "plot = k3d.plot(camera_auto_fit=True, antialias=True)\n",
    "\n",
    "for i, el in enumerate(elements[:-1]):\n",
    "    pel = el.plot(opacity=0.4)\n",
    "    if i==which:\n",
    "        pel.color=0xff0000\n",
    "    pel.model_matrix = modelmats_ts[i]\n",
    "    plot += pel\n",
    "\n",
    "#plot_trajs(traj, plot)\n",
    "for ts in trajs_pert_ts:\n",
    "    plot += k3d.line(ts, shader='mesh', width=0.2, color=0x00ff00)\n",
    "\n",
    "plot.display()"
   ]
  },
  {
   "cell_type": "code",
   "execution_count": null,
   "metadata": {},
   "outputs": [],
   "source": [
    "plot.start_auto_play()"
   ]
  },
  {
   "cell_type": "code",
   "execution_count": null,
   "metadata": {},
   "outputs": [],
   "source": [
    "plot.stop_auto_play()"
   ]
  },
  {
   "cell_type": "code",
   "execution_count": null,
   "metadata": {},
   "outputs": [],
   "source": [
    "#Poincare hit pattern"
   ]
  },
  {
   "cell_type": "code",
   "execution_count": null,
   "metadata": {},
   "outputs": [],
   "source": [
    "lrs = np.zeros_like(ray0)\n",
    "lrs[0,...] = 1e-3 #spatial learning rate\n",
    "lrs[1,...] = 1e-1 #slope learning rate"
   ]
  },
  {
   "cell_type": "code",
   "execution_count": null,
   "metadata": {},
   "outputs": [],
   "source": [
    "elements, _ = SixMirror(dx=27.76)\n",
    "\n",
    "x0 = 0.5*(elements[0].p + elements[-1].p)\n",
    "n0 = norm(elements[0].p - elements[-1].p)\n",
    "\n",
    "screen = Screen(p=x0, n=-n0, diam=7.75)\n",
    "elements.append(screen)\n",
    "\n",
    "# 27.8, 0.2r0, -2e-2 s0 10 iter\n",
    "#27.77 0.1 -2e-3 10\n",
    "\n",
    "r0 = x0[None,:] + np.array([0,0.02,0])\n",
    "s0 = n0[None,:] + np.array([0,-2e-4,0])\n",
    "#s0 = np.broadcast_to(n0, r0.shape)\n",
    "\n",
    "ray0 = np.stack([np.atleast_2d(r0), np.atleast_2d(s0)], axis=0)"
   ]
  },
  {
   "cell_type": "code",
   "execution_count": null,
   "metadata": {},
   "outputs": [],
   "source": [
    "reig3, _, tols = find_eigenray_mpe_debug(elements, ray0, Nrt=3, lr=0.01, Niter=50, Nmpe=4)"
   ]
  },
  {
   "cell_type": "code",
   "execution_count": null,
   "metadata": {},
   "outputs": [],
   "source": [
    "plt.figure()\n",
    "plt.semilogy(tols)\n",
    "plt.show()"
   ]
  },
  {
   "cell_type": "code",
   "execution_count": null,
   "metadata": {},
   "outputs": [],
   "source": [
    "#traj_hit = propagate_system(elements, reig3, Nrt=2000)[:,0,:,:] #only positions\n",
    "#hit_scr = traj_hit[7::7,0,:]\n",
    "traj_hit = propagate_system_at(elements, reig3, which=6, Nrt=1000)[:,0,:,:] #only positions\n",
    "hit_scr = traj_hit[:,0,:]\n",
    "hit_idx = np.arange(hit_scr.shape[0])\n",
    "\n",
    "plt.figure()\n",
    "line = plt.scatter(hit_scr[:,1], hit_scr[:,2], c=hit_idx, cmap='jet')\n",
    "plt.title('Poincare hit pattern (screen)')\n",
    "plt.xlabel('x [mm]')\n",
    "plt.ylabel('y [mm]')\n",
    "plt.colorbar()\n",
    "plt.show()"
   ]
  },
  {
   "cell_type": "code",
   "execution_count": null,
   "metadata": {},
   "outputs": [],
   "source": [
    "fig, ax = plt.subplots()\n",
    "line = plt.scatter(hit_scr[:,1], hit_scr[:,2], c=hit_idx, cmap='jet')\n",
    "plt.xlabel('x [mm]')\n",
    "plt.ylabel('y [mm]')\n",
    "\n",
    "@interact(dl=(-0.1,0.1,1e-3), drx=(0,0.05,1e-3),dry=(0,0.05,1e-3),dsx=(-0.1,0.1,1e-3),dsy=(-0.1,0.1,1e-3), Nrt=(0,1000,100))\n",
    "def update(dl, drx=0., dry=0., dsx=0., dsy=0., maxiter=500, Nrt=1000, **kwargs):\n",
    "        elements, _ = SixMirror(dx=27.77+dl, **kwargs)\n",
    "\n",
    "        x0 = 0.5*(elements[0].p + elements[-1].p)\n",
    "        n0 = norm(elements[0].p - elements[-1].p)\n",
    "        screen = Screen(p=x0, n=-n0, diam=7.75)\n",
    "        elements.append(screen)\n",
    "        r0 = x0[None,:] + np.array([0,drx,dry])\n",
    "        s0 = n0[None,:] + np.array([0,dsx,dsy])\n",
    "        ray0 = np.stack([np.atleast_2d(r0), np.atleast_2d(s0)], axis=0)\n",
    "        reig3 = find_eigenray_mpe(elements, ray0, Nrt=3, lr=0.01, Niter=50, Nmpe=4)\n",
    "        traj_hit = propagate_system_at(elements, reig3, which=6, Nrt=Nrt)[:,0,:,:] #only positions\n",
    "        hit_scr = traj_hit[:,0,:]\n",
    "        hit_idx = np.arange(hit_scr.shape[0])\n",
    "  \n",
    "        line.set_offsets(hit_scr[:,1:])\n",
    "        line.set_array(hit_idx)\n",
    "        ax.relim()\n",
    "        ax.autoscale_view()\n",
    "        fig.canvas.draw_idle()"
   ]
  },
  {
   "cell_type": "code",
   "execution_count": null,
   "metadata": {},
   "outputs": [],
   "source": [
    "FFmpeg = ani.writers['ffmpeg'](fps=30, bitrate=12e3)"
   ]
  },
  {
   "cell_type": "code",
   "execution_count": null,
   "metadata": {},
   "outputs": [],
   "source": [
    "1/30."
   ]
  },
  {
   "cell_type": "code",
   "execution_count": null,
   "metadata": {},
   "outputs": [],
   "source": [
    "fig, ax = plt.subplots()\n",
    "line = plt.scatter(hit_scr[:,1], hit_scr[:,2], c=hit_idx, cmap='jet')\n",
    "plt.xlabel('x [mm]')\n",
    "plt.ylabel('y [mm]')\n",
    "\n",
    "def init():\n",
    "    line.set_offsets([[], []])\n",
    "    line.set_array([])\n",
    "    return line,\n",
    "\n",
    "def animate(i, drx=0., dry=0., dsx=0.01, dsy=0., maxiter=500, Nrt=1000):\n",
    "    anipar = np.linspace(-0.15, 0.15, 400)\n",
    "    dl = anipar[i]\n",
    "    elements, _ = SixMirror(dx=27.77+dl)\n",
    "    x0 = 0.5*(elements[0].p + elements[-1].p)\n",
    "    n0 = norm(elements[0].p - elements[-1].p)\n",
    "    screen = Screen(p=x0, n=-n0, diam=7.75)\n",
    "    elements.append(screen)\n",
    "    r0 = x0[None,:] + np.array([0,drx,dry])\n",
    "    s0 = n0[None,:] + np.array([0,dsx,dsy])\n",
    "    ray0 = np.stack([np.atleast_2d(r0), np.atleast_2d(s0)], axis=0)\n",
    "    reig3 = find_eigenray_mpe(elements, ray0, Nrt=3, lr=0.01, Niter=50, Nmpe=4)\n",
    "    traj_hit = propagate_system_at(elements, reig3, which=6, Nrt=Nrt)[:,0,:,:] #only positions\n",
    "    hit_scr = traj_hit[:,0,:]\n",
    "    hit_idx = np.arange(hit_scr.shape[0])\n",
    "\n",
    "    line.set_offsets(hit_scr[:,1:])\n",
    "    line.set_array(hit_idx)\n",
    "    #ax.relim()\n",
    "    #ax.autoscale_view()\n",
    "    return line,\n",
    "anim = FuncAnimation(fig, animate, init_func=init, frames=400, interval=30, blit=True)\n",
    "anim.save('hits2.mp4', writer=FFmpeg)\n",
    "plt.show()"
   ]
  },
  {
   "cell_type": "code",
   "execution_count": null,
   "metadata": {},
   "outputs": [],
   "source": [
    "anim = FuncAnimation(fig, animate, init_func=init, frames=200, interval=20, blit=True)"
   ]
  },
  {
   "cell_type": "code",
   "execution_count": null,
   "metadata": {},
   "outputs": [],
   "source": [
    "init()"
   ]
  },
  {
   "cell_type": "code",
   "execution_count": null,
   "metadata": {},
   "outputs": [],
   "source": [
    "animate(0)"
   ]
  },
  {
   "cell_type": "code",
   "execution_count": null,
   "metadata": {},
   "outputs": [],
   "source": []
  }
 ],
 "metadata": {
  "kernelspec": {
   "display_name": "Python 3",
   "language": "python",
   "name": "python3"
  },
  "language_info": {
   "codemirror_mode": {
    "name": "ipython",
    "version": 3
   },
   "file_extension": ".py",
   "mimetype": "text/x-python",
   "name": "python",
   "nbconvert_exporter": "python",
   "pygments_lexer": "ipython3",
   "version": "3.7.6"
  }
 },
 "nbformat": 4,
 "nbformat_minor": 4
}
