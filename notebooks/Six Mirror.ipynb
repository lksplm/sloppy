{
 "cells": [
  {
   "cell_type": "code",
   "execution_count": 1,
   "metadata": {},
   "outputs": [],
   "source": [
    "%load_ext autoreload\n",
    "%autoreload 2"
   ]
  },
  {
   "cell_type": "code",
   "execution_count": 1,
   "metadata": {},
   "outputs": [],
   "source": [
    "%matplotlib widget\n",
    "import numpy as np\n",
    "import k3d\n",
    "import matplotlib.pyplot as plt\n",
    "from functools import reduce\n",
    "from raytracing import *\n",
    "from ipywidgets import *"
   ]
  },
  {
   "cell_type": "code",
   "execution_count": 2,
   "metadata": {},
   "outputs": [],
   "source": [
    "def SixMirror(dx=27.77, dy=8.0, dz=16.685, d=4.750, dzF=1.5825, Rfast=25.0, eps=np.zeros((6,5))):\n",
    "\n",
    "    p5 = np.array([0,0,0])\n",
    "    p6 = np.array([dx, dy, dzF])\n",
    "    p1 = np.array([0, dy, dzF])\n",
    "    p2 = np.array([dx, 2*dy, 0])\n",
    "    p3 = np.array([d, dy+d, dz])\n",
    "    p4 = np.array([dx-d, dy-d, dz])\n",
    "    \n",
    "    ps = np.stack([p1,p2,p3,p4,p5,p6], axis=0)\n",
    "    geom = geometry(ps)\n",
    "    ns = geom['refl']\n",
    "    ps = geom['mir']\n",
    "    #add perturbations\n",
    "    ps += eps[:,:3]\n",
    "    axx = geom['xin']\n",
    "    axy = 0.5*(geom['yin']+geom['yout'])\n",
    "    ns = [rot_vec(rot_vec(ns[i], axx[i], np.deg2rad(eps[i,3])), axy[i], np.deg2rad(eps[i,4])) for i, n in enumerate(ns)]\n",
    "    \n",
    "    hi = 12.7\n",
    "    qi=7.75\n",
    "    #reference plane is expected between first and last element!\n",
    "    elements = [CurvedMirror(p=ps[0], n=ns[0], diam=qi, R=Rfast, curv='CC'),\\\n",
    "                Mirror(p=ps[1], n=ns[1], diam=qi),\\\n",
    "                Mirror(p=ps[2], n=ns[2], diam=hi),\\\n",
    "                Mirror(p=ps[3], n=ns[3], diam=hi),\\\n",
    "                Mirror(p=ps[4], n=ns[4], diam=qi),\\\n",
    "                CurvedMirror(p=ps[5], n=ns[5], diam=qi, R=Rfast, curv='CC')]\n",
    "    return elements, geom"
   ]
  },
  {
   "cell_type": "code",
   "execution_count": 3,
   "metadata": {},
   "outputs": [],
   "source": [
    "elements, geom = SixMirror()\n",
    "\n",
    "x0 = 0.5*(elements[0].p + elements[-1].p)\n",
    "n0 = norm(elements[0].p - elements[-1].p)\n",
    "n0[2] += 0.2\n",
    "rs = ray_bundle(p=x0, n=n0, n_radii=5, n_angles=2, R=0.2)\n",
    "\n",
    "screen = Screen(p=x0, n=-n0, diam=7.75)\n",
    "elements.append(screen)"
   ]
  },
  {
   "cell_type": "code",
   "execution_count": 4,
   "metadata": {},
   "outputs": [],
   "source": [
    "#r0 = x0[None,:] + np.array([[0,0.2,0], [0,0,0.2], [0,0.2,0.2], [0,-0.2,-0.2]])\n",
    "#s0 = np.broadcast_to(n0, r0.shape)\n",
    "r0, s0 = x0, n0\n",
    "ray0 = np.stack([np.atleast_2d(r0), np.atleast_2d(s0)], axis=0)\n",
    "\n",
    "reig, traj_anim = find_eigenray_animated(elements, ray0, lr=0.1, Nrt=1)"
   ]
  },
  {
   "cell_type": "code",
   "execution_count": 5,
   "metadata": {},
   "outputs": [],
   "source": [
    "ts_dicts = traj_to_timeseries(traj_anim)"
   ]
  },
  {
   "cell_type": "code",
   "execution_count": 6,
   "metadata": {},
   "outputs": [
    {
     "name": "stderr",
     "output_type": "stream",
     "text": [
      "C:\\ProgramData\\Anaconda3\\lib\\site-packages\\traittypes\\traittypes.py:101: UserWarning: Given trait value dtype \"float64\" does not match required type \"float32\". A coerced copy has been created.\n",
      "  np.dtype(self.dtype).name))\n"
     ]
    },
    {
     "data": {
      "application/vnd.jupyter.widget-view+json": {
       "model_id": "fde2bd793a1f451c975963a0ffbb2cdc",
       "version_major": 2,
       "version_minor": 0
      },
      "text/plain": [
       "Output()"
      ]
     },
     "metadata": {},
     "output_type": "display_data"
    }
   ],
   "source": [
    "plot = k3d.plot(camera_auto_fit=True, antialias=True)\n",
    "plot += k3d.vectors(origins=x0, vectors=n0)\n",
    "\n",
    "for el in elements:\n",
    "    plot += el.plot(opacity=0.4)\n",
    "\n",
    "#plot_trajs(traj, plot)\n",
    "for ts in ts_dicts:\n",
    "    plot += k3d.line(ts, shader='mesh', width=0.2, color=0x00ff00)\n",
    "\n",
    "plot.display()"
   ]
  },
  {
   "cell_type": "code",
   "execution_count": 7,
   "metadata": {},
   "outputs": [],
   "source": [
    "traj_eig = propagate_system(elements, reig, Nrt=1)[:,0,:,:] #only positions"
   ]
  },
  {
   "cell_type": "code",
   "execution_count": 8,
   "metadata": {},
   "outputs": [
    {
     "data": {
      "text/plain": [
       "(8, 1, 3)"
      ]
     },
     "execution_count": 8,
     "metadata": {},
     "output_type": "execute_result"
    }
   ],
   "source": [
    "traj_eig.shape"
   ]
  },
  {
   "cell_type": "code",
   "execution_count": 9,
   "metadata": {},
   "outputs": [],
   "source": [
    "#visualize perturbed mode\n",
    "#visualize perturbed mode\n",
    "which=0\n",
    "ax=2\n",
    "amp = 1e-1\n",
    "dists, trajs_pert, modelmats = perturb_one_anim(SixMirror, screen, reig, traj_eig, which=which, ax=ax, rng=np.linspace(-amp, amp, 30))"
   ]
  },
  {
   "cell_type": "code",
   "execution_count": 10,
   "metadata": {},
   "outputs": [],
   "source": [
    "trajs_pert_ts = traj_to_timeseries(trajs_pert, step=1)\n",
    "modelmats_ts = modelmats_to_timeseries(modelmats, step=1)"
   ]
  },
  {
   "cell_type": "code",
   "execution_count": 41,
   "metadata": {},
   "outputs": [
    {
     "name": "stderr",
     "output_type": "stream",
     "text": [
      "C:\\ProgramData\\Anaconda3\\lib\\site-packages\\traittypes\\traittypes.py:101: UserWarning: Given trait value dtype \"float64\" does not match required type \"float32\". A coerced copy has been created.\n",
      "  np.dtype(self.dtype).name))\n"
     ]
    },
    {
     "data": {
      "application/vnd.jupyter.widget-view+json": {
       "model_id": "ef52adee002f4cb283d88d6f7a7762fd",
       "version_major": 2,
       "version_minor": 0
      },
      "text/plain": [
       "Output()"
      ]
     },
     "metadata": {},
     "output_type": "display_data"
    }
   ],
   "source": [
    "plot = k3d.plot(camera_auto_fit=True, antialias=True)\n",
    "\n",
    "for i, el in enumerate(elements[:-1]):\n",
    "    pel = el.plot(opacity=0.4)\n",
    "    if i==which:\n",
    "        pel.color=0xff0000\n",
    "    pel.model_matrix = modelmats_ts[i]\n",
    "    plot += pel\n",
    "\n",
    "#plot_trajs(traj, plot)\n",
    "for ts in trajs_pert_ts:\n",
    "    plot += k3d.line(ts, shader='mesh', width=0.2, color=0x00ff00)\n",
    "\n",
    "plot.display()"
   ]
  },
  {
   "cell_type": "code",
   "execution_count": 14,
   "metadata": {},
   "outputs": [],
   "source": [
    "plot.start_auto_play()"
   ]
  },
  {
   "cell_type": "code",
   "execution_count": 15,
   "metadata": {},
   "outputs": [],
   "source": [
    "plot.stop_auto_play()"
   ]
  },
  {
   "cell_type": "code",
   "execution_count": null,
   "metadata": {},
   "outputs": [],
   "source": [
    "#Poincare hit pattern"
   ]
  },
  {
   "cell_type": "code",
   "execution_count": 12,
   "metadata": {},
   "outputs": [],
   "source": [
    "lrs = np.zeros_like(ray0)\n",
    "lrs[0,...] = 1e-3 #spatial learning rate\n",
    "lrs[1,...] = 1e-1 #slope learning rate"
   ]
  },
  {
   "cell_type": "code",
   "execution_count": 32,
   "metadata": {},
   "outputs": [],
   "source": [
    "elements, _ = SixMirror(dx=27.76)\n",
    "\n",
    "x0 = 0.5*(elements[0].p + elements[-1].p)\n",
    "n0 = norm(elements[0].p - elements[-1].p)\n",
    "\n",
    "screen = Screen(p=x0, n=-n0, diam=7.75)\n",
    "elements.append(screen)\n",
    "\n",
    "# 27.8, 0.2r0, -2e-2 s0 10 iter\n",
    "#27.77 0.1 -2e-3 10\n",
    "\n",
    "r0 = x0[None,:] + np.array([0,0.02,0])\n",
    "s0 = n0[None,:] + np.array([0,-2e-4,0])\n",
    "#s0 = np.broadcast_to(n0, r0.shape)\n",
    "\n",
    "ray0 = np.stack([np.atleast_2d(r0), np.atleast_2d(s0)], axis=0)"
   ]
  },
  {
   "cell_type": "code",
   "execution_count": 33,
   "metadata": {},
   "outputs": [
    {
     "name": "stdout",
     "output_type": "stream",
     "text": [
      "Finished in 499 steps, reached tol 3.485e-04\n"
     ]
    }
   ],
   "source": [
    "reig3, traj_anim3 = find_eigenray_animated(elements, ray0, lr=lrs, Nrt=3, debug=True, maxiter=500)\n",
    "ts3_dicts = traj_to_timeseries(traj_anim3)"
   ]
  },
  {
   "cell_type": "code",
   "execution_count": 35,
   "metadata": {},
   "outputs": [
    {
     "data": {
      "application/vnd.jupyter.widget-view+json": {
       "model_id": "13096aafb33e4f7c9582b05485e85ced",
       "version_major": 2,
       "version_minor": 0
      },
      "text/plain": [
       "Canvas(toolbar=Toolbar(toolitems=[('Home', 'Reset original view', 'home', 'home'), ('Back', 'Back to previous …"
      ]
     },
     "metadata": {},
     "output_type": "display_data"
    }
   ],
   "source": [
    "#traj_hit = propagate_system(elements, reig3, Nrt=2000)[:,0,:,:] #only positions\n",
    "#hit_scr = traj_hit[7::7,0,:]\n",
    "traj_hit = propagate_system_at(elements, reig3, which=6, Nrt=1000)[:,0,:,:] #only positions\n",
    "hit_scr = traj_hit[:,0,:]\n",
    "hit_idx = np.arange(hit_scr.shape[0])\n",
    "\n",
    "plt.figure()\n",
    "line = plt.scatter(hit_scr[:,1], hit_scr[:,2], c=hit_idx, cmap='jet')\n",
    "plt.title('Poincare hit pattern (screen)')\n",
    "plt.xlabel('x [mm]')\n",
    "plt.ylabel('y [mm]')\n",
    "plt.colorbar()\n",
    "plt.show()"
   ]
  },
  {
   "cell_type": "code",
   "execution_count": 37,
   "metadata": {},
   "outputs": [
    {
     "ename": "AttributeError",
     "evalue": "'PathCollection' object has no attribute 'set_data'",
     "output_type": "error",
     "traceback": [
      "\u001b[1;31m---------------------------------------------------------------------------\u001b[0m",
      "\u001b[1;31mAttributeError\u001b[0m                            Traceback (most recent call last)",
      "\u001b[1;32m<ipython-input-37-bb734bc4ea47>\u001b[0m in \u001b[0;36m<module>\u001b[1;34m\u001b[0m\n\u001b[1;32m----> 1\u001b[1;33m \u001b[0mline\u001b[0m\u001b[1;33m.\u001b[0m\u001b[0mset_data\u001b[0m\u001b[1;33m\u001b[0m\u001b[1;33m\u001b[0m\u001b[0m\n\u001b[0m",
      "\u001b[1;31mAttributeError\u001b[0m: 'PathCollection' object has no attribute 'set_data'"
     ]
    }
   ],
   "source": [
    "line.set_data"
   ]
  },
  {
   "cell_type": "code",
   "execution_count": 43,
   "metadata": {},
   "outputs": [
    {
     "data": {
      "application/vnd.jupyter.widget-view+json": {
       "model_id": "f79e4938d9cb441c938101286916572b",
       "version_major": 2,
       "version_minor": 0
      },
      "text/plain": [
       "Canvas(toolbar=Toolbar(toolitems=[('Home', 'Reset original view', 'home', 'home'), ('Back', 'Back to previous …"
      ]
     },
     "metadata": {},
     "output_type": "display_data"
    },
    {
     "data": {
      "application/vnd.jupyter.widget-view+json": {
       "model_id": "7eaaa0662b79445db2bf3f0c982cf74b",
       "version_major": 2,
       "version_minor": 0
      },
      "text/plain": [
       "interactive(children=(FloatSlider(value=0.0, description='dr', max=0.5, step=0.001), FloatSlider(value=0.0, de…"
      ]
     },
     "metadata": {},
     "output_type": "display_data"
    }
   ],
   "source": [
    "fig, ax = plt.subplots()\n",
    "line = plt.scatter(hit_scr[:,1], hit_scr[:,2], c=hit_idx, cmap='jet')\n",
    "plt.xlabel('x [mm]')\n",
    "plt.ylabel('y [mm]')\n",
    "\n",
    "@interact(dr=(0,0.5,1e-3),ds=(-0.1,0.1,1e-3), maxiter=(0,500,100), Nrt=(0,1000,100))\n",
    "def update(dr=0., ds=0., maxiter=500, Nrt=1000, **kwargs):\n",
    "        elements, _ = SixMirror(**kwargs)\n",
    "\n",
    "        x0 = 0.5*(elements[0].p + elements[-1].p)\n",
    "        n0 = norm(elements[0].p - elements[-1].p)\n",
    "        screen = Screen(p=x0, n=-n0, diam=7.75)\n",
    "        elements.append(screen)\n",
    "        r0 = x0[None,:] + np.array([0,0.02,0])\n",
    "        s0 = n0[None,:] + np.array([0,-2e-4,0])\n",
    "        ray0 = np.stack([np.atleast_2d(r0), np.atleast_2d(s0)], axis=0)\n",
    "        reig3, traj_anim3 = find_eigenray_animated(elements, ray0, lr=lrs, Nrt=3, debug=False, maxiter=maxiter)\n",
    "        traj_hit = propagate_system_at(elements, reig3, which=6, Nrt=Nrt)[:,0,:,:] #only positions\n",
    "        hit_scr = traj_hit[:,0,:]\n",
    "        hit_idx = np.arange(hit_scr.shape[0])\n",
    "  \n",
    "        line.set_offsets(hit_scr[:,1:])\n",
    "        line.set_array(hit_idx)\n",
    "        ax.relim()\n",
    "        ax.autoscale_view()\n",
    "        fig.canvas.draw_idle()"
   ]
  },
  {
   "cell_type": "code",
   "execution_count": 31,
   "metadata": {},
   "outputs": [
    {
     "data": {
      "application/vnd.jupyter.widget-view+json": {
       "model_id": "d42540b21fad47a2828baf4f19d30ddc",
       "version_major": 2,
       "version_minor": 0
      },
      "text/plain": [
       "Output()"
      ]
     },
     "metadata": {},
     "output_type": "display_data"
    }
   ],
   "source": [
    "plot = k3d.plot(camera_auto_fit=True, antialias=True)\n",
    "\n",
    "for el in elements:\n",
    "    plot += el.plot(opacity=0.4)\n",
    "\n",
    "for ts in ts3_dicts:\n",
    "    plot += k3d.line(ts, shader='mesh', width=0.2, color=0x00ff00)\n",
    "\n",
    "plot.display()\n",
    "plot.start_auto_play()"
   ]
  },
  {
   "cell_type": "code",
   "execution_count": 24,
   "metadata": {},
   "outputs": [],
   "source": [
    "%matplotlib inline"
   ]
  },
  {
   "cell_type": "code",
   "execution_count": null,
   "metadata": {},
   "outputs": [],
   "source": []
  }
 ],
 "metadata": {
  "kernelspec": {
   "display_name": "Python 3",
   "language": "python",
   "name": "python3"
  },
  "language_info": {
   "codemirror_mode": {
    "name": "ipython",
    "version": 3
   },
   "file_extension": ".py",
   "mimetype": "text/x-python",
   "name": "python",
   "nbconvert_exporter": "python",
   "pygments_lexer": "ipython3",
   "version": "3.7.6"
  }
 },
 "nbformat": 4,
 "nbformat_minor": 4
}
