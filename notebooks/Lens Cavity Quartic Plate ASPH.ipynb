{
 "cells": [
  {
   "cell_type": "code",
   "execution_count": 1,
   "metadata": {},
   "outputs": [],
   "source": [
    "%load_ext autoreload\n",
    "%autoreload 2"
   ]
  },
  {
   "cell_type": "code",
   "execution_count": 95,
   "metadata": {},
   "outputs": [],
   "source": [
    "%matplotlib widget\n",
    "from ipywidgets import *\n",
    "import numpy as np\n",
    "import k3d\n",
    "import matplotlib.pyplot as plt\n",
    "from scipy.optimize import minimize_scalar, brentq, minimize\n",
    "from sloppy.optic import *\n",
    "from sloppy.raytracing import *\n",
    "from sloppy.abcd import *\n",
    "from sloppy.utils import *\n",
    "from sloppy.tools import *"
   ]
  },
  {
   "cell_type": "code",
   "execution_count": 3,
   "metadata": {},
   "outputs": [],
   "source": [
    "from cavities import *"
   ]
  },
  {
   "cell_type": "code",
   "execution_count": 4,
   "metadata": {},
   "outputs": [],
   "source": [
    "coeffc2 = lambda x: 1./(2*x)\n",
    "coeffc4 = lambda x: 1./(8*x**3)\n",
    "coeffc6 = lambda x: 1./(16*x**5)\n",
    "coeffc8 = lambda x: 5./(128*x**7)"
   ]
  },
  {
   "cell_type": "code",
   "execution_count": 5,
   "metadata": {},
   "outputs": [
    {
     "name": "stdout",
     "output_type": "stream",
     "text": [
      "0.001 2e-05 5e-07\n"
     ]
    }
   ],
   "source": [
    "print(coeffc4(5.0), coeffc6(5.0), coeffc8(5.0))"
   ]
  },
  {
   "cell_type": "code",
   "execution_count": 102,
   "metadata": {},
   "outputs": [],
   "source": [
    "def LensCavAsphere(arm1=42., arm2=21., base=17., angle=110., lens_dist=24.47, c4=coeffc4(5.0), c6=coeffc6(5.0), c8=coeffc8(5.0)):\n",
    "    angle = np.deg2rad(angle)\n",
    "    Rlens=5.0\n",
    "    lens_diam=6.35\n",
    "    lens_thick=4.\n",
    "    \n",
    "    eps = 0. #1e-4 #hack\n",
    "    p0 = np.array([lens_dist/2.-lens_thick/2.,0,0])\n",
    "    p1 = np.array([lens_dist/2.+lens_thick/2.,0,0])\n",
    "    p2 = np.array([arm1/2.,0,0])\n",
    "    p3 = np.array([np.cos(angle)*arm2/2.,base,np.sin(angle)*arm2/2.])\n",
    "    p4 = np.array([-np.cos(angle)*arm2/2.,base,-np.sin(angle)*arm2/2.])\n",
    "    p5 = np.array([-arm1/2.,0,0])\n",
    "    p6 = np.array([-lens_dist/2.-lens_thick/2.,0,0])\n",
    "    p7 = np.array([-lens_dist/2.+lens_thick/2.,0,0])\n",
    "    ps = np.stack([p0,p1,p2,p3,p4,p5,p6,p7], axis=0)\n",
    "    \n",
    "    geom = geometry(ps)\n",
    "    ns = geom['refl']\n",
    "    ps = geom['mir']\n",
    "    angles = geom['angles']\n",
    "    Rtr = geom['R']\n",
    "    ax_x = geom['xin']\n",
    "    ax_y = np.cross(ns, ax_x)\n",
    "        \n",
    "    hi = 12.7\n",
    "    qi=7.75\n",
    "    ng = 1.4537\n",
    "    \n",
    "    coef = np.zeros(9)\n",
    "    coef[2] = coeffc2(Rlens)\n",
    "    coef[4] = c4\n",
    "    coef[6] = c6\n",
    "    coef[8] = c8\n",
    "     #negative sign of firstt cuved surface for abcd matrix\n",
    "    elements = [Glass(p=ps[0], n=ns[0], ax=ax_x[0], ay=ax_y[0], Rbasis=Rtr[0], diameter=lens_diam, n2=ng),\\\n",
    "                FreeFormInterface(p=ps[1], n=ns[1], ax=ax_x[1], ay=ax_y[1], Rbasis=Rtr[1], diameter=lens_diam, n1=ng, coef=coef),\\\n",
    "                Mirror(p=ps[2], n=ns[2], ax=ax_x[2], ay=ax_y[2], Rbasis=Rtr[2], diameter=hi),\\\n",
    "                Mirror(p=ps[3], n=ns[3], ax=ax_x[3], ay=ax_y[3], Rbasis=Rtr[3], diameter=hi),\\\n",
    "                Mirror(p=ps[4], n=ns[4], ax=ax_x[4], ay=ax_y[4], Rbasis=Rtr[4], diameter=hi),\\\n",
    "                Mirror(p=ps[5], n=ns[5], ax=ax_x[5], ay=ax_y[5], Rbasis=Rtr[5], diameter=hi),\\\n",
    "                FreeFormInterface(p=ps[6], n=ns[6], ax=ax_x[6], ay=ax_y[6], Rbasis=Rtr[6], diameter=lens_diam, n2=ng, coef=-coef),\\\n",
    "                Glass(p=ps[7], n=ns[7], ax=ax_x[7], ay=ax_y[7], Rbasis=Rtr[7], diameter=lens_diam, n1=ng)]\n",
    "    return elements"
   ]
  },
  {
   "cell_type": "code",
   "execution_count": 7,
   "metadata": {
    "jupyter": {
     "source_hidden": true
    }
   },
   "outputs": [],
   "source": [
    "magnitude = lambda x: int(np.floor(np.log10(x)))"
   ]
  },
  {
   "cell_type": "code",
   "execution_count": 66,
   "metadata": {
    "jupyter": {
     "source_hidden": true
    }
   },
   "outputs": [],
   "source": [
    "cavfct = LensCavAsphere\n",
    "lo = Layout(width='80%', height='30px')\n",
    "sliders = {v.name: FloatSlider(value=v.default, min=v.default*0.5, max=v.default*1.5, step=10**(magnitude(v.default)-2), readout_format='.2e', layout=lo) for v in inspect.signature(cavfct).parameters.values()}"
   ]
  },
  {
   "cell_type": "code",
   "execution_count": 67,
   "metadata": {
    "jupyter": {
     "source_hidden": true
    }
   },
   "outputs": [],
   "source": [
    "def cavity_parameter_interaction_factory(cavfct, parname, scanrange, N = 300):\n",
    "    fig, ax = plt.subplots(ncols=2, figsize=(8,4), sharex=True)\n",
    "    lws = [ax[0].plot([0, 1], [0, 1])[0] for i in range(2)]\n",
    "    ax[0].set_ylabel('um')\n",
    "    lfs = [ax[1].plot([0, 1], [0, 1])[0] for i in range(4)]\n",
    "    ax[1].set_ylabel('MHz')\n",
    "    axh1 = ax[1].axhline(0, color='grey')\n",
    "    axv0 = ax[0].axvline(0, color='grey')\n",
    "    axv1 = ax[1].axvline(0, color='grey')\n",
    "    plt.show()\n",
    "    \n",
    "    magnitude = lambda x: int(np.floor(np.log10(x)))\n",
    "    \n",
    "    def update_waists_vs_params(cavfct, parname, scanrange, N = 300, **kwargs):\n",
    "        stab = lambda m: abs(0.5*np.trace(m))<1\n",
    "        #La = inspect.signature(cavfct).parameters[parname].default\n",
    "        La = kwargs[parname]\n",
    "        Las = La + np.linspace(-scanrange*La, scanrange*La, N)\n",
    "        ms = np.zeros((N))\n",
    "        ws = np.zeros((N,2))\n",
    "        freqs = np.zeros((N,4))\n",
    "        for i, l in enumerate(Las):\n",
    "            pardct = kwargs.copy()\n",
    "            pardct.update({parname: l})\n",
    "            sys = RaySystem( cavfct(**pardct) )\n",
    "\n",
    "            try:\n",
    "                system = sys.abcd\n",
    "                w = system.waist_at(0)\n",
    "            except:\n",
    "                ws[i,:] = np.nan\n",
    "                ms[i] = np.nan\n",
    "                freqs[i,...] = np.nan\n",
    "            else:\n",
    "                ms[i] = stab(system.abcd_rt)\n",
    "                ws[i,:] = np.sort(w)\n",
    "                freqs[i,...] = np.concatenate(system.get_freqs())\n",
    "                #ft, fs3 = system.get_freqs()\n",
    "                #fsr = system.fsr\n",
    "                #freqs[i,...] = np.concatenate((ft, np.mod(3*ft, fsr)))\n",
    "                idx = np.argmin(np.abs(freqs[:,2]))\n",
    "        for i in range(2):\n",
    "            lws[i].set_data(np.stack((Las, ws[:,i]*1e3), axis=0))\n",
    "        for i in range(4):\n",
    "            lfs[i].set_data(np.stack((Las, freqs[:,i]*1e-6), axis=0))\n",
    "        axv0.set_xdata([Las[idx], Las[idx]])\n",
    "        axv1.set_xdata([Las[idx], Las[idx]])\n",
    "        Ldeg = Las[idx]\n",
    "        ax[0].set_xlim(Las[0], Las[-1])\n",
    "        ax[0].set_ylim(1.1*np.nanmin(ws*1e3), 1.1*np.nanmax(ws*1e3))\n",
    "        ax[1].set_ylim(1.1*np.nanmin(freqs*1e-6), 1.1*np.nanmax(freqs*1e-6))\n",
    "        fig.canvas.draw_idle()\n",
    "\n",
    "    lo = Layout(width='80%', height='30px')\n",
    "    sliders = {v.name: FloatSlider(value=v.default, min=v.default*0.5, max=v.default*1.5, step=10**(magnitude(v.default)-2), readout_format='.2e', layout=lo) for v in inspect.signature(cavfct).parameters.values()}\n",
    "    #sliders.update({'scanrange': FloatSlider(value=scanrange, min=scanrange*1e-1, max=scanrange*1e-1, step=10**(magnitude(scanrange)-2), readout_format='.1e', layout=lo)})\n",
    "    sliders.update({'scanrange': FloatLogSlider(value=scanrange, min=-3, max=1, step=0.5, layout=lo)})\n",
    "    return interactive(update_waists_vs_params, cavfct=fixed(cavfct), parname = fixed('lens_dist'), N=fixed(N), **sliders)"
   ]
  },
  {
   "cell_type": "code",
   "execution_count": 18,
   "metadata": {},
   "outputs": [
    {
     "data": {
      "application/vnd.jupyter.widget-view+json": {
       "model_id": "21ae39027fb642d386a24311e6ae998b",
       "version_major": 2,
       "version_minor": 0
      },
      "text/plain": [
       "Canvas(toolbar=Toolbar(toolitems=[('Home', 'Reset original view', 'home', 'home'), ('Back', 'Back to previous …"
      ]
     },
     "metadata": {},
     "output_type": "display_data"
    },
    {
     "data": {
      "application/vnd.jupyter.widget-view+json": {
       "model_id": "746a124fa5c342809369d56321faaf43",
       "version_major": 2,
       "version_minor": 0
      },
      "text/plain": [
       "interactive(children=(FloatLogSlider(value=0.1, description='scanrange', layout=Layout(height='30px', width='8…"
      ]
     },
     "metadata": {},
     "output_type": "display_data"
    }
   ],
   "source": [
    "cavity_parameter_interaction_factory(LensCavAsphere, 'lens_dist', 1e-1, N=100)"
   ]
  },
  {
   "cell_type": "code",
   "execution_count": 25,
   "metadata": {
    "jupyter": {
     "source_hidden": true
    }
   },
   "outputs": [],
   "source": [
    "def waists_vs_params(cavfct, parname, scanrange, N = 300, **kwargs):\n",
    "    stab = lambda m: abs(0.5*np.trace(m))<1\n",
    "    #La = inspect.signature(cavfct).parameters[parname].default\n",
    "    La = kwargs[parname]\n",
    "    Las = La + np.linspace(-scanrange*La, scanrange*La, N)\n",
    "    ms = np.zeros((N))\n",
    "    ws = np.zeros((N,2))\n",
    "    freqs = np.zeros((N,4))\n",
    "    for i, l in enumerate(Las):\n",
    "        pardct = kwargs.copy()\n",
    "        pardct.update({parname: l})\n",
    "        sys = RaySystem( cavfct(**pardct) )\n",
    "\n",
    "        try:\n",
    "            system = sys.abcd\n",
    "            w = system.waist_at(0)\n",
    "        except:\n",
    "            ws[i,:] = np.nan\n",
    "            ms[i] = np.nan\n",
    "            freqs[i,...] = np.nan\n",
    "        else:\n",
    "            ms[i] = stab(system.abcd_rt)\n",
    "            ws[i,:] = np.sort(w)\n",
    "            freqs[i,...] = np.concatenate(system.get_freqs())\n",
    "\n",
    "    idx = np.argmin(np.abs(freqs[:,2]))\n",
    "    g, ax = plt.subplots(ncols=2, figsize=(8,4))\n",
    "    ax[0].plot(Las, ws*1e3)\n",
    "    ax[0].set_ylabel('um')\n",
    "    ax[1].plot(Las, freqs*1e-6)\n",
    "    ax[1].set_ylabel('MHz')\n",
    "    ax[1].axhline(0, color='grey')\n",
    "    ax[0].axvline(Las[idx], color='grey')\n",
    "    ax[1].axvline(Las[idx], color='grey')\n",
    "    plt.show()\n",
    "    Ldeg = Las[idx]\n",
    "    return Ldeg"
   ]
  },
  {
   "cell_type": "code",
   "execution_count": 103,
   "metadata": {},
   "outputs": [
    {
     "name": "stderr",
     "output_type": "stream",
     "text": [
      "c:\\users\\lukas\\box\\lukas\\03_theory\\abcd\\sloppy\\src\\sloppy\\abcd.py:184: RuntimeWarning: invalid value encountered in sqrt\n",
      "  ws = np.sqrt(lam/(-np.pi*di.imag*n))\n"
     ]
    },
    {
     "data": {
      "application/vnd.jupyter.widget-view+json": {
       "model_id": "7bb2d5537540493bacec920ecd6c4fdb",
       "version_major": 2,
       "version_minor": 0
      },
      "text/plain": [
       "Canvas(toolbar=Toolbar(toolitems=[('Home', 'Reset original view', 'home', 'home'), ('Back', 'Back to previous …"
      ]
     },
     "metadata": {},
     "output_type": "display_data"
    },
    {
     "name": "stdout",
     "output_type": "stream",
     "text": [
      "     fun: 105952.29785716636\n",
      " message: 'Solution found.'\n",
      "    nfev: 10\n",
      "  status: 0\n",
      " success: True\n",
      "       x: 24.470978485807766\n"
     ]
    }
   ],
   "source": [
    "waists_vs_param(LensCavAsphere, 'lens_dist', 1e-1)\n",
    "\n",
    "res = degeneracy_length(LensCavAsphere, 'lens_dist', 1e-1)\n",
    "Ldeg = res.x\n",
    "print(res)"
   ]
  },
  {
   "cell_type": "code",
   "execution_count": 20,
   "metadata": {},
   "outputs": [],
   "source": [
    "elements = LensCavAsphere(lens_dist=Ldeg)\n",
    "sys = RaySystem(elements)"
   ]
  },
  {
   "cell_type": "code",
   "execution_count": 21,
   "metadata": {},
   "outputs": [
    {
     "name": "stdout",
     "output_type": "stream",
     "text": [
      "125.96287424209984\n"
     ]
    },
    {
     "data": {
      "text/plain": [
       "array([0.01974093, 0.01974093])"
      ]
     },
     "execution_count": 21,
     "metadata": {},
     "output_type": "execute_result"
    }
   ],
   "source": [
    "system = sys.abcd\n",
    "print(system.Ltot)\n",
    "system.waist_at(0)"
   ]
  },
  {
   "cell_type": "code",
   "execution_count": 22,
   "metadata": {},
   "outputs": [
    {
     "data": {
      "application/vnd.jupyter.widget-view+json": {
       "model_id": "ebec3434cbb948709e7798b7b1145b0b",
       "version_major": 2,
       "version_minor": 0
      },
      "text/plain": [
       "Canvas(toolbar=Toolbar(toolitems=[('Home', 'Reset original view', 'home', 'home'), ('Back', 'Back to previous …"
      ]
     },
     "metadata": {},
     "output_type": "display_data"
    }
   ],
   "source": [
    "x = np.linspace(0, system.Ltot, 500)\n",
    "ws = system.compute_waists(x)\n",
    "\n",
    "plt.figure()\n",
    "plt.plot(x, ws)\n",
    "plt.show()"
   ]
  },
  {
   "cell_type": "code",
   "execution_count": 13,
   "metadata": {},
   "outputs": [],
   "source": [
    "mu = np.array([0., 0., 0., 0.])\n",
    "ray = sys.screen.eigenvectors_to_rays(mu)"
   ]
  },
  {
   "cell_type": "code",
   "execution_count": 14,
   "metadata": {
    "collapsed": true,
    "jupyter": {
     "outputs_hidden": true,
     "source_hidden": true
    }
   },
   "outputs": [
    {
     "name": "stderr",
     "output_type": "stream",
     "text": [
      "C:\\ProgramData\\Anaconda3\\lib\\site-packages\\traittypes\\traittypes.py:101: UserWarning: Given trait value dtype \"float64\" does not match required type \"float32\". A coerced copy has been created.\n",
      "  np.dtype(self.dtype).name))\n"
     ]
    },
    {
     "data": {
      "application/vnd.jupyter.widget-view+json": {
       "model_id": "",
       "version_major": 2,
       "version_minor": 0
      },
      "text/plain": [
       "Output()"
      ]
     },
     "metadata": {},
     "output_type": "display_data"
    }
   ],
   "source": [
    "try:\n",
    "    plot.close()\n",
    "except:\n",
    "    pass\n",
    "plot = k3d.plot(camera_auto_fit=True, antialias=True)\n",
    "\n",
    "for i, el in enumerate(sys.elements):\n",
    "    plot += el.plot(opacity=0.4)\n",
    "\n",
    "for i, el in enumerate(sys.elements):\n",
    "    plot_element_ax(el, plot, length=5.)\n",
    "\n",
    "plot_rays(ray, plot)\n",
    "plot.display()"
   ]
  },
  {
   "cell_type": "code",
   "execution_count": 21,
   "metadata": {
    "jupyter": {
     "source_hidden": true
    }
   },
   "outputs": [],
   "source": [
    "def rays_interaction_factory(cavfct, parname, scanrange=1e-2):\n",
    "    fig, ax = plt.subplots(ncols=3, nrows=2, figsize=(11,6.6), sharex='row', sharey='row')\n",
    "    ms = 8.\n",
    "    lines = [a.scatter([], [], c=[], cmap='jet', s=ms) for a in ax.flatten()]\n",
    "    ax[0,0].set_title('Raytracing')\n",
    "    ax[0,1].set_title('ABCD')\n",
    "    ax[0,2].set_title('ABCD (Extracted)')\n",
    "    plt.xlabel('x [mm]')\n",
    "    plt.ylabel('y [mm]')\n",
    "\n",
    "    res = degeneracy_length(cavfct, parname, scanrange)\n",
    "    Ldeg = res.x\n",
    "\n",
    "    def makeidx(hit_m):\n",
    "        return np.arange(hit_m.shape[0])\n",
    "    \n",
    "    magnitude = lambda x: int(np.floor(np.log10(x)))\n",
    "    \n",
    "    def update(ar=0.0, br=0.0, ap=0., bp=0., Nrt=500, **kwargs):\n",
    "        #kwargs.update({parname: Ldeg+dl*1e-1})\n",
    "        elements = cavfct(**kwargs)\n",
    "        sys = RaySystem(elements)\n",
    "        system = sys.abcd\n",
    "        mu1, mu2 = system.q\n",
    "        waist = system.waist_at(0)[0] #fix for now since waist is not at 0 anymore!\n",
    "        rmu1 = np.linalg.norm(np.real(mu1[:2]))\n",
    "        rmu2 = np.linalg.norm(np.real(mu2[:2]))\n",
    "        mu = np.real(ar*waist/rmu1*mu1*np.exp(1j*ap) + br*waist/rmu2*mu2*np.exp(1j*bp))\n",
    "        \n",
    "        ray0 = sys.screen.eigenvectors_to_rays(mu)\n",
    " \n",
    "        traj_hit = sys.propagate(ray0, Nrt=Nrt, at_screen=True)\n",
    "        hit_scr = sys.screen.r_to_screen_coords(traj_hit[:,0,0,:])\n",
    "        hit_scrs = sys.screen.s_to_screen_coords(traj_hit[:,1,0,:])\n",
    "\n",
    "        lines[0].set_offsets(hit_scr[:,:])\n",
    "        lines[0].set_array(makeidx(hit_scr))\n",
    "        lines[3].set_offsets(hit_scrs[:,:])\n",
    "        lines[3].set_array(makeidx(hit_scrs))\n",
    "        \n",
    "        hit_m = propagate_ABCD(mu, system.abcd_rt, Nrt=Nrt)\n",
    "        lines[1].set_offsets(hit_m[:,0:2])\n",
    "        lines[1].set_array(makeidx(hit_m))\n",
    "        lines[4].set_offsets(hit_m[:,2:])\n",
    "        lines[4].set_array(makeidx(hit_m))\n",
    "        \n",
    "        #abcd_fd = sys.extract_ABCD(epsr=1e-3, epss=1e-3, Nrt=1) \n",
    "        #hit_fd = propagate_ABCD(mu, abcd_fd, Nrt=Nrt)\n",
    "        #lines[2].set_offsets(hit_fd[:,0:2])\n",
    "        #lines[2].set_array(makeidx(hit_fd))\n",
    "        #lines[5].set_offsets(hit_fd[:,2:])\n",
    "        #lines[5].set_array(makeidx(hit_fd))\n",
    "        \n",
    "        for l in lines:\n",
    "            l.set_clim(vmin=0, vmax=Nrt)\n",
    "            \n",
    "        ax[0,0].set_xlim(1.5*np.nanmin(hit_scr[:,0]), 1.5*np.nanmax(hit_scr[:,0]))\n",
    "        ax[0,0].set_ylim(1.5*np.nanmin(hit_scr[:,1]), 1.5*np.nanmax(hit_scr[:,1]))\n",
    "        ax[1,0].set_xlim(1.5*np.nanmin(hit_scrs[:,0]), 1.5*np.nanmax(hit_scrs[:,0]))\n",
    "        ax[1,0].set_ylim(1.5*np.nanmin(hit_scrs[:,1]), 1.5*np.nanmax(hit_scrs[:,1]))\n",
    "        fig.canvas.draw_idle()\n",
    "\n",
    "    lo = Layout(width='80%', height='30px')\n",
    "\n",
    "    sliders = {v.name: FloatSlider(value=v.default, min=v.default*0.5, max=v.default*1.5, step=10**(magnitude(v.default)-2), readout_format='.2e', layout=lo) for v in inspect.signature(cavfct).parameters.values()}\n",
    "    ars = FloatSlider(value=0., min=0., max=6., step=1e-2, readout_format='.3f', layout=lo)\n",
    "    brs = FloatSlider(value=0.1, min=0., max=6., step=1e-2, readout_format='.3f', layout=lo)\n",
    "    aps = FloatSlider(value=0.1, min=0., max=1*np.pi, step=1e-2, readout_format='.3f', layout=lo)\n",
    "    bps = FloatSlider(value=0., min=0., max=1*np.pi, step=1e-2, readout_format='.3f', layout=lo)\n",
    "    Nrts = IntSlider(value=100, min=100, max=2000, step=100, layout=lo)\n",
    "    raysliders = {'ar': ars, 'br': brs, 'ap': aps, 'bp': bps, 'Nrt': Nrts}\n",
    "    sliders.update(**raysliders)\n",
    "    return interactive(update, **sliders)"
   ]
  },
  {
   "cell_type": "code",
   "execution_count": 91,
   "metadata": {},
   "outputs": [
    {
     "name": "stderr",
     "output_type": "stream",
     "text": [
      "c:\\users\\lukas\\box\\lukas\\03_theory\\abcd\\sloppy\\src\\sloppy\\tools.py:121: RuntimeWarning: More than 20 figures have been opened. Figures created through the pyplot interface (`matplotlib.pyplot.figure`) are retained until explicitly closed and may consume too much memory. (To control this warning, see the rcParam `figure.max_open_warning`).\n",
      "  fig, ax = plt.subplots(ncols=3, nrows=2, figsize=(11,6.6), sharex='row', sharey='row')\n"
     ]
    },
    {
     "data": {
      "application/vnd.jupyter.widget-view+json": {
       "model_id": "3693bd0edfee4967947ae00377174eb3",
       "version_major": 2,
       "version_minor": 0
      },
      "text/plain": [
       "Canvas(toolbar=Toolbar(toolitems=[('Home', 'Reset original view', 'home', 'home'), ('Back', 'Back to previous …"
      ]
     },
     "metadata": {},
     "output_type": "display_data"
    },
    {
     "data": {
      "application/vnd.jupyter.widget-view+json": {
       "model_id": "9f697e4633ec41f69fa083e38dc9664b",
       "version_major": 2,
       "version_minor": 0
      },
      "text/plain": [
       "interactive(children=(FloatSlider(value=0.1, description='ar', layout=Layout(height='30px', width='80%'), max=…"
      ]
     },
     "metadata": {},
     "output_type": "display_data"
    }
   ],
   "source": [
    "rays_interaction_factory(LensCavAsphere, 'lens_dist', rmax=10.)"
   ]
  },
  {
   "cell_type": "code",
   "execution_count": 25,
   "metadata": {},
   "outputs": [
    {
     "name": "stdout",
     "output_type": "stream",
     "text": [
      "     fun: 152378.3900458578\n",
      " message: 'Solution found.'\n",
      "    nfev: 6\n",
      "  status: 0\n",
      " success: True\n",
      "       x: 24.470976400936046\n"
     ]
    }
   ],
   "source": [
    "cavfct = LensCavAsphere\n",
    "parname = 'lens_dist'\n",
    "res = degeneracy_length(cavfct, parname, 1e-3)\n",
    "Ldeg = res.x\n",
    "print(res)\n",
    "elements = cavfct(**{parname: Ldeg})\n",
    "sys = RaySystem(elements)\n",
    "system = sys.abcd\n",
    "mu1, mu2 = system.q"
   ]
  },
  {
   "cell_type": "code",
   "execution_count": 26,
   "metadata": {},
   "outputs": [],
   "source": [
    "br = 0.01\n",
    "mu = np.real(br*mu1)\n",
    "ray0 = sys.screen.eigenvectors_to_rays(mu)\n",
    "\n",
    "traj_hit = sys.propagate(ray0, Nrt=30, at_screen=True)\n",
    "hit_scr = sys.screen.r_to_screen_coords(traj_hit[:,0,0,:])"
   ]
  },
  {
   "cell_type": "code",
   "execution_count": 28,
   "metadata": {},
   "outputs": [
    {
     "data": {
      "application/vnd.jupyter.widget-view+json": {
       "model_id": "0197d873a16d4913acc2cbdac0505c46",
       "version_major": 2,
       "version_minor": 0
      },
      "text/plain": [
       "Canvas(toolbar=Toolbar(toolitems=[('Home', 'Reset original view', 'home', 'home'), ('Back', 'Back to previous …"
      ]
     },
     "metadata": {},
     "output_type": "display_data"
    }
   ],
   "source": [
    "def makeidx(hit_m):\n",
    "    return np.arange(hit_m.shape[0])\n",
    "plt.figure()\n",
    "hit_1 = hit_scr[::3,:]\n",
    "plt.scatter(hit_1[:,0], hit_1[:,1], c=makeidx(hit_1), cmap='jet')\n",
    "plt.show()"
   ]
  },
  {
   "cell_type": "code",
   "execution_count": 29,
   "metadata": {},
   "outputs": [
    {
     "data": {
      "text/plain": [
       "(11, 2)"
      ]
     },
     "execution_count": 29,
     "metadata": {},
     "output_type": "execute_result"
    }
   ],
   "source": [
    "hit_1.shape"
   ]
  },
  {
   "cell_type": "code",
   "execution_count": 33,
   "metadata": {},
   "outputs": [
    {
     "data": {
      "text/plain": [
       "0.0002820268985573365"
      ]
     },
     "execution_count": 33,
     "metadata": {},
     "output_type": "execute_result"
    }
   ],
   "source": [
    "np.abs(hit_1[1:,0]-hit_1[:-1,0]).sum() + np.abs(hit_1[1:,1]-hit_1[:-1,1]).sum()"
   ]
  },
  {
   "cell_type": "code",
   "execution_count": 36,
   "metadata": {},
   "outputs": [
    {
     "data": {
      "text/plain": [
       "0.0002003532896521826"
      ]
     },
     "execution_count": 36,
     "metadata": {},
     "output_type": "execute_result"
    }
   ],
   "source": [
    "np.linalg.norm(hit_1[1:,:]-hit_1[:-1,:], axis=1).sum()"
   ]
  },
  {
   "cell_type": "code",
   "execution_count": 37,
   "metadata": {},
   "outputs": [
    {
     "data": {
      "text/plain": [
       "2.963103151171133e-08"
      ]
     },
     "execution_count": 37,
     "metadata": {},
     "output_type": "execute_result"
    }
   ],
   "source": [
    "np.var(hit_1, axis=0).sum()"
   ]
  },
  {
   "cell_type": "code",
   "execution_count": 16,
   "metadata": {},
   "outputs": [],
   "source": [
    "rs = np.linspace(0,0.2, 50)\n",
    "distsin = np.zeros_like(rs)\n",
    "devs = np.zeros_like(rs)\n",
    "for i, r in enumerate(rs):\n",
    "    mu = np.real(r*mu2)\n",
    "    distsin[i] = np.linalg.norm(mu[:2])\n",
    "    ray0 = sys.screen.eigenvectors_to_rays(mu)\n",
    "    traj_hit = sys.propagate(ray0, Nrt=30, at_screen=True)\n",
    "    hit_scr = sys.screen.r_to_screen_coords(traj_hit[:,0,0,:])\n",
    "    hit_1 = hit_scr[::3,:]\n",
    "    devs[i] = np.var(hit_1, axis=0).sum()"
   ]
  },
  {
   "cell_type": "code",
   "execution_count": 17,
   "metadata": {},
   "outputs": [
    {
     "data": {
      "application/vnd.jupyter.widget-view+json": {
       "model_id": "36b3bf61a3db4f78bf0c03d9f323fd3e",
       "version_major": 2,
       "version_minor": 0
      },
      "text/plain": [
       "Canvas(toolbar=Toolbar(toolitems=[('Home', 'Reset original view', 'home', 'home'), ('Back', 'Back to previous …"
      ]
     },
     "metadata": {},
     "output_type": "display_data"
    }
   ],
   "source": [
    "plt.figure()\n",
    "plt.plot(distsin, devs)\n",
    "plt.show()"
   ]
  },
  {
   "cell_type": "code",
   "execution_count": 94,
   "metadata": {},
   "outputs": [],
   "source": []
  },
  {
   "cell_type": "code",
   "execution_count": 51,
   "metadata": {},
   "outputs": [],
   "source": [
    "def degeneracy_length_ray(cavfct, parname, r=0, scanrange=1e-3, La=None, **kwargs):\n",
    "    def get_dev(l, r, arg):\n",
    "        kwargs=arg.copy()\n",
    "        kwargs.update({parname: l})\n",
    "        elements = cavfct(**kwargs)\n",
    "        sys = RaySystem(elements)\n",
    "        system = sys.abcd\n",
    "        mu1, mu2 = system.q\n",
    "        waist = system.waist_at(0)[0] #FIX\n",
    "        rmu = np.linalg.norm(np.real(mu1[:2]))\n",
    "        mu = np.real(r*waist/rmu*mu1)#np.real(r*mu2)\n",
    "        ray0 = sys.screen.eigenvectors_to_rays(mu)\n",
    "        traj_hit = sys.propagate(ray0, Nrt=30, at_screen=True)\n",
    "        hit_scr = sys.screen.r_to_screen_coords(traj_hit[:,0,0,:])\n",
    "        hit_1 = hit_scr[::3,:]\n",
    "        hit_2 = hit_scr[1::3,:]\n",
    "        hit_3 = hit_scr[2::3,:]\n",
    "        #return np.var(hit_1, axis=0).sum()\n",
    "        dev = np.linalg.norm(hit_1[1:,:]-hit_1[:-1,:], axis=1).sum() + np.linalg.norm(hit_2[1:,:]-hit_2[:-1,:], axis=1).sum() + np.linalg.norm(hit_3[1:,:]-hit_3[:-1,:], axis=1).sum()\n",
    "        return dev\n",
    "    if La is None:\n",
    "        La = inspect.signature(cavfct).parameters[parname].default\n",
    "    extrargs = kwargs.copy()\n",
    "    #extrargs.pop(parname)\n",
    "    #extrargs.update({'r': r})\n",
    "    res = minimize_scalar(get_dev, bounds=((1-scanrange)*La, (1+scanrange)*La), args=(r, extrargs), method='bounded')\n",
    "    return res"
   ]
  },
  {
   "cell_type": "code",
   "execution_count": 56,
   "metadata": {},
   "outputs": [
    {
     "data": {
      "text/plain": [
       "     fun: 8.920091017142676e-08\n",
       " message: 'Solution found.'\n",
       "    nfev: 14\n",
       "  status: 0\n",
       " success: True\n",
       "       x: 24.470980523601714"
      ]
     },
     "execution_count": 56,
     "metadata": {},
     "output_type": "execute_result"
    }
   ],
   "source": [
    "degeneracy_length_ray(cavfct, parname, r=0.1, scanrange=1e-2, c4=2.9e-4, c6=1e-5)"
   ]
  },
  {
   "cell_type": "code",
   "execution_count": 87,
   "metadata": {},
   "outputs": [],
   "source": [
    "rs = np.linspace(np.finfo(np.float32).resolution,8., 100)\n",
    "Ls = np.zeros_like(rs)\n",
    "lcur = Ldeg\n",
    "for i, r in enumerate(rs):\n",
    "    try:\n",
    "        l = degeneracy_length_ray(cavfct, parname, r=r, scanrange=1e-1, La=lcur, c4=3.02e-4, c6=1.97e-6).x\n",
    "    except:\n",
    "        Ls[i] = np.nan\n",
    "    else:\n",
    "        Ls[i] = l\n",
    "        lcur = l"
   ]
  },
  {
   "cell_type": "code",
   "execution_count": 88,
   "metadata": {},
   "outputs": [
    {
     "data": {
      "text/plain": [
       "array([ 2.98732671e-09, -5.88683855e-08,  4.83483667e-07, -1.81820433e-06,\n",
       "       -3.92308550e-05, -1.10138071e-06,  2.44709769e+01])"
      ]
     },
     "execution_count": 88,
     "metadata": {},
     "output_type": "execute_result"
    }
   ],
   "source": [
    "idx = np.where(rs>7.)[0][0] #only for up to\n",
    "coef = np.polyfit(rs[:idx], Ls[:idx], deg=6)\n",
    "coef"
   ]
  },
  {
   "cell_type": "code",
   "execution_count": 89,
   "metadata": {},
   "outputs": [
    {
     "name": "stderr",
     "output_type": "stream",
     "text": [
      "C:\\ProgramData\\Anaconda3\\lib\\site-packages\\ipykernel_launcher.py:1: RuntimeWarning: More than 20 figures have been opened. Figures created through the pyplot interface (`matplotlib.pyplot.figure`) are retained until explicitly closed and may consume too much memory. (To control this warning, see the rcParam `figure.max_open_warning`).\n",
      "  \"\"\"Entry point for launching an IPython kernel.\n"
     ]
    },
    {
     "data": {
      "application/vnd.jupyter.widget-view+json": {
       "model_id": "a59dc4d581cf4f368e4daf0c21479703",
       "version_major": 2,
       "version_minor": 0
      },
      "text/plain": [
       "Canvas(toolbar=Toolbar(toolitems=[('Home', 'Reset original view', 'home', 'home'), ('Back', 'Back to previous …"
      ]
     },
     "metadata": {},
     "output_type": "display_data"
    }
   ],
   "source": [
    "plt.figure()\n",
    "plt.plot(rs, Ls)\n",
    "plt.title('Degeneracy length vs radius')\n",
    "plt.xlabel(r'$r_{in}$ [waists]')\n",
    "plt.ylabel(r'$L_{deg}$ [mm]')\n",
    "plt.axhline(Ldeg, color='grey')\n",
    "plt.plot(rs, np.polyval(coef, rs), '--')\n",
    "plt.plot(rs, np.polyval(coef[4:], rs), '-.')\n",
    "plt.show()"
   ]
  },
  {
   "cell_type": "code",
   "execution_count": 76,
   "metadata": {},
   "outputs": [],
   "source": [
    "magnitude = lambda x: int(np.floor(np.log10(x)))"
   ]
  },
  {
   "cell_type": "code",
   "execution_count": 117,
   "metadata": {},
   "outputs": [
    {
     "data": {
      "application/vnd.jupyter.widget-view+json": {
       "model_id": "e20b68d0e9ba45c680c4388046795067",
       "version_major": 2,
       "version_minor": 0
      },
      "text/plain": [
       "Canvas(toolbar=Toolbar(toolitems=[('Home', 'Reset original view', 'home', 'home'), ('Back', 'Back to previous …"
      ]
     },
     "metadata": {},
     "output_type": "display_data"
    },
    {
     "name": "stdout",
     "output_type": "stream",
     "text": [
      "{'c4': -3, 'c6': -5, 'c8': -7}\n"
     ]
    },
    {
     "data": {
      "application/vnd.jupyter.widget-view+json": {
       "model_id": "c8d5587d1c9c4931a2b8700822abe9d0",
       "version_major": 2,
       "version_minor": 0
      },
      "text/plain": [
       "interactive(children=(FloatSlider(value=1.0, description='c4', layout=Layout(height='30px', width='80%'), max=…"
      ]
     },
     "metadata": {},
     "output_type": "display_data"
    }
   ],
   "source": [
    "cavfct = LensCavAsphere\n",
    "def get_dev(r, **kwargs):\n",
    "    elements = cavfct(**kwargs)\n",
    "    sys = RaySystem(elements)\n",
    "    system = sys.abcd\n",
    "    mu1, mu2 = system.q\n",
    "    waist = system.waist_at(0)[0] #FIX\n",
    "    rmu = np.linalg.norm(np.real(mu1[:2]))\n",
    "    mu = np.real(r*waist/rmu*mu1)#np.real(r*mu2)\n",
    "    ray0 = sys.screen.eigenvectors_to_rays(mu)\n",
    "    traj_hit = sys.propagate(ray0, Nrt=300, at_screen=True)\n",
    "    hit_scr = sys.screen.r_to_screen_coords(traj_hit[:,0,0,:])\n",
    "    hit_1 = hit_scr[::3,:]\n",
    "    hit_2 = hit_scr[1::3,:]\n",
    "    hit_3 = hit_scr[2::3,:]\n",
    "    #return np.var(hit_1, axis=0).sum()\n",
    "    dev = np.linalg.norm(hit_1[1:,:]-hit_1[:-1,:], axis=1).sum() + np.linalg.norm(hit_2[1:,:]-hit_2[:-1,:], axis=1).sum() + np.linalg.norm(hit_3[1:,:]-hit_3[:-1,:], axis=1).sum()\n",
    "    return dev\n",
    "\n",
    "fig, ax = plt.subplots()\n",
    "line = ax.plot([], [])[0]\n",
    "plt.title('Deviation vs radius')\n",
    "plt.xlabel(r'$r_{in}$ [waists]')\n",
    "plt.ylabel(r'$dev$ [mm]')\n",
    "plt.show()\n",
    "\n",
    "def update(scalings, **kwargs):\n",
    "    rs = np.linspace(np.finfo(np.float32).resolution,12., 100)\n",
    "    Ls = np.zeros_like(rs)\n",
    "    \n",
    "    scargs = {}\n",
    "    for k, v in kwargs.items():\n",
    "        scargs[k] = v*10**scalings[k]\n",
    "    \n",
    "    for i, r in enumerate(rs):\n",
    "        try:\n",
    "            d = get_dev(r=r, **scargs)\n",
    "        except:\n",
    "            Ls[i] = np.nan\n",
    "        else:\n",
    "            Ls[i] = d\n",
    "    line.set_xdata(rs)\n",
    "    line.set_ydata(Ls)\n",
    "    ax.set_xlim(rs[0], rs[-1])\n",
    "    ax.set_ylim(1.1*np.nanmin(Ls), 1.1*np.nanmax(Ls))\n",
    "    fig.canvas.draw_idle()\n",
    "    \n",
    "lo = Layout(width='80%', height='30px')\n",
    "coefpars = {'c4': coeffc4(5.0), 'c6': coeffc6(5.0), 'c8': coeffc8(5.0)}\n",
    "sliders = {}\n",
    "scalings = {}\n",
    "for k, v in coefpars.items():\n",
    "    vs = v*10**(-magnitude(v))\n",
    "    scalings[k] = magnitude(v)\n",
    "    sliders[k] = FloatSlider(value=vs, min=-1.2*vs, max=1.2*vs, step=1e-3, readout_format='.3e', layout=lo)\n",
    "\n",
    "print(scalings)\n",
    "interactive(update, scalings=fixed(scalings), **sliders)"
   ]
  },
  {
   "cell_type": "code",
   "execution_count": 119,
   "metadata": {},
   "outputs": [],
   "source": [
    "def deviation_tot(x):\n",
    "    rs = np.linspace(np.finfo(np.float32).resolution,8., 50)\n",
    "    Ls = np.zeros_like(rs)\n",
    "        \n",
    "    for i, r in enumerate(rs):\n",
    "        try:\n",
    "            d = get_dev(r=r, c4=x[0], c6=x[1], c8=x[2])\n",
    "        except:\n",
    "            Ls[i] = np.nan\n",
    "        else:\n",
    "            Ls[i] = d\n",
    "    return np.abs(np.nansum(Ls))"
   ]
  },
  {
   "cell_type": "code",
   "execution_count": 113,
   "metadata": {},
   "outputs": [
    {
     "data": {
      "text/plain": [
       "6.172936758072929"
      ]
     },
     "execution_count": 113,
     "metadata": {},
     "output_type": "execute_result"
    }
   ],
   "source": [
    "deviation_tot([3.02e-4, 1.97e-6, 5e-7])"
   ]
  },
  {
   "cell_type": "code",
   "execution_count": 120,
   "metadata": {},
   "outputs": [
    {
     "data": {
      "text/plain": [
       "      fun: 5.800534762034565\n",
       " hess_inv: array([[ 1.07319174e-09, -1.35302795e-09,  4.32287762e-10],\n",
       "       [-1.35302798e-09,  1.91213283e-09, -6.50931507e-10],\n",
       "       [ 4.32287783e-10, -6.50931507e-10,  2.30625364e-10]])\n",
       "      jac: array([-31.87669754,  11.53872949,  94.0566926 ])\n",
       "  message: 'Desired error not necessarily achieved due to precision loss.'\n",
       "     nfev: 447\n",
       "      nit: 5\n",
       "     njev: 87\n",
       "   status: 2\n",
       "  success: False\n",
       "        x: array([ 3.06671969e-04, -6.53668527e-06,  2.45530852e-06])"
      ]
     },
     "execution_count": 120,
     "metadata": {},
     "output_type": "execute_result"
    }
   ],
   "source": [
    "res = minimize(deviation_tot, x0=[3.02e-4, -1.2e-6, 5e-7])\n",
    "res"
   ]
  },
  {
   "cell_type": "code",
   "execution_count": 122,
   "metadata": {},
   "outputs": [],
   "source": [
    "from scipy.optimize import differential_evolution"
   ]
  },
  {
   "cell_type": "code",
   "execution_count": 123,
   "metadata": {},
   "outputs": [
    {
     "data": {
      "text/plain": [
       "     fun: 5.807045234514024\n",
       "     jac: array([   63.55558391,   255.8605372 , -6085.85530655])\n",
       " message: 'Optimization terminated successfully.'\n",
       "    nfev: 923\n",
       "     nit: 14\n",
       " success: True\n",
       "       x: array([ 3.03930760e-04, -2.38444797e-06,  9.81242561e-07])"
      ]
     },
     "execution_count": 123,
     "metadata": {},
     "output_type": "execute_result"
    }
   ],
   "source": [
    "c4, c6, c8 = coeffc4(5.0), coeffc6(5.0), coeffc8(5.0)\n",
    "bounds = [(-2*c4,2*c4), (-2*c6,2*c6), (-2*c8,2*c8)]\n",
    "res2 = differential_evolution(deviation_tot, bounds)\n",
    "res2"
   ]
  },
  {
   "cell_type": "code",
   "execution_count": 124,
   "metadata": {},
   "outputs": [],
   "source": [
    "def plot_cs(**kwargs):\n",
    "    rs = np.linspace(np.finfo(np.float32).resolution,12., 100)\n",
    "    Ls = np.zeros_like(rs)\n",
    "    \n",
    "    scargs = {}\n",
    "    for k, v in kwargs.items():\n",
    "        scargs[k] = v*10**scalings[k]\n",
    "    \n",
    "    for i, r in enumerate(rs):\n",
    "        try:\n",
    "            d = get_dev(r=r, **scargs)\n",
    "        except:\n",
    "            Ls[i] = np.nan\n",
    "        else:\n",
    "            Ls[i] = d\n",
    "    fig, ax = plt.subplots()\n",
    "    line = ax.plot(rs, Ls)[0]\n",
    "    plt.title('Deviation vs radius')\n",
    "    plt.xlabel(r'$r_{in}$ [waists]')\n",
    "    plt.ylabel(r'$dev$ [mm]')\n",
    "    plt.show()"
   ]
  },
  {
   "cell_type": "code",
   "execution_count": 125,
   "metadata": {},
   "outputs": [
    {
     "data": {
      "application/vnd.jupyter.widget-view+json": {
       "model_id": "c1b484f040c3494c92b76a61f30bb273",
       "version_major": 2,
       "version_minor": 0
      },
      "text/plain": [
       "Canvas(toolbar=Toolbar(toolitems=[('Home', 'Reset original view', 'home', 'home'), ('Back', 'Back to previous …"
      ]
     },
     "metadata": {},
     "output_type": "display_data"
    }
   ],
   "source": [
    "plot_cs(c4=3.03930760e-04, c6=-2.38444797e-06,  c8=9.81242561e-07)"
   ]
  },
  {
   "cell_type": "code",
   "execution_count": 61,
   "metadata": {},
   "outputs": [],
   "source": [
    "%load_ext snakeviz"
   ]
  },
  {
   "cell_type": "code",
   "execution_count": 63,
   "metadata": {},
   "outputs": [],
   "source": [
    "#%snakeviz degeneracy_length_ray(cavfct, parname, r=3.1, scanrange=1e-2, c4=2.9e-4, c6=1e-5)"
   ]
  },
  {
   "cell_type": "code",
   "execution_count": null,
   "metadata": {},
   "outputs": [],
   "source": [
    "plt.figure()\n",
    "plt.plot(rs, Ls)\n",
    "plt.title('Degeneracy length vs radius')\n",
    "plt.xlabel(r'$r_{in}$ [waists]')\n",
    "plt.ylabel(r'$L_{deg}$ [mm]')\n",
    "plt.axhline(Ldeg, color='grey')\n",
    "plt.plot(rs, np.polyval(coef, rs), '--')\n",
    "plt.plot(rs, np.polyval(coef[4:], rs), '-.')\n",
    "plt.show()\n",
    "\n",
    "def update():\n",
    "    rs = np.linspace(np.finfo(np.float32).resolution,8., 100)\n",
    "    Ls = np.zeros_like(rs)\n",
    "    lcur = Ldeg\n",
    "    for i, r in enumerate(rs):\n",
    "        try:\n",
    "            l = degeneracy_length_ray(cavfct, parname, r=r, scanrange=1e-2, La=lcur, c4=2.9e-4, c6=1e-5).x\n",
    "        except:\n",
    "            Ls[i] = np.nan\n",
    "        else:\n",
    "            Ls[i] = l\n",
    "            lcur = l\n",
    "    idx = np.where(rs>7.)[0][0] #only for up to\n",
    "    coef = np.polyfit(rs[:idx], Ls[:idx], deg=6)\n",
    "    \n",
    "        ars = FloatSlider(value=0.1, min=0., max=6., step=1e-2, readout_format='.3f', layout=lo)\n",
    "    brs = FloatSlider(value=0.1, min=0., max=6., step=1e-2, readout_format='.3f', layout=lo)"
   ]
  },
  {
   "cell_type": "code",
   "execution_count": null,
   "metadata": {},
   "outputs": [],
   "source": []
  },
  {
   "cell_type": "code",
   "execution_count": 21,
   "metadata": {},
   "outputs": [],
   "source": [
    "def degeneracy_par_ray(cavfct, parname, r=0, scanrange=1e-3, p0=None):\n",
    "    def get_dev(p, r):\n",
    "        elements = cavfct(**{parname: p})\n",
    "        sys = RaySystem(elements)\n",
    "        system = sys.abcd\n",
    "        mu1, mu2 = system.q\n",
    "        waist = waist0 #system.waist_at(0)[0] FIX\n",
    "        rmu = np.linalg.norm(np.real(mu2[:2]))\n",
    "        mu = np.real(r*waist/rmu*mu2)#np.real(r*mu2)\n",
    "        ray0 = sys.screen.eigenvectors_to_rays(mu)\n",
    "        traj_hit = sys.propagate(ray0, Nrt=30, at_screen=True)\n",
    "        hit_scr = sys.screen.r_to_screen_coords(traj_hit[:,0,0,:])\n",
    "        hit_1 = hit_scr[::3,:]\n",
    "        return np.var(hit_1, axis=0).sum()\n",
    "    if p0 is None:\n",
    "        p0 = inspect.signature(cavfct).parameters[parname].default\n",
    "    if not isinstance(scanrange, tuple):\n",
    "        scanrange = ((1-scanrange)*p0, (1+scanrange)*p0)\n",
    "    res = minimize_scalar(get_dev, bounds=scanrange, args=(r), method='bounded')\n",
    "    return res"
   ]
  },
  {
   "cell_type": "code",
   "execution_count": 22,
   "metadata": {},
   "outputs": [],
   "source": [
    "rs = np.linspace(np.finfo(np.float32).resolution,8., 100)\n",
    "Ps = np.zeros_like(rs)\n",
    "pcur = 0.\n",
    "for i, r in enumerate(rs):\n",
    "    try:\n",
    "        p = degeneracy_par_ray(cavfct, 'c4', r=r, scanrange=(0., 1e-2), p0=pcur).x\n",
    "    except:\n",
    "        Ps[i] = np.nan\n",
    "    else:\n",
    "        Ps[i] = p\n",
    "        #pcur = p"
   ]
  },
  {
   "cell_type": "code",
   "execution_count": 23,
   "metadata": {},
   "outputs": [
    {
     "data": {
      "application/vnd.jupyter.widget-view+json": {
       "model_id": "cf0427125aa44f7ebde177a8929c97fb",
       "version_major": 2,
       "version_minor": 0
      },
      "text/plain": [
       "Canvas(toolbar=Toolbar(toolitems=[('Home', 'Reset original view', 'home', 'home'), ('Back', 'Back to previous …"
      ]
     },
     "metadata": {},
     "output_type": "display_data"
    }
   ],
   "source": [
    "plt.figure()\n",
    "plt.plot(rs, Ps)\n",
    "plt.title('Optimal C4 coefficient vs radius')\n",
    "plt.xlabel(r'$r_{in}$ [waists]')\n",
    "plt.ylabel(r'$L_{deg}$ [mm]')\n",
    "#plt.axhline(Ldeg, color='grey')\n",
    "#plt.plot(rs, np.polyval(coef, rs), '--')\n",
    "plt.show()"
   ]
  },
  {
   "cell_type": "code",
   "execution_count": 24,
   "metadata": {
    "jupyter": {
     "source_hidden": true
    }
   },
   "outputs": [],
   "source": [
    "def plot_config(l=0., ar=0.0, br=0.0, ap=0., bp=0., Nrt=500, ms = 8., **kwargs):\n",
    "        fig, (ax, bx, cx) = plt.subplots(ncols=3, figsize=(11,3.3), sharex=True, sharey=True)\n",
    "        linea = ax.scatter([], [], c=[], cmap='jet', s=ms)\n",
    "        linec = cx.scatter([], [], c=[], cmap='jet', s=ms)\n",
    "        lineb = bx.scatter([], [], c=[], cmap='jet', s=ms)\n",
    "        ax.set_title('Raytracing')\n",
    "        bx.set_title('ABCD')\n",
    "        cx.set_title('ABCD (Extracted)')\n",
    "        plt.xlabel('x [mm]')\n",
    "        plt.ylabel('y [mm]')\n",
    "        kwargs.update({parname: l})\n",
    "        elements = cavfct(**kwargs)\n",
    "        sys = RaySystem(elements)\n",
    "        system = sys.abcd\n",
    "        mu1, mu2 = system.q\n",
    "        waist = system.waist_at(0)[0]\n",
    "        rmu1 = np.linalg.norm(np.real(mu1[:2]))\n",
    "        rmu2 = np.linalg.norm(np.real(mu2[:2]))\n",
    "        mu = np.real(ar*waist/rmu1*mu1*np.exp(1j*ap) + br*waist/rmu2*mu2*np.exp(1j*bp))\n",
    "        ray0 = sys.screen.eigenvectors_to_rays(mu)\n",
    " \n",
    "        traj_hit = sys.propagate(ray0, Nrt=Nrt, at_screen=True)\n",
    "        hit_scr = sys.screen.r_to_screen_coords(traj_hit[:,0,0,:])\n",
    "\n",
    "        linea.set_offsets(hit_scr[:,:])\n",
    "        linea.set_array(makeidx(hit_scr))\n",
    "        \n",
    "        hit_m = propagate_ABCD(mu, system.abcd_rt, Nrt=Nrt)\n",
    "        lineb.set_offsets(hit_m[:,0:2])\n",
    "        lineb.set_array(makeidx(hit_m))\n",
    "        \n",
    "        #abcd_fd = sys.extract_ABCD(epsr=1e-4, epss=1e-4, Nrt=1) \n",
    "        #hit_fd = propagate_ABCD(mu, abcd_fd, Nrt=Nrt)\n",
    "        #linec.set_offsets(hit_fd[:,0:2])\n",
    "        #linec.set_array(makeidx(hit_fd))\n",
    "        \n",
    "        linea.set_clim(vmin=0, vmax=Nrt)\n",
    "        lineb.set_clim(vmin=0, vmax=Nrt)\n",
    "        linec.set_clim(vmin=0, vmax=Nrt)\n",
    "            \n",
    "        ax.set_xlim(1.5*np.nanmin(hit_scr[:,0]), 1.5*np.nanmax(hit_scr[:,0]))\n",
    "        ax.set_ylim(1.5*np.nanmin(hit_scr[:,1]), 1.5*np.nanmax(hit_scr[:,1]))\n",
    "        return fig"
   ]
  },
  {
   "cell_type": "code",
   "execution_count": 26,
   "metadata": {},
   "outputs": [
    {
     "data": {
      "application/vnd.jupyter.widget-view+json": {
       "model_id": "df87c384669e43d484bdb8832acd0e2b",
       "version_major": 2,
       "version_minor": 0
      },
      "text/plain": [
       "Canvas(toolbar=Toolbar(toolitems=[('Home', 'Reset original view', 'home', 'home'), ('Back', 'Back to previous …"
      ]
     },
     "metadata": {},
     "output_type": "display_data"
    }
   ],
   "source": [
    "rw = 5.\n",
    "interp=True\n",
    "if interp:\n",
    "    lw = np.polyval(coef, rw)\n",
    "else:\n",
    "    idx = np.where(rs>rw)[0][0]\n",
    "    lw = Ls[idx]\n",
    "    rw = rs[idx]\n",
    "f = plot_config(l=lw, br=rw, Nrt=500, ms=4, c4=0.416e-2)\n",
    "f.show()"
   ]
  },
  {
   "cell_type": "code",
   "execution_count": 117,
   "metadata": {},
   "outputs": [],
   "source": [
    "plt.close(\"all\")"
   ]
  },
  {
   "cell_type": "markdown",
   "metadata": {},
   "source": [
    "## Eigenray"
   ]
  },
  {
   "cell_type": "code",
   "execution_count": 65,
   "metadata": {},
   "outputs": [],
   "source": [
    "def plot_config_ray(mu, l=0., Nrt=500, ms = 8., **kwargs):\n",
    "        fig, (ax, bx, cx) = plt.subplots(ncols=3, figsize=(11,3.3), sharex=True, sharey=True)\n",
    "        linea = ax.scatter([], [], c=[], cmap='jet', s=ms)\n",
    "        linec = cx.scatter([], [], c=[], cmap='jet', s=ms)\n",
    "        lineb = bx.scatter([], [], c=[], cmap='jet', s=ms)\n",
    "        ax.set_title('Raytracing')\n",
    "        bx.set_title('ABCD')\n",
    "        cx.set_title('ABCD (Extracted)')\n",
    "        plt.xlabel('x [mm]')\n",
    "        plt.ylabel('y [mm]')\n",
    "        elements = cavfct(**{parname: l})\n",
    "        sys = RaySystem(elements)\n",
    "        ray0 = sys.screen.eigenvectors_to_rays(mu)\n",
    "\n",
    "        traj_hit = sys.propagate(ray0, Nrt=Nrt, at_screen=True)\n",
    "        hit_scr = sys.screen.r_to_screen_coords(traj_hit[:,0,0,:])\n",
    "\n",
    "        linea.set_offsets(hit_scr[:,:])\n",
    "        linea.set_array(makeidx(hit_scr))\n",
    "        \n",
    "        hit_m = propagate_ABCD(mu, system.abcd_rt, Nrt=Nrt)\n",
    "        lineb.set_offsets(hit_m[:,0:2])\n",
    "        lineb.set_array(makeidx(hit_m))\n",
    "        \n",
    "        abcd_fd = sys.extract_ABCD(epsr=1e-4, epss=1e-4, Nrt=1) \n",
    "        hit_fd = propagate_ABCD(mu, abcd_fd, Nrt=Nrt)\n",
    "        linec.set_offsets(hit_fd[:,0:2])\n",
    "        linec.set_array(makeidx(hit_fd))\n",
    "        \n",
    "        linea.set_clim(vmin=0, vmax=Nrt)\n",
    "        lineb.set_clim(vmin=0, vmax=Nrt)\n",
    "        linec.set_clim(vmin=0, vmax=Nrt)\n",
    "            \n",
    "        ax.set_xlim(1.5*np.nanmin(hit_scr[:,0]), 1.5*np.nanmax(hit_scr[:,0]))\n",
    "        ax.set_ylim(1.5*np.nanmin(hit_scr[:,1]), 1.5*np.nanmax(hit_scr[:,1]))\n",
    "        return fig"
   ]
  },
  {
   "cell_type": "code",
   "execution_count": 74,
   "metadata": {},
   "outputs": [
    {
     "name": "stdout",
     "output_type": "stream",
     "text": [
      "Finished in 49 steps, reached tol 5.473e-05\n",
      "Finished in 49 steps, reached tol 2.166e-09\n",
      "Finished in 49 steps, reached tol 4.613e-08\n",
      "Finished in 49 steps, reached tol 3.327e-08\n",
      "Finished in 49 steps, reached tol 3.617e-08\n"
     ]
    },
    {
     "data": {
      "text/plain": [
       "array([[ 6.07047033e-05,  7.65926464e-05, -1.10603097e-04,\n",
       "        -3.29846840e-04]])"
      ]
     },
     "execution_count": 74,
     "metadata": {},
     "output_type": "execute_result"
    }
   ],
   "source": [
    "#mu = np.array([5e-3, 0., 0, 0])\n",
    "system = sys.abcd\n",
    "mu1, mu2 = system.q\n",
    "waist = system.waist_at(0)[0]\n",
    "rmu = np.linalg.norm(np.real(mu2[:2]))\n",
    "r = 5e-3\n",
    "mu = np.real(r*waist/rmu*mu2)\n",
    "ray0 = sys.screen.eigenvectors_to_rays(mu)\n",
    "lr = np.zeros((2, 1, 3))\n",
    "#lr[1,:,:] = 0.05\n",
    "lr = 0.05\n",
    "#reig = sys.find_eigenray(ray0, lr=lr, Nrt=30, debug=True)\n",
    "reig = sys.find_eigenray_mpe(ray0, lr=lr, Nrt=30, debug=True)\n",
    "mueig = sys.screen.rays_to_eigenvectors(reig)\n",
    "mueig"
   ]
  },
  {
   "cell_type": "code",
   "execution_count": 75,
   "metadata": {},
   "outputs": [
    {
     "name": "stderr",
     "output_type": "stream",
     "text": [
      "C:\\ProgramData\\Anaconda3\\lib\\site-packages\\ipykernel_launcher.py:2: RuntimeWarning: More than 20 figures have been opened. Figures created through the pyplot interface (`matplotlib.pyplot.figure`) are retained until explicitly closed and may consume too much memory. (To control this warning, see the rcParam `figure.max_open_warning`).\n",
      "  \n"
     ]
    },
    {
     "data": {
      "application/vnd.jupyter.widget-view+json": {
       "model_id": "be91039812c24aa0997bf83ed5672316",
       "version_major": 2,
       "version_minor": 0
      },
      "text/plain": [
       "Canvas(toolbar=Toolbar(toolitems=[('Home', 'Reset original view', 'home', 'home'), ('Back', 'Back to previous …"
      ]
     },
     "metadata": {},
     "output_type": "display_data"
    }
   ],
   "source": [
    "f = plot_config_ray(np.squeeze(mueig), Ldeg)\n",
    "f.show()"
   ]
  },
  {
   "cell_type": "code",
   "execution_count": 81,
   "metadata": {},
   "outputs": [],
   "source": [
    "def degeneracy_length_eigenray(cavfct, parname, r=0, scanrange=1e-3, La=None):\n",
    "    def get_dev(l, r):\n",
    "        elements = cavfct(**{parname: l})\n",
    "        sys = RaySystem(elements)\n",
    "        system = sys.abcd\n",
    "        mu1, mu2 = system.q\n",
    "        waist = system.waist_at(0)[0]\n",
    "        rmu = np.linalg.norm(np.real(mu2[:2]))\n",
    "        mu = np.real(r*waist/rmu*mu2)\n",
    "        ray0 = sys.screen.eigenvectors_to_rays(mu)\n",
    "        lr = 0.05\n",
    "        reig = sys.find_eigenray(ray0, lr=lr, Nrt=3, debug=False)\n",
    "        #reig = sys.find_eigenray_mpe(ray0, lr=lr, Nrt=30, debug=False)\n",
    "        mueig = sys.screen.rays_to_eigenvectors(reig)\n",
    "        \n",
    "        ray1 = sys.screen.eigenvectors_to_rays(mu)\n",
    "        traj_hit = sys.propagate(ray1, Nrt=30, at_screen=True)\n",
    "        hit_scr = sys.screen.r_to_screen_coords(traj_hit[:,0,0,:])\n",
    "        hit_1 = hit_scr[::3,:]\n",
    "        return np.var(hit_1, axis=0).sum()\n",
    "    if La is None:\n",
    "        La = inspect.signature(cavfct).parameters[parname].default\n",
    "    res = minimize_scalar(get_dev, bounds=((1-scanrange)*La, (1+scanrange)*La), args=(r,), method='bounded')\n",
    "    return res"
   ]
  },
  {
   "cell_type": "code",
   "execution_count": 82,
   "metadata": {},
   "outputs": [
    {
     "data": {
      "text/plain": [
       "     fun: 2.020474060964267e-08\n",
       " message: 'Solution found.'\n",
       "    nfev: 10\n",
       "  status: 0\n",
       " success: True\n",
       "       x: 21.506287396753475"
      ]
     },
     "execution_count": 82,
     "metadata": {},
     "output_type": "execute_result"
    }
   ],
   "source": [
    "degeneracy_length_eigenray(cavfct, parname, r=1e-3, scanrange=1e-3, La=Ldeg)"
   ]
  },
  {
   "cell_type": "code",
   "execution_count": 83,
   "metadata": {},
   "outputs": [],
   "source": [
    "rs = np.linspace(0,8., 100)\n",
    "Ls = np.zeros_like(rs)\n",
    "lcur = Ldeg\n",
    "for i, r in enumerate(rs):\n",
    "    try:\n",
    "        l = degeneracy_length_eigenray(cavfct, parname, r=r, scanrange=1e-2, La=lcur).x\n",
    "    except:\n",
    "        Ls[i] = np.nan\n",
    "    else:\n",
    "        Ls[i] = l\n",
    "        lcur = l"
   ]
  },
  {
   "cell_type": "code",
   "execution_count": 84,
   "metadata": {},
   "outputs": [
    {
     "data": {
      "text/plain": [
       "array([-2.43816029e-04,  2.60880858e-03, -2.34249747e-02,  1.36223586e-02,\n",
       "        2.15193646e+01])"
      ]
     },
     "execution_count": 84,
     "metadata": {},
     "output_type": "execute_result"
    }
   ],
   "source": [
    "idx = np.where(rs>5.)[0][0] #only for up to\n",
    "coef = np.polyfit(rs[:idx], Ls[:idx], deg=4)\n",
    "coef"
   ]
  },
  {
   "cell_type": "code",
   "execution_count": 85,
   "metadata": {},
   "outputs": [
    {
     "name": "stderr",
     "output_type": "stream",
     "text": [
      "C:\\ProgramData\\Anaconda3\\lib\\site-packages\\ipykernel_launcher.py:1: RuntimeWarning: More than 20 figures have been opened. Figures created through the pyplot interface (`matplotlib.pyplot.figure`) are retained until explicitly closed and may consume too much memory. (To control this warning, see the rcParam `figure.max_open_warning`).\n",
      "  \"\"\"Entry point for launching an IPython kernel.\n"
     ]
    },
    {
     "data": {
      "application/vnd.jupyter.widget-view+json": {
       "model_id": "609fa42e42b641dcba058733d986e136",
       "version_major": 2,
       "version_minor": 0
      },
      "text/plain": [
       "Canvas(toolbar=Toolbar(toolitems=[('Home', 'Reset original view', 'home', 'home'), ('Back', 'Back to previous …"
      ]
     },
     "metadata": {},
     "output_type": "display_data"
    }
   ],
   "source": [
    "plt.figure()\n",
    "plt.plot(rs, Ls)\n",
    "plt.title('Degeneracy length vs radius')\n",
    "plt.xlabel(r'$r_{in}$ [waists]')\n",
    "plt.ylabel(r'$L_{deg}$ [mm]')\n",
    "plt.axhline(Ldeg, color='grey')\n",
    "plt.plot(rs, np.polyval(coef, rs), '--')\n",
    "plt.show()"
   ]
  },
  {
   "cell_type": "code",
   "execution_count": 87,
   "metadata": {},
   "outputs": [
    {
     "name": "stderr",
     "output_type": "stream",
     "text": [
      "C:\\ProgramData\\Anaconda3\\lib\\site-packages\\ipykernel_launcher.py:2: RuntimeWarning: More than 20 figures have been opened. Figures created through the pyplot interface (`matplotlib.pyplot.figure`) are retained until explicitly closed and may consume too much memory. (To control this warning, see the rcParam `figure.max_open_warning`).\n",
      "  \n"
     ]
    },
    {
     "data": {
      "application/vnd.jupyter.widget-view+json": {
       "model_id": "5b22099d247945a9b765fccbc78ee84f",
       "version_major": 2,
       "version_minor": 0
      },
      "text/plain": [
       "Canvas(toolbar=Toolbar(toolitems=[('Home', 'Reset original view', 'home', 'home'), ('Back', 'Back to previous …"
      ]
     },
     "metadata": {},
     "output_type": "display_data"
    }
   ],
   "source": [
    "rw = 5.5\n",
    "interp=False\n",
    "if interp:\n",
    "    lw = np.polyval(coef, rw)\n",
    "else:\n",
    "    idx = np.where(rs>rw)[0][0]\n",
    "    lw = Ls[idx]\n",
    "    rw = rs[idx]\n",
    "f = plot_config(l=lw, br=rw, Nrt=500, ms=4)\n",
    "f.show()"
   ]
  },
  {
   "cell_type": "code",
   "execution_count": null,
   "metadata": {},
   "outputs": [],
   "source": []
  }
 ],
 "metadata": {
  "kernelspec": {
   "display_name": "Python 3",
   "language": "python",
   "name": "python3"
  },
  "language_info": {
   "codemirror_mode": {
    "name": "ipython",
    "version": 3
   },
   "file_extension": ".py",
   "mimetype": "text/x-python",
   "name": "python",
   "nbconvert_exporter": "python",
   "pygments_lexer": "ipython3",
   "version": "3.7.6"
  }
 },
 "nbformat": 4,
 "nbformat_minor": 4
}
