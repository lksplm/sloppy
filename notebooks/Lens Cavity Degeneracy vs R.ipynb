{
 "cells": [
  {
   "cell_type": "code",
   "execution_count": 1,
   "metadata": {},
   "outputs": [],
   "source": [
    "%load_ext autoreload\n",
    "%autoreload 2"
   ]
  },
  {
   "cell_type": "code",
   "execution_count": 2,
   "metadata": {},
   "outputs": [],
   "source": [
    "%matplotlib widget\n",
    "import numpy as np\n",
    "import k3d\n",
    "import matplotlib.pyplot as plt\n",
    "from sloppy.optic import *\n",
    "from sloppy.raytracing import *\n",
    "from sloppy.abcd import *\n",
    "from sloppy.utils import *\n",
    "from sloppy.tools import *"
   ]
  },
  {
   "cell_type": "code",
   "execution_count": 3,
   "metadata": {},
   "outputs": [],
   "source": [
    "from cavities import *"
   ]
  },
  {
   "cell_type": "code",
   "execution_count": 34,
   "metadata": {},
   "outputs": [
    {
     "data": {
      "application/vnd.jupyter.widget-view+json": {
       "model_id": "e07b82ca0cf94b77ba08f63243dec9b1",
       "version_major": 2,
       "version_minor": 0
      },
      "text/plain": [
       "Canvas(toolbar=Toolbar(toolitems=[('Home', 'Reset original view', 'home', 'home'), ('Back', 'Back to previous …"
      ]
     },
     "metadata": {},
     "output_type": "display_data"
    },
    {
     "name": "stdout",
     "output_type": "stream",
     "text": [
      "     fun: 5.039003982592661e-05\n",
      " message: 'Solution found.'\n",
      "    nfev: 8\n",
      "  status: 0\n",
      " success: True\n",
      "       x: 21.524501032332\n"
     ]
    }
   ],
   "source": [
    "waists_vs_param(LensCav, 'lens_dist', 1e-2)\n",
    "\n",
    "res = degeneracy_length(LensCav, 'lens_dist', 1e-2)\n",
    "Ldeg = res.x\n",
    "print(res)"
   ]
  },
  {
   "cell_type": "code",
   "execution_count": 39,
   "metadata": {},
   "outputs": [
    {
     "data": {
      "text/plain": [
       "91.89525074632989"
      ]
     },
     "execution_count": 39,
     "metadata": {},
     "output_type": "execute_result"
    }
   ],
   "source": [
    "(system.Ltot - Ldeg - 8.)/2."
   ]
  },
  {
   "cell_type": "code",
   "execution_count": 38,
   "metadata": {},
   "outputs": [
    {
     "data": {
      "text/plain": [
       "10.762250398050876"
      ]
     },
     "execution_count": 38,
     "metadata": {},
     "output_type": "execute_result"
    }
   ],
   "source": [
    "Ldeg/2."
   ]
  },
  {
   "cell_type": "code",
   "execution_count": 40,
   "metadata": {},
   "outputs": [
    {
     "data": {
      "text/plain": [
       "21.52450079610175"
      ]
     },
     "execution_count": 40,
     "metadata": {},
     "output_type": "execute_result"
    }
   ],
   "source": [
    "Ldeg"
   ]
  },
  {
   "cell_type": "code",
   "execution_count": 5,
   "metadata": {},
   "outputs": [],
   "source": [
    "elements = LensCav(lens_dist=Ldeg)\n",
    "sys = RaySystem(elements)"
   ]
  },
  {
   "cell_type": "code",
   "execution_count": 6,
   "metadata": {},
   "outputs": [
    {
     "name": "stdout",
     "output_type": "stream",
     "text": [
      "213.31500228876155\n"
     ]
    },
    {
     "data": {
      "text/plain": [
       "array([0.01311271, 0.01311271])"
      ]
     },
     "execution_count": 6,
     "metadata": {},
     "output_type": "execute_result"
    }
   ],
   "source": [
    "system = sys.abcd\n",
    "print(system.Ltot)\n",
    "system.waist_at(0)"
   ]
  },
  {
   "cell_type": "code",
   "execution_count": 7,
   "metadata": {},
   "outputs": [],
   "source": [
    "mu = np.array([0., 0., 0., 0.])\n",
    "ray = sys.screen.eigenvectors_to_rays(mu)"
   ]
  },
  {
   "cell_type": "code",
   "execution_count": 8,
   "metadata": {},
   "outputs": [
    {
     "name": "stderr",
     "output_type": "stream",
     "text": [
      "C:\\ProgramData\\Anaconda3\\lib\\site-packages\\traittypes\\traittypes.py:101: UserWarning: Given trait value dtype \"float64\" does not match required type \"float32\". A coerced copy has been created.\n",
      "  np.dtype(self.dtype).name))\n"
     ]
    },
    {
     "data": {
      "application/vnd.jupyter.widget-view+json": {
       "model_id": "e7c750c6f06747d9ba409582968b8b0e",
       "version_major": 2,
       "version_minor": 0
      },
      "text/plain": [
       "Output()"
      ]
     },
     "metadata": {},
     "output_type": "display_data"
    }
   ],
   "source": [
    "try:\n",
    "    plot.close()\n",
    "except:\n",
    "    pass\n",
    "plot = k3d.plot(camera_auto_fit=True, antialias=True)\n",
    "\n",
    "for i, el in enumerate(sys.elements):\n",
    "    plot += el.plot(opacity=0.4)\n",
    "\n",
    "for i, el in enumerate(sys.elements):\n",
    "    plot_element_ax(el, plot, length=5.)\n",
    "\n",
    "plot_rays(ray, plot)\n",
    "plot.display()"
   ]
  },
  {
   "cell_type": "code",
   "execution_count": 9,
   "metadata": {
    "collapsed": true,
    "jupyter": {
     "outputs_hidden": true,
     "source_hidden": true
    }
   },
   "outputs": [
    {
     "name": "stdout",
     "output_type": "stream",
     "text": [
      "<sloppy.optic.Glass object at 0x000001F3E5C8A2C8> \n",
      " [[1. 0. 0. 0.]\n",
      " [0. 1. 0. 0.]\n",
      " [0. 0. 1. 0.]\n",
      " [0. 0. 0. 1.]]\n",
      "<sloppy.optic.CurvedGlass object at 0x000001F3E5C8A688> \n",
      " [[1. 0. 0. 0.]\n",
      " [0. 1. 0. 0.]\n",
      " [0. 0. 1. 0.]\n",
      " [0. 0. 0. 1.]]\n",
      "<sloppy.optic.Mirror object at 0x000001F3E5C8A548> \n",
      " [[-0.26389035 -0.96455268  0.          0.        ]\n",
      " [-0.96455268  0.26389035  0.          0.        ]\n",
      " [ 0.          0.         -0.26389035 -0.96455268]\n",
      " [ 0.          0.         -0.96455268  0.26389035]]\n",
      "<sloppy.optic.Mirror object at 0x000001F3E5C8A648> \n",
      " [[ 0.3958434   0.91831803  0.          0.        ]\n",
      " [ 0.91831803 -0.3958434   0.          0.        ]\n",
      " [ 0.          0.          0.3958434   0.91831803]\n",
      " [ 0.          0.          0.91831803 -0.3958434 ]]\n",
      "<sloppy.optic.Mirror object at 0x000001F3E5C8AEC8> \n",
      " [[-0.26389035 -0.96455268  0.          0.        ]\n",
      " [-0.96455268  0.26389035  0.          0.        ]\n",
      " [ 0.          0.         -0.26389035 -0.96455268]\n",
      " [ 0.          0.         -0.96455268  0.26389035]]\n",
      "<sloppy.optic.Mirror object at 0x000001F3E5C8AC48> \n",
      " [[ 0.31257812  0.94989206  0.          0.        ]\n",
      " [ 0.94989206 -0.31257812  0.          0.        ]\n",
      " [ 0.          0.          0.31257812  0.94989206]\n",
      " [ 0.          0.          0.94989206 -0.31257812]]\n",
      "<sloppy.optic.CurvedGlass object at 0x000001F3E5C8A3C8> \n",
      " [[1. 0. 0. 0.]\n",
      " [0. 1. 0. 0.]\n",
      " [0. 0. 1. 0.]\n",
      " [0. 0. 0. 1.]]\n",
      "<sloppy.optic.Glass object at 0x000001F3E5C8AFC8> \n",
      " [[1. 0. 0. 0.]\n",
      " [0. 1. 0. 0.]\n",
      " [0. 0. 1. 0.]\n",
      " [0. 0. 0. 1.]]\n",
      "<sloppy.optic.Screen object at 0x000001F3E5C8A248> \n",
      " [[1. 0. 0. 0.]\n",
      " [0. 1. 0. 0.]\n",
      " [0. 0. 1. 0.]\n",
      " [0. 0. 0. 1.]]\n"
     ]
    }
   ],
   "source": [
    "for el in sys.elements:\n",
    "    print(el, \"\\n\", el.Rbasis)"
   ]
  },
  {
   "cell_type": "code",
   "execution_count": 41,
   "metadata": {},
   "outputs": [
    {
     "data": {
      "application/vnd.jupyter.widget-view+json": {
       "model_id": "1cda0f5d00554cb88b1c7216706685cd",
       "version_major": 2,
       "version_minor": 0
      },
      "text/plain": [
       "Canvas(toolbar=Toolbar(toolitems=[('Home', 'Reset original view', 'home', 'home'), ('Back', 'Back to previous …"
      ]
     },
     "metadata": {},
     "output_type": "display_data"
    },
    {
     "data": {
      "text/plain": [
       "[<matplotlib.lines.Line2D at 0x1f3e55c7a08>,\n",
       " <matplotlib.lines.Line2D at 0x1f3e7646a08>]"
      ]
     },
     "execution_count": 41,
     "metadata": {},
     "output_type": "execute_result"
    }
   ],
   "source": [
    "x = np.linspace(0, system.Ltot, 200)\n",
    "ws = system.compute_waists(x)\n",
    "\n",
    "plt.figure()\n",
    "plt.plot(x, ws)"
   ]
  },
  {
   "cell_type": "code",
   "execution_count": 11,
   "metadata": {},
   "outputs": [],
   "source": [
    "%matplotlib widget\n",
    "from ipywidgets import *"
   ]
  },
  {
   "cell_type": "code",
   "execution_count": 29,
   "metadata": {},
   "outputs": [
    {
     "data": {
      "application/vnd.jupyter.widget-view+json": {
       "model_id": "7a0beaf66fef4c049aa5d2de83d08cd7",
       "version_major": 2,
       "version_minor": 0
      },
      "text/plain": [
       "Canvas(toolbar=Toolbar(toolitems=[('Home', 'Reset original view', 'home', 'home'), ('Back', 'Back to previous …"
      ]
     },
     "metadata": {},
     "output_type": "display_data"
    },
    {
     "data": {
      "application/vnd.jupyter.widget-view+json": {
       "model_id": "482a766fa10d4043afa30218d544f549",
       "version_major": 2,
       "version_minor": 0
      },
      "text/plain": [
       "interactive(children=(FloatSlider(value=0.0, description='dl', layout=Layout(height='30px', width='80%'), max=…"
      ]
     },
     "metadata": {},
     "output_type": "display_data"
    }
   ],
   "source": [
    "fig, (ax, bx, cx) = plt.subplots(ncols=3, figsize=(11,3.3), sharex=True, sharey=True)\n",
    "ms = 8.\n",
    "linea = ax.scatter([], [], c=[], cmap='jet', s=ms)\n",
    "linec = cx.scatter([], [], c=[], cmap='jet', s=ms)\n",
    "lineb = bx.scatter([], [], c=[], cmap='jet', s=ms)\n",
    "ax.set_title('Raytracing')\n",
    "bx.set_title('ABCD')\n",
    "cx.set_title('ABCD (Extracted)')\n",
    "plt.xlabel('x [mm]')\n",
    "plt.ylabel('y [mm]')\n",
    " \n",
    "cavfct = LensCav\n",
    "parname = 'lens_dist'\n",
    "res = degeneracy_length(cavfct, parname, 1e-3)\n",
    "Ldeg = res.x\n",
    "#print(res)\n",
    "\n",
    "def makeidx(hit_m):\n",
    "    return np.arange(hit_m.shape[0])\n",
    "\n",
    "def update(dl=0., ar=0.0, br=0.0, ap=0., bp=0., Nrt=500, **kwargs):\n",
    "        elements = cavfct(**{parname: Ldeg+dl*1e-1})\n",
    "        sys = RaySystem(elements)\n",
    "        system = sys.abcd\n",
    "        mu1, mu2 = system.q\n",
    "        waist = system.waist_at(0)[0]\n",
    "        rmu1 = np.linalg.norm(np.real(mu1[:2]))\n",
    "        rmu2 = np.linalg.norm(np.real(mu2[:2]))\n",
    "        mu = np.real(ar*waist/rmu1*mu1*np.exp(1j*ap) + br*waist/rmu2*mu2*np.exp(1j*bp))\n",
    "        \n",
    "        #mu = np.real(ar*np.exp(1j*ap)*mu1 + br*np.exp(1j*bp)*mu2)\n",
    "        ray0 = sys.screen.eigenvectors_to_rays(mu)\n",
    " \n",
    "        traj_hit = sys.propagate(ray0, Nrt=Nrt, at_screen=True)\n",
    "        hit_scr = sys.screen.r_to_screen_coords(traj_hit[:,0,0,:])\n",
    "\n",
    "        linea.set_offsets(hit_scr[:,:])\n",
    "        linea.set_array(makeidx(hit_scr))\n",
    "        \n",
    "        hit_m = propagate_ABCD(mu, system.abcd_rt, Nrt=Nrt)\n",
    "        lineb.set_offsets(hit_m[:,0:2])\n",
    "        lineb.set_array(makeidx(hit_m))\n",
    "        \n",
    "        abcd_fd = sys.extract_ABCD(epsr=1e-3, epss=1e-3, Nrt=1) \n",
    "        hit_fd = propagate_ABCD(mu, abcd_fd, Nrt=Nrt)\n",
    "        linec.set_offsets(hit_fd[:,0:2])\n",
    "        linec.set_array(makeidx(hit_fd))\n",
    "        \n",
    "        linea.set_clim(vmin=0, vmax=Nrt)\n",
    "        lineb.set_clim(vmin=0, vmax=Nrt)\n",
    "        linec.set_clim(vmin=0, vmax=Nrt)\n",
    "            \n",
    "        #ax.relim(visible_only=True)\n",
    "        #ax.autoscale_view(tight=True)\n",
    "        ax.set_xlim(1.5*np.nanmin(hit_scr[:,0]), 1.5*np.nanmax(hit_scr[:,0]))\n",
    "        ax.set_ylim(1.5*np.nanmin(hit_scr[:,1]), 1.5*np.nanmax(hit_scr[:,1]))\n",
    "        fig.canvas.draw_idle()\n",
    "        \n",
    "lo = Layout(width='80%', height='30px')\n",
    "dls = FloatSlider(value=0., min=-10., max=1., step=1e-3, readout_format='.3f', layout=lo)\n",
    "ars = FloatSlider(value=0., min=0., max=6., step=1e-2, readout_format='.3f', layout=lo)\n",
    "brs = FloatSlider(value=1e-3, min=0., max=6., step=1e-2, readout_format='.3f', layout=lo)\n",
    "aps = FloatSlider(value=0., min=0., max=1*np.pi, step=1e-2, readout_format='.3f', layout=lo)\n",
    "bps = FloatSlider(value=0., min=0., max=1*np.pi, step=1e-2, readout_format='.3f', layout=lo)\n",
    "Nrts = IntSlider(value=100, min=100, max=2000, step=100, layout=lo)\n",
    "#interactive(update, dl=(-10, 1, 1e-3), ar = (0,0.1,1e-3), br = (0,0.5,1e-3), ap= (0,2*np.pi,1e-2), bp= (0,2*np.pi,1e-2), Nrt=(0,2000,100))\n",
    "interactive(update, dl=dls, ar = ars, br = brs, ap= aps, bp= bps, Nrt=Nrts)"
   ]
  },
  {
   "cell_type": "code",
   "execution_count": 35,
   "metadata": {},
   "outputs": [
    {
     "data": {
      "application/vnd.jupyter.widget-view+json": {
       "model_id": "2cd5b8393aa943baa490cb2b03a8ff92",
       "version_major": 2,
       "version_minor": 0
      },
      "text/plain": [
       "Canvas(toolbar=Toolbar(toolitems=[('Home', 'Reset original view', 'home', 'home'), ('Back', 'Back to previous …"
      ]
     },
     "metadata": {},
     "output_type": "display_data"
    },
    {
     "data": {
      "application/vnd.jupyter.widget-view+json": {
       "model_id": "06defd7e386446ed99ff64c9a4ac0823",
       "version_major": 2,
       "version_minor": 0
      },
      "text/plain": [
       "interactive(children=(FloatSlider(value=0.0, description='dl', layout=Layout(height='30px', width='80%'), max=…"
      ]
     },
     "metadata": {},
     "output_type": "display_data"
    }
   ],
   "source": [
    "fig, ax = plt.subplots(ncols=3, nrows=2, figsize=(11,6.6), sharex='row', sharey='row')\n",
    "ms = 8.\n",
    "lines = [a.scatter([], [], c=[], cmap='jet', s=ms) for a in ax.flatten()]\n",
    "ax[0,0].set_title('Raytracing')\n",
    "ax[0,1].set_title('ABCD')\n",
    "ax[0,2].set_title('ABCD (Extracted)')\n",
    "plt.xlabel('x [mm]')\n",
    "plt.ylabel('y [mm]')\n",
    " \n",
    "cavfct = LensCav\n",
    "parname = 'lens_dist'\n",
    "res = degeneracy_length(cavfct, parname, 1e-3)\n",
    "Ldeg = res.x\n",
    "#print(res)\n",
    "\n",
    "def makeidx(hit_m):\n",
    "    return np.arange(hit_m.shape[0])\n",
    "\n",
    "def update(dl=0., ar=0.0, br=0.0, ap=0., bp=0., Nrt=500, **kwargs):\n",
    "        elements = cavfct(**{parname: Ldeg+dl*1e-1})\n",
    "        sys = RaySystem(elements)\n",
    "        system = sys.abcd\n",
    "        mu1, mu2 = system.q\n",
    "        waist = system.waist_at(0)[0]\n",
    "        rmu1 = np.linalg.norm(np.real(mu1[:2]))\n",
    "        rmu2 = np.linalg.norm(np.real(mu2[:2]))\n",
    "        mu = np.real(ar*waist/rmu1*mu1*np.exp(1j*ap) + br*waist/rmu2*mu2*np.exp(1j*bp))\n",
    "        \n",
    "        #mu = np.real(ar*np.exp(1j*ap)*mu1 + br*np.exp(1j*bp)*mu2)\n",
    "        ray0 = sys.screen.eigenvectors_to_rays(mu)\n",
    " \n",
    "        traj_hit = sys.propagate(ray0, Nrt=Nrt, at_screen=True)\n",
    "        hit_scr = sys.screen.r_to_screen_coords(traj_hit[:,0,0,:])\n",
    "        hit_scrs = sys.screen.s_to_screen_coords(traj_hit[:,1,0,:])\n",
    "\n",
    "        lines[0].set_offsets(hit_scr[:,:])\n",
    "        lines[0].set_array(makeidx(hit_scr))\n",
    "        lines[3].set_offsets(hit_scrs[:,:])\n",
    "        lines[3].set_array(makeidx(hit_scrs))\n",
    "        \n",
    "        hit_m = propagate_ABCD(mu, system.abcd_rt, Nrt=Nrt)\n",
    "        lines[1].set_offsets(hit_m[:,0:2])\n",
    "        lines[1].set_array(makeidx(hit_m))\n",
    "        lines[4].set_offsets(hit_m[:,2:])\n",
    "        lines[4].set_array(makeidx(hit_m))\n",
    "        \n",
    "        abcd_fd = sys.extract_ABCD(epsr=1e-3, epss=1e-3, Nrt=1) \n",
    "        hit_fd = propagate_ABCD(mu, abcd_fd, Nrt=Nrt)\n",
    "        lines[2].set_offsets(hit_fd[:,0:2])\n",
    "        lines[2].set_array(makeidx(hit_fd))\n",
    "        lines[5].set_offsets(hit_fd[:,2:])\n",
    "        lines[5].set_array(makeidx(hit_fd))\n",
    "        \n",
    "        for l in lines:\n",
    "            l.set_clim(vmin=0, vmax=Nrt)\n",
    "            \n",
    "        ax[0,0].set_xlim(1.5*np.nanmin(hit_scr[:,0]), 1.5*np.nanmax(hit_scr[:,0]))\n",
    "        ax[0,0].set_ylim(1.5*np.nanmin(hit_scr[:,1]), 1.5*np.nanmax(hit_scr[:,1]))\n",
    "        ax[1,0].set_xlim(1.5*np.nanmin(hit_scrs[:,0]), 1.5*np.nanmax(hit_scrs[:,0]))\n",
    "        ax[1,0].set_ylim(1.5*np.nanmin(hit_scrs[:,1]), 1.5*np.nanmax(hit_scrs[:,1]))\n",
    "        fig.canvas.draw_idle()\n",
    "        \n",
    "lo = Layout(width='80%', height='30px')\n",
    "dls = FloatSlider(value=0., min=-10., max=1., step=1e-3, readout_format='.3f', layout=lo)\n",
    "ars = FloatSlider(value=0., min=0., max=6., step=1e-2, readout_format='.3f', layout=lo)\n",
    "brs = FloatSlider(value=1e-3, min=0., max=6., step=1e-2, readout_format='.3f', layout=lo)\n",
    "aps = FloatSlider(value=0., min=0., max=1*np.pi, step=1e-2, readout_format='.3f', layout=lo)\n",
    "bps = FloatSlider(value=0., min=0., max=1*np.pi, step=1e-2, readout_format='.3f', layout=lo)\n",
    "Nrts = IntSlider(value=100, min=100, max=2000, step=100, layout=lo)\n",
    "#interactive(update, dl=(-10, 1, 1e-3), ar = (0,0.1,1e-3), br = (0,0.5,1e-3), ap= (0,2*np.pi,1e-2), bp= (0,2*np.pi,1e-2), Nrt=(0,2000,100))\n",
    "interactive(update, dl=dls, ar = ars, br = brs, ap= aps, bp= bps, Nrt=Nrts)"
   ]
  },
  {
   "cell_type": "code",
   "execution_count": 14,
   "metadata": {},
   "outputs": [
    {
     "name": "stdout",
     "output_type": "stream",
     "text": [
      "     fun: 0.014627313512694156\n",
      " message: 'Solution found.'\n",
      "    nfev: 6\n",
      "  status: 0\n",
      " success: True\n",
      "       x: 21.52450079610175\n"
     ]
    }
   ],
   "source": [
    "cavfct = LensCav\n",
    "parname = 'lens_dist'\n",
    "res = degeneracy_length(cavfct, parname, 1e-3)\n",
    "Ldeg = res.x\n",
    "print(res)\n",
    "elements = cavfct(**{parname: Ldeg})\n",
    "sys = RaySystem(elements)\n",
    "system = sys.abcd\n",
    "mu1, mu2 = system.q"
   ]
  },
  {
   "cell_type": "code",
   "execution_count": 15,
   "metadata": {},
   "outputs": [],
   "source": [
    "br = 0.01\n",
    "mu = np.real(br*mu2)\n",
    "ray0 = sys.screen.eigenvectors_to_rays(mu)\n",
    "\n",
    "traj_hit = sys.propagate(ray0, Nrt=30, at_screen=True)\n",
    "hit_scr = sys.screen.r_to_screen_coords(traj_hit[:,0,0,:])"
   ]
  },
  {
   "cell_type": "code",
   "execution_count": 16,
   "metadata": {},
   "outputs": [
    {
     "data": {
      "text/plain": [
       "array([ 0.00416093,  0.00416093, -0.00600828,  0.00600828])"
      ]
     },
     "execution_count": 16,
     "metadata": {},
     "output_type": "execute_result"
    }
   ],
   "source": [
    "mu"
   ]
  },
  {
   "cell_type": "code",
   "execution_count": 17,
   "metadata": {
    "jupyter": {
     "source_hidden": true
    }
   },
   "outputs": [
    {
     "data": {
      "application/vnd.jupyter.widget-view+json": {
       "model_id": "dc18cd812f8c4ab8822ff6efb3394b24",
       "version_major": 2,
       "version_minor": 0
      },
      "text/plain": [
       "Canvas(toolbar=Toolbar(toolitems=[('Home', 'Reset original view', 'home', 'home'), ('Back', 'Back to previous …"
      ]
     },
     "metadata": {},
     "output_type": "display_data"
    }
   ],
   "source": [
    "plt.figure()\n",
    "hit_1 = hit_scr[::3,:]\n",
    "plt.scatter(hit_1[:,0], hit_1[:,1], c=makeidx(hit_1), cmap='jet')\n",
    "plt.show()"
   ]
  },
  {
   "cell_type": "code",
   "execution_count": 18,
   "metadata": {},
   "outputs": [
    {
     "data": {
      "text/plain": [
       "1.2176924669134394e-08"
      ]
     },
     "execution_count": 18,
     "metadata": {},
     "output_type": "execute_result"
    }
   ],
   "source": [
    "np.var(hit_1, axis=0).sum()"
   ]
  },
  {
   "cell_type": "code",
   "execution_count": 19,
   "metadata": {},
   "outputs": [],
   "source": [
    "rs = np.linspace(0,0.2, 50)\n",
    "distsin = np.zeros_like(rs)\n",
    "devs = np.zeros_like(rs)\n",
    "for i, r in enumerate(rs):\n",
    "    mu = np.real(r*mu2)\n",
    "    distsin[i] = np.linalg.norm(mu[:2])\n",
    "    ray0 = sys.screen.eigenvectors_to_rays(mu)\n",
    "    traj_hit = sys.propagate(ray0, Nrt=30, at_screen=True)\n",
    "    hit_scr = sys.screen.r_to_screen_coords(traj_hit[:,0,0,:])\n",
    "    hit_1 = hit_scr[::3,:]\n",
    "    devs[i] = np.var(hit_1, axis=0).sum()"
   ]
  },
  {
   "cell_type": "code",
   "execution_count": 20,
   "metadata": {},
   "outputs": [
    {
     "data": {
      "application/vnd.jupyter.widget-view+json": {
       "model_id": "18bb8b81f37841ff9cdeb22e5f7b9f2c",
       "version_major": 2,
       "version_minor": 0
      },
      "text/plain": [
       "Canvas(toolbar=Toolbar(toolitems=[('Home', 'Reset original view', 'home', 'home'), ('Back', 'Back to previous …"
      ]
     },
     "metadata": {},
     "output_type": "display_data"
    }
   ],
   "source": [
    "plt.figure()\n",
    "plt.plot(distsin, devs)\n",
    "plt.show()"
   ]
  },
  {
   "cell_type": "code",
   "execution_count": 21,
   "metadata": {},
   "outputs": [],
   "source": [
    "from scipy.optimize import minimize_scalar"
   ]
  },
  {
   "cell_type": "code",
   "execution_count": 22,
   "metadata": {},
   "outputs": [],
   "source": [
    "def degeneracy_length_ray(cavfct, parname, r=0, scanrange=1e-3, La=None):\n",
    "    def get_dev(l, r):\n",
    "        elements = cavfct(**{parname: l})\n",
    "        sys = RaySystem(elements)\n",
    "        system = sys.abcd\n",
    "        mu1, mu2 = system.q\n",
    "        waist = system.waist_at(0)[0]\n",
    "        rmu = np.linalg.norm(np.real(mu2[:2]))\n",
    "        mu = np.real(r*waist/rmu*mu2)#np.real(r*mu2)\n",
    "        ray0 = sys.screen.eigenvectors_to_rays(mu)\n",
    "        traj_hit = sys.propagate(ray0, Nrt=30, at_screen=True)\n",
    "        hit_scr = sys.screen.r_to_screen_coords(traj_hit[:,0,0,:])\n",
    "        hit_1 = hit_scr[::3,:]\n",
    "        return np.var(hit_1, axis=0).sum()\n",
    "    if La is None:\n",
    "        La = inspect.signature(cavfct).parameters[parname].default\n",
    "    res = minimize_scalar(get_dev, bounds=((1-scanrange)*La, (1+scanrange)*La), args=(r,), method='bounded')\n",
    "    return res"
   ]
  },
  {
   "cell_type": "code",
   "execution_count": 23,
   "metadata": {},
   "outputs": [
    {
     "data": {
      "text/plain": [
       "     fun: 2.2848298148807987e-16\n",
       " message: 'Solution found.'\n",
       "    nfev: 7\n",
       "  status: 0\n",
       " success: True\n",
       "       x: 21.524365279415502"
      ]
     },
     "execution_count": 23,
     "metadata": {},
     "output_type": "execute_result"
    }
   ],
   "source": [
    "degeneracy_length_ray(cavfct, parname, r=0.1, scanrange=1e-2)"
   ]
  },
  {
   "cell_type": "code",
   "execution_count": 31,
   "metadata": {},
   "outputs": [
    {
     "name": "stderr",
     "output_type": "stream",
     "text": [
      "c:\\users\\lukas\\box\\lukas\\03_theory\\abcd\\sloppy\\src\\sloppy\\abcd.py:180: RuntimeWarning: invalid value encountered in sqrt\n",
      "  ws = np.sqrt(lam/(-np.pi*di.imag*n))\n"
     ]
    }
   ],
   "source": [
    "rs = np.linspace(0,8., 100)\n",
    "Ls = np.zeros_like(rs)\n",
    "lcur = Ldeg\n",
    "for i, r in enumerate(rs):\n",
    "    Ls[i] = degeneracy_length_ray(cavfct, parname, r=r, scanrange=1e-2, La=lcur).x\n",
    "    lcur = Ls[i]"
   ]
  },
  {
   "cell_type": "code",
   "execution_count": 32,
   "metadata": {},
   "outputs": [
    {
     "data": {
      "text/plain": [
       "array([ 1.51753621e-03, -1.69461616e-02,  4.98016531e-02, -9.06637794e-02,\n",
       "        2.15623193e+01])"
      ]
     },
     "execution_count": 32,
     "metadata": {},
     "output_type": "execute_result"
    }
   ],
   "source": [
    "idx = np.where(rs>5.)[0][0] #only for up to\n",
    "coef = np.polyfit(rs[:idx], Ls[:idx], deg=4)\n",
    "coef"
   ]
  },
  {
   "cell_type": "code",
   "execution_count": 33,
   "metadata": {},
   "outputs": [
    {
     "data": {
      "application/vnd.jupyter.widget-view+json": {
       "model_id": "693574f15b514426a0025e1ba26dac80",
       "version_major": 2,
       "version_minor": 0
      },
      "text/plain": [
       "Canvas(toolbar=Toolbar(toolitems=[('Home', 'Reset original view', 'home', 'home'), ('Back', 'Back to previous …"
      ]
     },
     "metadata": {},
     "output_type": "display_data"
    }
   ],
   "source": [
    "plt.figure()\n",
    "plt.plot(rs, Ls)\n",
    "plt.title('Degeneracy length vs radius')\n",
    "plt.xlabel(r'$r_{in}$ [waists]')\n",
    "plt.ylabel(r'$L_{deg}$ [mm]')\n",
    "plt.axhline(Ldeg, color='grey')\n",
    "plt.plot(rs, np.polyval(coef, rs), '--')\n",
    "plt.show()"
   ]
  },
  {
   "cell_type": "code",
   "execution_count": 27,
   "metadata": {},
   "outputs": [],
   "source": [
    "def plot_config(l=0., ar=0.0, br=0.0, ap=0., bp=0., Nrt=500, ms = 8., **kwargs):\n",
    "        fig, (ax, bx, cx) = plt.subplots(ncols=3, figsize=(11,3.3), sharex=True, sharey=True)\n",
    "        linea = ax.scatter([], [], c=[], cmap='jet', s=ms)\n",
    "        linec = cx.scatter([], [], c=[], cmap='jet', s=ms)\n",
    "        lineb = bx.scatter([], [], c=[], cmap='jet', s=ms)\n",
    "        ax.set_title('Raytracing')\n",
    "        bx.set_title('ABCD')\n",
    "        cx.set_title('ABCD (Extracted)')\n",
    "        plt.xlabel('x [mm]')\n",
    "        plt.ylabel('y [mm]')\n",
    "        elements = cavfct(**{parname: l})\n",
    "        sys = RaySystem(elements)\n",
    "        system = sys.abcd\n",
    "        mu1, mu2 = system.q\n",
    "        waist = system.waist_at(0)[0]\n",
    "        rmu1 = np.linalg.norm(np.real(mu1[:2]))\n",
    "        rmu2 = np.linalg.norm(np.real(mu2[:2]))\n",
    "        mu = np.real(ar*waist/rmu1*mu1*np.exp(1j*ap) + br*waist/rmu2*mu2*np.exp(1j*bp))\n",
    "        ray0 = sys.screen.eigenvectors_to_rays(mu)\n",
    " \n",
    "        traj_hit = sys.propagate(ray0, Nrt=Nrt, at_screen=True)\n",
    "        hit_scr = sys.screen.r_to_screen_coords(traj_hit[:,0,0,:])\n",
    "\n",
    "        linea.set_offsets(hit_scr[:,:])\n",
    "        linea.set_array(makeidx(hit_scr))\n",
    "        \n",
    "        hit_m = propagate_ABCD(mu, system.abcd_rt, Nrt=Nrt)\n",
    "        lineb.set_offsets(hit_m[:,0:2])\n",
    "        lineb.set_array(makeidx(hit_m))\n",
    "        \n",
    "        abcd_fd = sys.extract_ABCD(epsr=1e-4, epss=1e-4, Nrt=1) \n",
    "        hit_fd = propagate_ABCD(mu, abcd_fd, Nrt=Nrt)\n",
    "        linec.set_offsets(hit_fd[:,0:2])\n",
    "        linec.set_array(makeidx(hit_fd))\n",
    "        \n",
    "        linea.set_clim(vmin=0, vmax=Nrt)\n",
    "        lineb.set_clim(vmin=0, vmax=Nrt)\n",
    "        linec.set_clim(vmin=0, vmax=Nrt)\n",
    "            \n",
    "        ax.set_xlim(1.5*np.nanmin(hit_scr[:,0]), 1.5*np.nanmax(hit_scr[:,0]))\n",
    "        ax.set_ylim(1.5*np.nanmin(hit_scr[:,1]), 1.5*np.nanmax(hit_scr[:,1]))\n",
    "        return fig"
   ]
  },
  {
   "cell_type": "code",
   "execution_count": 30,
   "metadata": {},
   "outputs": [
    {
     "data": {
      "application/vnd.jupyter.widget-view+json": {
       "model_id": "c3f531b0016045ca931786f0b6527920",
       "version_major": 2,
       "version_minor": 0
      },
      "text/plain": [
       "Canvas(toolbar=Toolbar(toolitems=[('Home', 'Reset original view', 'home', 'home'), ('Back', 'Back to previous …"
      ]
     },
     "metadata": {},
     "output_type": "display_data"
    }
   ],
   "source": [
    "rw = 3.5\n",
    "interp=True\n",
    "if interp:\n",
    "    lw = np.polyval(coef, rw)\n",
    "else:\n",
    "    idx = np.where(rs>rw)[0][0]\n",
    "    lw = Ls[idx]\n",
    "    rw = rs[idx]\n",
    "f = plot_config(l=lw, br=rw, Nrt=500, ms=4)\n",
    "f.show()"
   ]
  },
  {
   "cell_type": "code",
   "execution_count": 117,
   "metadata": {},
   "outputs": [],
   "source": [
    "plt.close(\"all\")"
   ]
  },
  {
   "cell_type": "markdown",
   "metadata": {},
   "source": [
    "## Eigenray"
   ]
  },
  {
   "cell_type": "code",
   "execution_count": 65,
   "metadata": {},
   "outputs": [],
   "source": [
    "def plot_config_ray(mu, l=0., Nrt=500, ms = 8., **kwargs):\n",
    "        fig, (ax, bx, cx) = plt.subplots(ncols=3, figsize=(11,3.3), sharex=True, sharey=True)\n",
    "        linea = ax.scatter([], [], c=[], cmap='jet', s=ms)\n",
    "        linec = cx.scatter([], [], c=[], cmap='jet', s=ms)\n",
    "        lineb = bx.scatter([], [], c=[], cmap='jet', s=ms)\n",
    "        ax.set_title('Raytracing')\n",
    "        bx.set_title('ABCD')\n",
    "        cx.set_title('ABCD (Extracted)')\n",
    "        plt.xlabel('x [mm]')\n",
    "        plt.ylabel('y [mm]')\n",
    "        elements = cavfct(**{parname: l})\n",
    "        sys = RaySystem(elements)\n",
    "        ray0 = sys.screen.eigenvectors_to_rays(mu)\n",
    "\n",
    "        traj_hit = sys.propagate(ray0, Nrt=Nrt, at_screen=True)\n",
    "        hit_scr = sys.screen.r_to_screen_coords(traj_hit[:,0,0,:])\n",
    "\n",
    "        linea.set_offsets(hit_scr[:,:])\n",
    "        linea.set_array(makeidx(hit_scr))\n",
    "        \n",
    "        hit_m = propagate_ABCD(mu, system.abcd_rt, Nrt=Nrt)\n",
    "        lineb.set_offsets(hit_m[:,0:2])\n",
    "        lineb.set_array(makeidx(hit_m))\n",
    "        \n",
    "        abcd_fd = sys.extract_ABCD(epsr=1e-4, epss=1e-4, Nrt=1) \n",
    "        hit_fd = propagate_ABCD(mu, abcd_fd, Nrt=Nrt)\n",
    "        linec.set_offsets(hit_fd[:,0:2])\n",
    "        linec.set_array(makeidx(hit_fd))\n",
    "        \n",
    "        linea.set_clim(vmin=0, vmax=Nrt)\n",
    "        lineb.set_clim(vmin=0, vmax=Nrt)\n",
    "        linec.set_clim(vmin=0, vmax=Nrt)\n",
    "            \n",
    "        ax.set_xlim(1.5*np.nanmin(hit_scr[:,0]), 1.5*np.nanmax(hit_scr[:,0]))\n",
    "        ax.set_ylim(1.5*np.nanmin(hit_scr[:,1]), 1.5*np.nanmax(hit_scr[:,1]))\n",
    "        return fig"
   ]
  },
  {
   "cell_type": "code",
   "execution_count": 74,
   "metadata": {},
   "outputs": [
    {
     "name": "stdout",
     "output_type": "stream",
     "text": [
      "Finished in 49 steps, reached tol 5.473e-05\n",
      "Finished in 49 steps, reached tol 2.166e-09\n",
      "Finished in 49 steps, reached tol 4.613e-08\n",
      "Finished in 49 steps, reached tol 3.327e-08\n",
      "Finished in 49 steps, reached tol 3.617e-08\n"
     ]
    },
    {
     "data": {
      "text/plain": [
       "array([[ 6.07047033e-05,  7.65926464e-05, -1.10603097e-04,\n",
       "        -3.29846840e-04]])"
      ]
     },
     "execution_count": 74,
     "metadata": {},
     "output_type": "execute_result"
    }
   ],
   "source": [
    "#mu = np.array([5e-3, 0., 0, 0])\n",
    "system = sys.abcd\n",
    "mu1, mu2 = system.q\n",
    "waist = system.waist_at(0)[0]\n",
    "rmu = np.linalg.norm(np.real(mu2[:2]))\n",
    "r = 5e-3\n",
    "mu = np.real(r*waist/rmu*mu2)\n",
    "ray0 = sys.screen.eigenvectors_to_rays(mu)\n",
    "lr = np.zeros((2, 1, 3))\n",
    "#lr[1,:,:] = 0.05\n",
    "lr = 0.05\n",
    "#reig = sys.find_eigenray(ray0, lr=lr, Nrt=30, debug=True)\n",
    "reig = sys.find_eigenray_mpe(ray0, lr=lr, Nrt=30, debug=True)\n",
    "mueig = sys.screen.rays_to_eigenvectors(reig)\n",
    "mueig"
   ]
  },
  {
   "cell_type": "code",
   "execution_count": 75,
   "metadata": {},
   "outputs": [
    {
     "name": "stderr",
     "output_type": "stream",
     "text": [
      "C:\\ProgramData\\Anaconda3\\lib\\site-packages\\ipykernel_launcher.py:2: RuntimeWarning: More than 20 figures have been opened. Figures created through the pyplot interface (`matplotlib.pyplot.figure`) are retained until explicitly closed and may consume too much memory. (To control this warning, see the rcParam `figure.max_open_warning`).\n",
      "  \n"
     ]
    },
    {
     "data": {
      "application/vnd.jupyter.widget-view+json": {
       "model_id": "be91039812c24aa0997bf83ed5672316",
       "version_major": 2,
       "version_minor": 0
      },
      "text/plain": [
       "Canvas(toolbar=Toolbar(toolitems=[('Home', 'Reset original view', 'home', 'home'), ('Back', 'Back to previous …"
      ]
     },
     "metadata": {},
     "output_type": "display_data"
    }
   ],
   "source": [
    "f = plot_config_ray(np.squeeze(mueig), Ldeg)\n",
    "f.show()"
   ]
  },
  {
   "cell_type": "code",
   "execution_count": 81,
   "metadata": {},
   "outputs": [],
   "source": [
    "def degeneracy_length_eigenray(cavfct, parname, r=0, scanrange=1e-3, La=None):\n",
    "    def get_dev(l, r):\n",
    "        elements = cavfct(**{parname: l})\n",
    "        sys = RaySystem(elements)\n",
    "        system = sys.abcd\n",
    "        mu1, mu2 = system.q\n",
    "        waist = system.waist_at(0)[0]\n",
    "        rmu = np.linalg.norm(np.real(mu2[:2]))\n",
    "        mu = np.real(r*waist/rmu*mu2)\n",
    "        ray0 = sys.screen.eigenvectors_to_rays(mu)\n",
    "        lr = 0.05\n",
    "        reig = sys.find_eigenray(ray0, lr=lr, Nrt=3, debug=False)\n",
    "        #reig = sys.find_eigenray_mpe(ray0, lr=lr, Nrt=30, debug=False)\n",
    "        mueig = sys.screen.rays_to_eigenvectors(reig)\n",
    "        \n",
    "        ray1 = sys.screen.eigenvectors_to_rays(mu)\n",
    "        traj_hit = sys.propagate(ray1, Nrt=30, at_screen=True)\n",
    "        hit_scr = sys.screen.r_to_screen_coords(traj_hit[:,0,0,:])\n",
    "        hit_1 = hit_scr[::3,:]\n",
    "        return np.var(hit_1, axis=0).sum()\n",
    "    if La is None:\n",
    "        La = inspect.signature(cavfct).parameters[parname].default\n",
    "    res = minimize_scalar(get_dev, bounds=((1-scanrange)*La, (1+scanrange)*La), args=(r,), method='bounded')\n",
    "    return res"
   ]
  },
  {
   "cell_type": "code",
   "execution_count": 82,
   "metadata": {},
   "outputs": [
    {
     "data": {
      "text/plain": [
       "     fun: 2.020474060964267e-08\n",
       " message: 'Solution found.'\n",
       "    nfev: 10\n",
       "  status: 0\n",
       " success: True\n",
       "       x: 21.506287396753475"
      ]
     },
     "execution_count": 82,
     "metadata": {},
     "output_type": "execute_result"
    }
   ],
   "source": [
    "degeneracy_length_eigenray(cavfct, parname, r=1e-3, scanrange=1e-3, La=Ldeg)"
   ]
  },
  {
   "cell_type": "code",
   "execution_count": 83,
   "metadata": {},
   "outputs": [],
   "source": [
    "rs = np.linspace(0,8., 100)\n",
    "Ls = np.zeros_like(rs)\n",
    "lcur = Ldeg\n",
    "for i, r in enumerate(rs):\n",
    "    try:\n",
    "        l = degeneracy_length_eigenray(cavfct, parname, r=r, scanrange=1e-2, La=lcur).x\n",
    "    except:\n",
    "        Ls[i] = np.nan\n",
    "    else:\n",
    "        Ls[i] = l\n",
    "        lcur = l"
   ]
  },
  {
   "cell_type": "code",
   "execution_count": 84,
   "metadata": {},
   "outputs": [
    {
     "data": {
      "text/plain": [
       "array([-2.43816029e-04,  2.60880858e-03, -2.34249747e-02,  1.36223586e-02,\n",
       "        2.15193646e+01])"
      ]
     },
     "execution_count": 84,
     "metadata": {},
     "output_type": "execute_result"
    }
   ],
   "source": [
    "idx = np.where(rs>5.)[0][0] #only for up to\n",
    "coef = np.polyfit(rs[:idx], Ls[:idx], deg=4)\n",
    "coef"
   ]
  },
  {
   "cell_type": "code",
   "execution_count": 85,
   "metadata": {},
   "outputs": [
    {
     "name": "stderr",
     "output_type": "stream",
     "text": [
      "C:\\ProgramData\\Anaconda3\\lib\\site-packages\\ipykernel_launcher.py:1: RuntimeWarning: More than 20 figures have been opened. Figures created through the pyplot interface (`matplotlib.pyplot.figure`) are retained until explicitly closed and may consume too much memory. (To control this warning, see the rcParam `figure.max_open_warning`).\n",
      "  \"\"\"Entry point for launching an IPython kernel.\n"
     ]
    },
    {
     "data": {
      "application/vnd.jupyter.widget-view+json": {
       "model_id": "609fa42e42b641dcba058733d986e136",
       "version_major": 2,
       "version_minor": 0
      },
      "text/plain": [
       "Canvas(toolbar=Toolbar(toolitems=[('Home', 'Reset original view', 'home', 'home'), ('Back', 'Back to previous …"
      ]
     },
     "metadata": {},
     "output_type": "display_data"
    }
   ],
   "source": [
    "plt.figure()\n",
    "plt.plot(rs, Ls)\n",
    "plt.title('Degeneracy length vs radius')\n",
    "plt.xlabel(r'$r_{in}$ [waists]')\n",
    "plt.ylabel(r'$L_{deg}$ [mm]')\n",
    "plt.axhline(Ldeg, color='grey')\n",
    "plt.plot(rs, np.polyval(coef, rs), '--')\n",
    "plt.show()"
   ]
  },
  {
   "cell_type": "code",
   "execution_count": 87,
   "metadata": {},
   "outputs": [
    {
     "name": "stderr",
     "output_type": "stream",
     "text": [
      "C:\\ProgramData\\Anaconda3\\lib\\site-packages\\ipykernel_launcher.py:2: RuntimeWarning: More than 20 figures have been opened. Figures created through the pyplot interface (`matplotlib.pyplot.figure`) are retained until explicitly closed and may consume too much memory. (To control this warning, see the rcParam `figure.max_open_warning`).\n",
      "  \n"
     ]
    },
    {
     "data": {
      "application/vnd.jupyter.widget-view+json": {
       "model_id": "5b22099d247945a9b765fccbc78ee84f",
       "version_major": 2,
       "version_minor": 0
      },
      "text/plain": [
       "Canvas(toolbar=Toolbar(toolitems=[('Home', 'Reset original view', 'home', 'home'), ('Back', 'Back to previous …"
      ]
     },
     "metadata": {},
     "output_type": "display_data"
    }
   ],
   "source": [
    "rw = 5.5\n",
    "interp=False\n",
    "if interp:\n",
    "    lw = np.polyval(coef, rw)\n",
    "else:\n",
    "    idx = np.where(rs>rw)[0][0]\n",
    "    lw = Ls[idx]\n",
    "    rw = rs[idx]\n",
    "f = plot_config(l=lw, br=rw, Nrt=500, ms=4)\n",
    "f.show()"
   ]
  },
  {
   "cell_type": "code",
   "execution_count": null,
   "metadata": {},
   "outputs": [],
   "source": []
  }
 ],
 "metadata": {
  "kernelspec": {
   "display_name": "Python 3",
   "language": "python",
   "name": "python3"
  },
  "language_info": {
   "codemirror_mode": {
    "name": "ipython",
    "version": 3
   },
   "file_extension": ".py",
   "mimetype": "text/x-python",
   "name": "python",
   "nbconvert_exporter": "python",
   "pygments_lexer": "ipython3",
   "version": "3.7.6"
  }
 },
 "nbformat": 4,
 "nbformat_minor": 4
}
