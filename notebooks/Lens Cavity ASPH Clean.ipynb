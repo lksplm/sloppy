{
 "cells": [
  {
   "cell_type": "code",
   "execution_count": 1,
   "metadata": {},
   "outputs": [],
   "source": [
    "%load_ext autoreload\n",
    "%autoreload 2"
   ]
  },
  {
   "cell_type": "code",
   "execution_count": 2,
   "metadata": {},
   "outputs": [
    {
     "name": "stderr",
     "output_type": "stream",
     "text": [
      "c:\\users\\lukas\\box\\lukas\\03_theory\\abcd\\sloppy\\src\\sloppy\\joptic.py:59: NumbaDeprecationWarning: \u001b[1mThe 'numba.jitclass' decorator has moved to 'numba.experimental.jitclass' to better reflect the experimental nature of the functionality. Please update your imports to accommodate this change and see http://numba.pydata.org/numba-doc/latest/reference/deprecation.html#change-of-jitclass-location for the time frame.\u001b[0m\n",
      "  @jitclass(spec)\n"
     ]
    }
   ],
   "source": [
    "%matplotlib widget\n",
    "from ipywidgets import *\n",
    "import numpy as np\n",
    "import k3d\n",
    "import matplotlib.pyplot as plt\n",
    "from scipy.optimize import minimize_scalar, brentq, minimize\n",
    "from sloppy.optic import *\n",
    "from sloppy.raytracing import *\n",
    "from sloppy.abcd import *\n",
    "from sloppy.utils import *\n",
    "from sloppy.tools import *"
   ]
  },
  {
   "cell_type": "code",
   "execution_count": 3,
   "metadata": {},
   "outputs": [],
   "source": [
    "from cavities import *"
   ]
  },
  {
   "cell_type": "code",
   "execution_count": 4,
   "metadata": {},
   "outputs": [
    {
     "name": "stdout",
     "output_type": "stream",
     "text": [
      "0.001 2e-05 5e-07\n"
     ]
    }
   ],
   "source": [
    "print(coeffc4(5.0), coeffc6(5.0), coeffc8(5.0))"
   ]
  },
  {
   "cell_type": "code",
   "execution_count": 5,
   "metadata": {},
   "outputs": [
    {
     "data": {
      "application/vnd.jupyter.widget-view+json": {
       "model_id": "6a7299bd4f074daabefbbcf9fab6d43d",
       "version_major": 2,
       "version_minor": 0
      },
      "text/plain": [
       "Canvas(toolbar=Toolbar(toolitems=[('Home', 'Reset original view', 'home', 'home'), ('Back', 'Back to previous …"
      ]
     },
     "metadata": {},
     "output_type": "display_data"
    },
    {
     "data": {
      "application/vnd.jupyter.widget-view+json": {
       "model_id": "38128566901448059d6769140e9eddf7",
       "version_major": 2,
       "version_minor": 0
      },
      "text/plain": [
       "interactive(children=(FloatLogSlider(value=0.1, description='scanrange', layout=Layout(height='30px', width='8…"
      ]
     },
     "metadata": {},
     "output_type": "display_data"
    }
   ],
   "source": [
    "cavity_parameter_interaction_factory(LensCavAsphere, 'lens_dist', 1e-1, N=100)"
   ]
  },
  {
   "cell_type": "code",
   "execution_count": 6,
   "metadata": {},
   "outputs": [
    {
     "data": {
      "application/vnd.jupyter.widget-view+json": {
       "model_id": "a54647dd308d49188315915d6b012689",
       "version_major": 2,
       "version_minor": 0
      },
      "text/plain": [
       "Canvas(toolbar=Toolbar(toolitems=[('Home', 'Reset original view', 'home', 'home'), ('Back', 'Back to previous …"
      ]
     },
     "metadata": {},
     "output_type": "display_data"
    },
    {
     "name": "stdout",
     "output_type": "stream",
     "text": [
      "     fun: 99962.03309988\n",
      " message: 'Solution found.'\n",
      "    nfev: 10\n",
      "  status: 0\n",
      " success: True\n",
      "       x: 24.47097848580803\n"
     ]
    }
   ],
   "source": [
    "waists_vs_param(LensCavAsphere, 'lens_dist', 1e-1)\n",
    "\n",
    "res = degeneracy_length(LensCavAsphere, 'lens_dist', 1e-1)\n",
    "Ldeg = res.x\n",
    "print(res)"
   ]
  },
  {
   "cell_type": "code",
   "execution_count": 7,
   "metadata": {},
   "outputs": [],
   "source": [
    "elements = LensCavAsphere(lens_dist=Ldeg)\n",
    "sys = RaySystem(elements)"
   ]
  },
  {
   "cell_type": "code",
   "execution_count": 8,
   "metadata": {},
   "outputs": [
    {
     "name": "stdout",
     "output_type": "stream",
     "text": [
      "125.96287424209984\n"
     ]
    },
    {
     "data": {
      "text/plain": [
       "array([0.01974093, 0.01974093])"
      ]
     },
     "execution_count": 8,
     "metadata": {},
     "output_type": "execute_result"
    }
   ],
   "source": [
    "system = sys.abcd\n",
    "print(system.Ltot)\n",
    "system.waist_at(0)"
   ]
  },
  {
   "cell_type": "code",
   "execution_count": 9,
   "metadata": {},
   "outputs": [
    {
     "data": {
      "application/vnd.jupyter.widget-view+json": {
       "model_id": "41ab7c4f2dd242598cd7a06d55a0b148",
       "version_major": 2,
       "version_minor": 0
      },
      "text/plain": [
       "Canvas(toolbar=Toolbar(toolitems=[('Home', 'Reset original view', 'home', 'home'), ('Back', 'Back to previous …"
      ]
     },
     "metadata": {},
     "output_type": "display_data"
    }
   ],
   "source": [
    "x = np.linspace(0, system.Ltot, 500)\n",
    "ws = system.compute_waists(x)\n",
    "\n",
    "plt.figure()\n",
    "plt.plot(x, ws)\n",
    "plt.show()"
   ]
  },
  {
   "cell_type": "code",
   "execution_count": 10,
   "metadata": {},
   "outputs": [],
   "source": [
    "mu = np.array([0., 0., 0., 0.])\n",
    "ray = sys.screen.eigenvectors_to_rays(mu)"
   ]
  },
  {
   "cell_type": "code",
   "execution_count": 14,
   "metadata": {
    "collapsed": true,
    "jupyter": {
     "outputs_hidden": true,
     "source_hidden": true
    }
   },
   "outputs": [
    {
     "name": "stderr",
     "output_type": "stream",
     "text": [
      "C:\\ProgramData\\Anaconda3\\lib\\site-packages\\traittypes\\traittypes.py:101: UserWarning: Given trait value dtype \"float64\" does not match required type \"float32\". A coerced copy has been created.\n",
      "  np.dtype(self.dtype).name))\n"
     ]
    },
    {
     "data": {
      "application/vnd.jupyter.widget-view+json": {
       "model_id": "",
       "version_major": 2,
       "version_minor": 0
      },
      "text/plain": [
       "Output()"
      ]
     },
     "metadata": {},
     "output_type": "display_data"
    }
   ],
   "source": [
    "try:\n",
    "    plot.close()\n",
    "except:\n",
    "    pass\n",
    "plot = k3d.plot(camera_auto_fit=True, antialias=True)\n",
    "\n",
    "for i, el in enumerate(sys.elements):\n",
    "    plot += el.plot(opacity=0.4)\n",
    "\n",
    "for i, el in enumerate(sys.elements):\n",
    "    plot_element_ax(el, plot, length=5.)\n",
    "\n",
    "plot_rays(ray, plot)\n",
    "plot.display()"
   ]
  },
  {
   "cell_type": "code",
   "execution_count": 21,
   "metadata": {
    "tags": []
   },
   "outputs": [],
   "source": [
    "def rays_interaction_factory(cavfct, parname, scanrange=1e-2):\n",
    "    fig, ax = plt.subplots(ncols=3, nrows=2, figsize=(11,6.6), sharex='row', sharey='row')\n",
    "    ms = 8.\n",
    "    lines = [a.scatter([], [], c=[], cmap='jet', s=ms) for a in ax.flatten()]\n",
    "    ax[0,0].set_title('Raytracing')\n",
    "    ax[0,1].set_title('ABCD')\n",
    "    ax[0,2].set_title('ABCD (Extracted)')\n",
    "    plt.xlabel('x [mm]')\n",
    "    plt.ylabel('y [mm]')\n",
    "\n",
    "    res = degeneracy_length(cavfct, parname, scanrange)\n",
    "    Ldeg = res.x\n",
    "\n",
    "    def makeidx(hit_m):\n",
    "        return np.arange(hit_m.shape[0])\n",
    "    \n",
    "    magnitude = lambda x: int(np.floor(np.log10(x)))\n",
    "    \n",
    "    def update(ar=0.0, br=0.0, ap=0., bp=0., Nrt=500, **kwargs):\n",
    "        #kwargs.update({parname: Ldeg+dl*1e-1})\n",
    "        elements = cavfct(**kwargs)\n",
    "        sys = RaySystem(elements)\n",
    "        system = sys.abcd\n",
    "        mu1, mu2 = system.q\n",
    "        waist = system.waist_at(0)[0] #fix for now since waist is not at 0 anymore!\n",
    "        rmu1 = np.linalg.norm(np.real(mu1[:2]))\n",
    "        rmu2 = np.linalg.norm(np.real(mu2[:2]))\n",
    "        mu = np.real(ar*waist/rmu1*mu1*np.exp(1j*ap) + br*waist/rmu2*mu2*np.exp(1j*bp))\n",
    "        \n",
    "        ray0 = sys.screen.eigenvectors_to_rays(mu)\n",
    " \n",
    "        traj_hit = sys.propagate(ray0, Nrt=Nrt, at_screen=True)\n",
    "        hit_scr = sys.screen.r_to_screen_coords(traj_hit[:,0,0,:])\n",
    "        hit_scrs = sys.screen.s_to_screen_coords(traj_hit[:,1,0,:])\n",
    "\n",
    "        lines[0].set_offsets(hit_scr[:,:])\n",
    "        lines[0].set_array(makeidx(hit_scr))\n",
    "        lines[3].set_offsets(hit_scrs[:,:])\n",
    "        lines[3].set_array(makeidx(hit_scrs))\n",
    "        \n",
    "        hit_m = propagate_ABCD(mu, system.abcd_rt, Nrt=Nrt)\n",
    "        lines[1].set_offsets(hit_m[:,0:2])\n",
    "        lines[1].set_array(makeidx(hit_m))\n",
    "        lines[4].set_offsets(hit_m[:,2:])\n",
    "        lines[4].set_array(makeidx(hit_m))\n",
    "        \n",
    "        #abcd_fd = sys.extract_ABCD(epsr=1e-3, epss=1e-3, Nrt=1) \n",
    "        #hit_fd = propagate_ABCD(mu, abcd_fd, Nrt=Nrt)\n",
    "        #lines[2].set_offsets(hit_fd[:,0:2])\n",
    "        #lines[2].set_array(makeidx(hit_fd))\n",
    "        #lines[5].set_offsets(hit_fd[:,2:])\n",
    "        #lines[5].set_array(makeidx(hit_fd))\n",
    "        \n",
    "        for l in lines:\n",
    "            l.set_clim(vmin=0, vmax=Nrt)\n",
    "            \n",
    "        ax[0,0].set_xlim(1.5*np.nanmin(hit_scr[:,0]), 1.5*np.nanmax(hit_scr[:,0]))\n",
    "        ax[0,0].set_ylim(1.5*np.nanmin(hit_scr[:,1]), 1.5*np.nanmax(hit_scr[:,1]))\n",
    "        ax[1,0].set_xlim(1.5*np.nanmin(hit_scrs[:,0]), 1.5*np.nanmax(hit_scrs[:,0]))\n",
    "        ax[1,0].set_ylim(1.5*np.nanmin(hit_scrs[:,1]), 1.5*np.nanmax(hit_scrs[:,1]))\n",
    "        fig.canvas.draw_idle()\n",
    "\n",
    "    lo = Layout(width='80%', height='30px')\n",
    "\n",
    "    sliders = {v.name: FloatSlider(value=v.default, min=v.default*0.5, max=v.default*1.5, step=10**(magnitude(v.default)-2), readout_format='.2e', layout=lo) for v in inspect.signature(cavfct).parameters.values()}\n",
    "    ars = FloatSlider(value=0., min=0., max=6., step=1e-2, readout_format='.3f', layout=lo)\n",
    "    brs = FloatSlider(value=0.1, min=0., max=6., step=1e-2, readout_format='.3f', layout=lo)\n",
    "    aps = FloatSlider(value=0.1, min=0., max=1*np.pi, step=1e-2, readout_format='.3f', layout=lo)\n",
    "    bps = FloatSlider(value=0., min=0., max=1*np.pi, step=1e-2, readout_format='.3f', layout=lo)\n",
    "    Nrts = IntSlider(value=100, min=100, max=2000, step=100, layout=lo)\n",
    "    raysliders = {'ar': ars, 'br': brs, 'ap': aps, 'bp': bps, 'Nrt': Nrts}\n",
    "    sliders.update(**raysliders)\n",
    "    return interactive(update, **sliders)"
   ]
  },
  {
   "cell_type": "code",
   "execution_count": 11,
   "metadata": {},
   "outputs": [
    {
     "data": {
      "application/vnd.jupyter.widget-view+json": {
       "model_id": "eec2685096ca4fe19885a016d409477a",
       "version_major": 2,
       "version_minor": 0
      },
      "text/plain": [
       "Canvas(toolbar=Toolbar(toolitems=[('Home', 'Reset original view', 'home', 'home'), ('Back', 'Back to previous …"
      ]
     },
     "metadata": {},
     "output_type": "display_data"
    },
    {
     "data": {
      "application/vnd.jupyter.widget-view+json": {
       "model_id": "da6140c549704a659c1850d0e6fa3332",
       "version_major": 2,
       "version_minor": 0
      },
      "text/plain": [
       "interactive(children=(FloatSlider(value=0.1, description='ar', layout=Layout(height='30px', width='80%'), max=…"
      ]
     },
     "metadata": {},
     "output_type": "display_data"
    }
   ],
   "source": [
    "rays_interaction_factory(LensCavAsphere, 'lens_dist', rmax=10.)"
   ]
  },
  {
   "cell_type": "code",
   "execution_count": 28,
   "metadata": {},
   "outputs": [
    {
     "data": {
      "application/vnd.jupyter.widget-view+json": {
       "model_id": "6c2f1dda0d0f4560839c43ada463e416",
       "version_major": 2,
       "version_minor": 0
      },
      "text/plain": [
       "Canvas(toolbar=Toolbar(toolitems=[('Home', 'Reset original view', 'home', 'home'), ('Back', 'Back to previous …"
      ]
     },
     "metadata": {},
     "output_type": "display_data"
    },
    {
     "name": "stdout",
     "output_type": "stream",
     "text": [
      "{'c4': -3, 'c6': -5, 'c8': -7}\n"
     ]
    },
    {
     "data": {
      "application/vnd.jupyter.widget-view+json": {
       "model_id": "8619fcdc234d4af4be5f5875819e14ef",
       "version_major": 2,
       "version_minor": 0
      },
      "text/plain": [
       "interactive(children=(FloatSlider(value=1.0, description='c4', layout=Layout(height='30px', width='80%'), max=…"
      ]
     },
     "metadata": {},
     "output_type": "display_data"
    }
   ],
   "source": [
    "coefficients_interaction_factory(LensCavAsphere, coefpars={'c4': coeffc4(5.0), 'c6': coeffc6(5.0), 'c8': coeffc8(5.0)})"
   ]
  },
  {
   "cell_type": "code",
   "execution_count": 25,
   "metadata": {},
   "outputs": [],
   "source": [
    "def deviation_tot(x):\n",
    "    rs = np.linspace(np.finfo(np.float32).resolution,8., 50)\n",
    "    Ls = np.zeros_like(rs)\n",
    "        \n",
    "    for i, r in enumerate(rs):\n",
    "        try:\n",
    "            d = get_deviation(r=r, c4=x[0], c6=x[1], c8=x[2])\n",
    "        except:\n",
    "            Ls[i] = 1e3#Ls[i-1]*1.1\n",
    "        else:\n",
    "            Ls[i] = d\n",
    "    return np.abs(np.nansum(Ls))"
   ]
  },
  {
   "cell_type": "code",
   "execution_count": 26,
   "metadata": {},
   "outputs": [
    {
     "data": {
      "text/plain": [
       "50000.0"
      ]
     },
     "execution_count": 26,
     "metadata": {},
     "output_type": "execute_result"
    }
   ],
   "source": [
    "deviation_tot([3.02e-4, 1.97e-6, 5e-7])"
   ]
  },
  {
   "cell_type": "code",
   "execution_count": 18,
   "metadata": {},
   "outputs": [
    {
     "data": {
      "text/plain": [
       "      fun: 0.0\n",
       " hess_inv: array([[1, 0, 0],\n",
       "       [0, 1, 0],\n",
       "       [0, 0, 1]])\n",
       "      jac: array([0., 0., 0.])\n",
       "  message: 'Optimization terminated successfully.'\n",
       "     nfev: 5\n",
       "      nit: 0\n",
       "     njev: 1\n",
       "   status: 0\n",
       "  success: True\n",
       "        x: array([3.02e-04, 1.20e-06, 5.00e-07])"
      ]
     },
     "execution_count": 18,
     "metadata": {},
     "output_type": "execute_result"
    }
   ],
   "source": [
    "res = minimize(deviation_tot, x0=[3.02e-4, 1.2e-6, 5e-7])\n",
    "res"
   ]
  },
  {
   "cell_type": "code",
   "execution_count": 21,
   "metadata": {},
   "outputs": [],
   "source": [
    "def plot_cs(**kwargs):\n",
    "    rs = np.linspace(np.finfo(np.float32).resolution,12., 100)\n",
    "    Ls = np.zeros_like(rs)\n",
    "    \n",
    "    #scargs = {}\n",
    "    #for k, v in kwargs.items():\n",
    "    #    scargs[k] = v*10**scalings[k]\n",
    "    \n",
    "    for i, r in enumerate(rs):\n",
    "        try:\n",
    "            d = get_dev(r=r, **kwargs)\n",
    "        except:\n",
    "            Ls[i] = np.nan\n",
    "        else:\n",
    "            Ls[i] = d\n",
    "    fig, ax = plt.subplots()\n",
    "    line = ax.plot(rs, Ls)[0]\n",
    "    plt.title('Deviation vs radius')\n",
    "    plt.xlabel(r'$r_{in}$ [waists]')\n",
    "    plt.ylabel(r'$dev$ [mm]')\n",
    "    plt.show()"
   ]
  },
  {
   "cell_type": "code",
   "execution_count": 22,
   "metadata": {},
   "outputs": [
    {
     "data": {
      "application/vnd.jupyter.widget-view+json": {
       "model_id": "6dc6e912151d4c1d8f255c8f5608870c",
       "version_major": 2,
       "version_minor": 0
      },
      "text/plain": [
       "Canvas(toolbar=Toolbar(toolitems=[('Home', 'Reset original view', 'home', 'home'), ('Back', 'Back to previous …"
      ]
     },
     "metadata": {},
     "output_type": "display_data"
    }
   ],
   "source": [
    "plot_cs(c4=3.02e-04, c6=1.20e-06,  c8=5.00e-07)"
   ]
  },
  {
   "cell_type": "code",
   "execution_count": 122,
   "metadata": {},
   "outputs": [],
   "source": [
    "from scipy.optimize import differential_evolution"
   ]
  },
  {
   "cell_type": "code",
   "execution_count": 125,
   "metadata": {},
   "outputs": [
    {
     "data": {
      "application/vnd.jupyter.widget-view+json": {
       "model_id": "c1b484f040c3494c92b76a61f30bb273",
       "version_major": 2,
       "version_minor": 0
      },
      "text/plain": [
       "Canvas(toolbar=Toolbar(toolitems=[('Home', 'Reset original view', 'home', 'home'), ('Back', 'Back to previous …"
      ]
     },
     "metadata": {},
     "output_type": "display_data"
    }
   ],
   "source": [
    "plot_cs(c4=3.03930760e-04, c6=-2.38444797e-06,  c8=9.81242561e-07)"
   ]
  },
  {
   "cell_type": "code",
   "execution_count": 123,
   "metadata": {},
   "outputs": [
    {
     "data": {
      "text/plain": [
       "     fun: 5.807045234514024\n",
       "     jac: array([   63.55558391,   255.8605372 , -6085.85530655])\n",
       " message: 'Optimization terminated successfully.'\n",
       "    nfev: 923\n",
       "     nit: 14\n",
       " success: True\n",
       "       x: array([ 3.03930760e-04, -2.38444797e-06,  9.81242561e-07])"
      ]
     },
     "execution_count": 123,
     "metadata": {},
     "output_type": "execute_result"
    }
   ],
   "source": [
    "c4, c6, c8 = coeffc4(5.0), coeffc6(5.0), coeffc8(5.0)\n",
    "bounds = [(-2*c4,2*c4), (-2*c6,2*c6), (-2*c8,2*c8)]\n",
    "res2 = differential_evolution(deviation_tot, bounds)\n",
    "res2"
   ]
  },
  {
   "cell_type": "code",
   "execution_count": 61,
   "metadata": {},
   "outputs": [],
   "source": [
    "%load_ext snakeviz"
   ]
  },
  {
   "cell_type": "code",
   "execution_count": 87,
   "metadata": {},
   "outputs": [],
   "source": [
    "rs = np.linspace(np.finfo(np.float32).resolution,8., 100)\n",
    "Ls = np.zeros_like(rs)\n",
    "lcur = Ldeg\n",
    "for i, r in enumerate(rs):\n",
    "    try:\n",
    "        l = degeneracy_length_ray(cavfct, parname, r=r, scanrange=1e-1, La=lcur, c4=3.02e-4, c6=1.97e-6).x\n",
    "    except:\n",
    "        Ls[i] = np.nan\n",
    "    else:\n",
    "        Ls[i] = l\n",
    "        lcur = l\n",
    "\n",
    "idx = np.where(rs>7.)[0][0] #only for up to\n",
    "coef = np.polyfit(rs[:idx], Ls[:idx], deg=6)\n",
    "coef\n",
    "\n",
    "plt.figure()\n",
    "plt.plot(rs, Ls)\n",
    "plt.title('Degeneracy length vs radius')\n",
    "plt.xlabel(r'$r_{in}$ [waists]')\n",
    "plt.ylabel(r'$L_{deg}$ [mm]')\n",
    "plt.axhline(Ldeg, color='grey')\n",
    "plt.plot(rs, np.polyval(coef, rs), '--')\n",
    "plt.plot(rs, np.polyval(coef[4:], rs), '-.')\n",
    "plt.show()"
   ]
  },
  {
   "cell_type": "code",
   "execution_count": 63,
   "metadata": {},
   "outputs": [],
   "source": [
    "#%snakeviz degeneracy_length_ray(cavfct, parname, r=3.1, scanrange=1e-2, c4=2.9e-4, c6=1e-5)"
   ]
  },
  {
   "cell_type": "code",
   "execution_count": null,
   "metadata": {},
   "outputs": [],
   "source": [
    "plt.figure()\n",
    "plt.plot(rs, Ls)\n",
    "plt.title('Degeneracy length vs radius')\n",
    "plt.xlabel(r'$r_{in}$ [waists]')\n",
    "plt.ylabel(r'$L_{deg}$ [mm]')\n",
    "plt.axhline(Ldeg, color='grey')\n",
    "plt.plot(rs, np.polyval(coef, rs), '--')\n",
    "plt.plot(rs, np.polyval(coef[4:], rs), '-.')\n",
    "plt.show()\n",
    "\n",
    "def update():\n",
    "    rs = np.linspace(np.finfo(np.float32).resolution,8., 100)\n",
    "    Ls = np.zeros_like(rs)\n",
    "    lcur = Ldeg\n",
    "    for i, r in enumerate(rs):\n",
    "        try:\n",
    "            l = degeneracy_length_ray(cavfct, parname, r=r, scanrange=1e-2, La=lcur, c4=2.9e-4, c6=1e-5).x\n",
    "        except:\n",
    "            Ls[i] = np.nan\n",
    "        else:\n",
    "            Ls[i] = l\n",
    "            lcur = l\n",
    "    idx = np.where(rs>7.)[0][0] #only for up to\n",
    "    coef = np.polyfit(rs[:idx], Ls[:idx], deg=6)\n",
    "    \n",
    "        ars = FloatSlider(value=0.1, min=0., max=6., step=1e-2, readout_format='.3f', layout=lo)\n",
    "    brs = FloatSlider(value=0.1, min=0., max=6., step=1e-2, readout_format='.3f', layout=lo)"
   ]
  },
  {
   "cell_type": "code",
   "execution_count": null,
   "metadata": {},
   "outputs": [],
   "source": []
  },
  {
   "cell_type": "code",
   "execution_count": 21,
   "metadata": {},
   "outputs": [],
   "source": [
    "def degeneracy_par_ray(cavfct, parname, r=0, scanrange=1e-3, p0=None):\n",
    "    def get_dev(p, r):\n",
    "        elements = cavfct(**{parname: p})\n",
    "        sys = RaySystem(elements)\n",
    "        system = sys.abcd\n",
    "        mu1, mu2 = system.q\n",
    "        waist = waist0 #system.waist_at(0)[0] FIX\n",
    "        rmu = np.linalg.norm(np.real(mu2[:2]))\n",
    "        mu = np.real(r*waist/rmu*mu2)#np.real(r*mu2)\n",
    "        ray0 = sys.screen.eigenvectors_to_rays(mu)\n",
    "        traj_hit = sys.propagate(ray0, Nrt=30, at_screen=True)\n",
    "        hit_scr = sys.screen.r_to_screen_coords(traj_hit[:,0,0,:])\n",
    "        hit_1 = hit_scr[::3,:]\n",
    "        return np.var(hit_1, axis=0).sum()\n",
    "    if p0 is None:\n",
    "        p0 = inspect.signature(cavfct).parameters[parname].default\n",
    "    if not isinstance(scanrange, tuple):\n",
    "        scanrange = ((1-scanrange)*p0, (1+scanrange)*p0)\n",
    "    res = minimize_scalar(get_dev, bounds=scanrange, args=(r), method='bounded')\n",
    "    return res"
   ]
  },
  {
   "cell_type": "code",
   "execution_count": 22,
   "metadata": {},
   "outputs": [],
   "source": [
    "rs = np.linspace(np.finfo(np.float32).resolution,8., 100)\n",
    "Ps = np.zeros_like(rs)\n",
    "pcur = 0.\n",
    "for i, r in enumerate(rs):\n",
    "    try:\n",
    "        p = degeneracy_par_ray(cavfct, 'c4', r=r, scanrange=(0., 1e-2), p0=pcur).x\n",
    "    except:\n",
    "        Ps[i] = np.nan\n",
    "    else:\n",
    "        Ps[i] = p\n",
    "        #pcur = p"
   ]
  },
  {
   "cell_type": "code",
   "execution_count": 23,
   "metadata": {},
   "outputs": [
    {
     "data": {
      "application/vnd.jupyter.widget-view+json": {
       "model_id": "cf0427125aa44f7ebde177a8929c97fb",
       "version_major": 2,
       "version_minor": 0
      },
      "text/plain": [
       "Canvas(toolbar=Toolbar(toolitems=[('Home', 'Reset original view', 'home', 'home'), ('Back', 'Back to previous …"
      ]
     },
     "metadata": {},
     "output_type": "display_data"
    }
   ],
   "source": [
    "plt.figure()\n",
    "plt.plot(rs, Ps)\n",
    "plt.title('Optimal C4 coefficient vs radius')\n",
    "plt.xlabel(r'$r_{in}$ [waists]')\n",
    "plt.ylabel(r'$L_{deg}$ [mm]')\n",
    "#plt.axhline(Ldeg, color='grey')\n",
    "#plt.plot(rs, np.polyval(coef, rs), '--')\n",
    "plt.show()"
   ]
  },
  {
   "cell_type": "code",
   "execution_count": 24,
   "metadata": {
    "jupyter": {
     "source_hidden": true
    }
   },
   "outputs": [],
   "source": [
    "def plot_config(l=0., ar=0.0, br=0.0, ap=0., bp=0., Nrt=500, ms = 8., **kwargs):\n",
    "        fig, (ax, bx, cx) = plt.subplots(ncols=3, figsize=(11,3.3), sharex=True, sharey=True)\n",
    "        linea = ax.scatter([], [], c=[], cmap='jet', s=ms)\n",
    "        linec = cx.scatter([], [], c=[], cmap='jet', s=ms)\n",
    "        lineb = bx.scatter([], [], c=[], cmap='jet', s=ms)\n",
    "        ax.set_title('Raytracing')\n",
    "        bx.set_title('ABCD')\n",
    "        cx.set_title('ABCD (Extracted)')\n",
    "        plt.xlabel('x [mm]')\n",
    "        plt.ylabel('y [mm]')\n",
    "        kwargs.update({parname: l})\n",
    "        elements = cavfct(**kwargs)\n",
    "        sys = RaySystem(elements)\n",
    "        system = sys.abcd\n",
    "        mu1, mu2 = system.q\n",
    "        waist = system.waist_at(0)[0]\n",
    "        rmu1 = np.linalg.norm(np.real(mu1[:2]))\n",
    "        rmu2 = np.linalg.norm(np.real(mu2[:2]))\n",
    "        mu = np.real(ar*waist/rmu1*mu1*np.exp(1j*ap) + br*waist/rmu2*mu2*np.exp(1j*bp))\n",
    "        ray0 = sys.screen.eigenvectors_to_rays(mu)\n",
    " \n",
    "        traj_hit = sys.propagate(ray0, Nrt=Nrt, at_screen=True)\n",
    "        hit_scr = sys.screen.r_to_screen_coords(traj_hit[:,0,0,:])\n",
    "\n",
    "        linea.set_offsets(hit_scr[:,:])\n",
    "        linea.set_array(makeidx(hit_scr))\n",
    "        \n",
    "        hit_m = propagate_ABCD(mu, system.abcd_rt, Nrt=Nrt)\n",
    "        lineb.set_offsets(hit_m[:,0:2])\n",
    "        lineb.set_array(makeidx(hit_m))\n",
    "        \n",
    "        #abcd_fd = sys.extract_ABCD(epsr=1e-4, epss=1e-4, Nrt=1) \n",
    "        #hit_fd = propagate_ABCD(mu, abcd_fd, Nrt=Nrt)\n",
    "        #linec.set_offsets(hit_fd[:,0:2])\n",
    "        #linec.set_array(makeidx(hit_fd))\n",
    "        \n",
    "        linea.set_clim(vmin=0, vmax=Nrt)\n",
    "        lineb.set_clim(vmin=0, vmax=Nrt)\n",
    "        linec.set_clim(vmin=0, vmax=Nrt)\n",
    "            \n",
    "        ax.set_xlim(1.5*np.nanmin(hit_scr[:,0]), 1.5*np.nanmax(hit_scr[:,0]))\n",
    "        ax.set_ylim(1.5*np.nanmin(hit_scr[:,1]), 1.5*np.nanmax(hit_scr[:,1]))\n",
    "        return fig"
   ]
  },
  {
   "cell_type": "code",
   "execution_count": 26,
   "metadata": {},
   "outputs": [
    {
     "data": {
      "application/vnd.jupyter.widget-view+json": {
       "model_id": "df87c384669e43d484bdb8832acd0e2b",
       "version_major": 2,
       "version_minor": 0
      },
      "text/plain": [
       "Canvas(toolbar=Toolbar(toolitems=[('Home', 'Reset original view', 'home', 'home'), ('Back', 'Back to previous …"
      ]
     },
     "metadata": {},
     "output_type": "display_data"
    }
   ],
   "source": [
    "rw = 5.\n",
    "interp=True\n",
    "if interp:\n",
    "    lw = np.polyval(coef, rw)\n",
    "else:\n",
    "    idx = np.where(rs>rw)[0][0]\n",
    "    lw = Ls[idx]\n",
    "    rw = rs[idx]\n",
    "f = plot_config(l=lw, br=rw, Nrt=500, ms=4, c4=0.416e-2)\n",
    "f.show()"
   ]
  },
  {
   "cell_type": "code",
   "execution_count": 117,
   "metadata": {},
   "outputs": [],
   "source": [
    "plt.close(\"all\")"
   ]
  },
  {
   "cell_type": "markdown",
   "metadata": {},
   "source": [
    "## Eigenray"
   ]
  },
  {
   "cell_type": "code",
   "execution_count": 65,
   "metadata": {},
   "outputs": [],
   "source": [
    "def plot_config_ray(mu, l=0., Nrt=500, ms = 8., **kwargs):\n",
    "        fig, (ax, bx, cx) = plt.subplots(ncols=3, figsize=(11,3.3), sharex=True, sharey=True)\n",
    "        linea = ax.scatter([], [], c=[], cmap='jet', s=ms)\n",
    "        linec = cx.scatter([], [], c=[], cmap='jet', s=ms)\n",
    "        lineb = bx.scatter([], [], c=[], cmap='jet', s=ms)\n",
    "        ax.set_title('Raytracing')\n",
    "        bx.set_title('ABCD')\n",
    "        cx.set_title('ABCD (Extracted)')\n",
    "        plt.xlabel('x [mm]')\n",
    "        plt.ylabel('y [mm]')\n",
    "        elements = cavfct(**{parname: l})\n",
    "        sys = RaySystem(elements)\n",
    "        ray0 = sys.screen.eigenvectors_to_rays(mu)\n",
    "\n",
    "        traj_hit = sys.propagate(ray0, Nrt=Nrt, at_screen=True)\n",
    "        hit_scr = sys.screen.r_to_screen_coords(traj_hit[:,0,0,:])\n",
    "\n",
    "        linea.set_offsets(hit_scr[:,:])\n",
    "        linea.set_array(makeidx(hit_scr))\n",
    "        \n",
    "        hit_m = propagate_ABCD(mu, system.abcd_rt, Nrt=Nrt)\n",
    "        lineb.set_offsets(hit_m[:,0:2])\n",
    "        lineb.set_array(makeidx(hit_m))\n",
    "        \n",
    "        abcd_fd = sys.extract_ABCD(epsr=1e-4, epss=1e-4, Nrt=1) \n",
    "        hit_fd = propagate_ABCD(mu, abcd_fd, Nrt=Nrt)\n",
    "        linec.set_offsets(hit_fd[:,0:2])\n",
    "        linec.set_array(makeidx(hit_fd))\n",
    "        \n",
    "        linea.set_clim(vmin=0, vmax=Nrt)\n",
    "        lineb.set_clim(vmin=0, vmax=Nrt)\n",
    "        linec.set_clim(vmin=0, vmax=Nrt)\n",
    "            \n",
    "        ax.set_xlim(1.5*np.nanmin(hit_scr[:,0]), 1.5*np.nanmax(hit_scr[:,0]))\n",
    "        ax.set_ylim(1.5*np.nanmin(hit_scr[:,1]), 1.5*np.nanmax(hit_scr[:,1]))\n",
    "        return fig"
   ]
  },
  {
   "cell_type": "code",
   "execution_count": 74,
   "metadata": {},
   "outputs": [
    {
     "name": "stdout",
     "output_type": "stream",
     "text": [
      "Finished in 49 steps, reached tol 5.473e-05\n",
      "Finished in 49 steps, reached tol 2.166e-09\n",
      "Finished in 49 steps, reached tol 4.613e-08\n",
      "Finished in 49 steps, reached tol 3.327e-08\n",
      "Finished in 49 steps, reached tol 3.617e-08\n"
     ]
    },
    {
     "data": {
      "text/plain": [
       "array([[ 6.07047033e-05,  7.65926464e-05, -1.10603097e-04,\n",
       "        -3.29846840e-04]])"
      ]
     },
     "execution_count": 74,
     "metadata": {},
     "output_type": "execute_result"
    }
   ],
   "source": [
    "#mu = np.array([5e-3, 0., 0, 0])\n",
    "system = sys.abcd\n",
    "mu1, mu2 = system.q\n",
    "waist = system.waist_at(0)[0]\n",
    "rmu = np.linalg.norm(np.real(mu2[:2]))\n",
    "r = 5e-3\n",
    "mu = np.real(r*waist/rmu*mu2)\n",
    "ray0 = sys.screen.eigenvectors_to_rays(mu)\n",
    "lr = np.zeros((2, 1, 3))\n",
    "#lr[1,:,:] = 0.05\n",
    "lr = 0.05\n",
    "#reig = sys.find_eigenray(ray0, lr=lr, Nrt=30, debug=True)\n",
    "reig = sys.find_eigenray_mpe(ray0, lr=lr, Nrt=30, debug=True)\n",
    "mueig = sys.screen.rays_to_eigenvectors(reig)\n",
    "mueig"
   ]
  },
  {
   "cell_type": "code",
   "execution_count": 75,
   "metadata": {},
   "outputs": [
    {
     "name": "stderr",
     "output_type": "stream",
     "text": [
      "C:\\ProgramData\\Anaconda3\\lib\\site-packages\\ipykernel_launcher.py:2: RuntimeWarning: More than 20 figures have been opened. Figures created through the pyplot interface (`matplotlib.pyplot.figure`) are retained until explicitly closed and may consume too much memory. (To control this warning, see the rcParam `figure.max_open_warning`).\n",
      "  \n"
     ]
    },
    {
     "data": {
      "application/vnd.jupyter.widget-view+json": {
       "model_id": "be91039812c24aa0997bf83ed5672316",
       "version_major": 2,
       "version_minor": 0
      },
      "text/plain": [
       "Canvas(toolbar=Toolbar(toolitems=[('Home', 'Reset original view', 'home', 'home'), ('Back', 'Back to previous …"
      ]
     },
     "metadata": {},
     "output_type": "display_data"
    }
   ],
   "source": [
    "f = plot_config_ray(np.squeeze(mueig), Ldeg)\n",
    "f.show()"
   ]
  },
  {
   "cell_type": "code",
   "execution_count": 81,
   "metadata": {},
   "outputs": [],
   "source": [
    "def degeneracy_length_eigenray(cavfct, parname, r=0, scanrange=1e-3, La=None):\n",
    "    def get_dev(l, r):\n",
    "        elements = cavfct(**{parname: l})\n",
    "        sys = RaySystem(elements)\n",
    "        system = sys.abcd\n",
    "        mu1, mu2 = system.q\n",
    "        waist = system.waist_at(0)[0]\n",
    "        rmu = np.linalg.norm(np.real(mu2[:2]))\n",
    "        mu = np.real(r*waist/rmu*mu2)\n",
    "        ray0 = sys.screen.eigenvectors_to_rays(mu)\n",
    "        lr = 0.05\n",
    "        reig = sys.find_eigenray(ray0, lr=lr, Nrt=3, debug=False)\n",
    "        #reig = sys.find_eigenray_mpe(ray0, lr=lr, Nrt=30, debug=False)\n",
    "        mueig = sys.screen.rays_to_eigenvectors(reig)\n",
    "        \n",
    "        ray1 = sys.screen.eigenvectors_to_rays(mu)\n",
    "        traj_hit = sys.propagate(ray1, Nrt=30, at_screen=True)\n",
    "        hit_scr = sys.screen.r_to_screen_coords(traj_hit[:,0,0,:])\n",
    "        hit_1 = hit_scr[::3,:]\n",
    "        return np.var(hit_1, axis=0).sum()\n",
    "    if La is None:\n",
    "        La = inspect.signature(cavfct).parameters[parname].default\n",
    "    res = minimize_scalar(get_dev, bounds=((1-scanrange)*La, (1+scanrange)*La), args=(r,), method='bounded')\n",
    "    return res"
   ]
  },
  {
   "cell_type": "code",
   "execution_count": 82,
   "metadata": {},
   "outputs": [
    {
     "data": {
      "text/plain": [
       "     fun: 2.020474060964267e-08\n",
       " message: 'Solution found.'\n",
       "    nfev: 10\n",
       "  status: 0\n",
       " success: True\n",
       "       x: 21.506287396753475"
      ]
     },
     "execution_count": 82,
     "metadata": {},
     "output_type": "execute_result"
    }
   ],
   "source": [
    "degeneracy_length_eigenray(cavfct, parname, r=1e-3, scanrange=1e-3, La=Ldeg)"
   ]
  },
  {
   "cell_type": "code",
   "execution_count": 83,
   "metadata": {},
   "outputs": [],
   "source": [
    "rs = np.linspace(0,8., 100)\n",
    "Ls = np.zeros_like(rs)\n",
    "lcur = Ldeg\n",
    "for i, r in enumerate(rs):\n",
    "    try:\n",
    "        l = degeneracy_length_eigenray(cavfct, parname, r=r, scanrange=1e-2, La=lcur).x\n",
    "    except:\n",
    "        Ls[i] = np.nan\n",
    "    else:\n",
    "        Ls[i] = l\n",
    "        lcur = l"
   ]
  },
  {
   "cell_type": "code",
   "execution_count": 84,
   "metadata": {},
   "outputs": [
    {
     "data": {
      "text/plain": [
       "array([-2.43816029e-04,  2.60880858e-03, -2.34249747e-02,  1.36223586e-02,\n",
       "        2.15193646e+01])"
      ]
     },
     "execution_count": 84,
     "metadata": {},
     "output_type": "execute_result"
    }
   ],
   "source": [
    "idx = np.where(rs>5.)[0][0] #only for up to\n",
    "coef = np.polyfit(rs[:idx], Ls[:idx], deg=4)\n",
    "coef"
   ]
  },
  {
   "cell_type": "code",
   "execution_count": 85,
   "metadata": {},
   "outputs": [
    {
     "name": "stderr",
     "output_type": "stream",
     "text": [
      "C:\\ProgramData\\Anaconda3\\lib\\site-packages\\ipykernel_launcher.py:1: RuntimeWarning: More than 20 figures have been opened. Figures created through the pyplot interface (`matplotlib.pyplot.figure`) are retained until explicitly closed and may consume too much memory. (To control this warning, see the rcParam `figure.max_open_warning`).\n",
      "  \"\"\"Entry point for launching an IPython kernel.\n"
     ]
    },
    {
     "data": {
      "application/vnd.jupyter.widget-view+json": {
       "model_id": "609fa42e42b641dcba058733d986e136",
       "version_major": 2,
       "version_minor": 0
      },
      "text/plain": [
       "Canvas(toolbar=Toolbar(toolitems=[('Home', 'Reset original view', 'home', 'home'), ('Back', 'Back to previous …"
      ]
     },
     "metadata": {},
     "output_type": "display_data"
    }
   ],
   "source": [
    "plt.figure()\n",
    "plt.plot(rs, Ls)\n",
    "plt.title('Degeneracy length vs radius')\n",
    "plt.xlabel(r'$r_{in}$ [waists]')\n",
    "plt.ylabel(r'$L_{deg}$ [mm]')\n",
    "plt.axhline(Ldeg, color='grey')\n",
    "plt.plot(rs, np.polyval(coef, rs), '--')\n",
    "plt.show()"
   ]
  },
  {
   "cell_type": "code",
   "execution_count": 87,
   "metadata": {},
   "outputs": [
    {
     "name": "stderr",
     "output_type": "stream",
     "text": [
      "C:\\ProgramData\\Anaconda3\\lib\\site-packages\\ipykernel_launcher.py:2: RuntimeWarning: More than 20 figures have been opened. Figures created through the pyplot interface (`matplotlib.pyplot.figure`) are retained until explicitly closed and may consume too much memory. (To control this warning, see the rcParam `figure.max_open_warning`).\n",
      "  \n"
     ]
    },
    {
     "data": {
      "application/vnd.jupyter.widget-view+json": {
       "model_id": "5b22099d247945a9b765fccbc78ee84f",
       "version_major": 2,
       "version_minor": 0
      },
      "text/plain": [
       "Canvas(toolbar=Toolbar(toolitems=[('Home', 'Reset original view', 'home', 'home'), ('Back', 'Back to previous …"
      ]
     },
     "metadata": {},
     "output_type": "display_data"
    }
   ],
   "source": [
    "rw = 5.5\n",
    "interp=False\n",
    "if interp:\n",
    "    lw = np.polyval(coef, rw)\n",
    "else:\n",
    "    idx = np.where(rs>rw)[0][0]\n",
    "    lw = Ls[idx]\n",
    "    rw = rs[idx]\n",
    "f = plot_config(l=lw, br=rw, Nrt=500, ms=4)\n",
    "f.show()"
   ]
  },
  {
   "cell_type": "code",
   "execution_count": null,
   "metadata": {},
   "outputs": [],
   "source": []
  }
 ],
 "metadata": {
  "kernelspec": {
   "display_name": "Python 3",
   "language": "python",
   "name": "python3"
  },
  "language_info": {
   "codemirror_mode": {
    "name": "ipython",
    "version": 3
   },
   "file_extension": ".py",
   "mimetype": "text/x-python",
   "name": "python",
   "nbconvert_exporter": "python",
   "pygments_lexer": "ipython3",
   "version": "3.7.6"
  }
 },
 "nbformat": 4,
 "nbformat_minor": 4
}
